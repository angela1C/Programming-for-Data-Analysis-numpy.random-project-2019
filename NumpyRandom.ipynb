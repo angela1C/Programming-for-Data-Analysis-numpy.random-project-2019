{
 "cells": [
  {
   "cell_type": "markdown",
   "metadata": {},
   "source": [
    "# Programming for Data Analysis Assignment 2019\n",
    "\n",
    "The assignment concerns the `numpy.random` package in Python.\n",
    "Explain the use of the package including detailed explanations of at least five of the distributions provided for in the package.\n",
    "There are four distinct task to be carried out in the Jupyter Notebook.\n",
    "1. Explain the overall purpose of the package.\n",
    "2. Explain the use of the “Simple random data” and “Permutations” functions. \n",
    "3. Explain the use and purpose of at least five “Distributions” functions.\n",
    "4. Explain the use of seeds in generating pseudorandom numbers.\n",
    "***\n",
    "\n",
    "The aim of the assignment is to be able to give a good overview of the numpy.random functions in our own words without rehashing the documentation. All of the functions return random value or values in some shape or form. They just generate different random numbers according to different probabilities over different intervals.\n",
    "\n",
    "A mixture of plots and statistics can be used to show the differences between the types of random numbers that would be generated from the different probability distributions."
   ]
  },
  {
   "cell_type": "markdown",
   "metadata": {},
   "source": [
    "<a id='toc'></a>\n",
    "# Table of contents\n",
    "\n",
    "\n",
    "- [Python tools used for this assignment](#tools)\n",
    "- [Task 1: Explain the overall purpose of the package](#task1)\n",
    "- [Task 2: Explain the use of the Simple random data and Permutations functions.](#task2)\n",
    "    - [Simple random data functions](#task2.1)\n",
    "    - [Permutations Functions](#task2.2)\n",
    "- [Task 3: Explain the use and purpose of at least five “Distributions” functions](#task3)\n",
    "- [Task 4: Explain the use of seeds in generating pseudorandom numbers](#task4)\n",
    "5. [References](#references)\n",
    "  \n",
    "***"
   ]
  },
  {
   "cell_type": "markdown",
   "metadata": {},
   "source": [
    "<a id='tools'></a>\n",
    "\n",
    "### Package and documentation versions.\n",
    "Version 1.16.2 is the version of NumPy that I am working with so the documentation I am referring to is the [NumPy Reference 1.16](https://numpy.org/doc/1.16/reference/index.html#numpy-reference) manual. This details functions, modules, and objects included in NumPy, describing what they are and what they do. It contains detailed reference documentation of the functions and classes contained in the NumPy package. \n",
    "***\n",
    "\n",
    "### Jupyter notebook settings\n",
    "In order to get the output of multiple python statements to print, instead of just the last statement in a cell, you can change the settings as per the [jupyter notebook tips, tricks and shortcuts blogpost by dataquest](https://www.dataquest.io/blog/jupyter-notebook-tips-tricks-shortcuts/).\n",
    "\n",
    "If the notebook doesn't render on GitHub as happens from time to time, copy the url into the [Jupyter nbviewer](https://nbviewer.jupyter.org).\n",
    "***\n"
   ]
  },
  {
   "cell_type": "markdown",
   "metadata": {},
   "source": [
    "<a id='libraries'></a>\n",
    "### Import python libraries\n",
    "To run this notebook the following some python libraries must be imported."
   ]
  },
  {
   "cell_type": "code",
   "execution_count": 1,
   "metadata": {},
   "outputs": [],
   "source": [
    "\n",
    "import numpy as np\n",
    "import pandas as pd\n",
    "import seaborn as sns\n",
    "import matplotlib.pyplot as plt\n",
    "\n",
    "np.set_printoptions(formatter={'float': lambda x: \"{0:6.3f}\".format(x)})\n",
    "\n",
    "# To display all the output in each cell instead of just the statement, run these two lines\n",
    "#from IPython.core.interactiveshell import InteractiveShell\n",
    "#InteractiveShell.ast_node_interactivity = \"all\"  # "
   ]
  },
  {
   "cell_type": "code",
   "execution_count": null,
   "metadata": {},
   "outputs": [],
   "source": [
    "#np.version.version  # check what version of numpy and other packages I have installed.\n",
    "print(np.__version__)  # '1.16.2'\n",
    "print(pd.__version__)\n",
    "print(sns.__version__)"
   ]
  },
  {
   "cell_type": "markdown",
   "metadata": {},
   "source": [
    "<a id='task1'></a>\n",
    "# 1. Explain the overall purpose of the package numpy.random\n",
    "\n",
    "\n",
    "**NumPy**, short for Numerical Python, is one of the most important foundational packages for numerical computing in Python and many other packages that are used for data analytics and machine learning are built on NumPy.   \n",
    "\n",
    "[W3resource](https://www.w3resource.com/numpy/index.php) describes NumPy as the \n",
    "> fundamental package for scientific computing in Python. It is a Python library that provides a multidimensional array object, various derived objects (such as masked arrays and matrices), and an assortment of routines for fast operations on arrays, including mathematical, logical, shape manipulation, sorting, selecting, I/O, discrete Fourier transforms, basic linear algebra, basic statistical operations, random simulation and much more. \n",
    "\n",
    "**NumPy.random** is a sub-package of **NumPy** containing many functions for the generation of random numbers. It is somewhat similar to the Python standard library **Random** module but with functions that work for NumPy's arrays. It has many functions for creating arrays of random numbers from the various statisitical probability distributions along with functions for randomly sampling from arrays. \n",
    "\n",
    "NumPy can also be used to simulate data. While csv data is commonly imported into NumPy for analysis (or into a package such as pandas that uses NumPy), it is often useful to be able to simulate data to analyse before the real data may be collected or available. \n",
    "  \n",
    "NumPy **ndarray** can be created using the NumPy `array` function which takes any sequence-like objects such as lists, nested lists etc but there are other NumPy functions that also create new arrays such as `zeros`, `ones`, `empty`, `arange`, `full` and `eye` among others as detailed in the [numpy quickstart tutorial](https://numpy.org/devdocs/user/quickstart.html). NumPy's **random** module also creates ndarray objects.\n",
    "\n",
    "Some key points about any of NumPy's ndarray objects which are relevant here are:\n",
    "- The data in an *ndarray* must be homogeneous, that is all of it's data elements must of the same type.\n",
    "- Arrays have a *ndim* attribute for the number of axes or dimensions of the array\n",
    "- Arrays have a *shape* attribute which is a tuple that indicates the size of the array in each dimension.\n",
    "  The length of the *shape* tupple is the number of axes that the array has. \n",
    "- Arrays have a *dtype* attribute which is an object that describes the data type of the array.\n",
    "- The `size` attribute is the total number of elements in the array.\n",
    "\n",
    "Python's standard library [random](https://docs.python.org/3/library/random.html) provides a number of tools for working with random numbers. However this `random` module only generates or samples one value at a time and iteration is required  for working with sequences of random numbers while on the other hand the `numpy.random`'s functions can efficiently generate arrays of sample values from various probability distributions rather than one value at a time. NumPy's random module is much much faster and more efficient than python's random module for this purpose particularly when working with larger arrays.\n",
    "NumPy's random module is used for generating random series of data rather than the scalar values generated by the python random module whereas the random module may be sufficient and more efficient for other simpler purposes.\n",
    "\n",
    "Given an input array of elements, NumPy's random functions will allow you to select a random sample of elements from the array or generate sequences of random numbers.\n",
    "\n",
    "Both Python's standard library **random** and **numpy.randon**  generate pseudorandom numbers rather than actual random numbers. Computer programs are deterministic because their operation is predictable and repeatable.  Computer programs produce outputs based on inputs and according to a set of predetermined steps or rules so therefore it would not be possible for a computer to generate truly random numbers.\n",
    "Both `random` modules implements **pseudorandom** numbers for various distributions. While they may appear random they are actually predetermined.\n",
    "\n",
    "(Python uses the **Mersenne Twister** as the core generator. The Mersenne Twister is one of the most extensively tested random number generators in existence. According to [wikipedia](https://en.m.wikipedia.org/wiki/Mersenne_Twister), the Mersenne Twister is by far the most widely used general-purpose pseudorandom number generator PRNG whose name derives from the fact that its period length is chosen to be a Mersenne prime (a prime number that is one less than a power of two. That is, it is a prime number of the form Mn = 2n − 1 for some integer n.).)\n",
    "\n",
    "According to [wolfram mathworld](http://mathworld.wolfram.com/RandomNumber.html) a **random number** \n",
    ">is a number chosen as if by chance from some specified distribution such that selection of a large set of these numbers reproduces the underlying distribution. Almost always, such numbers are also required to be independent, so that there are no correlations between successive numbers. Computer-generated random numbers are sometimes called pseudorandom numbers, while the term \"random\" is reserved for the output of unpredictable physical processes. When used without qualification, the word \"random\" usually means \"random with a uniform distribution.\" Other distributions are of course possible.\n",
    "\n",
    "Being able to randomly select elements has many uses in computer applications such as gaming. \n",
    "There are many computational and statistical methods that use random numbers and random sampling. \n",
    "The ability to generate sets of numbers from a particular probability distribution is also very useful for simulating a dataset, maybe in the absence of an actual dataset or for demonstrating or learning statistical and analytical concepts. Statistics and probability involve the concept of randomness and uncertainty. Monte carlo simulation uses random numbers to simulate real world problems. [Monte Carlo methods](https://en.m.wikipedia.org/wiki/Monte_Carlo_method), or Monte Carlo experiments, are a broad class of computational algorithms that rely on repeated random sampling to obtain numerical results. The underlying concept is to use randomness to solve problems that might be deterministic in principle.\n",
    "[Monte-carlo simulators](https://pythonprogramming.net/monte-carlo-simulator-python/) are often used to assess the risk of a given trading strategy say with options or stocks. A monte carlo simulator can help one visualize most or all of the potential outcomes to have a much better idea regarding the risk of a decision.\n",
    "\n",
    "Data Analytics and Machine learning projects frequently rely on creating random samples of a datasets for testing and evaluation purposes. \n",
    "A learning problem considers a set of samples of data and then tries to predict properties of unknown data. \n",
    "\n",
    "According to [scikit-learn](https://scikit-learn.org/stable/tutorial/basic/tutorial.html).\n",
    "> Machine learning is about learning some properties of a data set and then testing those properties against another data set. A common practice in machine learning is to evaluate an algorithm by splitting a data set into two. We call one of those sets the training set, on which we learn some properties; we call the other set the testing set, on which we test the learned properties.\n",
    "\n",
    "In machine learning, a dataset can be split into training and test set where the dataset is shuffled and a classifier is built with a randomly selected subset of the dataset and the classifier is then tested on the remaining subset of the data. A train-test split is used for model selection and cross validation purposes.\n",
    "\n",
    "The machine learning algorithms in the scikit-learn package use *numpy.random* in the background. There is a random element to the train_test split as it uses numpy random to randomly choose elements for the training array and the test array.\n",
    "With K-fold validation the original dataset is split into a training subset and a testing subset a few different times instead of a one-off.\n"
   ]
  },
  {
   "cell_type": "code",
   "execution_count": null,
   "metadata": {},
   "outputs": [],
   "source": []
  },
  {
   "cell_type": "markdown",
   "metadata": {},
   "source": [
    "<a id='task2'></a>\n",
    "# 2. Explain the use of the “Simple random data” and “Permutations” functions.\n",
    "\n",
    "The Numpy random module has ten simple data functions for random sampling of both discrete and continuous data. It also has two permutations function for shuffling arrays of numbers or otherwise. They functions are used to generate pseudo-random numbers from a range and to randomly select numbers or other items from a sequence.\n",
    "\n",
    "The ten [simple random data](https://numpy.org/doc/1.16/reference/routines.random.html#simple-random-data) functions listed under the [Random Sampling (numpy.random)](https://docs.scipy.org/doc/numpy-1.16.1/reference/routines.random.html#random-sampling-numpy-random.) of the NumPy documentation are for the random sampling of both discrete and continuous data from the uniform, normal or standard normal probability distributions. \n",
    "\n",
    "These functions return arrays of random values. The shape of the array and the number of elements can be specified in each of the functions, without doing so will usually return a scalar for these functions. \n",
    "\n",
    "(See the appendix for the list of functions)\n",
    "\n",
    "Some of these simple random data functions are actually just variants of the distribution functions for the uniform and normal distributions which are detailed in Task 3 below. \n",
    "\n",
    "I have separated the simple random data functions into groups according to the type of distribution. Some of the functions appear to do the same thing.\n",
    "\n",
    "## Simple random data functions\n",
    "- [Random samples from the Standard Normal Distribution - floats](#randn)    \n",
    "- [For random samples from $N(\\mu, \\sigma^2)$ distributions - floats](#mu-sigma)  \n",
    "- [Random Floating Numbers from the Continuous Uniform Distribution in $[0,1)$ interval](#uniform01)  \n",
    "- [Random Floating Numbers from the Continuous Uniform Distribution  $Unif[a,b),b>a$](#uniform[a,b))  \n",
    "- [Random integers from the Discrete Uniform Distribution](#randint)  \n",
    "- [Generate a random sample from a given array of elements](#choice)  \n",
    "- [Generate a string of random bytes](#bytes)  \n",
    "\n",
    "## Permutations functions\n",
    "- [Modify a sequence in-place by shuffling it's contents](#shuffle)\n",
    "- [Randomly permute a sequence](#permutation)  \n",
    "\n",
    "\n",
    "The size and shape of the returned arrays depend on the arguments provided to the functions. The size is the number of elements in the array and the shape is the size of each dimension of the array.\n",
    "As with numpy arrays in general, every row has the same number of elements and every columns has the same number of elements. There can be different number of rows as columns.\n",
    "In uniform distributions the samples are evenly spread out while normal distributions show central tendancy."
   ]
  },
  {
   "cell_type": "markdown",
   "metadata": {},
   "source": [
    "<a id='task2.1'></a>\n",
    "***\n",
    "# Simple random data functions"
   ]
  },
  {
   "cell_type": "markdown",
   "metadata": {},
   "source": [
    "***\n",
    "## Random Floats from the Standard Normal Distribution $N (0,1)$\n",
    "<a id='randn'></a>\n",
    "The **`numpy.random.randn()`** function will return a sample (or samples) of random values from the **standard normal distribution** which has a mean 0 and a variance (and standard deviation) of 1. The standard normal distribution is also known as the Gaussian distribution.\n",
    "This function returns either a single value or a numpy array containing random floats sampled from a univariate “normal” distribution of mean 0 and variance 1.\n",
    "\n",
    "The dimensions of the resulting array depends on the arguments passed to the function.  A single float randomly sampled from the distribution is returned if no argument is provided.   \n",
    "\n",
    "The **`numpy.random.randn()`** is actually a convenience function **`numpy.random.standard_normal`** function which is used to draw samples from a **Standard Normal distribution** (mean=0, stdev=1). The only difference I can see is that the `numpy.random.standard_normal` takes a tuple.\n",
    "\n",
    "You can also get random samples from other normal distributions with a specified mean and variance $N(\\mu, \\sigma^2)$ by scaling the values. This is done by multiplying the values by $\\sigma$ and adding $\\mu$.   \n",
    "(The standard deviation $\\sigma$ is the square root of the variance $\\sigma^2$.)\n",
    "***\n",
    "\n",
    "See [numpy.random.standard_normal](#standard_normal) distribution function for more details on the standard normal distribution functions."
   ]
  },
  {
   "cell_type": "markdown",
   "metadata": {},
   "source": [
    "Here I will create various sized arrays using `numpy.random.randn` function.\n",
    "\n",
    "Without specifying the size a single float value will be returned. The arguments can only be positive integers.\n",
    "If two arguments are provided then the returned ndarray will have two dimensions. The number of elements ort the size of the returned array will be the product of these two values.\n",
    "\n",
    "I have written a small function below to print the array attributes rather than repeating myself over and over!\n",
    "I will use my function `arrayinfo` to print the resulting arrays with their dimensions.\n"
   ]
  },
  {
   "cell_type": "code",
   "execution_count": 2,
   "metadata": {},
   "outputs": [],
   "source": [
    "def arrayinfo(myarray):  # pass the array to the function to print the attributes\n",
    "    \"\"\"print the attributes of the numpy array passed to this function\"\"\"\n",
    "    \n",
    "    print(f\"A {myarray.ndim} dimensional array, with a total number of {myarray.size} {myarray.dtype} elements in  a{myarray.shape} shape \")\n",
    "    print('The values sampled range from the smallest value of %.3f, to the largest value of %.3f' % (np.min(myarray),np.max(myarray)))\n",
    "    print('The mean of the samples is %.3f, Standard Deviation is %.3f, and Variance is %.3f' % (np.mean(myarray), np.std(myarray), np.var(myarray)))\n",
    "    print('\\n')\n",
    "    #return myarray  # don't want to print it out"
   ]
  },
  {
   "cell_type": "code",
   "execution_count": 3,
   "metadata": {},
   "outputs": [
    {
     "name": "stdout",
     "output_type": "stream",
     "text": [
      "A 1 dimensional array, with a total number of 10 float64 elements in  a(10,) shape \n",
      "The values sampled range from the smallest value of -2.049, to the largest value of 1.727\n",
      "The mean of the samples is -0.109, Standard Deviation is 1.275, and Variance is 1.626\n",
      "\n",
      "\n",
      "A 2 dimensional array, with a total number of 15 float64 elements in  a(5, 3) shape \n",
      "The values sampled range from the smallest value of -1.298, to the largest value of 1.889\n",
      "The mean of the samples is 0.546, Standard Deviation is 0.878, and Variance is 0.771\n",
      "\n",
      "\n",
      "A 3 dimensional array, with a total number of 8 float64 elements in  a(2, 2, 2) shape \n",
      "The values sampled range from the smallest value of -1.680, to the largest value of 2.641\n",
      "The mean of the samples is -0.108, Standard Deviation is 1.225, and Variance is 1.501\n",
      "\n",
      "\n"
     ]
    }
   ],
   "source": [
    "arrayinfo(np.random.randn(10))  # creates a one dimensional array of 10 values\n",
    "#arrayinfo(np.random.randn(3,2)) # a 3 by 2 array of samples from standard normal distribution. This will have 3 times 2 value\n",
    "arrayinfo(np.random.randn(5,3))# a 5 by 3 array with 15 values\n",
    "arrayinfo(np.random.randn(2,2,2)) # a 3D array containing 2*2*2 = 8 values\n",
    "#arrayinfo(np.random.randn(2,2,2,2)) # a 4D array containing 2*2*2*2 = 16 values\n"
   ]
  },
  {
   "cell_type": "markdown",
   "metadata": {},
   "source": [
    "<a id=\"mu-sigma\"></a>\n",
    "## Random samples from the $N(\\mu, \\sigma^2)$ Distribution\n",
    "You can get random samples from a normal distribution with a mean $\\mu$ and variance $\\sigma^2$ for a $N(\\mu, \\sigma^2)$ distribution by scaling the values from the `numpy.random.randn` function. Multiply the values by $\\sigma$ and add $\\mu$.   \n",
    "\n",
    "For example:"
   ]
  },
  {
   "cell_type": "code",
   "execution_count": 32,
   "metadata": {},
   "outputs": [
    {
     "name": "stdout",
     "output_type": "stream",
     "text": [
      "A 2 dimensional array, with a total number of 8 float64 elements in  a(2, 4) shape \n",
      "The values sampled range from the smallest value of -1.902, to the largest value of 4.693\n",
      "The mean of the samples is 1.506, Standard Deviation is 1.877, and Variance is 3.522\n",
      "\n",
      "\n"
     ]
    },
    {
     "data": {
      "text/plain": [
       "array([[ 3.247,  2.707, -1.902,  0.636],\n",
       "       [ 0.739,  0.998,  4.693,  0.933]])"
      ]
     },
     "execution_count": 32,
     "metadata": {},
     "output_type": "execute_result"
    }
   ],
   "source": [
    "# A 2 by 4 array of samples from N(3, 6.25) distribution:  \n",
    "x = 2.5 * np.random.randn(2, 4) + 3\n",
    "\n",
    "arrayinfo(x)\n",
    "x"
   ]
  },
  {
   "cell_type": "markdown",
   "metadata": {},
   "source": [
    "The Python standard library `random` package has a `gauss()` function which is used to sample random floats from a gaussian distribution. Unlike the `numpy.random.randn()` or `numpy.numpy.random.standard_normal` you do need to supply the parameters here for the mean and the standard deviation of the distribution from which the random values will be drawn. Here I use a loop to generate the sequence of random numbers, unlike numpy.random function which is a one liner. "
   ]
  },
  {
   "cell_type": "code",
   "execution_count": null,
   "metadata": {},
   "outputs": [],
   "source": [
    "import random # import random module from python standard library\n",
    "myseq =[] # create an empty list\n",
    "for i in range(10):  ## use a loop to generate a sequence of random numbers\n",
    "    random_gauss = round(random.gauss(0,1),3) # mean is 0, standard deviation is 10\n",
    "    myseq.append(random_gauss)\n",
    "print(*myseq, sep = \", \") # print elements of the list without the brackets"
   ]
  },
  {
   "cell_type": "markdown",
   "metadata": {},
   "source": [
    "[Back to top](#toc)\n",
    "<a id='uniform01'></a>\n",
    "***\n",
    "## Random samples of floats from the continuous Uniform Distribution in the half-open interval $[0.0, 1.0)$\n",
    "\n",
    "The `numpy.random.rand` function generates floating point value(s) in an interval between a start and finish point where any single number is as likely to occur as any other number. There is uniform probability across the interval.\n",
    "In a uniform distribution, you would expect to see a rectangular shaped distribution as the sample size gets bigger with a line across the top, compared to the bell shaped curve of the normal distribution.\n",
    "\n",
    "\n",
    "***\n",
    "The following are some of the properties of a continuous uniform distribution.\n",
    "\n",
    "- The continuous uniform distribution takes values in the specified range (a,b).   \n",
    "- The *standard uniform* distribution is where a is 0 and b is 1  \n",
    "- The expected value of the uniform distribution is $\\frac{b-a}{2}$ the midpoint of the interval.   \n",
    "- The variance $\\sigma^2$ is $\\frac{1}{12}(b-a)^2$ which is $\\frac{1}{12}$ \n",
    "- the standard deviation is the square root of the variance $\\sigma = \\frac{(b-a)^2}{12}$\n",
    "\n",
    "The expected value of the continuous uniform distribution in the interval between 0 and 1 is 0.5, the variance of the continuous uniform distribution in the interval between 0 and 1 is $\\frac{1}{12}$ and the standard deviation is $\\frac{1}{sqrt(12)}$\n",
    "***\n",
    "\n",
    "`numpy.random.rand` returns an array of floating point values (or a single random value) from a **uniform distribution** in the half-open interval $[0,1.)$ which means that the values returned can be any number from 0.0 up to 1.0 but not including 1.0. \n",
    "The distribution is constant in the interval. \n",
    "\n",
    "To use this function you can simply pass positive integer(s) as arguments which determine the dimensions of the array. Without passing any arguments a single float is returned (similarly to the `random` function in the python **random** standard library).\n",
    "\n",
    "There are four other functions listed under the **Simple Random Data** function in numpy.random that according to the documentation also return random floats from the **continuous uniform** distribution in the half-open interval between 0.0 and 1.0. The inputs and outputs to these four functions appear to be the very same for this interval and the examples in the numpy documentation use the `numpy.random.random_sample` function in all cases!\n",
    "\n",
    "- **`numpy.random.random_sample()`** \n",
    "- **`numpy.random.random()`** \n",
    "- **`numpy.random.ranf()`** \n",
    "- **`numpy.random.sample()`**\n",
    " \n",
    "The only difference I can see between the `numpy.random.rand` function and these four functions is that `numpy.random.rand` takes integers directly as the arguments while the other 4 functions take a tuple if using multiple arguments, otherwise a single integer is fine.\n",
    "\n",
    "The 4 functions mentioned here return samples from the continuous uniform distribution over the stated interval of $[0.0,1.0)$ but they can all also be used to sample from a continuous uniform distribution $Unif[a,b), b>a$ by multiplying the output by $(b-a)$ and adding $a$ to get $(b - a)$ * `random_sample()` + $a$.\n",
    "  \n",
    "If the size and shape are not specified, a single float will be returned.\n"
   ]
  },
  {
   "cell_type": "markdown",
   "metadata": {},
   "source": [
    "### Example of using the `numpy.random.rand` function.\n",
    "\n",
    "Now I will demonstrate using these functions to return samples from the continuous uniform distribution between 0.0 and 1.0.\n",
    "In doing so I can show the similarities in the outputs. When the functions are given the same size and shape arguments, and using the random seed function (as explained in Task 4) the exact same output is produced!"
   ]
  },
  {
   "cell_type": "code",
   "execution_count": 33,
   "metadata": {},
   "outputs": [
    {
     "name": "stdout",
     "output_type": "stream",
     "text": [
      "0.8117367499108238\n"
     ]
    },
    {
     "data": {
      "text/plain": [
       "array([[[ 0.582,  0.506]],\n",
       "\n",
       "       [[ 0.642,  0.304]],\n",
       "\n",
       "       [[ 0.229,  0.132]],\n",
       "\n",
       "       [[ 0.082,  0.530]]])"
      ]
     },
     "execution_count": 33,
     "metadata": {},
     "output_type": "execute_result"
    }
   ],
   "source": [
    "print(np.random.rand() ) ## without any arguments, a scalar is returned\n",
    "np.random.rand(4,1,2)  # a 3 dimensional array, with a total number of 8 float64 elements in  a(4, 1, 2) shape"
   ]
  },
  {
   "cell_type": "code",
   "execution_count": 34,
   "metadata": {},
   "outputs": [
    {
     "data": {
      "text/plain": [
       "array([ 0.066,  0.551,  0.457,  0.851,  0.734,  0.851,  0.355,  0.013,\n",
       "        0.507,  0.402])"
      ]
     },
     "execution_count": 34,
     "metadata": {},
     "output_type": "execute_result"
    }
   ],
   "source": [
    "np.random.rand(10)  # a 1-d array with 10 elements from uniform distribution"
   ]
  },
  {
   "cell_type": "code",
   "execution_count": 35,
   "metadata": {},
   "outputs": [
    {
     "name": "stdout",
     "output_type": "stream",
     "text": [
      "A 2 dimensional array, with a total number of 6 float64 elements in  a(3, 2) shape \n",
      "The values sampled range from the smallest value of 0.059, to the largest value of 0.909\n",
      "The mean of the samples is 0.370, Standard Deviation is 0.287, and Variance is 0.082\n",
      "\n",
      "\n",
      "A 4 dimensional array, with a total number of 24 float64 elements in  a(1, 2, 3, 4) shape \n",
      "The values sampled range from the smallest value of 0.004, to the largest value of 0.972\n",
      "The mean of the samples is 0.463, Standard Deviation is 0.280, and Variance is 0.078\n",
      "\n",
      "\n"
     ]
    }
   ],
   "source": [
    "x =np.random.rand(3,2) ##a 2-d array with 6 elements from uniform distribution\n",
    "arrayinfo(x)\n",
    "\n",
    "x =np.random.rand(1,2,3,4) # a 4 dimensional array with 24 elements from the uniform distribution\n",
    "arrayinfo(x)"
   ]
  },
  {
   "cell_type": "markdown",
   "metadata": {},
   "source": [
    "Here I set the size parameter as a single integer 10 and use the four functions mentioned to randomly sample 10 floats from the continuous uniform distribution in the $[0.0,1.0)$ interval.  In each case a one-dimensional array of 10 floats is returned. Using `numpy.random.seed` will generate the same random samples each time."
   ]
  },
  {
   "cell_type": "code",
   "execution_count": null,
   "metadata": {},
   "outputs": [],
   "source": [
    "np.random.seed(1)\n",
    "np.random.random_sample(10) # numpy.random_sample to return 10 random floats in the half-open interval `[0.0, 1.0)`.s"
   ]
  },
  {
   "cell_type": "code",
   "execution_count": null,
   "metadata": {},
   "outputs": [],
   "source": [
    "np.random.seed(1)\n",
    "np.random.random(10) # numpy.random.random to return 10 random floats in the half-open interval `[0.0, 1.0)`."
   ]
  },
  {
   "cell_type": "code",
   "execution_count": null,
   "metadata": {},
   "outputs": [],
   "source": [
    "np.random.seed(1)\n",
    "np.random.ranf(10) # numpy.random.ranf to return 10 random floats in the half-open interval `[0.0, 1.0)`."
   ]
  },
  {
   "cell_type": "code",
   "execution_count": null,
   "metadata": {},
   "outputs": [],
   "source": [
    "np.random.seed(1)\n",
    "np.random.sample(10) # numpy.random.sample to return 10 random floats in the half-open interval `[0.0, 1.0)`."
   ]
  },
  {
   "cell_type": "markdown",
   "metadata": {},
   "source": [
    "Now by providing a tuple with 2 integer arguments will give a two-dimensional array, a tuple with 3 arguments will return a 3-dimensional array and so on. The number of samples returned is the product of the integer arguments."
   ]
  },
  {
   "cell_type": "markdown",
   "metadata": {},
   "source": [
    "### Samples from the continuous uniform distribution in $[0.0,1.0)$ interval and their statistics.\n",
    "\n",
    "Here I again use my `arrayinfo` function to print the attributes of the arrays of samples rather than printing all the samples returned. \n",
    "I also show the statistics for each set of samples returned from each function.   \n",
    "When using the same random seed will result in the identical random samples and statistics for the samples.\n",
    "\n",
    "Without setting a seed, the actual random samples generated would be different as a different sample is selected each time, but their means, variances and standard deviations should be very similar as will be outlined in the Distributions section below for task 3.\n",
    "\n",
    "The expected value of the uniform distribution is $\\frac{b-a}{2}$, the midpoint of the interval so the expected value of the continuous uniform distribution in the interval between 0 and 1 is $0.5$ while the variance is $\\frac{1}{12}$ and the standard deviation is  $\\frac{1}{sqrt(12)}$.\n",
    "For smaller samples the statistics may not be the exact 0.5, 1/12 and 1/sqrt(12) but as the sample size gets bigger then this is what you would expect from a continuous uniform distribution. "
   ]
  },
  {
   "cell_type": "code",
   "execution_count": 53,
   "metadata": {},
   "outputs": [
    {
     "name": "stdout",
     "output_type": "stream",
     "text": [
      "The expected value is 0.5\n",
      "The variance is 0.08333333333333333\n",
      "The standard deviation is 0.2886751345948129\n"
     ]
    }
   ],
   "source": [
    "a,b =0,1\n",
    "print(\"The expected value is\",(a+b)/2)\n",
    "print(\"The variance is\", ((b-a)**2)/12)\n",
    "print(\"The standard deviation is\",(b-a)/(np.sqrt(12)))"
   ]
  },
  {
   "cell_type": "code",
   "execution_count": 37,
   "metadata": {},
   "outputs": [
    {
     "name": "stdout",
     "output_type": "stream",
     "text": [
      "A 2 dimensional array, with a total number of 5000 float64 elements in  a(1000, 5) shape \n",
      "The values sampled range from the smallest value of 0.000, to the largest value of 1.000\n",
      "The mean of the samples is 0.500, Standard Deviation is 0.288, and Variance is 0.083\n",
      "\n",
      "\n",
      "A 2 dimensional array, with a total number of 5000 float64 elements in  a(1000, 5) shape \n",
      "The values sampled range from the smallest value of 0.000, to the largest value of 1.000\n",
      "The mean of the samples is 0.500, Standard Deviation is 0.288, and Variance is 0.083\n",
      "\n",
      "\n",
      "A 2 dimensional array, with a total number of 5000 float64 elements in  a(1000, 5) shape \n",
      "The values sampled range from the smallest value of 0.000, to the largest value of 1.000\n",
      "The mean of the samples is 0.500, Standard Deviation is 0.288, and Variance is 0.083\n",
      "\n",
      "\n",
      "A 2 dimensional array, with a total number of 5000 float64 elements in  a(1000, 5) shape \n",
      "The values sampled range from the smallest value of 0.000, to the largest value of 1.000\n",
      "The mean of the samples is 0.500, Standard Deviation is 0.288, and Variance is 0.083\n",
      "\n",
      "\n",
      "A 2 dimensional array, with a total number of 5000 float64 elements in  a(1000, 5) shape \n",
      "The values sampled range from the smallest value of 0.000, to the largest value of 1.000\n",
      "The mean of the samples is 0.500, Standard Deviation is 0.288, and Variance is 0.083\n",
      "\n",
      "\n"
     ]
    }
   ],
   "source": [
    "np.random.seed(1)\n",
    "arrayinfo(np.random.rand(1000,5))\n",
    "np.random.seed(1)\n",
    "arrayinfo(np.random.sample((1000,5)))\n",
    "np.random.seed(1)\n",
    "arrayinfo(np.random.random_sample((1000,5)))\n",
    "np.random.seed(1)\n",
    "arrayinfo(np.random.ranf((1000,5)))\n",
    "np.random.seed(1)\n",
    "arrayinfo(np.random.sample((1000,5)))\n"
   ]
  },
  {
   "cell_type": "markdown",
   "metadata": {},
   "source": [
    "<a id= \"continuous_uniform[a,b)\"></a>\n",
    "## Random floats from the continuous uniform distribution:   $Unif[a, b), b > a$ \n",
    "\n",
    "The 4 functions just mentioned above can also be used to sample from a continuous uniform distribution over a different interval other than $[0.0,1.0)$. \n",
    "\n",
    "To sample from $Unif[a, b), b > a$  you simply multiply the output of `random_sample` function by $(b-a)$ and add a:  \n",
    "`(b - a) * random_sample() + a`\n",
    " \n",
    " For example, to get a 3 by 2 array of random numbers from the uniform distribution over the interval $[-5, 0)$ where a is -5 and b is 0,\n",
    " use `5 * np.random.random_sample((3, 2)) - 5`"
   ]
  },
  {
   "cell_type": "code",
   "execution_count": 38,
   "metadata": {},
   "outputs": [
    {
     "name": "stdout",
     "output_type": "stream",
     "text": [
      "A 2 dimensional array, with a total number of 400 float64 elements in  a(100, 4) shape \n",
      "The values sampled range from the smallest value of -3.998, to the largest value of -0.007\n",
      "The mean of the samples is -2.000, Standard Deviation is 1.150, and Variance is 1.323\n",
      "\n",
      "\n",
      "b-a = 4 , a = -4\n",
      "The expected value is the midpoint of a and b which is -2.0\n",
      "The variance is 1.3333333333333333\n",
      "The standard deviation is 1.1547005383792517\n"
     ]
    }
   ],
   "source": [
    "\n",
    "\n",
    "x = 4 * np.random.random_sample((100, 4)) - 4 # returns a 100-by-4 array of random numbers from [-4, 0). \n",
    "\n",
    "arrayinfo(x)\n",
    "\n",
    "a,b =-4,0\n",
    "print(\"b-a =\",b-a, \", a =\",a)\n",
    "print(\"The expected value is the midpoint of a and b which is\",(a+b)/2)\n",
    "print(\"The variance is\", ((b-a)**2)/12)\n",
    "print(\"The standard deviation is\",(b-a)/(np.sqrt(12)))"
   ]
  },
  {
   "cell_type": "markdown",
   "metadata": {},
   "source": [
    "The four functions `np.random.random_sample`, `np.random.random`, `np.random.ranf` and `np.random.sample` all appear to again return the exact same results as each other when using the same size arguments and the same intervals. This is shown by using the `numpy.random.seed` function to set the seed to get the same pseudo random numbers generated. See Section 4."
   ]
  },
  {
   "cell_type": "markdown",
   "metadata": {},
   "source": [
    "Using numpy.random **random_sample** and **random** functions to sample from $Unif[-4,0)$"
   ]
  },
  {
   "cell_type": "code",
   "execution_count": 51,
   "metadata": {},
   "outputs": [
    {
     "name": "stdout",
     "output_type": "stream",
     "text": [
      "b-a = 4 , a = -4\n",
      "A 2 dimensional array, with a total number of 30 float64 elements in  a(10, 3) shape \n",
      "The values sampled range from the smallest value of -4.000, to the largest value of -0.127\n",
      "The mean of the samples is -2.258, Standard Deviation is 1.203, and Variance is 1.448\n",
      "\n",
      "\n",
      "A 2 dimensional array, with a total number of 30 float64 elements in  a(10, 3) shape \n",
      "The values sampled range from the smallest value of -4.000, to the largest value of -0.127\n",
      "The mean of the samples is -2.258, Standard Deviation is 1.203, and Variance is 1.448\n",
      "\n",
      "\n"
     ]
    }
   ],
   "source": [
    "a,b = -4,0\n",
    "print(\"b-a =\",b-a, \", a =\",a)\n",
    "np.random.seed(1)\n",
    "arrayinfo((b-a) * np.random.random_sample((10, 3)) +a )# returns a 10-by-3 array of random numbers from [-4, 0).\n",
    "np.random.seed(1)\n",
    "arrayinfo((b-a) * np.random.random((10, 3)) +a )# returns a 10-by-3 array of random numbers from [-4, 0). \n"
   ]
  },
  {
   "cell_type": "markdown",
   "metadata": {},
   "source": [
    "Using numpy.random **random_sample** and **random** functions with same parameters"
   ]
  },
  {
   "cell_type": "code",
   "execution_count": 52,
   "metadata": {},
   "outputs": [
    {
     "name": "stdout",
     "output_type": "stream",
     "text": [
      "b-a = 6 , a = 2\n",
      "A 2 dimensional array, with a total number of 30 float64 elements in  a(10, 3) shape \n",
      "The values sampled range from the smallest value of 2.001, to the largest value of 7.810\n",
      "The mean of the samples is 4.613, Standard Deviation is 1.805, and Variance is 3.258\n",
      "\n",
      "\n",
      "A 2 dimensional array, with a total number of 30 float64 elements in  a(10, 3) shape \n",
      "The values sampled range from the smallest value of 2.001, to the largest value of 7.810\n",
      "The mean of the samples is 4.613, Standard Deviation is 1.805, and Variance is 3.258\n",
      "\n",
      "\n"
     ]
    }
   ],
   "source": [
    "a,b = 2,8\n",
    "print(\"b-a =\",b-a, \", a =\",a)\n",
    "np.random.seed(1)\n",
    "arrayinfo((b-a) * np.random.ranf((10, 3)) +a) # returns a 3-by-2 array of random numbers from [-4, 0). \n",
    "np.random.seed(1)\n",
    "arrayinfo((b-a) * np.random.sample((10, 3))+a) # returns a 3-by-2 array of random numbers from [-4, 0).\n",
    "\n"
   ]
  },
  {
   "cell_type": "markdown",
   "metadata": {},
   "source": [
    "***\n",
    "<a id='randint'></a>\n",
    "## Random integers from the Discrete Uniform Distribution\n",
    "\n",
    "### The **`numpy.random.randint`** function.  \n",
    "\n",
    "The **numpy.random.randint(low, high=None, size=None, dtype='l')** function returns random integers from the **discrete uniform distribution** in the interval from low (inclusive) to high (exclusive). ($[low, high)$).\n",
    "See [numpy.random.randint()](https://docs.scipy.org/doc/numpy-1.16.1/reference/generated/numpy.random.randint.html#numpy-random-randint).\n",
    "\n",
    "The *discrete uniform* distribution is a very simple probability distribution that can only take on a finite set of possible values. \n",
    "**`numpy.random.randint()`** is used to generate an array of random integers from an integer where all the integers in the interval have uniform probability. It is similar in use to the continuous uniform random functions mentioned earlier but for integers. (rand, random.sample, random_sample and sample)\n",
    "\n",
    "There are four possible parameters you can give to this function but at least one is required.  Size is the key word argument here which is used to specify how many random numbers should be generated.\n",
    "You can also specify the range from which the random integers will be generated.\n",
    "\n",
    "If only one parameter is entered, this is taken to be the upper end of the range (exclusive) and a single random integer is returned in the range from 0 up to the number supplied so `np.random.randint(10)` samples a single integer from 0 up to an including 9.\n",
    "\n",
    "When a second value is supplied to the function, the first is treated as the low range parameter and the second is treated as the high range parameter so `np.random.randint(5,10)` would output a single integer between 5 inclusive and 9.\n",
    "The two arguments together specify the range of values that could possibly be drawn. \n",
    "The size if supplied, which can be a single integer or a tuple of integers for higher dimensions determines the shape and size of the output of random integers from the specified distribution.\n",
    "If the given shape is (m, n, k), then m * n * k samples are drawn.\n",
    "\n",
    "The last possible argument is an optional `dtype` parameter which determines the dtype of the integers in the resulting array. This is not always required as the default value is `np.int` \n",
    "\n",
    "The `numpy.random.random_integers` function is similar to `numpy.random.randint` but it is now deprecated. `numpy.random.random_integers` had a closed interval [low, high] with 1 being the lowest value if high is omitted and was used to generate uniformly distributed discrete non-integers."
   ]
  },
  {
   "cell_type": "code",
   "execution_count": 54,
   "metadata": {},
   "outputs": [
    {
     "name": "stdout",
     "output_type": "stream",
     "text": [
      "[[ 7  3  6 17]\n",
      " [ 3  4 17 11]]\n"
     ]
    }
   ],
   "source": [
    "x = np.random.randint(20, size=(2,4)) # a 2-dimensional array with 4 times 2 = 8 values from range of 0 to 19\n",
    "print(x)"
   ]
  },
  {
   "cell_type": "code",
   "execution_count": 55,
   "metadata": {},
   "outputs": [
    {
     "data": {
      "text/plain": [
       "array([9, 7, 9])"
      ]
     },
     "execution_count": 55,
     "metadata": {},
     "output_type": "execute_result"
    }
   ],
   "source": [
    "np.random.randint(5,10,3) # a 1-d array with 3 values from the range [5,10)"
   ]
  },
  {
   "cell_type": "code",
   "execution_count": 56,
   "metadata": {},
   "outputs": [
    {
     "data": {
      "text/plain": [
       "array([[5, 8, 6],\n",
       "       [7, 5, 9],\n",
       "       [6, 7, 7],\n",
       "       [6, 5, 6]])"
      ]
     },
     "execution_count": 56,
     "metadata": {},
     "output_type": "execute_result"
    }
   ],
   "source": [
    "np.random.randint(5,10,(4,3)) # a 2-d array  with 4 by 3 values in range [5,10)"
   ]
  },
  {
   "cell_type": "code",
   "execution_count": 57,
   "metadata": {},
   "outputs": [
    {
     "data": {
      "text/plain": [
       "array([[[ 3,  7, 23,  4],\n",
       "        [ 5, 25, 19,  6],\n",
       "        [ 8,  0,  2, 10]],\n",
       "\n",
       "       [[23, 15, 15, 23],\n",
       "        [25,  7, 19, 10],\n",
       "        [14,  0, 24, 23]]])"
      ]
     },
     "execution_count": 57,
     "metadata": {},
     "output_type": "execute_result"
    }
   ],
   "source": [
    "np.random.randint(0,27,(2,3,4)) # a 3-d array with 24 values from range [0,27)"
   ]
  },
  {
   "cell_type": "code",
   "execution_count": null,
   "metadata": {},
   "outputs": [],
   "source": [
    "np.random.randint(5,10) # "
   ]
  },
  {
   "cell_type": "code",
   "execution_count": null,
   "metadata": {},
   "outputs": [],
   "source": [
    "x = np.random.randint(5, size=(2, 3, 4)) # Generate a 3 dimensional array of  24 integers"
   ]
  },
  {
   "cell_type": "code",
   "execution_count": null,
   "metadata": {},
   "outputs": [],
   "source": [
    "np.random.randint(5, size=(2, 3, 4)) # Generate a 3 dimensional array of  24 integers\n"
   ]
  },
  {
   "cell_type": "markdown",
   "metadata": {},
   "source": [
    "The `numpy.random.random_integers` function was used to return random integers of type `np.int` from the “discrete uniform” distribution in the closed interval [low, high]. However this function is now deprecated and the manual advises to use `numpy.random.randint` instead but by adding 1 to high to get a closed interval.\n",
    "\n",
    "`np.random.random_integers(5)` results in the following message:\n",
    "> DeprecationWarning: This function is deprecated. Please call randint(1, 5 + 1) instead\n"
   ]
  },
  {
   "cell_type": "markdown",
   "metadata": {},
   "source": [
    "***\n",
    "<a id =\"choice\"></a>\n",
    "\n",
    "## Generate a random sample from a given array.\n",
    "\n",
    "The **`numpy.random.choice(a, size=None, replace=True, p=None)`** function generates a random sample from a given 1-D array\n",
    "\n",
    "See [numpy.random.choice(a, size=None, replace=True, p=None)](https://numpy.org/doc/1.16/reference/generated/numpy.random.choice.html#numpy-random-choice).\n",
    "\n",
    "The `numpy.random.choice` function is different to the other numpy.random simple random data functions it that it is used to generate a random sample of elements from the elements of a one-dimensional array whereas the simple random data function I looked at above are used to generate random numbers from a specified distribution.\n",
    "\n",
    "To use this function you have to provide the array as an argument or else an integer with which to create an array using the `np.arange` function. \n",
    "\n",
    "The sample returned could be a single value or an ndarray of values. By providing a size parameter, more than one value will be sampled from the array provided.\n",
    "\n",
    "\n",
    "There are various methods of sampling random elements from an array. **With replacement** means the elements drawn would be placed back in and could be selected again whereas **without replacement** means that once a element is chosen, it can no longer be chosen again in the same sample as it is not placed back in the pot. In this way there can be no duplicates as elements cannot be selected again in the same sample. \n",
    "\n",
    "The `numpy.random.choice` function defaults to using the **with replacement** sampling method but youm can specify that the random sample is without replacement so that the same element cannot be chosen again.\n",
    "\n",
    "If you don't provide the probabilities for each element of the input array the function will just assume a uniform distribution over all the elements where each elements is equally likely to be chosen. By providing the `p` probabilites, a non-uniform random sample is generated. The number of probabilities should equal the size parameter and the probabilities must sum to 1.0, otherwise an error results.\n",
    "\n",
    "The `numpy.random.choice` function can also be used on an array of elements other than integers. It is somewhat similar to the `choice()` function in the python **random** standard library which randomly select items from a list. "
   ]
  },
  {
   "cell_type": "markdown",
   "metadata": {},
   "source": [
    "### Sampling from array of items other than numbers.\n",
    "\n",
    "The `numpy.random.choice` function can also be used to sample from array of other types of elements.\n",
    "To show this I will create an array with a list of letters from which to randomly sample elements.\n"
   ]
  },
  {
   "cell_type": "code",
   "execution_count": null,
   "metadata": {},
   "outputs": [],
   "source": [
    "import string  # import string module from standard library\n",
    "letters_lower =np.array(list(string.ascii_lowercase)) # create an array of lowercase letters"
   ]
  },
  {
   "cell_type": "code",
   "execution_count": null,
   "metadata": {},
   "outputs": [],
   "source": [
    "np.random.choice(letters_lower, 4) # randomly select 4 elements with equal probability"
   ]
  },
  {
   "cell_type": "markdown",
   "metadata": {},
   "source": [
    "#### sampling from an array of letters with defined probabilities with replacement"
   ]
  },
  {
   "cell_type": "code",
   "execution_count": null,
   "metadata": {},
   "outputs": [],
   "source": [
    "np.random.choice(['a','b','c','d','e','f'], 5, p=[0.2, 0.15, 0.15, 0.3, 0.1, 0.1]) # selecting from an array of non-integers"
   ]
  },
  {
   "cell_type": "markdown",
   "metadata": {},
   "source": [
    "#### sampling from an array of letters with defined probabilities and without replacement"
   ]
  },
  {
   "cell_type": "code",
   "execution_count": null,
   "metadata": {},
   "outputs": [],
   "source": [
    "np.random.choice(['a','b','c','d','e','f'], 5, p=[0.2, 0.15, 0.15, 0.3, 0.1, 0.1], replace = False)"
   ]
  },
  {
   "cell_type": "markdown",
   "metadata": {},
   "source": [
    "#### select element from an array of integers created using `np.arange` function"
   ]
  },
  {
   "cell_type": "code",
   "execution_count": null,
   "metadata": {},
   "outputs": [],
   "source": [
    "np.random.choice(10) # select a single element from an array created from np.arange(10)\n",
    "np.random.choice(5, 3)  # select 3 elements from an array of integers from 0 up to but not including 5\n",
    "np.random.choice(100, 12) #  select 12 elements from an array from 0 to 99 inclusive."
   ]
  },
  {
   "cell_type": "markdown",
   "metadata": {},
   "source": [
    "Note that `np.random.choice()` will result in a *TypeError: choice() takes at least 1 positional argument (0 given)* if not argument is provided."
   ]
  },
  {
   "cell_type": "markdown",
   "metadata": {},
   "source": [
    "##### Showing that setting with replacement to false means an element won't be chosen again in that sample.\n",
    "Here generating 4 samples from an array with replacement. The same element may appear twice or more in the sample. Doing this several times using a loop in case its not evident on the first run.\n"
   ]
  },
  {
   "cell_type": "code",
   "execution_count": null,
   "metadata": {},
   "outputs": [],
   "source": [
    "for i in range(4):\n",
    "    x = np.random.choice(10, 6) # sample 4 elements from the array \n",
    "    print(x)\n"
   ]
  },
  {
   "cell_type": "markdown",
   "metadata": {},
   "source": [
    "Then set replace = False and observing that the same element is never repeated in the same array."
   ]
  },
  {
   "cell_type": "code",
   "execution_count": null,
   "metadata": {},
   "outputs": [],
   "source": [
    "for i in range(4):\n",
    "    x = np.random.choice(10, 6, replace = False) # sample 4 elements from the array \n",
    "    print(x)"
   ]
  },
  {
   "cell_type": "markdown",
   "metadata": {},
   "source": [
    "***\n",
    "<a id=\"bytes\"></a>\n",
    "\n",
    "## The numpy.random.bytes function.\n",
    "\n",
    "[numpy.random.bytes(length)](https://numpy.org/doc/1.16/reference/generated/numpy.random.bytes.html#numpy.random.bytes) returns a string of random bytes. The length of the string must be provided.\n",
    "\n",
    "This function returns a bytes object. A bytes object is displayed as a sequence of bytes between quotes and preceded by 'b' or 'B'\n"
   ]
  },
  {
   "cell_type": "code",
   "execution_count": null,
   "metadata": {},
   "outputs": [],
   "source": [
    "a =np.random.bytes(1)\n",
    "b= np.random.bytes(2)\n",
    "np.random.bytes(3)\n",
    "np.random.bytes(4)\n",
    "type(a)\n",
    "type(b)\n"
   ]
  },
  {
   "cell_type": "code",
   "execution_count": null,
   "metadata": {},
   "outputs": [],
   "source": [
    "# A bytes object is displayed as a sequence of bytes between quotes and preceded by 'b' or 'B':\n",
    "bytes(3) # produces an empty sequence of 3 bytes\n",
    "np.random.bytes(3)"
   ]
  },
  {
   "cell_type": "markdown",
   "metadata": {},
   "source": [
    "Bytes literals are always prefixed with 'b' or 'B'; they produce an instance of the bytes type instead of the str type. They may only contain ASCII characters; bytes with a numeric value of 128 or greater must be expressed with escapes.\n",
    "\n",
    ">[Bytes objects](https://docs.python.org/3/library/stdtypes.html?highlight=bytes#bytes-objects)are immutable sequences of single bytes. Since many major binary protocols are based on the ASCII text encoding, bytes objects offer several methods that are only valid when working with ASCII compatible data and are closely related to string objects in a variety of other ways.\n",
    "\n",
    "One byte is a memory location with a size of 8 bits. A bytes object is an immutable sequence of bytes, conceptually similar to a string.\n",
    "\n",
    ">The bytes object is important because data written to disk is written as a stream of bytes, and because integers and strings are sequences of bytes. How the sequence of bytes is interpreted or displayed makes it an integer or a string.\n",
    "https://en.wikiversity.org/wiki/Python_Concepts/Bytes_objects_and_Bytearrays\n",
    "\n",
    "***"
   ]
  },
  {
   "cell_type": "markdown",
   "metadata": {},
   "source": [
    "<a id='task2.2'></a>\n",
    "***\n",
    "## Permutations functions\n",
    "\n",
    "There are two permutations functions in the `numpy.random` package. \n",
    "\n",
    "- numpy.random.shuffle(x) is used to modify a sequence in-place by shuffling its contents.\n",
    "- numpy.random.permutation(x) is used to randomly permute a sequence, or return a permuted range.\n",
    "\n",
    "The numpy`shuffle` function shuffles a sequence in place so that the sequence provided to it is actually shuffled and not just a copy of the sequence.\n",
    "\n",
    "These functions can be used to arrange  or rearrange series of numbers or to change the order of samples in a sequence."
   ]
  },
  {
   "cell_type": "markdown",
   "metadata": {},
   "source": [
    "<a id=\"shuffle\"></a>\n",
    "### numpy.random.shuffle\n",
    "The `numpy.random.shuffle(x)` function is used to modify a sequence in-place by shuffling its contents.\n",
    "\n",
    "This function is used to shuffle an numpy array in-place. The contents of the numpy array is shuffled so that the contents are still the same but in a different order. The sequence is therefore changed with it's elements in a random order.\n",
    "\n",
    "If the array is multidimensional then this function will only shuffle the array along the first axis. The order of sub-arrays is changed but their contents remains the same. \n",
    "This basically swaps the order of the rows in the array, but not the order of the elements in each row.\n",
    "\n"
   ]
  },
  {
   "cell_type": "code",
   "execution_count": null,
   "metadata": {},
   "outputs": [],
   "source": []
  },
  {
   "cell_type": "code",
   "execution_count": 58,
   "metadata": {},
   "outputs": [
    {
     "name": "stdout",
     "output_type": "stream",
     "text": [
      "The original array[0 1 2 3 4 5 6 7 8 9] before being shuffled\n",
      "The shuffled array [6 2 9 4 0 3 5 8 1 7]\n"
     ]
    }
   ],
   "source": [
    "arr1 = np.arange(10)  # the original array is a range from 0 to 10 exclusive\n",
    "print(f\"The original array{arr1} before being shuffled\") # the original array before shuffling the contents in place\n",
    "np.random.shuffle(arr1) ## the shuffled array\n",
    "print(f\"The shuffled array {arr1}\") # the original array has been shuffled.\n"
   ]
  },
  {
   "cell_type": "markdown",
   "metadata": {},
   "source": [
    "The `numpy.random.shuffle` function only shuffles the array along the first axis of a multi-dimensional array. The order of sub-arrays is changed but their contents remains the same. Basically the rows have been moved about but not the elements in the rows.\n"
   ]
  },
  {
   "cell_type": "code",
   "execution_count": 59,
   "metadata": {},
   "outputs": [
    {
     "name": "stdout",
     "output_type": "stream",
     "text": [
      "The original array \n",
      "[[ 0  1  2  3]\n",
      " [ 4  5  6  7]\n",
      " [ 8  9 10 11]] \n",
      " before being shuffled\n",
      "\n",
      " The shuffled array \n",
      " [[ 4  5  6  7]\n",
      " [ 0  1  2  3]\n",
      " [ 8  9 10 11]] \n"
     ]
    }
   ],
   "source": [
    "arr = np.arange(12).reshape((3, 4))  ## create a 3 by 4 two-dimensional array\n",
    "print(f\"The original array \\n{arr} \\n before being shuffled\") # the original array before shuffling the contents in place\n",
    "np.random.shuffle(arr) # shuffle the array along the first axis only\n",
    "print(f\"\\n The shuffled array \\n {arr} \") # note that the array now has the same shape but the sub-arrays or rows have been swapped."
   ]
  },
  {
   "cell_type": "code",
   "execution_count": 60,
   "metadata": {},
   "outputs": [
    {
     "name": "stdout",
     "output_type": "stream",
     "text": [
      "The original array \n",
      "[[ 0  1  2  3]\n",
      " [ 4  5  6  7]\n",
      " [ 8  9 10 11]\n",
      " [12 13 14 15]\n",
      " [16 17 18 19]] \n",
      " before being shuffled\n",
      "\n",
      " The shuffled array \n",
      " [[12 13 14 15]\n",
      " [16 17 18 19]\n",
      " [ 4  5  6  7]\n",
      " [ 0  1  2  3]\n",
      " [ 8  9 10 11]] \n"
     ]
    }
   ],
   "source": [
    "arr = np.arange(20).reshape((5, 4))  ## create a 5 by 4 two-dimensional array of 20 elements \n",
    "print(f\"The original array \\n{arr} \\n before being shuffled\") # the original array before shuffling the contents in place\n",
    "np.random.shuffle(arr) # shuffle the array across the first dimenstion only.\n",
    "print(f\"\\n The shuffled array \\n {arr} \") # note that the array now has the same shape but the sub-arrays or rows have been s"
   ]
  },
  {
   "cell_type": "markdown",
   "metadata": {},
   "source": [
    "<a id=\"permutation\"></a>\n",
    "### numpy.random.permutation\n",
    "\n",
    "The [numpy.random.permutation](https://numpy.org/doc/1.16/reference/generated/numpy.random.permutation.html#numpy-random-permutation) function randomly permutes a sequence, or returns a permuted range.\n",
    "\n",
    "If x is a multi-dimensional array, it is only shuffled along its first index.\n",
    "\n",
    "This function takes an array or an integer to create a `np.arange` array from. \n",
    "If x is an integer, it will randomly permute the array created from `np.arange(x)`.\n",
    "If x is an array, it will make a copy and shuffle the elements randomly.\n",
    "\n",
    "The difference between the `numpy.random.shuffle` and the `numpy.random.permutation` seems to be that the original array is shuffled in the first case but only the copy is shuffled in the second case. This is where an array is provided and not where the function also has to create an array from `np.arange`.\n"
   ]
  },
  {
   "cell_type": "code",
   "execution_count": null,
   "metadata": {},
   "outputs": [],
   "source": [
    "arr = np.arange(24).reshape((3, 8)) # create an array\n",
    "np.random.permutation(arr) # permute the array makes a copy and shuffles the copy\n",
    "arr # the original array is unchanged."
   ]
  },
  {
   "cell_type": "code",
   "execution_count": null,
   "metadata": {},
   "outputs": [],
   "source": [
    "x = np.random.permutation(10) # create a range from 0 to 10 (exclusive) and then permute this array\n",
    "x  # the array is permuted\n"
   ]
  },
  {
   "cell_type": "code",
   "execution_count": null,
   "metadata": {},
   "outputs": [],
   "source": [
    "a = np.arange(9).reshape((3, 3))  ## create a 3 by 3 two-dimensional array of 20 elements \n",
    "a\n",
    "np.random.permutation(a) # the array is copied and then the copy is shuffled.\n",
    "a # the original array remains as is."
   ]
  },
  {
   "cell_type": "code",
   "execution_count": null,
   "metadata": {},
   "outputs": [],
   "source": [
    "arr = np.arange(20).reshape((5, 4))  ## create a 5 by 4 two-dimensional array of 20 elements \n",
    "print(f\"The original array before being shuffled / permuted \\n{arr} \\n \") # the original array before being permuted\n",
    "np.random.permutation(arr) # permute the array across the first dimenstion only.\n",
    "print(f\"\\n A copy of the array was shuffled \\n {arr} and the original array unchanged\") # note that the array now has the same shape but the sub-arrays or rows have been s"
   ]
  },
  {
   "cell_type": "markdown",
   "metadata": {},
   "source": [
    "### Comparing the `numpy.random.shuffle` and `numpy.random.permutation` function"
   ]
  },
  {
   "cell_type": "code",
   "execution_count": null,
   "metadata": {},
   "outputs": [],
   "source": [
    "a = np.arange(9).reshape((3, 3))  ## create a 3 by 3 two-dimensional array of 20 elements \n",
    "print(f\"The original array before being shuffled \\n{a} \\n \") # the original array before being permuted\n",
    "\n",
    "np.random.shuffle(a) # provide an array\n",
    "print(f\"The original array after being shuffled \\n{a} \\n \")"
   ]
  },
  {
   "cell_type": "code",
   "execution_count": null,
   "metadata": {},
   "outputs": [],
   "source": [
    "a = np.arange(9).reshape((3, 3))  ## create a 3 by 3 two-dimensional array of 20 elements \n",
    "print(f\"The original array before being permuted \\n{a} \\n \")\n",
    "print(np.random.permutation(a)) # provide an array\n",
    "print(f\"The original array after being permuted \\n{a} \\n \")"
   ]
  },
  {
   "cell_type": "markdown",
   "metadata": {},
   "source": [
    "[Back to top](#toc)\n",
    "***"
   ]
  },
  {
   "cell_type": "markdown",
   "metadata": {},
   "source": [
    "<a id='task3'></a>\n",
    "# 3. Explain the use and purpose of at least five “Distributions” functions.\n",
    "\n",
    "<a id='distributions'></a>\n",
    "Random numbers can be drawn from different probability distributions.\n",
    "While the functions outlined under the [Simple random data](#Simplerandomdata) section of the [Random sampling (numpy.random)](https://numpy.org/doc/1.16/reference/routines.random.html#simple-random-data) are noted as functions that return random values in a given shape, the functions under the [Distributions](https://numpy.org/doc/1.16/reference/routines.random.html#distributions) section are noted as functions that draw samples from a particular probability distribution. However some of the functions for the uniform and normal distributions do seem to do the same thing.\n",
    "\n",
    "The following is the complete list of such functions listed under [Distributions](https://numpy.org/doc/1.16/reference/routines.random.html#distributions) but for the purposes of the assignment I am looking at just 5 of the distributions.\n",
    "\n",
    "## Numpy Random Distribution Functions\n",
    "- `beta(a, b[, size])` \tDraw samples from a Beta distribution.\n",
    "- `binomial(n, p[, size])` \tDraw samples from a binomial distribution.\n",
    "- `chisquare(df[, size])` \tDraw samples from a chi-square distribution.\n",
    "- `dirichlet(alpha[, size])` \tDraw samples from the Dirichlet distribution.\n",
    "- `exponential([scale, size])` \tDraw samples from an exponential distribution.\n",
    "- `f(dfnum, dfden[, size])` \tDraw samples from an F distribution.\n",
    "- `gamma(shape[, scale, size])`\tDraw samples from a Gamma distribution.\n",
    "- `geometric(p[, size])`\tDraw samples from the geometric distribution.\n",
    "- `gumbel([loc, scale, size])`\tDraw samples from a Gumbel distribution.\n",
    "- `hypergeometric(ngood, nbad, nsample[, size])`\tDraw samples from a Hypergeometric distribution.\n",
    "- `laplace([loc, scale, size])`\tDraw samples from the Laplace or double exponential distribution with specified location (or mean) and scale (decay).\n",
    "- `logistic([loc, scale, size])`\tDraw samples from a logistic distribution.\n",
    "- `lognormal([mean, sigma, size])`\tDraw samples from a log-normal distribution.\n",
    "- `logseries(p[, size])`\tDraw samples from a logarithmic series distribution.\n",
    "- `multinomial(n, pvals[, size])`\tDraw samples from a multinomial distribution.\n",
    "- `multivariate_normal(mean, cov[, size, …)`\tDraw random samples from a multivariate normal distribution.\n",
    "- `negative_binomial(n, p[, size])`\tDraw samples from a negative binomial distribution.\n",
    "- `noncentral_chisquare(df, nonc[, size])`\tDraw samples from a noncentral chi-square distribution.\n",
    "- `noncentral_f(dfnum, dfden, nonc[, size])`\tDraw samples from the noncentral F distribution.\n",
    "- `normal([loc, scale, size])`\tDraw random samples from a normal (Gaussian) distribution.\n",
    "- `pareto(a[, size])`\tDraw samples from a Pareto II or Lomax distribution with specified shape.\n",
    "- `poisson([lam, size])`\tDraw samples from a Poisson distribution.\n",
    "- `power(a[, size])`\tDraws samples in [0, 1] from a power distribution with positive exponent a - 1.\n",
    "- `rayleigh([scale, size])`\tDraw samples from a Rayleigh distribution.\n",
    "- `standard_cauchy([size])`\tDraw samples from a standard Cauchy distribution with mode = 0.\n",
    "- `standard_exponential([size])`\tDraw samples from the standard exponential distribution.\n",
    "- `standard_gamma(shape[, size])`\tDraw samples from a standard Gamma distribution.\n",
    "- `standard_normal([size])`\tDraw samples from a standard Normal distribution (mean=0, stdev=1).\n",
    "- `standard_t(df[, size])`\tDraw samples from a standard Student’s t distribution with df degrees of freedom.\n",
    "- `triangular(left, mode, right[, size])`\tDraw samples from the triangular distribution over the interval [left, right].\n",
    "- `uniform([low, high, size])`\tDraw samples from a uniform distribution.\n",
    "- `vonmises(mu, kappa[, size])`\tDraw samples from a von Mises distribution.\n",
    "- `wald(mean, scale[, size])`\tDraw samples from a Wald, or inverse Gaussian, distribution.\n",
    "- `weibull(a[, size])`\tDraw samples from a Weibull distribution.\n",
    "- `zipf(a[, size])`\tDraw samples from a Zipf distribution.\n",
    "\n",
    "***"
   ]
  },
  {
   "cell_type": "markdown",
   "metadata": {},
   "source": [
    "#### Probability Distributions and random variables\n",
    "There are many different patterns of probability and random numbers can be drawn from various probability distributions.\n",
    "\n",
    "A probability distribution is a table or an equation that links each possible value that a random variable can assume with its probability of occurrence. It completely describes a random variable by specifying all the possible values and their probabilities of occuring.\n",
    "\n",
    "Probability is a mathematical expression of uncertainty of the chance of a random variable taking on particular values.\n",
    "\n",
    "A random variable is a variable that assumes numerical values associated with the random outcome of an experiment where one (and only one) numerical value is assigned to each sample point. A random variable is any quantity that is assumed to have a probability distribution. A discrete random variable is one where its set of possible values is a collection of isolated points on the number line while a continuous random variable is one where its set of possible values is an entire interval on the number line. Discrete random variables almost always come from counting while continuous random variables mostly come from measurement.\n",
    "\n",
    "The probability distribution of a discrete random variable is often known as a probability function or a probability mass function, it can be displayed as a graph, table or mathematical formula that specifies the probability associated with each possible value the random variable can assume. A probability distribution for a continuous random variable x is specified by a mathematical function f(x) called a probability density function, a frequency function or a probability distribution.\n",
    "\n",
    "See [wolfram mathworld](http://mathworld.wolfram.com/Probability.html),[stattrek.com](https://stattrek.com/statistics/dictionary.aspx?definition=random%20variable) and [Wikipedia](https://en.wikipedia.org/wiki/Normal_distribution)."
   ]
  },
  {
   "cell_type": "markdown",
   "metadata": {},
   "source": [
    "## my notes. come back to tidy up or remove!!\n",
    "### Using numpy random distribution functions to study data\n",
    "\n",
    "\n",
    "### \n",
    "\n",
    "\n",
    "If you can define a probability distribution for a dataset you are interested in, you can use the known properties of the distribution to investigate and summarise the data using statistics, plot the data and look at predicting future outcomes.\n",
    "\n",
    "You can plot one-dimensional data to see the distribution of numbers or values using `pyplot.hist()` function or seaborn plots. A histogram cuts the data into ranges called \"bins\" and shows the number of values in each bin which gives a picture of how the values are distributed and the range in which the most common values fall.\n",
    "\n",
    "Probability distributions derive from variance or uncertainty and show which outcomes are more likely and which are less likely. Probability distributions can be simulated.\n",
    "\n",
    "```\n",
    "x= np.random.normal(0.0, 1.0, 1000) # here we generate a range of 1000 numbers from 0 to 1\n",
    "plt.hist(x, bins = 30)\n",
    "plt.show()\n",
    "```\n",
    "\n",
    "Each of these distribution functions generate different random numbers according to different probabilities over different intervals and can be used to understand data. The distributions can nearly all be related to each other in some way.\n",
    "\n",
    "Some distributions such as the normal and binomial distributions show a central tendancy around a mean value while others such as the uniform distribution do not show any preference for any one value over another and the values can be spread out anywhere in the range. \n",
    "\n",
    "The distribution functions take various arguments but location for the centre, size for the number of samples and scale for the spread. Also probability for some functions....\n",
    "\n",
    "**Plots and statistics will show the differences between the types of random numbers that would be generated from the different probability distributions**\n",
    "\n",
    "In uniform distributions the  samples are evenly spread while normal distributions show central tendancy.\n",
    "Can use plot to show this difference by simulating same number of data points and plotting.\n",
    "\n",
    "The numpy.random.normal() function generates random numbers in a bell shaped curve centred around zero. The numbers near the centre of the distribution have a higher chance of being randomly generated while the numbers further away the centre (at zero) have less chance of being randomly generated.\n",
    "the numpy.random.uniform() function generates numbers between a start and finish point where any one number is as likely to occur as any other number. In a uniform distribution, you would expect to see a fairly straight line at the top while the normal distribution is bell shaped.\n",
    "***"
   ]
  },
  {
   "cell_type": "markdown",
   "metadata": {},
   "source": [
    "- [The normal distribution function](#normal) \n",
    "- [The Standard Normal distribution function](#standard_normal)\n",
    "- [The Uniform Distribution function](#uniform)\n",
    "- [The Binomial Distribution function](#binomial)\n",
    "\n",
    "\n",
    "- [The Poisson Distribution Function](#poisson)"
   ]
  },
  {
   "cell_type": "markdown",
   "metadata": {},
   "source": [
    "***\n",
    "# Numpy.Random Distribution Functions. "
   ]
  },
  {
   "cell_type": "markdown",
   "metadata": {},
   "source": [
    "## Draw random samples from the Normal (Gaussian) distribution\n",
    "\n",
    "Normal Distribution Function\n",
    "<a id='normal'></a>\n",
    "\n",
    "The **`numpy.random.normal([loc, scale, size])`** function is used to draw random samples from a normal (Gaussian) distribution which has a symmetric, bell shaped density curve density curve described by its mean $mu$ and standard deviation $\\sigma$.\n",
    "\n",
    "It is not one distribution but a family of distributions depending on the value of its mean $\\mu$ and standard deviation $\\sigma$.  (Please see appendix for more details on the Normal distribution.)\n",
    "\n",
    "A normally distributed random variable x can be denoted as follows:  x~  $N(\\mu,\\sigma^2)$   \n",
    "This notation means that x is normally distributed with a mean of $\\mu$ and a variance of $\\sigma^2$.\n",
    "\n",
    "The density curve is symmetrical and centered about its mean. The spread is determined by the standard deviation. Data points near the mean occur more frequently than data points that are far from the mean. \n",
    "\n",
    "The mean of the distribution determines the location of the center of the graph. The standard deviation determines the height and shape or spread of the graph. When the standard deviation is large, the curve is short and wide and when the standard deviation is small, the curve is tall and narrow. \n",
    "\n",
    "The numbers near the centre of the distribution have a higher chance of being randomly generated while the numbers further away from the centre of the distribution have less chance of being randomly generated.\n",
    "\n",
    "The `numpy.random.normal` function generates random number in a bell shaped curve centred around zero but spread out according to the scale parameter.  The function depends on two factors, the mean and the standard deviation. \n",
    "\n",
    "See [numpy.random.normal(loc=0.0, scale=1.0, size=None)](https://numpy.org/doc/1.16/reference/generated/numpy.random.normal.html#numpy-random-normal).\n",
    "\n",
    "To use the `numpy.random.normal` function, the `loc` argument is used to specify the mean or the centre of the distribution, the `scale` is used to specify the standard deviation of the distribution and the size is the number of random variables to sample.  Otherwise the loc or mean defaults to 0 and scale / standard deviation defaults to 1 which is the same as the standard normal distribution. See below.\n",
    "\n",
    "If you supply three arguments, the first is taken to be the mean $\\mu$, the second to be the scale or standard deviations $\\sigma^2$ and the last to be the number of data points. \n"
   ]
  },
  {
   "cell_type": "markdown",
   "metadata": {},
   "source": []
  },
  {
   "cell_type": "code",
   "execution_count": null,
   "metadata": {},
   "outputs": [],
   "source": [
    "# here we generate a range of 1000 numbers the normal distribution\n",
    "\n",
    "plt.rcParams['figure.figsize'] = 10,4\n",
    "plt.subplot(1,2,1)  # 1 row, 2 columns of plots, select first plot\n",
    "\n",
    "x= np.random.normal(0.0, 1.0, 1000) # 1000 points centred around mean of zero, with standard deviation of 1\n",
    "\n",
    "plt.hist(x, bins = 30)\n",
    "\n",
    "plt.subplot(1,2,2) # # 1 row, 2 columns of plots, select second plot\n",
    "\n",
    "# here we generate a range of 1000 numbers from 0 to 1000 data\n",
    "x= np.random.normal(2.0, 2.0, 1000) ## 1000 points centred around mean of two, with standard deviation of 2\n",
    "\n",
    "\n",
    "plt.hist(x)\n"
   ]
  },
  {
   "cell_type": "markdown",
   "metadata": {},
   "source": [
    "Histogram showing samples drawn a normal distribution with mean 0 and standard deviation of 0.1 "
   ]
  },
  {
   "cell_type": "code",
   "execution_count": null,
   "metadata": {},
   "outputs": [],
   "source": [
    "# using the example from the documentation to start with draw samples from the distribution and display the histogram of the samples, along with the probability density function\n",
    "import numpy as np\n",
    "mu, sigma = 0, 0.1 # mean and standard deviation\n",
    "s = np.random.normal(mu, sigma, 1000)\n",
    "\n",
    "import matplotlib.pyplot as plt\n",
    "count, bins, ignored = plt.hist(s, 30, density=True)\n",
    "plt.plot(bins, 1/(sigma * np.sqrt(2 * np.pi)) *\n",
    "               np.exp( - (bins - mu)**2 / (2 * sigma**2) ),\n",
    "         linewidth=2, color='r')\n",
    "\n",
    "plt.xlabel('A')\n",
    "plt.ylabel('Probability')\n",
    "plt.title('Normal Distribution with $\\mu=0,\\ \\sigma=0.1$')\n",
    "plt.text(0.2, 3, r'$\\mu=0,\\ \\sigma=0.1$')\n",
    "#plt.axis([40, 160, 0, 0.03])\n",
    "plt.grid(True)\n",
    "\n",
    "\n",
    "plt.show()"
   ]
  },
  {
   "cell_type": "markdown",
   "metadata": {},
   "source": [
    "#### Verifying the mean and the standard deviation."
   ]
  },
  {
   "cell_type": "code",
   "execution_count": null,
   "metadata": {},
   "outputs": [],
   "source": [
    "print(abs(mu - np.mean(s)) < 0.01 ) # verifying the mean\n",
    "print(abs(sigma - np.std(s, ddof=1)) < 0.01) # verifying the standard deviation"
   ]
  },
  {
   "cell_type": "markdown",
   "metadata": {},
   "source": [
    "### plotting multiple plots using seaborn \n",
    "\n",
    "Seaborns `distplot` is the most convenient way to draw a univariate distribution.\n",
    "By default, it will draw a histogram and fit a kernel density estimate.\n",
    "A histogram represents the distribution of data by forming bins along the range of the data and then drawing bars to show the number of observations that fall in each bin.\n",
    "The kernel density estimate is also useful tool for plotting the shape of a distribution.\n",
    "\n",
    "Here I plot different normal distributions with various means and standard deviations."
   ]
  },
  {
   "cell_type": "code",
   "execution_count": 75,
   "metadata": {},
   "outputs": [
    {
     "data": {
      "text/plain": [
       "<matplotlib.axes._subplots.AxesSubplot at 0x1a1d8ba400>"
      ]
     },
     "execution_count": 75,
     "metadata": {},
     "output_type": "execute_result"
    },
    {
     "data": {
      "image/png": "[encoded data removed]",
      "text/plain": [
       "<Figure size 720x432 with 4 Axes>"
      ]
     },
     "metadata": {
      "needs_background": "light"
     },
     "output_type": "display_data"
    }
   ],
   "source": [
    "f, axes = plt.subplots(2, 2, figsize=(10, 6), sharex=False)\n",
    "\n",
    "# Generate a random datasets using random.standard_normal\n",
    "x1 = np.random.normal(0,1,10000)\n",
    "x2 = np.random.normal(3,1,10000)\n",
    "x3 = np.random.normal(0,2,10000)\n",
    "x4 = np.random.normal(-3,0.6, 10000)\n",
    "\n",
    "\n",
    "sns.distplot(x1, ax=axes[0, 0])\n",
    "sns.distplot(x2, ax=axes[0, 1])\n",
    "sns.distplot(x3,ax=axes[1, 0])\n",
    "sns.distplot(x4, ax=axes[1, 1])\n"
   ]
  },
  {
   "cell_type": "code",
   "execution_count": 79,
   "metadata": {},
   "outputs": [
    {
     "name": "stdout",
     "output_type": "stream",
     "text": [
      "0.0040576870335282825\n",
      "2.9987866518975106\n",
      "0.006960727703882464\n",
      "3.0017660397730443\n"
     ]
    }
   ],
   "source": [
    "print(np.mean(x1))\n",
    "print(np.mean(x2))\n",
    "print(np.median(x1))\n",
    "print(np.median(x2))"
   ]
  },
  {
   "cell_type": "markdown",
   "metadata": {},
   "source": [
    "The normal distributions plotted above all have bell-shaped curves and are centred around the mean provided as the `loc` parameter to the function. The spread of the curve is determined by the standard deviation that is provided to the function also as the `scale` parameter.\n",
    "By changing the `loc` for the mean and `scale` for the standard deviation will result in wider or narrower curves but still with the bell shape.\n",
    "\n",
    "$\\mu$ is the mean, $\\sigma$ is the standard deviation which is the square root of the standard deviation, $\\sigma^2$.\n",
    "\n",
    "For any normally distributed variable, irrespective of the mean and standard deviation, if you start at the mean and move 1 standard deviation out in any direction, (this would be -1 and 1 for standard normal distribution with mean 0 and standard deviation of 1), the probability of getting a measurement of value from this variable within the range -1 to 1 is 68.27%.\n",
    "\n",
    "The rule is that 68.27% of the values under the curve fall between -1 and +1 standard deviations from the mean or centre, 95.45% under the curve between -2 and 2 standard deviations and 99.73% between -3 and 3 standard deviations. \n",
    "This rule applies no matter what the mean and standard deviations are. \n",
    "\n",
    "Note that in all cases the curve does not cross the x-axis as it goes to infinity in both directions of the mean. However the chances of values more than 3 standard deviations from the centre or mean of the curve is very small.\n",
    "\n"
   ]
  },
  {
   "cell_type": "markdown",
   "metadata": {},
   "source": [
    "All the plots above are normally distributed but with different means $\\mu$ and standard deviations $\\sigma$.\n",
    "A normal distribution with a mean of 0 and a standard deviation of 1 is a special case of the normal distribution which brings me to the next distribution  - the *Standard Normal Distribution*.\n",
    "\n",
    "For an aproximately normal data set, almost 68% of the data points fall within one standard deviation from the mean, while  95% of the data falls within 2 standard deviations and 99.7% fall within 3 standard deviations.\n",
    "\n",
    "There are many different normal distributions with different means and variances which would have made them difficult to be tabulated in the way the normal distribution is tabulated in the New Cambridge Statistical Tables. The standard normal distribution with $\\mu$ of 0 and $\\sigma$ of 1 is tabulated and can be used to find the probabilities for any normal distribution. All questions regarding the normal distribution can be converted into questions regarding the standard normal distribution.\n",
    "\n"
   ]
  },
  {
   "cell_type": "code",
   "execution_count": null,
   "metadata": {},
   "outputs": [],
   "source": []
  },
  {
   "cell_type": "markdown",
   "metadata": {},
   "source": [
    "<a id='standard_normal'></a>\n",
    "## The Standard Normal Distribution function\n",
    "\n",
    "The [standard normal distribution](https://stattrek.com/statistics/dictionary.aspx?definition=random%20variable) is a special case of the normal distribution. \n",
    ">It is the distribution that occurs when a normal random variable has a mean of zero and a standard deviation of one.  The normal random variable of a standard normal distribution is called a standard score or a z score. Every normal random variable X can be transformed into a z score\n",
    "\n",
    "The standard normal distribution, of the random variable z, has $\\mu$ = 0 and $/sigma$ = 1 and can be used to calculate areas under any normal distribution. z~ $N(0,1)$\n",
    "\n",
    "The [numpy.random.standard_normal](https://numpy.org/doc/1.16/reference/generated/numpy.random.standard_normal.html#numpy-random-standard-normal) distribution function is used to draw samples from a standard Normal distribution that has a mean of 0 and a standard deviation of 1. \n",
    "\n",
    "To use the `numpy.random.standard_normal` function,  you just need to supply the number of data points to generate as the size argument. Without specifying the number of data points you will just get a single value. \n",
    "\n",
    "Note that the `numpy.random.randn()` function in the section on simple random data functions a convenience function for numpy.random.standard_normal. It returns a single float or an ndarray of floats. See [numpy.random.randn](#randn).\n",
    "\n"
   ]
  },
  {
   "cell_type": "code",
   "execution_count": null,
   "metadata": {},
   "outputs": [],
   "source": [
    "s = np.random.standard_normal(5000)  # 5000 standard normal values\n",
    "np.mean(s) # show that the mean is 0\n",
    "np.std(s) # show that the standard deviation is 1\n",
    "\n",
    "sns.distplot(s)\n",
    "\n",
    "print(np.mean(s))\n",
    "print(np.std(s))\n"
   ]
  },
  {
   "cell_type": "markdown",
   "metadata": {},
   "source": [
    "The above plots show that whatever the number of values generated, the curve is symmetric about the mean of 0, most of the values are clustered around the centre and most of the values are within 2 standard deviations of the mean.\n",
    "\n",
    "\n",
    "I could put these plots on the same plot and use subplots"
   ]
  },
  {
   "cell_type": "code",
   "execution_count": null,
   "metadata": {},
   "outputs": [],
   "source": [
    "\n",
    "# Set up the matplotlib figure\n",
    "f, axes = plt.subplots(2, 2, figsize=(10, 6), sharex=False)\n",
    "\n",
    "# Generate a random datasets using random.standard_normal\n",
    "x1 = np.random.standard_normal(100)\n",
    "x2 = np.random.standard_normal(1000)\n",
    "x3 = np.random.standard_normal(10000)\n",
    "x4 = np.random.standard_normal(100000)\n",
    "\n",
    "\n",
    "sns.distplot(x1, ax=axes[0, 0])\n",
    "sns.distplot(x2, ax=axes[0, 1])\n",
    "sns.distplot(x3,ax=axes[1, 0])\n",
    "sns.distplot(x4, ax=axes[1, 1])\n",
    "\n",
    "\n"
   ]
  },
  {
   "cell_type": "markdown",
   "metadata": {},
   "source": [
    "From the lecture notes.\n",
    "Demonstrated that if we wanted to get the average of a population such as the average heights of everyone in the country, but it is not possible or practical to do so. Instead in practice you might take representative random samples from the population and get the averages of this. This is a statistic which is a good estimator for the population paramter. Statistics measure estimates of parameters in a sample. There are many ways to take samples from a population and when you calculate the average of the sample it is unlikely to be the actual average for the population. Any values of a normal distribution have a probability of zero as it is a continuous distribution but the mean can be thought of as the centre of the distribution or where the values are more likely to be from.\n",
    "If a variable is normally distributed the mean is where the values are centred on and its standard deviation shows how likely a value to to be away from the mean value.\n",
    "\n",
    "# HERE!\n",
    "If we want to get the average of all heights in a country, you could take samples of samplesize from the population and do this a number of times. \n",
    "Numpy can be used to generate data to simulate this process. You can get 1000 estimates of sample of 100 values from a normal distribution.\n",
    "Then look at the mean and standard deviations from each of the sample and see how these are distributed to get the sampling distribution of the mean.\n",
    "\n",
    "If all the values you could measure follow a particular distribrution such as the normal distribution, then\n",
    "You could measure or take a single point or value from this distribution. Instead if we take 10 values from this distribution, and calculate their mean, the mean should be quite close to the mean in the population but with some variation. Some random samples of 10 values could be randomly quite big or small or even more extreme. You can take the average of each sample and see how do they relate to the mean of the overall distributio of the population you took them from.\n",
    "Use numpy randoms standard_normal function np.random.standard_normal give some random values following a standard normal distribution. Can do it 1000 times."
   ]
  },
  {
   "cell_type": "code",
   "execution_count": null,
   "metadata": {},
   "outputs": [],
   "source": [
    "np.set_printoptions(formatter={'float': lambda x: \"{0:6.3f}\".format(x)})\n",
    "\n",
    "sampsize = 5\n",
    "nosamps = 10\n",
    "\n",
    "samp = np.random.standard_normal((nosamps, sampsize))\n",
    "\n",
    "print(samp)"
   ]
  },
  {
   "cell_type": "code",
   "execution_count": null,
   "metadata": {},
   "outputs": [],
   "source": [
    "print(samp.ndim)\n",
    "print(samp.size)\n",
    "print(samp.shape)"
   ]
  },
  {
   "cell_type": "code",
   "execution_count": null,
   "metadata": {},
   "outputs": [],
   "source": [
    "mean = samp.sum(axis=1) / sampsize\n",
    "print(mean)"
   ]
  },
  {
   "cell_type": "code",
   "execution_count": null,
   "metadata": {},
   "outputs": [],
   "source": [
    "vari = (samp - mean[:, np.newaxis])**2\n",
    "vari"
   ]
  },
  {
   "cell_type": "code",
   "execution_count": null,
   "metadata": {},
   "outputs": [],
   "source": [
    "# Calculate the variance.\n",
    "vari = (samp - mean[:, np.newaxis])**2\n",
    "vari = vari.sum(axis=1) / (sampsize)\n",
    "\n",
    "# Without the correction.\n",
    "mean_vari = vari.sum() / nosamps\n",
    "print(mean_vari)\n",
    "\n",
    "# Using Bessel's correction: https://en.wikipedia.org/wiki/Bessel%27s_correction\n",
    "print(mean_vari * (sampsize / (sampsize - 1.0)))"
   ]
  },
  {
   "cell_type": "markdown",
   "metadata": {},
   "source": [
    "***\n",
    "<a id=\"uniform\"></a>\n",
    "## The Uniform distribution functions.\n",
    "\n",
    "A uniform distribution, sometimes also known as a rectangular distribution, is a distribution that has constant probability. ([wolfram mathworld](http://mathworld.wolfram.com/UniformDistribution.html)).\n",
    "\n",
    "The continuous uniform distribution takes values in the specified range (a,b)\n",
    "The curve describing the distribution is rectangle shaped because any interval of numbers has the same probability of being drawn as any other interval of the same width. Each interval has constant height across it and 0 everywhere else.\n",
    "The area under the curve must be equal to 1 and therefore the height of the curve equals $\\frac{1}{b-a}$\n",
    " \n",
    "The expected value of the uniform distribution is $\\frac{b-a}{2}$ the midpoint of the interval.   \n",
    "The variance $\\sigma^2$ is $\\frac{1}{12}(b-a)^2$\n",
    "The *standard uniform* distribution is where a is 0 and b is 1. \n",
    "\n",
    "  \n",
    "####  The `numpy.random.uniform` function. \n",
    "[numpy.random.uniform(low=0.0, high=1.0, size=None](https://numpy.org/doc/1.16/reference/generated/numpy.random.uniform.html#numpy.random.uniform)\n",
    ">Samples are uniformly distributed over the half-open interval $[low, high)$ (includes low, but excludes high). In other words, any value within the given interval is equally likely to be drawn by uniform.\n",
    "\n",
    "To use this function, you can provide the lower $low$ and upper $high$ bounds of the interval (a and b). Otherwise the interval is taken as the half-open interval $[0,1.0)$. The function randomly samples from the uniform distribution over the specified interval. If you provide the bounds of the interval, the smaller number will be taken as the lower bounds and the bigger number as the upper bound no matter. \n",
    "Without providing any arguments, a single value is returned in the interval $[0.0,1.0)$.\n",
    "If a single value is provided to the function, this is taken as the upper bound of the interval and a single value will be returned. The lower value in this case is taken as 0.0. When two values are provided to the function, then these are taken to be the lower and upper bounds of the interval and a scalar is returned. When the 3rd argument is provided to the function this is taken to be the size of the resulting array.\n",
    "\n",
    "Note that several of the numpy.random functions in the [simple random sampling functions] relate to the uniform distribution. \n",
    "`rand(d0, d1, …, dn)`, `random_sample([size])`,`random([size])` ,`ranf([size])` and `sample([size])` and return random floats in the half-open interval `[0.0, 1.0)`.\n",
    "While the `numpy.random.rand` function only returns random uniform numbers between 0 and 1 whereas the `numpy.random.uniform` function will give you numbers in any range if you supply the lower and upper bounds a and b. \n",
    "\n",
    "This gives the same results as the numpy.random `random_sample([size])`,`random([size])` ,`ranf([size])` and `sample([size])` when the outout is multiplied by $(b-a)$ and $a$ added but much simpler to use!"
   ]
  },
  {
   "cell_type": "markdown",
   "metadata": {},
   "source": [
    "#### Sampling from the continuous uniform distribution"
   ]
  },
  {
   "cell_type": "code",
   "execution_count": 65,
   "metadata": {},
   "outputs": [
    {
     "data": {
      "text/plain": [
       "array([ 7.870,  6.593,  6.156,  9.780,  7.823,  6.088,  6.247,  9.798,\n",
       "        6.194,  5.534,  5.920,  8.831,  8.544,  7.190,  8.969])"
      ]
     },
     "execution_count": 65,
     "metadata": {},
     "output_type": "execute_result"
    }
   ],
   "source": [
    "np.random.uniform() # a single random value in the interval [0,1)\n",
    "np.random.uniform(5) # a single value from the interval $[0,5)$\n",
    "np.random.uniform(5,10) # a single value in the interval [6,10)]\n",
    "np.random.uniform(5,10,15) # an array of 15 values from the interval [5,10)\n"
   ]
  },
  {
   "cell_type": "code",
   "execution_count": 98,
   "metadata": {},
   "outputs": [
    {
     "data": {
      "text/plain": [
       "29.058968608785392"
      ]
     },
     "execution_count": 98,
     "metadata": {},
     "output_type": "execute_result"
    }
   ],
   "source": [
    "np.random.uniform(1,100) "
   ]
  },
  {
   "cell_type": "markdown",
   "metadata": {},
   "source": [
    "#### Showing that the same results can be got from the simple random data functions"
   ]
  },
  {
   "cell_type": "code",
   "execution_count": 97,
   "metadata": {},
   "outputs": [
    {
     "name": "stdout",
     "output_type": "stream",
     "text": [
      "6.211146525231469\n"
     ]
    }
   ],
   "source": [
    "# 100 values from the uniform 2,11] interval\n",
    "x = np.random.uniform(2,11,100) \n",
    "print(np.mean(x))"
   ]
  },
  {
   "cell_type": "code",
   "execution_count": 96,
   "metadata": {},
   "outputs": [
    {
     "name": "stdout",
     "output_type": "stream",
     "text": [
      "6.5\n",
      "6.316644429368011\n"
     ]
    }
   ],
   "source": [
    "# using numpy.random.random\n",
    "a,b = 2,11\n",
    "mid = (a+b)/2; print(mid)\n",
    "x = (b-a) * np.random.random((100)) +a \n",
    "print(np.mean(x)) # this should be "
   ]
  },
  {
   "cell_type": "markdown",
   "metadata": {},
   "source": [
    "### plotting the uniform distributions"
   ]
  },
  {
   "cell_type": "code",
   "execution_count": 44,
   "metadata": {},
   "outputs": [
    {
     "name": "stdout",
     "output_type": "stream",
     "text": [
      "The mean of this distribution is 0.142\n",
      "The height of the distribution plot is 0.005\n"
     ]
    },
    {
     "data": {
      "image/png": "[encoded data removed]",
      "text/plain": [
       "<Figure size 432x288 with 1 Axes>"
      ]
     },
     "metadata": {
      "needs_background": "light"
     },
     "output_type": "display_data"
    }
   ],
   "source": [
    "# random sample of 10000 from interval between -100 and 100\n",
    "a,b = -100,100,\n",
    "x = np.random.uniform(a,b,10000) \n",
    "sns.distplot(x);  # using seaborn\n",
    "np.mean(x)\n",
    "print('The mean of this distribution is %.3f' % np.mean(x)) # to 3 decimal places \n",
    "\n",
    "print(\"The height of the distribution plot is\", (1/(b-a)))"
   ]
  },
  {
   "cell_type": "markdown",
   "metadata": {},
   "source": [
    "### Plotting random samples from Uniform distibution across different intervals\n",
    "\n",
    "While the shapes of the distribution plots are very similar you can see it becomes more rectangular as the sample size gets bigger. \n"
   ]
  },
  {
   "cell_type": "markdown",
   "metadata": {},
   "source": [
    "#### plotting random numbers from uniform distribution using the seaborn distplot."
   ]
  },
  {
   "cell_type": "code",
   "execution_count": 51,
   "metadata": {},
   "outputs": [
    {
     "name": "stdout",
     "output_type": "stream",
     "text": [
      "The mean of this distribution are for x1: -0.505, x2: 12.248, x3: 10.998 and x4: -0.008\n"
     ]
    },
    {
     "data": {
      "image/png": "[encoded data removed]",
      "text/plain": [
       "<Figure size 720x432 with 4 Axes>"
      ]
     },
     "metadata": {
      "needs_background": "light"
     },
     "output_type": "display_data"
    }
   ],
   "source": [
    "# Set up the matplotlib figure\n",
    "f, axes = plt.subplots(2, 2, figsize=(10, 6), sharex=False)\n",
    "\n",
    "# Generate a random datasets using random.standard_normal\n",
    "x1 = np.random.uniform(-1,0,1000)\n",
    "x2 = np.random.uniform(5,20,1000)\n",
    "x3 = np.random.uniform(2,20,10000)\n",
    "x4 = np.random.uniform(-5,5,10000)\n",
    "\n",
    "\n",
    "sns.distplot(x1, ax=axes[0, 0])\n",
    "sns.distplot(x2, ax=axes[0, 1])\n",
    "sns.distplot(x3, ax=axes[1, 0])\n",
    "sns.distplot(x4 ,ax=axes[1, 1])\n",
    "\n",
    "print('The mean of this distribution are for x1: %.3f, x2: %.3f, x3: %.3f and x4: %.3f' %(np.mean(x1), np.mean(x2), np.mean(x3), np.mean(x4))) # to 3 decimal places "
   ]
  },
  {
   "cell_type": "markdown",
   "metadata": {},
   "source": [
    "##### Plotting samples of size 1000 from continuous uniform distributions across various interval using matplotlib plots"
   ]
  },
  {
   "cell_type": "code",
   "execution_count": 16,
   "metadata": {},
   "outputs": [
    {
     "data": {
      "image/png": "[encoded data removed]",
      "text/plain": [
       "<Figure size 864x216 with 4 Axes>"
      ]
     },
     "metadata": {
      "needs_background": "light"
     },
     "output_type": "display_data"
    }
   ],
   "source": [
    "# Set up the matplotlib figure\n",
    "\n",
    "x1 = np.random.uniform(2,12,1000)\n",
    "x2 = np.random.uniform(5,20,1000)\n",
    "x3 = np.random.uniform(2,20,1000)\n",
    "x4 = np.random.uniform(-5,5,1000)\n",
    "\n",
    "\n",
    "plt.figure(figsize=(12, 3))\n",
    "\n",
    "plt.subplot(141)\n",
    "plt.hist(x1)\n",
    "plt.subplot(142)\n",
    "plt.hist(x2)\n",
    "plt.subplot(143)\n",
    "plt.hist(x3)\n",
    "plt.subplot(144)\n",
    "plt.hist(x4)\n",
    "plt.suptitle('Uniform Distribution over various intervals')\n",
    "plt.show()\n"
   ]
  },
  {
   "cell_type": "markdown",
   "metadata": {},
   "source": [
    "Here I have adapted from the example in the [numpy.random.uniform](https://numpy.org/doc/1.16/reference/generated/numpy.random.uniform.html#numpy-random-uniform) documentation."
   ]
  },
  {
   "cell_type": "code",
   "execution_count": 154,
   "metadata": {},
   "outputs": [
    {
     "name": "stdout",
     "output_type": "stream",
     "text": [
      "True\n",
      "True\n"
     ]
    }
   ],
   "source": [
    "# Draw samples from the uniform distribution in the interval $[-1,0)$:\n",
    "s = np.random.uniform(-1,0,1000)\n",
    "\n",
    "# Checking that all the values are within the given interval:\n",
    "print(np.all(s >= -1))\n",
    "\n",
    "print(np.all(s < 0))"
   ]
  },
  {
   "cell_type": "code",
   "execution_count": 155,
   "metadata": {},
   "outputs": [
    {
     "data": {
      "image/png": "[encoded data removed]",
      "text/plain": [
       "<Figure size 432x288 with 1 Axes>"
      ]
     },
     "metadata": {
      "needs_background": "light"
     },
     "output_type": "display_data"
    }
   ],
   "source": [
    "#Display the histogram of the samples, along with the probability density function:\n",
    "\n",
    "# use np.ones_like function to return an array of ones with the same shape and type as s.\n",
    "import matplotlib.pyplot as plt\n",
    "count, bins, ignored = plt.hist(s,15, density=True)  # cut int 15 bins\n",
    "plt.plot(bins, np.ones_like(bins), linewidth=2, color='r') ## add a horizontal line at 1.0 using the np.ones like\n",
    "plt.show()"
   ]
  },
  {
   "cell_type": "markdown",
   "metadata": {},
   "source": [
    "Showing that the midpoint of the interval is the expected value or mean. \n"
   ]
  },
  {
   "cell_type": "code",
   "execution_count": 158,
   "metadata": {},
   "outputs": [
    {
     "name": "stdout",
     "output_type": "stream",
     "text": [
      "-0.5007937782945021 0.29042758103897826\n"
     ]
    }
   ],
   "source": [
    "a,b = -1,0\n",
    "u1 = np.random.uniform(a,b,1000)\n",
    "\n",
    "print(np.mean(u1), np.std(u1))\n"
   ]
  },
  {
   "cell_type": "markdown",
   "metadata": {},
   "source": []
  },
  {
   "cell_type": "code",
   "execution_count": 62,
   "metadata": {},
   "outputs": [
    {
     "data": {
      "image/png": "[encoded data removed]",
      "text/plain": [
       "<Figure size 432x288 with 1 Axes>"
      ]
     },
     "metadata": {
      "needs_background": "light"
     },
     "output_type": "display_data"
    }
   ],
   "source": [
    "# plotting random numbers from uniform distribution using the seaborn distplot.\n",
    "n = 10000\n",
    "a = 10\n",
    "b = 20\n",
    "s = np.random.uniform(a,b,1000)\n",
    "\n",
    "\n",
    "ax = sns.distplot(s,bins=100)\n",
    "ax.set(xlabel='Uniform Distribution ', ylabel='Frequency')\n",
    "plt.show()"
   ]
  },
  {
   "cell_type": "code",
   "execution_count": null,
   "metadata": {},
   "outputs": [],
   "source": []
  },
  {
   "cell_type": "markdown",
   "metadata": {},
   "source": [
    "***"
   ]
  },
  {
   "cell_type": "markdown",
   "metadata": {},
   "source": [
    "## Discrete Probability Distributions\n",
    "\n",
    "see https://machinelearningmastery.com/discrete-probability-distributions-for-machine-learning/\n",
    "\n",
    ">A discrete random variable is a random variable that can have one of a finite set of specific outcomes. The two types of discrete random variables most commonly used in machine learning are binary and categorical.\n",
    "\n",
    "- A **binary random variable** is a discrete random variable where the finite set of outcomes is in {0, 1}. \n",
    "- A **categorical random variable** is a discrete random variable where the finite set of outcomes is in {1, 2, …, K}, where K is the total number of unique outcomes.\n",
    "\n",
    "Each outcome or event for a discrete random variable has a probability.\n",
    "The probability mass function summarises a discrete probablity distribution which relates events for a discrete random variable with their probabilities of occurring.\n",
    "\n",
    "A Probability Mass Function (PMF) returns the probability of a given outcome.\n",
    "A Cumulative Distribution Function (CDF) returns the probability of a value less than or equal to a given outcome.\n",
    "A Percent-Point Function (PPF) returns a discrete value that is less than or equal to the given probability.\n",
    "\n",
    "The most common discrete probability distributions are the Bernoulli and Multinoulli distributions for binary and categorical discrete random variables respectively, and the Binomial and Multinomial distributions that generalize each to multiple independent trials.\n",
    "\n"
   ]
  },
  {
   "cell_type": "markdown",
   "metadata": {},
   "source": [
    "The next distribution function I am looking at is the **Binomial** distribution function.\n",
    "\n",
    " The parameters of a binomial distribution are n and p where n is the total number of trials, and p is the probability of success in each trial. "
   ]
  },
  {
   "cell_type": "markdown",
   "metadata": {},
   "source": []
  },
  {
   "cell_type": "markdown",
   "metadata": {},
   "source": [
    "<a id=\"binomial\"></a>\n",
    "## The Binomial Distribution\n",
    "\n",
    "The `numpy.random.binomial` function is used to draw samples from a binomial distribution which is one of the most important probability distributions for discrete random variables. A **Binomial distribution** is the probability distribution of a binomial random variable. \n",
    "\n",
    "***\n",
    "The [binomial distribution](http://mathworld.wolfram.com/BinomialDistribution.html) gives the discrete probability distribution $P_p(n|N)$ of obtaining exactly n successes out of N Bernoulli trials (where the result of each Bernoulli trial is true with probability $p$ and false with probability $q=1-p$).\n",
    "\n",
    "See also https://en.wikipedia.org/wiki/Binomial_distribution\n",
    "\n",
    "The binomial distribution is the probability distribution of a sequence of experiments where each experiment produces a binary outcome and where each of the outcomes is independent of all the others.\n",
    "\n",
    "$n$ is the number of times the experiment is run while $p$ is the probability of a specific outcome such as heads. \n",
    "The results from performing the same set of experiments, such as repeatedly flipping a coin a number of times and the number of heads observed across all the sets of experiments follows the binomial distribution.\n",
    "\n",
    "In the binomial distribution there are only two (bi) possible outcomes such as win and lose, success and failure, heads and tails, class a and class b. The probabilities of success and failure are the same for all trials which are independent of each other. Each of the two outcomes may have different probabilities. \n",
    "The distribution can be summarised by a single variable p.\n",
    "\n",
    "The binomial distribution is the probability of a success or failure outcome in an experiment that is repeated many times. A binomial experiment has only two (bi) possible outcomes such as heads or tails, true or false etc. One of these outcomes can be called a **success** and the other a **failure**. The probability of success (P) is the same on every trial\n",
    "A single coin flip is an example of an experiment with a binary outcome. \n",
    "\n",
    "A **binomial experiment** consists of a number $n$ of repeated identical **Bernoulli** trials \n",
    "- where there are only two possible outcomes, success or failure \n",
    "- the probability of success $p$ is constant (the same in every trial)\n",
    "- the $n$ trials are independent - outcome of one trial does not affect the outcome of another trial.\n",
    "- The binomial random variable $x$ is the number of successes in $n$ trials.\n",
    "\n",
    "The outcome of a binomial experiment is a **binomial random variable**.\n",
    "**Binomial probability** is the probability that a binomial random variable assumes a specific value. \n",
    "-b(x,n,P): Binomial probability  - the probability that an n-trial binomial experiment results in exactly x successes.\n",
    "\n",
    "### The binomial distribution has the following properties:\n",
    "- The mean of the distribution is equal to $n*P$\n",
    "- The variance $\\sigma^2$ is $n*P*(1-p)$\n",
    "- the standard deviation $sqrt(n*P*(1-p))$\n",
    "\n",
    "#### Some other properties from wikipedia\n",
    "In general, if np is an integer, then the mean, median, and mode coincide and equal np\n",
    "The Bernoulli distribution is a special case of the binomial distribution, where n = 1. \n",
    "The binomial distribution is a special case of the Poisson binomial distribution, or general binomial distribution, which is the distribution of a sum of n independent non-identical Bernoulli trials B(pi)\n",
    "If n is large enough, then the skew of the distribution is not too great. In this case a reasonable approximation to B(n, p) is given by the normal distribution\n",
    "The binomial distribution converges towards the Poisson distribution as the number of trials goes to infinity while the product np remains fixed or at least p tends to zero. Therefore, the Poisson distribution with parameter λ = np can be used as an approximation to B(n, p) of the binomial distribution if n is sufficiently large and p is sufficiently small. According to two rules of thumb, this approximation is good if n ≥ 20 and p ≤ 0.05, or if n ≥ 100 and np ≤ 10.[\n",
    "\n",
    "***\n"
   ]
  },
  {
   "cell_type": "markdown",
   "metadata": {},
   "source": [
    "### Using the numpy.random.binomial function\n",
    "\n",
    "see [numpy.random.binomial](https://numpy.org/doc/1.16/reference/generated/numpy.random.binomial.html#numpy-random-binomial).\n",
    "***\n",
    "Using `numpy.random.binomial`, samples are drawn from a binomial distribution with specified parameters where $n$ is the number of trials and $p$ is the probability of success on each trial. The number of samples can be specified using the size parameter. The number of samples is the number of times to repeat the trials.\n",
    "\n",
    "$n$ must be an integer >= 0 and the probability $p$  must be in the interval $[0,1]$. \n",
    "\n",
    "This function returns an array of samples drawn from the binomial distribution based on the $n$ and $p$ and $size$ parameters given to the function. Each sample is equal to the number of successes over n trials.\n",
    "\n",
    "\n",
    "The `np.random.binomial(n, p)` function can be used to simulate the result of a single sequence of n experiments (where n could be any positive integer), do so using using a binomially distributed random variable.\n",
    "\n",
    "For example to find the probability of getting 4 heads with 10 coin flips, simulate 10,000 runs where each run has 10 coin flips. This repeats the 10 coin toss 10,000 times."
   ]
  },
  {
   "cell_type": "markdown",
   "metadata": {},
   "source": [
    "#### Example of drawing samples from a binomial distribution.\n",
    "\n",
    "This is adapted from the example on the on the [numpy random docs](https://numpy.org/doc/1.16/reference/generated/numpy.random.binomial.html#numpy-random-binomial) to draw samples from a distribution using `np.random.binomial(n, p, size)`"
   ]
  },
  {
   "cell_type": "code",
   "execution_count": 12,
   "metadata": {},
   "outputs": [
    {
     "data": {
      "text/plain": [
       "array([2, 8, 7, 4, 5, 4, 4, 6, 7, 6, 5, 5, 4, 4, 6, 5, 7, 5, 5, 4, 1, 5,\n",
       "       4, 7, 4, 4, 7, 5, 7, 2, 5, 3, 5, 6, 5, 5, 6, 7, 8, 4, 5, 5, 5, 7,\n",
       "       6, 4, 4, 4, 5, 7, 5, 5, 7, 4, 5, 7, 8, 6, 6, 2, 3, 5, 4, 5, 6, 6,\n",
       "       6, 5, 4, 5, 5, 5, 4, 6, 3, 8, 7, 6, 2, 3, 5, 5, 3, 3, 5, 7, 4, 5,\n",
       "       6, 7, 6, 5, 4, 7, 8, 5, 5, 8, 3, 6])"
      ]
     },
     "execution_count": 12,
     "metadata": {},
     "output_type": "execute_result"
    }
   ],
   "source": [
    "n, p = 10, .5  # number of trials, probability of each trial\n",
    "s = np.random.binomial(n, p, 100)\n",
    "s  ## returns an array of 100 samples\n"
   ]
  },
  {
   "cell_type": "markdown",
   "metadata": {},
   "source": [
    "This returns a numpy array with 100 (size=100) samples drawn from a binomial distribution where the probability of success in each trial is 0.5 (p=0.5), where each number or sample returned represents the number of successes in each experiment which consist of 10 bernoulli trials (n=10)\n",
    "These 100 where each number represents the number of successes in each experiment where each experiment consists of 10 bernoulli trials each with 0.5 probability of success.\n",
    "\n",
    "- $n$ the number of trials, \n",
    "- $p$ the probability of success in each trial\n",
    "- $size$ is the number of samples drawn (the number of times the experiment is run)\n"
   ]
  },
  {
   "cell_type": "markdown",
   "metadata": {},
   "source": [
    "### Plotting the Binomial distribution"
   ]
  },
  {
   "cell_type": "markdown",
   "metadata": {},
   "source": [
    "Here using seaborn to plot a binomial distribution that has 100 trials in each experiment, the probability of success in each trial is 0.8 and the number of samples (times the experiment is run) is 100000. \n",
    "As the plot shows, the distribution is skewed to the right because the probaility of success in each trial is 0.8. \n",
    "When the probability of success is less than 0.5 then a left skewed distribution is expected, the skew would depend on the probability. A probability of 0.5 would have a centred distribution. "
   ]
  },
  {
   "cell_type": "code",
   "execution_count": 76,
   "metadata": {},
   "outputs": [
    {
     "data": {
      "text/plain": [
       "[Text(0, 0.5, 'Frequency'), Text(0.5, 0, 'Binomial Distribution')]"
      ]
     },
     "execution_count": 76,
     "metadata": {},
     "output_type": "execute_result"
    },
    {
     "data": {
      "image/png": "[encoded data removed]",
      "text/plain": [
       "<Figure size 432x288 with 1 Axes>"
      ]
     },
     "metadata": {},
     "output_type": "display_data"
    }
   ],
   "source": [
    "n,p,size = 100, 0.8, 10000\n",
    "s = np.random.binomial(n, p, size)\n",
    "ax = sns.distplot(s, kde= False)\n",
    "ax.set(xlabel='Binomial Distribution', ylabel='Frequency')"
   ]
  },
  {
   "cell_type": "markdown",
   "metadata": {},
   "source": [
    "### Plotting the binomial distribution with various probabilities."
   ]
  },
  {
   "cell_type": "code",
   "execution_count": 78,
   "metadata": {},
   "outputs": [
    {
     "data": {
      "image/png": "[encoded data removed]",
      "text/plain": [
       "<Figure size 864x432 with 4 Axes>"
      ]
     },
     "metadata": {},
     "output_type": "display_data"
    }
   ],
   "source": [
    "# Set up the matplotlib figure\n",
    "f, axes = plt.subplots(2, 2, figsize=(12, 6), sharex=True)\n",
    "sns.set_style('ticks')\n",
    "n,p,size = 10, 0.2, 10000\n",
    "# Generate a random datasets using random.binomial\n",
    "b1 = np.random.binomial(n, p, size) # p= 0.2\n",
    "b2 = np.random.binomial(n, p+0.3, size) # p= 0.5\n",
    "b4= np.random.binomial(n, p+0.2, size) # p= 0.9\n",
    "\n",
    "sns.distplot(b1, ax=axes[0,0]) # p=0.2\n",
    "sns.distplot(b2, ax=axes[1,0]) # p=0.5\n",
    "sns.distplot(b4 ,ax=axes[0,1]) # p=0.9\n",
    "sns.distplot(b2 ,ax=axes[1,1]) # p=0.5\n",
    "plt.show()"
   ]
  },
  {
   "cell_type": "code",
   "execution_count": 201,
   "metadata": {},
   "outputs": [
    {
     "data": {
      "image/png": "[encoded data removed]",
      "text/plain": [
       "<Figure size 864x288 with 3 Axes>"
      ]
     },
     "metadata": {},
     "output_type": "display_data"
    }
   ],
   "source": [
    "# Set up the matplotlib figure\n",
    "f, axes = plt.subplots(1, 3, figsize=(12, 4), sharex=True)\n",
    "sns.set_style('ticks')\n",
    "n,p,size = 20, 0.2, 10000\n",
    "# Generate a random datasets using random.binomial\n",
    "b1 = np.random.binomial(n, p, size) # p= 0.2\n",
    "b2 = np.random.binomial(n, p+0.3, size) # p= 0.5\n",
    "b3 = np.random.binomial(n, p+0.499, size) # p=0.8\n",
    "#b4= np.random.binomial(n, p+0.2, size) # p= 0.9\n",
    "sns.distplot(b1, ax=axes[0])\n",
    "sns.distplot(b2, ax=axes[1])\n",
    "sns.distplot(b3, ax=axes[2])\n",
    "\n",
    "plt.show()"
   ]
  },
  {
   "cell_type": "code",
   "execution_count": 44,
   "metadata": {},
   "outputs": [
    {
     "name": "stdout",
     "output_type": "stream",
     "text": [
      "The means of these distributions are for b1: 3.987, b2: 10.018, b3: 8.051 and b4: 7.991\n"
     ]
    }
   ],
   "source": [
    "print('The means of these distributions are for b1: %.3f, b2: %.3f, b3: %.3f and b4: %.3f' %(np.mean(b1), np.mean(b2), np.mean(b3), np.mean(b4))) # to 3 decim"
   ]
  },
  {
   "cell_type": "markdown",
   "metadata": {},
   "source": [
    "***\n",
    "## See can I add text to each plot\n",
    "plt.title('Binomial Distribution with $n=n,\\ \\p=p$')\n",
    "plt.text(0.2, 3, r'$\\n=n,\\ \\p=p$')\n",
    "ax.set_title(\"\")\n",
    "\n",
    "## come back and overlay one plot on top of another to show this better\n",
    "could also just do simple plt.hist\n",
    "***"
   ]
  },
  {
   "cell_type": "markdown",
   "metadata": {},
   "source": [
    "### looking at the statistics: mean, median, mode, variance and standard deviation\n",
    "I can also check that the mean of the distribution is equal to $n*P$ and that the standard deviation is equal to $sqrt(n*P*(1-p))$\n",
    "\n",
    "In general, if np is an integer, then the mean, median, and mode coincide and equal np"
   ]
  },
  {
   "cell_type": "code",
   "execution_count": 73,
   "metadata": {},
   "outputs": [
    {
     "name": "stdout",
     "output_type": "stream",
     "text": [
      "the mean is  15.9805 the std is 1.7717561203506536 the median is 16.0\n",
      "1.7717561203506536\n",
      "16.0\n",
      "3.1391197499999994\n",
      "False\n"
     ]
    },
    {
     "data": {
      "text/plain": [
       "True"
      ]
     },
     "execution_count": 73,
     "metadata": {},
     "output_type": "execute_result"
    }
   ],
   "source": [
    "print(\"the mean is \",np.mean(s), \"the std is\",np.std(s), \"the median is\" ,np.median(s))\n",
    "print(np.std(s))\n",
    "print(np.median(s))\n",
    "print(np.var(s))\n",
    "\n",
    "print(np.mean(s).round() == round(n*p))\n",
    "np.std(s).round() == round(np.sqrt(n*p*(1-p)))"
   ]
  },
  {
   "cell_type": "markdown",
   "metadata": {},
   "source": [
    "### Example of using numpy.random.binomial\n",
    "The [numpy random docs](https://numpy.org/doc/1.16/reference/generated/numpy.random.binomial.html#numpy-random-binomial) demonstrates a real world example. \n",
    "\n",
    "*A company drills 9 wild-cat oil exploration wells, each with an estimated probability of success of 0.1. All nine wells fail. What is the probability of that happening?*\n",
    "\n",
    "Below I use the example and expand on it:\n",
    "\n",
    "To do this, 20,000 trials of the model are simulated and then the number generating zero positive results are counted\n",
    "where n =  9, p = 0.1 and size  = 20,000"
   ]
  },
  {
   "cell_type": "code",
   "execution_count": 130,
   "metadata": {},
   "outputs": [
    {
     "name": "stdout",
     "output_type": "stream",
     "text": [
      "0.38665\n"
     ]
    }
   ],
   "source": [
    "n,p,size = 9, 0.1, 20000\n",
    "s =np.random.binomial(n, p, size)\n",
    "print(sum(s == 0)/20000.) # what is probability of all 9 wells failing. "
   ]
  },
  {
   "cell_type": "markdown",
   "metadata": {},
   "source": [
    "This shows that there is a 39% probability of all 9 wells failing but I could also check the probability of all 9 being successful which is 0. The distribution plot shows the probabilities for each possible outcome. \n",
    "Below I use a lambda function to check for the probability for 0,1,2 .. up to all the 9 wells being successful.\n",
    "This corresponds with the plot below which shows the "
   ]
  },
  {
   "cell_type": "code",
   "execution_count": 93,
   "metadata": {},
   "outputs": [
    {
     "name": "stdout",
     "output_type": "stream",
     "text": [
      "0.3846\n",
      "0.0\n",
      "0.3921\n"
     ]
    }
   ],
   "source": [
    "print(sum(s == 0)/20000.) # what is probability of all 9 wells failing. \n",
    "print(sum(s == 9)/20000.) # probability of all 9 successeding\n",
    "print(sum(s == 1)/20000.) #probability of 1 well being successful"
   ]
  },
  {
   "cell_type": "markdown",
   "metadata": {},
   "source": [
    "write a lambda function to check the probabilties of 0,1,2,3.. up to all 9 wells failing."
   ]
  },
  {
   "cell_type": "code",
   "execution_count": 131,
   "metadata": {},
   "outputs": [
    {
     "data": {
      "text/plain": [
       "[0.3882, 0.38825, 0.171, 0.04645, 0.00755, 0.00065, 5e-05, 0.0, 0.0, 0.0]"
      ]
     },
     "execution_count": 131,
     "metadata": {},
     "output_type": "execute_result"
    }
   ],
   "source": [
    "n,p,size = 9, 0.1, 20000 ## set the probability of success, number of bernouilli trials and number of samples or experiments\n",
    "g = lambda x: sum(np.random.binomial(n,p,size)==x)/size # \n",
    "\n",
    "[g(i) for i in range(10)] ## run the lambda function g to get the probabilities for the numbers in the range 0 to 9\n",
    "[np.mean(g(i)) for i in range(10)] # get the average "
   ]
  },
  {
   "cell_type": "code",
   "execution_count": 94,
   "metadata": {},
   "outputs": [
    {
     "data": {
      "text/plain": [
       "<matplotlib.axes._subplots.AxesSubplot at 0x1a20231240>"
      ]
     },
     "execution_count": 94,
     "metadata": {},
     "output_type": "execute_result"
    },
    {
     "data": {
      "image/png": "[encoded data removed]",
      "text/plain": [
       "<Figure size 432x288 with 1 Axes>"
      ]
     },
     "metadata": {},
     "output_type": "display_data"
    }
   ],
   "source": [
    "sns.distplot(s)"
   ]
  },
  {
   "cell_type": "markdown",
   "metadata": {},
   "source": [
    "If the probabiility is p=0.3 with n=10 trials in each experiment then the expected number of successful outcomes os 3 out of 10 in each experiment. "
   ]
  },
  {
   "cell_type": "markdown",
   "metadata": {},
   "source": [
    "***\n",
    "The Binomial distribution summarizes the number of successes k in a given number of Bernoulli trials n, with a given probability of success for each trial p.\n",
    "The examples on[ machinelearningmastery](https://machinelearningmastery.com/discrete-probability-distributions-for-machine-learning/) show how to simulate the Bernoulli process with randomly generated cases and count the number of successes over the given number of trials using the binomial() NumPy function. However these examples also make use of the [scipy-stats-binom](https://docs.scipy.org/doc/scipy/reference/generated/scipy.stats.binom.html#scipy-stats-binom) function which is outside of the scope of this assignment I think so I will use these as a basis for an example using  numpy.random.binomial function.\n",
    "\n",
    "This `numpy.random.binomial` function takes the total number of trials and probability of success as arguments and returns the number of successful outcomes across the trials for one simulation.\n",
    "\n",
    "1. With n of 100 and p of 0.3 we would expect 30 cases to be successful.\n",
    "2. Can calculate the expected value (mean) and variance of this distribution."
   ]
  },
  {
   "cell_type": "code",
   "execution_count": 202,
   "metadata": {},
   "outputs": [
    {
     "data": {
      "text/plain": [
       "29.949"
      ]
     },
     "execution_count": 202,
     "metadata": {},
     "output_type": "execute_result"
    },
    {
     "data": {
      "image/png": "[encoded data removed]",
      "text/plain": [
       "<Figure size 432x288 with 1 Axes>"
      ]
     },
     "metadata": {},
     "output_type": "display_data"
    }
   ],
   "source": [
    "n,p,size = 100, 0.3, 1000 ## set the probability of success, number of bernouilli trials and number of samples or experiments\n",
    "s2 = np.random.binomial(100, 0.3, 1000)\n",
    "sns.distplot(s2)\n",
    "np.mean(s2)"
   ]
  },
  {
   "cell_type": "code",
   "execution_count": 166,
   "metadata": {},
   "outputs": [
    {
     "name": "stdout",
     "output_type": "stream",
     "text": [
      "Total Success: 39\n"
     ]
    }
   ],
   "source": [
    "# 1\n",
    "# example of simulating a binomial process and counting success\n",
    "import numpy as np\n",
    "# define the parameters of the distribution\n",
    "n,p = 100, 0.3\n",
    "# run a single simulation\n",
    "success = np.random.binomial(n, p)\n",
    "print('Total Success: %d' % success)"
   ]
  },
  {
   "cell_type": "code",
   "execution_count": 105,
   "metadata": {},
   "outputs": [
    {
     "name": "stdout",
     "output_type": "stream",
     "text": [
      "Mean=31.000, Variance=0.000\n"
     ]
    }
   ],
   "source": [
    "# 2\n",
    "print('Mean=%.3f, Variance=%.3f' % (np.mean(success), np.var(success)))"
   ]
  },
  {
   "cell_type": "markdown",
   "metadata": {},
   "source": [
    "Calculate the probaility of so many successes in every 100 trials.\n",
    "Do this in steps of 10.\n",
    "This shows that as expected, 30 successful outcomes has the highest probability.\n"
   ]
  },
  {
   "cell_type": "code",
   "execution_count": 182,
   "metadata": {},
   "outputs": [
    {
     "data": {
      "text/plain": [
       "[0.0, 0.77, 8.42, 0.91, 0.0, 0.0, 0.0, 0.0, 0.0, 0.0]"
      ]
     },
     "execution_count": 182,
     "metadata": {},
     "output_type": "execute_result"
    }
   ],
   "source": [
    "n,p,size = 100, 0.3, 10000 ## set the probability of success, number of bernouilli trials and number of samples or experiments\n",
    "g = lambda x: sum(np.random.binomial(n,p,size)==x)/size*100 # \n",
    "\n",
    "[g(i) for i in range(10,110,10)] ## run the lambda function g to get the probabilities for the numbers in the range 0 to 9\n",
    "\n"
   ]
  },
  {
   "cell_type": "code",
   "execution_count": 191,
   "metadata": {},
   "outputs": [
    {
     "name": "stdout",
     "output_type": "stream",
     "text": [
      "probability of  10 successes in  100 trials is 0.0 %\n",
      "probability of  20 successes in  100 trials is 0.79 %\n",
      "probability of  30 successes in  100 trials is 8.55 %\n",
      "probability of  40 successes in  100 trials is 0.85 %\n",
      "probability of  50 successes in  100 trials is 0.0 %\n",
      "probability of  60 successes in  100 trials is 0.0 %\n",
      "probability of  70 successes in  100 trials is 0.0 %\n",
      "probability of  80 successes in  100 trials is 0.0 %\n",
      "probability of  90 successes in  100 trials is 0.0 %\n",
      "probability of  100 successes in  100 trials is 0.0 %\n"
     ]
    }
   ],
   "source": [
    "n,p=100,0.3\n",
    "\n",
    "for x in range(10,110,10):  # go up in steps of 10\n",
    "    success =np.random.binomial(n, p) ## calculate the number of successes\n",
    "    print('probability of ',x,'successes in ',n, 'trials is', sum(np.random.binomial(n,p,size)==x)/100,'%')\n",
    "   \n",
    "       "
   ]
  },
  {
   "cell_type": "markdown",
   "metadata": {},
   "source": [
    "***"
   ]
  },
  {
   "cell_type": "markdown",
   "metadata": {},
   "source": [
    "## The Poisson Distribution Function"
   ]
  },
  {
   "cell_type": "markdown",
   "metadata": {},
   "source": [
    "***"
   ]
  },
  {
   "cell_type": "markdown",
   "metadata": {},
   "source": [
    "  \n",
    "${\\displaystyle P(k{\\text{ events in interval}})= {\\frac {\\lambda ^{k}e^{-\\lambda }}{k!}}}$\n",
    "\n"
   ]
  },
  {
   "cell_type": "markdown",
   "metadata": {},
   "source": [
    "## The Poisson Distribution function\n",
    "<a id=\"poisson\"></a>\n",
    "\n",
    "Wikipedia, Towards Data Science, Numpy docs.\n",
    "\n",
    ">The Poisson distribution, named after French mathematician Siméon Denis Poisson, is a discrete probability distribution that expresses the probability of a given number of events occurring in a fixed interval of time or space if these events occur with a known constant rate and independently of the time since the last event. The Poisson distribution can also be used for the number of events in other specified intervals such as distance, area or volume. [Wikipedia](https://en.wikipedia.org/wiki/Poisson_distribution).\n",
    "\n",
    "The Poisson distribution was originally developed by Siméon Denis Poisson in the 1830's in France to look at the pattern of wrongful convictions in a year.\n",
    "\n",
    "A poisson random variable is typically used to model the number of times an event happened in a time interval. \n",
    "A poisson distribution is the probability distribution of independent occurences of an event in an interval.\n",
    "\n",
    "It can be used for count based distributions where the events happen with a known average rate and independently of time since the last event such as the number of times an event occurs in an interval of time or space such as number of winning lottery tickets per week, the number of visitors to a website in a period, the number of patients to a hospital A&E in a particular hour, the number of goals scored by a team in a match etc. \n",
    "\n",
    "An event can occur 0, 1, 2, ... times in an interval. The average number of events in an interval is designated $\\lambda$\n",
    "which is the event rate known as the **rate** parameter. The probability of observing $k$ events in an interval is given by the equation:\n",
    "\n",
    "$${\\displaystyle P(k{\\text{ events in interval}})={\\frac {\\lambda ^{k}e^{-\\lambda }}{k!}}}$$\n",
    "\n",
    "where $\\lambda$  is the average number of events per interval, $e$ is the number 2.71828... (Euler's number) the base of the natural logarithms, $k$ takes values 0, 1, 2, ...\n",
    "$k! = k × (k − 1) × (k − 2) × ... × 2 × 1 $is the factorial of k."
   ]
  },
  {
   "cell_type": "markdown",
   "metadata": {},
   "source": [
    "***\n",
    "-$e$ is the number 2.71828 which is the base of the natural logarithms  \n",
    "-$\\lambda$ is the mean or average number of events per occurence  \n",
    "- $k$ is the number of occurences in question\n",
    "At any interval we can see 0,1,2,.. events with an average of $\\lambda$ occurences.\n",
    "To find $k$ number of events use the formula \n",
    "$${\\displaystyle P(k{\\text{ events in interval}})={\\frac {\\lambda ^{k}e^{-\\lambda }}{k!}}}$$\n",
    "\n",
    "Give the `numpy.random.poisson` function the mean or average number of occurences as $\\lambda$ which returns the probability that $k$ number of events will occur\n",
    "\n",
    "(lam=1.0, size=None)\n",
    "\n",
    "***"
   ]
  },
  {
   "cell_type": "code",
   "execution_count": null,
   "metadata": {},
   "outputs": [],
   "source": [
    "np.random.poisson(5)"
   ]
  },
  {
   "cell_type": "code",
   "execution_count": null,
   "metadata": {},
   "outputs": [],
   "source": [
    "import numpy as np  # from documentation\n",
    "s = np.random.poisson(5, 10000)\n",
    "\n",
    "sns.distplot(s)\n",
    "plt.show()"
   ]
  },
  {
   "cell_type": "markdown",
   "metadata": {},
   "source": [
    "[Towards Data Science](https://towardsdatascience.com/the-poisson-distribution-and-poisson-process-explained-4e2cb17d459) has a good overview of the Poisson Distribution and Poisson Process.\n",
    "\n",
    "> A Poisson Distribution gives the probability of a number of events in an interval generated by a Poisson process. The Poisson distribution is defined by the rate parameter, λ, which is the expected number of events in the interval (events/interval * interval length) and the highest probability number of events. We can also use the Poisson Distribution to find the waiting time between events. Even if we arrive at a random time, the average waiting time will always be the average time between events.\n",
    "\n",
    "A poisson process is a model for a series of discrete events where the average time between events is known but the exact timing of events is random or stochastic. While poisson processes are generally associated with time they don't have to be. \n",
    "\n",
    "The Poisson Process is the model used for describing randomly occurring events while the Poisson Distribution is used for things like finding the probability of a number of events in a time period or finding the probability of waiting some time until the next event.\n",
    "The Poisson Distribution probability mass function gives the probability of observing k events in a time period given the length of the period and the average events per time.\n",
    "\n",
    "The poisson probability distribution function takes one parameter which is lamda $\\lambda$ or the rate parameter which is a function of both the average events per time and the length of the time period  or the expected number of events in an interval.\n",
    "\n",
    "As the rate parameter $\\lambda$ is changed, the probability of seeing different numbers of events in one interval is changed. The most likely number of events in the interval for each curve is the rate parameter. \n",
    "\n",
    "The Poisson Distribution mass function is used to find the probability of observing a number of events over an interval generated by a Poisson process. Another use of the mass function equation is to find the probability of waiting some time between events.\n",
    "\n",
    "The rate parameter is the only number needed to define the Poisson distribution. As it is a product of events/interval and the interval length it can be changed by adjusting the number of events per interval or by adjusting the interval length.\n",
    "\n",
    "\n",
    "The below graph is the probability mass function of the Poisson distribution showing the probability of a number of events occurring in an interval with different rate parameters.\n",
    "\n",
    "\n",
    "***\n",
    "From the docs:\n",
    "The `numpy.random.poisson` function is used to draw samples from a Poisson distribution. It takes a $\\lambda$ parameter as well as a `size` for the number of samples.\n",
    "\n",
    "`numpy.random.poisson(lam=1.0, size=None)`\n",
    "The Poisson distribution is the limit of the binomial distribution for large N.\n",
    "\n",
    "Here is the example from the documentation of 10000 samples drawn from a poisson distribution with a rate parameter of 5. "
   ]
  },
  {
   "cell_type": "code",
   "execution_count": null,
   "metadata": {},
   "outputs": [],
   "source": []
  },
  {
   "cell_type": "code",
   "execution_count": null,
   "metadata": {},
   "outputs": [],
   "source": [
    "import numpy as np  # from documentation\n",
    "s = np.random.poisson(5, 10000)\n",
    "\n",
    "import matplotlib.pyplot as plt\n",
    "count, bins, ignored = plt.hist(s, 14, density=True)\n",
    "plt.show()"
   ]
  },
  {
   "cell_type": "code",
   "execution_count": null,
   "metadata": {},
   "outputs": [],
   "source": [
    "import numpy as np  # from documentation\n",
    "s = np.random.poisson(9, 10000)\n",
    "\n",
    "import matplotlib.pyplot as plt\n",
    "count, bins, ignored = plt.hist(s, 14, density=True)\n",
    "plt.show()"
   ]
  },
  {
   "cell_type": "code",
   "execution_count": null,
   "metadata": {},
   "outputs": [],
   "source": [
    "f, axes = plt.subplots(2, 2, figsize=(10, 6), sharex=False)"
   ]
  },
  {
   "cell_type": "code",
   "execution_count": null,
   "metadata": {},
   "outputs": [],
   "source": [
    "s = np.random.poisson(lam=(100., 500.), size=(100, 2)) # Draw each 100 values for lambda 100 and 500:\n",
    "count, bins, ignored = plt.hist(s, 14, density=True)"
   ]
  },
  {
   "cell_type": "code",
   "execution_count": null,
   "metadata": {},
   "outputs": [],
   "source": [
    "\n",
    "s = np.random.poisson(3, 10000)\n",
    "ax = sns.distplot(s,\n",
    "                  bins=30,\n",
    "                  kde=False,\n",
    "                  color='skyblue',\n",
    "                  hist_kws={\"linewidth\": 15,'alpha':1})\n",
    "ax.set(xlabel='Poisson Distribution', ylabel='Frequency')"
   ]
  },
  {
   "cell_type": "markdown",
   "metadata": {},
   "source": [
    "***\n",
    "<a id='task4'></a>\n",
    "# 4. Explain the use of seeds in generating pseudorandom numbers.\n",
    "[Back to top](#toc)  \n",
    "\n",
    "### Pseudo-random number generators (PRNG's) and seeds\n",
    "\n",
    "As mentioned above computer programs can only produce outputs based on inputs and according to a set of predetermined rules which means a program cannot produce truly random numbers but they can produce numbers that look random enough called pseudorandom numbers. Pseudorandom numbers don't actually contain any randomness at all but can take the role of random numbers for certain applications. Randomness is being imitated.\n",
    "\n",
    "These pseudo-random numbers are generated are in a sequence according to some **deterministic algorithm** from an input called a **seed**. This means that the outputs can be repeated by following the same set of steps and given the same inputs.  If you know this **seed** then you can predict the next number to be generated in a sequence.\n",
    "\n",
    "The **seed** used is typically the time (to the microsecond) on the computer when the code was run. To recreate the exact same sequence of random numbers, then you can just explicitly supply the seed as an input to the random number generator.\n",
    "Without supplying a seed yourself explicitly, the current system time in milliseconds is usually used as the seed.\n",
    "\n",
    "While the sequence of numbers generated may have properties of randomness and look random it is important to know the distinction between random and pseudorandom numbers particularly for security purposes. Pseudorandom number generators should not be used for cryptographic purposes because their predictability could be used to break the encryption.\n",
    "\n",
    "***\n",
    "A **seed** is a number that is used to initialise a pseudorandom number generator. By setting the seed, the original seed is ignored and numbers will be generated in a pseudorandom manner. If you reinitialise a random number generator with the same seed then the same sequence of numbers will be produced. \n",
    "\n",
    "According to [statisticshowto](https://www.statisticshowto.datasciencecentral.com/random-seed-definition/), a random seed specifies the start point when a computer generates a random number. The random seed can be any number but it usually comes from seconds on the computer system's clock which counts in seconds from January 1, 1970.  (known as Unix time). This ensures that the same random sequence won't be repeated unless you actually want it to. \n",
    "\n",
    "The algorithms behind computer random number generation are based on patterns which generate numbers that follow particular **probability distributions**. Setting a seed will produce the same sequence of random numbers each time. \n",
    "\n",
    "https://pynative.com/python-random-seed/\n",
    ">Random number or data generated by Python’s random module is not truly random, it is pseudo-random(it is PRNG), i.e. deterministic. It produces the numbers from some value. This value is nothing but a seed value. i.e. The random module uses the seed value as a base to generate a random number.\n",
    ">Generally, the seed value is the previous number generated by the generator. However, When the first time you use the random generator, there is no previous value. So by-default current system time is used as a seed value.\n",
    " \n",
    "\n",
    "There are many different ways to generate pseudo-random numbers. Python uses the **Mersenne Twister** as the core generator. According to [wikipedia](https://en.m.wikipedia.org/wiki/Mersenne_Twister), the Mersenne Twister is  a pseudorandom number generator (PRNG) and is by far the most widely used general-purpose PRNG whose name derives from the fact that its period length is chosen to be a Mersenne prime (a prime number that is one less than a power of two. That is, it is a prime number of the form Mn = 2n − 1 for some integer n.).\n",
    "\n",
    "***\n",
    "[Khan academy random vs pseudorandom number generators](https://www.khanacademy.org/computing/computer-science/cryptography/crypt/v/random-vs-pseudorandom-number-generators).\n",
    "\n",
    "Here are some notes from watching the above video which gives a very good overview of using seeds with the prngs.\n",
    "\n",
    "There are truly random fluctuations everywhere in the physical world and truly random numbers could be generated by measuring or sampling this noise such as the electric current of tv static over time. A **random walk** can visualise this random sequence where a path is drawn that changes direction according to each number. There would be no pattern at all in a random walk as the next point is always unpredictable. Random processes are nondeterministic since they are impossible to determine in advance whereas machines are deterministic because their operation is predictable and repeatable.\n",
    "\n",
    "In 1946 while involved in running computations for the military, John Neumann required quick access to randomly generated numbers that could be repeated if necessary but as the computer of the time had very limited memory it could not store long random sequences. Nuemann therefore developed an algorithm to mechanically simulate the scrambling aspect of randomness as follows.\n",
    "First a truly random numbers called the 'seed' (which could come from measurement of noise or the current time in milliseconds) is selected which is then provided as input to a very simple calculation where the seed is multiplied by itself, the middle of this output becomes the seed for the next step and the process repeated as many times as required. This was called the \"middle-squares\" method and was the first pseudorandom number generator. The randomness of the seed depends only on the randomness of the initial seed only and the same seed will generate the same sequence.\n",
    "\n",
    "The difference between a random generated versus a pseudorandomly generated sequence is that eventually the pseudorandom sequence will repeat when the algorithm reaches a seed it has previously used. The length before the pseudorandom sequence repeats is called the **period** and the period is strictly limited by the length of the initial seed. \n",
    "The longer the length of the initial seed the longer the period so a 4 digit seed will produce a longer period of unrepeating sequences than a 3 digit seed which is will produce a longer period than a two digit seed. \n",
    "The difference between a pseudorandom generated sequence and a truy random sequence is that there are many sequences that cannot occur in a pseudorandom sequence.  \n",
    "A 20 digit pseudorandom sequence generated from a 4-digit seed is equivalent to a uniform selection from 10,000 possible intial seeds so that only 20,000 different sequences can be generated. when we move from random to pseudorandom shifts the key space is shrunk into a much smaller seed-space.\n",
    "For a pseudorandom sequence to be indistinguishable from a randomly generated sequence, it must be impractical for a computer to try all seeds and look for a match. There is an important distinction in computer science between what is possible versus what is possible in a reasonable amount of time. With pseudorandom generators the security increases as the length of the seed increases. If the most powerful computer would take hundreds of years to run through all seeds then we can safely assume its practically secure instead of perfectly secure. As computers get faster the seed size must increase accordingly. \n",
    "Instead of having to share the entire random shift sequence in advance, you can share the relatively short random seed and expand it into the same random looking sequence when needed. \n",
    "\n",
    "***\n",
    "\n",
    "\n",
    "There are times when you may wish to recreate the exact same sequence of random numbers.  Pseudo random number generators can be **seeded** which makes them **deterministic** and the series of random values can therefore be exactly recreated. A seed is an input to the random number generator as the starting point of the process. The computer's system time is usually used for the seed and this is used in an algorithm to generate some (pseudo) random values. If you provide the seed as an input to the process this tells the program not to generate its own random seed at the start from the computer's clock (to the microsecond) but instead use the seed you provide\n",
    " \n",
    "\n",
    "In summary, random (pseudorandom) numbers are drawn from a probability distribution. The numbers generated depend on the *seed* used and are generated according to some deterministic algorithm from that seed. The numbers that are output depend on the algorithm and the input seed.\n",
    "\n"
   ]
  },
  {
   "cell_type": "markdown",
   "metadata": {},
   "source": [
    "## Using numpy.random.seed function\n",
    "\n",
    "Numpy random seed function is used to create completely repeatable or reproducible results.\n",
    "The seed function works with other numpy random functions to create particular types of random numbers, such as numbers from various probability distributions. \n",
    "If a numpy random function is used together with a particular seed, then the very same set of random numbers can be generated again. \n",
    "\n",
    "The seed value is the input to the numpy random seed function. You **seed** or set the set of the prng. If you run the same function again you will get the same output. The code will produce the exact same output if the same seed is used with the same function, using the same parameters.\n",
    "\n",
    "To get the same random sample of elements from a array of numbers then you also use the numpy random seed function. \n",
    "\n",
    "Prngs are algorithms for producing numbers that appear random. The seed is the starting point for the algorithm. \n",
    "Different numbers used as the seed will produce a different set of pseudo random numbers from the same algorithm as they have a different starting point. If the starting point is the same and the steps in the algorithm are the same, then the outputs will be the same. \n",
    "Any integer can be used (see the documents for exact range) as the input seed. If a different seed is used, a different set of random numbers are generated but if the same number is used, the same sequence is generated. The same principle applies for randomly sampling from a set or array of numbers.\n",
    "If you don't explicitly set the seed, one will be set automatically for you using the system time.\n",
    "\n",
    "\n",
    "Any NumPy random function that is executed with the same seed will produce the exact same result and this will ensure reproducibility.\n",
    "\n",
    "\n",
    "***"
   ]
  },
  {
   "cell_type": "markdown",
   "metadata": {},
   "source": [
    "According to the documentation  the `numpy.random.seed(seed=None)` method is used to seed the generator.\n",
    "This method is called when `RandomState` is initialized and can be called again to re-seed the generator. \n",
    "The seed it takes can be an integer or a one-dimensional array of integers. \n",
    "\n",
    "In NumPy the Mersenne Twister is the basis for NumPy pseudo-random number generator.\n",
    "`numpy.random.RandomState` is the container for the Mersenne Twister pseudo-random number generator.\n",
    "\n",
    "`RandomState` exposes a number of methods for generating random numbers drawn from a variety of probability distributions. In addition to the distribution-specific arguments, the size can be specified. \n",
    "\n",
    "The random seed used to initialize the pseudo-random number generator can be any integer between 0 and `2**32 - 1` inclusive, an array (or other sequence) of such integers, or None (the default). \n",
    "If seed is None, then RandomState will try to read data from `/dev/urandom` (or the Windows analogue) if available or seed from the clock otherwise.\n",
    "\n",
    "The call to numpy.random.seed allows the seed to be set.\n",
    "\n",
    "(The Python stdlib module “random” also contains a Mersenne Twister pseudo-random number generator with a number of methods that are similar to the ones available in RandomState. RandomState, besides being NumPy-aware, has the advantage that it provides a much larger number of probability distributions to choose from.)"
   ]
  },
  {
   "cell_type": "code",
   "execution_count": null,
   "metadata": {},
   "outputs": [],
   "source": [
    "#np.random.get_state()"
   ]
  },
  {
   "cell_type": "markdown",
   "metadata": {},
   "source": [
    "#### Here I will demonstrate using the numpy random functions, with and without setting the seed of the random number generator.\n",
    "\n",
    "In the previous questions I have used the random.seed to generate the same sequence of random numnbers when comparing the different functions. \n",
    "\n",
    "When the `random.seed` method is used with any integer (in the accepatable range) then the same sequence of random numbers will be generated when this number is used to seed the generator again. It doesn't matter what number is used as the seed as long as the same number is used as a seed again when you want to generate the exact same sequence. If a different seed is used, then a different sequence of random numbers will be generated. The output of a random function will depend on the seed used and the algorithm the function uses. \n",
    "Without explicitly specifying a seed, a seed is generated from the system clock. If you don't specify a seed it would be extremely difficult to reproduce the same sequence again. As the default seed is set from the computer systems internal clock (to the millisecond) the seed will change every moment that you use a numpy random function.\n",
    "\n",
    "\n",
    "Using a seed with random sampling makes sense if you want reproducible outputs."
   ]
  },
  {
   "cell_type": "markdown",
   "metadata": {},
   "source": [
    "#### Generate random numbers with and without seeding the generator"
   ]
  },
  {
   "cell_type": "code",
   "execution_count": null,
   "metadata": {},
   "outputs": [],
   "source": [
    "import numpy as np\n",
    "print(\"\\n without using a seed\")\n",
    "for i in range(3):\n",
    "    x = np.random.rand(5) # generate a random float between 0 and 1 without using a seed\n",
    "    print(x)\n",
    " \n",
    "print(\"\\n using seed to give the same random sequences\")\n",
    "for i in range(3):\n",
    "    np.random.seed(10)\n",
    "    x = np.random.rand(5) # generate another random float between 0 and 1  using a seed\n",
    "    print(x)\n",
    "    \n",
    "print(\"\\n without seed to give the same random sequences\")\n",
    "for i in range(3):\n",
    "    x = np.random.randint(0,100,10) # generate another random float between 0 and 1  using a seed\n",
    "    print(x)\n",
    "    \n",
    "print(\"\\n using seed to give the same random sequences\")\n",
    "for i in range(3):\n",
    "    np.random.seed(10)\n",
    "    x = np.random.randint(0,100,10) # generate another random float between 0 and 1  using a seed\n",
    "    print(x)"
   ]
  },
  {
   "cell_type": "markdown",
   "metadata": {},
   "source": [
    "##### Random sampling from an array with and without seeding the generator."
   ]
  },
  {
   "cell_type": "markdown",
   "metadata": {},
   "source": [
    "Using loop to sample from an array of integers, first without setting the seed and then using the seed."
   ]
  },
  {
   "cell_type": "code",
   "execution_count": null,
   "metadata": {},
   "outputs": [],
   "source": [
    "\n",
    "np.random.seed(10)\n",
    "myarray = np.random.randint(0,100,10)  # create an array of ten random integers between 0 and 100 (exclusive)\n",
    "\n",
    "print(\"\\n sampling from an array without using a seed\") \n",
    "for i in range(3):\n",
    "    x = np.random.choice(myarray, 4) # sample 4 elements from the array \n",
    "    print(x)\n",
    "\n",
    "print(\"\\n Sampling from an array using a seed\")\n",
    "for i in range(3):\n",
    "    np.random.seed(10)\n",
    "    x = np.random.choice(myarray, 4) # sample 4 elements from the array \n",
    "    print(x)\n"
   ]
  },
  {
   "cell_type": "code",
   "execution_count": null,
   "metadata": {},
   "outputs": [],
   "source": [
    "np.random.seed(10)\n",
    "myarray2 = np.random.randint(0,100,10)  # create an array of ten random integers between 0 and 100 (exclusive)\n",
    "\n",
    "print(\"\\n sampling from an array without using a seed\") \n",
    "for i in range(3):\n",
    "    x = np.random.choice(myarray, 4) # sample 4 elements from the array \n",
    "    print(x)\n",
    "\n",
    "print(\"\\n Sampling from an array using a seed\")\n",
    "for i in range(3):\n",
    "    np.random.seed(10)\n",
    "    x = np.random.choice(myarray, 4) # sample 4 elements from the array \n",
    "    print(x)\n",
    "\n"
   ]
  },
  {
   "cell_type": "code",
   "execution_count": null,
   "metadata": {},
   "outputs": [],
   "source": [
    "import string\n",
    "\n",
    "print(\"\\n sampling from an array without using a seed\") \n",
    "for i in range(3):\n",
    "    x = np.random.choice(np.array(list(string.ascii_lowercase)), 4) # sample 4 elements from the array \n",
    "    print(x)\n",
    "\n",
    "print(\"\\n Sampling from an array using a seed\")\n",
    "for i in range(3):\n",
    "    np.random.seed(10)\n",
    "    x = np.random.choice(np.array(list(string.ascii_lowercase)), 4) # sample 4 elements from the array \n",
    "    print(x)"
   ]
  },
  {
   "cell_type": "markdown",
   "metadata": {},
   "source": [
    "\n",
    "\n",
    "    "
   ]
  },
  {
   "cell_type": "markdown",
   "metadata": {},
   "source": [
    "<a id='references'></a>\n",
    "## References\n",
    "\n",
    "### Python, GitHub and Jupyter resources\n",
    "- [python.org](https://docs.python.org/3/library/index.html)\n",
    "- Python for Data Analysis - Chapter 4 NumPy Basics: Arrays and Vectorised Computation by Wes McKinney\n",
    "- [Python Data Science Handbook by Jake VanderPlas ](https://jakevdp.github.io/PythonDataScienceHandbook/) \n",
    "- [Jake VanderPlas Website](http://vanderplas.com)\n",
    "- [numpy quickstart tutorial](https://numpy.org/devdocs/user/quickstart.html)\n",
    "- [NumPy random module](https://numpy.org/devdocs/reference/random/index.html?highlight=random#module-numpy.random), \n",
    "- [python - random library](https://docs.python.org/3/library/random.html#module-random)\n",
    "- Section 4.6 of Python for Data Analysis by Wes McKinney\n",
    "- [GitHub Flavoured Markdown](https://github.github.com/gfm/)\n",
    "- [Jupyter Notebook documentation](https://jupyter-notebook.readthedocs.io/en/stable/notebook.html#basic-workflow)\n",
    "- [Jupyter Notebook Tips, Tricks, and Shortcuts](https://www.dataquest.io/blog/jupyter-notebook-tips-tricks-shortcuts/)\n",
    "- [python random docs](https://docs.python.org/3/library/random.html#module-random)\n",
    "-[LaTeX equations in Jupyter](https://jupyter-notebook.readthedocs.io/en/stable/examples/Notebook/Working%20With%20Markdown%20Cells.html#LaTeX-equations)\n",
    "- [w3resource.com](https://www.w3resource.com/numpy)\n",
    "- [scikit-learn tutorial](https://scikit-learn.org/stable/tutorial/basic/tutorial.html)\n",
    "- [pythonprogramming.net](https://pythonprogramming.net)\n",
    "\n",
    "### Statistical Distributions\n",
    "- [realpython tutorial on random data](https://realpython.com/python-random/)\n",
    "- [The Poisson Distribution and Poisson Process Explained](https://towardsdatascience.com/the-poisson-distribution-and-poisson-process-explained-4e2cb17d459)\n",
    "- [A Concrete Introduction to Probability (using Python) by Peter Norvig](https://nbviewer.jupyter.org/url/norvig.com/ipython/Probability.ipynb) \n",
    "Note: I have not actually read through this in detail yet. It is linked in the python random module documentation.\n",
    "- [wolfram mathworld](http://mathworld.wolfram.com/topics/StatisticalDistributions.html)\n",
    "- [stattrek](https://stattrek.com)\n",
    "- [machinelearningmastery - discrete probability distributions](https://machinelearningmastery.com/discrete-probability-distributions-for-machine-learning/)\n",
    "- [Online Statistics Education online book](http://onlinestatbook.com/2/index.html)\n",
    "- [probability for dummies](https://www.dummies.com/education/math/probability/probability-for-dummies-cheat-sheet/)\n",
    "- [datacamp probability distributions tutorial](https://www.datacamp.com/community/tutorials/probability-distributions-python)\n",
    "\n",
    "#### Binomial Distribution\n",
    "- [mathworld](http://mathworld.wolfram.com/BinomialDistribution.html)\n",
    "- [towardsdatascience blog](https://towardsdatascience.com/fun-with-the-binomial-distribution-96a5ecabf65b)\n",
    "- [machinelearningmastery](https://machinelearningmastery.com/discrete-probability-distributions-for-machine-learning/)\n",
    "- [stattrek](https://stattrek.com/probability-distributions/binomial.aspx?Tutorial=AP)\n",
    "\n",
    "### Random Numbers\n",
    "- [pythonprogramming](https://pythonprogramming.net/monte-carlo-simulator-python/)\n",
    "- [Khan Academy]([Khan academy random vs pseudorandom number generators](https://www.khanacademy.org/computing/computer-science/cryptography/crypt/v/random-vs-pseudorandom-number-generators)\n",
    "- [machinelearningmaster - random number generators intro](https://machinelearningmastery.com/introduction-to-random-number-generators-for-machine-learning/)\n",
    "- [Analytics Training -random numbers applications](https://analyticstraining.com/random-numbers-applications/)\n",
    "- [blog on why randomness matters](https://blog.cloudflare.com/why-randomness-matters/)\n",
    "\n",
    "\n",
    "\n",
    "\n",
    "\n",
    "[Back to top](#toc)"
   ]
  },
  {
   "cell_type": "markdown",
   "metadata": {},
   "source": [
    "***\n"
   ]
  },
  {
   "cell_type": "markdown",
   "metadata": {},
   "source": [
    "<img src=\"/Simple_random_data.png\" width=\"400\" alt=\"Simple random data\" />"
   ]
  },
  {
   "cell_type": "code",
   "execution_count": null,
   "metadata": {},
   "outputs": [],
   "source": [
    "%run test.py"
   ]
  },
  {
   "cell_type": "markdown",
   "metadata": {},
   "source": [
    "learning latex... see cheat sheet at [www.nyu.edu](https://www.nyu.edu/projects/beber/files/Chang_LaTeX_sheet.pdf)\n",
    "or [wch.github.io](https://wch.github.io/latexsheet/latexsheet-0.png)\n",
    "\n",
    "\n",
    "$e^{i\\pi} + 1 = 0$\n",
    "$$e^x=\\sum_{i=0}^\\infty \\frac{1}{i!}x^i$$\n",
    "\n",
    "$\\sigma$\n",
    "$$\\sigma$$\n",
    "$\\mu$\n",
    "\n",
    "x~  $N(\\mu,\\sigma^2)$"
   ]
  },
  {
   "cell_type": "markdown",
   "metadata": {},
   "source": [
    "## Appendix\n",
    "\n",
    "Here I am moving items out of the main body.\n",
    "I dont yet want to lose them but they are not relevant to the assignment and this notebook is far too long!\n",
    "***\n",
    "### The normal distribution\n",
    "\n",
    "The normal distribution, also known as the Gaussian distribution is the most important probability distribution for a continuous random variable. It has a symmetric, bell shaped density curve. It is not one distribution but a family of distributions depending on the value of its mean $\\mu$ and standard deviation $\\sigma$.  \n",
    "\n",
    "According to the numpy documentation, the normal distributions occurs often in nature. For example, it describes the commonly occurring distribution of samples influenced by a large number of tiny, random disturbances, each with its own unique distribution.\n",
    "\n",
    "According to \"The Art of Statistics\", The normal distribution can be expected to occur for phenomena that are driven by large numbers of small influences such as the birth weight of babies. When all the small influences are added up you get a normal distribution.\n",
    "\n",
    "A normally distributed random variable x can be denoted as follows: x~  $N(\\mu,\\sigma^2)$ which means that x is normally distributed with a mean of $\\mu$ and a variance of $\\sigma^2$.\n",
    "\n",
    "According to [wolfram mathworld](http://mathworld.wolfram.com/NormalDistribution.html) normal distributions have many convenient properties, so random variates with unknown distributions are often assumed to be normal, especially in physics and astronomy. Although this can be a dangerous assumption, it is often a good approximation due to a surprising result known as the central limit theorem. This theorem states that the mean of any set of variates with any distribution having a finite mean and variance tends to the normal distribution. Many common attributes such as test scores, height, etc., follow roughly normal distributions, with few members at the high and low ends and many in the middle.\n",
    "***\n"
   ]
  }
 ],
 "metadata": {
  "kernelspec": {
   "display_name": "Python 3",
   "language": "python",
   "name": "python3"
  },
  "language_info": {
   "codemirror_mode": {
    "name": "ipython",
    "version": 3
   },
   "file_extension": ".py",
   "mimetype": "text/x-python",
   "name": "python",
   "nbconvert_exporter": "python",
   "pygments_lexer": "ipython3",
   "version": "3.7.3"
  }
 },
 "nbformat": 4,
 "nbformat_minor": 2
}
