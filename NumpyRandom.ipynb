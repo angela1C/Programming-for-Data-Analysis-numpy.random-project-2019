{
 "cells": [
  {
   "cell_type": "markdown",
   "metadata": {},
   "source": [
    "# Programming for Data Analysis Assignment 2019\n",
    "\n",
    "The assignment concerns the `numpy.random` package in Python.\n",
    "Explain the use of the package including detailed explanations of at least five of the distributions provided for in the package.\n",
    "There are four distinct task to be carried out in the Jupyter Notebook.\n",
    "1. Explain the overall purpose of the package.\n",
    "2. Explain the use of the “Simple random data” and “Permutations” functions. \n",
    "3. Explain the use and purpose of at least five “Distributions” functions.\n",
    "4. Explain the use of seeds in generating pseudorandom numbers.\n",
    "***\n",
    "\n",
    "The aim of the assignment is to be able to give a good overview of the numpy.random functions in our own words without rehashing the documentation. All of the functions return random value or values in some shape or form. They just generate different random numbers according to different probabilities over different intervals.\n",
    "\n",
    "A mixture of plots and statistics can be used to show the differences between the types of random numbers that would be generated from the different probability distributions."
   ]
  },
  {
   "cell_type": "markdown",
   "metadata": {},
   "source": [
    "<a id='toc'></a>\n",
    "# Table of contents\n",
    "\n",
    "\n",
    "- [Python tools used for this assignment](#tools)\n",
    "- [Task 1: Explain the overall purpose of the package](#task1)\n",
    "- [Task 2: Explain the use of the Simple random data and Permutations functions.](#task2)\n",
    "    - [Simple random data functions](#task2.1)\n",
    "    - [Permutations Functions](#task2.2)\n",
    "- [Task 3: Explain the use and purpose of at least five “Distributions” functions](#task3)\n",
    "- [Task 4: Explain the use of seeds in generating pseudorandom numbers](#task4)\n",
    "5. [References](#references)\n",
    "  \n",
    "***"
   ]
  },
  {
   "cell_type": "markdown",
   "metadata": {},
   "source": [
    "<a id='tools'></a>\n",
    "\n",
    "### Package and documentation versions.\n",
    "Version 1.16.2 is the version of NumPy that I am working with so the documentation I am referring to is the [NumPy Reference 1.16](https://numpy.org/doc/1.16/reference/index.html#numpy-reference) manual. This details functions, modules, and objects included in NumPy, describing what they are and what they do. It contains detailed reference documentation of the functions and classes contained in the NumPy package. \n",
    "***\n",
    "\n",
    "### Jupyter notebook settings\n",
    "In order to get the output of multiple python statements to print, instead of just the last statement in a cell, you can change the settings as per the [jupyter notebook tips, tricks and shortcuts blogpost by dataquest](https://www.dataquest.io/blog/jupyter-notebook-tips-tricks-shortcuts/).\n",
    "\n",
    "If the notebook doesn't render on GitHub as happens from time to time, copy the url into the [Jupyter nbviewer](https://nbviewer.jupyter.org).\n",
    "***\n"
   ]
  },
  {
   "cell_type": "markdown",
   "metadata": {},
   "source": [
    "<a id='libraries'></a>\n",
    "### Import python libraries\n",
    "To run this notebook the following some python libraries must be imported."
   ]
  },
  {
   "cell_type": "code",
   "execution_count": 2,
   "metadata": {},
   "outputs": [],
   "source": [
    "\n",
    "import numpy as np\n",
    "import pandas as pd\n",
    "import seaborn as sns\n",
    "import matplotlib.pyplot as plt\n",
    "\n",
    "np.set_printoptions(formatter={'float': lambda x: \"{0:6.3f}\".format(x)})\n",
    "\n",
    "# To display all the output in each cell instead of just the statement, run these two lines\n",
    "#from IPython.core.interactiveshell import InteractiveShell\n",
    "#InteractiveShell.ast_node_interactivity = \"all\"  # "
   ]
  },
  {
   "cell_type": "code",
   "execution_count": 84,
   "metadata": {},
   "outputs": [
    {
     "name": "stdout",
     "output_type": "stream",
     "text": [
      "1.16.2\n",
      "0.24.2\n",
      "0.9.0\n"
     ]
    }
   ],
   "source": [
    "#np.version.version  # check what version of numpy and other packages I have installed.\n",
    "print(np.__version__)  # '1.16.2'\n",
    "print(pd.__version__)\n",
    "print(sns.__version__)"
   ]
  },
  {
   "cell_type": "markdown",
   "metadata": {},
   "source": [
    "<a id='task1'></a>\n",
    "# 1. Explain the overall purpose of the package numpy.random\n",
    "\n",
    "\n",
    "**NumPy**, short for Numerical Python, is one of the most important foundational packages for numerical computing in Python and many other packages that are used for data analytics and machine learning are built on NumPy.   \n",
    "[W3resource](https://www.w3resource.com/numpy/index.php) describes NumPy as the \n",
    "> fundamental package for scientific computing in Python. It is a Python library that provides a multidimensional array object, various derived objects (such as masked arrays and matrices), and an assortment of routines for fast operations on arrays, including mathematical, logical, shape manipulation, sorting, selecting, I/O, discrete Fourier transforms, basic linear algebra, basic statistical operations, random simulation and much more. \n",
    "\n",
    "NumPy's main data structure is the **ndarray** - a homogenuous multidimensional array object. NumPy has many mathematical functions and algorithms for doing very fast numerical operations on arrays. Batch operations avoid the need to use loops by working on entire arrays of data at a time using **vectorisation** but using similar syntax to working with scalars.\n",
    "An [array](https://en.wikipedia.org/wiki/Array_data_structure) is a data structure consisting of a collection of elements (values or variables), each identified by at least one array index or key. Python itself does not have an array data structure so the NumPy library allows for the creation and manipulatation of arrays of numbers. Although matrix operations are possible in Python, they are quite inefficient when compared to NumPy's capabilities on large multi-dimensional arrays of numbers and such matrix type operations are very commonly used when analysing data and for other computing purposes. \n",
    "\n",
    "**NumPy.random** then is a sub-package of **NumPy** containing many functions for the generation of random numbers. It is somewhat similar to the Python standard library **Random** module but with functions that work for NumPy's arrays. It has many functions for creating arrays of random numbers from the various statisitical probability distributions along with functions for randomly sampling from arrays. \n",
    "\n",
    "NumPy can also be used to simulate data. While csv data is commonly imported into NumPy for analysis (or into a package such as pandas that uses NumPy), it is often useful to be able to simulate data to analyse before the real data may be collected or available. \n",
    "  \n",
    "NumPy **ndarray** can be created using the NumPy `array` function which takes any sequence-like objects such as lists, nested lists etc but there are other NumPy functions that also create new arrays such as `zeros`, `ones`, `empty`, `arange`, `full` and `eye` among others as detailed in the [numpy quickstart tutorial](https://numpy.org/devdocs/user/quickstart.html). NumPy's **random** module also creates ndarray objects.\n",
    "\n",
    "Some key points about any of NumPy's ndarray objects include:\n",
    "- The data in an *ndarray* must be homogeneous, that is all of it's data elements must of the same type.\n",
    "- Arrays have a *ndim* attribute for the number of axes or dimensions of the array\n",
    "- Arrays have a *shape* attribute which is a tuple that indicates the size of the array in each dimension.\n",
    "  The length of the *shape* tupple is the number of axes that the array has. \n",
    "- Arrays have a *dtype* attribute which is an object that describes the data type of the array.\n",
    "- The `size` attribute is the total number of elements in the array.\n",
    "\n",
    "Python's standard library [random](https://docs.python.org/3/library/random.html) provides a number of tools for working with random numbers. However this `random` module only generates or samples one value at a time and iteration is required  for working with sequences of random numbers while on the other hand the `numpy.random`'s functions can efficiently generate arrays of sample values from various probability distributions rather than one value at a time. NumPy's random module is much much faster and more efficient than python's random module for this purpose particularly when working with larger arrays.\n",
    "NumPy's random module is used for generating random series of data rather than the scalar values generated by the python random module whereas the random module may be sufficient and more efficient for other simpler purposes.\n",
    "\n",
    "Given an input array of elements, NumPy's random functions will allow you to select a random sample of elements from the array or generate sequences of random numbers.\n",
    "\n",
    "Both Python's standard library **random** and **numpy.randon**  generate pseudorandom numbers rather than actual random numbers. Computer programs are deterministic because their operation is predictable and repeatable.  Computer programs produce outputs based on inputs and according to a set of predetermined steps or rules so therefore it would not be possible for a computer to generate truly random numbers.\n",
    "Both `random` modules implements **pseudorandom** numbers for various distributions. While they may appear random they are actually predetermined.\n",
    "\n",
    "(Python uses the **Mersenne Twister** as the core generator. The Mersenne Twister is one of the most extensively tested random number generators in existence. According to [wikipedia](https://en.m.wikipedia.org/wiki/Mersenne_Twister), the Mersenne Twister is by far the most widely used general-purpose pseudorandom number generator PRNG whose name derives from the fact that its period length is chosen to be a Mersenne prime (a prime number that is one less than a power of two. That is, it is a prime number of the form Mn = 2n − 1 for some integer n.).)\n",
    "\n",
    "According to [wolfram mathworld](http://mathworld.wolfram.com/RandomNumber.html) a **random number** \n",
    ">is a number chosen as if by chance from some specified distribution such that selection of a large set of these numbers reproduces the underlying distribution. Almost always, such numbers are also required to be independent, so that there are no correlations between successive numbers. Computer-generated random numbers are sometimes called pseudorandom numbers, while the term \"random\" is reserved for the output of unpredictable physical processes. When used without qualification, the word \"random\" usually means \"random with a uniform distribution.\" Other distributions are of course possible.\n",
    "\n",
    "\n",
    "Being able to randomly select elements has many uses in computer applications such as gaming. \n",
    "There are many computational and statistical methods that use random numbers and random sampling. \n",
    "The ability to generate sets of numbers from a particular probability distribution is also very useful for simulating a dataset, maybe in the absence of an actual dataset or for demonstrating or learning statistical and analytical concepts. Statistics and probability involve the concept of randomness and uncertainty. Monte carlo simulation uses random numbers to simulate real world problems. [Monte Carlo methods](https://en.m.wikipedia.org/wiki/Monte_Carlo_method), or Monte Carlo experiments, are a broad class of computational algorithms that rely on repeated random sampling to obtain numerical results. The underlying concept is to use randomness to solve problems that might be deterministic in principle.\n",
    "[Monte-carlo simulators](https://pythonprogramming.net/monte-carlo-simulator-python/) are often used to assess the risk of a given trading strategy say with options or stocks. A monte carlo simulator can help one visualize most or all of the potential outcomes to have a much better idea regarding the risk of a decision.\n",
    "\n",
    "Data Analytics and Machine learning projects frequently rely on creating random samples of a datasets for testing and evaluation purposes. \n",
    "A learning problem considers a set of samples of data and then tries to predict properties of unknown data. \n",
    "\n",
    "According to [scikit-learn](https://scikit-learn.org/stable/tutorial/basic/tutorial.html).\n",
    "> Machine learning is about learning some properties of a data set and then testing those properties against another data set. A common practice in machine learning is to evaluate an algorithm by splitting a data set into two. We call one of those sets the training set, on which we learn some properties; we call the other set the testing set, on which we test the learned properties.\n",
    "\n",
    "In machine learning, a dataset can be split into training and test set where the dataset is shuffled and a classifier is built with a randomly selected subset of the dataset and the classifier is then tested on the remaining subset of the data. A train-test split is used for model selection and cross validation purposes.\n",
    "\n",
    "The machine learning algorithms in the scikit-learn package use *numpy.random* in the background. There is a random element to the train_test split as it uses numpy random to randomly choose elements for the training array and the test array.\n",
    "With K-fold validation the original dataset is split into a training subset and a testing subset a few different times instead of a one-off.\n"
   ]
  },
  {
   "cell_type": "code",
   "execution_count": null,
   "metadata": {},
   "outputs": [],
   "source": []
  },
  {
   "cell_type": "markdown",
   "metadata": {},
   "source": [
    "<a id='task2'></a>\n",
    "# 2. Explain the use of the “Simple random data” and “Permutations” functions.\n",
    "\n",
    "NumPy's random module has ten simple data functions for random sampling of both discrete and continuous data. It also has two permutations function for shuffling arrays of numbers or otherwise.\n",
    "\n",
    "The ten [simple random data](https://numpy.org/doc/1.16/reference/routines.random.html#simple-random-data) functions listed under the [Random Sampling (numpy.random)](https://docs.scipy.org/doc/numpy-1.16.1/reference/routines.random.html#random-sampling-numpy-random.) of the NumPy documentation return arrays of random values. The shape of the array and the numnber of elements can be specified in each of the functions, without doing so will usually return a scalar for these functions. \n",
    "Listed here are the simple random data functions which sample from either the uniform, normal or standard normal probability distributions. \n",
    "\n",
    "<a id='Simplerandomdata'></a>\n",
    "### Simple random data functions\n",
    "- `rand(d0, d1, …, dn)`\tRandom values in a given shape.\n",
    "- `randn(d0, d1, …, dn)`\tReturn a sample (or samples) from the “standard normal” distribution.\n",
    "- `randint(low[, high, size, dtype])`\tReturn random integers from low (inclusive) to high (exclusive).\n",
    "- `random_integers(low[, high, size])`\tRandom integers of type np.int between low and high, inclusive.\n",
    "- `random_sample([size])`\tReturn random floats in the half-open interval `[0.0, 1.0)`.\n",
    "- `random([size])`\tReturn random floats in the half-open interval `[0.0, 1.0)`.\n",
    "- `ranf([size])`\tReturn random floats in the half-open interval `[0.0, 1.0)`.\n",
    "- `sample([size])`\tReturn random floats in the half-open interval `[0.0, 1.0)`.\n",
    "- `choice(a[, size, replace, p])`\tGenerates a random sample from a given 1-D array\n",
    "- `bytes(length)`\tReturn random bytes.\n",
    "\n",
    "Some of these functions here are variants of the distribution functions for the uniform and normal distributions which are detailed in Task 3. \n",
    "\n",
    "I have separated the simple random data functions into groups according to the type of distribution. Some of the functions appear to do the same thing.\n",
    "\n",
    "## Simple random data functions\n",
    "- [Random samples from the Standard Normal Distribution - floats](#randn)    \n",
    "- [For random samples from $N(\\mu, \\sigma^2)$ distributions - floats](#mu-sigma)  \n",
    "- [Random Floating Numbers from the Continuous Uniform Distribution in $[0,1)$ interval](#uniform01)  \n",
    "- [Random Floating Numbers from the Continuous Uniform Distribution  $Unif[a,b),b>a$](#uniform[a,b))  \n",
    "- [Random integers from the Discrete Uniform Distribution](#randint)  \n",
    "- [Generate a random sample from a given array of elements](#choice)  \n",
    "- [Generate a string of random bytes](#bytes)  \n",
    "\n",
    "## Permutations functions\n",
    "- [Modify a sequence in-place by shuffling it's contents](#shuffle)\n",
    "- [Randomly permute a sequence](#permutation)  \n",
    "\n",
    "\n",
    "The size and shape of the returned arrays depend on the arguments provided to the functions. The size is the number of elements in the array and the shape is the size of each dimension of the array.\n",
    "As with numpy arrays in general, every row has the same number of elements and every columns has the same number of elements. There can be different number of rows as columns."
   ]
  },
  {
   "cell_type": "markdown",
   "metadata": {},
   "source": [
    "<a id='task2.1'></a>\n",
    "***\n",
    "# Simple random data functions"
   ]
  },
  {
   "cell_type": "markdown",
   "metadata": {},
   "source": [
    "***\n",
    "## Random Floats from the Standard Normal Distribution $N (0,1)$\n",
    "<a id='randn'></a>\n",
    "The **`numpy.random.randn()`** function will return a sample (or samples) of random values from the **standard normal distribution** which has a mean 0 and a variance (and standard deviation) of 1. The standard normal distribution is also known as the Gaussian distribution.\n",
    "This function returns either a single value or a numpy array containing random floats sampled from a univariate “normal” distribution of mean 0 and variance 1.\n",
    "\n",
    "The dimensions of the resulting array depends on the arguments passed to the function.  A single float randomly sampled from the distribution is returned if no argument is provided.   \n",
    "\n",
    "The **`numpy.random.randn()`** is actually a convenience function **`numpy.random.standard_normal`** function which is used to draw samples from a **Standard Normal distribution** (mean=0, stdev=1). \n",
    "\n",
    "You can also get random samples from other normal distributions with a specified mean and variance $N(\\mu, \\sigma^2)$ by scaling the values. This is done by multiplying the values by $\\sigma$ and adding $\\mu$.   \n",
    "(The standard deviation $\\sigma$ is the square root of the variance $\\sigma^2$.)\n",
    "***\n",
    "\n",
    "See [numpy.random.standard_normal](#standard_normal) distribution function for more details on the standard normal distribution functions."
   ]
  },
  {
   "cell_type": "markdown",
   "metadata": {},
   "source": [
    "Here I will create various sized arrays using `numpy.random.randn` function.\n",
    "\n",
    "Without specifying the size a single float value will be returned. The arguments can only be positive integers.\n",
    "If two arguments are provided then the returned ndarray will have two dimensions. The number of elements ort the size of the returned array will be the product of these two values.\n",
    "\n",
    "I have written a small function below to print the array attributes rather than repeating myself over and over!\n",
    "I will use my function `arrayinfo` to print the resulting arrays with their dimensions.\n"
   ]
  },
  {
   "cell_type": "code",
   "execution_count": 4,
   "metadata": {},
   "outputs": [],
   "source": [
    "def arrayinfo(myarray):  # pass the array to the function to print the attributes\n",
    "    \"\"\"print the attributes of the numpy array passed to this function\"\"\"\n",
    "    \n",
    "    print(f\"A {myarray.ndim} dimensional array, with a total number of {myarray.size} {myarray.dtype} elements in  a{myarray.shape} shape \")\n",
    "    print('Mean=%.3f, Standard Deviation=%.3f, Variance=%.3f' % (np.mean(myarray), np.std(myarray), np.var(myarray)))\n",
    "    print(\"\\n\")\n",
    "    \n",
    "    #return myarray"
   ]
  },
  {
   "cell_type": "code",
   "execution_count": 5,
   "metadata": {},
   "outputs": [
    {
     "name": "stdout",
     "output_type": "stream",
     "text": [
      "A 1 dimensional array, with a total number of 10 float64 elements in  a(10,) shape \n",
      "Mean=-0.427, Standard Deviation=0.604, Variance=0.365\n",
      "\n",
      "\n",
      "A 2 dimensional array, with a total number of 15 float64 elements in  a(5, 3) shape \n",
      "Mean=0.848, Standard Deviation=0.560, Variance=0.314\n",
      "\n",
      "\n",
      "A 3 dimensional array, with a total number of 8 float64 elements in  a(2, 2, 2) shape \n",
      "Mean=-0.074, Standard Deviation=1.041, Variance=1.083\n",
      "\n",
      "\n"
     ]
    }
   ],
   "source": [
    "arrayinfo(np.random.randn(10))  # creates a one dimensional array of 10 values\n",
    "#arrayinfo(np.random.randn(3,2)) # a 3 by 2 array of samples from standard normal distribution. This will have 3 times 2 value\n",
    "arrayinfo(np.random.randn(5,3))# a 5 by 3 array with 15 values\n",
    "arrayinfo(np.random.randn(2,2,2)) # a 3D array containing 2*2*2 = 8 values\n",
    "#arrayinfo(np.random.randn(2,2,2,2)) # a 4D array containing 2*2*2*2 = 16 values\n"
   ]
  },
  {
   "cell_type": "markdown",
   "metadata": {},
   "source": [
    "<a id=\"mu-sigma\"></a>\n",
    "## Random samples from the $N(\\mu, \\sigma^2)$ Distribution\n",
    "You can get random samples from a normal distribution with a mean $\\mu$ and variance $\\sigma^2$ for a $N(\\mu, \\sigma^2)$ distribution by scaling the values from the `numpy.random.randn` function. Multiply the values by $\\sigma$ and add $\\mu$.   \n",
    "\n",
    "For example:"
   ]
  },
  {
   "cell_type": "code",
   "execution_count": 6,
   "metadata": {},
   "outputs": [
    {
     "name": "stdout",
     "output_type": "stream",
     "text": [
      "A 2 dimensional array, with a total number of 8 float64 elements in  a(2, 4) shape \n",
      "Mean=2.510, Standard Deviation=1.701, Variance=2.895\n",
      "\n",
      "\n"
     ]
    },
    {
     "data": {
      "text/plain": [
       "array([[ 2.823,  3.465,  2.569,  0.580],\n",
       "       [ 3.564,  3.639, -0.999,  4.440]])"
      ]
     },
     "execution_count": 6,
     "metadata": {},
     "output_type": "execute_result"
    }
   ],
   "source": [
    "# A 2 by 4 array of samples from N(3, 6.25) distribution:  \n",
    "x = 2.5 * np.random.randn(2, 4) + 3\n",
    "\n",
    "arrayinfo(x)\n",
    "x"
   ]
  },
  {
   "cell_type": "markdown",
   "metadata": {},
   "source": [
    "The Python standard library `random` package has a `gauss()` function which is used to sample random floats from a gaussian distribution. Unlike the `numpy.random.randn()` or `numpy.numpy.random.standard_normal` you do need to supply the parameters here for the mean and the standard deviation of the distribution from which the random values will be drawn. Here I use a loop to generate the sequence of random numbers, unlike numpy.random function which is a one liner. "
   ]
  },
  {
   "cell_type": "code",
   "execution_count": 7,
   "metadata": {},
   "outputs": [
    {
     "name": "stdout",
     "output_type": "stream",
     "text": [
      "0.982, 0.517, -1.005, -0.508, -1.702, 0.027, -1.649, 0.758, 0.947, 0.458\n"
     ]
    }
   ],
   "source": [
    "import random # import random module from python standard library\n",
    "myseq =[] # create an empty list\n",
    "for i in range(10):  ## use a loop to generate a sequence of random numbers\n",
    "    random_gauss = round(random.gauss(0,1),3) # mean is 0, standard deviation is 10\n",
    "    myseq.append(random_gauss)\n",
    "print(*myseq, sep = \", \") # print elements of the list without the brackets"
   ]
  },
  {
   "cell_type": "markdown",
   "metadata": {},
   "source": [
    "[Back to top](#toc)\n",
    "<a id='uniform01'></a>\n",
    "***\n",
    "## Random samples of floats from the continuous Uniform Distribution in the half-open interval $[0.0, 1.0)$\n",
    "\n",
    "The `numpy.random.rand` function returns an array of floating point values or a single random value from a **uniform distribution** in the half-open interval $[0,1.)$. The values returned can be any number from 0.0 up to 1 but not including 1. \n",
    "\n",
    "To use this function you can simply pass positive integer(s) as arguments which determine the dimensions of the array. Without passing any arguments a single float is returned (similarly to the `random` function in the python **random** standard library).\n",
    "\n",
    "There are four other functions listed under the **Simple Random Data** function in numpy.random that according to the documentation also return random floats from the **continuous uniform** distribution in the half-open interval between 0.0 and 1.0. The inputs and outputs to these four functions appear to be the very same for this interval and the examples in the numpy documentation use the `numpy.random.random_sample` function in all cases!\n",
    "\n",
    "- **`numpy.random.random_sample()`** \n",
    "- **`numpy.random.random()`** \n",
    "- **`numpy.random.ranf()`** \n",
    "- **`numpy.random.sample()`**\n",
    " \n",
    "The only difference I can see between the `numpy.random.rand` function and these four functions is that `numpy.random.rand` takes integers directly as the arguments while the other 4 functions take a tuple if using multiple arguments, otherwise a single integer is fine.\n",
    "\n",
    "The 4 functions mentioned here return samples from the continuous uniform distribution over the stated interval of $[0.0,1.0)$ but they can all also be used to sample from a continuous uniform distribution $Unif[a,b), b>a$ by multiplying the output by $(b-a)$ and adding $a$ to get $(b - a)$ * `random_sample()` + $a$.\n",
    "  \n",
    "If the size and shape are not specified, a single float will be returned.\n",
    "***\n",
    "The following are some of the properties of a continuous uniform distribution.\n",
    "\n",
    "- The continuous uniform distribution takes values in the specified range (a,b).   \n",
    "- The *standard uniform* distribution is where a is 0 and b is 1  \n",
    "- The expected value of the uniform distribution is $\\frac{b-a}{2}$ the midpoint of the interval.   \n",
    "- The variance $\\sigma^2$ is $\\frac{1}{12}(b-a)^2$ which is $\\frac{1}{12}$ \n",
    "- the standard deviation is the square root of the variance $\\sigma = \\frac{(b-a)^2}{12}$\n",
    "\n",
    "The expected value of the continuous uniform distribution in the interval between 0 and 1 is 0.5, the variance of the continuous uniform distribution in the interval between 0 and 1 is $\\frac{1}{12}$ and the standard deviation is $\\frac{1}{sqrt(12)}$\n",
    "***"
   ]
  },
  {
   "cell_type": "markdown",
   "metadata": {},
   "source": [
    "Now I will demonstrate using these functions to return samples from the continuous uniform distribution between 0.0 and 1.0.\n",
    "In doing so I can show the similarities in the outputs. When the functions are given the same size and shape arguments, and using the random seed function (as explained in Task 4) the exact same output is produced!"
   ]
  },
  {
   "cell_type": "code",
   "execution_count": 66,
   "metadata": {},
   "outputs": [
    {
     "name": "stdout",
     "output_type": "stream",
     "text": [
      "0.23984775914758616\n"
     ]
    },
    {
     "data": {
      "text/plain": [
       "array([[[ 0.494,  0.620]],\n",
       "\n",
       "       [[ 0.829,  0.157]],\n",
       "\n",
       "       [[ 0.019,  0.070]],\n",
       "\n",
       "       [[ 0.486,  0.606]]])"
      ]
     },
     "execution_count": 66,
     "metadata": {},
     "output_type": "execute_result"
    }
   ],
   "source": [
    "print(np.random.rand() ) ## without any arguments, a scalar is returned\n",
    "np.random.rand(4,1,2)  # a 3 dimensional array, with a total number of 8 float64 elements in  a(4, 1, 2) shape"
   ]
  },
  {
   "cell_type": "code",
   "execution_count": 63,
   "metadata": {},
   "outputs": [
    {
     "data": {
      "text/plain": [
       "array([ 0.751,  0.349,  0.270,  0.896,  0.428,  0.965,  0.663,  0.622,\n",
       "        0.115,  0.949])"
      ]
     },
     "execution_count": 63,
     "metadata": {},
     "output_type": "execute_result"
    }
   ],
   "source": [
    "np.random.rand(10)  # a 1-d array with 10 elements from uniform distribution"
   ]
  },
  {
   "cell_type": "code",
   "execution_count": 65,
   "metadata": {},
   "outputs": [
    {
     "name": "stdout",
     "output_type": "stream",
     "text": [
      "A 2 dimensional array, with a total number of 6 float64 elements in  a(3, 2) shape \n",
      "Mean=0.528, Standard Deviation=0.322, Variance=0.103\n",
      "\n",
      "\n",
      "A 4 dimensional array, with a total number of 24 float64 elements in  a(1, 2, 3, 4) shape \n",
      "Mean=0.448, Standard Deviation=0.322, Variance=0.104\n",
      "\n",
      "\n"
     ]
    }
   ],
   "source": [
    "x =np.random.rand(3,2) ##a 2-d array with 6 elements from uniform distribution\n",
    "arrayinfo(x)\n",
    "\n",
    "x =np.random.rand(1,2,3,4) # a 4 dimensional array with 24 elements from the uniform distribution\n",
    "arrayinfo(x)"
   ]
  },
  {
   "cell_type": "markdown",
   "metadata": {},
   "source": [
    "Here I set the size parameter as a single integer 10 and use the four functions mentioned to randomly sample 10 floats from the continuous uniform distribution in the $[0.0,1.0)$ interval.  In each case a one-dimensional array of 10 floats is returned. Using `numpy.random.seed` will generate the same random samples each time."
   ]
  },
  {
   "cell_type": "code",
   "execution_count": 56,
   "metadata": {},
   "outputs": [
    {
     "data": {
      "text/plain": [
       "array([ 0.417,  0.720,  0.000,  0.302,  0.147,  0.092,  0.186,  0.346,\n",
       "        0.397,  0.539])"
      ]
     },
     "execution_count": 56,
     "metadata": {},
     "output_type": "execute_result"
    }
   ],
   "source": [
    "np.random.seed(1)\n",
    "np.random.random_sample(10) # numpy.random_sample to return 10 random floats in the half-open interval `[0.0, 1.0)`.s"
   ]
  },
  {
   "cell_type": "code",
   "execution_count": 57,
   "metadata": {},
   "outputs": [
    {
     "data": {
      "text/plain": [
       "array([ 0.417,  0.720,  0.000,  0.302,  0.147,  0.092,  0.186,  0.346,\n",
       "        0.397,  0.539])"
      ]
     },
     "execution_count": 57,
     "metadata": {},
     "output_type": "execute_result"
    }
   ],
   "source": [
    "np.random.seed(1)\n",
    "np.random.random(10) # numpy.random.random to return 10 random floats in the half-open interval `[0.0, 1.0)`."
   ]
  },
  {
   "cell_type": "code",
   "execution_count": 58,
   "metadata": {},
   "outputs": [
    {
     "data": {
      "text/plain": [
       "array([ 0.417,  0.720,  0.000,  0.302,  0.147,  0.092,  0.186,  0.346,\n",
       "        0.397,  0.539])"
      ]
     },
     "execution_count": 58,
     "metadata": {},
     "output_type": "execute_result"
    }
   ],
   "source": [
    "np.random.seed(1)\n",
    "np.random.ranf(10) # numpy.random.ranf to return 10 random floats in the half-open interval `[0.0, 1.0)`."
   ]
  },
  {
   "cell_type": "code",
   "execution_count": 59,
   "metadata": {},
   "outputs": [
    {
     "data": {
      "text/plain": [
       "array([ 0.417,  0.720,  0.000,  0.302,  0.147,  0.092,  0.186,  0.346,\n",
       "        0.397,  0.539])"
      ]
     },
     "execution_count": 59,
     "metadata": {},
     "output_type": "execute_result"
    }
   ],
   "source": [
    "np.random.seed(1)\n",
    "np.random.sample(10) # numpy.random.sample to return 10 random floats in the half-open interval `[0.0, 1.0)`."
   ]
  },
  {
   "cell_type": "markdown",
   "metadata": {},
   "source": [
    "Now by providing a tuple with 2 integer arguments will give a two-dimensional array, a tuple with 3 arguments will return a 3-dimensional array and so on. The number of samples returned is the product of the integer arguments."
   ]
  },
  {
   "cell_type": "markdown",
   "metadata": {},
   "source": [
    "### Samples from the continuous uniform distribution in $[0.0,1.0)$ interval and their statistics.\n",
    "\n",
    "Below using my `arrayinfo` function to print the attributes of the arrays of samples rather than printing all the samples returned. \n",
    "I also show the mean, variance and standard deviations of each set of samples from each function.   \n",
    "When using the same random seed will result in the identical random samples and statistics for the samples.\n",
    "\n",
    "\n",
    "Without setting a seed, the actual random samples generated would be different as a different sample is selected each time, but their means, variances and standard deviations should be very similar as will be outlined in the Distributions section below for task 3.\n",
    "\n",
    "The expected value of the uniform distribution is $\\frac{b-a}{2}$, the midpoint of the interval so the expected value of the continuous uniform distribution in the interval between 0 and 1 is $0.5$ while the variance is $\\frac{1}{12}$ and the standard deviation is  $\\frac{1}{sqrt(12)}$.\n",
    "For smaller samples the statistics may not be the exact 0.5, 1/12 and 1/sqrt(12) but as the sample size gets bigger then this is what you would expect from a continuous uniform distribution. "
   ]
  },
  {
   "cell_type": "code",
   "execution_count": 85,
   "metadata": {},
   "outputs": [
    {
     "name": "stdout",
     "output_type": "stream",
     "text": [
      "The expected value is 0.5\n",
      "The variance is 0.08333333333333333\n",
      "The standard deviation is 0.2886751345948129\n"
     ]
    }
   ],
   "source": [
    "a,b =0,1\n",
    "print(\"The expected value is\",(a+b)/2)\n",
    "print(\"The variance is\", ((b-a)**2)/12)\n",
    "print(\"The standard deviation is\",(b-a)/(np.sqrt(12)))"
   ]
  },
  {
   "cell_type": "code",
   "execution_count": 81,
   "metadata": {},
   "outputs": [
    {
     "name": "stdout",
     "output_type": "stream",
     "text": [
      "A 2 dimensional array, with a total number of 5000 float64 elements in  a(1000, 5) shape \n",
      "Mean=0.500, Standard Deviation=0.288, Variance=0.083\n",
      "\n",
      "\n",
      "A 2 dimensional array, with a total number of 5000 float64 elements in  a(1000, 5) shape \n",
      "Mean=0.500, Standard Deviation=0.288, Variance=0.083\n",
      "\n",
      "\n",
      "A 2 dimensional array, with a total number of 5000 float64 elements in  a(1000, 5) shape \n",
      "Mean=0.500, Standard Deviation=0.288, Variance=0.083\n",
      "\n",
      "\n",
      "A 2 dimensional array, with a total number of 5000 float64 elements in  a(1000, 5) shape \n",
      "Mean=0.500, Standard Deviation=0.288, Variance=0.083\n",
      "\n",
      "\n",
      "A 2 dimensional array, with a total number of 5000 float64 elements in  a(1000, 5) shape \n",
      "Mean=0.500, Standard Deviation=0.288, Variance=0.083\n",
      "\n",
      "\n"
     ]
    }
   ],
   "source": [
    "np.random.seed(1)\n",
    "arrayinfo(np.random.rand(1000,5))\n",
    "np.random.seed(1)\n",
    "arrayinfo(np.random.sample((1000,5)))\n",
    "np.random.seed(1)\n",
    "arrayinfo(np.random.random_sample((1000,5)))\n",
    "np.random.seed(1)\n",
    "arrayinfo(np.random.ranf((1000,5)))\n",
    "np.random.seed(1)\n",
    "arrayinfo(np.random.sample((1000,5)))\n"
   ]
  },
  {
   "cell_type": "markdown",
   "metadata": {},
   "source": [
    "<a id= \"continuous_uniform[a,b)\"></a>\n",
    "## Random floats from the continuous uniform distribution:   $Unif[a, b), b > a$ \n",
    "\n",
    "The 4 functions just mentioned above can also be used to sample from a continuous uniform distribution over a different interval other than $[0.0,1.0)$. \n",
    "\n",
    "To sample from $Unif[a, b), b > a$  you simply multiply the output of `random_sample` function by $(b-a)$ and add a:  \n",
    "`(b - a) * random_sample() + a`\n",
    " \n",
    " For example, to get a 3 by 2 array of random numbers from the uniform distribution over the interval $[-5, 0)$ where a is -5 and b is 0,\n",
    " use `5 * np.random.random_sample((3, 2)) - 5`"
   ]
  },
  {
   "cell_type": "code",
   "execution_count": 103,
   "metadata": {},
   "outputs": [
    {
     "name": "stdout",
     "output_type": "stream",
     "text": [
      "A 2 dimensional array, with a total number of 400 float64 elements in  a(100, 4) shape \n",
      "Mean=-1.943, Standard Deviation=1.162, Variance=1.351\n",
      "\n",
      "\n",
      "b-a = 4 , a = -4\n",
      "The expected value is the midpoint of a and b which is -2.0\n",
      "The variance is 1.3333333333333333\n",
      "The standard deviation is 1.1547005383792517\n"
     ]
    }
   ],
   "source": [
    "\n",
    "\n",
    "x = 4 * np.random.random_sample((100, 4)) - 4 # returns a 100-by-4 array of random numbers from [-4, 0). \n",
    "\n",
    "arrayinfo(x)\n",
    "\n",
    "a,b =-4,0\n",
    "print(\"b-a =\",b-a, \", a =\",a)\n",
    "print(\"The expected value is the midpoint of a and b which is\",(a+b)/2)\n",
    "print(\"The variance is\", ((b-a)**2)/12)\n",
    "print(\"The standard deviation is\",(b-a)/(np.sqrt(12)))"
   ]
  },
  {
   "cell_type": "markdown",
   "metadata": {},
   "source": [
    "The four functions `np.random.random_sample`, `np.random.random`, `np.random.ranf` and `np.random.sample` all appear to again return the exact same results as each other when using the same size arguments and the same intervals. This is shown by using the `numpy.random.seed` function to set the seed to get the same pseudo random numbers generated. See Section 4."
   ]
  },
  {
   "cell_type": "code",
   "execution_count": 26,
   "metadata": {},
   "outputs": [
    {
     "name": "stdout",
     "output_type": "stream",
     "text": [
      "A 2 dimensional array, with a total number of 6 float64 elements in  a(3, 2) shape \n",
      "Mean=-2.881, Standard Deviation=0.958, Variance=0.919\n",
      "\n",
      "\n",
      "A 2 dimensional array, with a total number of 6 float64 elements in  a(3, 2) shape \n",
      "Mean=-2.881, Standard Deviation=0.958, Variance=0.919\n",
      "\n",
      "\n",
      "A 2 dimensional array, with a total number of 6 float64 elements in  a(3, 2) shape \n",
      "Mean=-2.881, Standard Deviation=0.958, Variance=0.919\n",
      "\n",
      "\n",
      "A 2 dimensional array, with a total number of 6 float64 elements in  a(3, 2) shape \n",
      "Mean=-2.881, Standard Deviation=0.958, Variance=0.919\n",
      "\n",
      "\n"
     ]
    }
   ],
   "source": [
    "np.random.seed(1)\n",
    "arrayinfo(4 * np.random.random_sample((3, 2)) - 4 )# returns a 3-by-2 array of random numbers from [-4, 0).\n",
    "np.random.seed(1)\n",
    "arrayinfo(4 * np.random.random((3, 2)) - 4 )# returns a 3-by-2 array of random numbers from [-4, 0). \n",
    "np.random.seed(1)\n",
    "arrayinfo(4 * np.random.ranf((3, 2)) - 4) # returns a 3-by-2 array of random numbers from [-4, 0). \n",
    "np.random.seed(1)\n",
    "arrayinfo(4 * np.random.sample((3, 2)) - 4) # returns a 3-by-2 array of random numbers from [-4, 0).\n"
   ]
  },
  {
   "cell_type": "markdown",
   "metadata": {},
   "source": [
    "***\n",
    "<a id='randint'></a>\n",
    "## Random integers from the Discrete Uniform Distribution\n",
    "\n",
    "### The **`numpy.random.randint`** function.  \n",
    "\n",
    "The **numpy.random.randint(low, high=None, size=None, dtype='l')** function returns random integers from the **discrete uniform distribution** in the interval from low (inclusive) to high (exclusive). ($[low, high)$).\n",
    "See [numpy.random.randint()](https://docs.scipy.org/doc/numpy-1.16.1/reference/generated/numpy.random.randint.html#numpy-random-randint).\n",
    "\n",
    "**`numpy.random.randint()`** is used to generate an array of random integers. \n",
    "\n",
    "There are four possible parameters you can give to this function but at least one is required.  Size is the key word argument here which is used to specify how many random numbers should be generated.\n",
    "You can also specify the range from which the random integers will be generated.\n",
    "\n",
    "If only one parameter is entered, this is taken to be the upper end of the range (exclusive) and a single random integer is returned in the range from 0 up to the number supplied so `np.random.randint(10)` samples a single integer from 0 up to an including 9.\n",
    "\n",
    "When a second value is supplied to the function, the first is treated as the low range parameter and the second is treated as the high range parameter so `np.random.randint(5,10)` would output a single integer between 5 inclusive and 9.\n",
    "The two arguments together specify the range of values that could possibly be drawn. \n",
    "The size if supplied, which can be a single integer or a tuple of integers for higher dimensions determines the shape and size of the output of random integers from the specified distribution.\n",
    "If the given shape is (m, n, k), then m * n * k samples are drawn.\n",
    "\n",
    "The last possible argument is an optional `dtype` parameter which determines the dtype of the integers in the resulting array. This is not always required as the default value is `np.int` \n",
    "\n",
    "The `numpy.random.random_integers` function is similar to `numpy.random.randint` but it is now deprecated. `numpy.random.random_integers` had a closed interval [low, high] with 1 being the lowest value if high is omitted and was used to generate uniformly distributed discrete non-integers."
   ]
  },
  {
   "cell_type": "code",
   "execution_count": 112,
   "metadata": {},
   "outputs": [
    {
     "name": "stdout",
     "output_type": "stream",
     "text": [
      "[[15  5  5 16]\n",
      " [17  4 13 18]]\n"
     ]
    }
   ],
   "source": [
    "x = np.random.randint(20, size=(2,4)) # a 2-dimensional array with 4 times 2 = 8 values from range of 0 to 19\n",
    "print(x)\n",
    "\n"
   ]
  },
  {
   "cell_type": "code",
   "execution_count": 115,
   "metadata": {},
   "outputs": [
    {
     "data": {
      "text/plain": [
       "array([8, 5, 9])"
      ]
     },
     "execution_count": 115,
     "metadata": {},
     "output_type": "execute_result"
    }
   ],
   "source": [
    "np.random.randint(5,10,3) # a 1-d array with 3 values from the range [5,10)\n"
   ]
  },
  {
   "cell_type": "code",
   "execution_count": 118,
   "metadata": {},
   "outputs": [
    {
     "data": {
      "text/plain": [
       "array([[6, 8, 9],\n",
       "       [6, 8, 9],\n",
       "       [7, 9, 7],\n",
       "       [7, 6, 5]])"
      ]
     },
     "execution_count": 118,
     "metadata": {},
     "output_type": "execute_result"
    }
   ],
   "source": [
    "np.random.randint(5,10,(4,3)) # a 2-d array  with 4 by 3 values in range [5,10)"
   ]
  },
  {
   "cell_type": "code",
   "execution_count": 119,
   "metadata": {},
   "outputs": [
    {
     "data": {
      "text/plain": [
       "array([[[ 0, 12,  8, 26],\n",
       "        [11,  5, 18, 25],\n",
       "        [23,  5,  5, 14]],\n",
       "\n",
       "       [[23,  2,  0, 24],\n",
       "        [ 3,  2, 23, 26],\n",
       "        [24, 19, 13, 14]]])"
      ]
     },
     "execution_count": 119,
     "metadata": {},
     "output_type": "execute_result"
    }
   ],
   "source": [
    "np.random.randint(0,27,(2,3,4)) # a 3-d array with 24 values from range [0,27)"
   ]
  },
  {
   "cell_type": "code",
   "execution_count": 120,
   "metadata": {},
   "outputs": [
    {
     "data": {
      "text/plain": [
       "5"
      ]
     },
     "execution_count": 120,
     "metadata": {},
     "output_type": "execute_result"
    }
   ],
   "source": [
    "np.random.randint(5,10) # "
   ]
  },
  {
   "cell_type": "code",
   "execution_count": 124,
   "metadata": {},
   "outputs": [],
   "source": [
    "x = np.random.randint(5, size=(2, 3, 4)) # Generate a 3 dimensional array of  24 integers"
   ]
  },
  {
   "cell_type": "code",
   "execution_count": 123,
   "metadata": {},
   "outputs": [
    {
     "data": {
      "text/plain": [
       "array([[[1, 1, 3, 3],\n",
       "        [2, 4, 3, 4],\n",
       "        [3, 4, 1, 4]],\n",
       "\n",
       "       [[1, 1, 3, 0],\n",
       "        [4, 2, 1, 4],\n",
       "        [4, 4, 3, 1]]])"
      ]
     },
     "execution_count": 123,
     "metadata": {},
     "output_type": "execute_result"
    }
   ],
   "source": [
    "np.random.randint(5, size=(2, 3, 4)) # Generate a 3 dimensional array of  24 integers\n"
   ]
  },
  {
   "cell_type": "markdown",
   "metadata": {},
   "source": [
    "The `numpy.random.random_integers` function was used to return random integers of type `np.int` from the “discrete uniform” distribution in the closed interval [low, high].\n",
    "\n",
    "However this function is now deprecated and the manual advises to use `numpy.random.randint` instead but by adding 1 to high to get a closed interval.\n",
    "\n",
    "`np.random.random_integers(5)` results in the following message:\n",
    "> DeprecationWarning: This function is deprecated. Please call randint(1, 5 + 1) instead\n"
   ]
  },
  {
   "cell_type": "markdown",
   "metadata": {},
   "source": [
    "***\n",
    "<a id =\"choice\"></a>\n",
    "\n",
    "## Generate a random sample from a given array.\n",
    "\n",
    "The **`numpy.random.choice(a, size=None, replace=True, p=None)`** function generates a random sample from a given 1-D array\n",
    "\n",
    "See [numpy.random.choice(a, size=None, replace=True, p=None)](https://numpy.org/doc/1.16/reference/generated/numpy.random.choice.html#numpy-random-choice).\n",
    "\n",
    "The `numpy.random.choice` function is different to the other numpy.random simple random data functions it that it is used to generate a random sample of elements from the elements of a one-dimensional array whereas the simple random data function I looked at above are used to generate random numbers from a specified distribution.\n",
    "\n",
    "To use this function you have to provide the array as an argument or else an integer with which to create an array using the `np.arange` function. \n",
    "\n",
    "The sample returned could be a single value or an ndarray of values. By providing a size parameter, more than one value will be sampled from the array provided.\n",
    "\n",
    "\n",
    "There are various methods of sampling random elements from an array. **With replacement** means the elements drawn would be placed back in and could be selected again whereas **without replacement** means that once a element is chosen, it can no longer be chosen again in the same sample as it is not placed back in the pot. In this way there can be no duplicates as elements cannot be selected again in the same sample. \n",
    "\n",
    "The `numpy.random.choice` function defaults to using the **with replacement** sampling method but youm can specify that the random sample is without replacement so that the same element cannot be chosen again.\n",
    "\n",
    "If you don't provide the probabilities for each element of the input array the function will just assume a uniform distribution over all the elements where each elements is equally likely to be chosen. By providing the `p` probabilites, a non-uniform random sample is generated. The number of probabilities should equal the size parameter and the probabilities must sum to 1.0, otherwise an error results.\n",
    "\n",
    "The `numpy.random.choice` function can also be used on an array of elements other than integers. It is somewhat similar to the `choice()` function in the python **random** standard library which randomly select items from a list. "
   ]
  },
  {
   "cell_type": "markdown",
   "metadata": {},
   "source": [
    "### Sampling from array of items other than numbers.\n",
    "\n",
    "The `numpy.random.choice` function can also be used to sample from array of other types of elements.\n",
    "To show this I will create an array with a list of letters from which to randomly sample elements.\n"
   ]
  },
  {
   "cell_type": "code",
   "execution_count": 130,
   "metadata": {},
   "outputs": [],
   "source": [
    "import string  # import string module from standard library\n",
    "letters_lower =np.array(list(string.ascii_lowercase)) # create an array of lowercase letters"
   ]
  },
  {
   "cell_type": "code",
   "execution_count": 131,
   "metadata": {},
   "outputs": [
    {
     "data": {
      "text/plain": [
       "array(['g', 'p', 't', 'v'], dtype='<U1')"
      ]
     },
     "execution_count": 131,
     "metadata": {},
     "output_type": "execute_result"
    }
   ],
   "source": [
    "np.random.choice(letters_lower, 4) # randomly select 4 elements with equal probability"
   ]
  },
  {
   "cell_type": "markdown",
   "metadata": {},
   "source": [
    "#### sampling from an array of letters with defined probabilities with replacement"
   ]
  },
  {
   "cell_type": "code",
   "execution_count": 132,
   "metadata": {},
   "outputs": [
    {
     "data": {
      "text/plain": [
       "array(['d', 'b', 'a', 'd', 'd'], dtype='<U1')"
      ]
     },
     "execution_count": 132,
     "metadata": {},
     "output_type": "execute_result"
    }
   ],
   "source": [
    "np.random.choice(['a','b','c','d','e','f'], 5, p=[0.2, 0.15, 0.15, 0.3, 0.1, 0.1]) # selecting from an array of non-integers"
   ]
  },
  {
   "cell_type": "markdown",
   "metadata": {},
   "source": [
    "#### sampling from an array of letters with defined probabilities and without replacement"
   ]
  },
  {
   "cell_type": "code",
   "execution_count": 35,
   "metadata": {},
   "outputs": [
    {
     "data": {
      "text/plain": [
       "array(['b', 'a', 'd', 'e', 'c'], dtype='<U1')"
      ]
     },
     "execution_count": 35,
     "metadata": {},
     "output_type": "execute_result"
    }
   ],
   "source": [
    "np.random.choice(['a','b','c','d','e','f'], 5, p=[0.2, 0.15, 0.15, 0.3, 0.1, 0.1], replace = False)"
   ]
  },
  {
   "cell_type": "markdown",
   "metadata": {},
   "source": [
    "#### select element from an array of integers created using `np.arange` function"
   ]
  },
  {
   "cell_type": "code",
   "execution_count": 36,
   "metadata": {},
   "outputs": [
    {
     "data": {
      "text/plain": [
       "array([72, 78, 49, 51, 54, 77, 69, 13, 25, 13, 92, 86])"
      ]
     },
     "execution_count": 36,
     "metadata": {},
     "output_type": "execute_result"
    }
   ],
   "source": [
    "np.random.choice(10) # select a single element from an array created from np.arange(10)\n",
    "np.random.choice(5, 3)  # select 3 elements from an array of integers from 0 up to but not including 5\n",
    "np.random.choice(100, 12) #  select 12 elements from an array from 0 to 99 inclusive."
   ]
  },
  {
   "cell_type": "markdown",
   "metadata": {},
   "source": [
    "Note that `np.random.choice()` will result in a *TypeError: choice() takes at least 1 positional argument (0 given)* if not argument is provided."
   ]
  },
  {
   "cell_type": "markdown",
   "metadata": {},
   "source": [
    "##### Showing that setting with replacement to false means an element won't be chosen again in that sample.\n",
    "Here generating 4 samples from an array with replacement. The same element may appear twice or more in the sample. Doing this several times using a loop in case its not evident on the first run.\n"
   ]
  },
  {
   "cell_type": "code",
   "execution_count": 138,
   "metadata": {},
   "outputs": [
    {
     "name": "stdout",
     "output_type": "stream",
     "text": [
      "[5 8 7 1 7 5]\n",
      "[9 1 0 2 8 7]\n",
      "[7 6 4 0 7 5]\n",
      "[3 9 4 8 7 0]\n"
     ]
    }
   ],
   "source": [
    "for i in range(4):\n",
    "    x = np.random.choice(10, 6) # sample 4 elements from the array \n",
    "    print(x)\n"
   ]
  },
  {
   "cell_type": "markdown",
   "metadata": {},
   "source": [
    "Then set replace = False and observing that the same element is never repeated in the same array."
   ]
  },
  {
   "cell_type": "code",
   "execution_count": 139,
   "metadata": {},
   "outputs": [
    {
     "name": "stdout",
     "output_type": "stream",
     "text": [
      "[9 3 8 5 0 4]\n",
      "[0 2 5 6 7 4]\n",
      "[1 5 2 8 6 4]\n",
      "[7 2 4 9 3 6]\n"
     ]
    }
   ],
   "source": [
    "for i in range(4):\n",
    "    x = np.random.choice(10, 6, replace = False) # sample 4 elements from the array \n",
    "    print(x)"
   ]
  },
  {
   "cell_type": "markdown",
   "metadata": {},
   "source": [
    "***\n",
    "<a id=\"bytes\"></a>\n",
    "\n",
    "## The numpy.random.bytes function.\n",
    "\n",
    "[numpy.random.bytes(length)](https://numpy.org/doc/1.16/reference/generated/numpy.random.bytes.html#numpy.random.bytes) returns a string of random bytes. The length of the string must be provided.\n",
    "\n",
    "This function returns a bytes object. A bytes object is displayed as a sequence of bytes between quotes and preceded by 'b' or 'B'\n"
   ]
  },
  {
   "cell_type": "code",
   "execution_count": 39,
   "metadata": {},
   "outputs": [
    {
     "data": {
      "text/plain": [
       "bytes"
      ]
     },
     "execution_count": 39,
     "metadata": {},
     "output_type": "execute_result"
    }
   ],
   "source": [
    "a =np.random.bytes(1)\n",
    "b= np.random.bytes(2)\n",
    "np.random.bytes(3)\n",
    "np.random.bytes(4)\n",
    "type(a)\n",
    "type(b)\n"
   ]
  },
  {
   "cell_type": "code",
   "execution_count": 40,
   "metadata": {},
   "outputs": [
    {
     "data": {
      "text/plain": [
       "b'\\xd89\\xee'"
      ]
     },
     "execution_count": 40,
     "metadata": {},
     "output_type": "execute_result"
    }
   ],
   "source": [
    "# A bytes object is displayed as a sequence of bytes between quotes and preceded by 'b' or 'B':\n",
    "bytes(3) # produces an empty sequence of 3 bytes\n",
    "np.random.bytes(3)"
   ]
  },
  {
   "cell_type": "markdown",
   "metadata": {},
   "source": [
    "Bytes literals are always prefixed with 'b' or 'B'; they produce an instance of the bytes type instead of the str type. They may only contain ASCII characters; bytes with a numeric value of 128 or greater must be expressed with escapes.\n",
    "\n",
    ">[Bytes objects](https://docs.python.org/3/library/stdtypes.html?highlight=bytes#bytes-objects)are immutable sequences of single bytes. Since many major binary protocols are based on the ASCII text encoding, bytes objects offer several methods that are only valid when working with ASCII compatible data and are closely related to string objects in a variety of other ways.\n",
    "\n",
    "One byte is a memory location with a size of 8 bits. A bytes object is an immutable sequence of bytes, conceptually similar to a string.\n",
    "\n",
    ">The bytes object is important because data written to disk is written as a stream of bytes, and because integers and strings are sequences of bytes. How the sequence of bytes is interpreted or displayed makes it an integer or a string.\n",
    "https://en.wikiversity.org/wiki/Python_Concepts/Bytes_objects_and_Bytearrays\n",
    "\n",
    "***"
   ]
  },
  {
   "cell_type": "markdown",
   "metadata": {},
   "source": [
    "<a id='task2.2'></a>\n",
    "***\n",
    "## Permutations functions\n",
    "\n",
    "There are two permutations functions in the `numpy.random` package. \n",
    "\n",
    "- numpy.random.shuffle(x) is used to modify a sequence in-place by shuffling its contents.\n",
    "- numpy.random.permutation(x) is used to randomly permute a sequence, or return a permuted range.\n",
    "\n",
    "The numpy`shuffle` function shuffles a sequence in place so that the sequence provided to it is actually shuffled and not just a copy of the sequence."
   ]
  },
  {
   "cell_type": "markdown",
   "metadata": {},
   "source": [
    "<a id=\"shuffle\"></a>\n",
    "### numpy.random.shuffle\n",
    "The `numpy.random.shuffle(x)` function is used to modify a sequence in-place by shuffling its contents.\n",
    "\n",
    "This function is used to shuffle an numpy array in-place. The contents of the numpy array is shuffled so that the contents are still the same but in a different order. The sequence is therefore changed with it's elements in a random order.\n",
    "\n",
    "If the array is multidimensional then this function will only shuffle the array along the first axis. The order of sub-arrays is changed but their contents remains the same. \n",
    "This basically swaps the order of the rows in the array, but not the order of the elements in each row.\n",
    "\n"
   ]
  },
  {
   "cell_type": "code",
   "execution_count": null,
   "metadata": {},
   "outputs": [],
   "source": []
  },
  {
   "cell_type": "code",
   "execution_count": 140,
   "metadata": {},
   "outputs": [
    {
     "name": "stdout",
     "output_type": "stream",
     "text": [
      "The original array[0 1 2 3 4 5 6 7 8 9] before being shuffled\n",
      "The shuffled array [2 7 3 9 1 4 5 6 8 0]\n"
     ]
    }
   ],
   "source": [
    "arr1 = np.arange(10)  # the original array is a range from 0 to 10 exclusive\n",
    "print(f\"The original array{arr1} before being shuffled\") # the original array before shuffling the contents in place\n",
    "np.random.shuffle(arr1) ## the shuffled array\n",
    "print(f\"The shuffled array {arr1}\") # the original array has been shuffled.\n"
   ]
  },
  {
   "cell_type": "markdown",
   "metadata": {},
   "source": [
    "The `numpy.random.shuffle` function only shuffles the array along the first axis of a multi-dimensional array. The order of sub-arrays is changed but their contents remains the same. Basically the rows have been moved about but not the elements in the rows.\n"
   ]
  },
  {
   "cell_type": "code",
   "execution_count": 141,
   "metadata": {},
   "outputs": [
    {
     "name": "stdout",
     "output_type": "stream",
     "text": [
      "The original array \n",
      "[[ 0  1  2  3]\n",
      " [ 4  5  6  7]\n",
      " [ 8  9 10 11]] \n",
      " before being shuffled\n",
      "\n",
      " The shuffled array \n",
      " [[ 4  5  6  7]\n",
      " [ 0  1  2  3]\n",
      " [ 8  9 10 11]] \n"
     ]
    }
   ],
   "source": [
    "arr = np.arange(12).reshape((3, 4))  ## create a 3 by 4 two-dimensional array\n",
    "print(f\"The original array \\n{arr} \\n before being shuffled\") # the original array before shuffling the contents in place\n",
    "np.random.shuffle(arr) # shuffle the array along the first axis only\n",
    "print(f\"\\n The shuffled array \\n {arr} \") # note that the array now has the same shape but the sub-arrays or rows have been swapped."
   ]
  },
  {
   "cell_type": "code",
   "execution_count": 142,
   "metadata": {},
   "outputs": [
    {
     "name": "stdout",
     "output_type": "stream",
     "text": [
      "The original array \n",
      "[[ 0  1  2  3]\n",
      " [ 4  5  6  7]\n",
      " [ 8  9 10 11]\n",
      " [12 13 14 15]\n",
      " [16 17 18 19]] \n",
      " before being shuffled\n",
      "\n",
      " The shuffled array \n",
      " [[ 8  9 10 11]\n",
      " [12 13 14 15]\n",
      " [ 0  1  2  3]\n",
      " [ 4  5  6  7]\n",
      " [16 17 18 19]] \n"
     ]
    }
   ],
   "source": [
    "arr = np.arange(20).reshape((5, 4))  ## create a 5 by 4 two-dimensional array of 20 elements \n",
    "print(f\"The original array \\n{arr} \\n before being shuffled\") # the original array before shuffling the contents in place\n",
    "np.random.shuffle(arr) # shuffle the array across the first dimenstion only.\n",
    "print(f\"\\n The shuffled array \\n {arr} \") # note that the array now has the same shape but the sub-arrays or rows have been s"
   ]
  },
  {
   "cell_type": "markdown",
   "metadata": {},
   "source": [
    "<a id=\"permutation\"></a>\n",
    "### numpy.random.permutation\n",
    "\n",
    "The [numpy.random.permutation](https://numpy.org/doc/1.16/reference/generated/numpy.random.permutation.html#numpy-random-permutation) function randomly permutes a sequence, or returns a permuted range.\n",
    "\n",
    "If x is a multi-dimensional array, it is only shuffled along its first index.\n",
    "\n",
    "This function takes an array or an integer to create a `np.arange` array from. \n",
    "If x is an integer, it will randomly permute the array created from `np.arange(x)`.\n",
    "If x is an array, it will make a copy and shuffle the elements randomly.\n",
    "\n",
    "The difference between the `numpy.random.shuffle` and the `numpy.random.permutation` seems to be that the original array is shuffled in the first case but only the copy is shuffled in the second case. This is where an array is provided and not where the function also has to create an array from `np.arange`.\n"
   ]
  },
  {
   "cell_type": "code",
   "execution_count": 44,
   "metadata": {},
   "outputs": [
    {
     "data": {
      "text/plain": [
       "array([[ 0,  1,  2,  3,  4,  5,  6,  7],\n",
       "       [ 8,  9, 10, 11, 12, 13, 14, 15],\n",
       "       [16, 17, 18, 19, 20, 21, 22, 23]])"
      ]
     },
     "execution_count": 44,
     "metadata": {},
     "output_type": "execute_result"
    }
   ],
   "source": [
    "arr = np.arange(24).reshape((3, 8)) # create an array\n",
    "np.random.permutation(arr) # permute the array makes a copy and shuffles the copy\n",
    "arr # the original array is unchanged."
   ]
  },
  {
   "cell_type": "code",
   "execution_count": 45,
   "metadata": {},
   "outputs": [
    {
     "data": {
      "text/plain": [
       "array([3, 2, 5, 9, 1, 8, 7, 4, 0, 6])"
      ]
     },
     "execution_count": 45,
     "metadata": {},
     "output_type": "execute_result"
    }
   ],
   "source": [
    "x = np.random.permutation(10) # create a range from 0 to 10 (exclusive) and then permute this array\n",
    "x  # the array is permuted\n"
   ]
  },
  {
   "cell_type": "code",
   "execution_count": 46,
   "metadata": {},
   "outputs": [
    {
     "data": {
      "text/plain": [
       "array([[0, 1, 2],\n",
       "       [3, 4, 5],\n",
       "       [6, 7, 8]])"
      ]
     },
     "execution_count": 46,
     "metadata": {},
     "output_type": "execute_result"
    }
   ],
   "source": [
    "a = np.arange(9).reshape((3, 3))  ## create a 3 by 3 two-dimensional array of 20 elements \n",
    "a\n",
    "np.random.permutation(a) # the array is copied and then the copy is shuffled.\n",
    "a # the original array remains as is."
   ]
  },
  {
   "cell_type": "code",
   "execution_count": 47,
   "metadata": {},
   "outputs": [
    {
     "name": "stdout",
     "output_type": "stream",
     "text": [
      "The original array before being shuffled / permuted \n",
      "[[ 0  1  2  3]\n",
      " [ 4  5  6  7]\n",
      " [ 8  9 10 11]\n",
      " [12 13 14 15]\n",
      " [16 17 18 19]] \n",
      " \n",
      "\n",
      " A copy of the array was shuffled \n",
      " [[ 0  1  2  3]\n",
      " [ 4  5  6  7]\n",
      " [ 8  9 10 11]\n",
      " [12 13 14 15]\n",
      " [16 17 18 19]] and the original array unchanged\n"
     ]
    }
   ],
   "source": [
    "arr = np.arange(20).reshape((5, 4))  ## create a 5 by 4 two-dimensional array of 20 elements \n",
    "print(f\"The original array before being shuffled / permuted \\n{arr} \\n \") # the original array before being permuted\n",
    "np.random.permutation(arr) # permute the array across the first dimenstion only.\n",
    "print(f\"\\n A copy of the array was shuffled \\n {arr} and the original array unchanged\") # note that the array now has the same shape but the sub-arrays or rows have been s"
   ]
  },
  {
   "cell_type": "markdown",
   "metadata": {},
   "source": [
    "### Comparing the `numpy.random.shuffle` and `numpy.random.permutation` function"
   ]
  },
  {
   "cell_type": "code",
   "execution_count": 152,
   "metadata": {},
   "outputs": [
    {
     "name": "stdout",
     "output_type": "stream",
     "text": [
      "The original array before being shuffled \n",
      "[[0 1 2]\n",
      " [3 4 5]\n",
      " [6 7 8]] \n",
      " \n",
      "The original array after being shuffled \n",
      "[[3 4 5]\n",
      " [6 7 8]\n",
      " [0 1 2]] \n",
      " \n"
     ]
    }
   ],
   "source": [
    "a = np.arange(9).reshape((3, 3))  ## create a 3 by 3 two-dimensional array of 20 elements \n",
    "print(f\"The original array before being shuffled \\n{a} \\n \") # the original array before being permuted\n",
    "\n",
    "np.random.shuffle(a) # provide an array\n",
    "print(f\"The original array after being shuffled \\n{a} \\n \")"
   ]
  },
  {
   "cell_type": "code",
   "execution_count": 154,
   "metadata": {},
   "outputs": [
    {
     "name": "stdout",
     "output_type": "stream",
     "text": [
      "The original array before being permuted \n",
      "[[0 1 2]\n",
      " [3 4 5]\n",
      " [6 7 8]] \n",
      " \n",
      "[[0 1 2]\n",
      " [3 4 5]\n",
      " [6 7 8]]\n",
      "The original array after being permuted \n",
      "[[0 1 2]\n",
      " [3 4 5]\n",
      " [6 7 8]] \n",
      " \n"
     ]
    }
   ],
   "source": [
    "a = np.arange(9).reshape((3, 3))  ## create a 3 by 3 two-dimensional array of 20 elements \n",
    "print(f\"The original array before being permuted \\n{a} \\n \")\n",
    "print(np.random.permutation(a)) # provide an array\n",
    "print(f\"The original array after being permuted \\n{a} \\n \")"
   ]
  },
  {
   "cell_type": "markdown",
   "metadata": {},
   "source": [
    "[Back to top](#toc)\n",
    "***"
   ]
  },
  {
   "cell_type": "markdown",
   "metadata": {},
   "source": [
    "<a id='task3'></a>\n",
    "# 3. Explain the use and purpose of at least five “Distributions” functions.\n",
    "\n",
    "[Back to top](#toc)  \n",
    "\n",
    "\n",
    "<a id='distributions'></a>\n",
    "Random numbers can be drawn from different probability distributions.\n",
    "While the functions outlined under the [Simple random data](#Simplerandomdata) section of the [Random sampling (numpy.random)](https://numpy.org/doc/1.16/reference/routines.random.html#simple-random-data) are noted as functions that return random values in a given shape, the functions under the [Distributions](https://numpy.org/doc/1.16/reference/routines.random.html#distributions) section are noted as functions that draw samples from a particular probability distribution. \n",
    "The following is the complete list of such functions listed under [Distributions](https://numpy.org/doc/1.16/reference/routines.random.html#distributions) but for the purposes of the assignment I am looking at just 5 of the distributions.\n",
    "\n",
    "## Distributions\n",
    "- `beta(a, b[, size])` \tDraw samples from a Beta distribution.\n",
    "- `binomial(n, p[, size])` \tDraw samples from a binomial distribution.\n",
    "- `chisquare(df[, size])` \tDraw samples from a chi-square distribution.\n",
    "- `dirichlet(alpha[, size])` \tDraw samples from the Dirichlet distribution.\n",
    "- `exponential([scale, size])` \tDraw samples from an exponential distribution.\n",
    "- `f(dfnum, dfden[, size])` \tDraw samples from an F distribution.\n",
    "- `gamma(shape[, scale, size])`\tDraw samples from a Gamma distribution.\n",
    "- `geometric(p[, size])`\tDraw samples from the geometric distribution.\n",
    "- `gumbel([loc, scale, size])`\tDraw samples from a Gumbel distribution.\n",
    "- `hypergeometric(ngood, nbad, nsample[, size])`\tDraw samples from a Hypergeometric distribution.\n",
    "- `laplace([loc, scale, size])`\tDraw samples from the Laplace or double exponential distribution with specified location (or mean) and scale (decay).\n",
    "- `logistic([loc, scale, size])`\tDraw samples from a logistic distribution.\n",
    "- `lognormal([mean, sigma, size])`\tDraw samples from a log-normal distribution.\n",
    "- `logseries(p[, size])`\tDraw samples from a logarithmic series distribution.\n",
    "- `multinomial(n, pvals[, size])`\tDraw samples from a multinomial distribution.\n",
    "- `multivariate_normal(mean, cov[, size, …)`\tDraw random samples from a multivariate normal distribution.\n",
    "- `negative_binomial(n, p[, size])`\tDraw samples from a negative binomial distribution.\n",
    "- `noncentral_chisquare(df, nonc[, size])`\tDraw samples from a noncentral chi-square distribution.\n",
    "- `noncentral_f(dfnum, dfden, nonc[, size])`\tDraw samples from the noncentral F distribution.\n",
    "- `normal([loc, scale, size])`\tDraw random samples from a normal (Gaussian) distribution.\n",
    "- `pareto(a[, size])`\tDraw samples from a Pareto II or Lomax distribution with specified shape.\n",
    "- `poisson([lam, size])`\tDraw samples from a Poisson distribution.\n",
    "- `power(a[, size])`\tDraws samples in [0, 1] from a power distribution with positive exponent a - 1.\n",
    "- `rayleigh([scale, size])`\tDraw samples from a Rayleigh distribution.\n",
    "- `standard_cauchy([size])`\tDraw samples from a standard Cauchy distribution with mode = 0.\n",
    "- `standard_exponential([size])`\tDraw samples from the standard exponential distribution.\n",
    "- `standard_gamma(shape[, size])`\tDraw samples from a standard Gamma distribution.\n",
    "- `standard_normal([size])`\tDraw samples from a standard Normal distribution (mean=0, stdev=1).\n",
    "- `standard_t(df[, size])`\tDraw samples from a standard Student’s t distribution with df degrees of freedom.\n",
    "- `triangular(left, mode, right[, size])`\tDraw samples from the triangular distribution over the interval [left, right].\n",
    "- `uniform([low, high, size])`\tDraw samples from a uniform distribution.\n",
    "- `vonmises(mu, kappa[, size])`\tDraw samples from a von Mises distribution.\n",
    "- `wald(mean, scale[, size])`\tDraw samples from a Wald, or inverse Gaussian, distribution.\n",
    "- `weibull(a[, size])`\tDraw samples from a Weibull distribution.\n",
    "- `zipf(a[, size])`\tDraw samples from a Zipf distribution.\n",
    "\n",
    "Random numbers can be drawn from different probability distributions. Probability distributions derive from variance or uncertainty and show which outcomes are more likely and which are less likely. Probability distributions can be simulated.\n",
    "\n",
    "Each of these distribution functions generate different random numbers according to different probabilities over different intervals.\n",
    "I will look at the differences between the various numpy.random distribution functions and illustrate using plots.\n",
    "\n",
    "**Plots and statistics will show the differences between the types of random numbers that would be generated from the different probability distributions**\n",
    "\n",
    "In uniform distributions the  samples are evenly spread while normal distributions show central tendancy.\n",
    "Can use plot to show this difference by simulating same number of data points and plotting.\n",
    "\n",
    "The numpy.random.normal() function generates random numbers in a bell shaped curve centred around zero. The numbers near the centre of the distribution have a higher chance of being randomly generated while the numbers further away the centre (at zero) have less chance of being randomly generated.\n",
    "the numpy.random.uniform() function generates numbers between a start and finish point where any one number is as likely to occur as any other number. In a uniform distribution, you would expect to see a fairly straight line at the top while the normal distribution is bell shaped.\n",
    "\n",
    "\n",
    "\n",
    "- [The normal distribution function](#normal) and [The Standard Normal distribution function](#standard_normal)\n",
    "- [The Uniform Distribution function](#uniform)\n",
    "- [The Binomial Distribution function](#binomial)\n",
    "\n",
    "\n",
    "- [The Poisson Distribution Function](#poisson)\n",
    "- [The Gamma Distribution Function](#gamma)\n",
    "\n",
    "\n"
   ]
  },
  {
   "cell_type": "markdown",
   "metadata": {},
   "source": [
    "***\n",
    "First an aside on some of the definitions here including probability distributions, random variables, random numbers etc.\n",
    "For this purpose I referred to some notes from college statistics courses as well as online guides and tutorials including \n",
    "[Mathworld.wolfram.com](http://mathworld.wolfram.com), [statttrk.com](https://stattrek.com/statistics/dictionary.aspx?definition=random%20variable) and [Wikipedia](https://en.wikipedia.org/wiki/Normal_distribution) and other sources.\n",
    "A probability distribution links each value of a random variable with its probability.\n",
    "\n",
    "**Probability** is a mathematical expression of uncertainty of the chance of a random variable taking on particular values.   \n",
    "According to [wolfram mathworld](http://mathworld.wolfram.com/Probability.html),\n",
    ">**probability** is the branch of mathematics that studies the possible outcomes of given events together with the outcomes' relative likelihoods and distributions. In common usage, the word \"probability\" is used to mean the chance that a particular event (or set of events) will occur expressed on a linear scale from 0 (impossibility) to 1 (certainty), also expressed as a percentage between 0 and 100%. The analysis of events governed by probability is called statistics.\n",
    "\n",
    "A **random variable** is a variable that assumes numerical values associated with the random outcome of an experiment where one (and only one) numerical value is assigned to each sample point. A random variable is any quantity that is assumed to have a probability distribution.\n",
    "A **discrete** random variable is one where its set of possible values is a collection of isolated points on the number line while a **continuous** random variable is one where its set of possible values is an entire interval on the number line. Discrete random variables almost always come from counting while continuous random variables mostly come from measurement.\n",
    "\n",
    "A **probability distribution** is a complete description of a random variable that specified all possible values it can have and the probability associated with each one.\n",
    "A probability distribution is a table or an equation that links each possible value that a random variable can assume with its probability of occurrence. [probability distribution definition](https://stattrek.com/probability/probability-distribution.aspx?tutorial=prob)\n",
    "\n",
    "\n",
    "The probability distribution of a discrete random variable is often known as a probability function or a probability mass function, it can be displayed as a graph, table or mathematical formula that specifies the probability associated with each possible value the random variable can assume.\n",
    "A probability distribution for a continuous random variable x is specified by a mathematical function f(x) called a probability density function, a frequency function or a probability distribution.\n",
    "\n",
    "***"
   ]
  },
  {
   "cell_type": "markdown",
   "metadata": {},
   "source": [
    "***\n",
    "# Numpy.Random Distribution Functions. "
   ]
  },
  {
   "cell_type": "markdown",
   "metadata": {},
   "source": [
    "## Draw random samples from the Normal (Gaussian) distribution\n",
    "\n",
    "Normal Distribution Function\n",
    "<a id='normal'></a>\n",
    "\n",
    "The **`numpy.random.normal([loc, scale, size])`** function is used to draw random samples from a normal (Gaussian) distribution. \n",
    "\n",
    "The normal distribution, also known as the Gaussian distribution is the most important probability distribution for a continuous random variable. It has a symmetric, bell shaped density curve. It is not one distribution but a family of distributions depending on the value of its mean $\\mu$ and standard deviation $\\sigma$.  \n",
    "\n",
    "A normally distributed random variable x can be denoted as follows: x~  $N(\\mu,\\sigma^2)$ which means that x is normally distributed with a mean of $\\mu$ and a variance of $\\sigma^2$.\n",
    "\n",
    ">The probability density function of the normal distribution, first derived by De Moivre and 200 years later by both Gauss and Laplace independently, is often called the bell curve because of its characteristic shape .\n",
    ">The normal distributions occurs often in nature. For example, it describes the commonly occurring distribution of samples influenced by a large number of tiny, random disturbances, each with its own unique distribution.\n",
    "\n",
    "According to [wolfram mathworld](http://mathworld.wolfram.com/NormalDistribution.html) normal distributions have many convenient properties, so random variates with unknown distributions are often assumed to be normal, especially in physics and astronomy. Although this can be a dangerous assumption, it is often a good approximation due to a surprising result known as the central limit theorem. This theorem states that the mean of any set of variates with any distribution having a finite mean and variance tends to the normal distribution. Many common attributes such as test scores, height, etc., follow roughly normal distributions, with few members at the high and low ends and many in the middle.\n",
    "\n",
    "According to \"The Art of Statistics\", The normal distribution can be expected to occur for phenomena that are driven by large numbers of small influences such as the birth weight of babies. \n",
    "When all the small influences are added up you get a normal distribution.\n",
    "\n",
    "The mean of the distribution determines the location of the center of the graph. The standard deviation determines the height and shape or spread of the graph. When the standard deviation is large, the curve is short and wide and when the standard deviation is small, the curve is tall and narrow. \n",
    "\n",
    "A normal distribution has a symetric bell-shaped density curve described by its mean $mu$ or μ and standard deviation σ. The density curve is symmetrical and centered about its mean. The spread is determined by the standard deviation. Data points near the mean occur more frequently than data points that are far from the mean. \n",
    "\n",
    "[numpy.random.normal(loc=0.0, scale=1.0, size=None)](https://numpy.org/doc/1.16/reference/generated/numpy.random.normal.html#numpy-random-normal) depends on two factors, the mean and the standard deviation. \n",
    "\n",
    "To use the `numpy.random.normal` function, the loc argument is the mean or the centre of the distribution, the scale is the standard deviation of the distribution and the size is the number of random variables. If you supply three arguments, the first is taken to be the mean $\\mu$, the second to be the scale or standard deviations $\\sigma^2$ and the last to be the number of data points.\n"
   ]
  },
  {
   "cell_type": "markdown",
   "metadata": {},
   "source": [
    "# here !"
   ]
  },
  {
   "cell_type": "code",
   "execution_count": 119,
   "metadata": {},
   "outputs": [
    {
     "data": {
      "text/plain": [
       "(array([ 9.000, 21.000, 77.000, 199.000, 289.000, 241.000, 120.000, 35.000,\n",
       "         6.000,  3.000]),\n",
       " array([-14.464, -10.865, -7.266, -3.667, -0.068,  3.531,  7.130, 10.729,\n",
       "        14.327, 17.926, 21.525]),\n",
       " <a list of 10 Patch objects>)"
      ]
     },
     "execution_count": 119,
     "metadata": {},
     "output_type": "execute_result"
    },
    {
     "data": {
      "image/png": "[encoded data removed]",
      "text/plain": [
       "<Figure size 720x432 with 2 Axes>"
      ]
     },
     "metadata": {
      "needs_background": "light"
     },
     "output_type": "display_data"
    }
   ],
   "source": [
    "# here we generate a range of 1000 numbers from 0 to 1000 data\n",
    "\n",
    "plt.rcParams['figure.figsize'] = 10,6\n",
    "plt.subplot(1,2,1)  # 1 row, 2 columns of plots, select first plot\n",
    "\n",
    "x= np.random.normal(0.0, 1.0, 1000) \n",
    "\n",
    "plt.hist(x, bins = 30)\n",
    "\n",
    "plt.subplot(1,2,2) # # 1 row, 2 columns of plots, select second plot\n",
    "\n",
    "# here we generate a range of 1000 numbers from 0 to 1000 data\n",
    "x= np.random.normal(2.0, 5.0, 1000) \n",
    "\n",
    "\n",
    "plt.hist(x)\n"
   ]
  },
  {
   "cell_type": "code",
   "execution_count": 50,
   "metadata": {},
   "outputs": [
    {
     "data": {
      "image/png": "[encoded data removed]",
      "text/plain": [
       "<Figure size 432x288 with 1 Axes>"
      ]
     },
     "metadata": {
      "needs_background": "light"
     },
     "output_type": "display_data"
    }
   ],
   "source": [
    "# using the example from the documentation to start with draw samples from the distribution and display the histogram of the samples, along with the probability density function\n",
    "import numpy as np\n",
    "mu, sigma = 0, 0.1 # mean and standard deviation\n",
    "s = np.random.normal(mu, sigma, 1000)\n",
    "abs(mu - np.mean(s)) < 0.01  # verifying the mean\n",
    "abs(sigma - np.std(s, ddof=1)) < 0.01 # verifying the standard deviation\n",
    "\n",
    "import matplotlib.pyplot as plt\n",
    "count, bins, ignored = plt.hist(s, 30, density=True)\n",
    "plt.plot(bins, 1/(sigma * np.sqrt(2 * np.pi)) *\n",
    "               np.exp( - (bins - mu)**2 / (2 * sigma**2) ),\n",
    "         linewidth=2, color='r')\n",
    "\n",
    "\n",
    "plt.show()"
   ]
  },
  {
   "cell_type": "markdown",
   "metadata": {},
   "source": [
    "### plotting multiple plots using seaborn "
   ]
  },
  {
   "cell_type": "code",
   "execution_count": 51,
   "metadata": {},
   "outputs": [
    {
     "data": {
      "text/plain": [
       "<matplotlib.axes._subplots.AxesSubplot at 0x1a1be0a4e0>"
      ]
     },
     "execution_count": 51,
     "metadata": {},
     "output_type": "execute_result"
    },
    {
     "data": {
      "image/png": "[encoded data removed]",
      "text/plain": [
       "<Figure size 720x432 with 4 Axes>"
      ]
     },
     "metadata": {
      "needs_background": "light"
     },
     "output_type": "display_data"
    }
   ],
   "source": [
    "f, axes = plt.subplots(2, 2, figsize=(10, 6), sharex=False)\n",
    "\n",
    "\n",
    "mu, sigma = 0, 0.1 # mean and standard deviation\n",
    "x = np.random.normal(mu, sigma, 10000)\n",
    "\n",
    "# Generate a random datasets using random.standard_normal\n",
    "x1 = np.random.normal(mu,sigma,100)\n",
    "x2 = np.random.normal(mu,sigma,1000)\n",
    "x3 = np.random.normal(mu,sigma,10000)\n",
    "x4 = np.random.normal(mu,sigma,20000)\n",
    "\n",
    "\n",
    "sns.distplot(x1, ax=axes[0, 0])\n",
    "sns.distplot(x2, ax=axes[0, 1])\n",
    "sns.distplot(x3,ax=axes[1, 0])\n",
    "sns.distplot(x4, ax=axes[1, 1])\n",
    "\n"
   ]
  },
  {
   "cell_type": "code",
   "execution_count": 52,
   "metadata": {},
   "outputs": [
    {
     "name": "stdout",
     "output_type": "stream",
     "text": [
      "mean of x1:-0.0052, x2: -0.0014, x3: -0.001, x4: 0.001\n"
     ]
    }
   ],
   "source": [
    "print(f\"mean of x1:{np.mean(x1).round(4)}, x2: {np.mean(x2).round(4)}, x3: {np.mean(x3).round(4)}, x4: {np.mean(x4).round(3)}\")"
   ]
  },
  {
   "cell_type": "code",
   "execution_count": 53,
   "metadata": {},
   "outputs": [
    {
     "data": {
      "text/plain": [
       "True"
      ]
     },
     "execution_count": 53,
     "metadata": {},
     "output_type": "execute_result"
    }
   ],
   "source": [
    "abs(mu - np.mean(x1)) < 0.01  # verifying the mean\n",
    "abs(mu - np.mean(x2)) < 0.01\n",
    "abs(mu - np.mean(x3)) < 0.01\n",
    "abs(mu - np.mean(x4)) < 0.01\n",
    "abs(sigma - np.std(x1, ddof=1)) < 0.01 # verifying the standard deviation\n",
    "abs(sigma - np.std(x2, ddof=1)) < 0.01 # verifying the standard deviation\n",
    "abs(sigma - np.std(x3, ddof=1)) < 0.01 # verifying the standard deviation\n",
    "abs(sigma - np.std(x4, ddof=1)) < 0.01 # verifying the standard deviation\n"
   ]
  },
  {
   "cell_type": "code",
   "execution_count": 54,
   "metadata": {},
   "outputs": [
    {
     "data": {
      "text/plain": [
       "'$\\\\mu=10,\\\\\\\\sigma=2$'"
      ]
     },
     "execution_count": 54,
     "metadata": {},
     "output_type": "execute_result"
    }
   ],
   "source": [
    "r'$\\mu=10,\\\\sigma=2$'"
   ]
  },
  {
   "cell_type": "code",
   "execution_count": null,
   "metadata": {},
   "outputs": [],
   "source": []
  },
  {
   "cell_type": "markdown",
   "metadata": {},
   "source": [
    "Can see from the plots that the distributions have bell-shaped curves and are centred around the mean which was provided as a parameter to the function. The spread of the curve is determined by the standard deviation that is provided to the function also.\n",
    "By changing the mean and standard deviation parameters below show wider and narrower curves.\n",
    "where $\\mu$ is the mean and $\\sigma$ the standard deviation. The square of the standard deviation, $\\sigma^2$, is called the variance."
   ]
  },
  {
   "cell_type": "markdown",
   "metadata": {},
   "source": [
    "Centred around the mean of 0 and "
   ]
  },
  {
   "cell_type": "code",
   "execution_count": 55,
   "metadata": {},
   "outputs": [
    {
     "data": {
      "text/plain": [
       "0.9981322038582168"
      ]
     },
     "execution_count": 55,
     "metadata": {},
     "output_type": "execute_result"
    },
    {
     "data": {
      "image/png": "[encoded data removed]",
      "text/plain": [
       "<Figure size 432x288 with 1 Axes>"
      ]
     },
     "metadata": {
      "needs_background": "light"
     },
     "output_type": "display_data"
    }
   ],
   "source": [
    "# changing some of the parameters and seeing what happens\n",
    "mu, sigma = 10, 1 # set mean and standard deviation parameters\n",
    "x = np.random.normal(mu, sigma, 10000)\n",
    "sns.distplot(x);  # using seaborn\n",
    "np.mean(x)  # showing the mean of all the values\n",
    "np.std(x) # showing the standard deviation across all the values\n"
   ]
  },
  {
   "cell_type": "markdown",
   "metadata": {},
   "source": [
    "numpy.random.normal()"
   ]
  },
  {
   "cell_type": "code",
   "execution_count": 56,
   "metadata": {},
   "outputs": [
    {
     "data": {
      "text/plain": [
       "<matplotlib.axes._subplots.AxesSubplot at 0x1a1bc00278>"
      ]
     },
     "execution_count": 56,
     "metadata": {},
     "output_type": "execute_result"
    },
    {
     "data": {
      "image/png": "[encoded data removed]",
      "text/plain": [
       "<Figure size 720x432 with 4 Axes>"
      ]
     },
     "metadata": {
      "needs_background": "light"
     },
     "output_type": "display_data"
    }
   ],
   "source": [
    "# Set up the matplotlib figure\n",
    "f, axes = plt.subplots(2, 2, figsize=(10, 6), sharex=False)\n",
    "\n",
    "# Generate a random univariate dataset\n",
    "x1 = np.random.normal(0, 0.1, 5000)\n",
    "x2 = np.random.normal(10, 1, 5000)\n",
    "x3 = np.random.normal(50, 2, 5000)\n",
    "x4 = np.random.normal(25, 7, 5000)\n",
    "\n",
    "\n",
    "sns.distplot(x1, ax=axes[0, 0])\n",
    "sns.distplot(x2, ax=axes[0, 1])\n",
    "sns.distplot(x3,ax=axes[1, 0])\n",
    "sns.distplot(x4, ax=axes[1, 1])\n",
    "\n"
   ]
  },
  {
   "cell_type": "markdown",
   "metadata": {},
   "source": [
    "All the plots above are normally distributed but with different means $\\mu$ and standard deviations $\\sigma$.\n",
    "This brings me to the standard normal distribution.\n",
    "\n",
    "For an aproximately normal data set, almost 68% of the data points fall within one standard deviation from the mean, while  95% of the data falls within 2 standard deviations and 99.7% fall within 3 standard deviations.\n",
    "\n",
    "There are many different normal distributions with different means and variances which would have made them difficult to be tabulated in the way the normal distribution is tabulated in the New Cambridge Statistical Tables. The standard normal distribution with $\\mu$ of 0 and $\\sigma$ of 1 is tabulated and can be used to find the probabilities for any normal distribution. All questions regarding the normal distribution can be converted into questions regarding the standard normal distribution.\n",
    "\n"
   ]
  },
  {
   "cell_type": "code",
   "execution_count": null,
   "metadata": {},
   "outputs": [],
   "source": []
  },
  {
   "cell_type": "markdown",
   "metadata": {},
   "source": [
    "<a id='standard_normal'></a>\n",
    "## The Standard Normal Distribution function\n",
    "\n",
    "The [standard normal distribution](https://stattrek.com/statistics/dictionary.aspx?definition=random%20variable) is a special case of the normal distribution. \n",
    ">It is the distribution that occurs when a normal random variable has a mean of zero and a standard deviation of one.  The normal random variable of a standard normal distribution is called a standard score or a z score. Every normal random variable X can be transformed into a z score\n",
    "\n",
    "The standard normal distribution, of the random variable z, has $\\mu$ = 0 and variance $/sigma$ = 1 and can be used to calculate areas under any normal distribution. z~ $N(0,1)$\n",
    "\n",
    "The [numpy.random.standard_normal](https://numpy.org/doc/1.16/reference/generated/numpy.random.standard_normal.html#numpy-random-standard-normal) distribution function is used to draw samples from a standard Normal distribution that has a mean of 0 and a standard deviation of 1. \n",
    "\n",
    "To use the `numpy.random.standard_normal` function,  you just need to supply the number of data points to generate as the size argument. Without specifying the number of data points you will just get a single value. \n",
    "\n",
    "Note that the `numpy.random.randn()` function in the section on simple random data functions a convenience function for numpy.random.standard_normal. It returns a single float or an ndarray of floats. See [numpy.random.randn](#randn).\n",
    "\n"
   ]
  },
  {
   "cell_type": "code",
   "execution_count": 57,
   "metadata": {},
   "outputs": [
    {
     "data": {
      "text/plain": [
       "<matplotlib.axes._subplots.AxesSubplot at 0x1a1c04a550>"
      ]
     },
     "execution_count": 57,
     "metadata": {},
     "output_type": "execute_result"
    },
    {
     "data": {
      "image/png": "[encoded data removed]",
      "text/plain": [
       "<Figure size 432x288 with 1 Axes>"
      ]
     },
     "metadata": {
      "needs_background": "light"
     },
     "output_type": "display_data"
    }
   ],
   "source": [
    "s = np.random.standard_normal(3200)  # 3200 standard normal values\n",
    "np.mean(s) # show that the mean is 0\n",
    "np.std(s) # show that the standard deviation is 1\n",
    "\n",
    "sns.distplot(s)\n",
    "\n"
   ]
  },
  {
   "cell_type": "markdown",
   "metadata": {},
   "source": [
    "The above plots show that whatever the number of values generated, the curve is symmetric about the mean of 0, most of the values are clustered around the centre and most of the values are within 2 standard deviations of the mean.\n",
    "\n",
    "\n",
    "I could put these plots on the same plot and use subplots"
   ]
  },
  {
   "cell_type": "code",
   "execution_count": 58,
   "metadata": {},
   "outputs": [
    {
     "data": {
      "text/plain": [
       "<matplotlib.axes._subplots.AxesSubplot at 0x1a1c4f14e0>"
      ]
     },
     "execution_count": 58,
     "metadata": {},
     "output_type": "execute_result"
    },
    {
     "data": {
      "image/png": "[encoded data removed]",
      "text/plain": [
       "<Figure size 720x432 with 4 Axes>"
      ]
     },
     "metadata": {
      "needs_background": "light"
     },
     "output_type": "display_data"
    }
   ],
   "source": [
    "\n",
    "# Set up the matplotlib figure\n",
    "f, axes = plt.subplots(2, 2, figsize=(10, 6), sharex=False)\n",
    "\n",
    "# Generate a random datasets using random.standard_normal\n",
    "x1 = np.random.standard_normal(100)\n",
    "x2 = np.random.standard_normal(1000)\n",
    "x3 = np.random.standard_normal(10000)\n",
    "x4 = np.random.standard_normal(100000)\n",
    "\n",
    "\n",
    "sns.distplot(x1, ax=axes[0, 0])\n",
    "sns.distplot(x2, ax=axes[0, 1])\n",
    "sns.distplot(x3,ax=axes[1, 0])\n",
    "sns.distplot(x4, ax=axes[1, 1])\n",
    "\n",
    "\n"
   ]
  },
  {
   "cell_type": "markdown",
   "metadata": {},
   "source": [
    "***\n",
    "<a id=\"uniform\"></a>\n",
    "## The Uniform distribution functions.\n",
    "\n",
    "A uniform distribution, sometimes also known as a rectangular distribution, is a distribution that has constant probability. ([wolfram mathworld](http://mathworld.wolfram.com/UniformDistribution.html)).\n",
    "\n",
    "The curve describing the distribution is rectangle shaped because any interval of numbers has the same probability of being drawn as any other interval of the same width. Each interval has constant height across it and 0 everywhere else.\n",
    "The area under the curve must be equal to 1. \n",
    " \n",
    "The continuous uniform distribution takes values in the specified range (a,b). The expected value of the uniform distribution is $\\frac{b-a}{2}$ the midpoint of the interval.   \n",
    "The variance $\\sigma^2$ is $\\frac{1}{12}(b-a)^2$\n",
    "The *standard uniform* distribution is where a is 0 and b is 1.  \n",
    "The *discrete uniform* distribution is a very simple probability distribution that can only take on a finite set of possible values.  The [numpy.random.randint](#randint) function covered in *simple random data* functions is the function to use if looking to generate random integers from the *discrete uniform* distribution.\n",
    "  \n",
    "####  The `numpy.random.uniform` function. \n",
    "[numpy.random.uniform(low=0.0, high=1.0, size=None](https://numpy.org/doc/1.16/reference/generated/numpy.random.uniform.html#numpy.random.uniform)\n",
    ">Samples are uniformly distributed over the half-open interval $[low, high)$ (includes low, but excludes high). In other words, any value within the given interval is equally likely to be drawn by uniform.\n",
    "\n",
    "To use this function, you can provide the lower $low$ and upper $high$ bounds of the interval (a and b). Otherwise the interval is taken as the half-open interval $[0,1.0)$. The function returns an array or scalar of samples from the uniform distribution over the specified interval. If you provide the bounds of the interval, the smaller number will be taken as the lower bounds and the bigger number as the upper bound no matter. \n",
    "Without providing any arguments, a single value is returned in the interval $[0.0,1.0)$.\n",
    "If a single value is provided to the function, this is taken as the upper bound of the interval and a single value will be returned. The lower value in this case is taken as 0.0. When two values are provided to the function, then these are taken to be the lower and upper bounds of the interval and a scalar is returned. When the 3rd argument is provided to the function this is taken to be the size of the resulting array.\n",
    "\n",
    "\n",
    "Note that several of the functions in the [simple random sampling functions] relate to the uniform distribution. \n",
    "See [uniform floats](#uniform_floats).\n",
    "- `rand(d0, d1, …, dn)`  \t Random values in a given shape.\n",
    "- `random_sample([size])`\tReturn random floats in the half-open interval `[0.0, 1.0)`.\n",
    "- `random([size])`\tReturn random floats in the half-open interval `[0.0, 1.0)`.\n",
    "- `ranf([size])`\tReturn random floats in the half-open interval `[0.0, 1.0)`.\n",
    "- `sample([size])`\tReturn random floats in the half-open interval `[0.0, 1.0)`.\n",
    "\n",
    "#### numpy.random.randint(low, high=None, size=None, dtype='l')¶\n",
    "\n",
    "\n",
    "\n",
    "\n"
   ]
  },
  {
   "cell_type": "code",
   "execution_count": 59,
   "metadata": {},
   "outputs": [
    {
     "data": {
      "text/plain": [
       "array([12.113, 18.378, 17.967, 15.985])"
      ]
     },
     "execution_count": 59,
     "metadata": {},
     "output_type": "execute_result"
    }
   ],
   "source": [
    "np.random.uniform() # no argument to get a scalar in the interval [0,1)\n",
    "np.random.uniform(5) # a single argument to get a scalar in the range[0,5)\n",
    "np.random.uniform(5,10) # return a scalar in the interval [6,10)]\n",
    "np.random.uniform(5,10,15) # an array of 15 values from the interval [5,10)\n",
    "np.random.uniform(20,12,4) "
   ]
  },
  {
   "cell_type": "code",
   "execution_count": 60,
   "metadata": {},
   "outputs": [
    {
     "data": {
      "text/plain": [
       "92.30806019678579"
      ]
     },
     "execution_count": 60,
     "metadata": {},
     "output_type": "execute_result"
    }
   ],
   "source": [
    "x = np.random.uniform(1,100) \n",
    "x # using seaborn"
   ]
  },
  {
   "cell_type": "markdown",
   "metadata": {},
   "source": [
    "low is the lower bound of the interval, high is the upper bound of the interval. Note that the lower bound is included but the upper bound of 1 is not included.\n",
    "When you put the bigger number before the smaller number it seems to just take the bigger number as the upper bound and the smaller number as the lower bound. \n",
    "Try and put low before high. \n",
    "\n",
    "rand only gives you random uniform numbers between 0 and 1 whereas this uniform function will give you numbers in any range if you supply the lower and upper bounds a and "
   ]
  },
  {
   "cell_type": "code",
   "execution_count": 61,
   "metadata": {},
   "outputs": [
    {
     "data": {
      "text/plain": [
       "9.505"
      ]
     },
     "execution_count": 61,
     "metadata": {},
     "output_type": "execute_result"
    },
    {
     "data": {
      "image/png": "[encoded data removed]",
      "text/plain": [
       "<Figure size 432x288 with 1 Axes>"
      ]
     },
     "metadata": {
      "needs_background": "light"
     },
     "output_type": "display_data"
    }
   ],
   "source": [
    "x = np.random.uniform(10,9,1000) \n",
    "sns.distplot(x);  # using seaborn\n",
    "np.mean(x).round(3)"
   ]
  },
  {
   "cell_type": "code",
   "execution_count": 62,
   "metadata": {},
   "outputs": [
    {
     "data": {
      "text/plain": [
       "-0.033"
      ]
     },
     "execution_count": 62,
     "metadata": {},
     "output_type": "execute_result"
    },
    {
     "data": {
      "image/png": "[encoded data removed]",
      "text/plain": [
       "<Figure size 432x288 with 1 Axes>"
      ]
     },
     "metadata": {
      "needs_background": "light"
     },
     "output_type": "display_data"
    }
   ],
   "source": [
    "x = np.random.uniform(-100,100,10000) \n",
    "sns.distplot(x);  # using seaborn\n",
    "np.mean(x).round(3)"
   ]
  },
  {
   "cell_type": "code",
   "execution_count": 63,
   "metadata": {},
   "outputs": [
    {
     "data": {
      "text/plain": [
       "<matplotlib.axes._subplots.AxesSubplot at 0x1a1ce61358>"
      ]
     },
     "execution_count": 63,
     "metadata": {},
     "output_type": "execute_result"
    },
    {
     "data": {
      "image/png": "[encoded data removed]",
      "text/plain": [
       "<Figure size 720x432 with 4 Axes>"
      ]
     },
     "metadata": {
      "needs_background": "light"
     },
     "output_type": "display_data"
    }
   ],
   "source": [
    "# Set up the matplotlib figure\n",
    "f, axes = plt.subplots(2, 2, figsize=(10, 6), sharex=False)\n",
    "\n",
    "# Generate a random datasets using random.standard_normal\n",
    "x1 = np.random.uniform(-1,0,1000)\n",
    "x2 = np.random.uniform(5,20,1000)\n",
    "x3 = np.random.uniform(2,20,10000)\n",
    "x4 = np.random.uniform(-5,5,10000)\n",
    "\n",
    "\n",
    "sns.distplot(x1, ax=axes[0, 0])\n",
    "sns.distplot(x2, ax=axes[0, 1])\n",
    "sns.distplot(x3,ax=axes[1, 0])\n",
    "sns.distplot(x4, ax=axes[1, 1])\n"
   ]
  },
  {
   "cell_type": "markdown",
   "metadata": {},
   "source": [
    "Showing that the midpoint of the interval is the expected value or mean. \n"
   ]
  },
  {
   "cell_type": "code",
   "execution_count": 64,
   "metadata": {},
   "outputs": [
    {
     "name": "stdout",
     "output_type": "stream",
     "text": [
      "8.98 3.35\n"
     ]
    }
   ],
   "source": [
    "a,b = 3,15\n",
    "u1 = np.random.uniform(a,b,1000)\n",
    "\n",
    "print(np.mean(u1).round(2), np.std(u1).round(2))\n"
   ]
  },
  {
   "cell_type": "markdown",
   "metadata": {},
   "source": [
    "Showing that several of the functions in the [simple random sampling functions] relate to the uniform distribution and produce the same output."
   ]
  },
  {
   "cell_type": "code",
   "execution_count": 65,
   "metadata": {},
   "outputs": [],
   "source": [
    "np.random.seed(2)\n",
    "np.random.uniform(0,1,10)\n",
    "np.random.seed(2)\n",
    "size =10\n",
    "np.random.random_sample([size]) # Return random floats in the half-open interval `[0.0, 1.0)`.\n",
    "np.random.seed(2)\n",
    "np.random.random([size]) # Return random floats in the half-open interval `[0.0, 1.0)`.\n",
    "np.random.seed(2)\n",
    "np.random.ranf([size]) # return random floats in the half-open interval `[0.0, 1.0)`.\n",
    "np.random.seed(2)\n",
    "np.random.sample([size]) # Return random floats in the half-open interval `[0.0, 1.0)`.\n",
    "np.random.seed(2)"
   ]
  },
  {
   "cell_type": "markdown",
   "metadata": {},
   "source": [
    "## Discrete Probability Distributions\n",
    "\n",
    "see https://machinelearningmastery.com/discrete-probability-distributions-for-machine-learning/\n",
    "\n",
    ">A discrete random variable is a random variable that can have one of a finite set of specific outcomes. The two types of discrete random variables most commonly used in machine learning are binary and categorical.\n",
    "\n",
    "- A **binary random variable** is a discrete random variable where the finite set of outcomes is in {0, 1}. \n",
    "- A **categorical random variable** is a discrete random variable where the finite set of outcomes is in {1, 2, …, K}, where K is the total number of unique outcomes.\n",
    "\n",
    "Each outcome or event for a discrete random variable has a probability.\n",
    "The probability mass function summarises a discrete probablity distribution which relates events for a discrete random variable with their probabilities of occurring.\n",
    "\n",
    "A Probability Mass Function (PMF) returns the probability of a given outcome.\n",
    "A Cumulative Distribution Function (CDF) returns the probability of a value less than or equal to a given outcome.\n",
    "A Percent-Point Function (PPF) returns a discrete value that is less than or equal to the given probability.\n",
    "\n",
    "The most common discrete probability distributions are the Bernoulli and Multinoulli distributions for binary and categorical discrete random variables respectively, and the Binomial and Multinomial distributions that generalize each to multiple independent trials.\n",
    "\n"
   ]
  },
  {
   "cell_type": "markdown",
   "metadata": {},
   "source": [
    "## The Binomial Distribution\n",
    "\n",
    "<a id=\"binomial\"></a>\n",
    "\n",
    "### numpy.random.binomial\n",
    "\n",
    "For this section I referred to wolfram mathworld, towardsdatascience, stattrek and machinelearningmastery.com and some old college notes!. \n",
    "\n",
    "http://mathworld.wolfram.com/BinomialDistribution.html\n",
    "https://towardsdatascience.com/fun-with-the-binomial-distribution-96a5ecabf65b\n",
    "https://machinelearningmastery.com/discrete-probability-distributions-for-machine-learning/\n",
    "https://stattrek.com/probability-distributions/binomial.aspx?Tutorial=AP\n",
    "\n",
    "First a bit of background on the Bernoulli distribution which tis related to the Binomial Distribution\n",
    "\n",
    "## The Bernoulli distribution\n",
    "\n",
    "https://en.wikipedia.org/wiki/Bernoulli_distribution\n",
    ">In probability theory and statistics, the Bernoulli distribution, named after Swiss mathematician Jacob Bernoulli\n",
    "is the discrete probability distribution of a random variable which takes the value 1 with probability \n",
    "$p$ and the value 0 with probability ${\\displaystyle q=1-p,}$ that is, the probability distribution of any single experiment that asks a yes–no question.\n",
    "A Bernoulli trial (or binomial trial) is a random experiment with exactly two possible outcomes, \"success\" and \"failure\", in which the probability of success is the same every time the experiment is conducted.\n",
    "\n",
    "The **Bernoulli distribution** is a special case of the binomial distribution where a single trial is conducted (n=1) and where the outcome is binary, that is either 0 or 1.\n",
    "\n",
    "$x in {0, 1}$\n",
    "A **Bernoulli trial** is an experiment whose outcome follows a Bernoulli distribution such as a single flip of a coin that may have a heads (0) or a tails (1) outcome.\n",
    "\n",
    ">A common example of a Bernoulli trial in machine learning might be a binary classification of a single example as the first class (0) or the second class (1).\n",
    "The distribution can be summarized by a single variable p that defines the probability of an outcome 1. Given this parameter, the probability for each event can be calculated as follows:\n",
    "\n",
    "$P(x=1) = p$\n",
    "$P(x=0) = 1 – p$\n",
    "In the case of flipping a fair coin, the value of p would be 0.5, giving a 50% probability of each outcome.\n",
    "\n",
    "A **Bernoulli process** is the repetition of multiple independent Bernoulli trials. It's outcomes follow a **Binomial** distribution. The Bernoulli distribution can be considered as a Binomial distribution with a single trial.\n",
    "\n"
   ]
  },
  {
   "cell_type": "markdown",
   "metadata": {},
   "source": [
    "***\n",
    "\n",
    "The `numpy.random.binomial` function is used to draw samples from a binomial distribution which is one of the most important probability distributions for discrete random variables. A **Binomial distribution** is the probability distribution of a binomial random variable.\n",
    "\n",
    "The binomial distribution is the probability of a success or failure outcome in an experiment that is repeated many times. A binomial experiment has only two (bi) possible outcomes such as heads or tails, true or false etc. One of these outcomes can be called a **success** and the other a **failure**. The probability of success (P) is the same on every trial\n",
    "A single coin flip is an example of an experiment with a binary outcome. \n",
    "\n",
    "A **binomial experiment** consists of a number $n$ of repeated identical **Bernoulli** trials \n",
    "- where there are only two possible outcomes, success or failure \n",
    "- the probability of success (p) is constant (the same in every trial)\n",
    "- the $n$ trials are independent - outcome of one trial does not affect the outcome of another trial.\n",
    "- The binomial random variable x is the number of $S$’s in n trials.\n",
    "\n",
    "The outcome of a binomial experiment is a **binomial random variable**.\n",
    "**Binomial probability** is the probability that a binomial random variable assumes a specific value. \n",
    "-b(x,n,P): Binomial probability  - the probability that an n-trial binomial experiment results in exactly x successes.\n",
    "**Binomial distribution** is the probability distribution of a binomial random variable.\n",
    "\n",
    "### The binomial distribution has the following properties:\n",
    "- The mean of the distribution is equal to $n*P$\n",
    "- The variance $\\sigma^2$ is $n*P*(1-p)$\n",
    "- the standard deviation $sqrt(n*P*(1-p))$\n",
    "\n",
    "\n",
    "***\n",
    "The [binomial distribution](http://mathworld.wolfram.com/BinomialDistribution.html) gives the discrete probability distribution $P_p(n|N)$ of obtaining exactly n successes out of N Bernoulli trials (where the result of each Bernoulli trial is true with probability $p$ and false with probability $q=1-p$).\n",
    "\n",
    "The binomial distribution is the probability distribution of a sequence of experiments where each experiment produces a binary outcome and where each of the outcomes is independent of all the others.\n",
    "\n",
    "$n$ is the number of times the experiment is run while $p$ is the probability of a specific outcome such as heads. \n",
    "The results from performing the same set of experiments, such as repeatedly flipping a coin a number of times and the number of heads observed across all the sets of experiments follows the binomial distribution.\n",
    "\n",
    "\n",
    "***\n",
    "Using `numpy.random.binomial`, samples are drawn from a binomial distribution with specified parameters, $n$ trials and $p$ probability of success where $n$ an integer >= 0 and $p$ is in the interval $[0,1]$. \n",
    "\n",
    "The function takes an integer for $n$ the number of trials and a float for the $p$ for the probability of success. $p$ must be between 0 and 1. You can also specify the number of samples to be drawn using the size parameter. The function returns an array of samples drawn from the binomial distribution based on the $n$ and $p$ and $size$ parameters given to the function.\n",
    "\n",
    ">Drawn samples from the parameterized binomial distribution, where each sample is equal to the number of successes over the n trials.\n",
    "\n"
   ]
  },
  {
   "cell_type": "markdown",
   "metadata": {},
   "source": [
    "n is the number of trials or experiments, p is the probability of success on each trial. size is the number of samples\n",
    "The function returns (size) number of samples from a binomial distribution with n number of trials and p probability of success in each trial.\n",
    "\n",
    "\n",
    "To simulate the result of a single sequence of n experiments (where n could be any positive integer), do so using using a binomially distributed random variable:\n",
    "\n",
    "np.random.binomial(n, p).\n",
    "For example to get the probability of getting 4 heads with 10 coin flips, you can simulate 10,000 runs where each run has 10 coin flips. This repeats the 10 coin toss 10,000 times.\n"
   ]
  },
  {
   "cell_type": "markdown",
   "metadata": {},
   "source": [
    "***\n",
    "First following the examples on the [numpy random docs](https://numpy.org/doc/1.16/reference/generated/numpy.random.binomial.html#numpy-random-binomial) to draw samples from a distribution using `np.random.binomial(n, p, size)`\n",
    "\n",
    "$n$ the number of trials, and $p$ the probability of success in each trial and $size$ is the number of samples drawn (the number of times the experiment is run)\n",
    "\n",
    "`n, p = 10, .5`  # number of trials, probability of each trial\n",
    "`s = np.random.binomial(n, p, 1000)`\n",
    "\n",
    "This returns a numpy array with samples drawn from the parameterized binomial distribution, where each sample is equal to the number of successes over the n trials. Here are the first 68 or so where each number represents the number of successes in each experiment where each experiment consists of 10 bernoulli trials each with 0.5 probability of success.\n",
    "\n",
    ">$array([ 4,  5,  5,  3,  5,  3,  6,  5,  5,  8,  4,  6,  6,  3,  5,  6,  6,\n",
    "        8,  5,  5,  5,  5,  5,  7,  4,  6,  7,  7,  5,  2,  4,  7,  4,  5,\n",
    "        6,  7,  3,  6,  5,  2,  3,  5,  5,  7,  6,  4,  4,  7,  4,  6,  6,\n",
    "        8,  1,  4,  6,  7,  7,  5,  6,  3,  4,  4,  3,  6,  5,  5,  4,  6,$\n"
   ]
  },
  {
   "cell_type": "code",
   "execution_count": 66,
   "metadata": {},
   "outputs": [
    {
     "data": {
      "text/plain": [
       "array([5, 2, 5, 5, 5, 4, 4, 5, 4, 4, 5, 5, 3, 5, 4, 6, 7, 5, 7, 3, 5, 3,\n",
       "       5, 3, 3, 5, 4, 3, 4, 4, 5, 4, 6, 5, 5, 5, 6, 5, 3, 6, 8, 5, 7, 4,\n",
       "       5, 5, 5, 6, 5, 8, 5, 3, 4, 7, 5, 2, 4, 3, 9, 8, 6, 5, 6, 3, 4, 5,\n",
       "       4, 2, 8, 5, 5, 4, 4, 5, 7, 6, 5, 2, 6, 4, 5, 2, 6, 5, 5, 5, 4, 5,\n",
       "       8, 3, 4, 2, 6, 6, 4, 5, 6, 6, 3, 7, 6, 3, 7, 6, 6, 5, 4, 7, 5, 4,\n",
       "       4, 7, 5, 5, 5, 6, 6, 4, 5, 5, 5, 6, 4, 4, 3, 4, 1, 6, 4, 4, 3, 4,\n",
       "       4, 4, 5, 5, 7, 8, 2, 4, 6, 3, 7, 4, 6, 6, 6, 2, 4, 6, 3, 2, 4, 5,\n",
       "       2, 3, 2, 5, 6, 4, 7, 5, 5, 4, 5, 8, 5, 4, 5, 5, 5, 5, 2, 3, 5, 6,\n",
       "       6, 6, 5, 8, 4, 5, 6, 7, 5, 7, 5, 6, 1, 2, 7, 3, 6, 4, 4, 5, 7, 5,\n",
       "       7, 6, 5, 5, 4, 1, 5, 5, 7, 6, 7, 7, 7, 6, 3, 4, 4, 7, 6, 4, 5, 6,\n",
       "       7, 4, 6, 6, 2, 3, 5, 4, 7, 6, 6, 6, 4, 4, 6, 5, 7, 6, 5, 7, 5, 4,\n",
       "       6, 5, 4, 6, 8, 4, 6, 6, 3, 7, 5, 3, 5, 4, 4, 3, 4, 5, 6, 3, 6, 3,\n",
       "       4, 6, 7, 8, 6, 5, 3, 5, 4, 5, 5, 7, 4, 8, 9, 6, 6, 6, 7, 8, 7, 6,\n",
       "       3, 6, 4, 3, 7, 6, 5, 5, 5, 4, 5, 5, 2, 7, 2, 4, 3, 4, 7, 4, 6, 3,\n",
       "       4, 7, 7, 4, 8, 6, 5, 5, 4, 8, 6, 5, 2, 4, 7, 5, 4, 1, 4, 4, 3, 4,\n",
       "       4, 3, 3, 5, 3, 7, 4, 5, 5, 4, 4, 4, 4, 3, 6, 6, 4, 7, 5, 5, 5, 4,\n",
       "       7, 7, 7, 8, 1, 5, 7, 3, 4, 5, 6, 4, 4, 6, 2, 6, 5, 6, 6, 3, 7, 6,\n",
       "       4, 4, 3, 4, 6, 6, 4, 4, 4, 8, 3, 3, 6, 3, 4, 6, 4, 5, 5, 4, 4, 4,\n",
       "       7, 2, 3, 4, 4, 5, 5, 5, 4, 5, 6, 6, 5, 6, 2, 3, 6, 5, 4, 5, 4, 7,\n",
       "       5, 7, 5, 7, 5, 8, 5, 2, 6, 7, 3, 8, 5, 6, 4, 7, 6, 5, 8, 5, 5, 2,\n",
       "       5, 6, 4, 6, 5, 4, 5, 5, 4, 6, 3, 4, 5, 8, 6, 6, 3, 5, 4, 7, 5, 7,\n",
       "       6, 7, 1, 7, 8, 3, 3, 4, 5, 5, 5, 7, 5, 7, 5, 4, 8, 9, 5, 6, 6, 4,\n",
       "       5, 6, 5, 5, 5, 6, 6, 3, 7, 5, 6, 5, 2, 6, 4, 5, 4, 4, 4, 7, 7, 8,\n",
       "       5, 6, 3, 6, 5, 7, 4, 6, 3, 7, 5, 3, 4, 6, 5, 4, 4, 6, 6, 3, 6, 3,\n",
       "       4, 2, 5, 7, 7, 5, 3, 5, 4, 4, 4, 8, 5, 1, 5, 6, 6, 6, 6, 4, 4, 5,\n",
       "       3, 5, 3, 3, 7, 3, 5, 6, 7, 4, 4, 7, 4, 4, 3, 5, 4, 4, 4, 6, 5, 6,\n",
       "       4, 4, 9, 4, 6, 6, 6, 3, 1, 6, 3, 4, 8, 8, 7, 5, 5, 5, 4, 8, 6, 9,\n",
       "       4, 5, 6, 5, 5, 4, 4, 3, 6, 4, 5, 5, 2, 7, 6, 4, 7, 6, 9, 5, 3, 3,\n",
       "       6, 5, 4, 5, 5, 7, 2, 3, 5, 3, 8, 4, 5, 5, 6, 2, 4, 5, 3, 6, 5, 6,\n",
       "       5, 4, 4, 4, 7, 6, 4, 5, 3, 5, 6, 4, 5, 6, 5, 5, 4, 6, 3, 5, 4, 3,\n",
       "       7, 4, 5, 5, 4, 5, 5, 5, 4, 4, 7, 5, 6, 5, 4, 5, 6, 7, 7, 4, 4, 3,\n",
       "       8, 6, 6, 5, 4, 5, 4, 5, 6, 7, 4, 4, 6, 5, 4, 5, 3, 3, 2, 4, 5, 3,\n",
       "       3, 5, 7, 2, 4, 7, 6, 7, 7, 4, 6, 4, 7, 8, 3, 6, 2, 5, 5, 5, 6, 7,\n",
       "       5, 3, 7, 3, 6, 3, 7, 6, 4, 7, 4, 4, 4, 5, 4, 7, 5, 8, 4, 5, 6, 9,\n",
       "       5, 5, 7, 5, 5, 8, 5, 3, 7, 5, 4, 7, 2, 8, 3, 3, 7, 5, 4, 8, 4, 7,\n",
       "       5, 4, 5, 7, 8, 6, 4, 7, 7, 5, 6, 7, 6, 6, 5, 5, 4, 3, 4, 5, 4, 6,\n",
       "       5, 5, 4, 3, 6, 4, 5, 5, 6, 5, 4, 7, 6, 4, 6, 5, 5, 3, 4, 3, 6, 6,\n",
       "       5, 2, 3, 7, 7, 5, 3, 5, 5, 2, 6, 6, 5, 6, 6, 4, 3, 4, 7, 6, 4, 6,\n",
       "       5, 4, 6, 4, 4, 4, 5, 5, 6, 1, 5, 2, 4, 3, 5, 7, 7, 5, 4, 1, 6, 4,\n",
       "       5, 5, 4, 5, 5, 4, 7, 6, 3, 7, 1, 4, 3, 4, 3, 4, 5, 5, 4, 3, 5, 6,\n",
       "       6, 2, 3, 6, 3, 3, 5, 4, 6, 2, 4, 4, 4, 1, 5, 2, 4, 7, 3, 6, 5, 7,\n",
       "       5, 4, 9, 6, 3, 5, 4, 7, 3, 6, 8, 7, 7, 6, 4, 3, 3, 7, 6, 3, 8, 5,\n",
       "       3, 5, 5, 4, 6, 5, 4, 6, 5, 4, 3, 5, 3, 7, 5, 7, 4, 5, 5, 7, 3, 5,\n",
       "       3, 7, 6, 5, 6, 5, 5, 7, 8, 3, 5, 7, 5, 4, 3, 6, 4, 5, 5, 6, 8, 8,\n",
       "       4, 4, 6, 6, 4, 8, 6, 4, 5, 3, 5, 5, 4, 3, 4, 5, 3, 4, 4, 5, 5, 4,\n",
       "       6, 7, 4, 9, 4, 5, 4, 6, 7, 6])"
      ]
     },
     "execution_count": 66,
     "metadata": {},
     "output_type": "execute_result"
    }
   ],
   "source": [
    "n, p = 10, .5  # number of trials, probability of each trial\n",
    "s = np.random.binomial(n, p, 1000)\n",
    "s  ## returns an array of \n"
   ]
  },
  {
   "cell_type": "markdown",
   "metadata": {},
   "source": [
    "This can be plotted using the seaborn distplot function. I can also check that the mean of the distribution is equal to $n*P$ and that the standard deviation is equal to $sqrt(n*P*(1-p))$"
   ]
  },
  {
   "cell_type": "code",
   "execution_count": 67,
   "metadata": {},
   "outputs": [
    {
     "data": {
      "text/plain": [
       "<matplotlib.axes._subplots.AxesSubplot at 0x1a1ceb54e0>"
      ]
     },
     "execution_count": 67,
     "metadata": {},
     "output_type": "execute_result"
    },
    {
     "data": {
      "image/png": "[encoded data removed]",
      "text/plain": [
       "<Figure size 432x288 with 1 Axes>"
      ]
     },
     "metadata": {
      "needs_background": "light"
     },
     "output_type": "display_data"
    }
   ],
   "source": [
    "sns.distplot(s)"
   ]
  },
  {
   "cell_type": "code",
   "execution_count": 76,
   "metadata": {},
   "outputs": [
    {
     "name": "stdout",
     "output_type": "stream",
     "text": [
      "True\n"
     ]
    },
    {
     "data": {
      "text/plain": [
       "True"
      ]
     },
     "execution_count": 76,
     "metadata": {},
     "output_type": "execute_result"
    }
   ],
   "source": [
    "np.mean(s)\n",
    "np.std(s)\n",
    "\n",
    "print(np.mean(s).round() == round(n*p))\n",
    "np.std(s).round() == round(np.sqrt(n*p*(1-p)))"
   ]
  },
  {
   "cell_type": "markdown",
   "metadata": {},
   "source": [
    "The [numpy random docs](https://numpy.org/doc/1.16/reference/generated/numpy.random.binomial.html#numpy-random-binomial) demonstrates a real world example. \n",
    "\n",
    ">A company drills 9 wild-cat oil exploration wells, each with an estimated probability of success of 0.1. All nine wells fail. What is the probability of that happening?\n",
    "\n",
    "To do this, 20,000 trials of the model are simulated and then the number generating zero positive results are counted\n",
    "n =  9\n",
    "p = 0.1\n",
    "size  = 20,000\n",
    "\n",
    "This shows that there is a 39% probability of all 9 wells failing but I could also check the probability of all 9 being successful which is 0. The distribution plot shows the probabilities for each possible outcome. \n",
    "Below I use a lambda function to check for the probability for 0,1,2 .. up to all the 9 wells being successful.\n",
    "This corresponds with the plot below which shows the \n"
   ]
  },
  {
   "cell_type": "code",
   "execution_count": 77,
   "metadata": {},
   "outputs": [
    {
     "data": {
      "text/plain": [
       "array([1, 1, 0, ..., 2, 0, 1])"
      ]
     },
     "execution_count": 77,
     "metadata": {},
     "output_type": "execute_result"
    }
   ],
   "source": [
    "np.random.binomial(9, 0.1, 20000)\n"
   ]
  },
  {
   "cell_type": "code",
   "execution_count": 78,
   "metadata": {},
   "outputs": [
    {
     "data": {
      "text/plain": [
       "0.38845"
      ]
     },
     "execution_count": 78,
     "metadata": {},
     "output_type": "execute_result"
    }
   ],
   "source": [
    "sum(np.random.binomial(9, 0.1, 20000) == 0)/20000."
   ]
  },
  {
   "cell_type": "code",
   "execution_count": 79,
   "metadata": {},
   "outputs": [
    {
     "data": {
      "text/plain": [
       "0.0"
      ]
     },
     "execution_count": 79,
     "metadata": {},
     "output_type": "execute_result"
    }
   ],
   "source": [
    "sum(np.random.binomial(9, 0.1, 20000) == 9)/20000."
   ]
  },
  {
   "cell_type": "code",
   "execution_count": 80,
   "metadata": {},
   "outputs": [
    {
     "data": {
      "text/plain": [
       "0.38335"
      ]
     },
     "execution_count": 80,
     "metadata": {},
     "output_type": "execute_result"
    }
   ],
   "source": [
    "sum(np.random.binomial(9, 0.1, 20000) == 1)/20000."
   ]
  },
  {
   "cell_type": "code",
   "execution_count": 81,
   "metadata": {},
   "outputs": [
    {
     "data": {
      "text/plain": [
       "[0.39145, 0.38205, 0.1743, 0.04295, 0.00805, 0.0007, 0.0, 0.0, 0.0, 0.0]"
      ]
     },
     "execution_count": 81,
     "metadata": {},
     "output_type": "execute_result"
    }
   ],
   "source": [
    "n,p,size = 9, 0.1, 20000 ## set the probability of success, number of bernouilli trials and number of samples or experiments\n",
    "g = lambda x: sum(np.random.binomial(n,p,size)==x)/size # \n",
    "\n",
    "[g(i) for i in range(10)] ## run the lambda function g to get the probabilities for the numbers in the range 0 to 9\n",
    "[np.mean(g(i)) for i in range(10)] # get the average "
   ]
  },
  {
   "cell_type": "code",
   "execution_count": 82,
   "metadata": {},
   "outputs": [
    {
     "data": {
      "text/plain": [
       "<matplotlib.axes._subplots.AxesSubplot at 0x1a1d0ef080>"
      ]
     },
     "execution_count": 82,
     "metadata": {},
     "output_type": "execute_result"
    },
    {
     "data": {
      "image/png": "[encoded data removed]",
      "text/plain": [
       "<Figure size 432x288 with 1 Axes>"
      ]
     },
     "metadata": {
      "needs_background": "light"
     },
     "output_type": "display_data"
    }
   ],
   "source": [
    "s1 = np.random.binomial(9, 0.1, 20000)\n",
    "sns.distplot(s1)"
   ]
  },
  {
   "cell_type": "markdown",
   "metadata": {},
   "source": [
    "***\n",
    "\n",
    "The Binomial distribution summarizes the number of successes k in a given number of Bernoulli trials n, with a given probability of success for each trial p.\n",
    "\n",
    "The examples on[ machinelearningmastery](https://machinelearningmastery.com/discrete-probability-distributions-for-machine-learning/) show how to simulate the Bernoulli process with randomly generated cases and count the number of successes over the given number of trials using the binomial() NumPy function. However these examples also make use of the [scipy-stats-binom](https://docs.scipy.org/doc/scipy/reference/generated/scipy.stats.binom.html#scipy-stats-binom) function. \n",
    "\n",
    "This `numpy.random.binomial` function takes the total number of trials and probability of success as arguments and returns the number of successful outcomes across the trials for one simulation.\n",
    "\n",
    "First define the parameters of the distribution, p and k and pass to the `numpy.random.binomial` function.\n",
    "If p is 0.3 and k is 100, it would be expected that 30 cases out of 100 would be successful given the chosen parameters (k * p or 100 * 0.3).\n",
    "The example calculates the moments of the distribution using `binom.stats(k, p, moments='mvsk')` function from the `scipy.stats` package."
   ]
  },
  {
   "cell_type": "code",
   "execution_count": 83,
   "metadata": {},
   "outputs": [
    {
     "name": "stdout",
     "output_type": "stream",
     "text": [
      "Total Success: 21\n"
     ]
    }
   ],
   "source": [
    "\n",
    "# example of simulating a binomial process and counting success\n",
    "import numpy as np\n",
    "# define the parameters of the distribution\n",
    "p = 0.3\n",
    "k = 100\n",
    "# run a single simulation\n",
    "success = np.random.binomial(k, p)\n",
    "print('Total Success: %d' % success)"
   ]
  },
  {
   "cell_type": "markdown",
   "metadata": {},
   "source": [
    "Then using the `scipy.stats` function to calculate the mean and variance"
   ]
  },
  {
   "cell_type": "code",
   "execution_count": 84,
   "metadata": {},
   "outputs": [
    {
     "name": "stdout",
     "output_type": "stream",
     "text": [
      "Mean=30.000, Variance=21.000\n"
     ]
    }
   ],
   "source": [
    "# calculate moments of a binomial distribution\n",
    "from scipy.stats import binom\n",
    "# define the parameters of the distribution\n",
    "p = 0.3\n",
    "k = 100\n",
    "# calculate moments\n",
    "mean, var, _, _ = binom.stats(k, p, moments='mvsk')\n",
    "print('Mean=%.3f, Variance=%.3f' % (mean, var))"
   ]
  },
  {
   "cell_type": "markdown",
   "metadata": {},
   "source": [
    "## HERE!\n",
    "#### here just doing it my own way without using scipy.stats binom function."
   ]
  },
  {
   "cell_type": "code",
   "execution_count": 85,
   "metadata": {},
   "outputs": [
    {
     "name": "stdout",
     "output_type": "stream",
     "text": [
      "mean=23.000, Standard deviation=0.000\n"
     ]
    }
   ],
   "source": [
    "p = 0.3\n",
    "k = 100\n",
    "\n",
    "# calculate the probability of n successes\n",
    "for n in range(10000):\n",
    "    dist =np.random.binomial(k, p)\n",
    "print('mean=%.3f, Standard deviation=%.3f' % (np.mean(dist), np.var(dist)))"
   ]
  },
  {
   "cell_type": "code",
   "execution_count": 86,
   "metadata": {},
   "outputs": [
    {
     "data": {
      "text/plain": [
       "29.994"
      ]
     },
     "execution_count": 86,
     "metadata": {},
     "output_type": "execute_result"
    },
    {
     "data": {
      "image/png": "[encoded data removed]",
      "text/plain": [
       "<Figure size 432x288 with 1 Axes>"
      ]
     },
     "metadata": {
      "needs_background": "light"
     },
     "output_type": "display_data"
    }
   ],
   "source": [
    "n,p,size = 100, 0.3, 1000 ## set the probability of success, number of bernouilli trials and number of samples or experiments\n",
    "s2 = np.random.binomial(100, 0.3, 1000)\n",
    "sns.distplot(s2)\n",
    "np.mean(s2)\n",
    "    "
   ]
  },
  {
   "cell_type": "code",
   "execution_count": 87,
   "metadata": {},
   "outputs": [
    {
     "data": {
      "text/plain": [
       "50"
      ]
     },
     "execution_count": 87,
     "metadata": {},
     "output_type": "execute_result"
    }
   ],
   "source": [
    "x = np.random.binomial(100,0.5)\n",
    "x"
   ]
  },
  {
   "cell_type": "code",
   "execution_count": 88,
   "metadata": {},
   "outputs": [
    {
     "name": "stdout",
     "output_type": "stream",
     "text": [
      "mean is 500.1599\n"
     ]
    },
    {
     "data": {
      "text/plain": [
       "True"
      ]
     },
     "execution_count": 88,
     "metadata": {},
     "output_type": "execute_result"
    },
    {
     "data": {
      "image/png": "[encoded data removed]",
      "text/plain": [
       "<Figure size 432x288 with 1 Axes>"
      ]
     },
     "metadata": {
      "needs_background": "light"
     },
     "output_type": "display_data"
    }
   ],
   "source": [
    "n,p = 1000,0.5  # n is 1000 trials, \n",
    "x = np.random.binomial(n, p, 10000)\n",
    "\n",
    "sns.distplot(x)\n",
    "x/n\n",
    "print(\"mean is\",np.mean(x))\n",
    "np.mean(x).round()==n*p\n",
    "np.std(x).round() ==np.sqrt(n*p*(1-p)).round()\n"
   ]
  },
  {
   "cell_type": "code",
   "execution_count": null,
   "metadata": {},
   "outputs": [],
   "source": []
  },
  {
   "cell_type": "code",
   "execution_count": 89,
   "metadata": {},
   "outputs": [
    {
     "data": {
      "image/png": "[encoded data removed]",
      "text/plain": [
       "<Figure size 432x288 with 1 Axes>"
      ]
     },
     "metadata": {
      "needs_background": "light"
     },
     "output_type": "display_data"
    }
   ],
   "source": [
    "n, p = 100, .5  # number of trials, probability of each trial\n",
    "x = np.random.binomial(n, p, 10000)\n",
    "sns.distplot(x);  # using seaborn"
   ]
  },
  {
   "cell_type": "code",
   "execution_count": 90,
   "metadata": {},
   "outputs": [
    {
     "data": {
      "text/plain": [
       "(array([10.000, 115.000, 436.000, 1196.000, 2039.000, 2369.000, 2116.000,\n",
       "        1185.000, 441.000, 93.000]),\n",
       " array([ 0.000,  1.000,  2.000,  3.000,  4.000,  5.000,  6.000,  7.000,\n",
       "         8.000,  9.000, 10.000]),\n",
       " <a list of 10 Patch objects>)"
      ]
     },
     "execution_count": 90,
     "metadata": {},
     "output_type": "execute_result"
    },
    {
     "data": {
      "image/png": "[encoded data removed]",
      "text/plain": [
       "<Figure size 432x288 with 1 Axes>"
      ]
     },
     "metadata": {
      "needs_background": "light"
     },
     "output_type": "display_data"
    }
   ],
   "source": [
    "n, p = 10, .5  # number of trials, probability of each trial\n",
    "s = np.random.binomial(n, p, 10000)\n",
    "plt.hist(s)"
   ]
  },
  {
   "cell_type": "code",
   "execution_count": 91,
   "metadata": {},
   "outputs": [
    {
     "name": "stdout",
     "output_type": "stream",
     "text": [
      "Total Success: 30\n"
     ]
    }
   ],
   "source": [
    "import numpy as np\n",
    "# define the parameters of the distribution\n",
    "p = 0.3\n",
    "k = 100\n",
    "# run a single simulation\n",
    "success = np.random.binomial(k, p)\n",
    "print('Total Success: %d' % success)"
   ]
  },
  {
   "cell_type": "markdown",
   "metadata": {},
   "source": [
    "***"
   ]
  },
  {
   "cell_type": "markdown",
   "metadata": {},
   "source": [
    "  \n",
    "${\\displaystyle P(k{\\text{ events in interval}})= {\\frac {\\lambda ^{k}e^{-\\lambda }}{k!}}}$\n",
    "\n"
   ]
  },
  {
   "cell_type": "markdown",
   "metadata": {},
   "source": [
    "## The Poisson Distribution function\n",
    "<a id=\"poisson\"></a>\n",
    "\n",
    "Wikipedia, Towards Data Science, Numpy docs.\n",
    "\n",
    ">The Poisson distribution, named after French mathematician Siméon Denis Poisson, is a discrete probability distribution that expresses the probability of a given number of events occurring in a fixed interval of time or space if these events occur with a known constant rate and independently of the time since the last event. The Poisson distribution can also be used for the number of events in other specified intervals such as distance, area or volume. [Wikipedia](https://en.wikipedia.org/wiki/Poisson_distribution).\n",
    "\n",
    "The Poisson distribution was originally developed by Siméon Denis Poisson in the 1830's in France to look at the pattern of wrongful convictions in a year.\n",
    "\n",
    "A poisson random variable is typically used to model the number of times an event happened in a time interval. \n",
    "A poisson distribution is the probability distribution of independent occurences of an event in an interval.\n",
    "\n",
    "It can be used for count based distributions where the events happen with a known average rate and independently of time since the last event such as the number of times an event occurs in an interval of time or space such as number of winning lottery tickets per week, the number of visitors to a website in a period, the number of patients to a hospital A&E in a particular hour, the number of goals scored by a team in a match etc. \n",
    "\n",
    "An event can occur 0, 1, 2, ... times in an interval. The average number of events in an interval is designated $\\lambda$\n",
    "which is the event rate known as the **rate** parameter. The probability of observing $k$ events in an interval is given by the equation:\n",
    "\n",
    "$${\\displaystyle P(k{\\text{ events in interval}})={\\frac {\\lambda ^{k}e^{-\\lambda }}{k!}}}$$\n",
    "\n",
    "where $\\lambda$  is the average number of events per interval, $e$ is the number 2.71828... (Euler's number) the base of the natural logarithms, $k$ takes values 0, 1, 2, ...\n",
    "$k! = k × (k − 1) × (k − 2) × ... × 2 × 1 $is the factorial of k."
   ]
  },
  {
   "cell_type": "markdown",
   "metadata": {},
   "source": [
    "***\n",
    "-$e$ is the number 2.71828 which is the base of the natural logarithms  \n",
    "-$\\lambda$ is the mean or average number of events per occurence  \n",
    "- $k$ is the number of occurences in question\n",
    "At any interval we can see 0,1,2,.. events with an average of $\\lambda$ occurences.\n",
    "To find $k$ number of events use the formula \n",
    "$${\\displaystyle P(k{\\text{ events in interval}})={\\frac {\\lambda ^{k}e^{-\\lambda }}{k!}}}$$\n",
    "\n",
    "Give the `numpy.random.poisson` function the mean or average number of occurences as $\\lambda$ which returns the probability that $k$ number of events will occur\n",
    "\n",
    "(lam=1.0, size=None)\n",
    "\n",
    "***"
   ]
  },
  {
   "cell_type": "code",
   "execution_count": 92,
   "metadata": {},
   "outputs": [
    {
     "data": {
      "text/plain": [
       "1"
      ]
     },
     "execution_count": 92,
     "metadata": {},
     "output_type": "execute_result"
    }
   ],
   "source": [
    "np.random.poisson(5)"
   ]
  },
  {
   "cell_type": "code",
   "execution_count": 93,
   "metadata": {},
   "outputs": [
    {
     "data": {
      "image/png": "[encoded data removed]",
      "text/plain": [
       "<Figure size 432x288 with 1 Axes>"
      ]
     },
     "metadata": {
      "needs_background": "light"
     },
     "output_type": "display_data"
    }
   ],
   "source": [
    "import numpy as np  # from documentation\n",
    "s = np.random.poisson(5, 10000)\n",
    "\n",
    "sns.distplot(s)\n",
    "plt.show()"
   ]
  },
  {
   "cell_type": "markdown",
   "metadata": {},
   "source": [
    "[Towards Data Science](https://towardsdatascience.com/the-poisson-distribution-and-poisson-process-explained-4e2cb17d459) has a good overview of the Poisson Distribution and Poisson Process.\n",
    "\n",
    "> A Poisson Distribution gives the probability of a number of events in an interval generated by a Poisson process. The Poisson distribution is defined by the rate parameter, λ, which is the expected number of events in the interval (events/interval * interval length) and the highest probability number of events. We can also use the Poisson Distribution to find the waiting time between events. Even if we arrive at a random time, the average waiting time will always be the average time between events.\n",
    "\n",
    "A poisson process is a model for a series of discrete events where the average time between events is known but the exact timing of events is random or stochastic. While poisson processes are generally associated with time they don't have to be. \n",
    "\n",
    "The Poisson Process is the model used for describing randomly occurring events while the Poisson Distribution is used for things like finding the probability of a number of events in a time period or finding the probability of waiting some time until the next event.\n",
    "The Poisson Distribution probability mass function gives the probability of observing k events in a time period given the length of the period and the average events per time.\n",
    "\n",
    "The poisson probability distribution function takes one parameter which is lamda $\\lambda$ or the rate parameter which is a function of both the average events per time and the length of the time period  or the expected number of events in an interval.\n",
    "\n",
    "As the rate parameter $\\lambda$ is changed, the probability of seeing different numbers of events in one interval is changed. The most likely number of events in the interval for each curve is the rate parameter. \n",
    "\n",
    "The Poisson Distribution mass function is used to find the probability of observing a number of events over an interval generated by a Poisson process. Another use of the mass function equation is to find the probability of waiting some time between events.\n",
    "\n",
    "The rate parameter is the only number needed to define the Poisson distribution. As it is a product of events/interval and the interval length it can be changed by adjusting the number of events per interval or by adjusting the interval length.\n",
    "\n",
    "\n",
    "The below graph is the probability mass function of the Poisson distribution showing the probability of a number of events occurring in an interval with different rate parameters.\n",
    "\n",
    "\n",
    "***\n",
    "From the docs:\n",
    "The `numpy.random.poisson` function is used to draw samples from a Poisson distribution. It takes a $\\lambda$ parameter as well as a `size` for the number of samples.\n",
    "\n",
    "`numpy.random.poisson(lam=1.0, size=None)`\n",
    "The Poisson distribution is the limit of the binomial distribution for large N.\n",
    "\n",
    "Here is the example from the documentation of 10000 samples drawn from a poisson distribution with a rate parameter of 5. "
   ]
  },
  {
   "cell_type": "code",
   "execution_count": null,
   "metadata": {},
   "outputs": [],
   "source": []
  },
  {
   "cell_type": "code",
   "execution_count": 94,
   "metadata": {},
   "outputs": [
    {
     "data": {
      "image/png": "[encoded data removed]",
      "text/plain": [
       "<Figure size 432x288 with 1 Axes>"
      ]
     },
     "metadata": {
      "needs_background": "light"
     },
     "output_type": "display_data"
    }
   ],
   "source": [
    "import numpy as np  # from documentation\n",
    "s = np.random.poisson(5, 10000)\n",
    "\n",
    "import matplotlib.pyplot as plt\n",
    "count, bins, ignored = plt.hist(s, 14, density=True)\n",
    "plt.show()"
   ]
  },
  {
   "cell_type": "code",
   "execution_count": 95,
   "metadata": {},
   "outputs": [
    {
     "data": {
      "image/png": "[encoded data removed]",
      "text/plain": [
       "<Figure size 432x288 with 1 Axes>"
      ]
     },
     "metadata": {
      "needs_background": "light"
     },
     "output_type": "display_data"
    }
   ],
   "source": [
    "import numpy as np  # from documentation\n",
    "s = np.random.poisson(9, 10000)\n",
    "\n",
    "import matplotlib.pyplot as plt\n",
    "count, bins, ignored = plt.hist(s, 14, density=True)\n",
    "plt.show()"
   ]
  },
  {
   "cell_type": "code",
   "execution_count": 96,
   "metadata": {},
   "outputs": [
    {
     "data": {
      "image/png": "[encoded data removed]",
      "text/plain": [
       "<Figure size 720x432 with 4 Axes>"
      ]
     },
     "metadata": {
      "needs_background": "light"
     },
     "output_type": "display_data"
    }
   ],
   "source": [
    "f, axes = plt.subplots(2, 2, figsize=(10, 6), sharex=False)"
   ]
  },
  {
   "cell_type": "code",
   "execution_count": 97,
   "metadata": {},
   "outputs": [
    {
     "data": {
      "image/png": "[encoded data removed]",
      "text/plain": [
       "<Figure size 432x288 with 1 Axes>"
      ]
     },
     "metadata": {
      "needs_background": "light"
     },
     "output_type": "display_data"
    }
   ],
   "source": [
    "s = np.random.poisson(lam=(100., 500.), size=(100, 2)) # Draw each 100 values for lambda 100 and 500:\n",
    "count, bins, ignored = plt.hist(s, 14, density=True)"
   ]
  },
  {
   "cell_type": "code",
   "execution_count": 98,
   "metadata": {},
   "outputs": [
    {
     "data": {
      "text/plain": [
       "[Text(0, 0.5, 'Frequency'), Text(0.5, 0, 'Poisson Distribution')]"
      ]
     },
     "execution_count": 98,
     "metadata": {},
     "output_type": "execute_result"
    },
    {
     "data": {
      "image/png": "[encoded data removed]",
      "text/plain": [
       "<Figure size 432x288 with 1 Axes>"
      ]
     },
     "metadata": {
      "needs_background": "light"
     },
     "output_type": "display_data"
    }
   ],
   "source": [
    "\n",
    "s = np.random.poisson(3, 10000)\n",
    "ax = sns.distplot(s,\n",
    "                  bins=30,\n",
    "                  kde=False,\n",
    "                  color='skyblue',\n",
    "                  hist_kws={\"linewidth\": 15,'alpha':1})\n",
    "ax.set(xlabel='Poisson Distribution', ylabel='Frequency')"
   ]
  },
  {
   "cell_type": "markdown",
   "metadata": {},
   "source": [
    "***\n",
    "<a id='task4'></a>\n",
    "# 4. Explain the use of seeds in generating pseudorandom numbers.\n",
    "[Back to top](#toc)  \n",
    "\n",
    "### Pseudo-random number generators (PRNG's) and seeds\n",
    "\n",
    "As mentioned above computer programs can only produce outputs based on inputs and according to a set of predetermined rules which means a program cannot produce truly random numbers but they can produce numbers that look random enough called pseudorandom numbers. Pseudorandom numbers don't actually contain any randomness at all but can take the role of random numbers for certain applications. Randomness is being imitated.\n",
    "\n",
    "These pseudo-random numbers are generated are in a sequence according to some **deterministic algorithm** from an input called a **seed**. This means that the outputs can be repeated by following the same set of steps and given the same inputs.  If you know this **seed** then you can predict the next number to be generated in a sequence.\n",
    "\n",
    "The **seed** used is typically the time (to the microsecond) on the computer when the code was run. To recreate the exact same sequence of random numbers, then you can just explicitly supply the seed as an input to the random number generator.\n",
    "Without supplying a seed yourself explicitly, the current system time in milliseconds is usually used as the seed.\n",
    "\n",
    "While the sequence of numbers generated may have properties of randomness and look random it is important to know the distinction between random and pseudorandom numbers particularly for security purposes. Pseudorandom number generators should not be used for cryptographic purposes because their predictability could be used to break the encryption.\n",
    "\n",
    "***\n",
    "A **seed** is a number that is used to initialise a pseudorandom number generator. By setting the seed, the original seed is ignored and numbers will be generated in a pseudorandom manner. If you reinitialise a random number generator with the same seed then the same sequence of numbers will be produced. \n",
    "\n",
    "According to [statisticshowto](https://www.statisticshowto.datasciencecentral.com/random-seed-definition/), a random seed specifies the start point when a computer generates a random number. The random seed can be any number but it usually comes from seconds on the computer system's clock which counts in seconds from January 1, 1970.  (known as Unix time). This ensures that the same random sequence won't be repeated unless you actually want it to. \n",
    "\n",
    "The algorithms behind computer random number generation are based on patterns which generate numbers that follow particular **probability distributions**. Setting a seed will produce the same sequence of random numbers each time. \n",
    "\n",
    "https://pynative.com/python-random-seed/\n",
    ">Random number or data generated by Python’s random module is not truly random, it is pseudo-random(it is PRNG), i.e. deterministic. It produces the numbers from some value. This value is nothing but a seed value. i.e. The random module uses the seed value as a base to generate a random number.\n",
    ">Generally, the seed value is the previous number generated by the generator. However, When the first time you use the random generator, there is no previous value. So by-default current system time is used as a seed value.\n",
    " \n",
    "\n",
    "There are many different ways to generate pseudo-random numbers. Python uses the **Mersenne Twister** as the core generator. According to [wikipedia](https://en.m.wikipedia.org/wiki/Mersenne_Twister), the Mersenne Twister is  a pseudorandom number generator (PRNG) and is by far the most widely used general-purpose PRNG whose name derives from the fact that its period length is chosen to be a Mersenne prime (a prime number that is one less than a power of two. That is, it is a prime number of the form Mn = 2n − 1 for some integer n.).\n",
    "\n",
    "***\n",
    "[Khan academy random vs pseudorandom number generators](https://www.khanacademy.org/computing/computer-science/cryptography/crypt/v/random-vs-pseudorandom-number-generators).\n",
    "\n",
    "Here are some notes from watching the above video which gives a very good overview of using seeds with the prngs.\n",
    "\n",
    "There are truly random fluctuations everywhere in the physical world and truly random numbers could be generated by measuring or sampling this noise such as the electric current of tv static over time. A **random walk** can visualise this random sequence where a path is drawn that changes direction according to each number. There would be no pattern at all in a random walk as the next point is always unpredictable. Random processes are nondeterministic since they are impossible to determine in advance whereas machines are deterministic because their operation is predictable and repeatable.\n",
    "\n",
    "In 1946 while involved in running computations for the military, John Neumann required quick access to randomly generated numbers that could be repeated if necessary but as the computer of the time had very limited memory it could not store long random sequences. Nuemann therefore developed an algorithm to mechanically simulate the scrambling aspect of randomness as follows.\n",
    "First a truly random numbers called the 'seed' (which could come from measurement of noise or the current time in milliseconds) is selected which is then provided as input to a very simple calculation where the seed is multiplied by itself, the middle of this output becomes the seed for the next step and the process repeated as many times as required. This was called the \"middle-squares\" method and was the first pseudorandom number generator. The randomness of the seed depends only on the randomness of the initial seed only and the same seed will generate the same sequence.\n",
    "\n",
    "The difference between a random generated versus a pseudorandomly generated sequence is that eventually the pseudorandom sequence will repeat when the algorithm reaches a seed it has previously used. The length before the pseudorandom sequence repeats is called the **period** and the period is strictly limited by the length of the initial seed. \n",
    "The longer the length of the initial seed the longer the period so a 4 digit seed will produce a longer period of unrepeating sequences than a 3 digit seed which is will produce a longer period than a two digit seed. \n",
    "The difference between a pseudorandom generated sequence and a truy random sequence is that there are many sequences that cannot occur in a pseudorandom sequence.  \n",
    "A 20 digit pseudorandom sequence generated from a 4-digit seed is equivalent to a uniform selection from 10,000 possible intial seeds so that only 20,000 different sequences can be generated. when we move from random to pseudorandom shifts the key space is shrunk into a much smaller seed-space.\n",
    "For a pseudorandom sequence to be indistinguishable from a randomly generated sequence, it must be impractical for a computer to try all seeds and look for a match. There is an important distinction in computer science between what is possible versus what is possible in a reasonable amount of time. With pseudorandom generators the security increases as the length of the seed increases. If the most powerful computer would take hundreds of years to run through all seeds then we can safely assume its practically secure instead of perfectly secure. As computers get faster the seed size must increase accordingly. \n",
    "Instead of having to share the entire random shift sequence in advance, you can share the relatively short random seed and expand it into the same random looking sequence when needed. \n",
    "\n",
    "***\n",
    "\n",
    "\n",
    "There are times when you may wish to recreate the exact same sequence of random numbers.  Pseudo random number generators can be **seeded** which makes them **deterministic** and the series of random values can therefore be exactly recreated. A seed is an input to the random number generator as the starting point of the process. The computer's system time is usually used for the seed and this is used in an algorithm to generate some (pseudo) random values. If you provide the seed as an input to the process this tells the program not to generate its own random seed at the start from the computer's clock (to the microsecond) but instead use the seed you provide\n",
    " \n",
    "\n",
    "In summary, random (pseudorandom) numbers are drawn from a probability distribution. The numbers generated depend on the *seed* used and are generated according to some deterministic algorithm from that seed. The numbers that are output depend on the algorithm and the input seed.\n",
    "\n"
   ]
  },
  {
   "cell_type": "markdown",
   "metadata": {},
   "source": [
    "## Using numpy.random.seed function\n",
    "\n",
    "Numpy random seed function is used to create completely repeatable or reproducible results.\n",
    "The seed function works with other numpy random functions to create particular types of random numbers, such as numbers from various probability distributions. \n",
    "If a numpy random function is used together with a particular seed, then the very same set of random numbers can be generated again. \n",
    "\n",
    "The seed value is the input to the numpy random seed function. You **seed** or set the set of the prng. If you run the same function again you will get the same output. The code will produce the exact same output if the same seed is used with the same function, using the same parameters.\n",
    "\n",
    "To get the same random sample of elements from a array of numbers then you also use the numpy random seed function. \n",
    "\n",
    "Prngs are algorithms for producing numbers that appear random. The seed is the starting point for the algorithm. \n",
    "Different numbers used as the seed will produce a different set of pseudo random numbers from the same algorithm as they have a different starting point. If the starting point is the same and the steps in the algorithm are the same, then the outputs will be the same. \n",
    "Any integer can be used (see the documents for exact range) as the input seed. If a different seed is used, a different set of random numbers are generated but if the same number is used, the same sequence is generated. The same principle applies for randomly sampling from a set or array of numbers.\n",
    "If you don't explicitly set the seed, one will be set automatically for you using the system time.\n",
    "\n",
    "\n",
    "Any NumPy random function that is executed with the same seed will produce the exact same result and this will ensure reproducibility.\n",
    "\n",
    "\n",
    "***"
   ]
  },
  {
   "cell_type": "markdown",
   "metadata": {},
   "source": [
    "According to the documentation  the `numpy.random.seed(seed=None)` method is used to seed the generator.\n",
    "This method is called when `RandomState` is initialized and can be called again to re-seed the generator. \n",
    "The seed it takes can be an integer or a one-dimensional array of integers. \n",
    "\n",
    "In NumPy the Mersenne Twister is the basis for NumPy pseudo-random number generator.\n",
    "`numpy.random.RandomState` is the container for the Mersenne Twister pseudo-random number generator.\n",
    "\n",
    "`RandomState` exposes a number of methods for generating random numbers drawn from a variety of probability distributions. In addition to the distribution-specific arguments, the size can be specified. \n",
    "\n",
    "The random seed used to initialize the pseudo-random number generator can be any integer between 0 and `2**32 - 1` inclusive, an array (or other sequence) of such integers, or None (the default). \n",
    "If seed is None, then RandomState will try to read data from `/dev/urandom` (or the Windows analogue) if available or seed from the clock otherwise.\n",
    "\n",
    "The call to numpy.random.seed allows the seed to be set.\n",
    "\n",
    "(The Python stdlib module “random” also contains a Mersenne Twister pseudo-random number generator with a number of methods that are similar to the ones available in RandomState. RandomState, besides being NumPy-aware, has the advantage that it provides a much larger number of probability distributions to choose from.)"
   ]
  },
  {
   "cell_type": "code",
   "execution_count": 99,
   "metadata": {},
   "outputs": [],
   "source": [
    "#np.random.get_state()"
   ]
  },
  {
   "cell_type": "markdown",
   "metadata": {},
   "source": [
    "#### Here I will demonstrate using the numpy random functions, with and without setting the seed of the random number generator.\n",
    "\n",
    "In the previous questions I have used the random.seed to generate the same sequence of random numnbers when comparing the different functions. \n",
    "\n",
    "When the `random.seed` method is used with any integer (in the accepatable range) then the same sequence of random numbers will be generated when this number is used to seed the generator again. It doesn't matter what number is used as the seed as long as the same number is used as a seed again when you want to generate the exact same sequence. If a different seed is used, then a different sequence of random numbers will be generated. The output of a random function will depend on the seed used and the algorithm the function uses. \n",
    "Without explicitly specifying a seed, a seed is generated from the system clock. If you don't specify a seed it would be extremely difficult to reproduce the same sequence again. As the default seed is set from the computer systems internal clock (to the millisecond) the seed will change every moment that you use a numpy random function.\n",
    "\n",
    "\n",
    "Using a seed with random sampling makes sense if you want reproducible outputs."
   ]
  },
  {
   "cell_type": "markdown",
   "metadata": {},
   "source": [
    "#### Generate random numbers with and without seeding the generator"
   ]
  },
  {
   "cell_type": "code",
   "execution_count": 100,
   "metadata": {},
   "outputs": [
    {
     "name": "stdout",
     "output_type": "stream",
     "text": [
      "\n",
      " without using a seed\n",
      "[ 0.868  0.365  0.147  0.175  0.979]\n",
      "[ 0.109  0.807  0.225  0.014  0.943]\n",
      "[ 0.465  0.771  0.841  0.566  0.443]\n",
      "\n",
      " using seed to give the same random sequences\n",
      "[ 0.771  0.021  0.634  0.749  0.499]\n",
      "[ 0.771  0.021  0.634  0.749  0.499]\n",
      "[ 0.771  0.021  0.634  0.749  0.499]\n",
      "\n",
      " without seed to give the same random sequences\n",
      "[29  8 73  0 40 36 16 11 54 88]\n",
      "[62 33 72 78 49 51 54 77 69 13]\n",
      "[25 13 92 86 30 30 89 12 65 31]\n",
      "\n",
      " using seed to give the same random sequences\n",
      "[ 9 15 64 28 89 93 29  8 73  0]\n",
      "[ 9 15 64 28 89 93 29  8 73  0]\n",
      "[ 9 15 64 28 89 93 29  8 73  0]\n"
     ]
    }
   ],
   "source": [
    "import numpy as np\n",
    "print(\"\\n without using a seed\")\n",
    "for i in range(3):\n",
    "    x = np.random.rand(5) # generate a random float between 0 and 1 without using a seed\n",
    "    print(x)\n",
    " \n",
    "print(\"\\n using seed to give the same random sequences\")\n",
    "for i in range(3):\n",
    "    np.random.seed(10)\n",
    "    x = np.random.rand(5) # generate another random float between 0 and 1  using a seed\n",
    "    print(x)\n",
    "    \n",
    "print(\"\\n without seed to give the same random sequences\")\n",
    "for i in range(3):\n",
    "    x = np.random.randint(0,100,10) # generate another random float between 0 and 1  using a seed\n",
    "    print(x)\n",
    "    \n",
    "print(\"\\n using seed to give the same random sequences\")\n",
    "for i in range(3):\n",
    "    np.random.seed(10)\n",
    "    x = np.random.randint(0,100,10) # generate another random float between 0 and 1  using a seed\n",
    "    print(x)"
   ]
  },
  {
   "cell_type": "markdown",
   "metadata": {},
   "source": [
    "##### Random sampling from an array with and without seeding the generator."
   ]
  },
  {
   "cell_type": "markdown",
   "metadata": {},
   "source": [
    "Using loop to sample from an array of integers, first without setting the seed and then using the seed."
   ]
  },
  {
   "cell_type": "code",
   "execution_count": 101,
   "metadata": {},
   "outputs": [
    {
     "name": "stdout",
     "output_type": "stream",
     "text": [
      "\n",
      " sampling from an array without using a seed\n",
      "[73 29 89 28]\n",
      "[ 9 89 29 73]\n",
      "[15 73 89 15]\n",
      "\n",
      " Sampling from an array using a seed\n",
      "[ 0 89  9 15]\n",
      "[ 0 89  9 15]\n",
      "[ 0 89  9 15]\n"
     ]
    }
   ],
   "source": [
    "\n",
    "np.random.seed(10)\n",
    "myarray = np.random.randint(0,100,10)  # create an array of ten random integers between 0 and 100 (exclusive)\n",
    "\n",
    "print(\"\\n sampling from an array without using a seed\") \n",
    "for i in range(3):\n",
    "    x = np.random.choice(myarray, 4) # sample 4 elements from the array \n",
    "    print(x)\n",
    "\n",
    "print(\"\\n Sampling from an array using a seed\")\n",
    "for i in range(3):\n",
    "    np.random.seed(10)\n",
    "    x = np.random.choice(myarray, 4) # sample 4 elements from the array \n",
    "    print(x)\n"
   ]
  },
  {
   "cell_type": "code",
   "execution_count": 102,
   "metadata": {},
   "outputs": [
    {
     "name": "stdout",
     "output_type": "stream",
     "text": [
      "\n",
      " sampling from an array without using a seed\n",
      "[73 29 89 28]\n",
      "[ 9 89 29 73]\n",
      "[15 73 89 15]\n",
      "\n",
      " Sampling from an array using a seed\n",
      "[ 0 89  9 15]\n",
      "[ 0 89  9 15]\n",
      "[ 0 89  9 15]\n"
     ]
    }
   ],
   "source": [
    "np.random.seed(10)\n",
    "myarray2 = np.random.randint(0,100,10)  # create an array of ten random integers between 0 and 100 (exclusive)\n",
    "\n",
    "print(\"\\n sampling from an array without using a seed\") \n",
    "for i in range(3):\n",
    "    x = np.random.choice(myarray, 4) # sample 4 elements from the array \n",
    "    print(x)\n",
    "\n",
    "print(\"\\n Sampling from an array using a seed\")\n",
    "for i in range(3):\n",
    "    np.random.seed(10)\n",
    "    x = np.random.choice(myarray, 4) # sample 4 elements from the array \n",
    "    print(x)\n",
    "\n"
   ]
  },
  {
   "cell_type": "code",
   "execution_count": 103,
   "metadata": {},
   "outputs": [
    {
     "name": "stdout",
     "output_type": "stream",
     "text": [
      "\n",
      " sampling from an array without using a seed\n",
      "['z' 'q' 'r' 'i']\n",
      "['j' 'a' 'k' 'i']\n",
      "['w' 'e' 't' 'q']\n",
      "\n",
      " Sampling from an array using a seed\n",
      "['j' 'e' 'p' 'a']\n",
      "['j' 'e' 'p' 'a']\n",
      "['j' 'e' 'p' 'a']\n"
     ]
    }
   ],
   "source": [
    "import string\n",
    "\n",
    "print(\"\\n sampling from an array without using a seed\") \n",
    "for i in range(3):\n",
    "    x = np.random.choice(np.array(list(string.ascii_lowercase)), 4) # sample 4 elements from the array \n",
    "    print(x)\n",
    "\n",
    "print(\"\\n Sampling from an array using a seed\")\n",
    "for i in range(3):\n",
    "    np.random.seed(10)\n",
    "    x = np.random.choice(np.array(list(string.ascii_lowercase)), 4) # sample 4 elements from the array \n",
    "    print(x)"
   ]
  },
  {
   "cell_type": "code",
   "execution_count": null,
   "metadata": {},
   "outputs": [],
   "source": []
  },
  {
   "cell_type": "markdown",
   "metadata": {},
   "source": [
    "<a id='references'></a>\n",
    "## References\n",
    "- [python.org](https://docs.python.org/3/library/index.html)\n",
    "- Python for Data Analysis - Chapter 4 NumPy Basics: Arrays and Vectorised Computation by Wes McKinney\n",
    "- [Python Data Science Handbook by Jake VanderPlas ](https://jakevdp.github.io/PythonDataScienceHandbook/) \n",
    "- [Jake VanderPlas Website](http://vanderplas.com)\n",
    "- [numpy quickstart tutorial](https://numpy.org/devdocs/user/quickstart.html)\n",
    "- [NumPy random module](https://numpy.org/devdocs/reference/random/index.html?highlight=random#module-numpy.random), \n",
    "- [python - random library](https://docs.python.org/3/library/random.html#module-random)\n",
    "- Section 4.6 of Python for Data Analysis by Wes McKinney\n",
    "- [GitHub Flavoured Markdown](https://github.github.com/gfm/)\n",
    "- [Jupyter Notebook documentation](https://jupyter-notebook.readthedocs.io/en/stable/notebook.html#basic-workflow)\n",
    "- [Jupyter Notebook Tips, Tricks, and Shortcuts](https://www.dataquest.io/blog/jupyter-notebook-tips-tricks-shortcuts/)\n",
    "- [python random docs](https://docs.python.org/3/library/random.html#module-random)\n",
    "- [realpython tutorial on random data](https://realpython.com/python-random/)\n",
    "- [The Poisson Distribution and Poisson Process Explained](https://towardsdatascience.com/the-poisson-distribution-and-poisson-process-explained-4e2cb17d459)\n",
    "- [A Concrete Introduction to Probability (using Python) by Peter Norvig](https://nbviewer.jupyter.org/url/norvig.com/ipython/Probability.ipynb) \n",
    "Note: I have not actually read through this in detail yet. It is linked in the python random module documentation.\n",
    "- [wolfram mathworld](http://mathworld.wolfram.com/topics/StatisticalDistributions.html)\n",
    "- [stattrek](https://stattrek.com)\n",
    "\n",
    "-[LaTeX equations in Jupyter](https://jupyter-notebook.readthedocs.io/en/stable/examples/Notebook/Working%20With%20Markdown%20Cells.html#LaTeX-equations)\n",
    "- [w3resource.com](https://www.w3resource.com/numpy)\n",
    "[scikit-learn tutorial](https://scikit-learn.org/stable/tutorial/basic/tutorial.html)\n",
    "- [pythonprogramming](https://pythonprogramming.net/monte-carlo-simulator-python/)\n",
    "- [pythonprogramming.net](https://pythonprogramming.net)\n",
    "- [Khan Academy]([Khan academy random vs pseudorandom number generators](https://www.khanacademy.org/computing/computer-science/cryptography/crypt/v/random-vs-pseudorandom-number-generators)\n",
    "\n",
    "\n",
    "[Back to top](#toc)"
   ]
  },
  {
   "cell_type": "markdown",
   "metadata": {},
   "source": [
    "***\n"
   ]
  },
  {
   "cell_type": "markdown",
   "metadata": {},
   "source": [
    "<img src=\"/Simple_random_data.png\" width=\"400\" alt=\"Simple random data\" />"
   ]
  },
  {
   "cell_type": "code",
   "execution_count": null,
   "metadata": {},
   "outputs": [],
   "source": [
    "%run test.py"
   ]
  },
  {
   "cell_type": "markdown",
   "metadata": {},
   "source": [
    "learning latex... see cheat sheet at [www.nyu.edu](https://www.nyu.edu/projects/beber/files/Chang_LaTeX_sheet.pdf)\n",
    "or [wch.github.io](https://wch.github.io/latexsheet/latexsheet-0.png)\n",
    "\n",
    "\n",
    "$e^{i\\pi} + 1 = 0$\n",
    "$$e^x=\\sum_{i=0}^\\infty \\frac{1}{i!}x^i$$\n",
    "\n",
    "$\\sigma$\n",
    "$$\\sigma$$\n",
    "$\\mu$\n",
    "\n",
    "x~  $N(\\mu,\\sigma^2)$"
   ]
  },
  {
   "cell_type": "code",
   "execution_count": null,
   "metadata": {},
   "outputs": [],
   "source": []
  }
 ],
 "metadata": {
  "kernelspec": {
   "display_name": "Python 3",
   "language": "python",
   "name": "python3"
  },
  "language_info": {
   "codemirror_mode": {
    "name": "ipython",
    "version": 3
   },
   "file_extension": ".py",
   "mimetype": "text/x-python",
   "name": "python",
   "nbconvert_exporter": "python",
   "pygments_lexer": "ipython3",
   "version": "3.7.3"
  }
 },
 "nbformat": 4,
 "nbformat_minor": 2
}
