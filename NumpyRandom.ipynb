{
 "cells": [
  {
   "cell_type": "markdown",
   "metadata": {},
   "source": [
    "# Programming for Data Analysis Assignment 2019\n",
    "\n",
    "## Problem Statement\n",
    "The assignment concerns the `numpy.random` package in Python.\n",
    "Include a Jupyter notebook (this one) to explain the use of the package including detailed explanations of at least five of the distributions provided for in the package.\n",
    "There are four distinct task to be carried out in the Jupyter Notebook.\n",
    "1. Explain the overall purpose of the package.\n",
    "2. Explain the use of the “Simple random data” and “Permutations” functions. \n",
    "3. Explain the use and purpose of at least five “Distributions” functions.\n",
    "4. Explain the use of seeds in generating pseudorandom numbers.\n",
    "\n",
    "## Documents required for the submission\n",
    "A git repository containing:\n",
    "-  a README\n",
    "- a git ignore file\n",
    "- a Jupyter Notebook\n",
    "\n",
    "## Requirements\n",
    "A good submission will be clearly organised and contain concise explanations of the particularities of the dataset. The analysis contained within the notebook will be well conceived, interesting, and well researched. Note that part of this assignment is about the use of Jupyter notebooks and so you should make use of all the functionality available in the software including images, links, code and plots. You may use any Python libraries that you wish, whether they have been discussed in class or not.\n",
    "\n"
   ]
  },
  {
   "cell_type": "markdown",
   "metadata": {},
   "source": [
    "Here I will start by going over some of the notes.\n",
    "\n",
    " \n",
    "- `numpy.random` is a sub-package of the numpy package.See documentation on the numpy website.\n",
    "\n",
    "- While many other python packages depend on the numpy package, it it not itself a package that people interact with directly on it's own. \n",
    "- `numpy.random` generates random numbers. There are many different ways to generate (pseudo) random numbers as computers can't actually generate random numbers.\n",
    "\n",
    "[what is numpy](https://docs.scipy.org/doc/numpy/user/whatisnumpy.html)\n",
    "\n",
    "`Numpy` is very quick at dealing with numbers that are in very long lists or lists of lists. Matrix operations in raw python are quite inefficient compared to using numpy as NumPy is a specialist package that deals with multi-dimensional arrays (like lists within list). Numpy arrays are rectangular, such as 2-dimensional array where every row and every column have the same number of columns but the number of rows can be different to the number of columns.\n",
    "While you can create arrays with more than two dimensions, usually 2 dimesional arrays are sufficient for most needs. \n",
    "Operations can be performed on numpy arrays very quickly, there are many algorithms for handling arrays that are built into numpy for dealing with numerical operations.  \n",
    "\n",
    "See the [numpy quickstart tutorial](https://numpy.org/devdocs/user/quickstart.html).\n",
    "While it is common to import csv data into numpy, (or import csv into pandas which uses numpy in the background), NumPy can also simulate data to analyse if you have not yet collected the data.\n",
    "many arrays and structures. \n",
    "NumPy is typically used through other packages. It is a specialist packages for dealing with arrays of numbers. \n",
    "Numpy is popular as it works well with arrays of numbers. Many things such as analysing data, resizing or compressing images or converted cd's into mpgs use matrix operations are the best way. Numpy can do operations with such matrices very quickly compared with raw python's matrix operations.\n",
    "\n",
    "## Random sampling / numpy.random\n",
    "https://docs.scipy.org/doc/numpy/reference/random/index.html?highlight=numpy.random#module-numpy.random\n",
    "\n",
    "assumptions made about the type of random numbers you want, depend on distributions.\n",
    "- Permutations \n",
    "- shuffle - \n",
    "Shuffle changes array in place while permutations doesnt.\n",
    "\n",
    "#### Probability distributions. \n",
    "a plot can show the difference between the different distributions.\n",
    "see random generation, random state, set state, get stats\n",
    "(in a numpy notebook, discuss what's in the package).\n",
    "\n",
    "### numpy random functions.\n",
    "No-one would be expected to know all the functions related to the various ditributions and random number generation. Generally you refer to the documentation as you need to. \n",
    "\n"
   ]
  },
  {
   "cell_type": "markdown",
   "metadata": {},
   "source": [
    "## The numpy.random package\n",
    "\n",
    "See the documentation page. I noticed that the documentation in the latest version 1.17 does not seem to be listing `numpy.random.rand()` so I am referring here to the numpy version 1.15.1 \n",
    "\n",
    "[numpy-1.15.1/reference.routines.random](https://docs.scipy.org/doc/numpy-1.15.1/reference/routines.random.html)\n",
    "`numpy.random.rand(d0,d1,...,dn)`\n",
    "The https://docs.scipy.org/doc/numpy/reference/routines  has a random.sampling(numpy.random) section which has a quick start guide at https://docs.scipy.org/doc/numpy/reference/random/index.html#quick-start and it outlines some changes since the videos were made.. refers to generator as a replacement for Random.State.\n",
    "\n",
    "I'll have to go through the documentation and see what the changes are.\n",
    "\n",
    "\n",
    "\n",
    "All I can find under https://docs.scipy.org/doc/numpy/reference/ is relating to \n",
    "\n",
    "https://docs.scipy.org/doc/numpy/reference/random/generated/numpy.random.Generator.random.html#numpy.random.Generator.random\n",
    "\n",
    "Note that the documents under this url refer to numpy.random.generator but I think this is just the newer form.\n",
    "\n",
    "### numpy.random.rand()\n",
    "pass the dimensions into the fucntion. if you don't pass the dimesions yuo get a scalar.\n",
    "[numpy.random.rand](https://docs.scipy.org/doc/numpy/reference/random/generated/numpy.random.Generator.random.html#numpy.random.Generator.random).\n",
    "\n",
    "You get an array so that every row has the same number of elements, every column has the same number of elements. can be different number of rows as columns.\n",
    "\n"
   ]
  },
  {
   "cell_type": "code",
   "execution_count": null,
   "metadata": {},
   "outputs": [],
   "source": []
  },
  {
   "cell_type": "code",
   "execution_count": null,
   "metadata": {},
   "outputs": [],
   "source": []
  }
 ],
 "metadata": {
  "kernelspec": {
   "display_name": "Python 3",
   "language": "python",
   "name": "python3"
  },
  "language_info": {
   "codemirror_mode": {
    "name": "ipython",
    "version": 3
   },
   "file_extension": ".py",
   "mimetype": "text/x-python",
   "name": "python",
   "nbconvert_exporter": "python",
   "pygments_lexer": "ipython3",
   "version": "3.7.3"
  }
 },
 "nbformat": 4,
 "nbformat_minor": 2
}
