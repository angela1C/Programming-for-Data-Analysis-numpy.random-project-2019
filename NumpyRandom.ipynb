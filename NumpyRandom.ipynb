{
 "cells": [
  {
   "cell_type": "markdown",
   "metadata": {},
   "source": [
    "# Programming for Data Analysis Assignment 2019\n",
    "\n",
    "Explain the use of the **numpy.random** package in Python including detailed explanations of at least five of the distributions provided for in the package.\n",
    "\n",
    "There are four distinct task to be carried out in this Jupyter Notebook.\n",
    "  \n",
    "1. Explain the overall purpose of the package.\n",
    "2. Explain the use of the “Simple random data” and “Permutations” functions. \n",
    "3. Explain the use and purpose of at least five “Distributions” functions.\n",
    "4. Explain the use of seeds in generating pseudorandom numbers.\n"
   ]
  },
  {
   "cell_type": "markdown",
   "metadata": {},
   "source": [
    "<a id='toc'></a>\n",
    "# Table of contents\n",
    "\n",
    "\n",
    "- [Python libraries used for this assignment](#libraries)\n",
    "- [Task 1: Explain the overall purpose of the package](#purpose)\n",
    "- [Task 2: Explain the use of the Simple random data and Permutations functions.](#functions)\n",
    "    - [Simple random data functions](#simple)\n",
    "    - [Permutations Functions](#permutations)\n",
    "- [Task 3: Explain the use and purpose of at least five “Distributions” functions](#distributions)\n",
    "- [Task 4: Explain the use of seeds in generating pseudorandom numbers](#seeds)\n",
    "5. [References](#references)\n",
    "  \n",
    "***"
   ]
  },
  {
   "cell_type": "markdown",
   "metadata": {},
   "source": [
    "<a id=\"libraries\"></a>\n",
    "### Python libraries used\n",
    "To run this notebook the following some python libraries must be imported. This notebook uses the numpy, pandas, seaborn and matplotlib python libraries which are installed with the Anaconda distribution.\n",
    "\n",
    "As the examples in this asignment generate arrays of floating point numbers, I have set the print options for ease of reading using [numpy.set_printoptions](https://numpy.org/doc/1.16/reference/generated/numpy.set_printoptions.html#numpy-set-printoptions).\n",
    "\n",
    "[numpy-set-printoptions](https://numpy.org/doc/1.16/reference/generated/numpy.set_printoptions.html#numpy-set-printoptions) can be used to determine the way floating point numbers, arrays and other NumPy objects are displayed.\n",
    "\n",
    "`np.set_printoptions(formatter={'all':lambda x: 'int: '+str(-x)})` customise formatter\n",
    "\n",
    "Jupyter notebook will usually only print the output of the last statement. However this can be changed using the `InteractiveShell` settings. I did use this at the start but it makes the document too long."
   ]
  },
  {
   "cell_type": "code",
   "execution_count": 1,
   "metadata": {},
   "outputs": [
    {
     "name": "stdout",
     "output_type": "stream",
     "text": [
      "NumPy version 1.16.2 pandas version  0.24.2 seaborn version 0.9.0\n"
     ]
    }
   ],
   "source": [
    "\n",
    "import numpy as np\n",
    "import pandas as pd\n",
    "import seaborn as sns\n",
    "import matplotlib.pyplot as plt\n",
    "\n",
    "#np.version.version  # check what version of packages are installed.\n",
    "print(\"NumPy version\",np.__version__, \"pandas version \",pd.__version__, \"seaborn version\",sns.__version__  )  # '1.16.2'\n",
    "\n",
    "#np.set_printoptions(formatter={'float': lambda x: \"{0:6.3f}\".format(x)})\n",
    "np.set_printoptions(precision=4)  # set floating point precision to 4\n",
    "np.set_printoptions(threshold=5) # summarise long arrays\n",
    "np.set_printoptions(suppress=True) # to suppress small results\n",
    "\n",
    "#from IPython.core.interactiveshell import InteractiveShell\n",
    "#InteractiveShell.ast_node_interactivity = \"all\"  # \n"
   ]
  },
  {
   "cell_type": "markdown",
   "metadata": {},
   "source": [
    "## Note I am turning some of the code in this notebook into markdown and using code blocks instead of running everythig which is making it far too slow!"
   ]
  },
  {
   "cell_type": "markdown",
   "metadata": {},
   "source": [
    "                                                                                                              \n",
    "                                                                                                                \n",
    "<a id='purpose'></a>\n",
    "# Task 1. Explain the overall purpose of the package numpy.random\n",
    "\n",
    "\n",
    "**NumPy**, short for Numerical Python, is one of the most important foundational packages for numerical computing in Python and many other packages that are used for data analytics and machine learning are built on NumPy.   \n",
    "\n",
    "[W3resource](https://www.w3resource.com/numpy/index.php) describes NumPy as the \n",
    "> fundamental package for scientific computing in Python. It is a Python library that provides a multidimensional array object, various derived objects (such as masked arrays and matrices), and an assortment of routines for fast operations on arrays, including mathematical, logical, shape manipulation, sorting, selecting, I/O, discrete Fourier transforms, basic linear algebra, basic statistical operations, random simulation and much more. \n",
    "\n",
    "**Numyy.random** is a sub-package of **NumPy** containing many functions for the generation of random numbers. It is somewhat similar to the Python standard library **random** module but with functions that work for NumPy's arrays. It has many functions for creating arrays of random numbers from the various statisitical probability distributions along with functions for randomly sampling from arrays. \n",
    "\n",
    "NumPy's random module can also be used to simulate data. While csv data is commonly imported into NumPy for analysis (or into a package such as pandas that uses NumPy), it is often useful to be able to simulate data to analyse before the real data may be collected or available or to test machine learning algorithms.\n",
    "  \n",
    "A NumPy **ndarray** can be created using the NumPy `array` function which takes any sequence-like objects such as lists, nested lists etc but there are other NumPy functions that also create new arrays such as `zeros`, `ones`, `empty`, `arange`, `full` and `eye` among others as detailed in the [numpy quickstart tutorial](https://numpy.org/devdocs/user/quickstart.html). NumPy's **random** module also creates ndarray objects.\n",
    "\n",
    "Some key points about any of NumPy's ndarray objects which are relevant here are:\n",
    "- The data in an *ndarray* must be homogeneous, that is all of it's data elements must of the same type.\n",
    "- Arrays have a *ndim* attribute for the number of axes or dimensions of the array\n",
    "- Arrays have a *shape* attribute which is a tuple that indicates the size of the array in each dimension.\n",
    "  The length of the *shape* tupple is the number of axes that the array has. \n",
    "- Arrays have a *dtype* attribute which is an object that describes the data type of the array.\n",
    "- The `size` attribute is the total number of elements in the array.\n",
    "\n",
    "Python's standard library [random](https://docs.python.org/3/library/random.html) provides a number of tools for working with random numbers. However this `random` module only generates or samples one value at a time and iteration is required  for working with sequences of random numbers while on the other hand the `numpy.random`'s functions can efficiently generate arrays of sample values from various probability distributions rather than one value at a time. NumPy random  provides a much larger number of probability distributions to choose from than the stdlib **random** module.\n",
    "\n",
    "NumPy's random module is also much much faster and more efficient than python's random module for this purpose particularly when working with larger arrays.  NumPy's random module is used for generating random series of data rather than the scalar values generated by the python random module whereas the random module may be sufficient and more efficient for other simpler purposes.\n",
    "\n",
    "As well as being able to generate random sequnces, NumPy's random also has functions for randomly sampling elements from an array or sequence of elements, numbers or otherwise.\n",
    "\n",
    "Both Python's standard library **random** and **numpy.randon**  generate pseudorandom numbers rather than actual random numbers. Computer programs are deterministic because their operation is predictable and repeatable.  Computer programs produce outputs based on inputs and according to a set of predetermined steps or rules so therefore it would not be possible for a computer to generate truly random numbers.\n",
    "Both `random` modules implements **pseudorandom** numbers for various distributions. While they may appear random they are actually predetermined.\n",
    "\n",
    "According to [wolfram mathworld](http://mathworld.wolfram.com/RandomNumber.html) a **random number** \n",
    ">is a number chosen as if by chance from some specified distribution such that selection of a large set of these numbers reproduces the underlying distribution. Almost always, such numbers are also required to be independent, so that there are no correlations between successive numbers. Computer-generated random numbers are sometimes called pseudorandom numbers, while the term \"random\" is reserved for the output of unpredictable physical processes. When used without qualification, the word \"random\" usually means \"random with a uniform distribution.\" Other distributions are of course possible.\n",
    "\n",
    "Being able to randomly select elements has many uses in computer applications such as gaming. \n",
    "There are many computational and statistical methods that use random numbers and random sampling. \n",
    "The ability to generate sets of numbers from a particular probability distribution is also very useful for simulating a dataset, maybe in the absence of an actual dataset or for demonstrating or learning statistical and analytical concepts. Statistics and probability involve the concept of randomness and uncertainty. Monte carlo simulation uses random numbers to simulate real world problems. [Monte Carlo methods](https://en.m.wikipedia.org/wiki/Monte_Carlo_method), or Monte Carlo experiments, are a broad class of computational algorithms that rely on repeated random sampling to obtain numerical results. The underlying concept is to use randomness to solve problems that might be deterministic in principle.\n",
    "[Monte-carlo simulators](https://pythonprogramming.net/monte-carlo-simulator-python/) are often used to assess the risk of a given trading strategy say with options or stocks. A monte carlo simulator can help one visualize most or all of the potential outcomes to have a much better idea regarding the risk of a decision.\n",
    "\n",
    "Data Analytics and Machine learning projects frequently rely on creating random samples of a datasets for testing and evaluation purposes. \n",
    "A learning problem considers a set of samples of data and then tries to predict properties of unknown data. \n",
    "\n",
    "According to [scikit-learn](https://scikit-learn.org/stable/tutorial/basic/tutorial.html).\n",
    "> Machine learning is about learning some properties of a data set and then testing those properties against another data set. A common practice in machine learning is to evaluate an algorithm by splitting a data set into two. We call one of those sets the training set, on which we learn some properties; we call the other set the testing set, on which we test the learned properties.\n",
    "\n",
    "In machine learning, a dataset can be split into training and test set where the dataset is shuffled and a classifier is built with a randomly selected subset of the dataset and the classifier is then tested on the remaining subset of the data. A train-test split is used for model selection and cross validation purposes.\n",
    "\n",
    "The machine learning algorithms in the scikit-learn package use *numpy.random* in the background. There is a random element to the train_test split as it uses numpy random to randomly choose elements for the training array and the test array.\n",
    "With K-fold validation the original dataset is split into a training subset and a testing subset a few different times instead of a one-off.\n"
   ]
  },
  {
   "cell_type": "markdown",
   "metadata": {},
   "source": [
    "[Table of Contents](#toc)"
   ]
  },
  {
   "cell_type": "markdown",
   "metadata": {},
   "source": [
    "<a id=\"functions\"></a>\n",
    "# Task 2. Explain the use of the “Simple random data” and “Permutations” functions.\n",
    "\n",
    "The Numpy random module has several [simple random data](https://numpy.org/doc/1.16/reference/routines.random.html#simple-random-data) functions for random sampling of both discrete and continuous data from the uniform, normal or standard normal probability distributions and for randomly sampling from a sequence or set of elements. It also has two permutations function for shuffling arrays. These functions all return either arrays of random values or a scalar. The shape and size of the resulting array depend on the arguments provided to the functions. The size refers to the number of elements in the array and the shape to the size of each dimension of the array. As with numpy arrays in general, every row has the same number of elements and every columns has the same number of elements. There can be different number of rows as columns.\n",
    "\n",
    "For this assignment, I have separated the ten simple random data functions into groups according to the type of distribution they draw from and the type of number returned. Some of the functions appear to do the same thing.\n",
    "\n",
    "#### [Simple random data functions](#simple)\n",
    "- [Random samples of floats from the Normal and Standard Normal Distributions ](#randn)     \n",
    "- [Random Floating Numbers from the Continuous Uniform Distribution in `[0,1)` interval](#uniform01)  \n",
    "- [Random Floating Numbers from the Continuous Uniform Distribution  `Unif[a,b),b>a`](#uniform[a,b))  \n",
    "- [Random integers from the Discrete Uniform Distribution](#randint)  \n",
    "- [Generate a random sample from a given array of elements](#choice)  \n",
    "- [Generate a string of random bytes](#bytes)  \n",
    "\n",
    "#### [Permutations functions](#permutations)\n",
    "- [Modify a sequence in-place by shuffling it's contents](#shuffle)\n",
    "- [Randomly permute a sequence](#permutation)  \n",
    "\n",
    "Some of these simple random data functions are actually just variants of the distribution functions for the uniform and normal distributions which are covered in more detail in Task 3 below. \n",
    "\n",
    "In uniform distributions the samples are evenly spread out while normal distributions show central tendancy.\n",
    "***"
   ]
  },
  {
   "cell_type": "markdown",
   "metadata": {},
   "source": [
    "<a id='simple'></a>\n"
   ]
  },
  {
   "cell_type": "markdown",
   "metadata": {},
   "source": [
    "\n",
    "### Simple random data function for randomly sampling from the Standard Normal Distribution ($N (0,1)$)\n",
    "<a id='randn'></a>\n",
    "The **`numpy.random.randn()`** function will return a sample (or samples) of random values from the **standard normal distribution** (also known as the univariate normal Gaussian distribution) of mean 0 and variance (and standard deviation) of 1.   \n",
    "The values returned are floats. The number of floats and the shape of the arrays are determined by the arguments provided. \n",
    "A single float randomly sampled from the distribution is returned if no argument is provided.   \n",
    "\n",
    "The **`numpy.random.randn()`** is actually a convenience function **`numpy.random.standard_normal`** function which is used to draw samples from a **Standard Normal distribution** (mean=0, stdev=1). The only difference I can see is that the `numpy.random.standard_normal` takes a tuple for the dimensions.\n",
    "\n",
    "You can also get random samples from other normal distributions with a specified mean and variance $N(\\mu, \\sigma^2)$ by scaling the values. This is done by multiplying the values by $\\sigma$ and adding $\\mu$. The standard deviation $\\sigma$ is the square root of the variance $\\sigma^2$. However this is more easily done using the [numpy.random.standard_normal](#standard_normal) which is covered in more detail in [Task 3](#task3)."
   ]
  },
  {
   "cell_type": "markdown",
   "metadata": {},
   "source": [
    "### Example of using `numpy.random.randn` function.\n",
    "Here I will create various sized arrays using `numpy.random.randn` function.\n",
    "\n",
    "Without specifying the size a single float value will be returned. The arguments can only be positive integers.\n",
    "If two arguments are provided then the returned ndarray will have two dimensions. The number of elements ort the size of the returned array will be the product of these two values.\n",
    "\n",
    "I have written a small function below to print the array attributes rather than repeating myself over and over!\n",
    "I will use my function `arrayinfo` to print the resulting arrays with their dimensions.\n"
   ]
  },
  {
   "cell_type": "code",
   "execution_count": 2,
   "metadata": {},
   "outputs": [],
   "source": [
    "def arrayinfo(myarray):  # pass the array to the function to print the attributes\n",
    "    \"\"\"print the attributes of the numpy array passed to this function\"\"\"\n",
    "    \n",
    "    print(f\"A {myarray.ndim} dimensional array, with a total number of {myarray.size} {myarray.dtype} elements in  a{myarray.shape} shape \")\n",
    "    print('The values sampled range from the smallest value of %.3f, to the largest value of %.3f' % (np.min(myarray),np.max(myarray)))\n",
    "    print('The mean of the samples is %.3f, Standard Deviation is %.3f, and Variance is %.3f' % (np.mean(myarray), np.std(myarray), np.var(myarray)))\n",
    "    print('\\n',myarray)\n",
    "    print('\\n')\n",
    "    #return myarray  # don't want to print it out"
   ]
  },
  {
   "cell_type": "code",
   "execution_count": 3,
   "metadata": {},
   "outputs": [
    {
     "name": "stdout",
     "output_type": "stream",
     "text": [
      "A 1 dimensional array, with a total number of 10 float64 elements in  a(10,) shape \n",
      "The values sampled range from the smallest value of -1.617, to the largest value of 2.108\n",
      "The mean of the samples is 0.263, Standard Deviation is 1.289, and Variance is 1.661\n",
      "\n",
      " [-0.9133  1.0224  0.1551 ... -1.617  -1.534  -0.4738]\n",
      "\n",
      "\n",
      "A 2 dimensional array, with a total number of 15 float64 elements in  a(5, 3) shape \n",
      "The values sampled range from the smallest value of -1.680, to the largest value of 1.382\n",
      "The mean of the samples is -0.171, Standard Deviation is 0.933, and Variance is 0.871\n",
      "\n",
      " [[ 0.3059 -0.4587  0.1844]\n",
      " [-1.0317 -1.1765  0.6533]\n",
      " [-1.0311 -0.9259 -0.03  ]\n",
      " [ 1.3816 -1.0438  0.9847]\n",
      " [ 0.05   -1.6805  1.2528]]\n",
      "\n",
      "\n",
      "A 3 dimensional array, with a total number of 8 float64 elements in  a(2, 2, 2) shape \n",
      "The values sampled range from the smallest value of -1.646, to the largest value of 1.183\n",
      "The mean of the samples is 0.356, Standard Deviation is 0.818, and Variance is 0.669\n",
      "\n",
      " [[[ 0.2793  0.5255]\n",
      "  [ 1.0191  0.7423]]\n",
      "\n",
      " [[-1.6457  0.236 ]\n",
      "  [ 1.1835  0.5083]]]\n",
      "\n",
      "\n"
     ]
    }
   ],
   "source": [
    "arrayinfo(np.random.randn(10))  # creates a one dimensional array of 10 values\n",
    "#arrayinfo(np.random.randn(3,2)) # a 3 by 2 array of samples from standard normal distribution. This will have 3 times 2 value\n",
    "arrayinfo(np.random.randn(5,3))# a 5 by 3 array with 15 values\n",
    "arrayinfo(np.random.randn(2,2,2)) # a 3D array containing 2*2*2 = 8 values\n",
    "#arrayinfo(np.random.randn(2,2,2,2)) # a 4D array containing 2*2*2*2 = 16 values\n"
   ]
  },
  {
   "cell_type": "markdown",
   "metadata": {},
   "source": [
    "  \n",
    "### Randomly sampling from the $N(\\mu, \\sigma^2)$ Distribution\n",
    "You can get random samples from a normal distribution with a mean $\\mu$ and variance $\\sigma^2$ for a $N(\\mu, \\sigma^2)$ distribution by scaling the values from the `numpy.random.randn` function. Multiply the values by $\\sigma$ and add $\\mu$.   \n"
   ]
  },
  {
   "cell_type": "code",
   "execution_count": 4,
   "metadata": {},
   "outputs": [
    {
     "name": "stdout",
     "output_type": "stream",
     "text": [
      "A 2 dimensional array, with a total number of 8 float64 elements in  a(2, 4) shape \n",
      "The values sampled range from the smallest value of 0.329, to the largest value of 7.478\n",
      "The mean of the samples is 4.385, Standard Deviation is 2.325, and Variance is 5.404\n",
      "\n",
      " [[2.0281 5.2684 2.7046 6.9626]\n",
      " [4.8257 5.4865 0.3286 7.4782]]\n",
      "\n",
      "\n"
     ]
    },
    {
     "data": {
      "text/plain": [
       "array([[2.0281, 5.2684, 2.7046, 6.9626],\n",
       "       [4.8257, 5.4865, 0.3286, 7.4782]])"
      ]
     },
     "execution_count": 4,
     "metadata": {},
     "output_type": "execute_result"
    }
   ],
   "source": [
    "# A 2 by 4 array of samples from N(3, 6.25) distribution:  \n",
    "x = 2.5 * np.random.randn(2, 4) + 3\n",
    "\n",
    "arrayinfo(x)\n",
    "x"
   ]
  },
  {
   "cell_type": "markdown",
   "metadata": {},
   "source": [
    "The Python standard library `random` package has a `gauss()` function which is used to sample random floats from a gaussian distribution. Unlike the `numpy.random.randn()` or `numpy.numpy.random.standard_normal` you do need to supply the parameters here for the mean and the standard deviation of the distribution from which the random values will be drawn. Here I use a loop to generate the sequence of random numbers, unlike numpy.random function which is a one liner. "
   ]
  },
  {
   "cell_type": "code",
   "execution_count": 5,
   "metadata": {},
   "outputs": [
    {
     "name": "stdout",
     "output_type": "stream",
     "text": [
      "-0.498, 0.316, 1.251, 1.396, 1.43, -0.829, -0.726, 1.234, 2.393, 1.121\n"
     ]
    }
   ],
   "source": [
    "import random # import random module from python standard library\n",
    "myseq =[] # create an empty list\n",
    "for i in range(10):  ## use a loop to generate a sequence of random numbers\n",
    "    random_gauss = round(random.gauss(0,1),3) # mean is 0, standard deviation is 10\n",
    "    myseq.append(random_gauss)\n",
    "print(*myseq, sep = \", \") # print elements of the list without the brackets"
   ]
  },
  {
   "cell_type": "markdown",
   "metadata": {},
   "source": [
    "<a id='uniform01'></a>\n",
    "\n",
    "\n",
    "### Simple random data function for sampling from the continuous Uniform Distribution in the half-open interval $[0.0, 1.0)$\n",
    "\n",
    "The `numpy.random.rand` function generates floating point value(s) in an interval between a start and finish point where any single number is as likely to occur as any other number. There is uniform probability across the interval.\n",
    "In a uniform distribution, you would expect to see a rectangular shaped distribution as the sample size gets bigger with a line across the top, compared to the bell shaped curve of the normal distribution. The distribution is constant in the interval.\n",
    "\n",
    "To use this function you can simply pass positive integer(s) as arguments which determine the dimensions of the array. Without passing any arguments a single float is returned (similarly to the `random` function in the python *random* standard library). `numpy.random.rand` returns an array of floating point values (or a single random value) from a *uniform distribution* in the half-open interval $[0,1.)$ which means that the values returned can be any number from 0.0 up to 1.0 but not including 1.0. \n",
    "\n",
    "There are four other functions listed under the *Simple Random Data* function in numpy.random that according to the documentation also return random floats from the *continuous uniform* distribution in the half-open interval between 0.0 and 1.0. The inputs and outputs to these four `numpy.random` functions(`random_sample()`, `random()`,`ranf()` and `sample()`) appear to be the same for this interval and the examples in the numpy documentation actually use the `numpy.random.random_sample` function in all cases!  The only difference I noticed between the `rand` function and these four other functions is that `rand` takes integers directly as the arguments while the other 4 functions take a tuple when using multiple arguments.\n",
    "\n",
    "***\n",
    "The following are some of the properties of a continuous uniform distribution.\n",
    "- The continuous uniform distribution takes values in the specified range (a,b).   \n",
    "- The *standard uniform* distribution is where a is 0 and b is 1  \n",
    "- The expected value of the uniform distribution is $\\frac{b-a}{2}$ the midpoint of the interval.   \n",
    "- The variance $\\sigma^2$ is $\\frac{1}{12}(b-a)^2$ which is $\\frac{1}{12}$ \n",
    "- the standard deviation is the square root of the variance $\\sigma = \\frac{(b-a)^2}{12}$\n",
    "\n",
    "The expected value of the continuous uniform distribution in the interval between 0 and 1 is 0.5, the variance of the continuous uniform distribution in the interval between 0 and 1 is $\\frac{1}{12}$ and the standard deviation is $\\frac{1}{sqrt(12)}$\n",
    "\n",
    "The 4 numpy.random functions, `random_sample()`, `random()`,`ranf()` and `sample()`, functions sample from the continuous uniform distribution over the stated interval of $[0.0,1.0)$ but they can all also be used to sample from a continuous uniform distribution $Unif[a,b), b>a$ by multiplying the output by $(b-a)$ and adding $a$ to get $(b - a)$ * `random_sample()` + $a$.\n",
    "  \n"
   ]
  },
  {
   "cell_type": "markdown",
   "metadata": {},
   "source": [
    "  \n",
    "### Example of using `rand`, `random_sample`,`ranf`, `random` and `sample` functions.\n",
    "\n",
    "Now I will demonstrate using these functions to return samples from the continuous uniform distribution between 0.0 and 1.0.\n",
    "In doing so I can show the similarities in the outputs. When the functions are given the same size and shape arguments, and using the random seed function (as explained in Task 4) the exact same output is produced!"
   ]
  },
  {
   "cell_type": "code",
   "execution_count": 6,
   "metadata": {},
   "outputs": [
    {
     "name": "stdout",
     "output_type": "stream",
     "text": [
      "0.18388672794818228\n"
     ]
    },
    {
     "data": {
      "text/plain": [
       "array([[[0.4192, 0.819 ]],\n",
       "\n",
       "       [[0.7813, 0.3141]],\n",
       "\n",
       "       [[0.4637, 0.9328]],\n",
       "\n",
       "       [[0.3593, 0.0113]]])"
      ]
     },
     "execution_count": 6,
     "metadata": {},
     "output_type": "execute_result"
    }
   ],
   "source": [
    "print(np.random.rand() ) ## without any arguments, a scalar is returned\n",
    "np.random.rand(4,1,2)  # a 3 dimensional array, with a total number of 8 float64 elements in  a(4, 1, 2) shape"
   ]
  },
  {
   "cell_type": "code",
   "execution_count": 7,
   "metadata": {},
   "outputs": [
    {
     "data": {
      "text/plain": [
       "array([0.4111, 0.8862, 0.1499, ..., 0.8449, 0.2013, 0.6305])"
      ]
     },
     "execution_count": 7,
     "metadata": {},
     "output_type": "execute_result"
    }
   ],
   "source": [
    "np.random.rand(100)  # a 1-d array with 100 elements from uniform distribution"
   ]
  },
  {
   "cell_type": "code",
   "execution_count": 8,
   "metadata": {},
   "outputs": [
    {
     "name": "stdout",
     "output_type": "stream",
     "text": [
      "A 2 dimensional array, with a total number of 6 float64 elements in  a(3, 2) shape \n",
      "The values sampled range from the smallest value of 0.105, to the largest value of 0.835\n",
      "The mean of the samples is 0.407, Standard Deviation is 0.255, and Variance is 0.065\n",
      "\n",
      " [[0.1922 0.8347]\n",
      " [0.1054 0.39  ]\n",
      " [0.6388 0.2824]]\n",
      "\n",
      "\n",
      "A 4 dimensional array, with a total number of 24 float64 elements in  a(1, 2, 3, 4) shape \n",
      "The values sampled range from the smallest value of 0.005, to the largest value of 0.990\n",
      "The mean of the samples is 0.532, Standard Deviation is 0.339, and Variance is 0.115\n",
      "\n",
      " [[[[0.6491 0.99   0.2311 0.6039]\n",
      "   [0.8272 0.8986 0.1127 0.4725]\n",
      "   [0.7591 0.0793 0.7848 0.7491]]\n",
      "\n",
      "  [[0.8278 0.0651 0.9305 0.2022]\n",
      "   [0.627  0.8592 0.2377 0.1521]\n",
      "   [0.7254 0.0055 0.9503 0.0173]]]]\n",
      "\n",
      "\n"
     ]
    }
   ],
   "source": [
    "x =np.random.rand(3,2) ##a 2-d array with 6 elements from uniform distribution\n",
    "arrayinfo(x)\n",
    "\n",
    "x =np.random.rand(1,2,3,4) # a 4 dimensional array with 24 elements from the uniform distribution\n",
    "arrayinfo(x)"
   ]
  },
  {
   "cell_type": "markdown",
   "metadata": {},
   "source": [
    "Here I set the size parameter as a single integer 10 and use the four functions mentioned to randomly sample 10 floats from the continuous uniform distribution in the $[0.0,1.0)$ interval.  In each case a one-dimensional array of 10 floats is returned. Using `numpy.random.seed` will generate the same random samples each time."
   ]
  },
  {
   "cell_type": "code",
   "execution_count": 9,
   "metadata": {},
   "outputs": [
    {
     "data": {
      "text/plain": [
       "array([0.417 , 0.7203, 0.0001, ..., 0.3456, 0.3968, 0.5388])"
      ]
     },
     "execution_count": 9,
     "metadata": {},
     "output_type": "execute_result"
    }
   ],
   "source": [
    "np.random.seed(1)\n",
    "np.random.random_sample(10) # numpy.random_sample to return 10 random floats in the half-open interval `[0.0, 1.0)`.s"
   ]
  },
  {
   "cell_type": "code",
   "execution_count": 10,
   "metadata": {},
   "outputs": [
    {
     "data": {
      "text/plain": [
       "array([0.417 , 0.7203, 0.0001, ..., 0.3456, 0.3968, 0.5388])"
      ]
     },
     "execution_count": 10,
     "metadata": {},
     "output_type": "execute_result"
    }
   ],
   "source": [
    "np.random.seed(1)\n",
    "np.random.random(10) # numpy.random.random to return 10 random floats in the half-open interval `[0.0, 1.0)`."
   ]
  },
  {
   "cell_type": "code",
   "execution_count": 11,
   "metadata": {},
   "outputs": [
    {
     "data": {
      "text/plain": [
       "array([0.417 , 0.7203, 0.0001, ..., 0.3456, 0.3968, 0.5388])"
      ]
     },
     "execution_count": 11,
     "metadata": {},
     "output_type": "execute_result"
    }
   ],
   "source": [
    "np.random.seed(1)\n",
    "np.random.ranf(10) # numpy.random.ranf to return 10 random floats in the half-open interval `[0.0, 1.0)`."
   ]
  },
  {
   "cell_type": "code",
   "execution_count": 12,
   "metadata": {},
   "outputs": [
    {
     "data": {
      "text/plain": [
       "array([0.417 , 0.7203, 0.0001, ..., 0.3456, 0.3968, 0.5388])"
      ]
     },
     "execution_count": 12,
     "metadata": {},
     "output_type": "execute_result"
    }
   ],
   "source": [
    "np.random.seed(1)\n",
    "np.random.sample(10) # numpy.random.sample to return 10 random floats in the half-open interval `[0.0, 1.0)`."
   ]
  },
  {
   "cell_type": "markdown",
   "metadata": {},
   "source": [
    "Now by providing a tuple with 2 integer arguments will give a two-dimensional array, a tuple with 3 arguments will return a 3-dimensional array and so on. The number of samples returned is the product of the integer arguments."
   ]
  },
  {
   "cell_type": "markdown",
   "metadata": {},
   "source": [
    "  \n",
    "### Random samples from the continuous uniform distribution in $[0.0,1.0)$ interval and some statistics.\n",
    "\n",
    "Here I again use my `arrayinfo` function to print the attributes of the arrays of samples rather than printing all the samples returned. \n",
    "I also show the statistics for each set of samples returned from each function.   \n",
    "When using the same random seed will result in the identical random samples and statistics for the samples.\n",
    "\n",
    "Without setting a seed, the actual random samples generated would be different as a different sample is selected each time, but their means, variances and standard deviations should be very similar as will be outlined in the Distributions section below for task 3.\n",
    "\n",
    "The expected value of the uniform distribution is $\\frac{b-a}{2}$, the midpoint of the interval so the expected value of the continuous uniform distribution in the interval between 0 and 1 is $0.5$ while the variance is $\\frac{1}{12}$ and the standard deviation is  $\\frac{1}{sqrt(12)}$.\n",
    "For smaller samples the statistics may not be the exact 0.5, 1/12 and 1/sqrt(12) but as the sample size gets bigger then this is what you would expect from a continuous uniform distribution. "
   ]
  },
  {
   "cell_type": "code",
   "execution_count": 13,
   "metadata": {},
   "outputs": [
    {
     "name": "stdout",
     "output_type": "stream",
     "text": [
      "The expected value is 0.5\n",
      "The variance is 0.08333333333333333\n",
      "The standard deviation is 0.2886751345948129\n"
     ]
    }
   ],
   "source": [
    "a,b =0,1\n",
    "print(\"The expected value is\",(a+b)/2)\n",
    "print(\"The variance is\", ((b-a)**2)/12)\n",
    "print(\"The standard deviation is\",(b-a)/(np.sqrt(12)))"
   ]
  },
  {
   "cell_type": "markdown",
   "metadata": {},
   "source": [
    "```\n",
    "np.random.seed(1)\n",
    "arrayinfo(np.random.rand(1000,5))\n",
    "np.random.seed(1)\n",
    "arrayinfo(np.random.sample((1000,5)))\n",
    "np.random.seed(1)\n",
    "arrayinfo(np.random.random_sample((1000,5)))\n",
    "np.random.seed(1)\n",
    "arrayinfo(np.random.ranf((1000,5)))\n",
    "np.random.seed(1)\n",
    "arrayinfo(np.random.sample((1000,5)))\n",
    "```"
   ]
  },
  {
   "cell_type": "markdown",
   "metadata": {},
   "source": [
    "<a id= \"continuous_uniform[a,b)\"></a>\n",
    "  \n",
    "### Randomly sampling from the continuous uniform distribution:   $Unif[a, b), b > a$ \n",
    "\n",
    "The 4 functions just mentioned above can also be used to sample from a continuous uniform distribution over a different interval other than $[0.0,1.0)$. \n",
    "\n",
    "To sample from $Unif[a, b), b > a$  you simply multiply the output of `random_sample` function by $(b-a)$ and add a:  \n",
    "`(b - a) * random_sample() + a`\n",
    " \n",
    " For example, to get a 3 by 2 array of random numbers from the uniform distribution over the interval $[-5, 0)$ where a is -5 and b is 0,\n",
    " use `5 * np.random.random_sample((3, 2)) - 5`"
   ]
  },
  {
   "cell_type": "code",
   "execution_count": 15,
   "metadata": {},
   "outputs": [
    {
     "name": "stdout",
     "output_type": "stream",
     "text": [
      "A 2 dimensional array, with a total number of 400 float64 elements in  a(100, 4) shape \n",
      "The values sampled range from the smallest value of -3.998, to the largest value of -0.007\n",
      "The mean of the samples is -2.000, Standard Deviation is 1.150, and Variance is 1.323\n",
      "\n",
      " [[-1.285  -0.9432 -3.8711 -0.0709]\n",
      " [-3.6347 -1.5437 -3.4026 -1.9168]\n",
      " [-3.6266 -0.8752 -0.9083 -1.6074]\n",
      " ...\n",
      " [-0.8655 -3.6473 -2.5772 -2.8012]\n",
      " [-1.724  -1.9594 -0.8715 -3.2518]\n",
      " [-1.694  -1.4225 -2.1605 -1.7681]]\n",
      "\n",
      "\n",
      "b-a = 4 , a = -4\n",
      "The expected value is the midpoint of a and b which is -2.0\n",
      "The variance is 1.3333333333333333\n",
      "The standard deviation is 1.1547005383792517\n"
     ]
    }
   ],
   "source": [
    "\n",
    "\n",
    "x = 4 * np.random.random_sample((100, 4)) - 4 # returns a 100-by-4 array of random numbers from [-4, 0). \n",
    "\n",
    "arrayinfo(x)\n",
    "\n",
    "a,b =-4,0\n",
    "print(\"b-a =\",b-a, \", a =\",a)\n",
    "print(\"The expected value is the midpoint of a and b which is\",(a+b)/2)\n",
    "print(\"The variance is\", ((b-a)**2)/12)\n",
    "print(\"The standard deviation is\",(b-a)/(np.sqrt(12)))"
   ]
  },
  {
   "cell_type": "markdown",
   "metadata": {},
   "source": [
    "The four functions `np.random.random_sample`, `np.random.random`, `np.random.ranf` and `np.random.sample` all appear to again return the exact same results as each other when using the same size arguments and the same intervals. This is shown by using the `numpy.random.seed` function to set the seed to get the same pseudo random numbers generated. See Section 4."
   ]
  },
  {
   "cell_type": "markdown",
   "metadata": {},
   "source": [
    "Using numpy.random **random_sample** and **random** functions to sample from $Unif[-4,0)$"
   ]
  },
  {
   "cell_type": "code",
   "execution_count": 16,
   "metadata": {},
   "outputs": [
    {
     "name": "stdout",
     "output_type": "stream",
     "text": [
      "b-a = 4 , a = -4\n",
      "A 2 dimensional array, with a total number of 30 float64 elements in  a(10, 3) shape \n",
      "The values sampled range from the smallest value of -4.000, to the largest value of -0.127\n",
      "The mean of the samples is -2.258, Standard Deviation is 1.203, and Variance is 1.448\n",
      "\n",
      " [[-2.3319 -1.1187 -3.9995]\n",
      " [-2.7907 -3.413  -3.6306]\n",
      " [-3.255  -2.6178 -2.4129]\n",
      " ...\n",
      " [-0.127  -2.7463 -1.2307]\n",
      " [-0.4944 -0.4216 -3.6598]\n",
      " [-3.8438 -3.3207 -0.4874]]\n",
      "\n",
      "\n",
      "A 2 dimensional array, with a total number of 30 float64 elements in  a(10, 3) shape \n",
      "The values sampled range from the smallest value of -4.000, to the largest value of -0.127\n",
      "The mean of the samples is -2.258, Standard Deviation is 1.203, and Variance is 1.448\n",
      "\n",
      " [[-2.3319 -1.1187 -3.9995]\n",
      " [-2.7907 -3.413  -3.6306]\n",
      " [-3.255  -2.6178 -2.4129]\n",
      " ...\n",
      " [-0.127  -2.7463 -1.2307]\n",
      " [-0.4944 -0.4216 -3.6598]\n",
      " [-3.8438 -3.3207 -0.4874]]\n",
      "\n",
      "\n"
     ]
    }
   ],
   "source": [
    "a,b = -4,0\n",
    "print(\"b-a =\",b-a, \", a =\",a)\n",
    "np.random.seed(1)\n",
    "arrayinfo((b-a) * np.random.random_sample((10, 3)) +a )# returns a 10-by-3 array of random numbers from [-4, 0).\n",
    "np.random.seed(1)\n",
    "arrayinfo((b-a) * np.random.random((10, 3)) +a )# returns a 10-by-3 array of random numbers from [-4, 0). \n"
   ]
  },
  {
   "cell_type": "markdown",
   "metadata": {},
   "source": [
    "Using numpy.random **random_sample** and **random** functions with same parameters"
   ]
  },
  {
   "cell_type": "code",
   "execution_count": 17,
   "metadata": {},
   "outputs": [
    {
     "name": "stdout",
     "output_type": "stream",
     "text": [
      "b-a = 6 , a = 2\n",
      "A 2 dimensional array, with a total number of 30 float64 elements in  a(10, 3) shape \n",
      "The values sampled range from the smallest value of 2.001, to the largest value of 7.810\n",
      "The mean of the samples is 4.613, Standard Deviation is 1.805, and Variance is 3.258\n",
      "\n",
      " [[4.5021 6.3219 2.0007]\n",
      " [3.814  2.8805 2.554 ]\n",
      " [3.1176 4.0734 4.3806]\n",
      " ...\n",
      " [7.8096 3.8805 6.1539]\n",
      " [7.2583 7.3676 2.5103]\n",
      " [2.2343 3.019  7.2689]]\n",
      "\n",
      "\n",
      "A 2 dimensional array, with a total number of 30 float64 elements in  a(10, 3) shape \n",
      "The values sampled range from the smallest value of 2.001, to the largest value of 7.810\n",
      "The mean of the samples is 4.613, Standard Deviation is 1.805, and Variance is 3.258\n",
      "\n",
      " [[4.5021 6.3219 2.0007]\n",
      " [3.814  2.8805 2.554 ]\n",
      " [3.1176 4.0734 4.3806]\n",
      " ...\n",
      " [7.8096 3.8805 6.1539]\n",
      " [7.2583 7.3676 2.5103]\n",
      " [2.2343 3.019  7.2689]]\n",
      "\n",
      "\n"
     ]
    }
   ],
   "source": [
    "a,b = 2,8\n",
    "print(\"b-a =\",b-a, \", a =\",a)\n",
    "np.random.seed(1)\n",
    "arrayinfo((b-a) * np.random.ranf((10, 3)) +a) # returns a 3-by-2 array of random numbers from [-4, 0). \n",
    "np.random.seed(1)\n",
    "arrayinfo((b-a) * np.random.sample((10, 3))+a) # returns a 3-by-2 array of random numbers from [-4, 0).\n",
    "\n"
   ]
  },
  {
   "cell_type": "markdown",
   "metadata": {},
   "source": [
    "\n",
    "<a id='randint'></a>\n",
    "  \n",
    "### Simple random data function for sampling of random integers from the Discrete Uniform Distribution\n",
    "\n",
    "#### The [numpy.random.randint()](https://docs.scipy.org/doc/numpy-1.16.1/reference/generated/numpy.random.randint.html#numpy-random-randint) function.  \n",
    "\n",
    "The `numpy.random.randint(low, high=None, size=None, dtype='l')` function returns random integers from the **discrete uniform distribution** in the interval from low (inclusive) to high (exclusive). ($[low, high)$).\n",
    "\n",
    "\n",
    "The *discrete uniform* distribution is a very simple probability distribution that can only take on a finite set of possible values. `numpy.random.randint()`is used to generate an array of random integers from an interval where all the integers in the interval have uniform probability. It is similar in use to the continuous uniform random functions mentioned earlier but for integers.\n",
    "\n",
    "There are four possible parameters you can give to this function but at least one is required.  Size, for the number of random numbers to sample is the key word argument and can be a single integer or a tuple for higher dimensional arrays.\n",
    "\n",
    "If only one parameter is entered, this is taken to be the upper end of the range (exclusive) and a single random integer is returned in the range from 0 up to the number supplied so `np.random.randint(10)` samples a single integer from 0 up to an including 9.  When a second value is supplied to the function, the first is treated as the low range parameter and the second is treated as the high range parameter so `np.random.randint(5,10)` would output a single integer between 5 inclusive and 9.  These two arguments together specify the range of values that could possibly be drawn. \n",
    "\n",
    "\n",
    "The optional `dtype` parameter determines the dtype of the integers in the resulting array but is not usually required as the default value is `np.int` \n",
    "\n",
    "Note that the `numpy.random.random_integers` function is similar to `numpy.random.randint` but it is now deprecated. It used a closed interval [low, high] with 1 being the lowest value if high is omitted and was used to generate uniformly distributed discrete non-integers. The manual advises to use `numpy.random.randint` instead but by adding 1 to high to get a closed interval.\n",
    "\n",
    "`np.random.random_integers(5)` results in the following message:\n",
    "> DeprecationWarning: This function is deprecated. Please call randint(1, 5 + 1) instead\n",
    "\n"
   ]
  },
  {
   "cell_type": "code",
   "execution_count": 18,
   "metadata": {},
   "outputs": [
    {
     "name": "stdout",
     "output_type": "stream",
     "text": [
      "[[ 7  3  6 17]\n",
      " [ 3  4 17 11]]\n"
     ]
    }
   ],
   "source": [
    "x = np.random.randint(20, size=(2,4)) # a 2-dimensional array with 4 times 2 = 8 values from range of 0 to 19\n",
    "print(x)"
   ]
  },
  {
   "cell_type": "code",
   "execution_count": 19,
   "metadata": {},
   "outputs": [
    {
     "data": {
      "text/plain": [
       "array([9, 7, 9])"
      ]
     },
     "execution_count": 19,
     "metadata": {},
     "output_type": "execute_result"
    }
   ],
   "source": [
    "np.random.randint(5,10,3) # a 1-d array with 3 values from the range [5,10)"
   ]
  },
  {
   "cell_type": "code",
   "execution_count": 20,
   "metadata": {},
   "outputs": [
    {
     "data": {
      "text/plain": [
       "array([[5, 8, 6],\n",
       "       [7, 5, 9],\n",
       "       [6, 7, 7],\n",
       "       [6, 5, 6]])"
      ]
     },
     "execution_count": 20,
     "metadata": {},
     "output_type": "execute_result"
    }
   ],
   "source": [
    "np.random.randint(5,10,(4,3)) # a 2-d array  with 4 by 3 values in range [5,10)"
   ]
  },
  {
   "cell_type": "code",
   "execution_count": 21,
   "metadata": {},
   "outputs": [
    {
     "data": {
      "text/plain": [
       "array([[[ 3,  7, 23,  4],\n",
       "        [ 5, 25, 19,  6],\n",
       "        [ 8,  0,  2, 10]],\n",
       "\n",
       "       [[23, 15, 15, 23],\n",
       "        [25,  7, 19, 10],\n",
       "        [14,  0, 24, 23]]])"
      ]
     },
     "execution_count": 21,
     "metadata": {},
     "output_type": "execute_result"
    }
   ],
   "source": [
    "np.random.randint(0,27,(2,3,4)) # a 3-d array with 24 values from range [0,27)"
   ]
  },
  {
   "cell_type": "code",
   "execution_count": 22,
   "metadata": {},
   "outputs": [
    {
     "data": {
      "text/plain": [
       "6"
      ]
     },
     "execution_count": 22,
     "metadata": {},
     "output_type": "execute_result"
    }
   ],
   "source": [
    "np.random.randint(5,10) # a single value in the interval [5,10)"
   ]
  },
  {
   "cell_type": "code",
   "execution_count": 23,
   "metadata": {},
   "outputs": [
    {
     "data": {
      "text/plain": [
       "array([[[1, 3, 0, 0],\n",
       "        [4, 2, 4, 3],\n",
       "        [3, 0, 3, 4]],\n",
       "\n",
       "       [[3, 4, 4, 4],\n",
       "        [1, 0, 4, 2],\n",
       "        [0, 2, 4, 1]]])"
      ]
     },
     "execution_count": 23,
     "metadata": {},
     "output_type": "execute_result"
    }
   ],
   "source": [
    "np.random.randint(5, size=(2, 3, 4)) # Generate a 3 dimensional array of  24 integers"
   ]
  },
  {
   "cell_type": "markdown",
   "metadata": {},
   "source": [
    "`np.random.random_integers(5)` results in the following message:\n",
    "> DeprecationWarning: This function is deprecated. Please call randint(1, 5 + 1) instead\n"
   ]
  },
  {
   "cell_type": "markdown",
   "metadata": {},
   "source": [
    "***\n",
    "<a id =\"choice\"></a>\n",
    "\n",
    "### Randomly sampling from a given array.\n",
    "\n",
    "The [numpy.random.choice(a, size=None, replace=True, p=None)](https://numpy.org/doc/1.16/reference/generated/numpy.random.choice.html#numpy-random-choice) function generates a random sample from a given 1-D array. It differs to the other numpy.random simple random data functions mentioned above in that instead of randomly sampling from a uniform or normal distribution, it randomly samples from an array that you provide to it.  It can also be somewhat similar to the `numpy.random.permutation` function depending on its use.\n",
    "\n",
    "This function therefore requires an array from which to sample. This array can be created by the function using numpy's `arange` function if you simply provide an integer. \n",
    "Again, the number of elements sampled depends on the size you specify, otherwise just a single value is returned.\n",
    "\n",
    "There are various methods of sampling random elements from an array in general. **With replacement** means the elements drawn would be placed back in and could be selected again whereas **without replacement** means that once a element is chosen, it can no longer be chosen again in the same sample as it is not placed back in the pot. In this way there can be no duplicates as elements cannot be selected again in the same sample. \n",
    "\n",
    "The `numpy.random.choice` function defaults to using the **with replacement** sampling method but you can specify that the random sample is without replacement so that the same element cannot be chosen again.\n",
    "\n",
    "You can also provide the probabiities for each element of the input array but otherwise a uniform distribution over all the elements is assumed where each elements is equally likely to be chosen. \n",
    "By providing the `p` probabilites, a non-uniform random sample is generated. The number of probabilities should always equal the size parameter and the total probabilities must sum to 1.0, otherwise an error results.\n",
    "\n",
    "The `numpy.random.choice` function can also be used on an array of elements other than integers. It is somewhat similar to the `choice()` function in the python **random** standard library which randomly select items from a list. "
   ]
  },
  {
   "cell_type": "markdown",
   "metadata": {},
   "source": [
    "### Examples of randomly sampling from array using `numpy.random.choice` function."
   ]
  },
  {
   "cell_type": "markdown",
   "metadata": {},
   "source": [
    "#### Randomly select from an array of integers created by the function itself"
   ]
  },
  {
   "cell_type": "code",
   "execution_count": 24,
   "metadata": {},
   "outputs": [
    {
     "data": {
      "text/plain": [
       "array([92, 20, 32, ..., 97,  2, 92])"
      ]
     },
     "execution_count": 24,
     "metadata": {},
     "output_type": "execute_result"
    }
   ],
   "source": [
    "np.random.choice(10) # select a single element from an array created from np.arange(10)\n",
    "np.random.choice(5, 3)  # select 3 elements from an array of integers from 0 up to but not including 5\n",
    "np.random.choice(100, 12) #  select 12 elements from an array from 0 to 99 inclusive."
   ]
  },
  {
   "cell_type": "markdown",
   "metadata": {},
   "source": [
    "#### *With replacement* vs *without replacement*.\n",
    "\n",
    "Demonstrating that setting with replacement to false means an element cannot be chosen twice.\n",
    "\n",
    "Here I generate 4 samples from an array with replacement using a for loop in case it is not evident in the first sample. \n",
    "Then setting `replace = False` and observing that the same element is never repeated in the output array. Note that using *without replacement* means you cannot sample more elements than the number of elements in the array you are sampling. "
   ]
  },
  {
   "cell_type": "code",
   "execution_count": 25,
   "metadata": {},
   "outputs": [
    {
     "name": "stdout",
     "output_type": "stream",
     "text": [
      "With replacement\n",
      "[7 2 6 0 9 2]\n",
      "[6 6 2 7 7 0]\n",
      "[6 5 1 4 6 0]\n",
      "[6 5 1 2 1 5]\n",
      "\n",
      " Without replacement\n",
      "[2 3 6 9 1 8]\n",
      "[0 8 2 9 7 4]\n",
      "[5 7 0 6 4 2]\n",
      "[3 7 2 4 6 0]\n"
     ]
    }
   ],
   "source": [
    "print(\"With replacement\")\n",
    "for i in range(4):\n",
    "    x = np.random.choice(10, 6) # sample 6 elements from the array\n",
    "    print(x)\n",
    "    \n",
    "print(\"\\n Without replacement\")\n",
    "# Then set replace = False and observing that the same element is never repeated in the same array. \n",
    "for i in range(4):\n",
    "    x = np.random.choice(10, 6, replace = False) # sample 6 elements from the array \n",
    "    print(x)\n"
   ]
  },
  {
   "cell_type": "markdown",
   "metadata": {},
   "source": [
    "#### sampling from arrays containing other data types\n",
    "The `numpy.random.choice` function can also be used to sample from array of other types of elements.\n",
    "To show this I will create an array with a list of letters from which to randomly sample elements."
   ]
  },
  {
   "cell_type": "code",
   "execution_count": 26,
   "metadata": {},
   "outputs": [],
   "source": [
    "import string  # import string module from standard library\n",
    "letters_lower =np.array(list(string.ascii_lowercase)) # create an array of lowercase letters"
   ]
  },
  {
   "cell_type": "code",
   "execution_count": 27,
   "metadata": {},
   "outputs": [
    {
     "data": {
      "text/plain": [
       "array(['d', 'u', 'c', 'o'], dtype='<U1')"
      ]
     },
     "execution_count": 27,
     "metadata": {},
     "output_type": "execute_result"
    }
   ],
   "source": [
    "np.random.choice(letters_lower, 4) # randomly select 4 elements with equal probability"
   ]
  },
  {
   "cell_type": "markdown",
   "metadata": {},
   "source": [
    "#### sampling from an array of letters with defined probabilities with replacement"
   ]
  },
  {
   "cell_type": "code",
   "execution_count": 28,
   "metadata": {},
   "outputs": [
    {
     "data": {
      "text/plain": [
       "array(['d', 'a', 'e', 'b', 'e'], dtype='<U1')"
      ]
     },
     "execution_count": 28,
     "metadata": {},
     "output_type": "execute_result"
    }
   ],
   "source": [
    "np.random.choice(['a','b','c','d','e','f'], 5, p=[0.2, 0.15, 0.15, 0.3, 0.1, 0.1]) # selecting from an array of non-integers"
   ]
  },
  {
   "cell_type": "markdown",
   "metadata": {},
   "source": [
    "#### sampling from an array of letters with defined probabilities and without replacement"
   ]
  },
  {
   "cell_type": "code",
   "execution_count": 29,
   "metadata": {},
   "outputs": [
    {
     "data": {
      "text/plain": [
       "array(['c', 'e', 'd', 'a', 'b'], dtype='<U1')"
      ]
     },
     "execution_count": 29,
     "metadata": {},
     "output_type": "execute_result"
    }
   ],
   "source": [
    "np.random.choice(['a','b','c','d','e','f'], 5, p=[0.2, 0.15, 0.15, 0.3, 0.1, 0.1], replace = False)"
   ]
  },
  {
   "cell_type": "markdown",
   "metadata": {},
   "source": [
    "\n",
    "<a id=\"bytes\"></a>\n",
    "  \n",
    "### Return a string of random bytes using `numpy.random.bytes` function\n",
    "\n",
    "The [numpy.random.bytes(length)](https://numpy.org/doc/1.16/reference/generated/numpy.random.bytes.html#numpy.random.bytes) function returns a string of random bytes. The length of the string must be provided to the `numpy.random.bytes` function.\n",
    "\n",
    "This function returns a [Bytes objects](https://docs.python.org/3/library/stdtypes.html?highlight=bytes#bytes-objects) which according to the python docs are *are immutable sequences of single bytes. Since many major binary protocols are based on the ASCII text encoding, bytes objects offer several methods that are only valid when working with ASCII compatible data and are closely related to string objects in a variety of other ways.*\n",
    "\n",
    "A bytes object is displayed as a sequence of bytes between quotes and preceded by 'b' or 'B'. \n",
    "\n",
    "Bytes literals are always prefixed with 'b' or 'B'; they produce an instance of the bytes type instead of the str type. They may only contain ASCII characters; bytes with a numeric value of 128 or greater must be expressed with escapes.\n",
    "\n",
    "\n",
    "One byte is a memory location with a size of 8 bits. A bytes object is an immutable sequence of bytes, conceptually similar to a string.\n",
    "\n",
    ">The bytes object is important because data written to disk is written as a stream of bytes, and because integers and strings are sequences of bytes. How the sequence of bytes is interpreted or displayed makes it an integer or a string.\n",
    "https://en.wikiversity.org/wiki/Python_Concepts/Bytes_objects_and_Bytearrays\n"
   ]
  },
  {
   "cell_type": "code",
   "execution_count": 30,
   "metadata": {},
   "outputs": [
    {
     "name": "stdout",
     "output_type": "stream",
     "text": [
      "b'm\\xc0g'\n",
      "b'c\\xd6\\x99\\xea'\n",
      "<class 'bytes'>\n",
      "<class 'bytes'>\n"
     ]
    }
   ],
   "source": [
    "a = np.random.bytes(1)\n",
    "b = np.random.bytes(2)\n",
    "print(np.random.bytes(3))\n",
    "print(np.random.bytes(4))\n",
    "print(type(a))\n",
    "print(type(b))\n"
   ]
  },
  {
   "cell_type": "code",
   "execution_count": 31,
   "metadata": {},
   "outputs": [
    {
     "data": {
      "text/plain": [
       "b' \\xbc\\x84'"
      ]
     },
     "execution_count": 31,
     "metadata": {},
     "output_type": "execute_result"
    }
   ],
   "source": [
    "\n",
    "bytes(3) # produces an empty sequence of 3 bytes\n",
    "np.random.bytes(3)"
   ]
  },
  {
   "cell_type": "markdown",
   "metadata": {},
   "source": [
    "<a id=\"permutations\"></a>\n",
    "  \n",
    "  \n",
    "### Permutations functions\n",
    "\n",
    "There are two permutations functions in the `numpy.random` package. \n",
    "\n",
    "- `numpy.random.shuffle(x)` is used to modify a sequence in-place by shuffling its contents.\n",
    "- `numpy.random.permutation(x)` is used to randomly permute a sequence, or return a permuted range.\n",
    "\n",
    "These functions can be used to arrange  or rearrange series of numbers or to change the order of samples in a sequence.\n",
    "Permutation and shuffling functions are used in machine learning to separate a dataset into training and test sets.\n",
    "Numpy random permutation functions can be used to shuffled multi-dimensional arrays. When shuffling rows of data it is usually important to keep the contents of the row together while the order of the rows will be moved about.\n",
    "\n",
    "The numpy `shuffle` function shuffles a sequence in place so that the sequence provided to it is actually shuffled and not just a copy of the sequence.\n",
    "\n",
    "<a id=\"shuffle\"></a>\n",
    "#### [numpy.random.shuffle](https://numpy.org/doc/1.16/reference/generated/numpy.random.shuffle.html#numpy-random-shuffle)\n",
    "The `numpy.random.shuffle(x)` function is used to modify a sequence in-place by shuffling its contents.\n",
    "The contents of the numpy array is shuffled so that the contents are still the same but in a different order. The sequence is therefore changed with it's elements in a random order.\n",
    "\n",
    "If the array is multidimensional then this function will only shuffle the array along the first axis. The order of sub-arrays is changed but their contents remains the same. \n",
    "This basically swaps the order of the rows in the array, but not the order of the elements in each row.\n",
    "\n",
    "<a id=\"permutation\"></a>\n",
    "#### [numpy.random.permutation](https://numpy.org/doc/1.16/reference/generated/numpy.random.permutation.html#numpy-random-permutation)\n",
    "\n",
    "This `permutation` function randomly permutes a sequence, or returns a permuted range.\n",
    "`numpy.random.permutation` takes either an array or an integer with which to create an array using `arange`. If it is given an array it makes a copy of this array and then shuffles the elements in the copy randomly.\n",
    "If it is only given an integer, it creates an array and randomly permutes the array.\n",
    "\n",
    "If x is a multi-dimensional array provided to the function, it will only be shuffled along its first index.\n",
    "\n",
    "The difference between the `numpy.random.shuffle` and the `numpy.random.permutation` seems to be that the original array is shuffled in the first case with the `shuffle` function but only the copy is shuffled in the second case with `permutation`. (This is where an array is provided and not where the function also has to create an array from `np.arange`).\n",
    "\n",
    "The numpy.random.shuffle function only shuffles the array along the first axis of a multi-dimensional array. The order of sub-arrays is changed but their contents remains the same. Basically the rows have been moved about but not the elements in the rows.\n",
    "\n",
    "Here I will create some multi-dimensional arrays and use these two functions and show the differences."
   ]
  },
  {
   "cell_type": "code",
   "execution_count": 62,
   "metadata": {},
   "outputs": [],
   "source": [
    "array1 = np.arange(2,101,2).reshape(5,10)   ## create a 5 by 10 two-dimensional array\n",
    "array2 = np.arange(0,150,5).reshape((6, 5))  ## create a 6 by 5 two-dimensional array"
   ]
  },
  {
   "cell_type": "markdown",
   "metadata": {},
   "source": [
    "### Comparing the `numpy.random.shuffle` and `numpy.random.permutation` function"
   ]
  },
  {
   "cell_type": "code",
   "execution_count": 60,
   "metadata": {},
   "outputs": [
    {
     "name": "stdout",
     "output_type": "stream",
     "text": [
      "The original array before being shuffled \n",
      "[[ 42  44  46 ...  56  58  60]\n",
      " [ 22  24  26 ...  36  38  40]\n",
      " [ 62  64  66 ...  76  78  80]\n",
      " [ 82  84  86 ...  96  98 100]\n",
      " [  2   4   6 ...  16  18  20]] \n",
      " \n",
      "Shuffling the original array changes the original array \n",
      "\n",
      "The original array after being shuffled \n",
      "[[ 42  44  46 ...  56  58  60]\n",
      " [ 22  24  26 ...  36  38  40]\n",
      " [ 62  64  66 ...  76  78  80]\n",
      " [ 82  84  86 ...  96  98 100]\n",
      " [  2   4   6 ...  16  18  20]] \n",
      " \n"
     ]
    }
   ],
   "source": [
    "\n",
    "print(f\"The original array before being shuffled \\n{array1} \\n \") # the original array before being permuted\n",
    "print(\"Shuffling the original array changes the original array \\n\")\n",
    "\n",
    "print(f\"The original array after being shuffled \\n{array1} \\n \")"
   ]
  },
  {
   "cell_type": "code",
   "execution_count": 61,
   "metadata": {},
   "outputs": [
    {
     "name": "stdout",
     "output_type": "stream",
     "text": [
      "The original array before being permuted \n",
      "[[  0   5  10  15  20]\n",
      " [ 25  30  35  40  45]\n",
      " [ 50  55  60  65  70]\n",
      " [ 75  80  85  90  95]\n",
      " [100 105 110 115 120]\n",
      " [125 130 135 140 145]] \n",
      " \n",
      "Permuting the original array makes a copy to shuffle\n",
      "\n",
      "[[100 105 110 115 120]\n",
      " [ 75  80  85  90  95]\n",
      " [ 50  55  60  65  70]\n",
      " [ 25  30  35  40  45]\n",
      " [  0   5  10  15  20]\n",
      " [125 130 135 140 145]]\n",
      "\n",
      " The original array after being permuted has not changed\n",
      "[[  0   5  10  15  20]\n",
      " [ 25  30  35  40  45]\n",
      " [ 50  55  60  65  70]\n",
      " [ 75  80  85  90  95]\n",
      " [100 105 110 115 120]\n",
      " [125 130 135 140 145]] \n",
      " \n"
     ]
    }
   ],
   "source": [
    "print(f\"The original array before being permuted \\n{array2} \\n \")\n",
    "print(\"Permuting the original array makes a copy to shuffle\\n\")\n",
    "print(np.random.permutation(array2)) # provide an array\n",
    "print(f\"\\n The original array after being permuted has not changed\\n{array2} \\n \")"
   ]
  },
  {
   "cell_type": "markdown",
   "metadata": {},
   "source": [
    "[Back to top](#toc)\n",
    "***"
   ]
  },
  {
   "cell_type": "markdown",
   "metadata": {},
   "source": [
    "<a id='distributions'></a>\n",
    "# 3. Explain the use and purpose of at least five “Distributions” functions.\n",
    "\n",
    "<a id='distributions'></a>\n",
    "Samples of random numbers can be drawn from a variety of probability distributions.\n",
    "\n",
    "The complete list of such functions is listed under [Distributions](https://numpy.org/doc/1.16/reference/routines.random.html#distributions) but for the purposes of the assignment I am looking at just 5 of the distributions. \n",
    "\n",
    "## Numpy Random Distribution Functions\n",
    "\n",
    "- [The Normal Distribution Function](#normal) to draw random samples from a normal (Gaussian) distribution.\n",
    "- [The Standard Normal distribution function](#standard_normal) \n",
    "- [The Uniform Distribution function](#uniform) \n",
    "- [The Binomial Distribution function](#binomial) \n",
    "- [The Poisson Distribution Function](#poisson) \n",
    "\n",
    "Each of these distribution functions generate different random numbers according to different probabilities over different intervals and can be used to understand data. There are specific applications for each distribution. The distributions can nearly all be related to each other in some way or other.\n",
    "\n",
    "A *probability distribution* specifies each possible value that a random variable can assume with its probability of occurring. A *random variable* is any quantity that is assumed to have a probability distribution. *Probability* is a mathematical expression of uncertainty of the chance of a random variable taking on particular values. There are many different patterns of probability and random numbers can be drawn from various probability distributions.\n",
    "\n",
    "A discrete random variable is one where its set of possible values is a collection of isolated points on the number line while a continuous random variable is one where its set of possible values is an entire interval on the number line. Discrete random variables almost always come from counting while continuous random variables mostly come from measurement.\n",
    "\n",
    "According to [machinelearningmastery.com](https://machinelearningmastery.com/discrete-probability-distributions-for-machine-learning/) *A discrete random variable is a random variable that can have one of a finite set of specific outcomes. The two types of discrete random variables most commonly used in machine learning are binary and categorical.\n",
    "The most common discrete probability distributions are the Bernoulli and Multinoulli distributions for binary and categorical discrete random variables respectively, and the Binomial and Multinomial distributions that generalize each to multiple independent trials.*\n",
    "\n",
    "- A **binary random variable** is a discrete random variable where the finite set of outcomes is in {0, 1}. \n",
    "- A **categorical random variable** is a discrete random variable where the finite set of outcomes is in {1, 2, …, K}, where K is the total number of unique outcomes.\n",
    "\n",
    "Each outcome or event for a discrete random variable has a probability. The probability mass function summarises a discrete probablity distribution which relates events for a discrete random variable with their probabilities of occurring.\n",
    "\n",
    "The probability distribution of a discrete random variable is often known as a *probability function* or a *probability mass function* while the probability distribution for a continuous random variable often called  a mathematical a *probability density function*, a *frequency function* or a *probability distribution*. \n",
    "Probability distributions can be shown as a formula, a table or a graph.\n",
    "\n",
    "A Probability Mass Function (PMF) returns the probability of a given outcome.\n",
    "A Cumulative Distribution Function (CDF) returns the probability of a value less than or equal to a given outcome.\n",
    "A Percent-Point Function (PPF) returns a discrete value that is less than or equal to the given probability.\n",
    "\n",
    "([wolfram mathworld](http://mathworld.wolfram.com/Probability.html), [stattrek.com](https://stattrek.com/statistics/dictionary.aspx?definition=random%20variable) and [Wikipedia](https://en.wikipedia.org/wiki/Normal_distribution) are good sources for information on probability distributions)\n",
    "\n",
    "Some distributions such as the normal and binomial distributions show a central tendancy around a mean value while others such as the uniform distribution do not show any preference for any one value over another and the values can be spread out anywhere in the range. \n",
    "\n",
    "Probability distributions are used widely in statistical analysis, data analytics and machine learning. Probability distributions can be simulated based on their mathematical properties.  Probability distributions are derived from variance or uncertainty and show which outcomes are more likely and which are less likely.\n",
    "\n",
    "If you can define a probability distribution for a dataset you are interested in, you can use the known properties of the distribution to investigate and summarise the data using statistics, plot the data and look at predicting future outcomes.\n",
    "\n",
    "If you are interested in average of a population but it is not practical to measure this parameter, you could take representative samples from the population and get the average of the samples instead. \n",
    "\n",
    "A statistic is a good estimator for a population parameter. Statistics measure estimates of parameters in a sample. There are many ways to take samples from a population and when you calculate the average of an individual sample it is unlikely to be the actual average for the population. You could take samples of a sample size from the population and repeat this process a number of times. NumPy random package can be used to simulate this process. Doing this you can simulate many many samples of a set sample size from a distribution such as the normal distribution. The mean and standard deviations from the samples can then be used to get the sampling distribution of the mean. While some random samples may have randomly big or randomly small values, overall you could take the average from each of the samples and relate these to the mean of the overall population you took them from. \n",
    "\n",
    "There are many other plotting functions in Python libraries such as *matplotlib.pyplot*, *seaborn* and others.\n",
    "Seaborns `distplot` is a very convenient way to draw a univariate distribution. It draws a histogram and fits a kernel density estimate.  A histogram represents the distribution of one-dimensional data by cutting the data into ranges called *bins* and shows the number of values in each bin which gives a picture of how the values are distributed and the range in which the most common values fall.\n",
    "The kernel density estimate is also useful tool for plotting the shape of a distribution. A kde plot encodes the density of observations on one axis with height on the other axis.\n",
    "\n",
    "($\\mu$ is the mean, $\\sigma$ is the standard deviation which is the square root of the standard deviation, $\\sigma^2$.)\n",
    "\n",
    "The `numpy.random` distribution functions take various arguments but `location` for the centre or mean of the distribution, `size` for the number of samples and `scale` for the spread or standard deviation are some commonly used arguments. \n",
    "\n",
    "Some distributions such as the normal and binomial distributions show a central tendancy around a mean value while others such as the uniform distribution do not show any preference for any one value over another and the values can be spread out anywhere in the range. \n",
    "\n",
    "The `numpy.random.normal()` function generates random numbers in a bell shaped curve centred around zero. The numbers near the centre of the distribution have a higher chance of being randomly generated while the numbers further away the centre (at zero) have less chance of being randomly generated. The `numpy.random.uniform()` function generates numbers between a start and finish point where any one number is as likely to occur as any other number. In a uniform distribution, you would expect to see a fairly straight line at the top while the normal distribution is bell shaped.\n"
   ]
  },
  {
   "cell_type": "markdown",
   "metadata": {},
   "source": [
    "***\n",
    "## Numpy.Random Distribution Functions. "
   ]
  },
  {
   "cell_type": "markdown",
   "metadata": {},
   "source": [
    "## Draw random samples from the Normal (Gaussian) distribution\n",
    "<a id='normal'></a>\n",
    "\n",
    "The [numpy.random.normal(loc=0.0, scale=1.0, size=None)](https://numpy.org/doc/1.16/reference/generated/numpy.random.normal.html#numpy-random-normal) function is used to draw random samples from a normal (Gaussian) distribution which has a symmetric, bell shaped density curve density curve described by its mean $mu$ and standard deviation $\\sigma$.\n",
    "\n",
    "The normal distribution is considered one of the most important probability distribution for a continuous random variable. It has a symmetric, bell shaped density curve. It is not one distribution but a family of distributions depending on the value of its mean $\\mu$ and standard deviation $\\sigma$.  The normal distributions occurs often in nature. It describes the commonly occurring distribution of samples influenced by a large number of tiny, random disturbances, each with its own unique distribution.  All the small influences add up to get a normal distribution.\n",
    "\n",
    "According to [wolfram mathworld](http://mathworld.wolfram.com/NormalDistribution.html) \n",
    "> normal distributions have many convenient properties, so random variates with unknown distributions are often assumed to be normal, especially in physics and astronomy. Although this can be a dangerous assumption, it is often a good approximation due to a surprising result known as the central limit theorem. This theorem states that the mean of any set of variates with any distribution having a finite mean and variance tends to the normal distribution. Many common attributes such as test scores, height, etc., follow roughly normal distributions, with few members at the high and low ends and many in the middle.\n",
    "\n",
    "Any distribution where the mean, median and mode of the distribution coincides is a Normal distribution. Half of the values are to the left of the centre and half to the right. \n",
    "\n",
    "A normally distributed random variable x can be denoted as follows: x~  $N(\\mu,\\sigma^2)$ which means that x is normally distributed with a mean of $\\mu$ and a variance of $\\sigma^2$.\n",
    "\n",
    "While all values of a normal distribution have a zero probability as it is a continuous distribution, the mean can be thought of as the centre of the distribution or where the values are more likely to be from and  its standard deviation shows how likely a value is to be away from the mean value.\n",
    "\n",
    "The density curve is symmetrical and centered about its mean. The spread is determined by the standard deviation. The data points near the centre of the distribution have a higher chance of being randomly generated while the numbers further away from the centre of the distribution have less chance of being randomly generated. Data close to the mean occur more frequently than data points further away from the mean.\n",
    "\n",
    "### `numpy.random.normal` distribution function\n",
    "\n",
    "The `numpy.random.normal` function generates random number in a bell shaped curve centred around zero but spread out according to the scale parameter.  The function depends on two factors, the mean and the standard deviation. \n",
    "\n",
    "To use the `numpy.random.normal` function, the `loc` argument is used to specify the mean or the centre of the distribution, the `scale` is used to specify the standard deviation of the distribution and the size is the number of random variables to sample.  Otherwise the loc or mean defaults to 0 and scale / standard deviation defaults to 1 which is the same as the standard normal distribution. See below.\n",
    "\n",
    "\n",
    "The mean of the distribution determines the location of the centre of the plot, while the standard deviation determines the height and shape of the graph. A larger standard deviation will result in a shorter and wider curve while a smaller standard deviation results in a tall and narrow curve. \n",
    "\n",
    "\n",
    "If you supply three arguments, the first is taken to be the mean $\\mu$, the second to be the scale or standard deviations $\\sigma^2$ and the last to be the number of data points. \n"
   ]
  },
  {
   "cell_type": "markdown",
   "metadata": {},
   "source": [
    "#### Examples of using the normal distribution function\n",
    "\n",
    "Below is a plot of 4 normal distribution functions using different values for the `loc` and `scale` parameters for the mean and standard deviation of the distribution. This plot shows the distinctive bell shaped curve, which is taller and narrower for the distribution with the smaller standard deviation or spread and wider and flatter for the distribution with the larger standard deviation as the `scale` parameter. In each case the curve is centred around the mean of the distribution as the `loc` parameter."
   ]
  },
  {
   "cell_type": "markdown",
   "metadata": {},
   "source": [
    "### Plotting the Normal Distribution function"
   ]
  },
  {
   "cell_type": "markdown",
   "metadata": {},
   "source": [
    "##### Comparing the distribution of two normally distributed variables with different means and standard deviations."
   ]
  },
  {
   "cell_type": "markdown",
   "metadata": {},
   "source": [
    "#### Plotting normal distributions with various means and spreads.\n",
    "\n",
    "Here I plot different normal distributions with various means and standard deviations."
   ]
  },
  {
   "cell_type": "code",
   "execution_count": 80,
   "metadata": {},
   "outputs": [
    {
     "data": {
      "image/png": "[encoded data removed]",
      "text/plain": [
       "<Figure size 864x288 with 1 Axes>"
      ]
     },
     "metadata": {},
     "output_type": "display_data"
    }
   ],
   "source": [
    "# Generate a random datasets using random.normal\n",
    "loc,scale,size = 5,1,3000\n",
    "\n",
    "sample1 = np.random.normal(loc,scale,size)\n",
    "sample2 = np.random.normal(loc+1, scale,size)\n",
    "sample3 = np.random.normal(loc-1,scale+1.5,size)\n",
    "sample4 = np.random.normal(loc-1,scale-0.2, 3000)\n",
    "plt.figure(figsize=(12,4))\n",
    "# using seaborn distplot functions to plot\n",
    "sns.distplot(sample1,label=\"$\\mu=5,\\ \\sigma=1$\")\n",
    "sns.distplot(sample2, label =\"$\\mu=6,\\ \\sigma=1$\")\n",
    "sns.distplot(sample3, label=\"$\\mu=4,\\ \\sigma=2.5$\")\n",
    "sns.distplot(sample4, label =\"$\\mu=4,\\ \\sigma=0.8$\")\n",
    "plt.legend(loc=\"best\")\n",
    "\n",
    "plt.title('Normal Distribution with various $\\mu$ and $\\sigma$')\n",
    "plt.grid(True)\n",
    "\n"
   ]
  },
  {
   "cell_type": "markdown",
   "metadata": {},
   "source": [
    "#### Verifying the mean and the standard deviation.\n",
    "The mean is an estimator of the centre of the distribution. The median is another estimator for the centre of the distribution. It is the value where half of the observatins are below and half are above it.\n",
    "The median is not sensitive to the tails of the distribution. It is considered \"robust\". "
   ]
  },
  {
   "cell_type": "code",
   "execution_count": 36,
   "metadata": {},
   "outputs": [
    {
     "name": "stdout",
     "output_type": "stream",
     "text": [
      "The means of the distributions are \n",
      " sample1: 4.993, sample2: 5.995, sample3: 3.899 and sample 4:4.014\n",
      "The medians of the distributions are \n",
      " sample1: 4.986, sample2: 6.000, sample3: 3.896 and sample 4:4.029\n",
      "The standard deviations of the distributions are \n",
      " sample1: 1.022, sample2: 0.980, sample3: 2.523 and sample 4:0.809\n"
     ]
    }
   ],
   "source": [
    "print('The means of the distributions are \\n sample1: %.3f, sample2: %.3f, sample3: %.3f and sample 4:%.3f' % (np.mean(sample1), np.mean(sample2),np.mean(sample3),np.mean(sample4)))\n",
    "print('The medians of the distributions are \\n sample1: %.3f, sample2: %.3f, sample3: %.3f and sample 4:%.3f' % (np.median(sample1), np.median(sample2),np.median(sample3),np.median(sample4)))\n",
    "print('The standard deviations of the distributions are \\n sample1: %.3f, sample2: %.3f, sample3: %.3f and sample 4:%.3f' % (np.std(sample1), np.std(sample2),np.std(sample3),np.std(sample4)))\n"
   ]
  },
  {
   "cell_type": "markdown",
   "metadata": {},
   "source": [
    "The plots above demonstrate the bell-shaped nature of the distributions.  Changing the `loc` parameter for the mean will move the curve along the x-axis while changing the `scale` parameter result in wider or narrower curves. \n",
    "\n",
    "There is a general rule that 68.27% of the values under the curve fall between -1 and +1 standard deviations from the mean or centre, 95.45% under the curve between -2 and 2 standard deviations and 99.73% between -3 and 3 standard deviations. \n",
    "This rule applies no matter what the mean and standard deviations are. For any normally distributed variable, irrespective of it's mean and standard deviation, if you start at the mean and move one standard deviation out in any direction, the probability of getting a measurement of value from this variable within this range is just over 68%, the probability of getting a value within two standard deviations is over 95% and the probability of getting a value within 3 standard deviations from the mean is 99.73%. This leaves a very small percentage of values that lie further than 3 standard deviations from the mean. \n",
    "\n",
    "The lectures notes that the curves do not not actually cross the x-axis at all as it goes to infinity in both directions of the mean. However the chances of observing values more than 3 standard deviations from the centre or mean of the curve is very small.\n",
    "\n"
   ]
  },
  {
   "cell_type": "markdown",
   "metadata": {},
   "source": [
    "All the plots above are normally distributed but with different means $\\mu$ and standard deviations $\\sigma$.\n",
    "A normal distribution with a mean of 0 and a standard deviation of 1 is a special case of the normal distribution which brings me to the next distribution  - the *Standard Normal Distribution*.\n"
   ]
  },
  {
   "cell_type": "code",
   "execution_count": null,
   "metadata": {},
   "outputs": [],
   "source": []
  },
  {
   "cell_type": "markdown",
   "metadata": {},
   "source": [
    "<a id='standard_normal'></a>\n",
    "## The Standard Normal Distribution function\n",
    "\n",
    "\n",
    "For an approximately normal data set, almost 68% of the data points fall within one standard deviation from the mean, while  95% of the data falls within 2 standard deviations and 99.7% fall within 3 standard deviations.\n",
    "\n",
    "There are many different normal distributions with different means and variances which would have made them difficult to be tabulated in the statistical tables. The standard normal distribution is a special case of the normal distribution with $\\mu$ of 0 and standard deviation $\\sigma$ of 1 and this is tabulated and can be used to find the probabilities for any normal distribution. All questions regarding the normal distribution can be converted into questions regarding the standard normal distribution.\n",
    "\n",
    "The [standard normal distribution](https://stattrek.com/statistics/dictionary.aspx?definition=random%20variable) is a special case of the normal distribution. \n",
    ">It is the distribution that occurs when a normal random variable has a mean of zero and a standard deviation of one.  The normal random variable of a standard normal distribution is called a standard score or a *z* score. Every normal random variable X can be transformed into a z score.\n",
    "\n",
    "The standard normal distribution, of the random variable z, has $\\mu$ = 0 and $/sigma$ = 1 and can be used to calculate areas under any normal distribution. z~ $N(0,1)$\n",
    "\n",
    "The [numpy.random.standard_normal](https://numpy.org/doc/1.16/reference/generated/numpy.random.standard_normal.html#numpy-random-standard-normal) distribution function is used to draw samples from a *Standard Normal* distribution that has a mean of 0 and a standard deviation of 1. \n",
    "\n",
    "To use this `numpy.random.standard_normal` function,  you just need to supply the number of data points to generate as the size argument. Without specifying the number of data points you will just get a single value. \n",
    "\n",
    "Note that the `numpy.random.randn()` function in the section on simple random data functions a convenience function for numpy.random.standard_normal. It returns a single float or an ndarray of floats. See [numpy.random.randn](#randn).\n",
    "\n"
   ]
  },
  {
   "cell_type": "code",
   "execution_count": 81,
   "metadata": {},
   "outputs": [
    {
     "name": "stdout",
     "output_type": "stream",
     "text": [
      "The means of the distributions are \n",
      " sample1: 0.099, sample2: -0.142, sample3: 0.038 and sample 4:-0.000\n",
      "The medians of the distributions are \n",
      " sample1: 0.045, sample2: -0.147, sample3: 0.001 and sample 4:-0.020\n",
      "The standard deviations of the distributions are \n",
      " sample1: 1.008, sample2: 0.959, sample3: 0.978 and sample 4:1.007\n",
      "\n",
      "\n"
     ]
    },
    {
     "data": {
      "image/png": "[encoded data removed]",
      "text/plain": [
       "<Figure size 864x288 with 1 Axes>"
      ]
     },
     "metadata": {},
     "output_type": "display_data"
    }
   ],
   "source": [
    "sample1 = np.random.standard_normal(100)\n",
    "sample2 = np.random.standard_normal(500)\n",
    "sample3 = np.random.standard_normal(1000)\n",
    "sample4 = np.random.standard_normal(2000)\n",
    "plt.figure(figsize=(12,4))\n",
    "# using seaborn kdeplot functions to plot\n",
    "sns.kdeplot(sample1,shade=True,label=\"size=100\")\n",
    "sns.kdeplot(sample2, shade=True,label =\"size=500\")\n",
    "sns.kdeplot(sample3, shade=True,label =\"size=1000\")\n",
    "sns.kdeplot(sample4, shade=True,label =\"size=2000\")\n",
    "plt.legend(loc=\"best\")\n",
    "\n",
    "plt.legend(loc=\"best\")\n",
    "\n",
    "plt.title('The Standard Normal Distribution with various $\\mu$ and $\\sigma$')\n",
    "plt.grid(True)\n",
    "\n",
    "print('The means of the distributions are \\n sample1: %.3f, sample2: %.3f, sample3: %.3f and sample 4:%.3f' % (np.mean(sample1), np.mean(sample2),np.mean(sample3),np.mean(sample4)))\n",
    "print('The medians of the distributions are \\n sample1: %.3f, sample2: %.3f, sample3: %.3f and sample 4:%.3f' % (np.median(sample1), np.median(sample2),np.median(sample3),np.median(sample4)))\n",
    "print('The standard deviations of the distributions are \\n sample1: %.3f, sample2: %.3f, sample3: %.3f and sample 4:%.3f' % (np.std(sample1), np.std(sample2),np.std(sample3),np.std(sample4)))\n",
    "print(\"\\n\")\n"
   ]
  },
  {
   "cell_type": "markdown",
   "metadata": {},
   "source": [
    "The above plots show that whatever the number of values generated, the curve is always centred about the mean of 0, most of the values are clustered around the centre and most of the values are within 2 standard deviations of the mean. As the size of the sample increases, the shape becomes more symetrical.\n"
   ]
  },
  {
   "cell_type": "markdown",
   "metadata": {},
   "source": [
    "***\n",
    "<a id=\"uniform\"></a>\n",
    "## The Uniform distribution functions.\n",
    "\n",
    "The continuous Uniform distribution function is one of the simplest probability distributions where all it's possible outcomes are equally likely to occur. It has constant or uniform probability.\n",
    "\n",
    "Wikipedia describes the [Uniform Distribution](https://en.wikipedia.org/wiki/Uniform_distribution_(continuous)) as the continuous uniform distribution or rectangular distribution is a family of symmetric probability distributions such that for each member of the family, all intervals of the same length on the distribution's support are equally probable. The support is defined by the two parameters, a and b, which are its minimum and maximum values.\n",
    "\n",
    "The continuous uniform distribution takes values in the specified range (a,b). The curve describing the distribution is rectangle shaped because any interval of numbers has the same probability of being drawn as any other interval of the same width. Each interval has constant height across it and 0 everywhere else. The area under the curve must be equal to 1 and therefore the height of the curve equals $\\frac{1}{b-a}$.\n",
    "The probability density function of a uniformly distributed variable x is  $f(x)= \\frac{1}{a-b}$ if $a<=x<=b$ or zero otherwise.\n",
    " \n",
    "The expected value of the uniform distribution is $\\frac{b+a}{2}$ the midpoint of the interval and the variance $\\sigma^2$ is $\\frac{1}{12}(b-a)^2$. \n",
    "\n",
    "When the interval is between 0 and 1, it is known as the *Standard Uniform* distribution.  The Standard Uniform distribution, where a is 0 and b is 1 is very commonly used for random number generation and in statistics in general.\n",
    "The expected value of the standard uniform distribution is $\\frac{1}{2}$ and the variance is $\\frac{1}{12}$.\n",
    "\n",
    "As all outcomes are equally likely there is no one particular value that occurs more frequently than any other and therefore there is no skew in a uniform distribution like there is in other distributions. \n",
    "\n",
    "The uniform distribution can be used to generate random numbers between a minimum and a maximum value where each number is equally likely to occur. Rolling a dice several times is an example of the uniform distribution, where each number on the dice is equally likely to occur on each roll. No single side of the dice has a higher chance than another.\n",
    "While many natural things in the world have approximately normal distributions where values are more likely to fall in the centre of the distribution, a uniform distribution can be used for modeling events that are equally likely to happen in a given interval between a minimum and a maximum range. This minimum value is usually referred to as `a` while the maximum value is referred to as `b`.\n",
    "If a random variable is uniformly distributed between a minimum (a) and maximum value (b), then the distribution can be used to calculate the probability that a value will lie in a cetain part of the interval, say between two points `c` and `d` where `d` > `c`. The probability for something in such an interval is calculated using $\\frac{d-c}{b-a}$.\n"
   ]
  },
  {
   "cell_type": "markdown",
   "metadata": {},
   "source": [
    "  \n",
    "####  The `numpy.random.uniform` function. \n",
    "[numpy.random.uniform(low=0.0, high=1.0, size=None](https://numpy.org/doc/1.16/reference/generated/numpy.random.uniform.html#numpy.random.uniform)\n",
    ">Samples are uniformly distributed over the half-open interval $[low, high)$ (includes low, but excludes high). In other words, any value within the given interval is equally likely to be drawn by uniform.\n",
    "\n",
    "To use this function, you provide the lower $low$ and upper $high$ bounds of the interval to specify the minimum (a) and maximum  (b) possible values in the range. The smaller number provided will be taken as the lower bounds and the bigger number as the upper bound. \n",
    "\n",
    "Without providing an interval, the function assumes a standard uniform distribution.\n",
    "\n",
    "The function randomly samples from the uniform distribution over the specified interval. If not argument at all is provided then it will return a single value in the interval $[0.0,1.0)$.\n",
    "\n",
    "If a single value is provided to the function, a single value will be returned from the interval between 0 and that number.\n",
    "If two values are provided, then a single value will be returned from the interval between between these two numbers.\n",
    "A third value provided will be used as the size of the array returned.\n",
    "\n",
    "The simple `numpy.random.rand` function in section 2 also returns samples from the continuous uniform distribution but only in the $[0.0, 1.0)$ interval. The other numpy.random functions `random_sample`,`random`, `sample` and `ranf` can be used to sample from $[a,b)$ intervals other than between 0 and 1 by multiplying the output by $(b-a)$ and adding $a$ but the `numpy.random.uniform` function is easier to use for this purpose.  "
   ]
  },
  {
   "cell_type": "markdown",
   "metadata": {},
   "source": [
    "#### Sampling from the continuous uniform distribution\n",
    "\n",
    "The following are examples of using the `numpy.random.uniform` function where various numbers of arguments are provided as outlined above."
   ]
  },
  {
   "cell_type": "markdown",
   "metadata": {},
   "source": [
    "```python\n",
    "np.random.uniform() # returns a single random value in the interval [0,1)\n",
    "np.random.uniform(5) # returns a single value from the interval $[0,5)$\n",
    "np.random.uniform(5,10) # returns a single value in the interval [6,10)]\n",
    "np.random.uniform(5,10,15) # returns an array of 15 values from the interval [5,10)\n",
    "```"
   ]
  },
  {
   "cell_type": "markdown",
   "metadata": {},
   "source": [
    "Here I show that the mean and median values are very close, while the mean is the midpoint of the interval and the variance is equal to $\\frac{1}{12}(b-a)^2$.\n",
    "If the size of the sample is changed in the code below, the mean and median get closer and closer to each other and to the expected value. These results are the same no matter what interval $[a,b)$ is used.\n",
    "Also showing that all the values are from the interval $[a,b)$"
   ]
  },
  {
   "cell_type": "code",
   "execution_count": 72,
   "metadata": {},
   "outputs": [
    {
     "name": "stdout",
     "output_type": "stream",
     "text": [
      "[6.1749 8.8557 7.3678 ... 7.9592 5.025  6.3231]\n",
      "\n",
      " Expected value is 7.500, Variance: 2.083\n",
      "The mean is 7.444, the median is 7.431\n",
      "True\n",
      "True\n"
     ]
    }
   ],
   "source": [
    "a,b,size = 5,10,500\n",
    "\n",
    "x = np.random.uniform(a,b,size) # returns an array of 500 values from the interval [5,10)\n",
    "print(x)\n",
    "print('\\n Expected value is %.3f, Variance: %.3f' % ((b+a)/2, ((b-a)**2)/12))\n",
    "print('The mean is %.3f, the median is %.3f' % (np.mean(x), np.median(x)))\n",
    "\n",
    "# Checking that all the values are within the given interval:\n",
    "print(np.all(x >= a))\n",
    "\n",
    "print(np.all(x < b))"
   ]
  },
  {
   "cell_type": "markdown",
   "metadata": {},
   "source": [
    "##### Using the same random.seed to show the similarity between the `numpy.random.uniform` is similar to `numpy.random.random`"
   ]
  },
  {
   "cell_type": "code",
   "execution_count": 45,
   "metadata": {},
   "outputs": [
    {
     "data": {
      "text/plain": [
       "array([ True,  True,  True, ...,  True,  True,  True])"
      ]
     },
     "execution_count": 45,
     "metadata": {},
     "output_type": "execute_result"
    }
   ],
   "source": [
    "# 100 values from the uniform 2,11] interval\n",
    "np.random.seed(1)\n",
    "u1 = np.random.uniform(2,11,100)\n",
    "np.random.seed(1)\n",
    "u2 =(b-a)* np.random.random((100)) +a\n",
    "u1 ==u2"
   ]
  },
  {
   "cell_type": "markdown",
   "metadata": {},
   "source": [
    "### Plotting Uniform distributions"
   ]
  },
  {
   "cell_type": "code",
   "execution_count": 82,
   "metadata": {},
   "outputs": [
    {
     "name": "stdout",
     "output_type": "stream",
     "text": [
      "The mean of u1 is -0.396\n",
      "The mean of u2 is 29.730\n"
     ]
    },
    {
     "data": {
      "image/png": "[encoded data removed]",
      "text/plain": [
       "<Figure size 864x288 with 1 Axes>"
      ]
     },
     "metadata": {},
     "output_type": "display_data"
    }
   ],
   "source": [
    "# random sample of 1000 from interval between -100 and 100\n",
    "\n",
    "a,b, size = -20,20,1000 # set the a,b and size parameters \n",
    "u1 = np.random.uniform(a,b,size)  # sample from -20,20 interval\n",
    "u2 = np.random.uniform(a+30, b+30, size)# sample from -10,50 interval\n",
    "\n",
    "plt.figure(figsize=(12,4))\n",
    "ax = sns.distplot(u1, bins=100, label=\"$[-50,50)$\");  # using 100 bins\n",
    "ax = sns.distplot(u2, bins=100, label=\"$[-20,80)$\");\n",
    "ax.set(xlabel=\"Uniform Distribution\", ylabel =\"Frequency\")\n",
    "plt.legend()\n",
    "\n",
    "print('The mean of u1 is %.3f' % np.mean(u1)) # to 3 decimal places \n",
    "print('The mean of u2 is %.3f' % np.mean(u2)) # to 3 decimal places \n"
   ]
  },
  {
   "cell_type": "markdown",
   "metadata": {},
   "source": [
    "### Plotting random samples from Uniform distibution across different intervals\n",
    "\n",
    "While the shapes of the distribution plots are very similar you can see it becomes more rectangular as the sample size gets bigger. Matplotlib.pyplot library `hist` function can be used to plot the distribution while seaborns distplot can also be used.\n"
   ]
  },
  {
   "cell_type": "markdown",
   "metadata": {},
   "source": [
    "#### plotting random numbers from uniform distribution using the seaborn distplot."
   ]
  },
  {
   "cell_type": "markdown",
   "metadata": {},
   "source": [
    "##### Plotting samples of size 1000 from continuous uniform distributions across various interval using matplotlib plots\n",
    "Also showing the means which can be seen as the midpoint of the intervals for each distribution.\n",
    "\n",
    "Using the example then from the[manual](https://numpy.org/doc/1.16/reference/generated/numpy.random.uniform.html#numpy-random-uniform) to plot a histogram of a uniform distribution function and its probability density function using the `np.ones_like` function. The area under the curve between a and b is 1"
   ]
  },
  {
   "cell_type": "code",
   "execution_count": 79,
   "metadata": {},
   "outputs": [
    {
     "data": {
      "image/png": "[encoded data removed]",
      "text/plain": [
       "<Figure size 864x216 with 4 Axes>"
      ]
     },
     "metadata": {
      "needs_background": "light"
     },
     "output_type": "display_data"
    },
    {
     "name": "stdout",
     "output_type": "stream",
     "text": [
      "The means of these distributions are for x1: 6.994, x2: 12.588, x3: 11.087 and x4: -0.126\n"
     ]
    }
   ],
   "source": [
    "# create samples from uniform distribution over different intervals but the same size\n",
    "x1 = np.random.uniform(2,12,1000)\n",
    "x2 = np.random.uniform(5,20,1000)\n",
    "x3 = np.random.uniform(2,20,1000)\n",
    "x4 = np.random.uniform(-5,5,1000)\n",
    "\n",
    "plt.figure(figsize=(12, 3)) # set up the figure\n",
    "plt.subplot(141) # select 1st of 4 plots\n",
    "plt.hist(x1) # plot first sample x1\n",
    "plt.subplot(142) # select 2nd of 4 plots\n",
    "plt.hist(x2) # plot second sample x2\n",
    "plt.subplot(143)\n",
    "plt.hist(x3)\n",
    "plt.subplot(144)\n",
    "plt.hist(x4)\n",
    "plt.suptitle('Uniform Distribution over various intervals')\n",
    "plt.show()\n",
    "print('The means of these distributions are for x1: %.3f, x2: %.3f, x3: %.3f and x4: %.3f' %(np.mean(x1), np.mean(x2), np.mean(x3), np.mean(x4))) # to 3 decimal places \n",
    "\n"
   ]
  },
  {
   "cell_type": "markdown",
   "metadata": {},
   "source": []
  },
  {
   "cell_type": "code",
   "execution_count": 61,
   "metadata": {},
   "outputs": [
    {
     "data": {
      "image/png": "[encoded data removed]",
      "text/plain": [
       "<Figure size 720x288 with 1 Axes>"
      ]
     },
     "metadata": {
      "needs_background": "light"
     },
     "output_type": "display_data"
    }
   ],
   "source": [
    "# Example from the numpy.random.uniform reference manual\n",
    "#Display the histogram of the samples, along with the probability density function:\n",
    "\n",
    "# use np.ones_like function to return an array of ones with the same shape and type as s.\n",
    "import matplotlib.pyplot as plt\n",
    "count, bins, ignored = plt.hist(s,15, density=True)  # cut int 15 bins\n",
    "plt.plot(bins, np.ones_like(bins), linewidth=2, color='r') ## add a horizontal line at 1.0 using the np.ones like\n",
    "plt.show()"
   ]
  },
  {
   "cell_type": "code",
   "execution_count": null,
   "metadata": {},
   "outputs": [],
   "source": []
  },
  {
   "cell_type": "markdown",
   "metadata": {},
   "source": [
    "***"
   ]
  },
  {
   "cell_type": "markdown",
   "metadata": {},
   "source": [
    "<a id=\"binomial\"></a>\n",
    "## The Binomial Distribution\n",
    "\n",
    "The `numpy.random.binomial` function is used to draw samples from a Binomial Distribution which is considered one of the most important probability distributions for discrete random variables. The Binomial distribution is the probability distribution of a sequence of experiments where each experiment produces a binary outcome and where each of the outcomes is independent of all the others.\n",
    "\n",
    "The binomial distribution is the probability of a success or failure outcome in an experiment that is repeated many times. A binomial experiment has only two (bi) possible outcomes such as heads or tails, true or false, win or lose, class a or class b  etc.\n",
    "One of these outcomes can be called a **success** and the other a **failure**. The probability of success is the same on every trial\n",
    "A single coin flip is an example of an experiment with a binary outcome. \n",
    "\n",
    "According to [mathworld.wolfram](http://mathworld.wolfram.com/BinomialDistribution.html), the Binomial Distribution gives the discrete probability distribution $P_p(n|N)$ of obtaining exactly n successes out of N Bernoulli trials (where the result of each Bernoulli trial is true with probability $p$ and false with probability $q=1-p$).  See also <https://en.wikipedia.org/wiki/Binomial_distribution>.\n",
    "\n",
    "The results from performing the same set of experiments, such as repeatedly flipping a coin a number of times and the number of heads observed across all the sets of experiments follows the binomial distribution.\n",
    "\n",
    "$n$ is usually used to denote the number of times the experiment is run while $p$ is used to denote the probability of a specific outcome such as heads. \n",
    "\n",
    "A Bernoulli trial is a random experiment with exactly two possible outcomes, *success* and *failure*, where probability of success is the same every time the experiment is conducted. A *Bernoulli process* is the repetition of multiple independent Bernoulli trials and it's outcomes follow a Binomial distribution. The Bernoulli distribution can be considered as a Binomial distribution with a single trial (n=1).\n",
    "\n",
    "A **binomial experiment** consists of a number $n$ of repeated identical **Bernoulli** trials \n",
    "- where there are only two possible outcomes, success or failure \n",
    "- the probability of success $p$ is constant (the same in every trial)\n",
    "- the $n$ trials are independent - outcome of one trial does not affect the outcome of another trial.\n",
    "- The binomial random variable $x$ is the number of successes in $n$ trials.\n",
    "\n",
    "The outcome of a binomial experiment is a **binomial random variable**.\n",
    "**Binomial probability** is the probability that a binomial random variable assumes a specific value. \n",
    "-b(x,n,P): Binomial probability  - the probability that an n-trial binomial experiment results in exactly x successes.\n",
    "\n",
    "### The binomial distribution has the following properties:\n",
    "- The mean of the distribution is equal to $n*P$\n",
    "- The variance $\\sigma^2$ is $n*P*(1-p)$\n",
    "- the standard deviation $sqrt(n*P*(1-p))$\n",
    "\n",
    "##### Some other properties of the Binomial Distribution from [Wikipedia](https://en.wikipedia.org/wiki/Binomial_distribution):\n",
    "- In general, if `np` is an integer, then the mean, median, and mode coincide and equal `np`.\n",
    "- The Bernoulli distribution is a special case of the binomial distribution, where n = 1. \n",
    "- The binomial distribution is a special case of the Poisson binomial distribution, or general binomial distribution, which is the distribution of a sum of n independent non-identical Bernoulli trials B(pi)\n",
    "- If n is large enough, then the skew of the distribution is not too great. In this case a reasonable approximation to B(n, p) is given by the normal distribution\n",
    "- The binomial distribution converges towards the Poisson distribution as the number of trials goes to infinity while the product np remains fixed or at least p tends to zero. Therefore, the Poisson distribution with parameter λ = np can be used as an approximation to B(n, p) of the binomial distribution if n is sufficiently large and p is sufficiently small. According to two rules of thumb, this approximation is good if n ≥ 20 and p ≤ 0.05, or if n ≥ 100 and np ≤ 10.[\n",
    "\n"
   ]
  },
  {
   "cell_type": "markdown",
   "metadata": {},
   "source": [
    "### Using the [numpy.random.binomial](https://numpy.org/doc/1.16/reference/generated/numpy.random.binomial.html#numpy-random-binomial) function\n",
    "\n",
    "The `numpy.random.binomial` function is used to sample from a binomial distribution given the number of trials $n$ and the probability $p$ of success on each trail. The number of samples $size$ represents the number of times to repeat the  $n$ trials.\n",
    "\n",
    "This function takes an integer to set the number of trials which must be greater than or equal to zero. The probability must be in the interval $0,1]$ as total probability always sums to one. It returns an array of samples drawn from the binomial distribution based on the $n$ and $p$ and $size$ parameters given to the function. Each sample returned is equal to the number of successes over n trials.\n",
    "\n",
    "The `np.random.binomial(n, p)` function can be used to simulate the result of a single sequence of n experiments (where n could be any positive integer), do so using using a binomially distributed random variable.\n",
    "\n",
    "For example to find the probability of getting 4 heads with 10 coin flips, simulate 10,000 runs where each run has 10 coin flips. This repeats the 10 coin toss 10,000 times."
   ]
  },
  {
   "cell_type": "markdown",
   "metadata": {},
   "source": [
    "#### Example of drawing samples from a binomial distribution.\n",
    "\n",
    "Draw samples from a distribution using `np.random.binomial(n, p, size)` where:\n",
    "- $n$ the number of trials, \n",
    "- $p$ the probability of success in each trial\n",
    "- $size$ is the number of samples drawn (the number of times the experiment is run)\n"
   ]
  },
  {
   "cell_type": "code",
   "execution_count": 48,
   "metadata": {},
   "outputs": [
    {
     "name": "stdout",
     "output_type": "stream",
     "text": [
      "[ 8 10  2 ...  6  5  5]\n",
      "100\n"
     ]
    }
   ],
   "source": [
    "n, p = 10, .5  # number of trials, probability of each trial\n",
    "s = np.random.binomial(n, p, 100)\n",
    "print(s)  ## returns an array of 100 samples\n",
    "print(np.size(s))"
   ]
  },
  {
   "cell_type": "markdown",
   "metadata": {},
   "source": [
    "This returns a numpy array with 100 (size=100) samples drawn from a binomial distribution where the probability of success in each trial is 0.5 (p=0.5), where each number or sample returned represents the number of successes in each experiment which consist of 10 bernoulli trials (n=10)\n",
    "These 100 number represents the number of successes in each experiment where each experiment consists of 10 bernoulli trials each with 0.5 probability of success.\n",
    "`[ 8 10  2 ...  6  5  5]`\n",
    "8 out of 10 successes in the first experiment of 10 trials, 10 successes in the second experiment of 10 trials, 2 out of 10 successes in the  third experiment of 10 trials etc.."
   ]
  },
  {
   "cell_type": "markdown",
   "metadata": {},
   "source": [
    "### Plotting the Binomial distribution"
   ]
  },
  {
   "cell_type": "markdown",
   "metadata": {},
   "source": [
    "Here I am using seaborn to plot a Binomial distribution that has 100 trials in each experiment, the probability of success in each trial is 0.9 and the number of samples (or times the experiment is run) is 1000. \n",
    "As the plot shows, the distribution is skewed to the right because the probability of success in each trial is 0.9 so more samples will have more successes.\n",
    "When the probability of success is less than 0.5 then a left skewed distribution is expected. The probability of success probability determines the skew. A probability of 0.5 would have a centred distribution.\n",
    "\n",
    "If n is large enough, then the skew of the distribution is not as great and as mentioned above, a reasonable approximation to B(n, p) is given by the normal distribution.).\n",
    "When I increase the number of trials by multiples while keeping the same probability the skew becomes lesser and the curve looks more 'normal'."
   ]
  },
  {
   "cell_type": "code",
   "execution_count": 98,
   "metadata": {},
   "outputs": [
    {
     "data": {
      "image/png": "[encoded data removed]",
      "text/plain": [
       "<Figure size 720x504 with 2 Axes>"
      ]
     },
     "metadata": {},
     "output_type": "display_data"
    }
   ],
   "source": [
    "sns.set_style('darkgrid')\n",
    "n,p,size = 20, 0.9, 1000 # # number of trials, probability of success in each trial, number of samples (experiments run)\n",
    "# Generate a random datasets using random.binomial\n",
    "np.random.seed(10)\n",
    "b11 = np.random.binomial(n, p, size) # p= 0.1\n",
    "b22 = np.random.binomial(n*5, p, size) # p= 0.3\n",
    "\n",
    "# Set up the matplotlib figure\n",
    "f,axes = plt.subplots(2,1,figsize=(10,7),sharex=False)\n",
    "\n",
    "sns.distplot(b1, label=\"p=0.1\", kde=False,color=\"r\",ax=axes[0]) # p=0.1\n",
    "sns.distplot(b2, label=\"p=0.3\", kde=False, color=\"g\",ax=axes[1]) # p=0.5\n",
    "plt.suptitle(\"Binomial Distributions with different numbers of trials $n$\")\n",
    "\n",
    "plt.show()"
   ]
  },
  {
   "cell_type": "markdown",
   "metadata": {},
   "source": [
    "### Plotting the binomial distribution with various probabilities.\n",
    "Below I plot binomial distribution with increasing probabilities. The bottom left curve with probabilites of 0.5 is centred while the sample with lower probability is right skewed and the samples with probabilites closer to 1 are left skewed."
   ]
  },
  {
   "cell_type": "code",
   "execution_count": 99,
   "metadata": {},
   "outputs": [
    {
     "data": {
      "image/png": "[encoded data removed]",
      "text/plain": [
       "<Figure size 720x504 with 4 Axes>"
      ]
     },
     "metadata": {},
     "output_type": "display_data"
    }
   ],
   "source": [
    "# Set up the matplotlib figure\n",
    "\n",
    "sns.set_style('darkgrid')\n",
    "n,p,size = 20, 0.1, 10000 # # number of trials, probability of success in each trial, number of samples (experiments run)\n",
    "# Generate a random datasets using random.binomial\n",
    "\n",
    "b1 = np.random.binomial(n, p, size) # p= 0.1\n",
    "b2 = np.random.binomial(n, p+0.2, size) # p= 0.3\n",
    "b3= np.random.binomial(n, p+0.4, size) # p= 0.5\n",
    "b4= np.random.binomial(n, p+0.8, size) # p= 0.9\n",
    "\n",
    "# Set up the matplotlib figure\n",
    "f,axes = plt.subplots(2,2,figsize=(10,7),sharex=False)\n",
    "\n",
    "sns.distplot(b1, label=\"p=0.1\", kde=False, color=\"r\",ax=axes[0,0]) # p=0.1\n",
    "sns.distplot(b2, label=\"p=0.3\", kde=False, color=\"g\",ax=axes[0,1]) # p=0.5\n",
    "sns.distplot(b3 ,label=\"p=0.5\", kde=False, color=\"m\",ax=axes[1,0]) # p=0.9\n",
    "sns.distplot(b4 ,label=\"p=0.9\", kde=False, ax=axes[1,1]) # p=0.9\n",
    "\n",
    "\n",
    "plt.suptitle(\"Binomial Distributions with different probabilities $p$\")\n",
    "ax.set(xlabel=\"Binomial Distribution\", ylabel =\"Frequency\")\n",
    "\n",
    "plt.show()"
   ]
  },
  {
   "cell_type": "code",
   "execution_count": 99,
   "metadata": {},
   "outputs": [
    {
     "name": "stdout",
     "output_type": "stream",
     "text": [
      "The means of these distributions are for b1: 4.052, b2: 11.988, b3: 19.963 and b4: 36.011\n"
     ]
    }
   ],
   "source": [
    "print('The means of these distributions are for b1: %.3f, b2: %.3f, b3: %.3f and b4: %.3f' %(np.mean(b1), np.mean(b2), np.mean(b3), np.mean(b4))) # to 3 decim"
   ]
  },
  {
   "cell_type": "markdown",
   "metadata": {},
   "source": [
    "### looking at the statistics: mean, median, mode, variance and standard deviation\n",
    "\n",
    "Here I check that the mean of the distribution is equal to $n*P$ and that the standard deviation is equal to $sqrt(n*P*(1-p))$.\n",
    "In general, if np is an integer, then the mean, median, and mode coincide and equal np.\n",
    "This is shown below where the mean, median and mode are very similar and equal to n times p.\n",
    "\n",
    "There seems to be no mode function in numpy but there is one in the `scipy.stats` package which I use here.\n",
    "\n"
   ]
  },
  {
   "cell_type": "code",
   "execution_count": 113,
   "metadata": {},
   "outputs": [
    {
     "name": "stdout",
     "output_type": "stream",
     "text": [
      "Mean: 9.005 Median: 9.000 Standard Deviation: 2.514\n",
      "n times p : 9.000\n",
      "np.sqrt(n*p*(1-p)) 2.510\n"
     ]
    },
    {
     "data": {
      "text/plain": [
       "ModeResult(mode=array([9]), count=array([1577]))"
      ]
     },
     "execution_count": 113,
     "metadata": {},
     "output_type": "execute_result"
    }
   ],
   "source": [
    "n,p,size = 30, 0.3, 10000 # # number of trials, probability of success in each trial, number of samples (experiments run)\n",
    "# Generate a random datasets using random.binomial\n",
    "\n",
    "s1 = np.random.binomial(n, p, size) # p= 0.3\n",
    "\n",
    "from scipy import stats # no mode in numpy\n",
    "print('Mean: %.3f'% np.mean(s1), 'Median: %.3f' % np.median(s1),'Standard Deviation: %.3f' % np.std(s1))\n",
    "\n",
    "print('n times p : %.3f'% (n*p))\n",
    "print('np.sqrt(n*p*(1-p)) %.3f' %np.sqrt(n*p*(1-p)))\n",
    "stats.mode(s1)"
   ]
  },
  {
   "cell_type": "markdown",
   "metadata": {},
   "source": [
    "### Example of using numpy.random.binomial\n",
    "The [numpy random reference docs](https://numpy.org/doc/1.16/reference/generated/numpy.random.binomial.html#numpy-random-binomial) demonstrates the following real world example.\n",
    "\n",
    "*A company drills 9 wild-cat oil exploration wells, each with an estimated probability of success of 0.1. All nine wells fail. What is the probability of that happening?*\n",
    "To do this, 20,000 trials of the model are simulated and then the number generating zero positive results are counted\n",
    "where n =  9, p = 0.1 and size  = 20,000\n",
    "\n",
    "Below I use the example and expand on it:\n"
   ]
  },
  {
   "cell_type": "code",
   "execution_count": 114,
   "metadata": {},
   "outputs": [
    {
     "name": "stdout",
     "output_type": "stream",
     "text": [
      "0.39005\n"
     ]
    }
   ],
   "source": [
    "# set the parameters and create a sample, then check how many trials resulted in zero wells succeeding\n",
    "n,p,size = 9, 0.1, 20000\n",
    "s =np.random.binomial(n, p, size)\n",
    "print(sum(s == 0)/20000.) # what is probability of all 9 wells failing. "
   ]
  },
  {
   "cell_type": "markdown",
   "metadata": {},
   "source": [
    "This shows that there is a 39% probability of all 9 wells failing (0 succeeding) but I could also check the probability of all 9 being successful which is 0. The distribution plot shows the probabilities for each possible outcome. \n",
    "Below I use a lambda function to check for the probability for 0,1,2 .. up to all the 9 wells being successful.\n",
    "This corresponds with the plot below which shows that no well succeeding or only 1 well succeeding have the highest probabilites. The probabilites of more than two wells succeeding given p=0.1 is very small and the probabilities of more than two successful wells is very very small."
   ]
  },
  {
   "cell_type": "code",
   "execution_count": 115,
   "metadata": {},
   "outputs": [
    {
     "name": "stdout",
     "output_type": "stream",
     "text": [
      "0.39005\n",
      "0.0\n",
      "0.3874\n"
     ]
    }
   ],
   "source": [
    "\n",
    "print(sum(s == 0)/20000.) # what is probability of all 9 wells failing. \n",
    "print(sum(s == 9)/20000.) # probability of all 9 successeding\n",
    "print(sum(s == 1)/20000.) #probability of 1 well being successful\n"
   ]
  },
  {
   "cell_type": "markdown",
   "metadata": {},
   "source": [
    "##### Write a lambda function to check the probabilties of 0,1,2,3.. up to all 9 wells failing."
   ]
  },
  {
   "cell_type": "code",
   "execution_count": 116,
   "metadata": {},
   "outputs": [
    {
     "data": {
      "text/plain": [
       "[0.38265, 0.3898, 0.17455, 0.0463, 0.0083, 0.0007, 0.0, 0.0, 0.0, 0.0]"
      ]
     },
     "execution_count": 116,
     "metadata": {},
     "output_type": "execute_result"
    }
   ],
   "source": [
    "\n",
    "n,p,size = 9, 0.1, 20000 ## set the probability of success, number of bernouilli trials and number of samples or experiments\n",
    "g = lambda x: sum(np.random.binomial(n,p,size)==x)/size # \n",
    "\n",
    "[g(i) for i in range(10)] ## run the lambda function g to get the probabilities for the numbers in the range 0 to 9\n",
    "[np.mean(g(i)) for i in range(10)] # get the average \n"
   ]
  },
  {
   "cell_type": "code",
   "execution_count": 73,
   "metadata": {},
   "outputs": [
    {
     "data": {
      "text/plain": [
       "<matplotlib.axes._subplots.AxesSubplot at 0x1a1aeab630>"
      ]
     },
     "execution_count": 73,
     "metadata": {},
     "output_type": "execute_result"
    },
    {
     "data": {
      "image/png": "[encoded data removed]",
      "text/plain": [
       "<Figure size 720x288 with 1 Axes>"
      ]
     },
     "metadata": {},
     "output_type": "display_data"
    }
   ],
   "source": [
    "sns.distplot(s)"
   ]
  },
  {
   "cell_type": "markdown",
   "metadata": {},
   "source": [
    "If the probabiility is p=0.3 with n=10 trials in each experiment then the expected number of successful outcomes is 3 out of 10 trials in each experiment. "
   ]
  },
  {
   "cell_type": "markdown",
   "metadata": {},
   "source": [
    "***\n",
    "The Binomial distribution summarizes the number of successes k in a given number of Bernoulli trials n, with a given probability of success for each trial p.\n",
    "The examples on[ machinelearningmastery](https://machinelearningmastery.com/discrete-probability-distributions-for-machine-learning/) show how to simulate the Bernoulli process with randomly generated cases and count the number of successes over the given number of trials using the binomial() NumPy function. However these examples also make use of the [scipy-stats-binom](https://docs.scipy.org/doc/scipy/reference/generated/scipy.stats.binom.html#scipy-stats-binom) function but I will use these as a basis for an example using  `numpy.random.binomial` function.\n",
    "\n",
    "This `numpy.random.binomial` function takes the total number of trials and probability of success as arguments and returns the number of successful outcomes across the trials for one simulation.\n",
    "\n",
    "1. With n of 100 and p of 0.3 we would expect 30 cases to be successful.\n",
    "2. Can calculate the expected value (mean) and variance of this distribution."
   ]
  },
  {
   "cell_type": "code",
   "execution_count": 122,
   "metadata": {},
   "outputs": [
    {
     "name": "stdout",
     "output_type": "stream",
     "text": [
      "30.011\n"
     ]
    },
    {
     "data": {
      "image/png": "[encoded data removed]",
      "text/plain": [
       "<Figure size 432x288 with 1 Axes>"
      ]
     },
     "metadata": {},
     "output_type": "display_data"
    }
   ],
   "source": [
    "\n",
    "n,p,size = 100, 0.3, 1000 ## set the probability of success, number of bernouilli trials and number of samples or experiments\n",
    "s3 = np.random.binomial(100, 0.3, 1000)\n",
    "sns.distplot(s3)\n",
    "print(np.mean(s3))"
   ]
  },
  {
   "cell_type": "code",
   "execution_count": 118,
   "metadata": {},
   "outputs": [
    {
     "name": "stdout",
     "output_type": "stream",
     "text": [
      "Total Success: 26\n"
     ]
    }
   ],
   "source": [
    "# example of simulating a binomial process and counting success\n",
    "import numpy as np\n",
    "# define the parameters of the distribution\n",
    "n,p = 100, 0.3\n",
    "# run a single simulation\n",
    "success = np.random.binomial(n, p)\n",
    "print('Total Success: %d' % success)\n"
   ]
  },
  {
   "cell_type": "code",
   "execution_count": 119,
   "metadata": {},
   "outputs": [
    {
     "name": "stdout",
     "output_type": "stream",
     "text": [
      "Mean=26.000, Variance=0.000\n"
     ]
    }
   ],
   "source": [
    "# 2\n",
    "print('Mean=%.3f, Variance=%.3f' % (np.mean(success), np.var(success)))"
   ]
  },
  {
   "cell_type": "markdown",
   "metadata": {},
   "source": [
    "Calculate the probaility of so many successes in every 100 trials.\n",
    "Do this in steps of 10.\n",
    "This shows that as expected, 30 successful outcomes has the highest probability."
   ]
  },
  {
   "cell_type": "code",
   "execution_count": 126,
   "metadata": {},
   "outputs": [
    {
     "data": {
      "text/plain": [
       "[0.0, 0.9199999999999999, 9.01, 0.76, 0.0, 0.0, 0.0, 0.0, 0.0, 0.0]"
      ]
     },
     "execution_count": 126,
     "metadata": {},
     "output_type": "execute_result"
    }
   ],
   "source": [
    "n,p,size = 100, 0.3, 10000 ## set the probability of success, number of bernouilli trials and number of samples or experiments\n",
    "g = lambda x: sum(np.random.binomial(n,p,size)==x)/size*100 # \n",
    "[g(i) for i in range(10,110,10)] ## run the lambda function g to get the probabilities for the numbers in the range 0 to 9"
   ]
  },
  {
   "cell_type": "code",
   "execution_count": 127,
   "metadata": {},
   "outputs": [
    {
     "name": "stdout",
     "output_type": "stream",
     "text": [
      "probability of  10 successes in  100 trials is 0.0 %\n",
      "probability of  20 successes in  100 trials is 0.72 %\n",
      "probability of  30 successes in  100 trials is 8.97 %\n",
      "probability of  40 successes in  100 trials is 0.93 %\n",
      "probability of  50 successes in  100 trials is 0.0 %\n",
      "probability of  60 successes in  100 trials is 0.0 %\n",
      "probability of  70 successes in  100 trials is 0.0 %\n",
      "probability of  80 successes in  100 trials is 0.0 %\n",
      "probability of  90 successes in  100 trials is 0.0 %\n",
      "probability of  100 successes in  100 trials is 0.0 %\n"
     ]
    }
   ],
   "source": [
    "n,p=100,0.3\n",
    "\n",
    "for x in range(10,110,10):  # go up in steps of 10\n",
    "    success =np.random.binomial(n, p) ## calculate the number of successes\n",
    "    print('probability of ',x,'successes in ',n, 'trials is', sum(np.random.binomial(n,p,size)==x)/100,'%')    "
   ]
  },
  {
   "cell_type": "markdown",
   "metadata": {},
   "source": [
    "***"
   ]
  },
  {
   "cell_type": "markdown",
   "metadata": {},
   "source": [
    "## The Poisson Distribution Function"
   ]
  },
  {
   "cell_type": "markdown",
   "metadata": {},
   "source": [
    "***"
   ]
  },
  {
   "cell_type": "markdown",
   "metadata": {},
   "source": [
    "## The Poisson Distribution function\n",
    "<a id=\"poisson\"></a>\n",
    "\n",
    "*The `numpy.random.poisson` function is used to draw samples from a Poisson distribution. It takes a $\\lambda$ parameter as well as a `size` for the number of samples.*\n",
    "\n",
    "`numpy.random.poisson(lam=1.0, size=None)`\n",
    "The Poisson distribution is the limit of the binomial distribution for large N.\n",
    "\n",
    "\n",
    "***\n",
    "[The Poisson distribution](https://en.wikipedia.org/wiki/Poisson_distribution), named after French mathematician Siméon Denis Poisson, is a discrete probability distribution that expresses the probability of a given number of events occurring in a fixed interval of time or space if these events occur with a known constant rate and independently of the time since the last event. The Poisson distribution can also be used for the number of events in other specified intervals such as distance, area or volume. \n",
    "\n",
    "It was originally developed in France in the 1830's to look at the pattern of wrongful convictions in a year.\n",
    "A poisson distribution gives the probability of a number of events in an interval generated by a Poisson process which is a model for describing randomly occuring events. It is defined by the rate parameter, $\\lambda$, which is the expected number of events in the interval.\n",
    "\n",
    "A poisson random variable can be used to model the number of times an event happened in a time interval. \n",
    "A poisson distribution is the probability distribution of independent occurences of an event in an interval. It can be used for finding the probability of a number of events in a time period, or the probability of waiting some time until the next event occurs.\n",
    "\n",
    "The poisson probability distribution function takes one parameter which is lamda $\\lambda$ or the rate parameter which is a function of both the average events per time and the length of the time period  or the expected number of events in an interval. It can be used for count based distributions where the events happen with a known average rate and independently of time since the last event such as the number of times an event occurs in an interval of time or space such as number of winning lottery tickets per week, the number of visitors to a website in a period, the number of patients admitted to a hospital A&E in a particular hour, the number of goals scored by a team in a match etc. \n",
    "\n",
    "An event can occur 0, 1, 2, ... times in an interval. The average number of events in an interval is designated $\\lambda$\n",
    "which is the event rate known as the **rate** parameter. \n",
    "To find the probability of observing $k$ events in an interval you use the following formula:\n",
    "\n",
    "$${\\displaystyle P(k{\\text{ events in interval}})={\\frac {\\lambda ^{k}e^{-\\lambda }}{k!}}}$$\n",
    "\n",
    "where $\\lambda$  is the average number of events per interval, $e$ is the number 2.71828 (which is the base of the natural logarithms), $k$ takes values 0, 1, 2, ...\n",
    "$k! = k × (k − 1) × (k − 2) × ... × 2 × 1 $is the factorial of k.\n",
    "\n",
    "As the rate parameter $\\lambda$ is changed, the probability of seeing different numbers of events in one interval is changed. The most likely number of events in the interval for each curve is the rate parameter which is the only number needed to define the Poisson distribution. (As it is a product of events/interval and the interval length it can be changed by adjusting the number of events per interval or by adjusting the interval length).\n",
    "\n",
    "If you give the `numpy.random.poisson` function the mean or average number of occurances as $\\lambda$, it returns the probability that $k$ number of events will occur.\n",
    "The default settings is  $\\lambda$ = 1 and generate a single value.\n",
    "\n",
    "(lam=1.0, size=None)\n",
    "\n",
    "If you supply a rate parameter of 5 to the `numpy.random.poisson` function it will randomly generates numbers from 0,1,2,3 up to infinity but the most likely number to occur will be 5, then numbers at either side of 5, while others numbers are possible they are more unlikely than the rate and the numbers near the rate.\n",
    "5 would be the average being generated. \n",
    "The second paramenter is how many numbers to generate, defaults to a single number.\n"
   ]
  },
  {
   "cell_type": "markdown",
   "metadata": {},
   "source": [
    "### Using the `numpy.random.poisson` function.\n",
    "Starting off with the example from the documentation, set $\\lambda$ to 1 and draw 10,000 values from a poisson distribution that has a rate of 5."
   ]
  },
  {
   "cell_type": "markdown",
   "metadata": {},
   "source": [
    "```python\n",
    "import numpy as np  # from documentation\n",
    "s = np.random.poisson(5, 10000)\n",
    "import matplotlib.pyplot as plt\n",
    "count, bins, ignored = plt.hist(s, 14, density=True)\n",
    "plt.show()\n",
    "```"
   ]
  },
  {
   "cell_type": "markdown",
   "metadata": {},
   "source": [
    "#### Draw values from poisson distributions with difference $\\lambda$. \n",
    "\n",
    "Here I will draw samples from poisson distributions with different rate parameters in a 10 by 5 array.\n",
    "Create a DataFrame and then look at the summary statistics using the pandas.describe function."
   ]
  },
  {
   "cell_type": "code",
   "execution_count": 146,
   "metadata": {},
   "outputs": [],
   "source": [
    "# Draw each 10 values for lambda 5,10,15,20 and 50\n",
    "s = np.random.poisson(lam=(5, 10,15,20,50), size=(100, 5))"
   ]
  },
  {
   "cell_type": "code",
   "execution_count": null,
   "metadata": {},
   "outputs": [],
   "source": []
  },
  {
   "cell_type": "code",
   "execution_count": 147,
   "metadata": {},
   "outputs": [
    {
     "data": {
      "text/html": [
       "<div>\n",
       "<style scoped>\n",
       "    .dataframe tbody tr th:only-of-type {\n",
       "        vertical-align: middle;\n",
       "    }\n",
       "\n",
       "    .dataframe tbody tr th {\n",
       "        vertical-align: top;\n",
       "    }\n",
       "\n",
       "    .dataframe thead th {\n",
       "        text-align: right;\n",
       "    }\n",
       "</style>\n",
       "<table border=\"1\" class=\"dataframe\">\n",
       "  <thead>\n",
       "    <tr style=\"text-align: right;\">\n",
       "      <th></th>\n",
       "      <th>lambda=5</th>\n",
       "      <th>lambda10</th>\n",
       "      <th>lambda=15</th>\n",
       "      <th>lambda=20</th>\n",
       "      <th>lambda=50</th>\n",
       "    </tr>\n",
       "  </thead>\n",
       "  <tbody>\n",
       "    <tr>\n",
       "      <th>count</th>\n",
       "      <td>100.000000</td>\n",
       "      <td>100.000000</td>\n",
       "      <td>100.000000</td>\n",
       "      <td>100.000000</td>\n",
       "      <td>100.000000</td>\n",
       "    </tr>\n",
       "    <tr>\n",
       "      <th>mean</th>\n",
       "      <td>4.980000</td>\n",
       "      <td>10.170000</td>\n",
       "      <td>14.170000</td>\n",
       "      <td>19.710000</td>\n",
       "      <td>49.220000</td>\n",
       "    </tr>\n",
       "    <tr>\n",
       "      <th>std</th>\n",
       "      <td>2.449407</td>\n",
       "      <td>3.025331</td>\n",
       "      <td>3.584633</td>\n",
       "      <td>4.660808</td>\n",
       "      <td>6.473848</td>\n",
       "    </tr>\n",
       "    <tr>\n",
       "      <th>min</th>\n",
       "      <td>0.000000</td>\n",
       "      <td>4.000000</td>\n",
       "      <td>6.000000</td>\n",
       "      <td>10.000000</td>\n",
       "      <td>36.000000</td>\n",
       "    </tr>\n",
       "    <tr>\n",
       "      <th>25%</th>\n",
       "      <td>3.000000</td>\n",
       "      <td>8.000000</td>\n",
       "      <td>12.000000</td>\n",
       "      <td>16.000000</td>\n",
       "      <td>45.000000</td>\n",
       "    </tr>\n",
       "    <tr>\n",
       "      <th>50%</th>\n",
       "      <td>5.000000</td>\n",
       "      <td>10.000000</td>\n",
       "      <td>14.000000</td>\n",
       "      <td>20.000000</td>\n",
       "      <td>49.000000</td>\n",
       "    </tr>\n",
       "    <tr>\n",
       "      <th>75%</th>\n",
       "      <td>6.000000</td>\n",
       "      <td>13.000000</td>\n",
       "      <td>17.000000</td>\n",
       "      <td>23.000000</td>\n",
       "      <td>54.000000</td>\n",
       "    </tr>\n",
       "    <tr>\n",
       "      <th>max</th>\n",
       "      <td>13.000000</td>\n",
       "      <td>17.000000</td>\n",
       "      <td>24.000000</td>\n",
       "      <td>33.000000</td>\n",
       "      <td>65.000000</td>\n",
       "    </tr>\n",
       "  </tbody>\n",
       "</table>\n",
       "</div>"
      ],
      "text/plain": [
       "         lambda=5    lambda10   lambda=15   lambda=20   lambda=50\n",
       "count  100.000000  100.000000  100.000000  100.000000  100.000000\n",
       "mean     4.980000   10.170000   14.170000   19.710000   49.220000\n",
       "std      2.449407    3.025331    3.584633    4.660808    6.473848\n",
       "min      0.000000    4.000000    6.000000   10.000000   36.000000\n",
       "25%      3.000000    8.000000   12.000000   16.000000   45.000000\n",
       "50%      5.000000   10.000000   14.000000   20.000000   49.000000\n",
       "75%      6.000000   13.000000   17.000000   23.000000   54.000000\n",
       "max     13.000000   17.000000   24.000000   33.000000   65.000000"
      ]
     },
     "execution_count": 147,
     "metadata": {},
     "output_type": "execute_result"
    }
   ],
   "source": [
    "import pandas as pd\n",
    "poissondf= pd.DataFrame(s, columns=['lambda=5','lambda10','lambda=15','lambda=20','lambda=50'])\n",
    "poissondf\n",
    "poissondf.describe()"
   ]
  },
  {
   "cell_type": "markdown",
   "metadata": {},
   "source": [
    "```python\n",
    "s = np.random.poisson(3, 10000)\n",
    "ax = sns.distplot(s,\n",
    "                  bins=30,\n",
    "                  kde=False,\n",
    "                  color='skyblue',\n",
    "                  hist_kws={\"linewidth\": 15,'alpha':1})\n",
    "ax.set(xlabel='Poisson Distribution', ylabel='Frequency')\n",
    "```"
   ]
  },
  {
   "cell_type": "markdown",
   "metadata": {},
   "source": [
    "```python\n",
    "# Set up the matplotlib figure\n",
    "\n",
    "sns.set_style('ticks')\n",
    "lam,size = 2,1000\n",
    "# Generate a random datasets using random.binomial\n",
    "p1 = np.random.poisson(lam+3, size) \n",
    "p2 = np.random.poisson(lam+10, size) \n",
    "p3= np.random.poisson(lam+20, size)\n",
    "\n",
    "\n",
    "sns.distplot(p1,label = \"$\\lambda$=5\") # \n",
    "sns.distplot(p2, label = \"$\\lambda$a=12\") #\n",
    "sns.distplot(p3 ,label=\"$\\lambda$=22\") # p=0.9\n",
    "plt.legend()\n",
    "plt.title(\"Poisson Distribution with different $\\lambda$\")\n",
    "plt.show()\n",
    "```"
   ]
  },
  {
   "cell_type": "markdown",
   "metadata": {},
   "source": [
    "\n",
    "## need to overlay plots from the different distributions."
   ]
  },
  {
   "cell_type": "markdown",
   "metadata": {},
   "source": [
    "```python\n",
    "a = np.random.standard_normal(1000)\n",
    "b = np.random.normal(1,2,1000)\n",
    "c = np.random.uniform(-1,0,1000)\n",
    "\n",
    "d = np.random.poisson(5, 1000) \n",
    "e = np.random.binomial(10, 0.3, 1000)\n",
    "```"
   ]
  },
  {
   "cell_type": "markdown",
   "metadata": {},
   "source": [
    "```python\n",
    "sns.distplot(a, label =\"standard_normal\")\n",
    "sns.distplot(b, label =\"normal\")\n",
    "sns.distplot(c, label = \"uniform\")\n",
    "sns.distplot(d, label = \"poisson\")\n",
    "sns.distplot(e, label = \"binomial\")\n",
    "plt.title(\"Various distibution functions for same sample size\")\n",
    "plt.legend()\n",
    "```"
   ]
  },
  {
   "cell_type": "markdown",
   "metadata": {},
   "source": [
    "***\n",
    "<a id=\"seeds\"></a>\n",
    "# 4. Explain the use of seeds in generating pseudorandom numbers.\n",
    "[Back to top](#toc)  \n",
    "\n",
    "### Pseudo-random number generators (PRNG's) and seeds\n",
    "\n",
    "Computer programs produce outputs based on inputs and according to a set of predetermined rules. Pseudorandom numbers are generated in a sequence according to some **deterministic algorithm** from an input called a **seed** which is a number that is used to initialise the pseudorandom number generator. The seed used is typically the time in milliseconds on the computer when the code was run and is used as the starting point of the process.\n",
    "\n",
    "According to [statisticshowto](https://www.statisticshowto.datasciencecentral.com/random-seed-definition/), a random seed specifies the start point when a computer generates a random number. The random seed can be any number but it usually comes from seconds on the computer system's clock which counts in seconds from January 1, 1970.  (known as Unix time). This ensures that the same random sequence won't be repeated unless you actually want it to. \n",
    "\n",
    "Pseudo random number generators can be **seeded** which makes them **deterministic**. To recreate the exact same sequence of random numbers, then you can just explicitly supply the seed as an input to the random number generator. This means that while the numbers generated look random they are not truly random but **pseudorandom**. These pseudorandom numbers  contain no real randomness at all - randomness is just being imitated - but they can take the role of random numbers for certain applications.\n",
    "\n",
    "If you reinitialise a random number generator with the same seed, the default seed is ignored and the same sequence of pseudorandom numbers will be produced. \n",
    "\n",
    "This all means that the outputs can be repeated by following the same set of steps and given the same inputs.  Therefore if you know this **seed** then you can predict the next number to be generated in a sequence.  Pseudorandom number generators should therefore not be used for cryptographic purposes because their predictability could be used to break the encryption but there are times when the exact same sequences of numbers may be required. \n",
    "\n",
    "Psuedorandom numbers are suitable for purposes such as simulating datasets, testing machine learning algorithms etc as well as ensuring reproducibility of code for code sharing, teaching and demonstration purposes. Computer random number generation  algorithms are based on patterns which generate numbers that follow particular **probability distributions**. Setting a seed will produce the same sequence of random numbers each time. \n",
    "\n",
    "\n",
    "According to [pynative.com](https://pynative.com/python-random-seed/) \n",
    ">generally the seed value is the previous number generated by the generator. However, When the first time you use the random generator, there is no previous value. So by-default current system time is used as a seed value.\n",
    " \n",
    "\n",
    "There are many different ways to generate pseudo-random numbers. Python uses the **Mersenne Twister** as the core generator. According to [wikipedia](https://en.m.wikipedia.org/wiki/Mersenne_Twister), the Mersenne Twister is  a pseudorandom number generator (PRNG) and is by far the most widely used general-purpose PRNG whose name derives from the fact that its period length is chosen to be a Mersenne prime (a prime number that is one less than a power of two. That is, it is a prime number of the form Mn = 2n − 1 for some integer n.).\n",
    "\n",
    "***\n",
    "[Khan Academy](https://www.khanacademy.org) has a video that gives a very good overview of how seeds are used in random number generators at [Khan academy random vs pseudorandom number generators](https://www.khanacademy.org/computing/computer-science/cryptography/crypt/v/random-vs-pseudorandom-number-generators) from which the following notes are based.\n",
    "\n",
    "The physical world contans many truly random fluctuations everywhere. Truly random numbers could be generated by measuring or sampling this noise such as the electric current of tv static over time. Such random sequences could be visualised using a **random walk** where a path is drawn that changes direction according to each number. Random walks have no pattern at all as the next point is always unpredictable. Random processes are nondeterministic since they are impossible to determine in advance whereas machines are deterministic because their operation is predictable and repeatable.\n",
    "In 1946 while involved in running computations for the military, John Neumann required quick access to randomly generated numbers that could be repeated if necessary but as the computers of the time had very limited memory it could not store long random sequences. Nuemann therefore developed an algorithm to mechanically simulate the scrambling aspect of randomness as follows.\n",
    "\n",
    "First a truly random numbers called the **seed** (which could come from measurement of noise or the current time in milliseconds) is selected which is then provided as input to a very simple calculation where the seed is multiplied by itself, the middle of this output becomes the seed for the next step and the process repeated as many times as required. This was called the **middle-squares** method and was the first pseudorandom number generator. The randomness of the sequence depends only on the randomness of the initial seed and the same seed will generate the same sequence.\n",
    "\n",
    "The difference between a random generated versus a pseudorandomly generated sequence is that eventually the pseudorandom sequence will repeat when the algorithm reaches a seed it has previously used. There are many sequences that cannot occur in a pseudorandom sequence. \n",
    "The length before the pseudorandom sequence repeats is called the **period** and the period is strictly limited by the length of the initial seed. \n",
    "The longer the length of the initial seed the longer the period, so a 4 digit seed will produce a longer period of unrepeating sequences than a 3 digit seed which is will produce a longer period than a two digit seed etc. \n",
    "\n",
    "For a pseudorandom sequence to be indistinguishable from a randomly generated sequence, it must be impractical for a computer to try all seeds and look for a match. There is an important distinction in computer science between what is possible versus what is possible in a reasonable amount of time. With pseudorandom generators the security increases as the length of the seed increases. If the most powerful computer would take hundreds of years to run through all seeds then we can safely assume its practically secure instead of perfectly secure. As computers get faster the seed size must increase accordingly. \n",
    "\n",
    "Instead of having to share the entire random sequence in advance, you can share the relatively short random seed and expand it into the same random looking sequence when needed. \n",
    "\n",
    "In summary, pseudorandom number generators (prngs) are algorithms for generating random looking numbers drawn from a probability distribution where the numbers are generated according to some deterministic algorithm from the input seed. The seed is the starting point for the algorithm. Different numbers used as the seed will produce a different set of pseudo random numbers from the same algorithm as they have a different starting point. If the starting point is the same and the steps in the algorithm are the same, then the outputs will be the same. "
   ]
  },
  {
   "cell_type": "markdown",
   "metadata": {},
   "source": [
    "## Using seeds in numpy.random \n",
    "\n",
    "4. Explain the use of seeds in generating pseudorandom numbers\n",
    "\n",
    "According to the [numpy.random.seed](https://numpy.org/doc/1.16/reference/generated/numpy.random.seed.html#numpy-random-seed) documentation , the `numpy.random.seed(seed=None)` method is called when [RandomState](https://numpy.org/doc/1.16/reference/generated/numpy.random.RandomState.html#numpy-random-randomstate) is initialized and can be called again to re-seed the generator. \n",
    "\n",
    "In NumPy the Mersenne Twister is the basis for NumPy pseudo-random number generator.\n",
    "The `numpy.random.RandomState` class is the container for the Mersenne Twister pseudo-random number generator.\n",
    "`RandomState` exposes a number of methods for generating random numbers drawn from a variety of probability distributions. \n",
    "\n",
    "The random seed used to initialize the pseudo-random number generator can be any integer between 0 and `2**32 - 1` inclusive or a sequence of such integers. The default is *None* in which case `RandomState` will try to read data from `/dev/urandom` (or the Windows analogue) if available or seed from the clock otherwise.  \n",
    "[/dev/urandom](https://en.wikipedia.org/wiki//dev/random) are special files in Unix-like operating systems that serve as pseudorandom number generators which allow access to environmental noise collected from device drivers and other sources.\n",
    "\n",
    "The call to `numpy.random.seed` method allows the seed to be set in order to create completely repeatable or reproducible results. This seed function works with the numpy.random methods listed above to create particular types of random numbers from various probability distributions. In addition to the distribution-specific arguments, the number of random numbers can be can be specified by providing a *size* argument.\n",
    "\n",
    "If a numpy random function is used after providing a value to the `numpy.random.seed` function, then the very same set of random numbers can be generated again by calling the `numpy.random.seed` again with the same seed value.\n",
    "\n",
    "The same code will produce the exact same output if the same seed value is used. You can also use the seed function when randomly sampling from an array or other sequence of elements.\n",
    "\n",
    "Any NumPy random function that is executed with the same seed will produce the exact same result and this will ensure reproducibility.\n",
    "\n",
    "\n",
    "### Using `numpy.random.seed`\n",
    "\n",
    "I have used the `random.seed` method in this assignment for tasks 2 and 3 in order to generate the same sequence of random numbers when comparing the different functions. \n",
    "\n",
    "When the `random.seed` method is used with the same seed then the same sequence of random numbers will be generated when this number is used to seed the generator again. It doesn't really matter what number is used as the seed as long as the same number is used as a seed again when you want to generate the exact same sequence. If a different seed is used, then a different sequence of random numbers will be generated. The output of a random function will depend on the seed used and the algorithm the function uses. For other purposes such as for security then it might be appropriate to use a longer seed.  \n",
    "Without explicitly specifying a seed, a seed is generated from the */dev/urandom* file or the system clock. \n",
    "If you don't specify a seed it would be extremely difficult to reproduce the same sequence again. If the default seed is set from the computer systems internal clock to the millisecond, then the seed will change every moment that you use a numpy random function."
   ]
  },
  {
   "cell_type": "markdown",
   "metadata": {},
   "source": []
  },
  {
   "cell_type": "markdown",
   "metadata": {},
   "source": [
    "#### Generate random numbers with and without seeding the generator"
   ]
  },
  {
   "cell_type": "code",
   "execution_count": null,
   "metadata": {},
   "outputs": [],
   "source": [
    "import numpy as np\n",
    "print(\"\\n without using a seed\")\n",
    "for i in range(3):\n",
    "    x = np.random.rand(5) # generate a random float between 0 and 1 without using a seed\n",
    "    print(x)\n",
    " \n",
    "print(\"\\n using seed to give the same random sequences\")\n",
    "for i in range(3):\n",
    "    np.random.seed(10)\n",
    "    x = np.random.rand(5) # generate another random float between 0 and 1  using a seed\n",
    "    print(x)\n",
    "    \n",
    "print(\"\\n without seed to give the same random sequences\")\n",
    "for i in range(3):\n",
    "    x = np.random.randint(0,100,10) # generate another random float between 0 and 1  using a seed\n",
    "    print(x)\n",
    "    \n",
    "print(\"\\n using seed to give the same random sequences\")\n",
    "for i in range(3):\n",
    "    np.random.seed(10)\n",
    "    x = np.random.randint(0,100,10) # generate another random float between 0 and 1  using a seed\n",
    "    print(x)"
   ]
  },
  {
   "cell_type": "markdown",
   "metadata": {},
   "source": [
    "##### Random sampling from an array with and without seeding the generator."
   ]
  },
  {
   "cell_type": "markdown",
   "metadata": {},
   "source": [
    "Using loop to sample from an array of integers, first without setting the seed and then using the seed."
   ]
  },
  {
   "cell_type": "code",
   "execution_count": null,
   "metadata": {},
   "outputs": [],
   "source": [
    "\n",
    "np.random.seed(10)\n",
    "myarray = np.random.randint(0,100,10)  # create an array of ten random integers between 0 and 100 (exclusive)\n",
    "\n",
    "print(\"\\n sampling from an array without using a seed\") \n",
    "for i in range(3):\n",
    "    x = np.random.choice(myarray, 4) # sample 4 elements from the array \n",
    "    print(x)\n",
    "\n",
    "print(\"\\n Sampling from an array using a seed\")\n",
    "for i in range(3):\n",
    "    np.random.seed(10)\n",
    "    x = np.random.choice(myarray, 4) # sample 4 elements from the array \n",
    "    print(x)\n"
   ]
  },
  {
   "cell_type": "code",
   "execution_count": null,
   "metadata": {},
   "outputs": [],
   "source": [
    "np.random.seed(10)\n",
    "myarray2 = np.random.randint(0,100,10)  # create an array of ten random integers between 0 and 100 (exclusive)\n",
    "\n",
    "print(\"\\n sampling from an array without using a seed\") \n",
    "for i in range(3):\n",
    "    x = np.random.choice(myarray, 4) # sample 4 elements from the array \n",
    "    print(x)\n",
    "\n",
    "print(\"\\n Sampling from an array using a seed\")\n",
    "for i in range(3):\n",
    "    np.random.seed(10)\n",
    "    x = np.random.choice(myarray, 4) # sample 4 elements from the array \n",
    "    print(x)\n",
    "\n"
   ]
  },
  {
   "cell_type": "code",
   "execution_count": null,
   "metadata": {},
   "outputs": [],
   "source": [
    "import string\n",
    "\n",
    "print(\"\\n sampling from an array without using a seed\") \n",
    "for i in range(3):\n",
    "    x = np.random.choice(np.array(list(string.ascii_lowercase)), 4) # sample 4 elements from the array \n",
    "    print(x)\n",
    "\n",
    "print(\"\\n Sampling from an array using a seed\")\n",
    "for i in range(3):\n",
    "    np.random.seed(10)\n",
    "    x = np.random.choice(np.array(list(string.ascii_lowercase)), 4) # sample 4 elements from the array \n",
    "    print(x)"
   ]
  },
  {
   "cell_type": "markdown",
   "metadata": {},
   "source": [
    "[Back to top](#toc)\n",
    "\n",
    "    "
   ]
  },
  {
   "cell_type": "markdown",
   "metadata": {},
   "source": [
    "<a id='references'></a>\n",
    "## References\n",
    "\n",
    "### Python, GitHub and Jupyter resources\n",
    "- [python.org](https://docs.python.org/3/library/index.html)\n",
    "- Python for Data Analysis - Chapter 4 NumPy Basics: Arrays and Vectorised Computation by Wes McKinney\n",
    "- [Python Data Science Handbook by Jake VanderPlas ](https://jakevdp.github.io/PythonDataScienceHandbook/) \n",
    "- [Jake VanderPlas Website](http://vanderplas.com)\n",
    "- [numpy quickstart tutorial](https://numpy.org/devdocs/user/quickstart.html)\n",
    "- [NumPy random module](https://numpy.org/devdocs/reference/random/index.html?highlight=random#module-numpy.random)\n",
    "- [NumPy Reference manual version 1.16](https://numpy.org/doc/1.16/reference/index.html#numpy-reference) manual\n",
    "- [python - random library](https://docs.python.org/3/library/random.html#module-random)\n",
    "- Section 4.6 of Python for Data Analysis by Wes McKinney\n",
    "- [GitHub Flavoured Markdown](https://github.github.com/gfm/)\n",
    "- [Jupyter Notebook documentation](https://jupyter-notebook.readthedocs.io/en/stable/notebook.html#basic-workflow)\n",
    "- [Jupyter Notebook Tips, Tricks, and Shortcuts](https://www.dataquest.io/blog/jupyter-notebook-tips-tricks-shortcuts/)\n",
    "- [python random docs](https://docs.python.org/3/library/random.html#module-random)\n",
    "- [LaTeX equations in Jupyter](https://jupyter-notebook.readthedocs.io/en/stable/examples/Notebook/Working%20With%20Markdown%20Cells.html#LaTeX-equations)\n",
    "- [LaTeX cheat sheet from www.nyu.edu](https://www.nyu.edu/projects/beber/files/Chang_LaTeX_sheet.pdf)\n",
    "or [wch.github.io](https://wch.github.io/latexsheet/latexsheet-0.png)\n",
    "- [w3resource.com](https://www.w3resource.com/numpy)\n",
    "- [scikit-learn tutorial](https://scikit-learn.org/stable/tutorial/basic/tutorial.html)\n",
    "- [pythonprogramming.net](https://pythonprogramming.net)\n",
    "\n",
    "### Statistical Distributions\n",
    "- [realpython tutorial on random data](https://realpython.com/python-random/)\n",
    "- [The Poisson Distribution and Poisson Process Explained](https://towardsdatascience.com/the-poisson-distribution-and-poisson-process-explained-4e2cb17d459)\n",
    "- [A Concrete Introduction to Probability (using Python) by Peter Norvig](https://nbviewer.jupyter.org/url/norvig.com/ipython/Probability.ipynb) \n",
    "Note: I have not actually read through this in detail yet. It is linked in the python random module documentation.\n",
    "- [wolfram mathworld](http://mathworld.wolfram.com/topics/StatisticalDistributions.html)\n",
    "- [stattrek](https://stattrek.com)\n",
    "- [machinelearningmastery - discrete probability distributions](https://machinelearningmastery.com/discrete-probability-distributions-for-machine-learning/)\n",
    "- [Online Statistics Education online book](http://onlinestatbook.com/2/index.html)\n",
    "- [probability for dummies](https://www.dummies.com/education/math/probability/probability-for-dummies-cheat-sheet/)\n",
    "- [datacamp probability distributions tutorial](https://www.datacamp.com/community/tutorials/probability-distributions-python)\n",
    "- [ucd sheet](<http://www.ucd.ie/msc/t4media/Uniform%20Distribution.pdf>)\n",
    "- [6 common probability distributions blog](https://www.analyticsvidhya.com/blog/2017/09/6-probability-distributions-data-science/)\n",
    "\n",
    "#### Binomial Distribution\n",
    "- [mathworld](http://mathworld.wolfram.com/BinomialDistribution.html)\n",
    "- [towardsdatascience blog](https://towardsdatascience.com/fun-with-the-binomial-distribution-96a5ecabf65b)\n",
    "- [machinelearningmastery](https://machinelearningmastery.com/discrete-probability-distributions-for-machine-learning/)\n",
    "- [stattrek](https://stattrek.com/probability-distributions/binomial.aspx?Tutorial=AP)\n",
    "- [wikipedia](https://en.wikipedia.org/wiki/Binomial_distribution>)\n",
    "\n",
    "### Random Numbers\n",
    "- [pythonprogramming](https://pythonprogramming.net/monte-carlo-simulator-python/)\n",
    "- [Khan Academy]([Khan academy random vs pseudorandom number generators](https://www.khanacademy.org/computing/computer-science/cryptography/crypt/v/random-vs-pseudorandom-number-generators)\n",
    "- [machinelearningmaster - random number generators intro](https://machinelearningmastery.com/introduction-to-random-number-generators-for-machine-learning/)\n",
    "- [Analytics Training -random numbers applications](https://analyticstraining.com/random-numbers-applications/)\n",
    "- [blog on why randomness matters](https://blog.cloudflare.com/why-randomness-matters/)\n",
    "\n",
    "\n",
    "\n",
    "\n",
    "\n",
    "[Back to top](#toc)"
   ]
  },
  {
   "cell_type": "markdown",
   "metadata": {},
   "source": [
    "***\n"
   ]
  },
  {
   "cell_type": "markdown",
   "metadata": {},
   "source": [
    "<img src=\"/Simple_random_data.png\" width=\"400\" alt=\"Simple random data\" />"
   ]
  },
  {
   "cell_type": "code",
   "execution_count": null,
   "metadata": {},
   "outputs": [],
   "source": [
    "%run test.py"
   ]
  },
  {
   "cell_type": "markdown",
   "metadata": {},
   "source": [
    "\n",
    "$e^{i\\pi} + 1 = 0$\n",
    "$$e^x=\\sum_{i=0}^\\infty \\frac{1}{i!}x^i$$\n"
   ]
  },
  {
   "cell_type": "markdown",
   "metadata": {},
   "source": [
    "## Appendix\n",
    "\n",
    "Here I am moving items out of the main body.\n",
    "I dont yet want to lose them but they are not relevant to the assignment and this notebook is far too long!\n",
    "***\n",
    "\n",
    "***\n"
   ]
  },
  {
   "cell_type": "markdown",
   "metadata": {},
   "source": [
    "### Package and documentation versions.\n",
    "Version 1.16.2 is the version of NumPy that I am working with so the documentation I am referring to is the [NumPy Reference 1.16](https://numpy.org/doc/1.16/reference/index.html#numpy-reference) manual. This details functions, modules, and objects included in NumPy, describing what they are and what they do. It contains detailed reference documentation of the functions and classes contained in the NumPy package. \n",
    "***\n",
    "\n",
    "### Jupyter notebook settings\n",
    "In order to get the output of multiple python statements to print, instead of just the last statement in a cell, you can change the settings as per the [jupyter notebook tips, tricks and shortcuts blogpost by dataquest](https://www.dataquest.io/blog/jupyter-notebook-tips-tricks-shortcuts/).\n",
    "\n",
    "If the notebook doesn't render on GitHub as happens from time to time, copy the url into the [Jupyter nbviewer](https://nbviewer.jupyter.org)."
   ]
  }
 ],
 "metadata": {
  "kernelspec": {
   "display_name": "Python 3",
   "language": "python",
   "name": "python3"
  },
  "language_info": {
   "codemirror_mode": {
    "name": "ipython",
    "version": 3
   },
   "file_extension": ".py",
   "mimetype": "text/x-python",
   "name": "python",
   "nbconvert_exporter": "python",
   "pygments_lexer": "ipython3",
   "version": "3.7.3"
  }
 },
 "nbformat": 4,
 "nbformat_minor": 2
}
