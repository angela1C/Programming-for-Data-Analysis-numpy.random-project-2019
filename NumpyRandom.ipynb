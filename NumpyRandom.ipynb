{
 "cells": [
  {
   "cell_type": "markdown",
   "metadata": {},
   "source": [
    "# Programming for Data Analysis Assignment 2019\n",
    "\n",
    "The assignment concerns the `numpy.random` package in Python.\n",
    "Explain the use of the package including detailed explanations of at least five of the distributions provided for in the package.\n",
    "There are four distinct task to be carried out in the Jupyter Notebook.\n",
    "1. Explain the overall purpose of the package.\n",
    "2. Explain the use of the “Simple random data” and “Permutations” functions. \n",
    "3. Explain the use and purpose of at least five “Distributions” functions.\n",
    "4. Explain the use of seeds in generating pseudorandom numbers.\n",
    "***"
   ]
  },
  {
   "cell_type": "markdown",
   "metadata": {},
   "source": [
    "<a id='toc'></a>\n",
    "# Table of contents\n",
    "\n",
    "## Project Tasks\n",
    "\n",
    "1. [ Explain the overall purpose of the package](#task1)\n",
    "2. [Explain the use of the Simple random data and Permutations functions.](#task2)\n",
    "    - 2.1 [Simple random data functions](#task2.1)\n",
    "    - 2.2 [Permutations Functions](#task2.2)\n",
    "3. [Explain the use and purpose of at least five “Distributions” functions](#task3)\n",
    "4. [Explain the use of seeds in generating pseudorandom numbers](#task4)\n",
    "5. [References](#references)\n",
    "  \n",
    "***"
   ]
  },
  {
   "cell_type": "markdown",
   "metadata": {},
   "source": [
    "## Python and other software tools used in this project\n",
    "\n",
    "To download this repository, go to the URL for the repository on GitHub at https://github.com/angela1C/numpy.random.git.\n",
    "Click the green Clone or download button. \n",
    "\n",
    "\n",
    "### Python 3\n",
    "\n",
    "### Jupyter notebook\n",
    "\n",
    "#### Jupyter notebook settings\n",
    "In order to get the output of multiple python statements to print, instead of just the last statement in a cell, you can change the settings as per the [jupyter notebook tips, tricks and shortcuts blogpost by dataquest](https://www.dataquest.io/blog/jupyter-notebook-tips-tricks-shortcuts/).\n",
    "\n",
    "If the notebook doesn't render on GitHub as happens from time to time, copy the url into the [Jupyter nbviewer](https://nbviewer.jupyter.org).\n",
    "\n",
    "### NumPy package\n",
    "\n",
    "### Package and documentation versions.\n",
    "Version 1.16.2 is the version of NumPy that I am working with so the documentation I am referring to is the [NumPy Reference 1.16](https://numpy.org/doc/1.16/reference/index.html#numpy-reference) manual. This details functions, modules, and objects included in NumPy, describing what they are and what they do. It contains detailed reference documentation of the functions and classes contained in the NumPy package. \n",
    "\n",
    "***"
   ]
  },
  {
   "cell_type": "markdown",
   "metadata": {},
   "source": [
    "<a id='libraries'></a>\n",
    "### Import python libraries"
   ]
  },
  {
   "cell_type": "code",
   "execution_count": 2,
   "metadata": {},
   "outputs": [],
   "source": [
    "\n",
    "from IPython.core.interactiveshell import InteractiveShell\n",
    "InteractiveShell.ast_node_interactivity = \"all\"\n",
    "\n",
    "import numpy as np\n",
    "import pandas as pd\n",
    "import seaborn as sns\n",
    "import matplotlib.pyplot as plt"
   ]
  },
  {
   "cell_type": "code",
   "execution_count": null,
   "metadata": {},
   "outputs": [],
   "source": [
    "#np.version.version  # check what version of numpy and other packages I have installed.\n",
    "np.__version__  # '1.16.2'\n",
    "pd.__version__\n",
    "sns.__version__"
   ]
  },
  {
   "cell_type": "markdown",
   "metadata": {},
   "source": [
    "<a id='notes'></a>\n",
    "\n",
    "\n",
    "### some quick notes here - remove this later!\n",
    "- what is the stated aim of the package?\n",
    "- why would you want to generate random numbers?\n",
    "- pythons built-in `random` module can also generate random numbers so what is the difference.\n",
    "- how are random numbers generated using pseudo random number generator  \n",
    "- use plots to illustrate the difference between different probability distributions. \n",
    "\n",
    "The aim of the assignment is to be able to give a good overview of the numpy.random functions in your own words without rehashing the documentation. All of the functions return random value or values in some shape or form. \n",
    "\n",
    "I will go down through the simple random data functions and see how they differ from one another. A first glance at the functions in the documentation show that four of the functions return similar output. \n",
    "These are the following four functions which all return random floats in the half-open interval `[0.0,1.0)`\n",
    "\n",
    "- `random_sample([size])` returns random floats in the half-open interval `[0.0, 1.0)`  \n",
    "- `random([size])` also returns random floats in the half-open interval` [0.0, 1.0)`.\n",
    "- `ranf([size])` again returns random floats in the half-open interval `[0.0, 1.0)`.\n",
    "- `sample([size])` returns random floats in the half-open interval `[0.0, 1.0)`.\n",
    "\n",
    "I will look at these together and see how they differ. `random.randint` and `random.random_integer` also look quite similar. \n",
    "\n",
    "I first went through some of the functions for task 2 but having done that I am going to reduce some of the clutter there and integrate it somehow with task 3 related to distributions as they are very much related. Its just the way the documentation is laid out. Rather than going through the simple random data functions I will look at the simple random data functions for each of the distributions covered which seem to be just the uniform distribution and the normal and standard normal distributions.\n",
    "\n",
    "use some plots and statistics here to show the differences between the types of random numbers that would be generated from the different probability distributions.)\n",
    "\n",
    "All these functions just generate different random numbers according to different probabilities over different intervals.\n",
    "Pick a handful and show the differences between them. Need to have a programming knowledge of them.\n",
    "\n",
    "\n",
    "[Back to top](#toc)"
   ]
  },
  {
   "cell_type": "markdown",
   "metadata": {},
   "source": [
    "## Random numbers in Python"
   ]
  },
  {
   "cell_type": "markdown",
   "metadata": {},
   "source": [
    "<a id='task1'></a>\n",
    "# 1. Explain the overall purpose of the package numpy.random\n",
    "\n",
    "\n",
    "The **numpy.random** package is a sub-package or module of the **NumPy** package that contains many functions for the generation of random numbers. It is somewhat similar to the Python standard library **Random** module but with functions that work for NumPy's arrays. It can generate random numbers from a wide range of probability distributions. It has many functions for creating arrays of random numbers from the various statisitical probability distributions along with functions for randomly sampling from arrays. \n",
    "\n",
    "**NumPy**, short for Numerical Python, is one of the most important foundational packages for numerical computing in Python and many other packages that are used for data analytics and machine learning are built on NumPy. \n",
    "[W3resource](https://www.w3resource.com/numpy/index.php) describes NumPy as the \n",
    "> fundamental package for scientific computing in Python. It is a Python library that provides a multidimensional array object, various derived objects (such as masked arrays and matrices), and an assortment of routines for fast operations on arrays, including mathematical, logical, shape manipulation, sorting, selecting, I/O, discrete Fourier transforms, basic linear algebra, basic statistical operations, random simulation and much more. \n",
    "\n",
    "[what is NumPy](https://docs.scipy.org/doc/numpy/user/whatisnumpy.html) in the **Scipy** documentation gives a good overview of what exactly the **NumPy** package itself is for but I will give just a short overview of NumPy here.\n",
    "\n",
    "NumPy is a python library whose main data structure is the **ndarray**. This is a homogenuous multidimensional array object. An [array](https://en.wikipedia.org/wiki/Array_data_structure) is a data structure consisting of a collection of elements (values or variables), each identified by at least one array index or key. \n",
    "\n",
    "Python itself does not have an array data structure so the NumPy library allows for the creation and manipulatation of arrays of numbers. Although matrix operations are possible in Python, they are quite inefficient when compared to NumPy's capabilities on large multi-dimensional arrays of numbers and such matrix type operations are very commonly used when analysing data and for other computing purposes.\n",
    "\n",
    "A NumPy array resembles a table of elements that are all of the same type. The elements which are usually numbers are indexed by a tuple of positive integers. The *Axes* refer to the dimensions of a NumPy array.\n",
    "The NumPy package has many mathematical functions and algorithms for doing very fast numerical operations on arrays.\n",
    "\n",
    "Batch operations avoid the need to use loops by working on entire arrays of data at a time using **vectorisation** but using similar syntax to working with scalars.\n",
    "\n",
    "NumPy can also be used to simulate data. While csv data is commonly imported into NumPy for analysis (or into a package such as pandas that uses NumPy), it is often useful to be able to simulate data to analyse before the real data may be collected or available. \n",
    "  \n",
    "A NumPy **ndarray** can be created using the NumPy `array` function which takes any sequence-like objects such as lists, nested lists etc but there are other NumPy functions that also create new arrays such as `zeros`, `ones`, `empty`, `arange`, `full` and `eye` among others as detailed in the [numpy quickstart tutorial](https://numpy.org/devdocs/user/quickstart.html). NumPy's random module also creates ndarray objects.\n",
    "\n",
    "Some key points about any of NumPy's ndarray objects include:\n",
    "- The data in an *ndarray* must be homogeneous, that is all of it's data elements must of the same type.\n",
    "- Arrays have a *ndim* attribute for the number of axes or dimensions of the array\n",
    "- Arrays have a *shape* attribute which is a tuple that indicates the size of the array in each dimension.\n",
    "The length of the *shape* tupple is the number of axes that the array has. \n",
    "- Arrays have a *dtype* attribute which is an object that describes the data type of the array.\n",
    "- The `size` attribute is the total number of elements in the array.\n",
    "\n",
    "\n",
    "### Why not just use the Python standard library Random module?\n",
    "Python has a built-in [random](https://docs.python.org/3/library/random.html) module that provides a number of tools for working with random numbers. However this `random` module only generates or samples one value at a time.  Loops or iteration are used for working with sequences of random numbers while on the other hand the `numpy.random` module provides functions that can efficiently generate arrays of sample values from various probability distributions rather than one value at a time. NumPy's random module is much much faster and more efficient than python's random module for this purpose particularly when working with larger arrays.\n",
    "NumPy's random module is used more for generating random series of data rather than the scalar values generated by the python random module whereas the random module is sufficient for other purposes??\n",
    "\n",
    "The `numpy.random` package uses NumPy's key data structure - the multi-dimensional `ndarray` arrays. Given an input array of elements, random functions will allow you to select a random sample of elements from the array or generate sequences.\n",
    "\n",
    "\n",
    "Both Python's random and NumPy random packages generate pseudorandom numbers rather than actual random numbers. \n",
    "Actual random numbers cannot be generated by software applications. Both `random` modules implements **pseudorandom** numbers for various distributions. \n",
    "Python uses the **Mersenne Twister** as the core generator. The Mersenne Twister is one of the most extensively tested random number generators in existence. According to [wikipedia](https://en.m.wikipedia.org/wiki/Mersenne_Twister), the Mersenne Twister is by far the most widely used general-purpose pseudorandom number generator PRNG whose name derives from the fact that its period length is chosen to be a Mersenne prime (a prime number that is one less than a power of two. That is, it is a prime number of the form Mn = 2n − 1 for some integer n.).\n",
    "\n",
    "\n",
    "According to [wolfram mathworld](http://mathworld.wolfram.com/RandomNumber.html) a **random number** \n",
    ">is a number chosen as if by chance from some specified distribution such that selection of a large set of these numbers reproduces the underlying distribution. Almost always, such numbers are also required to be independent, so that there are no correlations between successive numbers. Computer-generated random numbers are sometimes called pseudorandom numbers, while the term \"random\" is reserved for the output of unpredictable physical processes. When used without qualification, the word \"random\" usually means \"random with a uniform distribution.\" Other distributions are of course possible.\n",
    "\n",
    "\n"
   ]
  },
  {
   "cell_type": "markdown",
   "metadata": {},
   "source": [
    "### Generating random numbers  \n",
    "[Back to top](#toc)  \n",
    "  \n",
    "\n",
    "*Random* numbers generated by either the built-in python `random` module or the `numpy.random` package or any other computer software application are not actually random at all but **pseudo-random** numbers. While they may appear random they are actually predetermined. Python's random package and numpy.random are pseudo-random number generators.\n",
    "\n",
    "In general, any computer program only produce outputs based on inputs and according to a set of predetermined steps or rules so therefore it would not be possible for a computer to generate truly random numbers. Computer software only generate sequences that look like random numbers in that you could not predict the next number generated unless you had a \n",
    "key piece of information which is called the **seed**. If you know this **seed** then you can predict the next number to be generated in a sequence and therefore the numbers generated are not actually random as such. A true random number generator would involve **hardware** while a computer program can only generate psuedo-random numbers.\n",
    "\n",
    "The random numbers are generated are in a sequence according to some **deterministic algorithm** from an input called a **seed** and therefore do not actually contain any randomness at all. The random numbers output are based on predetermined rules. This means that the outputs can be repeated by following the same set of steps and given the same inputs.\n",
    "\n",
    "The **seed** used is typically the time (to the microsecond) on the computer when the code was run. To recreate the exact same sequence of random numbers, then you can just explicitly supply the seed as an input to the random number generator.\n",
    "Without supplying a seed yourself explicitly, the current system time in milliseconds is used as the seed\n",
    "\n",
    "The sequence of numbers generated may have properties of randomness and look random but there is an important distinction between random and pseudorandom numbers. Pseudorandom number generators should never be used for cryptographic purposes because the predictability could be used to break the encryption.\n",
    "\n",
    "See [Section 4](#task4) for more detail relating to task 4. **Explain the use of seeds in generating pseudorandom numbers.**\n",
    "  \n",
    "You may want to generate the exact same sequence of numbers for testing or reproducibility. It is easier to share code that can be exactly reproduced by someone else to get the exact same results.\n"
   ]
  },
  {
   "cell_type": "code",
   "execution_count": null,
   "metadata": {},
   "outputs": [],
   "source": []
  },
  {
   "cell_type": "markdown",
   "metadata": {},
   "source": [
    "## Why generate random numbers?\n",
    "\n",
    "[Back to top](#toc)  \n",
    "The numpy.random package is used to generate random numbers (or pseudo random numbers) so I guess the question first is why would you want to generate random numbers!\n",
    "\n",
    "Being able to randomly select elements has many uses in computer applications such as gaming. \n",
    "The ability to generate sets of numbers from a particular probability distribution is also very useful for simulating a dataset, maybe in the absence of an actual dataset or for demonstrating or learning statistical and analytical concepts. Statistics and probability involve the concept of randomness and uncertainty.\n",
    "\n",
    "Data Analytics and Machine learning projects frequently rely on random samples of a datasets for testing and evaluation purposes. Often a dataset is split into training and test set where the dataset is shuffled and a classifier is built with a randomly selected subset of the dataset and the classifier is then tested on the remaining subset of the data. \n",
    "This allows you to evaluate the accuracy of the classifier before applying it to new observations as otherwise you would not know if the classifier was any good or not.\n",
    "\n",
    "There are many computational and statistical methods that use random numbers and random sampling. \n",
    "\n",
    "I think that some clustering algorithms often use random starting point. will come back to this.\n",
    "[Back to top](#toc)"
   ]
  },
  {
   "cell_type": "markdown",
   "metadata": {},
   "source": [
    "<a id='task2'></a>\n",
    "# 2. Explain the use of the “Simple random data” and “Permutations” functions.\n",
    "[Back to top](#toc)\n",
    "\n",
    "The [simple random data](https://numpy.org/doc/1.16/reference/routines.random.html#simple-random-data) functions listed under the [Random Sampling (numpy.random)](https://docs.scipy.org/doc/numpy-1.16.1/reference/routines.random.html#random-sampling-numpy-random.) of the NumPy documentation return arrays of random values in a given shape where the shape indicates the size of the array in each dimension.\n",
    "These functions may also return scalars. \n",
    "\n",
    "<a id='Simplerandomdata'></a>\n",
    "### Simple random data\n",
    "- `rand(d0, d1, …, dn)`\tRandom values in a given shape.\n",
    "- `randn(d0, d1, …, dn)`\tReturn a sample (or samples) from the “standard normal” distribution.\n",
    "- `randint(low[, high, size, dtype])`\tReturn random integers from low (inclusive) to high (exclusive).\n",
    "- `random_integers(low[, high, size])`\tRandom integers of type np.int between low and high, inclusive.\n",
    "- `random_sample([size])`\tReturn random floats in the half-open interval `[0.0, 1.0)`.\n",
    "- `random([size])`\tReturn random floats in the half-open interval `[0.0, 1.0)`.\n",
    "- `ranf([size])`\tReturn random floats in the half-open interval `[0.0, 1.0)`.\n",
    "- `sample([size])`\tReturn random floats in the half-open interval `[0.0, 1.0)`.\n",
    "- `choice(a[, size, replace, p])`\tGenerates a random sample from a given 1-D array\n",
    "- `bytes(length)`\tReturn random bytes.\n",
    "\n",
    "The simple random data functions listed here all sample from the uniform, normal or standard normal probability distributions. \n",
    "Some of the functions here are closely linked to some of the functions listed on the documentation under the [distributions](https://numpy.org/doc/1.16/reference/routines.random.html#distributions) section for such distributions. \n",
    "\n",
    "The section on [Distributions](#distributions) which are used to draw samples from a wide variety of probability distributions."
   ]
  },
  {
   "cell_type": "markdown",
   "metadata": {},
   "source": [
    "<a id='task2.1'></a>\n",
    "## 2.1 Simple random data functions\n",
    "[Back to top](#toc)"
   ]
  },
  {
   "cell_type": "markdown",
   "metadata": {},
   "source": [
    "\n",
    "<img src=\"/Simple_random_data.png\" width=\"400\" alt=\"Simple random data\" />\n",
    "\n",
    "[import libraries](#libraries)"
   ]
  },
  {
   "cell_type": "code",
   "execution_count": 1,
   "metadata": {},
   "outputs": [],
   "source": [
    "from IPython.core.interactiveshell import InteractiveShell\n",
    "InteractiveShell.ast_node_interactivity = \"all\"\n",
    "\n",
    "import numpy as np\n",
    "import pandas as pd\n",
    "import seaborn as sns\n",
    "import matplotlib.pyplot as plt"
   ]
  },
  {
   "cell_type": "markdown",
   "metadata": {},
   "source": [
    "***\n",
    "## Random Floats from the Standard Normal Distribution\n",
    "<a id='randn'></a>\n",
    "The **`numpy.random.randn()`** function will return a sample (or samples) of random values from the **standard normal distribution** which has a mean 0 and a standard deviation of 1. The standard normal distribution is also known as the Gaussian distribution.\n",
    "This function returns either a single value or a numpy array containing random floats sampled from a univariate “normal” distribution of mean 0 and variance 1.\n",
    "\n",
    "The dimensions of the resulting array depends on the arguments passed to the function.  A single float randomly sampled from the distribution is returned if no argument is provided. \n",
    ">A (d0, d1, ..., dn)-shaped array of floating-point samples from the standard normal distribution, or a single such float if no parameters were supplied.\n",
    "\n",
    "The **`numpy.random.randn()`** function is related to **`numpy.random.standard_normal`** function which is used to draw\n",
    "samples from a **Standard Normal distribution** (mean=0, stdev=1). \n",
    "`numpy.random.randn()` is actually a convenience function for `numpy.random.standard_normal`. It returns a single float or an ndarray of floats.\n",
    "You can get random samples from $N(\\mu, \\sigma^2)$ by scaling the values. This is done by multiplying the values by $\\sigma$ and adding $\\mu$. \n",
    "***\n",
    "\n",
    "- `numpy.random.standard_normal`  takes an optional size parameter which can be an integer or a tuple of integers. Otherwise a single value is returned. If a tuple of integers is provided then this determines the shape of the resulting array and the number of elements in the array. \n",
    "\n",
    ">(Output shape. If the given shape is, e.g., (m, n, k), then m * n * k samples are drawn.)\n",
    "\n",
    ">You can get random samples from $N(\\mu, \\sigma^2)$ by scaling the values. This is done by multiplying the values by $\\sigma$ (the standard deviation) and adding $\\mu$ (the mean). \n",
    "\n",
    ">sigma * np.random.randn(...) + mu.\n",
    "\n",
    "I will go into this more in the section about probability distributions.\n",
    "see [numpy.random.standard_normal](#standard_normal) distribution function."
   ]
  },
  {
   "cell_type": "markdown",
   "metadata": {},
   "source": [
    "Here I will create various sized arrays using `numpy.random.randn` function.\n",
    "If no argument is provided then a single float value is returned. The arguments can only be positive integers.\n",
    "If two arguments are provided then the returned ndarray will have two dimensions. The number of elements in the array will be the product of these two values.\n",
    "\n",
    "I have written a small function below to print the array attributes rather than repeating myself over and over!\n",
    "I will use my function `arrayinfo` to print the resulting arrays with their dimensions.\n"
   ]
  },
  {
   "cell_type": "code",
   "execution_count": 33,
   "metadata": {},
   "outputs": [],
   "source": [
    "def arrayinfo(myarray):  # pass the array to the function to print the attributes\n",
    "    \"\"\"print the attributes of the numpy array passed to this function\"\"\"\n",
    "    \n",
    "    print(f\"\\n This array is a {myarray.ndim} dimensional array, with a{myarray.shape} shape and the array has a total number of {myarray.size} {myarray.dtype} elements\")\n",
    "    #print(f\"\\n This array has a mean of {np.mean(myarray)} and standard deviation of {np.std(myarray)}\")\n",
    "    return myarray\n"
   ]
  },
  {
   "cell_type": "code",
   "execution_count": 73,
   "metadata": {},
   "outputs": [
    {
     "name": "stdout",
     "output_type": "stream",
     "text": [
      "\n",
      " This array is a 1 dimensional array, with a(10,) shape and the array has a total number of 10 float64 elements\n"
     ]
    },
    {
     "data": {
      "text/plain": [
       "array([ 1.683832  ,  0.96450875,  0.70007193,  1.18497957,  0.08389364,\n",
       "       -0.7094674 , -1.21896654, -0.14652673, -1.01849136, -0.05836458])"
      ]
     },
     "execution_count": 73,
     "metadata": {},
     "output_type": "execute_result"
    },
    {
     "name": "stdout",
     "output_type": "stream",
     "text": [
      "\n",
      " This array is a 2 dimensional array, with a(3, 2) shape and the array has a total number of 6 float64 elements\n"
     ]
    },
    {
     "data": {
      "text/plain": [
       "array([[-2.02564567,  0.98082484],\n",
       "       [ 0.24219407,  0.33176385],\n",
       "       [ 1.26450988, -0.93424381]])"
      ]
     },
     "execution_count": 73,
     "metadata": {},
     "output_type": "execute_result"
    },
    {
     "name": "stdout",
     "output_type": "stream",
     "text": [
      "\n",
      " This array is a 2 dimensional array, with a(5, 3) shape and the array has a total number of 15 float64 elements\n"
     ]
    },
    {
     "data": {
      "text/plain": [
       "array([[ 0.27835135,  0.73166779,  0.46670426],\n",
       "       [-1.38691501, -0.29130416,  1.67422586],\n",
       "       [-0.66310306,  0.39300962, -0.24523913],\n",
       "       [ 1.09622297, -0.22156643,  0.66545255],\n",
       "       [ 0.79274018, -0.71973844, -0.20287568]])"
      ]
     },
     "execution_count": 73,
     "metadata": {},
     "output_type": "execute_result"
    },
    {
     "name": "stdout",
     "output_type": "stream",
     "text": [
      "\n",
      " This array is a 3 dimensional array, with a(2, 2, 2) shape and the array has a total number of 8 float64 elements\n"
     ]
    },
    {
     "data": {
      "text/plain": [
       "array([[[-0.62321908,  1.39145932],\n",
       "        [-1.3357354 ,  1.1866396 ]],\n",
       "\n",
       "       [[-1.00645172,  1.26556461],\n",
       "        [ 0.59245069,  1.21443537]]])"
      ]
     },
     "execution_count": 73,
     "metadata": {},
     "output_type": "execute_result"
    },
    {
     "name": "stdout",
     "output_type": "stream",
     "text": [
      "\n",
      " This array is a 4 dimensional array, with a(2, 2, 2, 2) shape and the array has a total number of 16 float64 elements\n"
     ]
    },
    {
     "data": {
      "text/plain": [
       "array([[[[-0.25977826, -0.1188614 ],\n",
       "         [ 0.13548862,  0.312284  ]],\n",
       "\n",
       "        [[ 2.37726015,  2.90273462],\n",
       "         [-0.15723812, -0.54738732]]],\n",
       "\n",
       "\n",
       "       [[[-0.37994496,  0.25849004],\n",
       "         [-0.57154598, -0.15430268]],\n",
       "\n",
       "        [[-1.28067137,  0.87188146],\n",
       "         [-0.05618031,  0.97926138]]]])"
      ]
     },
     "execution_count": 73,
     "metadata": {},
     "output_type": "execute_result"
    }
   ],
   "source": [
    " # creates a one dimensional array of 10 values\n",
    "arrayinfo(np.random.randn(10))\n",
    "arrayinfo(np.random.randn(3,2)) # a 3 by 2 array of samples from standard normal distribution. This will have 3 times 2 value\n",
    "arrayinfo(np.random.randn(5,3))# a 5 by 3 array with 15 values\n",
    "arrayinfo(np.random.randn(2,2,2)) # a 3D array containing 2*2*2 = 8 values\n",
    "arrayinfo(np.random.randn(2,2,2,2)) # a 4D array containing 2*2*2*2 = 16 values\n"
   ]
  },
  {
   "cell_type": "markdown",
   "metadata": {},
   "source": [
    "### For random samples from $N(\\mu, \\sigma^2)$\n",
    "You can get random samples from $N(\\mu, \\sigma^2)$ by scaling the values. This is done by multiplying the values by $\\sigma$ and adding $\\mu$. "
   ]
  },
  {
   "cell_type": "code",
   "execution_count": 59,
   "metadata": {},
   "outputs": [
    {
     "data": {
      "text/plain": [
       "array([[ 1.20538406,  0.97182687,  3.63913998, -2.46409465,  4.88903094,\n",
       "         2.73033967,  1.19853186, -0.0419711 ,  1.42065664,  0.79388019,\n",
       "         2.94286584,  7.88975172,  1.80353008, -0.84654436,  7.34185877,\n",
       "         6.0464988 ,  3.05555197,  6.01649458,  1.86680697,  7.42382942,\n",
       "         0.38188608,  7.23183948,  4.6766763 ,  3.99380664,  2.54247518,\n",
       "        -1.06098358,  7.8055642 ,  9.60151305,  5.78663115,  7.3291816 ,\n",
       "         4.64837314, -1.7670694 ,  0.86891823,  6.30770056,  2.82085422,\n",
       "        -1.31396788,  6.88225158,  2.21037416,  3.30452881,  4.78598612,\n",
       "         5.00601183,  1.27227906,  0.30494326,  7.5884345 ,  4.99962811,\n",
       "         0.99817107,  9.89357673,  0.92514042, -0.26929369,  2.82066323],\n",
       "       [ 0.80258182,  4.17177079,  4.99127707,  4.07439767,  6.57247742,\n",
       "         5.50483072, -1.6320006 ,  2.3255545 ,  1.44381083,  3.7019217 ,\n",
       "         2.36373913, -0.08834819,  2.41057214,  5.32972346,  4.5703619 ,\n",
       "         3.7724463 ,  5.03796168,  2.33828963, -1.01582451, -0.79611202,\n",
       "         5.96304405,  9.05272102,  1.6979967 ,  4.569606  ,  3.90460283,\n",
       "        -0.95811055,  2.39393662,  4.11841797,  2.94377557,  1.91723877,\n",
       "         7.6167419 ,  8.86256743,  2.49756546, -0.86522619,  7.76353938,\n",
       "         2.35389763, -2.62736172,  5.29063041, -3.56662464,  6.93933535,\n",
       "         9.75780059,  0.70246436,  3.25300473,  4.3068257 ,  2.44653828,\n",
       "         7.58881212,  0.94630037,  2.22298973,  1.1027376 , -0.14088582]])"
      ]
     },
     "execution_count": 59,
     "metadata": {},
     "output_type": "execute_result"
    }
   ],
   "source": [
    "# Two-by-four array of samples from N(3, 6.25):\n",
    "\n",
    "2.5 * np.random.randn(2, 50) + 3"
   ]
  },
  {
   "cell_type": "code",
   "execution_count": 47,
   "metadata": {},
   "outputs": [
    {
     "data": {
      "text/plain": [
       "2.5"
      ]
     },
     "execution_count": 47,
     "metadata": {},
     "output_type": "execute_result"
    }
   ],
   "source": [
    "np.sqrt(6.25)"
   ]
  },
  {
   "cell_type": "code",
   "execution_count": 64,
   "metadata": {},
   "outputs": [
    {
     "name": "stdout",
     "output_type": "stream",
     "text": [
      " This array is a 2 dimensional array with 20000 elements, has a mean of 2.9941465809083967 and standard deviation of 2.5197845037844697\n",
      " This array is a 2 dimensional array with 200000 elements, has a mean of 3.005816083728727 and standard deviation of 2.5007989828819346\n"
     ]
    }
   ],
   "source": [
    "x = 2.5 * np.random.randn(20, 1000) + 3\n",
    "\n",
    "print(f\" This array is a {x.ndim} dimensional array with {x.size} elements, has a mean of {np.mean(x)} and standard deviation of {np.std(x)}\")\n",
    "x = 2.5 * np.random.randn(20, 10000) + 3\n",
    "\n",
    "print(f\" This array is a {x.ndim} dimensional array with {x.size} elements, has a mean of {np.mean(x)} and standard deviation of {np.std(x)}\")"
   ]
  },
  {
   "cell_type": "code",
   "execution_count": 7,
   "metadata": {},
   "outputs": [
    {
     "data": {
      "text/plain": [
       "0.3637369971220134"
      ]
     },
     "execution_count": 7,
     "metadata": {},
     "output_type": "execute_result"
    },
    {
     "data": {
      "text/plain": [
       "array([-0.07062066, -0.44169168,  0.12012795])"
      ]
     },
     "execution_count": 7,
     "metadata": {},
     "output_type": "execute_result"
    },
    {
     "data": {
      "text/plain": [
       "array([[-0.45765562, -0.70456646],\n",
       "       [ 1.15476696, -1.30999215],\n",
       "       [ 0.4032045 ,  0.42260935]])"
      ]
     },
     "execution_count": 7,
     "metadata": {},
     "output_type": "execute_result"
    }
   ],
   "source": [
    "np.random.standard_normal()\n",
    "np.random.standard_normal(3)\n",
    "# Unlike` numpy.random.randn()`, to get an array of random values rather than a single value, you need to provide a tuple.\n",
    "np.random.standard_normal((3,2))"
   ]
  },
  {
   "cell_type": "markdown",
   "metadata": {},
   "source": [
    "The Python standard library `random` package has a `gauss()` function which is used to sample random floats from a gaussian distribution. Unlike the `numpy.random.randn()` or `numpy.numpy.random.standard_normal` you do need to supply the parameters here for the mean and the standard deviation of the distribution from which the random values will be drawn. Here I use a loop to generate the sequence of random numbers, unlike numpy.random function which is a one liner. "
   ]
  },
  {
   "cell_type": "code",
   "execution_count": 72,
   "metadata": {},
   "outputs": [
    {
     "name": "stdout",
     "output_type": "stream",
     "text": [
      "0.17391144677469975,0.5162322950967666,0.2242250934464846,-1.2862288443233552,1.6153543302956288,-0.3168274158763256,-1.046780629699248,2.415001436132016,-0.2073456988600854,-0.7235638871580158\n"
     ]
    },
    {
     "data": {
      "text/plain": [
       "-0.36102964233974166"
      ]
     },
     "execution_count": 72,
     "metadata": {},
     "output_type": "execute_result"
    },
    {
     "data": {
      "text/plain": [
       "1.5443916536272668"
      ]
     },
     "execution_count": 72,
     "metadata": {},
     "output_type": "execute_result"
    }
   ],
   "source": [
    "\n",
    "import random # import random module from python standard library\n",
    "myseq =[] # create an empty list\n",
    "for i in range(10):  ## use a loop to generate a sequence of random numbers\n",
    "    random_gauss = random.gauss(0,1) # mean is 0, standard deviation is 10\n",
    "    myseq.append(random_gauss)\n",
    "print(*myseq, sep = \",\") # print elements of the list without the brackets\n",
    "\n",
    "random.gauss(1,3)\n",
    "random.gauss(0,1)"
   ]
  },
  {
   "cell_type": "markdown",
   "metadata": {},
   "source": [
    "[Back to top](#toc)\n",
    "\n",
    "***\n",
    "## Random Floating Numbers from the Uniform Distribution\n",
    "\n",
    "## 1. **The `numpy.random.rand` function**\n",
    "[numpy.random.rand(d0, d1, ..., dn)](https://numpy.org/doc/1.16/reference/generated/numpy.random.rand.html#numpy-random-rand) creates an array of random samples from a uniform distribution over `[0, 1)`. \n",
    "\n",
    "`numpy.random.rand` returns an array of floating point values or a single random value from a **uniform distribution** in the half-open interval `[0,1.)` The values returned can be any number from 0.0 up to 1 but not including 1. \n",
    "\n",
    "To use this function you can simply pass positive integer(s) as arguments which determine the dimensions of the array. Without passing any arguments a single float is returned. (Used like this `numpy.random.rand` would be similar to the `random` function in the python **random** standard library which also generates a single random value in the range between 0 and 1.).\n",
    "  \n",
    "The size and shape of the returned array will depend on the arguments provided. If you supply just a single integer as an argument, then the array that is returned is a 1 one-dimensional array containing a scalar. The shape is a tuple that shows the size of each dimension of the array.\n",
    "\n",
    "This function returns an array and as with numpy arrays in general, every row has the same number of elements and every columns has the same number of elements. There can be different number of rows as columns.\n",
    "\n",
    "I will also look at the following numpy.random simple random data functions which may be related. They all appear to return random floats in the half open interval between 0 and 1.\n",
    "\n",
    "- `random_sample([size])`\tReturn random floats in the half-open interval `[0.0, 1.0)`.\n",
    "- `random([size])`\tReturn random floats in the half-open interval `[0.0, 1.0)`.\n",
    "- `ranf([size])`\tReturn random floats in the half-open interval `[0.0, 1.0)`.\n",
    "- `sample([size])`\tReturn random floats in the half-open interval `[0.0, 1.0)`."
   ]
  },
  {
   "cell_type": "markdown",
   "metadata": {},
   "source": []
  },
  {
   "cell_type": "code",
   "execution_count": 68,
   "metadata": {},
   "outputs": [],
   "source": [
    "# Function to print the array and its attibutes\n",
    "def arrayinfo(myarray):  # pass the array to the function to print the attributes\n",
    "    \"\"\"print the attributes of the numpy array passed to this function\"\"\"\n",
    "\n",
    "    print(f\"This array is a {myarray.ndim} dimensional array, with a{myarray.shape} shape and the array has a total number of {myarray.size}  {myarray.dtype} elements\\n\")\n",
    "    return myarray\n",
    "\n",
    "\n"
   ]
  },
  {
   "cell_type": "code",
   "execution_count": 69,
   "metadata": {},
   "outputs": [
    {
     "name": "stdout",
     "output_type": "stream",
     "text": [
      "This array is a 3 dimensional array, with a(4, 1, 2) shape and the array has a total number of 8  float64 elements\n",
      "\n"
     ]
    },
    {
     "data": {
      "text/plain": [
       "array([[[0.36113925, 0.61719078]],\n",
       "\n",
       "       [[0.09252009, 0.64148724]],\n",
       "\n",
       "       [[0.78852529, 0.37919272]],\n",
       "\n",
       "       [[0.42866044, 0.20790093]]])"
      ]
     },
     "execution_count": 69,
     "metadata": {},
     "output_type": "execute_result"
    }
   ],
   "source": [
    "import numpy as np\n",
    "arrayinfo(np.random.rand(4,1,2))"
   ]
  },
  {
   "cell_type": "markdown",
   "metadata": {},
   "source": [
    "x = np.random.rand(10) # create a 1-dimensional array with 10 elements from uniform distribution\n",
    "arrayinfo(x)"
   ]
  },
  {
   "cell_type": "code",
   "execution_count": 75,
   "metadata": {},
   "outputs": [
    {
     "data": {
      "text/plain": [
       "'rand'"
      ]
     },
     "execution_count": 75,
     "metadata": {},
     "output_type": "execute_result"
    }
   ],
   "source": [
    "np.random.rand.__name__"
   ]
  },
  {
   "cell_type": "code",
   "execution_count": 71,
   "metadata": {},
   "outputs": [
    {
     "name": "stdout",
     "output_type": "stream",
     "text": [
      "This array is a 1 dimensional array, with a(1,) shape and the array has a total number of 1  float64 elements\n",
      "\n"
     ]
    },
    {
     "data": {
      "text/plain": [
       "array([0.73542615])"
      ]
     },
     "execution_count": 71,
     "metadata": {},
     "output_type": "execute_result"
    },
    {
     "name": "stdout",
     "output_type": "stream",
     "text": [
      "This array is a 1 dimensional array, with a(3,) shape and the array has a total number of 3  float64 elements\n",
      "\n"
     ]
    },
    {
     "data": {
      "text/plain": [
       "array([0.85754186, 0.75773242, 0.20517989])"
      ]
     },
     "execution_count": 71,
     "metadata": {},
     "output_type": "execute_result"
    },
    {
     "name": "stdout",
     "output_type": "stream",
     "text": [
      "This array is a 2 dimensional array, with a(3, 2) shape and the array has a total number of 6  float64 elements\n",
      "\n"
     ]
    },
    {
     "data": {
      "text/plain": [
       "array([[0.29090766, 0.9112484 ],\n",
       "       [0.24083928, 0.26425324],\n",
       "       [0.80438679, 0.66809417]])"
      ]
     },
     "execution_count": 71,
     "metadata": {},
     "output_type": "execute_result"
    },
    {
     "name": "stdout",
     "output_type": "stream",
     "text": [
      "This array is a 3 dimensional array, with a(1, 2, 3) shape and the array has a total number of 6  float64 elements\n",
      "\n"
     ]
    },
    {
     "data": {
      "text/plain": [
       "array([[[0.76667273, 0.65476172, 0.77970685],\n",
       "        [0.04449547, 0.2876642 , 0.16208358]]])"
      ]
     },
     "execution_count": 71,
     "metadata": {},
     "output_type": "execute_result"
    },
    {
     "name": "stdout",
     "output_type": "stream",
     "text": [
      "This array is a 3 dimensional array, with a(4, 1, 2) shape and the array has a total number of 8  float64 elements\n",
      "\n"
     ]
    },
    {
     "data": {
      "text/plain": [
       "array([[[0.37454542, 0.26428299]],\n",
       "\n",
       "       [[0.56756693, 0.7942294 ]],\n",
       "\n",
       "       [[0.0303302 , 0.09741886]],\n",
       "\n",
       "       [[0.90221041, 0.11498758]]])"
      ]
     },
     "execution_count": 71,
     "metadata": {},
     "output_type": "execute_result"
    },
    {
     "name": "stdout",
     "output_type": "stream",
     "text": [
      "This array is a 4 dimensional array, with a(1, 2, 3, 4) shape and the array has a total number of 24  float64 elements\n",
      "\n"
     ]
    },
    {
     "data": {
      "text/plain": [
       "array([[[[0.62892447, 0.17987898, 0.74211346, 0.06379851],\n",
       "         [0.54405863, 0.93894094, 0.18607318, 0.27873587],\n",
       "         [0.18015633, 0.5751779 , 0.53557951, 0.17867641]],\n",
       "\n",
       "        [[0.60205238, 0.08292474, 0.90688533, 0.57607528],\n",
       "         [0.89317776, 0.84531747, 0.21520302, 0.95696569],\n",
       "         [0.03328615, 0.62947675, 0.4355222 , 0.19890095]]]])"
      ]
     },
     "execution_count": 71,
     "metadata": {},
     "output_type": "execute_result"
    },
    {
     "data": {
      "text/plain": [
       "0.6819705659878763"
      ]
     },
     "execution_count": 71,
     "metadata": {},
     "output_type": "execute_result"
    }
   ],
   "source": [
    "x = np.random.rand(1)  # a single array with 1 element\n",
    "arrayinfo(x)\n",
    "\n",
    "x = np.random.rand(3)  # a single array with 3 elements\n",
    "arrayinfo(x)\n",
    "\n",
    "x =np.random.rand(3,2) ## array with 3 rows and 2 columns so 3 times 2 = 6 elements\n",
    "arrayinfo(x)\n",
    "\n",
    "#Next we can create an array (the outer []) which contains  3 inner arrays where each of these 3 arrays have 2 elements.\n",
    "#The number of elements is the 6 (3 times 2)\n",
    "\n",
    "x =np.random.rand(1,2,3)  # a 3 dimensional array \n",
    "arrayinfo(x)\n",
    "\n",
    "x =np.random.rand(4,1,2) # a 3 dimensional array \n",
    "arrayinfo(x)\n",
    "\n",
    "x =np.random.rand(1,2,3,4) # a 4 dimensional array \n",
    "arrayinfo(x)\n",
    "\n",
    "np.random.rand()  ## without any arguments, a scalar is returned\n",
    "\n"
   ]
  },
  {
   "cell_type": "markdown",
   "metadata": {},
   "source": [
    "#### comparing to the random module of python"
   ]
  },
  {
   "cell_type": "code",
   "execution_count": 57,
   "metadata": {},
   "outputs": [
    {
     "name": "stdout",
     "output_type": "stream",
     "text": [
      "0.308047739745292\n",
      "0.6621644180178464\n",
      "0.840559759838484\n",
      "0.7685431771778543\n",
      "0.5657217173581761\n"
     ]
    }
   ],
   "source": [
    "import random\n",
    "\n",
    "for i in range(5):  ## use a loop to generate a sequence of random numbers\n",
    "    random_number = random.random()\n",
    "    print(random_number)"
   ]
  },
  {
   "cell_type": "markdown",
   "metadata": {},
   "source": [
    "***\n",
    "## The `numpy.random.random_sample()` function and other similar functions\n",
    "- `numpy.random.random()`  \n",
    "- `numpy.random.ranf()` and \n",
    "- `numpy.random.sample()`\n",
    "\n",
    "\n",
    "## the numpy random.random function.\n",
    "\n",
    "This function returns random floats from the **continuous uniform** distribution in the half-open interval between 0.0 and 1.0 as do the other 3 functions listed here.\n",
    "The inputs and outputs to the functions appear to be the very same and the examples in the numpy documentation use the `numpy.random.random_sample` function in all cases!\n",
    "\n",
    "#### `numpy.random.random(size=None)` return random floats in the half-open interval `[0.0, 1.0`).\n",
    "\n",
    "Results are from the “continuous uniform” distribution over the stated interval. To sample `Unif[a, b)`, b > a multiply the output of random_sample by (b-a) and add a:  `(b - a) * random_sample() + a`\n",
    "Parameters:\n",
    "size : int or tuple of ints, optional\n",
    "Output shape. If the given shape is, e.g., (m, n, k), then m * n * k samples are drawn. Default is None, in which case a single value is returned.\n",
    "Returns:\t out : float or ndarray of floats\n",
    "Array of random floats of shape size (unless size=None, in which case a single float is returned).\n",
    "\n",
    "\n",
    "#### `numpy.random.random_sample(size=None)` returns random floats in the half-open interval `[0.0, 1.0)`.\n",
    "\n",
    "Results are from the “continuous uniform” distribution over the stated interval. To sample Unif`[a, b)`, b > a multiply the output of random_sample by (b-a) and add a:  `(b - a) * random_sample() + a`\n",
    "Parameters:\t\n",
    "size : int or tuple of ints, optional\n",
    "Output shape. If the given shape is, e.g., (m, n, k), then m * n * k samples are drawn. Default is None, in which case a single value is returned.\n",
    "Returns:\tout : float or ndarray of floats\n",
    "Array of random floats of shape size (unless size=None, in which case a single float is returned).\n",
    "\n",
    "\n",
    "#### `numpy.random.ranf(size=None)` returns random floats in the half-open interval `[0.0, 1.0)`.\n",
    "\n",
    "Results are from the “continuous uniform” distribution over the stated interval. To sample Unif`[a, b)`, b > a multiply the output of random_sample by (b-a) and add a:   `(b - a) * random_sample() + a`\n",
    "Parameters:\tsize : int or tuple of ints, optional\n",
    "Output shape. If the given shape is, e.g., (m, n, k), then m * n * k samples are drawn. Default is None, in which case a single value is returned.\n",
    "Returns:\tout : float or ndarray of floats\n",
    "\n",
    "#### `numpy.random.sample(size=None)` returns random floats in the half-open interval [0.0, 1.0).\n",
    "\n",
    "Results are from the “continuous uniform” distribution over the stated interval. To sample Unif`[a, b)`, b > a multiply the output of random_sample by (b-a) and add a: `(b - a) * random_sample() + a`\n",
    "Parameters:\tsize : int or tuple of ints, optional\n",
    "Output shape. If the given shape is, e.g., (m, n, k), then m * n * k samples are drawn. Default is None, in which case a single value is returned.\n",
    "Returns:\tout : float or ndarray of floats\n",
    "Array of random floats of shape size (unless size=None, in which case a single float is returned).\n",
    "\n",
    "\n",
    "\n",
    "Below I look at these four numpy.random functions which seem to return the same type of results when giving the same arguments for the size parameters.\n",
    "Note that as yet I am not using the random seed so the actual numbers returned should not be the same.\n",
    "\n",
    "\n",
    "\n"
   ]
  },
  {
   "cell_type": "code",
   "execution_count": 82,
   "metadata": {},
   "outputs": [
    {
     "data": {
      "text/plain": [
       "array([0.87737472, 0.92674473, 0.33227152, 0.5750703 , 0.60090098,\n",
       "       0.56609338, 0.48790746, 0.56816893, 0.978668  , 0.10567296])"
      ]
     },
     "execution_count": 82,
     "metadata": {},
     "output_type": "execute_result"
    },
    {
     "data": {
      "text/plain": [
       "array([0.44121396, 0.38009317, 0.46201773, 0.77366717, 0.17198255,\n",
       "       0.16106204, 0.25515265, 0.74875129, 0.34504635, 0.27775056])"
      ]
     },
     "execution_count": 82,
     "metadata": {},
     "output_type": "execute_result"
    },
    {
     "data": {
      "text/plain": [
       "array([0.37035793, 0.29810289, 0.06557281, 0.26907255, 0.25502794,\n",
       "       0.23908356, 0.67556454, 0.75308004, 0.69268702, 0.17388944])"
      ]
     },
     "execution_count": 82,
     "metadata": {},
     "output_type": "execute_result"
    },
    {
     "data": {
      "text/plain": [
       "array([0.327899  , 0.45573872, 0.56213799, 0.65545784, 0.12165437,\n",
       "       0.83253703, 0.73226256, 0.83982593, 0.25183539, 0.13934517])"
      ]
     },
     "execution_count": 82,
     "metadata": {},
     "output_type": "execute_result"
    }
   ],
   "source": [
    "size =10\n",
    "np.random.random_sample([size]) # Return random floats in the half-open interval `[0.0, 1.0)`.\n",
    "np.random.random([size]) # Return random floats in the half-open interval `[0.0, 1.0)`.\n",
    "np.random.ranf([size]) # return random floats in the half-open interval `[0.0, 1.0)`.\n",
    "np.random.sample([size]) # Return random floats in the half-open interval `[0.0, 1.0)`."
   ]
  },
  {
   "cell_type": "code",
   "execution_count": 84,
   "metadata": {},
   "outputs": [
    {
     "name": "stdout",
     "output_type": "stream",
     "text": [
      "\n",
      " This array is a 1 dimensional array, with a(10,) shape and the array has a total number of 10 float64 elements\n"
     ]
    },
    {
     "data": {
      "text/plain": [
       "array([0.69366089, 0.201972  , 0.74042215, 0.56551507, 0.55615109,\n",
       "       0.08499656, 0.51405247, 0.99601587, 0.28141893, 0.99755726])"
      ]
     },
     "execution_count": 84,
     "metadata": {},
     "output_type": "execute_result"
    },
    {
     "name": "stdout",
     "output_type": "stream",
     "text": [
      "\n",
      " This array is a 1 dimensional array, with a(10,) shape and the array has a total number of 10 float64 elements\n"
     ]
    },
    {
     "data": {
      "text/plain": [
       "array([0.4275802 , 0.14303059, 0.72002172, 0.51719601, 0.58538403,\n",
       "       0.08663535, 0.93161721, 0.91834943, 0.41810728, 0.60859324])"
      ]
     },
     "execution_count": 84,
     "metadata": {},
     "output_type": "execute_result"
    },
    {
     "name": "stdout",
     "output_type": "stream",
     "text": [
      "\n",
      " This array is a 1 dimensional array, with a(10,) shape and the array has a total number of 10 float64 elements\n"
     ]
    },
    {
     "data": {
      "text/plain": [
       "array([0.80518543, 0.55175411, 0.39930368, 0.42602508, 0.67640477,\n",
       "       0.23276812, 0.58438912, 0.11229692, 0.34312615, 0.17776643])"
      ]
     },
     "execution_count": 84,
     "metadata": {},
     "output_type": "execute_result"
    },
    {
     "name": "stdout",
     "output_type": "stream",
     "text": [
      "\n",
      " This array is a 1 dimensional array, with a(10,) shape and the array has a total number of 10 float64 elements\n"
     ]
    },
    {
     "data": {
      "text/plain": [
       "array([0.87483748, 0.75350723, 0.66462001, 0.61430993, 0.20499792,\n",
       "       0.95824456, 0.84830441, 0.12874189, 0.57768184, 0.21840884])"
      ]
     },
     "execution_count": 84,
     "metadata": {},
     "output_type": "execute_result"
    }
   ],
   "source": [
    "arrayinfo(np.random.random_sample([size]))\n",
    "arrayinfo(np.random.random([size]))\n",
    "arrayinfo(np.random.ranf([size]))\n",
    "arrayinfo(np.random.sample([size]))"
   ]
  },
  {
   "cell_type": "code",
   "execution_count": 93,
   "metadata": {},
   "outputs": [
    {
     "name": "stdout",
     "output_type": "stream",
     "text": [
      "\n",
      " This array is a 2 dimensional array, with a(2, 3) shape and the array has a total number of 6 float64 elements\n"
     ]
    },
    {
     "data": {
      "text/plain": [
       "array([[0.92697824, 0.77270703, 0.55279422],\n",
       "       [0.26481879, 0.97648338, 0.85066673]])"
      ]
     },
     "execution_count": 93,
     "metadata": {},
     "output_type": "execute_result"
    },
    {
     "name": "stdout",
     "output_type": "stream",
     "text": [
      "\n",
      " This array is a 2 dimensional array, with a(2, 3) shape and the array has a total number of 6 float64 elements\n"
     ]
    },
    {
     "data": {
      "text/plain": [
       "array([[0.15827641, 0.47635795, 0.27032424],\n",
       "       [0.53525217, 0.75148722, 0.93443919]])"
      ]
     },
     "execution_count": 93,
     "metadata": {},
     "output_type": "execute_result"
    },
    {
     "name": "stdout",
     "output_type": "stream",
     "text": [
      "\n",
      " This array is a 2 dimensional array, with a(2, 3) shape and the array has a total number of 6 float64 elements\n"
     ]
    },
    {
     "data": {
      "text/plain": [
       "array([[0.13897994, 0.4292272 , 0.22982672],\n",
       "       [0.09333337, 0.96161754, 0.741264  ]])"
      ]
     },
     "execution_count": 93,
     "metadata": {},
     "output_type": "execute_result"
    },
    {
     "name": "stdout",
     "output_type": "stream",
     "text": [
      "\n",
      " This array is a 2 dimensional array, with a(2, 3) shape and the array has a total number of 6 float64 elements\n"
     ]
    },
    {
     "data": {
      "text/plain": [
       "array([[0.6282697 , 0.35531365, 0.69283087],\n",
       "       [0.9733888 , 0.12679387, 0.60351671]])"
      ]
     },
     "execution_count": 93,
     "metadata": {},
     "output_type": "execute_result"
    }
   ],
   "source": [
    "size =(2,3)\n",
    "arrayinfo(np.random.random_sample(size))\n",
    "arrayinfo(np.random.random(size))\n",
    "arrayinfo(np.random.ranf(size))\n",
    "arrayinfo(np.random.sample(size))"
   ]
  },
  {
   "cell_type": "code",
   "execution_count": 91,
   "metadata": {},
   "outputs": [
    {
     "data": {
      "text/plain": [
       "(4, 4, 4)"
      ]
     },
     "execution_count": 91,
     "metadata": {},
     "output_type": "execute_result"
    },
    {
     "data": {
      "text/plain": [
       "array([[[0.96559386, 0.63505512, 0.54343061, 0.20193472],\n",
       "        [0.82042268, 0.7335767 , 0.84328218, 0.35033057],\n",
       "        [0.32933688, 0.63550001, 0.29394499, 0.94578074],\n",
       "        [0.30735139, 0.71617941, 0.75724245, 0.82334362]],\n",
       "\n",
       "       [[0.93968607, 0.89570197, 0.90509749, 0.25455194],\n",
       "        [0.58784125, 0.22447592, 0.01029788, 0.036407  ],\n",
       "        [0.6313991 , 0.58479736, 0.65983788, 0.16629075],\n",
       "        [0.89176259, 0.43059759, 0.82737551, 0.65829151]],\n",
       "\n",
       "       [[0.64335479, 0.21356419, 0.86059729, 0.89968911],\n",
       "        [0.66327719, 0.65034601, 0.76415234, 0.71026874],\n",
       "        [0.12013611, 0.16334905, 0.31996715, 0.10949235],\n",
       "        [0.62680366, 0.27757363, 0.71161588, 0.32209552]],\n",
       "\n",
       "       [[0.13265341, 0.72488728, 0.97231035, 0.43588532],\n",
       "        [0.00168236, 0.10477948, 0.4302954 , 0.73900018],\n",
       "        [0.09485743, 0.88161615, 0.55053831, 0.15634166],\n",
       "        [0.09358675, 0.82954577, 0.43227904, 0.94844359]]])"
      ]
     },
     "execution_count": 91,
     "metadata": {},
     "output_type": "execute_result"
    }
   ],
   "source": [
    "size\n",
    "np.random.random_sample(size)"
   ]
  },
  {
   "cell_type": "markdown",
   "metadata": {},
   "source": [
    " ### To sample $Unif[a, b), b > a$ \n",
    " multiply the output of random_sample by $(b-a)$ and add a:  `(b - a) * random_sample() + a`\n",
    " \n",
    " For example, to get a 3 by 2 array of random numbers from the uniform distribution over the interval $[-5, 0)$\n",
    " use `5 * np.random.random_sample((3, 2)) - 5`"
   ]
  },
  {
   "cell_type": "code",
   "execution_count": 98,
   "metadata": {},
   "outputs": [
    {
     "data": {
      "text/plain": [
       "array([[-2.25593248, -1.42405317],\n",
       "       [-1.98618312, -2.27558409],\n",
       "       [-2.881726  , -1.77052943]])"
      ]
     },
     "execution_count": 98,
     "metadata": {},
     "output_type": "execute_result"
    },
    {
     "data": {
      "text/plain": [
       "array([[-2.25593248, -1.42405317],\n",
       "       [-1.98618312, -2.27558409],\n",
       "       [-2.881726  , -1.77052943]])"
      ]
     },
     "execution_count": 98,
     "metadata": {},
     "output_type": "execute_result"
    },
    {
     "data": {
      "text/plain": [
       "array([[-2.25593248, -1.42405317],\n",
       "       [-1.98618312, -2.27558409],\n",
       "       [-2.881726  , -1.77052943]])"
      ]
     },
     "execution_count": 98,
     "metadata": {},
     "output_type": "execute_result"
    },
    {
     "data": {
      "text/plain": [
       "array([[-2.25593248, -1.42405317],\n",
       "       [-1.98618312, -2.27558409],\n",
       "       [-2.881726  , -1.77052943]])"
      ]
     },
     "execution_count": 98,
     "metadata": {},
     "output_type": "execute_result"
    }
   ],
   "source": [
    "np.random.seed(0)\n",
    "5 * np.random.random_sample((3, 2)) - 5\n",
    "np.random.seed(0)\n",
    "5 * np.random.random((3, 2)) - 5\n",
    "np.random.seed(0)\n",
    "5 * np.random.ranf((3, 2)) - 5\n",
    "np.random.seed(0)\n",
    "5 * np.random.sample((3, 2)) - 5\n"
   ]
  },
  {
   "cell_type": "markdown",
   "metadata": {},
   "source": [
    "The four functions `np.random.random_sample`, `np.random.random`, `np.random.ranf` and `np.random.sample` seem to return the exact same thing when using the same size arguments and intervals. This is shown using the numpy.random.seed function. "
   ]
  },
  {
   "cell_type": "code",
   "execution_count": null,
   "metadata": {},
   "outputs": [],
   "source": [
    "np.random.random_sample((5,)) # returns 5 values in the half open interval `[0.0,1.0]`\n",
    "np.random.random((5,))\n",
    "np.random.ranf((5,))\n",
    "np.random.sample((5,))"
   ]
  },
  {
   "cell_type": "code",
   "execution_count": null,
   "metadata": {},
   "outputs": [],
   "source": [
    "np.random.random_sample((5,2)) # returns a 5-by-2 array in the half open interval `[0.0,1.0]`\n",
    "np.random.random((5,2))\n",
    "np.random.ranf((5,2))\n",
    "np.random.sample((5,2))"
   ]
  },
  {
   "cell_type": "code",
   "execution_count": null,
   "metadata": {},
   "outputs": [],
   "source": [
    "4 * np.random.random_sample((3, 2)) - 4 # returns a 3-by-2 array of random numbers from [-4, 0). \n",
    "4 * np.random.random((3, 2)) - 4 # returns a 3-by-2 array of random numbers from [-4, 0). \n",
    "4 * np.random.ranf((3, 2)) - 4 # returns a 3-by-2 array of random numbers from [-4, 0). \n",
    "4 * np.random.sample((3, 2)) - 4 # returns a 3-by-2 array of random numbers from [-4, 0).\n"
   ]
  },
  {
   "cell_type": "code",
   "execution_count": 101,
   "metadata": {},
   "outputs": [
    {
     "data": {
      "text/plain": [
       "array([0.07103606, 0.0871293 ])"
      ]
     },
     "execution_count": 101,
     "metadata": {},
     "output_type": "execute_result"
    }
   ],
   "source": [
    "np.random.sample(2) # returns 2 values in the half open interval `[0.0,1.0]`"
   ]
  },
  {
   "cell_type": "markdown",
   "metadata": {},
   "source": [
    "***\n",
    "## Random integers from the Discrete Uniform Distribution\n",
    "\n",
    "### 1. The **`numpy.random.randint`** function.  \n",
    "\n",
    "[Back to top](#toc)\n",
    "\n",
    "Next I look at the [numpy.random.randint()](https://docs.scipy.org/doc/numpy-1.16.1/reference/generated/numpy.random.randint.html#numpy-random-randint) function which will return random integers from the **discrete uniform distribution** in the interval from low (inclusive) to high (exclusive). ($[low, high)$) \n",
    "\n",
    "**`numpy.random.randint()`** is used to generate an array of random integers. \n",
    "You must specify how many integers to be generated by providing a size parameter. You can also specify the range from which the random integers will be generated.\n",
    "\n",
    "There are four possible parameters you can give to this function but at least one is required. Size is the key word argument here which is used to specify how many random numbers should be generated.\n",
    "When only one parameter is supplied, this value is taken to be upper end of the range (exclusive) and a single integer is generated from 0 up to the upper range minus 1 so `np.random.randint(10)` would result in a single integer that could be any integer from 0 up to 9. \n",
    "\n",
    "When a second value is supplied to the function, the first valuer is treated as the low range parameter and the second is treated as the high range parameter so `np.random.randint(5,10)` would output a single integer between 5 inclusive and 9.\n",
    "\n",
    "The first two arguments relate to the range of values that could be drawn where low is the lowest integer to draw from the distribution, high is the integer after the last possible integer that could be drawn. The next numeric parameter is for the size of the resulting array. This can be a single integer or a tuple of integers for higher dimensions. This will determine the shape and size of the output. If the given shape is, e.g., (m, n, k), then m * n * k samples are drawn.\n",
    "\n",
    "If an argument is provides for the size, then a  size-shaped array of random integers from the appropriate distribution will be returned.\n",
    "\n",
    "The last possible argument is an optional `dtype` parameter which determines the dtype of the integers in the resulting array. This is not always required as the default value is `np.int` \n",
    "\n",
    "The `numpy.random.random_integers` function is similar to `numpy.random.randint` but the `numpy.random.random_integers` function is now deprecated. `numpy.random.random_integers` had a closed interval [low, high] with 1 being the lowest value if high is omitted and was used to generate uniformly distributed discrete non-integers.\n",
    "\n",
    "\n",
    "\n",
    "### compared to random.randint() function in base python\n",
    "\n",
    "random integer values can be generated using the `randint()` function of the random package. \n",
    "`random.randint(a, b)` returns a random integer N such that a <= N <= b.\n",
    "`random.randint` takes two arguments, a and b where a is the start of the range and b is the end of the range for the values that are generated. The values are generated from a uniform distribution.\n"
   ]
  },
  {
   "cell_type": "code",
   "execution_count": 4,
   "metadata": {},
   "outputs": [
    {
     "name": "stdout",
     "output_type": "stream",
     "text": [
      "\n",
      " This array is a 2 dimensional array, with a(2, 2) shape and the array has a total number of 4 int64 elements\n"
     ]
    },
    {
     "data": {
      "text/plain": [
       "array([[2, 8],\n",
       "       [3, 8]])"
      ]
     },
     "execution_count": 4,
     "metadata": {},
     "output_type": "execute_result"
    },
    {
     "name": "stdout",
     "output_type": "stream",
     "text": [
      "\n",
      " This array is a 1 dimensional array, with a(3,) shape and the array has a total number of 3 int64 elements\n"
     ]
    },
    {
     "data": {
      "text/plain": [
       "array([8, 7, 5])"
      ]
     },
     "execution_count": 4,
     "metadata": {},
     "output_type": "execute_result"
    },
    {
     "name": "stdout",
     "output_type": "stream",
     "text": [
      "\n",
      " This array is a 2 dimensional array, with a(3, 2) shape and the array has a total number of 6 int64 elements\n"
     ]
    },
    {
     "data": {
      "text/plain": [
       "array([[5, 9],\n",
       "       [8, 6],\n",
       "       [5, 6]])"
      ]
     },
     "execution_count": 4,
     "metadata": {},
     "output_type": "execute_result"
    },
    {
     "name": "stdout",
     "output_type": "stream",
     "text": [
      "\n",
      " This array is a 2 dimensional array, with a(2, 3) shape and the array has a total number of 6 int64 elements\n"
     ]
    },
    {
     "data": {
      "text/plain": [
       "array([[6, 7, 6],\n",
       "       [5, 9, 6]])"
      ]
     },
     "execution_count": 4,
     "metadata": {},
     "output_type": "execute_result"
    }
   ],
   "source": [
    "x = np.random.randint(10, size=(2,2))\n",
    "arrayinfo(x)\n",
    "\n",
    "x = np.random.randint(5,10,3)\n",
    "arrayinfo(x)\n",
    "\n",
    "x = np.random.randint(5,10,(3,2))\n",
    "arrayinfo(x)\n",
    "\n",
    "x = np.random.randint(5,10,(2,3))\n",
    "arrayinfo(x)"
   ]
  },
  {
   "cell_type": "code",
   "execution_count": 5,
   "metadata": {},
   "outputs": [
    {
     "name": "stdout",
     "output_type": "stream",
     "text": [
      "\n",
      " This array is a 3 dimensional array, with a(2, 3, 4) shape and the array has a total number of 24 int64 elements\n"
     ]
    },
    {
     "data": {
      "text/plain": [
       "array([[[8, 8, 9, 5],\n",
       "        [7, 5, 8, 9],\n",
       "        [8, 5, 8, 8]],\n",
       "\n",
       "       [[7, 9, 5, 6],\n",
       "        [8, 9, 5, 7],\n",
       "        [9, 8, 5, 6]]])"
      ]
     },
     "execution_count": 5,
     "metadata": {},
     "output_type": "execute_result"
    },
    {
     "data": {
      "text/plain": [
       "8"
      ]
     },
     "execution_count": 5,
     "metadata": {},
     "output_type": "execute_result"
    },
    {
     "data": {
      "text/plain": [
       "array([9, 6])"
      ]
     },
     "execution_count": 5,
     "metadata": {},
     "output_type": "execute_result"
    }
   ],
   "source": [
    "x = np.random.randint(5,10,(2,3,4))\n",
    "arrayinfo(x)\n",
    "\n",
    "np.random.randint(5,10)\n",
    "np.random.randint(5,10,2)\n"
   ]
  },
  {
   "cell_type": "code",
   "execution_count": 7,
   "metadata": {},
   "outputs": [
    {
     "name": "stdout",
     "output_type": "stream",
     "text": [
      "\n",
      " This array is a 1 dimensional array, with a(10,) shape and the array has a total number of 10 int64 elements\n"
     ]
    },
    {
     "data": {
      "text/plain": [
       "array([0, 1, 4, 1, 2, 1, 4, 3, 1, 3])"
      ]
     },
     "execution_count": 7,
     "metadata": {},
     "output_type": "execute_result"
    }
   ],
   "source": [
    "x = np.random.randint(5, size=10)  # a one dimensional array\n",
    "arrayinfo(x)"
   ]
  },
  {
   "cell_type": "code",
   "execution_count": 8,
   "metadata": {},
   "outputs": [
    {
     "name": "stdout",
     "output_type": "stream",
     "text": [
      "\n",
      " This array is a 2 dimensional array, with a(2, 4) shape and the array has a total number of 8 int64 elements\n"
     ]
    },
    {
     "data": {
      "text/plain": [
       "array([[3, 0, 3, 4],\n",
       "       [2, 1, 0, 3]])"
      ]
     },
     "execution_count": 8,
     "metadata": {},
     "output_type": "execute_result"
    },
    {
     "name": "stdout",
     "output_type": "stream",
     "text": [
      "\n",
      " This array is a 3 dimensional array, with a(2, 3, 4) shape and the array has a total number of 24 int64 elements\n"
     ]
    },
    {
     "data": {
      "text/plain": [
       "array([[[3, 1, 1, 1],\n",
       "        [3, 2, 2, 1],\n",
       "        [1, 2, 3, 2]],\n",
       "\n",
       "       [[3, 1, 3, 3],\n",
       "        [1, 3, 0, 3],\n",
       "        [2, 3, 0, 3]]])"
      ]
     },
     "execution_count": 8,
     "metadata": {},
     "output_type": "execute_result"
    },
    {
     "name": "stdout",
     "output_type": "stream",
     "text": [
      "\n",
      " This array is a 4 dimensional array, with a(2, 3, 4, 5) shape and the array has a total number of 120 int64 elements\n"
     ]
    },
    {
     "data": {
      "text/plain": [
       "array([[[[1, 1, 2, 3, 2],\n",
       "         [0, 3, 1, 4, 4],\n",
       "         [0, 1, 2, 0, 1],\n",
       "         [2, 4, 2, 4, 4]],\n",
       "\n",
       "        [[3, 1, 2, 4, 4],\n",
       "         [1, 0, 3, 1, 2],\n",
       "         [1, 3, 2, 1, 4],\n",
       "         [0, 2, 2, 0, 4]],\n",
       "\n",
       "        [[2, 3, 0, 3, 4],\n",
       "         [2, 3, 1, 0, 1],\n",
       "         [2, 3, 1, 3, 2],\n",
       "         [3, 2, 0, 0, 0]]],\n",
       "\n",
       "\n",
       "       [[[0, 4, 3, 1, 1],\n",
       "         [4, 0, 0, 0, 1],\n",
       "         [4, 1, 0, 0, 2],\n",
       "         [0, 4, 3, 3, 3]],\n",
       "\n",
       "        [[2, 3, 3, 4, 1],\n",
       "         [1, 0, 2, 4, 0],\n",
       "         [4, 1, 1, 0, 2],\n",
       "         [3, 0, 2, 1, 1]],\n",
       "\n",
       "        [[3, 1, 4, 2, 1],\n",
       "         [4, 4, 2, 0, 1],\n",
       "         [2, 4, 2, 1, 2],\n",
       "         [4, 0, 1, 3, 0]]]])"
      ]
     },
     "execution_count": 8,
     "metadata": {},
     "output_type": "execute_result"
    },
    {
     "data": {
      "text/plain": [
       "2"
      ]
     },
     "execution_count": 8,
     "metadata": {},
     "output_type": "execute_result"
    }
   ],
   "source": [
    "x = np.random.randint(5, size=(2, 4)) # Generate a 2 x 4 array of integers between 0 and 4, inclusive:\n",
    "arrayinfo(x)\n",
    "\n",
    "x = np.random.randint(5, size=(2, 3, 4)) # Generate a 3 dimensional array of integers\n",
    "arrayinfo(x)\n",
    "\n",
    "x = np.random.randint(5, size=(2, 3, 4,5)) # Generate a 4 dimensional array of integers\n",
    "arrayinfo(x)\n",
    "\n",
    "#np.random.random_integers(5)\n",
    "np.random.randint(1, 5 + 1)\n",
    "# DeprecationWarning: This function is deprecated. Please call randint(1, 5 + 1) instead"
   ]
  },
  {
   "cell_type": "markdown",
   "metadata": {},
   "source": [
    "`random_integers` was similar to randint, only for the closed interval [low, high], and 1 is the lowest value if high is omitted. In particular, this other one is the one to use to generate uniformly distributed discrete non-integers.\n",
    "This has now been deprecated. come back to this"
   ]
  },
  {
   "cell_type": "markdown",
   "metadata": {},
   "source": [
    "#### compared to python's random.randint\n",
    "\n",
    "Here I will write a loop to generate a sequence of random integers using the base python `random.randint` function.\n"
   ]
  },
  {
   "cell_type": "code",
   "execution_count": 9,
   "metadata": {},
   "outputs": [
    {
     "name": "stdout",
     "output_type": "stream",
     "text": [
      "[0, 4, 5, 1, 7, 5, 4, 6, 1, 8]\n",
      "0, 4, 5, 1, 7, 5, 4, 6, 1, 8\n"
     ]
    }
   ],
   "source": [
    "import random  # import random module\n",
    "myseq =[]  # create a list to hold the sequence of random numbers\n",
    "for i in range(10):  ## use a loop to generate a sequence of random numbers\n",
    "    random_integer = random.randint(0,10) # lower bound a is 0, upper bound b is 10\n",
    "    myseq.append(random_integer) # append the new element of the sequence to the list\n",
    "print(myseq) # return the lis    \n",
    "print(*myseq, sep = \", \") # return the list without the brackets. "
   ]
  },
  {
   "cell_type": "code",
   "execution_count": 10,
   "metadata": {},
   "outputs": [
    {
     "data": {
      "text/plain": [
       "array([5, 1, 4, 2, 4, 6, 7, 2, 7, 0])"
      ]
     },
     "execution_count": 10,
     "metadata": {},
     "output_type": "execute_result"
    }
   ],
   "source": [
    "np.random.randint(10,size =10)"
   ]
  },
  {
   "cell_type": "code",
   "execution_count": 43,
   "metadata": {},
   "outputs": [
    {
     "data": {
      "text/plain": [
       "<function RandomState.randint>"
      ]
     },
     "execution_count": 43,
     "metadata": {},
     "output_type": "execute_result"
    }
   ],
   "source": [
    "np.random.randint"
   ]
  },
  {
   "cell_type": "markdown",
   "metadata": {},
   "source": [
    "***\n",
    "# numpy.random.choice\n",
    "[numpy.random.choice(a, size=None, replace=True, p=None)](https://numpy.org/doc/1.16/reference/generated/numpy.random.choice.html#numpy-random-choice) generates a random sample from a given 1-D array\n",
    "\n",
    "The `numpy.random.choice` function is different to the other numpy.random simple random data functions it that it is used to generate a random sample of elements from the elements of a one-dimensional array whereas the simple random data function I looked at above are used to generate random numbers.\n",
    "\n",
    "To use this function you must provide the array as an argument or else an integer with which to create an array using the `np.arange` function. \n",
    "\n",
    "The sample returned could be a single value or an ndarray of values. By providing a size parameter, more than one value is sampled.\n",
    "\n",
    "The function defaults to using the 'with replacement' sampling method. You can specify that the random sample is without replacement so that the same element cannot be chosen again.\n",
    "\n",
    "If you don't provide the probabilities for each element of the input array the function will just assume a uniform distribution over all the elements where each elements is equally likely to be chosen. By providing the `p` probabilites, a non-uniform random sample is generated. The number of probabilities should equal the size parameter and the probabilities must sum to 1.0, otherwise an error results.\n",
    "\n",
    "The `numpy.random.choice` function can also be used on an array of elements other than integers. (This is similar to the `choice` function in the python random module which randomly chooses items from a provided list.)\n"
   ]
  },
  {
   "cell_type": "code",
   "execution_count": 59,
   "metadata": {},
   "outputs": [
    {
     "data": {
      "text/plain": [
       "8"
      ]
     },
     "execution_count": 59,
     "metadata": {},
     "output_type": "execute_result"
    },
    {
     "data": {
      "text/plain": [
       "array([2, 1, 4])"
      ]
     },
     "execution_count": 59,
     "metadata": {},
     "output_type": "execute_result"
    },
    {
     "data": {
      "text/plain": [
       "array([43, 17,  2, 81, 24, 71, 60, 63, 69, 16, 56, 87])"
      ]
     },
     "execution_count": 59,
     "metadata": {},
     "output_type": "execute_result"
    }
   ],
   "source": [
    "np.random.choice(10) # select a single element from an array created from np.arange(10)\n",
    "np.random.choice(5, 3)  # select 3 elements from an array of integers from 0 up to but not including 5\n",
    "np.random.choice(100, 12) #  select 12 elements from an array from 0 to 99 inclusive."
   ]
  },
  {
   "cell_type": "markdown",
   "metadata": {},
   "source": [
    "Note that `np.random.choice()` will result in a *TypeError: choice() takes at least 1 positional argument (0 given)* if not argument is provided."
   ]
  },
  {
   "cell_type": "code",
   "execution_count": 62,
   "metadata": {},
   "outputs": [
    {
     "data": {
      "text/plain": [
       "array([1, 4, 2, 2])"
      ]
     },
     "execution_count": 62,
     "metadata": {},
     "output_type": "execute_result"
    },
    {
     "data": {
      "text/plain": [
       "array([2, 0, 2, 1])"
      ]
     },
     "execution_count": 62,
     "metadata": {},
     "output_type": "execute_result"
    },
    {
     "data": {
      "text/plain": [
       "array([3, 4, 1, 3])"
      ]
     },
     "execution_count": 62,
     "metadata": {},
     "output_type": "execute_result"
    },
    {
     "data": {
      "text/plain": [
       "array([3, 2, 2, 4])"
      ]
     },
     "execution_count": 62,
     "metadata": {},
     "output_type": "execute_result"
    },
    {
     "data": {
      "text/plain": [
       "array([3, 4, 0, 3])"
      ]
     },
     "execution_count": 62,
     "metadata": {},
     "output_type": "execute_result"
    },
    {
     "data": {
      "text/plain": [
       "array([2, 0, 4, 4])"
      ]
     },
     "execution_count": 62,
     "metadata": {},
     "output_type": "execute_result"
    }
   ],
   "source": [
    "np.random.choice(5, 4, p=[0.2, 0.1, 0.3, 0.1, 0.3]) ## select 4 elements from integers from 0 to 5 exlusive, with probabilities specified for each element\n",
    "np.random.choice(5, 4, p=[0.2, 0.1, 0.3, 0.1, 0.3])\n",
    "np.random.choice(5, 4, p=[0.2, 0.1, 0.3, 0.1, 0.3])\n",
    "np.random.choice(5, 4, p=[0.2, 0.1, 0.3, 0.1, 0.3])\n",
    "np.random.choice(5, 4, p=[0.2, 0.1, 0.3, 0.1, 0.3])\n",
    "np.random.choice(5, 4, p=[0.2, 0.1, 0.3, 0.1, 0.3])"
   ]
  },
  {
   "cell_type": "code",
   "execution_count": null,
   "metadata": {},
   "outputs": [],
   "source": [
    "np.random.choice(['a','b','c','d','e','f'], 5, p=[0.2, 0.15, 0.15, 0.3, 0.1, 0.1]) # selecting from an array of non-integers"
   ]
  },
  {
   "cell_type": "code",
   "execution_count": null,
   "metadata": {},
   "outputs": [],
   "source": [
    "np.random.choice(['a','b','c','d','e','f'], 5, p=[0.2, 0.15, 0.15, 0.3, 0.1, 0.1], replace = False)"
   ]
  },
  {
   "cell_type": "markdown",
   "metadata": {},
   "source": [
    "The python `random` module also has a `choice()` function which is used to randomly select items from a list.\n",
    "[random.choice](https://docs.python.org/3/library/random.html#functions-for-sequences) returns a random element from a sequence. "
   ]
  },
  {
   "cell_type": "code",
   "execution_count": 68,
   "metadata": {},
   "outputs": [
    {
     "data": {
      "text/plain": [
       "'draw'"
      ]
     },
     "execution_count": 68,
     "metadata": {},
     "output_type": "execute_result"
    },
    {
     "data": {
      "text/plain": [
       "'win'"
      ]
     },
     "execution_count": 68,
     "metadata": {},
     "output_type": "execute_result"
    }
   ],
   "source": [
    "import random\n",
    "random.choice(['win', 'lose', 'draw']) \n",
    "np.random.choice(['win', 'lose', 'draw']) "
   ]
  },
  {
   "cell_type": "markdown",
   "metadata": {},
   "source": [
    "***\n",
    "## The numpy.random.bytes function.\n",
    "\n",
    "[numpy.random.bytes(length)](https://numpy.org/doc/1.16/reference/generated/numpy.random.bytes.html#numpy.random.bytes) returns a string of random bytes. The length of the string must be provided.\n",
    "\n",
    "I am not really sure about this function yet. It seems to return a bytes object. A bytes object is displayed as a sequence of bytes between quotes and preceded by 'b' or 'B'\n"
   ]
  },
  {
   "cell_type": "code",
   "execution_count": 20,
   "metadata": {},
   "outputs": [
    {
     "data": {
      "text/plain": [
       "b'\\x89\\xdd\\xc5'"
      ]
     },
     "execution_count": 20,
     "metadata": {},
     "output_type": "execute_result"
    },
    {
     "data": {
      "text/plain": [
       "b'T\\xfe\\xdd!'"
      ]
     },
     "execution_count": 20,
     "metadata": {},
     "output_type": "execute_result"
    },
    {
     "data": {
      "text/plain": [
       "bytes"
      ]
     },
     "execution_count": 20,
     "metadata": {},
     "output_type": "execute_result"
    },
    {
     "data": {
      "text/plain": [
       "bytes"
      ]
     },
     "execution_count": 20,
     "metadata": {},
     "output_type": "execute_result"
    }
   ],
   "source": [
    "a =np.random.bytes(1)\n",
    "b= np.random.bytes(2)\n",
    "np.random.bytes(3)\n",
    "np.random.bytes(4)\n",
    "type(a)\n",
    "type(b)\n"
   ]
  },
  {
   "cell_type": "code",
   "execution_count": 19,
   "metadata": {},
   "outputs": [
    {
     "data": {
      "text/plain": [
       "b'\\x00\\x00\\x00'"
      ]
     },
     "execution_count": 19,
     "metadata": {},
     "output_type": "execute_result"
    },
    {
     "data": {
      "text/plain": [
       "b'\\xc1\\x14\\xe9'"
      ]
     },
     "execution_count": 19,
     "metadata": {},
     "output_type": "execute_result"
    }
   ],
   "source": [
    "# A bytes object is displayed as a sequence of bytes between quotes and preceded by 'b' or 'B':\n",
    "bytes(3) # produces an empty sequence of 3 bytes\n",
    "np.random.bytes(3)"
   ]
  },
  {
   "cell_type": "markdown",
   "metadata": {},
   "source": [
    "Bytes literals are always prefixed with 'b' or 'B'; they produce an instance of the bytes type instead of the str type. They may only contain ASCII characters; bytes with a numeric value of 128 or greater must be expressed with escapes.\n",
    "\n",
    ">[Bytes objects](https://docs.python.org/3/library/stdtypes.html?highlight=bytes#bytes-objects)are immutable sequences of single bytes. Since many major binary protocols are based on the ASCII text encoding, bytes objects offer several methods that are only valid when working with ASCII compatible data and are closely related to string objects in a variety of other ways.\n",
    "\n",
    "One byte is a memory location with a size of 8 bits. A bytes object is an immutable sequence of bytes, conceptually similar to a string.\n",
    "\n",
    ">The bytes object is important because data written to disk is written as a stream of bytes, and because integers and strings are sequences of bytes. How the sequence of bytes is interpreted or displayed makes it an integer or a string.\n",
    "https://en.wikiversity.org/wiki/Python_Concepts/Bytes_objects_and_Bytearrays\n",
    "\n",
    "***"
   ]
  },
  {
   "cell_type": "markdown",
   "metadata": {},
   "source": [
    "## RandomState"
   ]
  },
  {
   "cell_type": "code",
   "execution_count": 49,
   "metadata": {},
   "outputs": [
    {
     "data": {
      "text/plain": [
       "<function RandomState.rand>"
      ]
     },
     "execution_count": 49,
     "metadata": {},
     "output_type": "execute_result"
    },
    {
     "data": {
      "text/plain": [
       "<function RandomState.randn>"
      ]
     },
     "execution_count": 49,
     "metadata": {},
     "output_type": "execute_result"
    },
    {
     "data": {
      "text/plain": [
       "<function RandomState.randint>"
      ]
     },
     "execution_count": 49,
     "metadata": {},
     "output_type": "execute_result"
    },
    {
     "data": {
      "text/plain": [
       "<function RandomState.random_sample>"
      ]
     },
     "execution_count": 49,
     "metadata": {},
     "output_type": "execute_result"
    },
    {
     "data": {
      "text/plain": [
       "<function RandomState.random_sample>"
      ]
     },
     "execution_count": 49,
     "metadata": {},
     "output_type": "execute_result"
    },
    {
     "data": {
      "text/plain": [
       "<function RandomState.random_sample>"
      ]
     },
     "execution_count": 49,
     "metadata": {},
     "output_type": "execute_result"
    },
    {
     "data": {
      "text/plain": [
       "<function RandomState.random_sample>"
      ]
     },
     "execution_count": 49,
     "metadata": {},
     "output_type": "execute_result"
    },
    {
     "data": {
      "text/plain": [
       "<function RandomState.choice>"
      ]
     },
     "execution_count": 49,
     "metadata": {},
     "output_type": "execute_result"
    },
    {
     "data": {
      "text/plain": [
       "<function RandomState.bytes>"
      ]
     },
     "execution_count": 49,
     "metadata": {},
     "output_type": "execute_result"
    }
   ],
   "source": [
    "np.random.rand\n",
    "np.random.randn\n",
    "np.random.randint\n",
    "np.random.random_sample\n",
    "np.random.random\n",
    "np.random.ranf\n",
    "np.random.sample\n",
    "np.random.choice\n",
    "np.random.bytes"
   ]
  },
  {
   "cell_type": "markdown",
   "metadata": {},
   "source": [
    "<a id='task2.2'></a>\n",
    "[Back to top](#toc)\n",
    "***\n",
    "## Permutations functions\n",
    "\n",
    "Explain the use of the “Permutations” functions. \n",
    "\n",
    "There are two permutations functions in the `numpy.random` package. \n",
    "\n",
    "- shuffle(x) is used to modify a sequence in-place by shuffling its contents.\n",
    "- permutation(x) to randomly permute a sequence, or return a permuted range.\n",
    "\n",
    "The numpy`shuffle` function shuffles a sequence in place so that the sequence provided to it is actually shuffled and not just a copy of the sequence."
   ]
  },
  {
   "cell_type": "markdown",
   "metadata": {},
   "source": [
    "### numpy.random.shuffle\n",
    "`numpy.random.shuffle(x)` is used to modify a sequence in-place by shuffling its contents.\n",
    "\n",
    "This function is used to shuffle an numpy array in-place. The contents of the numpy array is shuffled so that the contents are still the same but in a different order. The sequence is therefore changed with it's elements in a random order.\n",
    "\n",
    "If the array is multidimensional then this function will only shuffle the array along the first axis. The order of sub-arrays is changed but their contents remains the same. \n",
    "This basically swaps the order of the rows in the array, but not the order of the elements in each row.\n",
    "\n"
   ]
  },
  {
   "cell_type": "code",
   "execution_count": null,
   "metadata": {},
   "outputs": [],
   "source": [
    "import numpy as np"
   ]
  },
  {
   "cell_type": "code",
   "execution_count": 80,
   "metadata": {},
   "outputs": [
    {
     "name": "stdout",
     "output_type": "stream",
     "text": [
      "The original array[0 1 2 3 4 5 6 7 8 9] before being shuffled\n",
      "The shuffled array [2 8 9 1 6 5 0 7 4 3]\n"
     ]
    }
   ],
   "source": [
    "arr1 = np.arange(10)  # the original array is a range from 0 to 10 exclusive\n",
    "print(f\"The original array{arr1} before being shuffled\") # the original array before shuffling the contents in place\n",
    "np.random.shuffle(arr1) ## the shuffled array\n",
    "print(f\"The shuffled array {arr1}\") # the original array has been shuffled.\n"
   ]
  },
  {
   "cell_type": "markdown",
   "metadata": {},
   "source": [
    "The `numpy.random.shuffle` function only shuffles the array along the first axis of a multi-dimensional array. The order of sub-arrays is changed but their contents remains the same. Basically the rows have been moved about but not the elements in the rows.\n"
   ]
  },
  {
   "cell_type": "code",
   "execution_count": 86,
   "metadata": {},
   "outputs": [
    {
     "name": "stdout",
     "output_type": "stream",
     "text": [
      "The original array \n",
      "[[ 0  1  2  3]\n",
      " [ 4  5  6  7]\n",
      " [ 8  9 10 11]] \n",
      " before being shuffled\n",
      "\n",
      " The shuffled array \n",
      " [[ 0  1  2  3]\n",
      " [ 8  9 10 11]\n",
      " [ 4  5  6  7]] \n"
     ]
    }
   ],
   "source": [
    "arr = np.arange(12).reshape((3, 4))  ## create a 3 by 4 two-dimensional array\n",
    "print(f\"The original array \\n{arr} \\n before being shuffled\") # the original array before shuffling the contents in place\n",
    "np.random.shuffle(arr) # shuffle the array along the first axis only\n",
    "print(f\"\\n The shuffled array \\n {arr} \") # note that the array now has the same shape but the sub-arrays or rows have been swapped."
   ]
  },
  {
   "cell_type": "code",
   "execution_count": 87,
   "metadata": {},
   "outputs": [
    {
     "name": "stdout",
     "output_type": "stream",
     "text": [
      "The original array \n",
      "[[ 0  1  2  3]\n",
      " [ 4  5  6  7]\n",
      " [ 8  9 10 11]\n",
      " [12 13 14 15]\n",
      " [16 17 18 19]] \n",
      " before being shuffled\n",
      "\n",
      " The shuffled array \n",
      " [[ 4  5  6  7]\n",
      " [ 0  1  2  3]\n",
      " [ 8  9 10 11]\n",
      " [16 17 18 19]\n",
      " [12 13 14 15]] \n"
     ]
    }
   ],
   "source": [
    "arr = np.arange(20).reshape((5, 4))  ## create a 5 by 4 two-dimensional array of 20 elements \n",
    "print(f\"The original array \\n{arr} \\n before being shuffled\") # the original array before shuffling the contents in place\n",
    "np.random.shuffle(arr) # shuffle the array across the first dimenstion only.\n",
    "print(f\"\\n The shuffled array \\n {arr} \") # note that the array now has the same shape but the sub-arrays or rows have been s"
   ]
  },
  {
   "cell_type": "markdown",
   "metadata": {},
   "source": [
    "### numpy.random.permutation\n",
    "\n",
    "The [numpy.random.permutation](https://numpy.org/doc/1.16/reference/generated/numpy.random.permutation.html#numpy-random-permutation) function randomly permutes a sequence, or returns a permuted range.\n",
    "\n",
    "If x is a multi-dimensional array, it is only shuffled along its first index.\n",
    "\n",
    "This function takes an array or an integer to create a `np.arange` array from. \n",
    "If x is an integer, it will randomly permute the array created from `np.arange(x)`.\n",
    "If x is an array, it will make a copy and shuffle the elements randomly.\n",
    "\n",
    "The difference between the `numpy.random.shuffle` and the `numpy.random.permutation` seems to be that the original array is shuffled in the first case but only the copy is shuffled in the second case. This is where an array is provided and not where the function also has to create an array from `np.arange`.\n"
   ]
  },
  {
   "cell_type": "code",
   "execution_count": 91,
   "metadata": {},
   "outputs": [
    {
     "data": {
      "text/plain": [
       "array([[16, 17, 18, 19, 20, 21, 22, 23],\n",
       "       [ 0,  1,  2,  3,  4,  5,  6,  7],\n",
       "       [ 8,  9, 10, 11, 12, 13, 14, 15]])"
      ]
     },
     "execution_count": 91,
     "metadata": {},
     "output_type": "execute_result"
    },
    {
     "data": {
      "text/plain": [
       "array([[ 0,  1,  2,  3,  4,  5,  6,  7],\n",
       "       [ 8,  9, 10, 11, 12, 13, 14, 15],\n",
       "       [16, 17, 18, 19, 20, 21, 22, 23]])"
      ]
     },
     "execution_count": 91,
     "metadata": {},
     "output_type": "execute_result"
    }
   ],
   "source": [
    "arr = np.arange(24).reshape((3, 8)) # create an array\n",
    "np.random.permutation(arr) # permute the array makes a copy and shuffles the copy\n",
    "arr # the original array is unchanged."
   ]
  },
  {
   "cell_type": "code",
   "execution_count": 49,
   "metadata": {},
   "outputs": [
    {
     "data": {
      "text/plain": [
       "array([0, 9, 4, 7, 2, 8, 5, 6, 1, 3])"
      ]
     },
     "execution_count": 49,
     "metadata": {},
     "output_type": "execute_result"
    }
   ],
   "source": [
    "x = np.random.permutation(10) # create a range from 0 to 10 (exclusive) and then permute this array\n",
    "x  # the array is permuted\n"
   ]
  },
  {
   "cell_type": "code",
   "execution_count": 92,
   "metadata": {},
   "outputs": [
    {
     "data": {
      "text/plain": [
       "array([[0, 1, 2],\n",
       "       [3, 4, 5],\n",
       "       [6, 7, 8]])"
      ]
     },
     "execution_count": 92,
     "metadata": {},
     "output_type": "execute_result"
    },
    {
     "data": {
      "text/plain": [
       "array([[3, 4, 5],\n",
       "       [6, 7, 8],\n",
       "       [0, 1, 2]])"
      ]
     },
     "execution_count": 92,
     "metadata": {},
     "output_type": "execute_result"
    },
    {
     "data": {
      "text/plain": [
       "array([[0, 1, 2],\n",
       "       [3, 4, 5],\n",
       "       [6, 7, 8]])"
      ]
     },
     "execution_count": 92,
     "metadata": {},
     "output_type": "execute_result"
    }
   ],
   "source": [
    "a = np.arange(9).reshape((3, 3))  ## create a 3 by 3 two-dimensional array of 20 elements \n",
    "a\n",
    "np.random.permutation(a) # the array is copied and then the copy is shuffled.\n",
    "a # the original array remains as is."
   ]
  },
  {
   "cell_type": "code",
   "execution_count": 96,
   "metadata": {},
   "outputs": [
    {
     "name": "stdout",
     "output_type": "stream",
     "text": [
      "The original array before being shuffled / permuted \n",
      "[[ 0  1  2  3]\n",
      " [ 4  5  6  7]\n",
      " [ 8  9 10 11]\n",
      " [12 13 14 15]\n",
      " [16 17 18 19]] \n",
      " \n"
     ]
    },
    {
     "data": {
      "text/plain": [
       "array([[ 4,  5,  6,  7],\n",
       "       [16, 17, 18, 19],\n",
       "       [12, 13, 14, 15],\n",
       "       [ 0,  1,  2,  3],\n",
       "       [ 8,  9, 10, 11]])"
      ]
     },
     "execution_count": 96,
     "metadata": {},
     "output_type": "execute_result"
    },
    {
     "name": "stdout",
     "output_type": "stream",
     "text": [
      "\n",
      " A copy of the array was shuffled \n",
      " [[ 0  1  2  3]\n",
      " [ 4  5  6  7]\n",
      " [ 8  9 10 11]\n",
      " [12 13 14 15]\n",
      " [16 17 18 19]] and the original array unchanged\n"
     ]
    }
   ],
   "source": [
    "arr = np.arange(20).reshape((5, 4))  ## create a 5 by 4 two-dimensional array of 20 elements \n",
    "print(f\"The original array before being shuffled / permuted \\n{arr} \\n \") # the original array before being permuted\n",
    "np.random.permutation(arr) # permute the array across the first dimenstion only.\n",
    "print(f\"\\n A copy of the array was shuffled \\n {arr} and the original array unchanged\") # note that the array now has the same shape but the sub-arrays or rows have been s"
   ]
  },
  {
   "cell_type": "markdown",
   "metadata": {},
   "source": [
    "### compare numpy.random.shuffle and numpy.random.permutation"
   ]
  },
  {
   "cell_type": "code",
   "execution_count": 70,
   "metadata": {},
   "outputs": [
    {
     "data": {
      "text/plain": [
       "array([[0, 1, 2],\n",
       "       [3, 4, 5],\n",
       "       [6, 7, 8]])"
      ]
     },
     "execution_count": 70,
     "metadata": {},
     "output_type": "execute_result"
    }
   ],
   "source": [
    "a = np.arange(9).reshape((3, 3))  ## create a 3 by 3 two-dimensional array of 20 elements \n",
    "a\n",
    "np.random.shuffle(a) # provide an array\n",
    "#a # "
   ]
  },
  {
   "cell_type": "code",
   "execution_count": 97,
   "metadata": {},
   "outputs": [
    {
     "data": {
      "text/plain": [
       "array([[0, 1, 2],\n",
       "       [3, 4, 5],\n",
       "       [6, 7, 8]])"
      ]
     },
     "execution_count": 97,
     "metadata": {},
     "output_type": "execute_result"
    },
    {
     "data": {
      "text/plain": [
       "array([[3, 4, 5],\n",
       "       [0, 1, 2],\n",
       "       [6, 7, 8]])"
      ]
     },
     "execution_count": 97,
     "metadata": {},
     "output_type": "execute_result"
    }
   ],
   "source": [
    "a = np.arange(9).reshape((3, 3))  ## create a 3 by 3 two-dimensional array of 20 elements \n",
    "a\n",
    "np.random.permutation(a) # provide an array"
   ]
  },
  {
   "cell_type": "markdown",
   "metadata": {},
   "source": [
    "[Back to top](#toc)\n",
    "***"
   ]
  },
  {
   "cell_type": "markdown",
   "metadata": {},
   "source": [
    "<a id='task3'></a>\n",
    "# 3. Explain the use and purpose of at least five “Distributions” functions.\n",
    "\n",
    "[Back to top](#toc)  \n",
    "\n",
    "\n",
    "<a id='distributions'></a>\n",
    "Random numbers can be drawn from different probability distributions.\n",
    "While the functions outlined under the [Simple random data](#Simplerandomdata) section of the [Random sampling (numpy.random)](https://numpy.org/doc/1.16/reference/routines.random.html#simple-random-data) are noted as functions that return random values in a given shape, the functions under the [Distributions](https://numpy.org/doc/1.16/reference/routines.random.html#distributions) section are noted as functions that draw samples from a particular probability distribution. \n",
    "The following is the complete list of such functions listed under [Distributions](https://numpy.org/doc/1.16/reference/routines.random.html#distributions) but for the purposes of the assignment I am looking at just 5 of the distributions.\n",
    "\n",
    "Each of these distribution functions generate different random numbers according to different probabilities over different intervals.\n",
    "I will look at the differences between the various numpy.random distribution functions and illustrate using plots.\n",
    "Plots and statistics will show the differences between the types of random numbers that would be generated from the different probability distributions.\n",
    "\n",
    "\n",
    "\n",
    "## Distributions\n",
    "- `beta(a, b[, size])` \tDraw samples from a Beta distribution.\n",
    "- `binomial(n, p[, size])` \tDraw samples from a binomial distribution.\n",
    "- `chisquare(df[, size])` \tDraw samples from a chi-square distribution.\n",
    "- `dirichlet(alpha[, size])` \tDraw samples from the Dirichlet distribution.\n",
    "- `exponential([scale, size])` \tDraw samples from an exponential distribution.\n",
    "- `f(dfnum, dfden[, size])` \tDraw samples from an F distribution.\n",
    "- `gamma(shape[, scale, size])`\tDraw samples from a Gamma distribution.\n",
    "- `geometric(p[, size])`\tDraw samples from the geometric distribution.\n",
    "- `gumbel([loc, scale, size])`\tDraw samples from a Gumbel distribution.\n",
    "- `hypergeometric(ngood, nbad, nsample[, size])`\tDraw samples from a Hypergeometric distribution.\n",
    "- `laplace([loc, scale, size])`\tDraw samples from the Laplace or double exponential distribution with specified location (or mean) and scale (decay).\n",
    "- `logistic([loc, scale, size])`\tDraw samples from a logistic distribution.\n",
    "- `lognormal([mean, sigma, size])`\tDraw samples from a log-normal distribution.\n",
    "- `logseries(p[, size])`\tDraw samples from a logarithmic series distribution.\n",
    "- `multinomial(n, pvals[, size])`\tDraw samples from a multinomial distribution.\n",
    "- `multivariate_normal(mean, cov[, size, …)`\tDraw random samples from a multivariate normal distribution.\n",
    "- `negative_binomial(n, p[, size])`\tDraw samples from a negative binomial distribution.\n",
    "- `noncentral_chisquare(df, nonc[, size])`\tDraw samples from a noncentral chi-square distribution.\n",
    "- `noncentral_f(dfnum, dfden, nonc[, size])`\tDraw samples from the noncentral F distribution.\n",
    "- `normal([loc, scale, size])`\tDraw random samples from a normal (Gaussian) distribution.\n",
    "- `pareto(a[, size])`\tDraw samples from a Pareto II or Lomax distribution with specified shape.\n",
    "- `poisson([lam, size])`\tDraw samples from a Poisson distribution.\n",
    "- `power(a[, size])`\tDraws samples in [0, 1] from a power distribution with positive exponent a - 1.\n",
    "- `rayleigh([scale, size])`\tDraw samples from a Rayleigh distribution.\n",
    "- `standard_cauchy([size])`\tDraw samples from a standard Cauchy distribution with mode = 0.\n",
    "- `standard_exponential([size])`\tDraw samples from the standard exponential distribution.\n",
    "- `standard_gamma(shape[, size])`\tDraw samples from a standard Gamma distribution.\n",
    "- `standard_normal([size])`\tDraw samples from a standard Normal distribution (mean=0, stdev=1).\n",
    "- `standard_t(df[, size])`\tDraw samples from a standard Student’s t distribution with df degrees of freedom.\n",
    "- `triangular(left, mode, right[, size])`\tDraw samples from the triangular distribution over the interval [left, right].\n",
    "- `uniform([low, high, size])`\tDraw samples from a uniform distribution.\n",
    "- `vonmises(mu, kappa[, size])`\tDraw samples from a von Mises distribution.\n",
    "- `wald(mean, scale[, size])`\tDraw samples from a Wald, or inverse Gaussian, distribution.\n",
    "- `weibull(a[, size])`\tDraw samples from a Weibull distribution.\n",
    "- `zipf(a[, size])`\tDraw samples from a Zipf distribution.\n",
    "\n",
    "Random numbers can be drawn from different probability distributions. "
   ]
  },
  {
   "cell_type": "markdown",
   "metadata": {},
   "source": [
    "***\n",
    "First an aside on some of the definitions here including probability distributions, random variables, random numbers etc.\n",
    "For this purpose I referred to some notes from college statistics courses as well as online guides and tutorials including \n",
    "[Mathworld.wolfram.com](http://mathworld.wolfram.com), [statttrk.com](https://stattrek.com/statistics/dictionary.aspx?definition=random%20variable) and [Wikipedia](https://en.wikipedia.org/wiki/Normal_distribution) and other sources.\n",
    "\n",
    "**Probability** is a mathematical expression of uncertainty of the chance of a random variable taking on particular values.   \n",
    "According to [wolfram mathworld](http://mathworld.wolfram.com/Probability.html),\n",
    ">**probability** is the branch of mathematics that studies the possible outcomes of given events together with the outcomes' relative likelihoods and distributions. In common usage, the word \"probability\" is used to mean the chance that a particular event (or set of events) will occur expressed on a linear scale from 0 (impossibility) to 1 (certainty), also expressed as a percentage between 0 and 100%. The analysis of events governed by probability is called statistics.\n",
    "\n",
    "A **random variable** is a variable that assumes numerical values associated with the random outcome of an experiment where one (and only one) numerical value is assigned to each sample point. A random variable is any quantity that is assumed to have a probability distribution.\n",
    "A **discrete** random variable is one where its set of possible values is a collection of isolated points on the number line while a **continuous** random variable is one where its set of possible values is an entire interval on the number line. Discrete random variables almost always come from counting while continuous random variables mostly come from measurement.\n",
    "\n",
    "A **probability distribution** is a complete description of a random variable that specified all possible values it can have and the probability associated with each one.\n",
    "A probability distribution is a table or an equation that links each possible value that a random variable can assume with its probability of occurrence. [probability distribution definition](https://stattrek.com/probability/probability-distribution.aspx?tutorial=prob)\n",
    "\n",
    "The probability distribution of a discrete random variable is often known as a probability function or a probability mass function, it can be displayed as a graph, table or mathematical formula that specifies the probability associated with each possible value the random variable can assume.\n",
    "A probability distribution for a continuous random variable x is specified by a mathematical function f(x) called a probability density function, a frequency function or a probability distribution.\n",
    "\n",
    "***"
   ]
  },
  {
   "cell_type": "markdown",
   "metadata": {},
   "source": [
    "learning latex... see cheat sheet at [www.nyu.edu](https://www.nyu.edu/projects/beber/files/Chang_LaTeX_sheet.pdf)\n",
    "or [wch.github.io](https://wch.github.io/latexsheet/latexsheet-0.png)\n",
    "\n",
    "\n",
    "$e^{i\\pi} + 1 = 0$\n",
    "$$e^x=\\sum_{i=0}^\\infty \\frac{1}{i!}x^i$$\n",
    "\n",
    "$\\sigma$\n",
    "$$\\sigma$$\n",
    "$\\mu$\n",
    "\n",
    "x~  $N(\\mu,\\sigma^2)$"
   ]
  },
  {
   "cell_type": "markdown",
   "metadata": {},
   "source": [
    "***\n",
    "## Numpy.Random Distribution Functions. "
   ]
  },
  {
   "cell_type": "markdown",
   "metadata": {},
   "source": [
    "## Normal Distribution Function\n",
    "<a id='normal'></a>\n",
    "The normal distribution is the most important probability distribution for a continuous random variable. It has a symmetric, bell shaped density curve. It is not one distribution but a family of distributions depending on the value of its mean $\\mu$ and standard deviation $\\sigma$.  The normal distribution is also known as the Gaussian Distribution or the Bell Curve.\n",
    "\n",
    "A normally distributed random variable x can be denoted as follows: x~  $N(\\mu,\\sigma^2)$ . This means that x is normally distributed with a mean of $\\mu$ and a variance of $\\sigma^2$.\n",
    "\n",
    "The [normal([loc, scale, size])](https://numpy.org/doc/1.16/reference/generated/numpy.random.normal.html#numpy-random-normal) function is used to draw random samples from a normal (Gaussian) distribution. \n",
    "\n",
    ">The probability density function of the normal distribution, first derived by De Moivre and 200 years later by both Gauss and Laplace independently, is often called the bell curve because of its characteristic shape .\n",
    ">The normal distributions occurs often in nature. For example, it describes the commonly occurring distribution of samples influenced by a large number of tiny, random disturbances, each with its own unique distribution.\n",
    "\n",
    "According to [wolfram mathworld](http://mathworld.wolfram.com/NormalDistribution.html) normal distributions have many convenient properties, so random variates with unknown distributions are often assumed to be normal, especially in physics and astronomy. Although this can be a dangerous assumption, it is often a good approximation due to a surprising result known as the central limit theorem. This theorem states that the mean of any set of variates with any distribution having a finite mean and variance tends to the normal distribution. Many common attributes such as test scores, height, etc., follow roughly normal distributions, with few members at the high and low ends and many in the middle.\n",
    "\n",
    "According to \"The Art of Statistics\", The normal distribution can be expected to occur for phenomena that are driven by large numbers of small influences such as the birth weight of babies. \n",
    "When all the small influences are added up you get a normal distribution.\n",
    "\n",
    "The mean of the distribution determines the location of the center of the graph. The standard deviation determines the height and shape or spread of the graph. When the standard deviation is large, the curve is short and wide and when the standard deviation is small, the curve is tall and narrow. \n",
    "\n",
    "A normal distribution has a symetric bell-shaped density curve described by its mean $mu$ or μ and standard deviation σ. The density curve is symmetrical and centered about its mean. The spread is determined by the standard deviation. Data points near the mean occur more frequently than data points that are far from the mean. \n",
    "\n",
    "[numpy.random.normal(loc=0.0, scale=1.0, size=None)](https://numpy.org/doc/1.16/reference/generated/numpy.random.normal.html#numpy-random-normal) depends on two factors, the mean and the standard deviation. \n",
    "\n",
    "To use the `numpy.random.normal` function, the loc argument is the mean or the centre of the distribution, the scale is the standard deviation of the distribution and the size is the number of random variables. If you supply three arguments, the first is taken to be the mean $\\mu$, the second to be the scale or standard deviations $\\sigma^2$ and the last to be the number of data points.\n"
   ]
  },
  {
   "cell_type": "code",
   "execution_count": 26,
   "metadata": {},
   "outputs": [
    {
     "data": {
      "text/plain": [
       "<matplotlib.axes._subplots.AxesSubplot at 0x1a1f684cc0>"
      ]
     },
     "execution_count": 26,
     "metadata": {},
     "output_type": "execute_result"
    },
    {
     "data": {
      "image/png": "[encoded data removed]",
      "text/plain": [
       "<Figure size 432x288 with 1 Axes>"
      ]
     },
     "metadata": {
      "needs_background": "light"
     },
     "output_type": "display_data"
    }
   ],
   "source": [
    "s = np.random.normal(1,2,1000)\n",
    "sns.distplot(s)"
   ]
  },
  {
   "cell_type": "code",
   "execution_count": 19,
   "metadata": {},
   "outputs": [
    {
     "data": {
      "text/plain": [
       "True"
      ]
     },
     "execution_count": 19,
     "metadata": {},
     "output_type": "execute_result"
    },
    {
     "data": {
      "text/plain": [
       "True"
      ]
     },
     "execution_count": 19,
     "metadata": {},
     "output_type": "execute_result"
    },
    {
     "data": {
      "text/plain": [
       "[<matplotlib.lines.Line2D at 0x1a1fbe4128>]"
      ]
     },
     "execution_count": 19,
     "metadata": {},
     "output_type": "execute_result"
    },
    {
     "data": {
      "image/png": "[encoded data removed]",
      "text/plain": [
       "<Figure size 432x288 with 1 Axes>"
      ]
     },
     "metadata": {
      "needs_background": "light"
     },
     "output_type": "display_data"
    }
   ],
   "source": [
    "# using the example from the documentation to start with draw samples from the distribution and display the histogram of the samples, along with the probability density function\n",
    "\n",
    "mu, sigma = 0, 0.1 # mean and standard deviation\n",
    "s = np.random.normal(mu, sigma, 1000)\n",
    "abs(mu - np.mean(s)) < 0.01  # verifying the mean\n",
    "abs(sigma - np.std(s, ddof=1)) < 0.01 # verifying the standard deviation\n",
    "\n",
    "import matplotlib.pyplot as plt\n",
    "count, bins, ignored = plt.hist(s, 30, density=True)\n",
    "plt.plot(bins, 1/(sigma * np.sqrt(2 * np.pi)) *\n",
    "               np.exp( - (bins - mu)**2 / (2 * sigma**2) ),\n",
    "         linewidth=2, color='r')\n",
    "plt.show()"
   ]
  },
  {
   "cell_type": "code",
   "execution_count": 18,
   "metadata": {},
   "outputs": [
    {
     "data": {
      "image/png": "[encoded data removed]",
      "text/plain": [
       "<Figure size 432x288 with 1 Axes>"
      ]
     },
     "metadata": {
      "needs_background": "light"
     },
     "output_type": "display_data"
    }
   ],
   "source": [
    "# using seaborn to plot\n",
    "import numpy as np\n",
    "import seaborn as sns\n",
    "mu, sigma = 0, 0.1 # mean and standard deviation\n",
    "x = np.random.normal(mu, sigma, 10000)\n",
    "np.mean(x)\n",
    "np.std(x)\n",
    "\n",
    "sns.distplot(x);  # using seaborn"
   ]
  },
  {
   "cell_type": "code",
   "execution_count": null,
   "metadata": {},
   "outputs": [],
   "source": []
  },
  {
   "cell_type": "markdown",
   "metadata": {},
   "source": [
    "Can see from the plot that the distribution has a bell-shaped curve and it is centred around the mean which was provided as a parameter to the function. The spread of the curve is determined by the standard deviation that is provided to the function also.\n",
    "By changing the mean and standard deviation parameters below show wider and narrower curves.\n",
    "where \\mu is the mean and $\\sigma$ the standard deviation. The square of the standard deviation, \\sigma^2, is called the variance."
   ]
  },
  {
   "cell_type": "markdown",
   "metadata": {},
   "source": [
    "Centred around the mean of 0 and "
   ]
  },
  {
   "cell_type": "code",
   "execution_count": 7,
   "metadata": {},
   "outputs": [
    {
     "data": {
      "text/plain": [
       "<matplotlib.axes._subplots.AxesSubplot at 0x1a1f2da828>"
      ]
     },
     "execution_count": 7,
     "metadata": {},
     "output_type": "execute_result"
    },
    {
     "data": {
      "text/plain": [
       "10.019254248146819"
      ]
     },
     "execution_count": 7,
     "metadata": {},
     "output_type": "execute_result"
    },
    {
     "data": {
      "text/plain": [
       "1.0160855491221514"
      ]
     },
     "execution_count": 7,
     "metadata": {},
     "output_type": "execute_result"
    },
    {
     "data": {
      "image/png": "[encoded data removed]",
      "text/plain": [
       "<Figure size 432x288 with 1 Axes>"
      ]
     },
     "metadata": {
      "needs_background": "light"
     },
     "output_type": "display_data"
    }
   ],
   "source": [
    "# changing some of the parameters and seeing what happens\n",
    "mu, sigma = 10, 1 # set mean and standard deviation parameters\n",
    "x = np.random.normal(mu, sigma, 10000)\n",
    "sns.distplot(x);  # using seaborn\n",
    "np.mean(x)  # showing the mean of all the values\n",
    "np.std(x) # showing the standard deviation across all the values\n"
   ]
  },
  {
   "cell_type": "markdown",
   "metadata": {},
   "source": [
    "numpy.random.normal()"
   ]
  },
  {
   "cell_type": "code",
   "execution_count": 10,
   "metadata": {},
   "outputs": [
    {
     "data": {
      "text/plain": [
       "<matplotlib.axes._subplots.AxesSubplot at 0x1a1f6742e8>"
      ]
     },
     "execution_count": 10,
     "metadata": {},
     "output_type": "execute_result"
    },
    {
     "data": {
      "text/plain": [
       "100.0986894492399"
      ]
     },
     "execution_count": 10,
     "metadata": {},
     "output_type": "execute_result"
    },
    {
     "data": {
      "text/plain": [
       "9.890647703319496"
      ]
     },
     "execution_count": 10,
     "metadata": {},
     "output_type": "execute_result"
    },
    {
     "data": {
      "image/png": "[encoded data removed]",
      "text/plain": [
       "<Figure size 432x288 with 1 Axes>"
      ]
     },
     "metadata": {
      "needs_background": "light"
     },
     "output_type": "display_data"
    }
   ],
   "source": [
    "# changing some of the parameters again and seeing what happens\n",
    "mu, sigma = 100, 10 # mean and standard deviation\n",
    "x = np.random.normal(mu, sigma, 10000)\n",
    "sns.distplot(x);  # using seaborn\n",
    "np.mean(x)  # showing the mean of all the values\n",
    "np.std(x) # showing the standard deviation across all the values\n",
    "\n",
    "\n"
   ]
  },
  {
   "cell_type": "code",
   "execution_count": 14,
   "metadata": {},
   "outputs": [
    {
     "data": {
      "text/plain": [
       "<matplotlib.axes._subplots.AxesSubplot at 0x1a1fbed668>"
      ]
     },
     "execution_count": 14,
     "metadata": {},
     "output_type": "execute_result"
    },
    {
     "data": {
      "text/plain": [
       "40.13177083170024"
      ]
     },
     "execution_count": 14,
     "metadata": {},
     "output_type": "execute_result"
    },
    {
     "data": {
      "text/plain": [
       "24.998241887895837"
      ]
     },
     "execution_count": 14,
     "metadata": {},
     "output_type": "execute_result"
    },
    {
     "data": {
      "image/png": "[encoded data removed]",
      "text/plain": [
       "<Figure size 432x288 with 1 Axes>"
      ]
     },
     "metadata": {
      "needs_background": "light"
     },
     "output_type": "display_data"
    }
   ],
   "source": [
    "# changing some of the parameters again and seeing what happens\n",
    "mu, sigma = 40, 25 # mean and standard deviation\n",
    "x = np.random.normal(mu, sigma, 10000)\n",
    "sns.distplot(x);  # using seaborn\n",
    "np.mean(x)  # showing the mean of all the values\n",
    "np.std(x) # showing the standard deviation across all the values\n",
    "\n",
    "\n"
   ]
  },
  {
   "cell_type": "code",
   "execution_count": 16,
   "metadata": {},
   "outputs": [
    {
     "data": {
      "text/plain": [
       "True"
      ]
     },
     "execution_count": 16,
     "metadata": {},
     "output_type": "execute_result"
    },
    {
     "data": {
      "text/plain": [
       "True"
      ]
     },
     "execution_count": 16,
     "metadata": {},
     "output_type": "execute_result"
    },
    {
     "data": {
      "text/plain": [
       "[<matplotlib.lines.Line2D at 0x1a1fbcb5f8>]"
      ]
     },
     "execution_count": 16,
     "metadata": {},
     "output_type": "execute_result"
    },
    {
     "data": {
      "image/png": "[encoded data removed]",
      "text/plain": [
       "<Figure size 432x288 with 1 Axes>"
      ]
     },
     "metadata": {
      "needs_background": "light"
     },
     "output_type": "display_data"
    }
   ],
   "source": [
    "mu, sigma = 0, 0.1 # mean and standard deviation\n",
    "s = np.random.normal(mu, sigma, 1000)\n",
    "abs(mu - np.mean(s)) < 0.01\n",
    "abs(sigma - np.std(s, ddof=1)) < 0.01\n",
    "\n",
    "import matplotlib.pyplot as plt\n",
    "count, bins, ignored = plt.hist(s, 30, density=True)\n",
    "plt.plot(bins, 1/(sigma * np.sqrt(2 * np.pi)) *\n",
    "               np.exp( - (bins - mu)**2 / (2 * sigma**2) ),\n",
    "         linewidth=2, color='r')\n",
    "plt.show()"
   ]
  },
  {
   "cell_type": "markdown",
   "metadata": {},
   "source": [
    "All the plots above are normally distributed but with different means $\\mu$ and standard deviations $\\sigma$.\n",
    "This brings me to the standard normal distribution.\n",
    "\n",
    "For an aproximately normal data set, almost 68% of the data points fall within one standard deviation from the mean, while  95% of the data falls within 2 standard deviations and 99.7% fall within 3 standard deviations.\n",
    "\n",
    "There are many different normal distributions with different means and variances which would have made them difficult to be tabulated in the way the normal distribution is tabulated in the New Cambridge Statistical Tables. The standard normal distribution with $\\mu$ of 0 and $\\sigma$ of 1 is tabulated and can be used to find the probabilities for any normal distribution. All questions regarding the normal distribution can be converted into questions regarding the standard normal distribution.\n",
    "\n"
   ]
  },
  {
   "cell_type": "markdown",
   "metadata": {},
   "source": [
    "<a id='standard_normal'></a>\n",
    "## The Standard Normal Distribution function\n",
    "\n",
    "The [standard normal distribution](https://stattrek.com/statistics/dictionary.aspx?definition=random%20variable) is a special case of the normal distribution. \n",
    ">It is the distribution that occurs when a normal random variable has a mean of zero and a standard deviation of one.  The normal random variable of a standard normal distribution is called a standard score or a z score. Every normal random variable X can be transformed into a z score\n",
    "\n",
    "The standard normal distribution, of the random variable z, has $\\mu$ = 0 and variance $/sigma$ = 1 and can be used to calculate areas under any normal distribution. z~ $N(0,1)$\n",
    "\n",
    "The [numpy.random.standard_normal](https://numpy.org/doc/1.16/reference/generated/numpy.random.standard_normal.html#numpy-random-standard-normal) distribution function is used to draw samples from a standard Normal distribution that has a mean of 0 and a standard deviation of 1. \n",
    "\n",
    "To use the `numpy.random.standard_normal` function,  you just need to supply the number of data points to generate as the size argument. Without specifying the number of data points you will just get a single value. \n",
    "\n",
    "Note that the `numpy.random.randn()` function in the section on simple random data functions a convenience function for numpy.random.standard_normal. It returns a single float or an ndarray of floats. See [numpy.random.randn](#randn).\n",
    "\n"
   ]
  },
  {
   "cell_type": "code",
   "execution_count": 36,
   "metadata": {},
   "outputs": [
    {
     "data": {
      "text/plain": [
       "1.331586504129518"
      ]
     },
     "execution_count": 36,
     "metadata": {},
     "output_type": "execute_result"
    },
    {
     "data": {
      "text/plain": [
       "1.331586504129518"
      ]
     },
     "execution_count": 36,
     "metadata": {},
     "output_type": "execute_result"
    }
   ],
   "source": [
    "np.random.seed(10)  # set the seed\n",
    "np.random.randn() # use randn function to \n",
    "np.random.seed(10) # set the seed\n",
    "np.random.standard_normal() #standard_normal gives same results"
   ]
  },
  {
   "cell_type": "code",
   "execution_count": 31,
   "metadata": {},
   "outputs": [
    {
     "data": {
      "text/plain": [
       "0.0019627513647602584"
      ]
     },
     "execution_count": 31,
     "metadata": {},
     "output_type": "execute_result"
    },
    {
     "data": {
      "text/plain": [
       "1.0003188545771284"
      ]
     },
     "execution_count": 31,
     "metadata": {},
     "output_type": "execute_result"
    },
    {
     "data": {
      "text/plain": [
       "<matplotlib.axes._subplots.AxesSubplot at 0x1a1f7ef668>"
      ]
     },
     "execution_count": 31,
     "metadata": {},
     "output_type": "execute_result"
    },
    {
     "data": {
      "image/png": "[encoded data removed]",
      "text/plain": [
       "<Figure size 432x288 with 1 Axes>"
      ]
     },
     "metadata": {
      "needs_background": "light"
     },
     "output_type": "display_data"
    }
   ],
   "source": [
    "\n",
    "s = np.random.standard_normal(9000)  # 9000 standard normal values\n",
    "np.mean(s) # show that the mean is 0\n",
    "np.std(s) # show that the standard deviation is 1\n",
    "\n",
    "sns.distplot(s)\n"
   ]
  },
  {
   "cell_type": "code",
   "execution_count": 37,
   "metadata": {},
   "outputs": [
    {
     "data": {
      "text/plain": [
       "-0.014503691346817093"
      ]
     },
     "execution_count": 37,
     "metadata": {},
     "output_type": "execute_result"
    },
    {
     "data": {
      "text/plain": [
       "0.9824762571297017"
      ]
     },
     "execution_count": 37,
     "metadata": {},
     "output_type": "execute_result"
    },
    {
     "data": {
      "text/plain": [
       "<matplotlib.axes._subplots.AxesSubplot at 0x1a1f0383c8>"
      ]
     },
     "execution_count": 37,
     "metadata": {},
     "output_type": "execute_result"
    },
    {
     "data": {
      "image/png": "[encoded data removed]",
      "text/plain": [
       "<Figure size 432x288 with 1 Axes>"
      ]
     },
     "metadata": {
      "needs_background": "light"
     },
     "output_type": "display_data"
    }
   ],
   "source": [
    "s = np.random.standard_normal(3200)  # 3200 standard normal values\n",
    "np.mean(s) # show that the mean is 0\n",
    "np.std(s) # show that the standard deviation is 1\n",
    "\n",
    "sns.distplot(s)\n",
    "\n"
   ]
  },
  {
   "cell_type": "code",
   "execution_count": 40,
   "metadata": {},
   "outputs": [
    {
     "data": {
      "text/plain": [
       "-0.020714903326840436"
      ]
     },
     "execution_count": 40,
     "metadata": {},
     "output_type": "execute_result"
    },
    {
     "data": {
      "text/plain": [
       "1.0099287932694374"
      ]
     },
     "execution_count": 40,
     "metadata": {},
     "output_type": "execute_result"
    },
    {
     "data": {
      "text/plain": [
       "<matplotlib.axes._subplots.AxesSubplot at 0x1a1f1c0390>"
      ]
     },
     "execution_count": 40,
     "metadata": {},
     "output_type": "execute_result"
    },
    {
     "data": {
      "image/png": "[encoded data removed]",
      "text/plain": [
       "<Figure size 432x288 with 1 Axes>"
      ]
     },
     "metadata": {
      "needs_background": "light"
     },
     "output_type": "display_data"
    }
   ],
   "source": [
    "s = np.random.standard_normal(1500)  # 1500 standard normal values\n",
    "np.mean(s) # show that the mean is 0\n",
    "np.std(s) # show that the standard deviation is 1\n",
    "\n",
    "sns.distplot(s)"
   ]
  },
  {
   "cell_type": "markdown",
   "metadata": {},
   "source": [
    "The above plots show that whatever the number of values generated, the curve is symmetric about the mean of 0, most of the values are clustered around the centre and most of the values are within 2 standard deviations of the mean."
   ]
  },
  {
   "cell_type": "markdown",
   "metadata": {},
   "source": [
    "***\n",
    "## The Uniform distribution\n",
    "\n",
    "A uniform distribution, sometimes also known as a rectangular distribution, is a distribution that has constant probability.\n",
    "\n",
    "#### numpy.random.uniform function.\n",
    "Note that this is related to the `random.rand` function earlier.\n"
   ]
  },
  {
   "cell_type": "code",
   "execution_count": null,
   "metadata": {},
   "outputs": [],
   "source": [
    "x = np.random.uniform(-1,0,1000) \n",
    "sns.distplot(x);  # using seaborn"
   ]
  },
  {
   "cell_type": "markdown",
   "metadata": {},
   "source": [
    "low is the lower bound of the interval, high is the upper bound of the interval. Note that the lower bound is included but the upper bound of 1 is not included.\n",
    "When you put the bigger number before the smaller number it seems to just take the bigger number as the upper bound and the smaller number as the lower bound. \n",
    "Try and put low before high. \n",
    "\n",
    "rand only gives you random uniform numbers between 0 and 1 whereas this uniform function will give you numbers in any range."
   ]
  },
  {
   "cell_type": "code",
   "execution_count": null,
   "metadata": {},
   "outputs": [],
   "source": [
    "np.random.uniform(10,9,10) \n"
   ]
  },
  {
   "cell_type": "code",
   "execution_count": null,
   "metadata": {},
   "outputs": [],
   "source": [
    "x = np.random.uniform(-100,100,10000) \n",
    "sns.distplot(x);  # using seaborn"
   ]
  },
  {
   "cell_type": "markdown",
   "metadata": {},
   "source": [
    "## The Binomial distribution.\n",
    "\n",
    "\n",
    "### numpy.random.binomial\n",
    "\n",
    "http://mathworld.wolfram.com/BinomialDistribution.html\n",
    "\n",
    "The `numpy.random.binomial` function is used to draw samples from a binomial distribution. \n",
    "\n",
    "\n",
    "One of the most important probability distributions for discrete random variables is the binomial distribution.\n",
    "\n",
    "The [binomial distribution](http://mathworld.wolfram.com/BinomialDistribution.html) gives the discrete probability distribution P_p(n|N) of obtaining exactly n successes out of N Bernoulli trials (where the result of each Bernoulli trial is true with probability p and false with probability q=1-p). \n",
    "\n",
    "\n",
    "\n",
    "\n",
    "\n",
    "\n",
    ">numpy.random.binomial(n, p, size=None)\n",
    "Draw samples from a binomial distribution.\n",
    "\n",
    ">Samples are drawn from a binomial distribution with specified parameters, n trials and p probability of success where n an integer >= 0 and p is in the interval [0,1]. (n may be input as a float, but it is truncated to an integer in use)\n",
    "\n",
    ">Parameters:\t\n",
    "n : int or array_like of ints\n",
    "Parameter of the distribution, >= 0. Floats are also accepted, but they will be truncated to integers.\n",
    "p : float or array_like of floats\n",
    "Parameter of the distribution, >= 0 and <=1.\n",
    "size : int or tuple of ints, optional\n",
    "Output shape. If the given shape is, e.g., (m, n, k), then m * n * k samples are drawn. If size is None (default), a single value is returned if n and p are both scalars. Otherwise, np.broadcast(n, p).size samples are drawn.\n",
    "Returns:\t\n",
    "out : ndarray or scalar\n",
    "Drawn samples from the parameterized binomial distribution, where each sample is equal to the number of successes over the n trials."
   ]
  },
  {
   "cell_type": "code",
   "execution_count": null,
   "metadata": {},
   "outputs": [],
   "source": [
    "n, p = 100, .5  # number of trials, probability of each trial\n",
    "x = np.random.binomial(n, p, 10000)\n",
    "sns.distplot(x);  # using seaborn"
   ]
  },
  {
   "cell_type": "code",
   "execution_count": null,
   "metadata": {},
   "outputs": [],
   "source": [
    "n, p = 10, .5  # number of trials, probability of each trial\n",
    "s = np.random.binomial(n, p, 10000)\n",
    "plt.hist(s)"
   ]
  },
  {
   "cell_type": "code",
   "execution_count": null,
   "metadata": {},
   "outputs": [],
   "source": []
  },
  {
   "cell_type": "markdown",
   "metadata": {},
   "source": [
    "<a id='task4'></a>\n",
    "# 4. Explain the use of seeds in generating pseudorandom numbers.\n",
    "[Back to top](#toc)  \n",
    "\n",
    "See the section https://docs.scipy.org/doc/numpy-1.16.0/reference/routines.random.html#random-generator\n",
    "\n",
    "Random Generator.\n",
    "- `RandomState([seed])`\n",
    "- `seed([seed])`\n",
    "-` get_state()`  is used to capture the state of random at any time, returns a tuple representing the internal state of the generator.   \n",
    "- `set_state(state)`  sets the internal state of the generator from the tuple and is used if for any reason you want to manually reset the internal state of the \"Mersenne Twister\"\n",
    "\n",
    "The tuple returned from `getstate` can be passed to `setstate` method to duplicate the generation at that moment.\n"
   ]
  },
  {
   "cell_type": "markdown",
   "metadata": {},
   "source": [
    "<a id='task4'></a>\n",
    "# 4. Explain the use of seeds in generating pseudorandom numbers.\n",
    "[Back to top](#toc)  \n",
    "\n",
    "### Pseudo-random number generators (PRNG's) and seeds\n",
    "\n",
    "***\n",
    "A **seed** is a number that is used to initialise a pseudorandom number generator. By setting the seed, the original seed is ignored and numbers will be generated in a pseudorandom manner. If you reinitialise a random number generator with the same seed then the same sequence of numbers will be produced. \n",
    "\n",
    "According to [statisticshowto](https://www.statisticshowto.datasciencecentral.com/random-seed-definition/), a random seed specifies the start point when a computer generates a random number. The random seed can be any number but it usually comes from seconds on the computer system's clock which counts in seconds from January 1, 1970.  (known as Unix time). This ensures that the same random sequence won't be repeated unless you actually want it to. \n",
    "\n",
    "Computer programs generate random numbers in a *deterministic* way - that is they follow a very particular set of rules to generate the random numbers, which means therefore that the random numbers are not actually random at all!\n",
    "Randomness is instead being imitated. The algorithms behind computer number generation are based on patterns which generate numbers that follow particular **probability distributions**. Setting a seed will produce the same sequence of random numbers each time. \n",
    "\n",
    "https://pynative.com/python-random-seed/\n",
    ">Random number or data generated by Python’s random module is not truly random, it is pseudo-random(it is PRNG), i.e. deterministic. It produces the numbers from some value. This value is nothing but a seed value. i.e. The random module uses the seed value as a base to generate a random number.\n",
    "\n",
    ">Generally, the seed value is the previous number generated by the generator. However, When the first time you use the random generator, there is no previous value. So by-default current system time is used as a seed value.\n",
    " \n",
    "\n",
    "There are many different ways to generate pseudo-random numbers. Python uses the **Mersenne Twister** as the core generator. According to [wikipedia](https://en.m.wikipedia.org/wiki/Mersenne_Twister), the Mersenne Twister is  a pseudorandom number generator (PRNG) and is by far the most widely used general-purpose PRNG whose name derives from the fact that its period length is chosen to be a Mersenne prime (a prime number that is one less than a power of two. That is, it is a prime number of the form Mn = 2n − 1 for some integer n.).\n",
    "\n",
    "There are times when you may wish to recreate the exact same sequence of random numbers.  Pseudo random number generators can be **seeded** which makes them **deterministic** and the series of random values can therefore be exactly recreated. A seed is an input to the random number generator as the starting point of the process. The computer's system time is usually used for the seed and this is used in an algorithm to generate some (pseudo) random values. If you provide the seed as an input to the process this tells the program not to generate its own random seed at the start from the computer's clock (to the microsecond) but instead use the seed you provide\n",
    " \n",
    "\n",
    "In summary, random (pseudorandom) numbers are drawn from a probability distribution. The numbers generated depend on the *seed* used and are generated according to some deterministic algorithm from that seed. The numbers that are output depend on the algorithm and the input seed.\n",
    "\n"
   ]
  },
  {
   "cell_type": "markdown",
   "metadata": {},
   "source": []
  },
  {
   "cell_type": "markdown",
   "metadata": {},
   "source": [
    "## using numpy.random.seed function\n",
    "\n",
    "Numpy random seed function is used to create completely repeatable or reproducible results.\n",
    "The seed function works with other numpy random functions to create particular types of random numbers, such as numbers from various probability distributions. \n",
    "If a numpy random function is used together with a particular seed, then the very same set of random numbers can be generated again. \n",
    "\n",
    "The seed value is the input to the numpy random seed function. You **seed** or set the set of the prng. If you run the same function again you will get the same output. The code will produce the exact same output if the same seed is used with the same function, using the same parameters.\n",
    "\n",
    "To get the same random sample of elements from a array of numbers then you also use the numpy random seed function. \n",
    "\n",
    "Prngs are algorithms for producing numbers that appear random. The seed is the starting point for the algorithm. \n",
    "Different numbers used as the seed will produce a different set of pseudo random numbers from the same algorithm as they have a different starting point. If the starting point is the same and the steps in the algorithm are the same, then the outputs will be the same. \n",
    "Any integer can be used (see the documents for exact range) as the input seed. If a different seed is used, a different set of random numbers are generated but if the same number is used, the same sequence is generated. The same principle applies for randomly sampling from a set or array of numbers.\n",
    "If you don't explicitly set the seed, one will be set automatically for you using the system time.\n",
    "\n",
    "\n",
    "Any NumPy random function that is executed with the same seed will produce the exact same result and this will ensure reproducibility.\n",
    "\n",
    "\n",
    "***"
   ]
  },
  {
   "cell_type": "markdown",
   "metadata": {},
   "source": [
    "From the documentation:\n",
    "\n",
    "#### numpy.random.seed\n",
    "\n",
    "`numpy.random.seed(seed=None)`  # Seed the generator.\n",
    "\n",
    "This method is called when `RandomState` is initialized. It can be called again to re-seed the generator. \n",
    "\n",
    "Parameters: \n",
    "seed : int or 1-d array_like, optional\n",
    "Seed for RandomState. Must be convertible to 32 bit unsigned integers.\n",
    "\n",
    "#### numpy.random.RandomState\n",
    "\n",
    "class **numpy.random.RandomState(seed=None)** Container for the Mersenne Twister pseudo-random number generator.\n",
    "\n",
    "`RandomState` exposes a number of methods for generating random numbers drawn from a variety of probability distributions. In addition to the distribution-specific arguments, each method takes a keyword argument size that defaults to None. If size is None, then a single value is generated and returned. If size is an integer, then a 1-D array filled with generated values is returned. If size is a tuple, then an array with that shape is filled and returned.\n",
    "\n",
    "\n",
    "Parameters:\n",
    "seed : {None, int, array_like}, optional\n",
    "Random seed used to initialize the pseudo-random number generator. Can be any integer between 0 and `2**32 - 1` inclusive, an array (or other sequence) of such integers, or None (the default). If seed is None, then RandomState will try to read data from `/dev/urandom` (or the Windows analogue) if available or seed from the clock otherwise.\n"
   ]
  },
  {
   "cell_type": "code",
   "execution_count": null,
   "metadata": {},
   "outputs": [],
   "source": [
    "#np.random.get_state()"
   ]
  },
  {
   "cell_type": "markdown",
   "metadata": {},
   "source": [
    "#### Here I will demonstrate using the numpy random functions, with and without setting the seed of the random number generator.\n",
    "\n",
    "When I use the `random.seed` method with any integer (in the accepatable range) then the same sequence of random numbers will be generated when this number is used to seed the generator again. It doesn't matter what number is used as the seed as long as the same number is used as a seed again when you want to generate the exact same sequence. If a different seed is used, then a different sequence of random numbers will be generated. The output of a random function will depend on the seed used and the algorithm the function uses. \n",
    "Without explicitly specifying a seed, a seed is generated from the system clock. If you don't specify a seed it would be extremely difficult to reprodce the same sequence again. As the default seed is set from the computer systems internal clock (to the millisecond) the seed will change every moment that you use a numpy random function.\n",
    "\n",
    "As the documentation mentions above, the `numpy.random.seed` method is called when `RandomState` is initialized. It can be called again to re-seed the generator.\n",
    "\n",
    "Using a seed with random sampling makes sense if you want reproducible outputs."
   ]
  },
  {
   "cell_type": "markdown",
   "metadata": {},
   "source": [
    "##### Generate random numbers with and without seeding the generator"
   ]
  },
  {
   "cell_type": "code",
   "execution_count": null,
   "metadata": {},
   "outputs": [],
   "source": [
    "\n",
    "np.random.rand() # generate a random float between 0 and 1 without using a seed\n",
    "np.random.rand() # # generate another random float between 0 and 1 without using a seed\n",
    "\n"
   ]
  },
  {
   "cell_type": "code",
   "execution_count": null,
   "metadata": {},
   "outputs": [],
   "source": [
    "np.random.seed(123)  # using a seed with any integer value between 0 and 2**32 -1\n",
    "np.random.rand() # generate a random float between 0 and 1 without using a seed\n",
    "np.random.seed(123) ## using same seed\n",
    "np.random.rand() # produces the same results"
   ]
  },
  {
   "cell_type": "code",
   "execution_count": null,
   "metadata": {},
   "outputs": [],
   "source": [
    "2**32 - 1"
   ]
  },
  {
   "cell_type": "code",
   "execution_count": null,
   "metadata": {},
   "outputs": [],
   "source": [
    "np.random.seed(456)\n",
    "np.random.randint(0,100,10)"
   ]
  },
  {
   "cell_type": "code",
   "execution_count": null,
   "metadata": {},
   "outputs": [],
   "source": [
    "np.random.seed(456)\n",
    "myarray = np.random.randint(0,100,20)\n",
    "myarray"
   ]
  },
  {
   "cell_type": "markdown",
   "metadata": {},
   "source": [
    "##### Random sampling from an array with and without seeding the generator."
   ]
  },
  {
   "cell_type": "code",
   "execution_count": null,
   "metadata": {},
   "outputs": [],
   "source": [
    "np.random.seed(21)  # set the seed of the random number generator\n",
    "np.random.choice(myarray,4)  # random sample 4 elements from array using a seed\n",
    "np.random.seed(21)\n",
    "np.random.choice(myarray,4)"
   ]
  },
  {
   "cell_type": "code",
   "execution_count": null,
   "metadata": {},
   "outputs": [],
   "source": [
    "np.random.seed(12)\n",
    "np.random.choice(['a','b','c','d','e','f'], 3, p=[0.2, 0.15, 0.15, 0.3, 0.1, 0.1], replace = False)\n",
    "np.random.seed(12)\n",
    "np.random.choice(['a','b','c','d','e','f'], 3, p=[0.2, 0.15, 0.15, 0.3, 0.1, 0.1], replace = False)"
   ]
  },
  {
   "cell_type": "code",
   "execution_count": null,
   "metadata": {},
   "outputs": [],
   "source": [
    "np.random.seed(12)\n",
    "np.random.choice(['s','a','u','c','e','m','n'], 3, p=[0.14, 0.28, 0.1, 0.16,0.14, 0.1, 0.08], replace = False)"
   ]
  },
  {
   "cell_type": "markdown",
   "metadata": {},
   "source": [
    "There are various methods of sampling random numbers.\n",
    "With replacement means the number drawn would be placed back in and could be selected again. \n",
    "No replacement means that once a number is chosen, it can no longer be chosen again in the same sample as it is not placed back in the pot. In this way there will be no duplicates.\n",
    "it cannot be selected again in the same sample. It is no longer available and this means there will be no possibility of duplicates.\n",
    "\n",
    "\n",
    "Pythons built-in `random` module implements pseudo-random numbers for various distributions. See [python docs/random library](https://docs.python.org/3/library/random.html). However this built-in`random` module only samples one value at a time and probably uses loops to generate sequences of random numbers.   \n",
    "`numpy.random` provides functions that can efficiently generate arrays of sample values from various probability distributions rather than one value at a time. It is much much faster and more efficient."
   ]
  },
  {
   "cell_type": "code",
   "execution_count": null,
   "metadata": {},
   "outputs": [],
   "source": []
  },
  {
   "cell_type": "code",
   "execution_count": null,
   "metadata": {},
   "outputs": [],
   "source": []
  },
  {
   "cell_type": "code",
   "execution_count": null,
   "metadata": {},
   "outputs": [],
   "source": []
  },
  {
   "cell_type": "code",
   "execution_count": null,
   "metadata": {},
   "outputs": [],
   "source": []
  },
  {
   "cell_type": "markdown",
   "metadata": {},
   "source": [
    "<a id='references'></a>\n",
    "## References\n",
    "- Python for Data Analysis - Chapter 4 NumPy Basics: Arrays and Vectorised Computation by Wes McKinney\n",
    "- [Python Data Science Handbook by Jake VanderPlas ](https://jakevdp.github.io/PythonDataScienceHandbook/) \n",
    "- [Jake VanderPlas Website](http://vanderplas.com)\n",
    "- [numpy quickstart tutorial](https://numpy.org/devdocs/user/quickstart.html)\n",
    "- [NumPy random module](https://numpy.org/devdocs/reference/random/index.html?highlight=random#module-numpy.random), \n",
    "- [python - random library](https://docs.python.org/3/library/random.html#module-random)\n",
    "- Section 4.6 of Python for Data Analysis by Wes McKinney\n",
    "- [GitHub Flavoured Markdown](https://github.github.com/gfm/)\n",
    "- [Jupyter Notebook documentation](https://jupyter-notebook.readthedocs.io/en/stable/notebook.html#basic-workflow)\n",
    "- [Jupyter Notebook Tips, Tricks, and Shortcuts](https://www.dataquest.io/blog/jupyter-notebook-tips-tricks-shortcuts/)\n",
    "- [python random docs](https://docs.python.org/3/library/random.html#module-random)\n",
    "- [realpython tutorial on random data](https://realpython.com/python-random/)\n",
    "- [A Concrete Introduction to Probability (using Python) by Peter Norvig](https://nbviewer.jupyter.org/url/norvig.com/ipython/Probability.ipynb) \n",
    "Note: I have not actually read through this in detail yet. It is linked in the python random module documentation.\n",
    "- [wolfram mathworld](http://mathworld.wolfram.com/topics/StatisticalDistributions.html)\n",
    "- [stattrek](https://stattrek.com)\n",
    "\n",
    "-[LaTeX equations in Jupyter](https://jupyter-notebook.readthedocs.io/en/stable/examples/Notebook/Working%20With%20Markdown%20Cells.html#LaTeX-equations)\n",
    "- [w3resource.com](https://www.w3resource.com/numpy)\n",
    "\n",
    "\n",
    "[Back to top](#toc)"
   ]
  },
  {
   "cell_type": "code",
   "execution_count": null,
   "metadata": {},
   "outputs": [],
   "source": [
    "import random\n",
    "random.randrange(300,500)"
   ]
  },
  {
   "cell_type": "markdown",
   "metadata": {},
   "source": [
    "<img src=\"/Simple_random_data.png\" width=\"400\" alt=\"Simple random data\" />"
   ]
  }
 ],
 "metadata": {
  "kernelspec": {
   "display_name": "Python 3",
   "language": "python",
   "name": "python3"
  },
  "language_info": {
   "codemirror_mode": {
    "name": "ipython",
    "version": 3
   },
   "file_extension": ".py",
   "mimetype": "text/x-python",
   "name": "python",
   "nbconvert_exporter": "python",
   "pygments_lexer": "ipython3",
   "version": "3.7.3"
  }
 },
 "nbformat": 4,
 "nbformat_minor": 2
}
