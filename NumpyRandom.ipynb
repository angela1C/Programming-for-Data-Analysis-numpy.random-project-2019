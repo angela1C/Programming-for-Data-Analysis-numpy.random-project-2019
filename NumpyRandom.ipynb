{
 "cells": [
  {
   "cell_type": "markdown",
   "metadata": {},
   "source": [
    "# Programming for Data Analysis Assignment 2019\n",
    "\n",
    "## Problem Statement\n",
    "The assignment concerns the `numpy.random` package in Python.\n",
    "Include a Jupyter notebook (this one) to explain the use of the package including detailed explanations of at least five of the distributions provided for in the package.\n",
    "There are four distinct task to be carried out in the Jupyter Notebook.\n",
    "1. Explain the overall purpose of the package.\n",
    "2. Explain the use of the “Simple random data” and “Permutations” functions. \n",
    "3. Explain the use and purpose of at least five “Distributions” functions.\n",
    "4. Explain the use of seeds in generating pseudorandom numbers.\n",
    "\n",
    "## Documents required for the submission\n",
    "A git repository containing:\n",
    "-  a README\n",
    "- a git ignore file\n",
    "- a Jupyter Notebook\n",
    "\n",
    "## Requirements\n",
    "A good submission will be clearly organised and contain concise explanations of the particularities of the dataset. The analysis contained within the notebook will be well conceived, interesting, and well researched. Note that part of this assignment is about the use of Jupyter notebooks and so you should make use of all the functionality available in the software including images, links, code and plots. You may use any Python libraries that you wish, whether they have been discussed in class or not.\n",
    "\n"
   ]
  },
  {
   "cell_type": "markdown",
   "metadata": {},
   "source": [
    "### instructions as per the video - delete later. \n",
    "This is just for me to refer to.\n",
    "The documentation for the NumPy package at [numpy.random docs (1.16.1 reference/routines)](https://docs.scipy.org/doc/numpy-1.16.1/reference/routines.random.html)is broken down into four sections. \n",
    "\n",
    "- [simple random data](https://docs.scipy.org/doc/numpy-1.16.1/reference/routines.random.html#simple-random-data)  \n",
    "- [permutations](https://docs.scipy.org/doc/numpy-1.16.1/reference/routines.random.html#permutations)  \n",
    "- [distributions](https://docs.scipy.org/doc/numpy-1.16.1/reference/routines.random.html#distributions)    \n",
    "- [random generator](https://docs.scipy.org/doc/numpy-1.16.1/reference/routines.random.html#random-generator)  \n",
    "\n",
    "My understanding of this assignment from the video is that we are look at the numpy.random package and instead of just going through every function in the package (as this is already well documented), go through the numpy.random package and describe it more in your own words - in less robotic terms. No need to go through every single function but instead take a handful of the functions of random.numpy and describe them using things like plots, descriptive statistics or anything else we fancy instead of just noting the parameters, arguments and outputs of each function in the documentation. Give a more real descriptive flavour of what the package is about.\n",
    "\n",
    "\n"
   ]
  },
  {
   "cell_type": "markdown",
   "metadata": {},
   "source": [
    "# First a quick overview of the NumPy package\n",
    "\n",
    "Here I will start by making some notes from the lectures on the NumPy package, the package documentation and the Python for Data Analysis book chapter 4 by Wes McKinney. \n",
    "\n",
    "The [numpy quickstart tutorial](https://numpy.org/devdocs/user/quickstart.html)provides a good overview of the NumPy package.\n",
    "I won't go into too much detail here as this assignment is just about the `numpy.random` package but just a few points to refer to!\n",
    "\n",
    "[what is numpy](https://docs.scipy.org/doc/numpy/user/whatisnumpy.html)\n",
    "\n",
    "`NumPy` is a Python package that is very quick at dealing with numbers in very long lists or even lists of lists - NumPy works well with arrays of numbers. Raw Python's built-in matrix operations are quite inefficient when compared to NumPy's capabilities. NumPy is a specialist package that deals with multi-dimensional arrays that resemble lists within lists. \n",
    "\n",
    "NumPy arrays are rectangular in shape, such as 2-dimensional array where every row and every column have the same number of columns. The number of rows and columns can be different but each row must contain the same number of elements and each column contains the same number of elements.\n",
    "Multi-dimensional arrays with more than two dimensions can be created. Two-dimensional array are probably the mosy commonly used. \n",
    "Operations can be performed on NumPy arrays very quickly. NumPy has many algorithms for dealing with numerical operations on arrays.\n",
    "NumPy can be used to simulate data. While csv data is commonly imported into NumPy for analysis (or more likely through the Python Pandas packages which uses NumPy in the background), it is often handy to be able to simulate data to analyse before the real data may be collected or available.\n",
    "\n",
    "NumPy is typically used through other packages. It is a specialist packages for dealing with arrays of numbers.  While NumPy provides a computational foundation for working with numbers, it does not have the modelling or scientific functionality of other computational packages in Python but these packages use NumPy's array objects. \n",
    " \n",
    "Numpy works well with arrays of numbers and does operations on matrices in a far more efficient  way tha using raw python matrix operations. Matrix operations are very commonly used in computer applications including analysing data, resizing or compressing images or converting cd's into mpgs.\n",
    "\n",
    "\n",
    "- NumPy is short for Numerical Python. \n",
    "- NumPy is one of the most important foundational packages for numerical computing in Python. \n",
    "- NumPy's main data structure is an `ndarray` - an a homogenuous multidimensional array. An *ndarray* is also known by the alias *array*.\n",
    "- A NumPy array is like a table of elements that are all of the same type. The elements which are usually numbers are indexed by a tuple of positive integers. Axes refer to the dimensions of a NumPy array.\n",
    "\n",
    "- NumPy has many mathematical functions that avoid the need to use loop as they work on entire arrays of data. \n",
    "- NumPy is designed for efficiency on large arrays of data which is partly due to the way NumPy stores data in a contiguous block of memory. NumPy's algorithms can operate on this memory without any type checking. NumPy arrays use much less memory than python's own built-in sequences. \n",
    "- NumPy arrays use *vectorisation*. This is where batch operations can be performed on arrays without using loops. \n",
    "- arithmetic operations are carried out *elementwise* on an array and result in a new array being created.\n",
    "- some operations on arrays actually modify an array in place and do not create a new one. `+=`, `-=`\n",
    " \n",
    "## NumPy's ndarray object. \n",
    "The *ndarray* is an N-dimensional or multi-dimensional array object. It is a fast and flexible container for larger datasets in Python. You can perform mathematical operations on entire arrays using the same kind of syntax to similar operations on scalar values. \n",
    "- The data in an *ndarray* must be homogeneous meaning that all it's data elements must of the same type.\n",
    "- Arrays have a *ndim* attribute for the number of axes or dimensions of the array\n",
    "- Arrays have a *shape* attribute which is a tuple that indicates the size of the array in each dimension.\n",
    "The length of the *shape* tupple is the number of axes that the array has. \n",
    "- Arrays have a *dtype* attribute which is an object that describes the data type of the array.\n",
    "- The `size` attribute is the total number of elements in the array.\n",
    "\n",
    "\n",
    "An ndarray can be created using the Numpy `array` function which takes any sequence-like objects such as lists, nested lists etc. Other NumPy functions create new arrays such as `zeros`, `ones`, `empty`, `arange`, `full` and `eye` among others. All these functions create an array object. \n",
    "\n"
   ]
  },
  {
   "cell_type": "markdown",
   "metadata": {},
   "source": [
    "## numpy.random\n",
    "\n",
    "- `numpy.random` is a sub-package of the numpy package. \n",
    "\n",
    "- `numpy.random` generates random numbers. \n",
    "There are many different ways to generate (pseudo) random numbers. These random numbers are really pseudo random numbers as computers can't actually generate random numbers.\n",
    "\n",
    "There are many many functions in the numpy.random package that relate to generating random numbers from different probability distributions and therefore it is not really possible to know all of these without referring to the documentation. \n",
    "Plots can illustrate the difference between different probability distributions. \n",
    "see random generation, random state, set state, get stats\n",
    "\n",
    "### Random sampling / numpy.random\n",
    "https://docs.scipy.org/doc/numpy/reference/random/index.html?highlight=numpy.random#module-numpy.random\n",
    "\n",
    "assumptions made about the type of random numbers you want, depend on distributions.\n",
    "- Permutations \n",
    "- shuffle - \n",
    "Shuffle changes array in place while permutations doesnt.\n",
    "\n",
    "\n"
   ]
  },
  {
   "cell_type": "markdown",
   "metadata": {},
   "source": [
    "###  The numpy.random package documentation on docs.scipy.org\n",
    "\n",
    "I noticed that the documentation in the latest version 1.17 does not seem to be listing `numpy.random.rand()` function in the same way as the documentation for NumPy version 1.16 (or NumPy versions 1.15 and 1.14).\n",
    "\n",
    "[numpy-1.15.1/reference.routines.random](https://docs.scipy.org/doc/numpy-1.15.1/reference/routines.random.html) has `numpy.random.rand(d0,d1,...,dn)`\n",
    "The [numpy/reference/random](https://docs.scipy.org/doc/numpy/reference/random) has a random.sampling(numpy.random) section which has a [quick start guide](https://docs.scipy.org/doc/numpy/reference/random/index.html#quick-start) and it outlines some changes since the videos were made and refers to the **generator** as a replacement for Random.State.\n",
    "\n",
    "I'll have to go through the documentation and see what the changes are.\n",
    "\n",
    "- https://docs.scipy.org/doc/numpy/reference/random/generated/numpy.random.Generator.random.html#numpy.random.Generator.random\n",
    "\n",
    "Note that the documents under this url refer to `numpy.random.generator` but I think this is just the newer form.\n"
   ]
  },
  {
   "cell_type": "code",
   "execution_count": null,
   "metadata": {},
   "outputs": [],
   "source": [
    "### numpy.random.rand()\n",
    "pass the dimensions into the fucntion. if you don't pass the dimesions yuo get a scalar.\n",
    "[numpy.random.rand](https://docs.scipy.org/doc/numpy/reference/random/generated/numpy.random.Generator.random.html#numpy.random.Generator.random).\n",
    "\n",
    "You get an array so that every row has the same number of elements, every column has the same number of elements. can be different number of rows as columns."
   ]
  },
  {
   "cell_type": "markdown",
   "metadata": {},
   "source": [
    "### References\n",
    "- Python for Data Analysis - chapter 4 NumPy Basics: Arrays and Vectorised Computation by Wes McKinney\n"
   ]
  }
 ],
 "metadata": {
  "kernelspec": {
   "display_name": "Python 3",
   "language": "python",
   "name": "python3"
  },
  "language_info": {
   "codemirror_mode": {
    "name": "ipython",
    "version": 3
   },
   "file_extension": ".py",
   "mimetype": "text/x-python",
   "name": "python",
   "nbconvert_exporter": "python",
   "pygments_lexer": "ipython3",
   "version": "3.7.3"
  }
 },
 "nbformat": 4,
 "nbformat_minor": 2
}
