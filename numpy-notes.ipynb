{
 "cells": [
  {
   "cell_type": "code",
   "execution_count": null,
   "metadata": {},
   "outputs": [],
   "source": []
  },
  {
   "cell_type": "markdown",
   "metadata": {},
   "source": [
    "First a quick overview of the NumPy package - remove most of this!\n",
    "\n",
    "Back to top\n",
    "\n",
    "NumPy is a specialist Python package that works well with large arrays of numbers. Raw Python's built-in matrix operations are quite inefficient when compared to NumPy's capabilities. NumPy can work easily with multi-dimensional arrays. NumPy does operations on matrices in a far more efficient way than using raw python matrix operations. Matrix operations are very commonly used when analysing data.\n",
    "\n",
    "While NumPy provides a computational foundation for working with numbers, it does not have the modelling or scientific functionality of other computational packages in Python but these other packages do use NumPy's array objects. NumPy is typically used through other packages.\n",
    "\n",
    "The NumPy package has many algorithms for dealing with numerical operations on arrays. Operations can be performed on NumPy arrays very quickly.\n",
    "\n",
    "NumPy can also be used to simulate data. While csv data is commonly imported into NumPy for analysis or into a package such as pandas that uses NumPy, it is often handy to be able to simulate data to analyse before the real data may be collected or available.\n",
    "\n",
    "The numpy quickstart tutorial provides a good overview of the NumPy package.\n",
    "\n",
    "what is NumPy\n",
    "\n",
    "NumPy is short for Numerical Python.\n",
    "NumPy is one of the most important foundational packages for numerical computing in Python.\n",
    "NumPy's main data structure is an ndarray - an a homogenuous multidimensional array. An ndarray is also known by the alias array.\n",
    "A NumPy array is like a table of elements that are all of the same type. The elements which are usually numbers are indexed by a tuple of positive integers. Axes refer to the dimensions of a NumPy array.\n",
    "\n",
    "NumPy has many mathematical functions that avoid the need to use loop as they work on entire arrays of data.\n",
    "\n",
    "NumPy is designed for efficiency on large arrays of data which is partly due to the way NumPy stores data in a contiguous block of memory. NumPy's algorithms can operate on this memory without any type checking. NumPy arrays use much less memory than python's own built-in sequences.\n",
    "NumPy arrays use vectorisation. This is where batch operations can be performed on arrays without using loops.\n",
    "arithmetic operations are carried out elementwise on an array and result in a new array being created.\n",
    "some operations on arrays actually modify an array in place and do not create a new one. +=, -=\n",
    "NumPy's ndarray object.\n",
    "\n",
    "NumPy's ndarray is an N-dimensional or multi-dimensional array object. It is a fast and flexible container for larger datasets in Python. Mathematical operations can be performed on entire arrays using the same kind of syntax to similar operations on scalar values.\n",
    "An ndarray can be created using the Numpy array function which takes any sequence-like objects such as lists, nested lists etc. Other NumPy functions create new arrays such as zeros, ones, empty, arange, full and eye among others. All these functions create an array object.\n",
    "\n",
    "Some key points about the ndarray objects include:\n",
    "\n",
    "The data in an ndarray must be homogeneous, that is all of it's data elements must of the same type.\n",
    "Arrays have a ndim attribute for the number of axes or dimensions of the array\n",
    "Arrays have a shape attribute which is a tuple that indicates the size of the array in each dimension. The length of the shape tupple is the number of axes that the array has.\n",
    "Arrays have a dtype attribute which is an object that describes the data type of the array.\n",
    "The size attribute is the total number of elements in the array."
   ]
  },
  {
   "cell_type": "code",
   "execution_count": null,
   "metadata": {},
   "outputs": [],
   "source": []
  }
 ],
 "metadata": {
  "kernelspec": {
   "display_name": "Python 3",
   "language": "python",
   "name": "python3"
  },
  "language_info": {
   "codemirror_mode": {
    "name": "ipython",
    "version": 3
   },
   "file_extension": ".py",
   "mimetype": "text/x-python",
   "name": "python",
   "nbconvert_exporter": "python",
   "pygments_lexer": "ipython3",
   "version": "3.7.3"
  }
 },
 "nbformat": 4,
 "nbformat_minor": 2
}
