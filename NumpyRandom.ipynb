{
 "cells": [
  {
   "cell_type": "markdown",
   "metadata": {},
   "source": [
    "# Programming for Data Analysis Assignment 2019\n",
    "\n",
    "## Problem Statement\n",
    "The assignment concerns the `numpy.random` package in Python.\n",
    "Explain the use of the package including detailed explanations of at least five of the distributions provided for in the package.\n",
    "There are four distinct task to be carried out in the Jupyter Notebook.\n",
    "1. Explain the overall purpose of the package.\n",
    "2. Explain the use of the “Simple random data” and “Permutations” functions. \n",
    "3. Explain the use and purpose of at least five “Distributions” functions.\n",
    "4. Explain the use of seeds in generating pseudorandom numbers.\n"
   ]
  },
  {
   "cell_type": "code",
   "execution_count": null,
   "metadata": {},
   "outputs": [],
   "source": []
  },
  {
   "cell_type": "markdown",
   "metadata": {},
   "source": [
    "I am going to try and use links to the different section to make it easier to navigate around the document.\n",
    "There is a jupyter extension for a table of contents but I would need to install this first and maybe it wouldn't work for someone else reading it? I will also add a link to get back up to the table of contents\n",
    "I should add a link to get back up.\n"
   ]
  },
  {
   "cell_type": "markdown",
   "metadata": {},
   "source": [
    "<a id='toc'></a>\n",
    "## Table of contents\n",
    "\n",
    "1. [ Explain the overall purpose of the package](#task1)\n",
    "2. [Explain the use of the Simple random data and Permutations functions.](#task2)\n",
    "    - 2.1 [Simple random data functions](#task2.1)\n",
    "    - 2.2 [Permutations Functions](#task2.2)\n",
    "3. [Explain the use and purpose of at least five “Distributions” functions](#task3)\n",
    "4. [Explain the use of seeds in generating pseudorandom numbers](#task4)\n",
    "5. [References](#references)\n",
    "  \n"
   ]
  },
  {
   "cell_type": "markdown",
   "metadata": {},
   "source": []
  },
  {
   "cell_type": "markdown",
   "metadata": {},
   "source": [
    "### Jupyter notebook settings\n",
    "In order to get the output of multiple python statements to print, instead of just the last statement in a cell, you can change the settings as per the [jupyter notebook tips, tricks and shortcuts blogpost by dataquest](https://www.dataquest.io/blog/jupyter-notebook-tips-tricks-shortcuts/)"
   ]
  },
  {
   "cell_type": "code",
   "execution_count": 86,
   "metadata": {},
   "outputs": [],
   "source": [
    "from IPython.core.interactiveshell import InteractiveShell\n",
    "InteractiveShell.ast_node_interactivity = \"all\"\n",
    "\n",
    "import numpy as np\n",
    "import pandas as pd\n",
    "import seaborn as sns\n",
    "import matplotlib.pyplot as plt"
   ]
  },
  {
   "cell_type": "markdown",
   "metadata": {},
   "source": [
    "<a id='notes'></a>\n",
    "\n",
    "\n",
    "### some quick notes here - remove this later!\n",
    "- what is the stated aim of the package?\n",
    "- why would you want to generate random numbers?\n",
    "- pythons built-in `random` module can also generate random numbers so what is the difference.\n",
    "- how are random numbers generated using pseudo random number generator  \n",
    "\n",
    "(There are many many functions in the numpy.random package for generating random numbers from different probability distributions and therefore it is not really possible to know all of these functions without having to refer to the documentation on a need to basis.\n",
    "\n",
    "Plots can illustrate the difference between different probability distributions. \n",
    "see random generation, random state, set state, get stats)\n",
    "\n",
    "The aim of the assignment is to be able to give a good overview of the numpy.random functions in your own words without rehashing the documentation. First I will start by trying out some of the functions. All of the functions return random value or values in some shape or form. \n",
    "As the numpy package is being imported using the alias `np`, the numpy.random functions can be called using `np.random.`.\n",
    "I will go down through the simple random data functions and see how they differ from one another. A first glance at the functions in the documentation show that four of the functions return similar output. \n",
    "These are the following four functions which all return random floats in the half-open interval `[0.0,1.0)`\n",
    "\n",
    "- `random_sample([size])` returns random floats in the half-open interval `[0.0, 1.0)`  \n",
    "- `random([size])` also returns random floats in the half-open interval` [0.0, 1.0)`.\n",
    "- `ranf([size])` again returns random floats in the half-open interval `[0.0, 1.0)`.\n",
    "- `sample([size])` returns random floats in the half-open interval `[0.0, 1.0)`.\n",
    "\n",
    "I will look at these together and see how they differ. `random.randint` and `random.random_integer` also look quire similar. \n",
    "First I will look at the `random.rand` function.\n",
    "The numpy package has been imported as the alias `np`.\n",
    "\n",
    "I think I can import each of the functions on their own? I'll check this out.\n",
    "\n",
    "I first went through some of the functions for task 2 but having done that I am going to reduce some of the clutter there and integrate it somehow with task 3 related to distributions as they are very much related. Its just the way the documentation is laid out. Rather than going through the simple random data functions I will look at the simple random data functions for each of the distributions covered which seem to be just the uniform distribution and the normal and standard normal distributions.\n",
    "\n",
    "##### images\n",
    "it looks like I have to use html to resize images rather than markdown.\n",
    "`<img src=\"/Simple_random_data.png\" width=\"400\" alt=\"Simple random data\" />`\n",
    "\n",
    "Using markdown does not seem to allow resizing of the image.  \n",
    "\n",
    "`![Simple random data](/Simple_random_data.png \"title\")`\n",
    "\n",
    "[Back to top](#toc)"
   ]
  },
  {
   "cell_type": "markdown",
   "metadata": {},
   "source": [
    "## Random numbers in Python"
   ]
  },
  {
   "cell_type": "markdown",
   "metadata": {},
   "source": [
    "<a id='task1'></a>\n",
    "# 1. Explain the overall purpose of the package.\n",
    "\n",
    "\n",
    "## NumPy and NumPy's Random module\n",
    "\n",
    "`numpy.random` is a sub-package or module of the NumPy package that generates random numbers so first a little background on NumPy package itself.\n",
    "\n",
    "\n",
    "[what is NumPy](https://docs.scipy.org/doc/numpy/user/whatisnumpy.html)\n",
    "\n",
    "**NumPy**, short for Numerical Python, is one of the most important foundational packages for numerical computing in Python and many other packages that are used for data analytics and machine learning are built on NumPy. \n",
    "NumPy's main data structure is an **ndarray** - a homogenuous multidimensional array which is also known by the alias **array**. Python does not have an array data structure so NumPy allow the creation and manipulatation of arrays of numbers. Python's own built-in matrix operations are quite inefficient when compared to NumPy's capabilities which can work easily with large multi-dimensional arrays of numbers. Such matrix type operations are very commonly used when analysing data and for other computing purposes.\n",
    "\n",
    "A NumPy array resembles a table of elements that are all of the same type. The elements which are usually numbers are indexed by a tuple of positive integers. Axes refer to the dimensions of a NumPy array.\n",
    "\n",
    "The NumPy package has many mathematical functions and algorithms for doing very fast numerical operations on arrays.\n",
    "\n",
    "Batch operations avoid the need to use loop by working on entire arrays of data using **vectorisation**  and using similar syntax to working with scalars.\n",
    "\n",
    "The way NumPy stores data in a contiguous block of memory makes NumPy very efficient for operating on large arrays of data as the algorithms can work on this memory without type checking. NumPy arrays use much less memory than python's own built-in sequences. \n",
    "\n",
    "Arithmetic operations are carried out *elementwise* on an array and result in a new array being created although some operations on arrays actually modify an array in place without creating a new one such as `+=` and `-=`type of operations.\n",
    "\n",
    "While NumPy provides a computational foundation for working with numbers, it does not have the modelling or scientific functionality of other computational packages in Python but these other packages do use NumPy's array objects. NumPy is typically used through other packages such as pandas, scikit-learn. \n",
    "\n",
    "NumPy can also be used to simulate data. While csv data is commonly imported into NumPy for analysis (or into a package such as pandas that uses NumPy), it is often uesful to be able to simulate data to analyse before the real data may be collected or available. \n",
    "  \n",
    "A NumPy **ndarray** can be created using the Numpy `array` function which takes any sequence-like objects such as lists, nested lists etc. Other NumPy functions create new arrays such as `zeros`, `ones`, `empty`, `arange`, `full` and `eye` among others. All these functions create an array object. See [numpy quickstart tutorial](https://numpy.org/devdocs/user/quickstart.html)\n",
    "\n",
    "Some key points about the ndarray objects include:\n",
    "- The data in an *ndarray* must be homogeneous, that is all of it's data elements must of the same type.\n",
    "- Arrays have a *ndim* attribute for the number of axes or dimensions of the array\n",
    "- Arrays have a *shape* attribute which is a tuple that indicates the size of the array in each dimension.\n",
    "The length of the *shape* tupple is the number of axes that the array has. \n",
    "- Arrays have a *dtype* attribute which is an object that describes the data type of the array.\n",
    "- The `size` attribute is the total number of elements in the array.\n",
    "\n",
    "\n",
    "## NumPy's Random module vs Python's random module\n",
    "Python has a built-in [random](https://docs.python.org/3/library/random.html) module that provides a number of tools for working with random numbers. However this `random` module only samples one value at a time.  Loops are used to generate sequences of random numbers while `numpy.random` provides functions that can efficiently generate arrays of sample values from various probability distributions rather than one value at a time. NumPy's random module is much much faster and more efficient than python's random module for this purpose.\n",
    "NumPy's random module is used more for generating random series of data rather than the scalar values generated by the python random module.\n",
    "\n",
    "The `numpy.random` package is designed to use NumPy's key data structure - the multi-dimensional `ndarray` arrays. Given an input array of elements, random functions will allow you to select a random sample of elements from the array.\n",
    "\n",
    "\n",
    "Both Python's random and NumPy random packages generate pseudorandom numbers rather than actual random numbers. \n",
    "Actual random numbers cannot be generated by software applications. Both `random` modules implements **pseudorandom** numbers for various distributions. \n",
    "Python uses the **Mersenne Twister** as the core generator. The Mersenne Twister is one of the most extensively tested random number generators in existence. According to [wikipedia](https://en.m.wikipedia.org/wiki/Mersenne_Twister), the Mersenne Twister is by far the most widely used general-purpose pseudorandom number generator PRNG whose name derives from the fact that its period length is chosen to be a Mersenne prime (a prime number that is one less than a power of two. That is, it is a prime number of the form Mn = 2n − 1 for some integer n.).\n",
    "\n",
    "\n"
   ]
  },
  {
   "cell_type": "markdown",
   "metadata": {},
   "source": [
    "### Generating random numbers\n",
    "  \n",
    "[Back to top](#toc)\n",
    "Numbers generated by either the built-in python `random` module or the `numpy.random` package or any other computer software application are not actually random at all but **pseudorandom** numbers which are drawn from a **probability distribution**. \n",
    "\n",
    "So called random number generators are **deterministic**. The random numbers are generated are in a sequence according to some deterministic algorithm from a **seed**.\n",
    "\n",
    "Computer software cannot actually generate actual random numbers but instead they generate sequences that look like random numbers, so that the next number generated in the sequence could not be predicted without a key piece of information called the **seed**. Pseudorandom numbers are generated using a deterministic algorithm that is based on the seed used and if you know the seed then you can predict the next number to be generated in a sequence.  Therefore the numbers generated are not actually random as such. \n",
    "\n",
    "The seed used is typically the time (to the microsecond) on the computer when the code was run. If for whatever reason you want to recreate the exact same sequence of random numbers, then you can supply or **set** the seed of the random number generator.\n",
    "\n",
    "This is useful when testing code or when demonstrating or to make your work reproducible by someone else. \n",
    "Without supplying a seed yourself explicitly, the current system time in milliseconds is used. If you do explicitly define or set a seed to use then the same sequence of random numbers could be generated. \n",
    "The sequence of numbers generated may have properties of randomness and look random but there is an important distinction between random and pseudorandom numbers. Pseudorandom numbers should never be used for cryptographic purposes!\n",
    "\n",
    "\n"
   ]
  },
  {
   "cell_type": "markdown",
   "metadata": {},
   "source": [
    "## Why generate random numbers?\n",
    "\n",
    "[Back to top](#toc)  \n",
    "The numpy.random package is used to generate random numbers (or pseudo random numbers) so I guess the question first is why would you want to generate random numbers!\n",
    "\n",
    "Being able to randomly select elements has many uses in computer applications such as gaming. \n",
    "The ability to generate sets of numbers from a particular probability distribution is also very useful for simulating a dataset, maybe in the absence of an actual dataset or for demonstrating or learning statistical and analytical concepts. \n",
    "\n",
    "Data Analytics and Machine learning projects frequently rely on random samples of a datasets for testing and evaluation purposes. Often a dataset is split into training and test set where the dataset is shuffled and a classifier is built with a randomly selected subset of the dataset and the classifier is then tested on the remaining subset of the data. \n",
    "This allows you to evaluate the accuracy of the classifier before applying it to new observations as otherwise you would not know if the classifier was any good or not.\n",
    "\n",
    "I think that some clustering algorithms often use random starting point. will come back to this.\n",
    "[Back to top](#toc)"
   ]
  },
  {
   "cell_type": "markdown",
   "metadata": {},
   "source": [
    "<a id='task2'></a>\n",
    "# 2. Explain the use of the “Simple random data” and “Permutations” functions.\n",
    "[Back to top](#toc)\n",
    "\n",
    "See [Random Sampling using numpy.random](https://docs.scipy.org/doc/numpy-1.16.1/reference/routines.random.html#random-sampling-numpy-random) of the numpy documentation which for NumPy version 1.16 has 4 main sections, of which Simple random data is the second section.\n",
    "\n",
    "- Simple random data\n",
    "- Permutations\n",
    "- Distributions\n",
    "- Random Generator\n"
   ]
  },
  {
   "cell_type": "markdown",
   "metadata": {},
   "source": [
    "<a id='task2.1'></a>\n",
    "## 2.1 Simple random data functions\n",
    "[Back to top](#toc)"
   ]
  },
  {
   "cell_type": "markdown",
   "metadata": {},
   "source": [
    "\n",
    "<img src=\"/Simple_random_data.png\" width=\"400\" alt=\"Simple random data\" />\n"
   ]
  },
  {
   "cell_type": "code",
   "execution_count": 1,
   "metadata": {},
   "outputs": [],
   "source": [
    "import numpy as np\n",
    "import numpy.random"
   ]
  },
  {
   "cell_type": "markdown",
   "metadata": {},
   "source": [
    "[Back to top](#toc)\n",
    "\n",
    "\n",
    "## Random Floating Numbers from the Uniform Distribution\n",
    "\n",
    "## 1. **The `numpy.random.rand` function**\n",
    "The `numpy.random.rand` function returns an array of floats or a single random value from a uniform distribution. \n",
    "\n",
    "\n",
    "The array of random values returned will be in a given shape depending on the dimensions provided as an argument to the function. A scalar value is returned if no size argument is provided.\n",
    "\n",
    "The shape is a tuple that shows the size of each dimension\n",
    "\n",
    "- The returned array will contain a sequence of random values in a given shape according to the parameters you supplied. \n",
    "-  The random values will be drawn from the **uniform distribution** over the interval of `[0,1)` This means that values can be any number from 0.0 up to 1 but not including 1. \n",
    "\n",
    "To use this function you can simply pass some integers as arguments. These integers relate to the dimensions of the outputted array. \n",
    "- If no argument is supplied then just a single float is returned. This is similar to the random function in the python random package.\n",
    "- If you do supply arguments, they should all be positive integers. \n",
    "- The number of elements returned will depend on the number of arguments you provide. If you supply just a single integer as an argument, then the array that is returned is a 1 one-dimensional array containing a scalar.\n",
    "\n",
    "You get an array so that every row has the same number of elements, every column has the same number of elements. There can be different number of rows as columns.\n",
    "\n",
    "In summary, `numpy.random.rand` returns an array of floating point values or a single random value.\n",
    "Without providing a size argument, it is probably similar to the python `random` function which generates a single random value in the range between 0 and 1. (The half-open interval `[0,1)`\n",
    "\n",
    "\n"
   ]
  },
  {
   "cell_type": "markdown",
   "metadata": {},
   "source": [
    "Instead of all the print statements below, I am going to try and write a small function to print the array attributes.\n",
    "If you repeat code often, you should automate it!"
   ]
  },
  {
   "cell_type": "code",
   "execution_count": 46,
   "metadata": {},
   "outputs": [],
   "source": [
    "\n",
    "def arrayinfo(myarray):  # pass the array to the function to print the attributes\n",
    "    \"\"\"print the attributes of the numpy array passed to this function\"\"\"\n",
    "    \n",
    "    print(f\"This array is a {myarray.ndim} dimensional array, with a{myarray.shape} shape and the array has a total number of {myarray.size}  elements\")\n",
    "    return myarray\n",
    "\n",
    "\n",
    "\n"
   ]
  },
  {
   "cell_type": "code",
   "execution_count": 34,
   "metadata": {},
   "outputs": [
    {
     "data": {
      "text/plain": [
       "array([0.47322991, 0.00961217, 0.64346818, 0.22486839, 0.35577984,\n",
       "       0.70105479, 0.61961152, 0.67621243, 0.06534193, 0.37538338])"
      ]
     },
     "execution_count": 34,
     "metadata": {},
     "output_type": "execute_result"
    }
   ],
   "source": [
    "import numpy as np\n",
    "from numpy.random import rand\n",
    "rand(10)"
   ]
  },
  {
   "cell_type": "code",
   "execution_count": 35,
   "metadata": {},
   "outputs": [
    {
     "name": "stdout",
     "output_type": "stream",
     "text": [
      "This array is a 1 dimensional array, with a(10,) shape and the array has a total number of 10  elements\n"
     ]
    },
    {
     "data": {
      "text/plain": [
       "array([0.40606494, 0.99683973, 0.85300586, 0.52023281, 0.66391039,\n",
       "       0.16348047, 0.30661599, 0.09941304, 0.52436635, 0.54172445])"
      ]
     },
     "execution_count": 35,
     "metadata": {},
     "output_type": "execute_result"
    }
   ],
   "source": [
    "x = np.random.rand(10)\n",
    "arrayinfo(x)"
   ]
  },
  {
   "cell_type": "markdown",
   "metadata": {},
   "source": [
    "It looks like you can import numpy.random.rand on its own. I'll have to rename my variables below."
   ]
  },
  {
   "cell_type": "code",
   "execution_count": 36,
   "metadata": {},
   "outputs": [
    {
     "name": "stdout",
     "output_type": "stream",
     "text": [
      "This array is a 1 dimensional array, with a(1,) shape and the array has a total number of 1  elements\n"
     ]
    },
    {
     "data": {
      "text/plain": [
       "array([0.15897404])"
      ]
     },
     "execution_count": 36,
     "metadata": {},
     "output_type": "execute_result"
    }
   ],
   "source": [
    "x = np.random.rand(1)  # a single array with 1 element\n",
    "\n",
    "arrayinfo(x)"
   ]
  },
  {
   "cell_type": "code",
   "execution_count": 37,
   "metadata": {},
   "outputs": [
    {
     "data": {
      "text/plain": [
       "array([0.21510278, 0.97732122, 0.60708688, 0.1871538 , 0.92171767,\n",
       "       0.05462963, 0.04623718, 0.86762086, 0.48097419, 0.46045208])"
      ]
     },
     "execution_count": 37,
     "metadata": {},
     "output_type": "execute_result"
    }
   ],
   "source": [
    "from numpy.random import rand\n",
    "rand(10)"
   ]
  },
  {
   "cell_type": "code",
   "execution_count": 38,
   "metadata": {},
   "outputs": [
    {
     "name": "stdout",
     "output_type": "stream",
     "text": [
      "This array is a 1 dimensional array, with a(3,) shape and the array has a total number of 3  elements\n"
     ]
    },
    {
     "data": {
      "text/plain": [
       "array([0.65601946, 0.74935367, 0.09916732])"
      ]
     },
     "execution_count": 38,
     "metadata": {},
     "output_type": "execute_result"
    }
   ],
   "source": [
    "x = np.random.rand(3)  # a single array with 3 elements\n",
    "arrayinfo(x)"
   ]
  },
  {
   "cell_type": "code",
   "execution_count": 39,
   "metadata": {},
   "outputs": [
    {
     "name": "stdout",
     "output_type": "stream",
     "text": [
      "This array is a 2 dimensional array, with a(3, 2) shape and the array has a total number of 6  elements\n"
     ]
    },
    {
     "data": {
      "text/plain": [
       "array([[0.2760533 , 0.20008884],\n",
       "       [0.36822178, 0.53696417],\n",
       "       [0.69675581, 0.55847089]])"
      ]
     },
     "execution_count": 39,
     "metadata": {},
     "output_type": "execute_result"
    }
   ],
   "source": [
    "x =np.random.rand(3,2) ## array with 3 rows and 2 columns\n",
    "\n",
    "arrayinfo(x)"
   ]
  },
  {
   "cell_type": "markdown",
   "metadata": {},
   "source": [
    "Next we can create an array (the outer []) which contains  3 inner arrays where each of these 3 arrays have 2 elements.\n",
    "The number of elements is the 6 (3 times 2)"
   ]
  },
  {
   "cell_type": "code",
   "execution_count": 40,
   "metadata": {},
   "outputs": [
    {
     "name": "stdout",
     "output_type": "stream",
     "text": [
      "This array is a 3 dimensional array, with a(1, 2, 3) shape and the array has a total number of 6  elements\n"
     ]
    },
    {
     "data": {
      "text/plain": [
       "array([[[0.34276297, 0.08890153, 0.74507338],\n",
       "        [0.599014  , 0.21226027, 0.49067447]]])"
      ]
     },
     "execution_count": 40,
     "metadata": {},
     "output_type": "execute_result"
    }
   ],
   "source": [
    "x =np.random.rand(1,2,3)\n",
    "\n",
    "arrayinfo(x)"
   ]
  },
  {
   "cell_type": "code",
   "execution_count": 41,
   "metadata": {},
   "outputs": [
    {
     "name": "stdout",
     "output_type": "stream",
     "text": [
      "This array is a 3 dimensional array, with a(4, 1, 2) shape and the array has a total number of 8  elements\n"
     ]
    },
    {
     "data": {
      "text/plain": [
       "array([[[0.61946014, 0.21446019]],\n",
       "\n",
       "       [[0.40823874, 0.34635318]],\n",
       "\n",
       "       [[0.33299973, 0.91792357]],\n",
       "\n",
       "       [[0.22475354, 0.40146836]]])"
      ]
     },
     "execution_count": 41,
     "metadata": {},
     "output_type": "execute_result"
    }
   ],
   "source": [
    "x =np.random.rand(4,1,2)\n",
    "arrayinfo(x)"
   ]
  },
  {
   "cell_type": "code",
   "execution_count": 42,
   "metadata": {},
   "outputs": [
    {
     "data": {
      "text/plain": [
       "0.6918619676984463"
      ]
     },
     "execution_count": 42,
     "metadata": {},
     "output_type": "execute_result"
    }
   ],
   "source": [
    "np.random.rand()  ## without any arguments, a scalar is returned\n",
    "\n"
   ]
  },
  {
   "cell_type": "markdown",
   "metadata": {},
   "source": [
    "##### comparing to the random module of python"
   ]
  },
  {
   "cell_type": "code",
   "execution_count": 43,
   "metadata": {},
   "outputs": [
    {
     "name": "stdout",
     "output_type": "stream",
     "text": [
      "0.029819941359761404\n",
      "0.21762054513553386\n",
      "0.6275003338688928\n",
      "0.03159109473672983\n",
      "0.2547017156380863\n"
     ]
    }
   ],
   "source": [
    "import random\n",
    "\n",
    "for i in range(5):  ## use a loop to generate a sequence of random numbers\n",
    "    random_number = random.random()\n",
    "    print(random_number)"
   ]
  },
  {
   "cell_type": "code",
   "execution_count": 44,
   "metadata": {},
   "outputs": [
    {
     "data": {
      "text/plain": [
       "0.3580577511567542"
      ]
     },
     "execution_count": 44,
     "metadata": {},
     "output_type": "execute_result"
    }
   ],
   "source": [
    "import random\n",
    "random.random()"
   ]
  },
  {
   "cell_type": "code",
   "execution_count": null,
   "metadata": {},
   "outputs": [],
   "source": []
  },
  {
   "cell_type": "code",
   "execution_count": 45,
   "metadata": {},
   "outputs": [
    {
     "name": "stdout",
     "output_type": "stream",
     "text": [
      "This array is a 3 dimensional array, with a(2, 2, 2) shape and the array has a total number of 8  elements\n"
     ]
    },
    {
     "data": {
      "text/plain": [
       "array([[[0.08816659, 0.25539718],\n",
       "        [0.02610227, 0.70344005]],\n",
       "\n",
       "       [[0.87049247, 0.07508254],\n",
       "        [0.2288025 , 0.89811371]]])"
      ]
     },
     "execution_count": 45,
     "metadata": {},
     "output_type": "execute_result"
    }
   ],
   "source": [
    "x = np.random.rand(2,2,2)  # a 3-dimensional array\n",
    "arrayinfo(x)"
   ]
  },
  {
   "cell_type": "code",
   "execution_count": 26,
   "metadata": {},
   "outputs": [
    {
     "data": {
      "text/plain": [
       "array([[[[0.11468655, 0.62025402, 0.76396036, 0.31364369, 0.87253793],\n",
       "         [0.40402839, 0.99407203, 0.75363446, 0.69609701, 0.88653543],\n",
       "         [0.74581293, 0.39738086, 0.453183  , 0.80216544, 0.21557082]],\n",
       "\n",
       "        [[0.27556422, 0.05989   , 0.88960205, 0.63606785, 0.26152515],\n",
       "         [0.64064806, 0.15696873, 0.53247158, 0.26271637, 0.04052173],\n",
       "         [0.64917893, 0.30219498, 0.55242158, 0.63389939, 0.6888162 ]],\n",
       "\n",
       "        [[0.09076835, 0.44618331, 0.28351166, 0.69610873, 0.29208211],\n",
       "         [0.51251449, 0.25295832, 0.07036398, 0.42732699, 0.23879539],\n",
       "         [0.20291448, 0.71430954, 0.91222862, 0.7562105 , 0.67197032]],\n",
       "\n",
       "        [[0.4608261 , 0.29152541, 0.12591023, 0.00611223, 0.31829444],\n",
       "         [0.86729266, 0.23815487, 0.31404114, 0.39861665, 0.61627203],\n",
       "         [0.32762547, 0.89068287, 0.77258384, 0.03585105, 0.3930635 ]]],\n",
       "\n",
       "\n",
       "       [[[0.11314813, 0.05065631, 0.82075149, 0.52939161, 0.17087294],\n",
       "         [0.3726623 , 0.86347483, 0.16395033, 0.7326049 , 0.73364753],\n",
       "         [0.6373385 , 0.48571024, 0.43532215, 0.71597136, 0.74603881]],\n",
       "\n",
       "        [[0.92056112, 0.38454772, 0.87688442, 0.54756547, 0.71089076],\n",
       "         [0.21090977, 0.69197675, 0.25574128, 0.15337875, 0.4273614 ],\n",
       "         [0.52907039, 0.82016106, 0.68303128, 0.2318207 , 0.48150301]],\n",
       "\n",
       "        [[0.38026046, 0.00276354, 0.36688248, 0.39104102, 0.85332107],\n",
       "         [0.8171159 , 0.6387044 , 0.19398158, 0.73527645, 0.70074008],\n",
       "         [0.68163427, 0.54498896, 0.40216997, 0.48417932, 0.09377456]],\n",
       "\n",
       "        [[0.36522033, 0.31240786, 0.68576711, 0.48539653, 0.2273498 ],\n",
       "         [0.42040784, 0.56748579, 0.67415498, 0.97633282, 0.46323059],\n",
       "         [0.77139567, 0.05835048, 0.99634157, 0.56454742, 0.22153114]]]])"
      ]
     },
     "execution_count": 26,
     "metadata": {},
     "output_type": "execute_result"
    }
   ],
   "source": [
    "x = np.random.rand(2,4,3,5)  # a 4 dimensional object\n",
    "arrayinfo(x)"
   ]
  },
  {
   "cell_type": "markdown",
   "metadata": {},
   "source": [
    "\n",
    " `np.random.rand(2,4,3,5)` returns a 4 dimensional object. This is a 4-dimensional array where the first axis has 2 element, next axis has 4 , next has 3 and next has 5 so this would produce 2 * 4 * 3 * 5 random numbers. \n",
    "s."
   ]
  },
  {
   "cell_type": "markdown",
   "metadata": {},
   "source": [
    "## Random integers from the Discrete Uniform Distribution\n",
    "\n",
    "### 1. The **`numpy.random.randint`** function.  \n",
    "\n",
    "[Back to top](#toc)\n",
    "\n",
    "Next up is the [numpy.random.randint()](https://docs.scipy.org/doc/numpy-1.16.1/reference/generated/numpy.random.randint.html#numpy-random-randint) function which will return random integers from the discrete uniform distribution in the interval from low (inclusive) to high (exclusive). (`[low, high)`) \n",
    "\n",
    "`numpy.random.randint()` is used to generate an array of random integers. The function returns a numpy array. \n",
    "You must specify how many integers to be generated by providing a size parameter. You can also specify the range from which the random integers will be generated.\n",
    "\n",
    "The lower end and the upper end of the range from which the random integers are generated.\n",
    "\n",
    "There are four possible parameters you can give to this function but at least one is required. Size is the key word argument here which is used to specify how many random numbers should be generated\n",
    "When only one parameter is supplied, this value is taken to be upper end of the range (exclusive) and a single integer is generated from 0 up to the upper range minus 1 so `np.random.randint(10)` would result in a single integer that could be any integer from 0 up to 9. \n",
    "\n",
    "When a second value is supplied to the function, the first valuer is treated as the low range parameter and the second is treated as the high range parameter so `np.random.randint(5,10)` would output a single integer between 5 inclusive and 9.\n",
    "\n",
    "The first two arguments relate to the range of values that could be drawn where low is the lowest integer to draw from the distribution, high is the integer after the last possible integer that could be drawn. The next numeric parameter is for the size of the resulting array. This can be a single integer or a tuple of integers for higher dimensions. This will determine the shape and size of the output. If the given shape is, e.g., (m, n, k), then m * n * k samples are drawn.\n",
    "\n",
    "If an argument is provides for the size, then a  size-shaped array of random integers from the appropriate distribution will be returned.\n",
    "\n",
    "\n",
    "The last possible argument is an optional `dtype` parameter which determines the dtype of the integers in the resulting array. This is not always required as the default value is `np.int` \n",
    "\n",
    "The `numpy.random.random_integers` function is similar to `numpy.random.randint` but the `numpy.random.random_integers` function is now deprecated. `numpy.random.random_integers` had a closed interval [low, high] with 1 being the lowest value if high is omitted and was used to generate uniformly distributed discrete non-integers.\n",
    "\n",
    "\n",
    "\n",
    "### compared to random.randint() function in base python\n",
    "\n",
    "random integer values can be generated using the `randint()` function of the random package. \n",
    "`random.randint(a, b)` returns a random integer N such that a <= N <= b.\n",
    "`random.randint` takes two arguments, a and b where a is the start of the range and b is the end of the range for the values that are generated. The values are generated from a uniform distribution.\n"
   ]
  },
  {
   "cell_type": "markdown",
   "metadata": {},
   "source": []
  },
  {
   "cell_type": "code",
   "execution_count": 52,
   "metadata": {},
   "outputs": [
    {
     "name": "stdout",
     "output_type": "stream",
     "text": [
      "This array is a 2 dimensional array, with a(2, 2) shape and the array has a total number of 4  elements\n"
     ]
    },
    {
     "data": {
      "text/plain": [
       "array([[8, 0],\n",
       "       [6, 2]])"
      ]
     },
     "execution_count": 52,
     "metadata": {},
     "output_type": "execute_result"
    }
   ],
   "source": [
    "x = np.random.randint(10, size=(2,2))\n",
    "arrayinfo(x)"
   ]
  },
  {
   "cell_type": "code",
   "execution_count": 48,
   "metadata": {},
   "outputs": [
    {
     "name": "stdout",
     "output_type": "stream",
     "text": [
      "This array is a 1 dimensional array, with a(3,) shape and the array has a total number of 3  elements\n"
     ]
    },
    {
     "data": {
      "text/plain": [
       "array([8, 9, 6])"
      ]
     },
     "execution_count": 48,
     "metadata": {},
     "output_type": "execute_result"
    }
   ],
   "source": [
    "x = np.random.randint(5,10,3)\n",
    "arrayinfo(x)"
   ]
  },
  {
   "cell_type": "code",
   "execution_count": 49,
   "metadata": {},
   "outputs": [
    {
     "name": "stdout",
     "output_type": "stream",
     "text": [
      "This array is a 2 dimensional array, with a(3, 2) shape and the array has a total number of 6  elements\n"
     ]
    },
    {
     "data": {
      "text/plain": [
       "array([[9, 7],\n",
       "       [5, 8],\n",
       "       [6, 7]])"
      ]
     },
     "execution_count": 49,
     "metadata": {},
     "output_type": "execute_result"
    }
   ],
   "source": [
    "x = np.random.randint(5,10,(3,2))\n",
    "arrayinfo(x)"
   ]
  },
  {
   "cell_type": "code",
   "execution_count": 50,
   "metadata": {},
   "outputs": [
    {
     "name": "stdout",
     "output_type": "stream",
     "text": [
      "This array is a 2 dimensional array, with a(2, 3) shape and the array has a total number of 6  elements\n"
     ]
    },
    {
     "data": {
      "text/plain": [
       "array([[5, 8, 5],\n",
       "       [5, 9, 7]])"
      ]
     },
     "execution_count": 50,
     "metadata": {},
     "output_type": "execute_result"
    }
   ],
   "source": [
    "x = np.random.randint(5,10,(2,3))\n",
    "arrayinfo(x)"
   ]
  },
  {
   "cell_type": "markdown",
   "metadata": {},
   "source": [
    "If the given shape is, e.g., (m, n, k), then m * n * k samples are drawn. So here there are 2 times 3 times 4 = 24 samples drawn."
   ]
  },
  {
   "cell_type": "code",
   "execution_count": 61,
   "metadata": {},
   "outputs": [
    {
     "name": "stdout",
     "output_type": "stream",
     "text": [
      "This array is a 3 dimensional array, with a(2, 3, 4) shape and the array has a total number of 24  elements\n"
     ]
    },
    {
     "data": {
      "text/plain": [
       "array([[[5, 7, 7, 6],\n",
       "        [9, 7, 7, 7],\n",
       "        [5, 7, 5, 8]],\n",
       "\n",
       "       [[9, 6, 7, 5],\n",
       "        [7, 8, 9, 9],\n",
       "        [5, 9, 8, 5]]])"
      ]
     },
     "execution_count": 61,
     "metadata": {},
     "output_type": "execute_result"
    }
   ],
   "source": [
    "x = np.random.randint(5,10,(2,3,4))\n",
    "arrayinfo(x)"
   ]
  },
  {
   "cell_type": "code",
   "execution_count": 59,
   "metadata": {},
   "outputs": [
    {
     "data": {
      "text/plain": [
       "array([7, 7])"
      ]
     },
     "execution_count": 59,
     "metadata": {},
     "output_type": "execute_result"
    }
   ],
   "source": [
    "np.random.randint(5,10)\n",
    "np.random.randint(5,10,2)\n"
   ]
  },
  {
   "cell_type": "markdown",
   "metadata": {},
   "source": [
    "#### one-dimensional array"
   ]
  },
  {
   "cell_type": "code",
   "execution_count": 62,
   "metadata": {},
   "outputs": [
    {
     "name": "stdout",
     "output_type": "stream",
     "text": [
      "This array is a 1 dimensional array, with a(10,) shape and the array has a total number of 10  elements\n"
     ]
    },
    {
     "data": {
      "text/plain": [
       "array([1, 4, 0, 0, 0, 0, 3, 3, 2, 0])"
      ]
     },
     "execution_count": 62,
     "metadata": {},
     "output_type": "execute_result"
    }
   ],
   "source": [
    "x = np.random.randint(5, size=10)\n",
    "np.random.randint(5,10,2)\n",
    "arrayinfo(x)"
   ]
  },
  {
   "cell_type": "code",
   "execution_count": 63,
   "metadata": {},
   "outputs": [
    {
     "name": "stdout",
     "output_type": "stream",
     "text": [
      "This array is a 1 dimensional array, with a(10,) shape and the array has a total number of 10  elements\n"
     ]
    },
    {
     "data": {
      "text/plain": [
       "array([2, 4, 1, 3, 0, 0, 1, 2, 3, 3])"
      ]
     },
     "execution_count": 63,
     "metadata": {},
     "output_type": "execute_result"
    }
   ],
   "source": [
    "x = np.random.randint(5, size=10)\n",
    "arrayinfo(x)"
   ]
  },
  {
   "cell_type": "markdown",
   "metadata": {},
   "source": [
    "#### a two-dimensional array of random integers"
   ]
  },
  {
   "cell_type": "code",
   "execution_count": 64,
   "metadata": {},
   "outputs": [
    {
     "name": "stdout",
     "output_type": "stream",
     "text": [
      "This array is a 2 dimensional array, with a(2, 4) shape and the array has a total number of 8  elements\n"
     ]
    },
    {
     "data": {
      "text/plain": [
       "array([[1, 3, 1, 0],\n",
       "       [4, 0, 2, 3]])"
      ]
     },
     "execution_count": 64,
     "metadata": {},
     "output_type": "execute_result"
    }
   ],
   "source": [
    "x = np.random.randint(5, size=(2, 4)) # Generate a 2 x 4 array of integers between 0 and 4, inclusive:\n",
    "arrayinfo(x)"
   ]
  },
  {
   "cell_type": "code",
   "execution_count": 65,
   "metadata": {},
   "outputs": [
    {
     "name": "stdout",
     "output_type": "stream",
     "text": [
      "This array is a 3 dimensional array, with a(2, 3, 4) shape and the array has a total number of 24  elements\n"
     ]
    },
    {
     "data": {
      "text/plain": [
       "array([[[1, 4, 1, 4],\n",
       "        [1, 0, 0, 1],\n",
       "        [0, 4, 2, 0]],\n",
       "\n",
       "       [[3, 0, 1, 3],\n",
       "        [4, 0, 4, 0],\n",
       "        [2, 1, 2, 4]]])"
      ]
     },
     "execution_count": 65,
     "metadata": {},
     "output_type": "execute_result"
    }
   ],
   "source": [
    "x = np.random.randint(5, size=(2, 3, 4)) # Generate a 3 dimensional array of integers\n",
    "arrayinfo(x)"
   ]
  },
  {
   "cell_type": "code",
   "execution_count": 66,
   "metadata": {},
   "outputs": [
    {
     "name": "stdout",
     "output_type": "stream",
     "text": [
      "This array is a 4 dimensional array, with a(2, 3, 4, 5) shape and the array has a total number of 120  elements\n"
     ]
    },
    {
     "data": {
      "text/plain": [
       "array([[[[0, 4, 2, 3, 3],\n",
       "         [2, 4, 1, 2, 1],\n",
       "         [2, 2, 1, 3, 4],\n",
       "         [1, 2, 3, 3, 2]],\n",
       "\n",
       "        [[0, 4, 2, 2, 0],\n",
       "         [0, 3, 0, 3, 4],\n",
       "         [1, 1, 2, 4, 4],\n",
       "         [1, 0, 4, 1, 3]],\n",
       "\n",
       "        [[1, 3, 0, 1, 1],\n",
       "         [3, 4, 0, 4, 1],\n",
       "         [4, 2, 4, 4, 4],\n",
       "         [4, 1, 3, 4, 3]]],\n",
       "\n",
       "\n",
       "       [[[4, 3, 4, 1, 2],\n",
       "         [4, 1, 1, 2, 4],\n",
       "         [4, 1, 4, 1, 1],\n",
       "         [0, 1, 2, 1, 1]],\n",
       "\n",
       "        [[1, 1, 4, 0, 0],\n",
       "         [4, 2, 0, 4, 0],\n",
       "         [4, 2, 1, 0, 0],\n",
       "         [4, 2, 0, 2, 0]],\n",
       "\n",
       "        [[0, 2, 3, 2, 3],\n",
       "         [1, 4, 1, 3, 2],\n",
       "         [3, 2, 2, 0, 1],\n",
       "         [2, 3, 2, 0, 3]]]])"
      ]
     },
     "execution_count": 66,
     "metadata": {},
     "output_type": "execute_result"
    }
   ],
   "source": [
    "x = np.random.randint(5, size=(2, 3, 4,5)) # Generate a 4 dimensional array of integers\n",
    "arrayinfo(x)"
   ]
  },
  {
   "cell_type": "code",
   "execution_count": null,
   "metadata": {},
   "outputs": [],
   "source": [
    "#np.random.random_integers(5)\n",
    "np.random.randint(1, 5 + 1)\n",
    "# DeprecationWarning: This function is deprecated. Please call randint(1, 5 + 1) instead"
   ]
  },
  {
   "cell_type": "markdown",
   "metadata": {},
   "source": [
    "`random_integers` was similar to randint, only for the closed interval [low, high], and 1 is the lowest value if high is omitted. In particular, this other one is the one to use to generate uniformly distributed discrete non-integers.\n",
    "This has now been deprecated. come back to this"
   ]
  },
  {
   "cell_type": "markdown",
   "metadata": {},
   "source": [
    "#### compared to python's random.randint\n",
    "\n",
    "Here I will write a loop to generate a sequence of random integers using the base python `random.randint` function.\n"
   ]
  },
  {
   "cell_type": "code",
   "execution_count": 75,
   "metadata": {},
   "outputs": [
    {
     "name": "stdout",
     "output_type": "stream",
     "text": [
      "[10, 10, 10, 4, 6, 0, 7, 8, 1, 4]\n",
      "10, 10, 10, 4, 6, 0, 7, 8, 1, 4\n"
     ]
    }
   ],
   "source": [
    "import random  # import random module\n",
    "myseq =[]  # create a list to hold the sequence of random numbers\n",
    "for i in range(10):  ## use a loop to generate a sequence of random numbers\n",
    "    random_integer = random.randint(0,10) # lower bound a is 0, upper bound b is 10\n",
    "    myseq.append(random_integer) # append the new element of the sequence to the list\n",
    "print(myseq) # return the lis    \n",
    "print(*myseq, sep = \", \") # return the list without the brackets. "
   ]
  },
  {
   "cell_type": "code",
   "execution_count": 78,
   "metadata": {},
   "outputs": [
    {
     "data": {
      "text/plain": [
       "array([2, 6, 1, 6, 6, 5, 2, 6, 8, 9])"
      ]
     },
     "execution_count": 78,
     "metadata": {},
     "output_type": "execute_result"
    }
   ],
   "source": [
    "np.random.randint(10,size =10)"
   ]
  },
  {
   "cell_type": "markdown",
   "metadata": {},
   "source": [
    "## Random Floats from the Standard Normal Distribution\n",
    "\n",
    "### 1. The **`numpy.random.randn()`** function \n",
    "\n",
    "\n",
    "Note that `numpy.random.randn()` is related to `numpy.random.standard_normal` which is used to draw\n",
    "samples from a standard Normal distribution (mean=0, stdev=1). `numpy.random.randn()` is actually a comvenience function for `numpy.random.standard_normal`. It returns a single float or an ndarray of floats.\n",
    "\n",
    "`numpy.random.randn() ` is used to generate random value(s) from the standard normal distribution which has a mean of 0 and a standard deviation of 1. The standard normal distribution is also known as the Gaussian distribution. The number of values to generate can be specified using the size argument.\n",
    "Without an argumement this function will just return a single value (a float) randomly sampled from the distribution, otherwise it returns an ndarray.\n",
    "\n",
    "`numpy.random.standard_normal`  takes an optional size parameter which can be an integer or a tuple of integers. Otherwise a single value is returned. If a tuple of integers is provided then this determines the shape of the resulting array and the number of elements in the array. \n",
    "\n",
    "(Output shape. If the given shape is, e.g., (m, n, k), then m * n * k samples are drawn.)\n",
    "\n",
    "You can get random samples from N(\\mu, \\sigma^2) by scaling the values. This is done by multiplying the values by sigma (the standard deviation) and adding mu (the mean). \n",
    "\n",
    "sigma * np.random.randn(...) + mu.\n",
    "\n",
    "I will go into this more in the section about probability distributions.\n",
    "\n",
    "\n",
    ">`numpy.random.randn(d0, d1, ..., dn)`Return a sample (or samples) from the “standard normal” distribution.\n",
    "\n",
    ">This is a convenience function. If you want an interface that takes a tuple as the first argument, use numpy.random.standard_normal instead."
   ]
  },
  {
   "cell_type": "code",
   "execution_count": 54,
   "metadata": {},
   "outputs": [
    {
     "data": {
      "text/plain": [
       "array([[-0.42581824,  0.4928789 ],\n",
       "       [ 2.28155446, -0.18404173],\n",
       "       [ 0.91764186, -0.18503435]])"
      ]
     },
     "execution_count": 54,
     "metadata": {},
     "output_type": "execute_result"
    }
   ],
   "source": [
    "np.random.randn(3,2) # a 3 by 2 array of samples from standard normal distribution. This will have 3 times 2 values\n"
   ]
  },
  {
   "cell_type": "code",
   "execution_count": 55,
   "metadata": {},
   "outputs": [
    {
     "data": {
      "text/plain": [
       "array([-2.32571601, -0.71293096, -2.49035672,  1.80585397,  0.20612387,\n",
       "        0.45605197, -0.65388115, -0.26227305, -1.46986949,  0.958866  ])"
      ]
     },
     "execution_count": 55,
     "metadata": {},
     "output_type": "execute_result"
    }
   ],
   "source": [
    "np.random.randn(10)"
   ]
  },
  {
   "cell_type": "code",
   "execution_count": 41,
   "metadata": {},
   "outputs": [
    {
     "data": {
      "text/plain": [
       "array([[-1.43972659, -0.61564233, -2.09326111, -0.00470719, -1.10710898],\n",
       "       [ 1.061345  ,  0.73698631, -1.4581463 , -0.02966777,  0.4532393 ],\n",
       "       [-0.22628179,  1.63541557, -2.53923578,  0.87108849,  0.01963862],\n",
       "       [ 0.58328984,  0.73178387, -0.78628754,  0.06212357,  1.47749679],\n",
       "       [ 0.37222907,  0.01999515, -0.52280077, -0.41448494,  1.61172691],\n",
       "       [ 0.27221368, -0.05197785,  0.26566896, -0.05468956,  0.00983397],\n",
       "       [ 2.24690494, -1.5281469 , -0.10510657,  0.96338955, -0.66862216],\n",
       "       [ 0.38365624, -0.07711397,  0.93746004, -1.40810263, -0.93140786],\n",
       "       [-0.83707675,  0.27553227, -0.64490343, -0.6980533 , -0.87837438],\n",
       "       [ 0.2784066 , -0.17640015,  0.68616516, -0.39820752, -1.53094682]])"
      ]
     },
     "execution_count": 41,
     "metadata": {},
     "output_type": "execute_result"
    }
   ],
   "source": [
    "np.random.randn(10,5) # a 10 by 5 array with 50 values"
   ]
  },
  {
   "cell_type": "markdown",
   "metadata": {},
   "source": [
    "scaling using the example in the documentation"
   ]
  },
  {
   "cell_type": "code",
   "execution_count": 42,
   "metadata": {},
   "outputs": [
    {
     "data": {
      "text/plain": [
       "array([[ 4.19046718,  4.34493671,  3.97006193,  2.27570751],\n",
       "       [-0.31329962,  4.01429506,  0.56168245,  5.01453173]])"
      ]
     },
     "execution_count": 42,
     "metadata": {},
     "output_type": "execute_result"
    }
   ],
   "source": [
    "# Two-by-four array of samples from N(3, 6.25):\n",
    "\n",
    "2.5 * np.random.randn(2, 4) + 3"
   ]
  },
  {
   "cell_type": "code",
   "execution_count": 60,
   "metadata": {},
   "outputs": [
    {
     "data": {
      "text/plain": [
       "0.5988220148830072"
      ]
     },
     "execution_count": 60,
     "metadata": {},
     "output_type": "execute_result"
    }
   ],
   "source": [
    "numpy.random.standard_normal()  ## "
   ]
  },
  {
   "cell_type": "code",
   "execution_count": 63,
   "metadata": {},
   "outputs": [
    {
     "data": {
      "text/plain": [
       "array([-0.46899834, -0.60940553, -0.81954069])"
      ]
     },
     "execution_count": 63,
     "metadata": {},
     "output_type": "execute_result"
    }
   ],
   "source": [
    "numpy.random.standard_normal(3)"
   ]
  },
  {
   "cell_type": "markdown",
   "metadata": {},
   "source": [
    "Unlike` numpy.random.randn()`, to get an array of random values rather than a single value, you need to provide a tuple."
   ]
  },
  {
   "cell_type": "code",
   "execution_count": 62,
   "metadata": {},
   "outputs": [
    {
     "data": {
      "text/plain": [
       "array([[ 0.66237704, -0.44382528],\n",
       "       [-1.92069248, -0.88499774],\n",
       "       [-0.72361722,  1.5237781 ]])"
      ]
     },
     "execution_count": 62,
     "metadata": {},
     "output_type": "execute_result"
    }
   ],
   "source": [
    "numpy.random.standard_normal((3,2))"
   ]
  },
  {
   "cell_type": "code",
   "execution_count": null,
   "metadata": {},
   "outputs": [],
   "source": []
  },
  {
   "cell_type": "markdown",
   "metadata": {},
   "source": [
    "The python `random` package has a `gauss()` function which is used to sample random floats from a gaussian distribution. Unlike the `numpy.random.randn()` or `numpy.numpy.random.standard_normal` you do need to supply the parameters here for the mean and the standard deviation of the distribution from which the random values will be drawn. "
   ]
  },
  {
   "cell_type": "code",
   "execution_count": 65,
   "metadata": {},
   "outputs": [
    {
     "data": {
      "text/plain": [
       "-3.658452309980186"
      ]
     },
     "execution_count": 65,
     "metadata": {},
     "output_type": "execute_result"
    }
   ],
   "source": [
    "random.gauss(1,3)"
   ]
  },
  {
   "cell_type": "code",
   "execution_count": 46,
   "metadata": {},
   "outputs": [
    {
     "data": {
      "text/plain": [
       "0.058624616864876675"
      ]
     },
     "execution_count": 46,
     "metadata": {},
     "output_type": "execute_result"
    }
   ],
   "source": [
    "random.gauss(0,1)"
   ]
  },
  {
   "cell_type": "code",
   "execution_count": 47,
   "metadata": {},
   "outputs": [
    {
     "data": {
      "text/plain": [
       "0.4721346411463686"
      ]
     },
     "execution_count": 47,
     "metadata": {},
     "output_type": "execute_result"
    }
   ],
   "source": [
    "np.random.randn()"
   ]
  },
  {
   "cell_type": "code",
   "execution_count": 84,
   "metadata": {},
   "outputs": [
    {
     "name": "stdout",
     "output_type": "stream",
     "text": [
      "0.5451899993183175,0.43588395881615694,0.1724857518951512,-0.7511817482838566,-0.7673739551029457,-0.09549381180799632,1.3006993929136494,-1.0569445484594528,1.0983610483449673,-0.11829390553685683\n"
     ]
    }
   ],
   "source": [
    "\n",
    "import random\n",
    "myseq =[]\n",
    "for i in range(10):  ## use a loop to generate a sequence of random numbers\n",
    "    random_gauss = random.gauss(0,1) # mean is 0, standard deviation is 10\n",
    "    myseq.append(random_gauss)\n",
    "print(*myseq, sep = \",\")"
   ]
  },
  {
   "cell_type": "markdown",
   "metadata": {},
   "source": [
    "## The `numpy.random.random_sample()` function and other similar functions:\n",
    "- `numpy.random.random()`  \n",
    "- `numpy.random.ranf()` and \n",
    "- `numpy.random.sample()`\n",
    "\n",
    "\n",
    "The `numpy.random.random_sample()`  function will return random floats in the half-open interval `[0.0, 1.0).` The results are from the “continuous uniform” distribution over the stated interval. \n",
    "\n",
    "You can specify a different half-open interval `[a,b)` where b > a, by multiplying the output of `random_sample` by (b-a) and adding a to the result\n",
    "\n",
    "\n",
    "This function takes an optional size parameter which can be an integer or a tuple of integers. This will determine the shape of the output. If no parameter is provided, the default is None and this results in a single value.\n",
    "\n",
    "The other three functions mentioned above seem to have similar inputs and outputs, so what is the difference??\n",
    "\n",
    "I will also look at the other three functions that seem to have similar output according to the documentation. The examples with each of these functions in the documentation actually all refer to the `np.random.random_sample()`!. I will look into this. Maybe some of these functions have been deprecated like the `random.random_integers` function although they are not generating such as error message.\n",
    "\n",
    "- `np.random.random_sample([size])` returns random floats in the half-open interval `[0.0, 1.0)`  \n",
    "- `np.random.random([size])` also returns random floats in the half-open interval` [0.0, 1.0)`.\n",
    "- `np.random.ranf([size])` again returns random floats in the half-open interval `[0.0, 1.0)`.\n",
    "- `np.random.sample([size])` returns random floats in the half-open interval `[0.0, 1.0)`.\n",
    "\n",
    "paraphrasing from the docs:\n",
    "`np.random.random_sample` takes an optional size parameter which can be an integer or a tuple of integers. The default size = None. Without passing a size parameter you will just get a single value, otherwise an array of floats of the shape size passed to the function. \n",
    "(If the given shape is, e.g., (m, n, k), then m * n * k samples are drawn). \n",
    "\n",
    "`np.random()` takes an optional size parameter which again can be a integer or a tuple of integers and returns an array of random floats of shape size. Without passing a size parameter, the default is again None and a single float is returned.\n",
    "Array of random floats of shape size (unless size=None, in which case a single float is returned).\n",
    "\n",
    "`np.random.ranf` and `np.random.sample` also seems to have the same behaviours, taking an optional size parameter which can be an integer or a tuple of integers\n"
   ]
  },
  {
   "cell_type": "code",
   "execution_count": null,
   "metadata": {},
   "outputs": [],
   "source": [
    "import numpy as np\n",
    "import numpy.random\n",
    "\n",
    "np.random.random_sample()# returns a single value in the half-open interval `[0.0,1.0)`\n",
    "np.random.random()\n",
    "np.random.ranf()\n",
    "np.random.sample()\n"
   ]
  },
  {
   "cell_type": "code",
   "execution_count": null,
   "metadata": {},
   "outputs": [],
   "source": [
    "type(np.random.random_sample())\n",
    "type(np.random.random())\n",
    "type(np.random.ranf())\n",
    "type(np.random.sample())"
   ]
  },
  {
   "cell_type": "code",
   "execution_count": null,
   "metadata": {},
   "outputs": [],
   "source": [
    "np.random.random_sample((5,)) # returns 5 values in the half open interval `[0.0,1.0]`\n",
    "np.random.random((5,))\n",
    "np.random.ranf((5,))\n",
    "np.random.sample((5,))"
   ]
  },
  {
   "cell_type": "code",
   "execution_count": null,
   "metadata": {},
   "outputs": [],
   "source": [
    "np.random.random_sample((5,2)) # returns a 5-by-2 array in the half open interval `[0.0,1.0]`\n",
    "np.random.random((5,2))\n",
    "np.random.ranf((5,2))\n",
    "np.random.sample((5,2))"
   ]
  },
  {
   "cell_type": "code",
   "execution_count": null,
   "metadata": {},
   "outputs": [],
   "source": [
    "4 * np.random.random_sample((3, 2)) - 4 # returns a 3-by-2 array of random numbers from [-4, 0). \n",
    "4 * np.random.random((3, 2)) - 4 # returns a 3-by-2 array of random numbers from [-4, 0). \n",
    "4 * np.random.ranf((3, 2)) - 4 # returns a 3-by-2 array of random numbers from [-4, 0). \n",
    "4 * np.random.sample((3, 2)) - 4 # returns a 3-by-2 array of random numbers from [-4, 0).\n"
   ]
  },
  {
   "cell_type": "code",
   "execution_count": null,
   "metadata": {},
   "outputs": [],
   "source": [
    "np.random.sample(2) # returns 2 values in the half open interval `[0.0,1.0]`"
   ]
  },
  {
   "cell_type": "markdown",
   "metadata": {},
   "source": [
    "## the numpy random.random function.\n",
    "This function returns random floats in the half-open interval `[0.0, 1.0)`. The results are from the “continuous uniform” distribution over the stated interval. This seems to be similar to the `numpy.random_sample()` function above so what is the difference?\n",
    "\n"
   ]
  },
  {
   "cell_type": "code",
   "execution_count": null,
   "metadata": {},
   "outputs": [],
   "source": []
  },
  {
   "cell_type": "markdown",
   "metadata": {},
   "source": [
    "## numpy.random.choice\n",
    "`numpy.random.choice(a, size=None, replace=True, p=None)`\n",
    "\n",
    "The `numpy.random.choice` function generates a random sample from the elements of a one-dimensional array. You can  provide the one-dimensional array as an argument or else an integer to create an array using the np.arange function. The sample returned may be a single value or an ndarray of values if you specified the size to the function. You can also specify if the sample should be drawn with or without replacement but it will default to replacement being true. You can also provide the probabilities associated with each of the elements of the input array, otherwise it will assume a uniform distribution over all the elements in the input array. \n",
    "\n",
    "The `numpy.random.choice` function can also be used on an array of elements other than integers. This is similar to the `choice` function in the python random module which randomly chooses items from a provided list.\n",
    "\n",
    "\n"
   ]
  },
  {
   "cell_type": "code",
   "execution_count": 72,
   "metadata": {},
   "outputs": [
    {
     "name": "stdout",
     "output_type": "stream",
     "text": [
      "This array \n",
      "[0 2 3] is a 1 dimensional array, each dimension is of (3,) shape and the array has a total number of 3  elements\n"
     ]
    }
   ],
   "source": [
    "array1 = np.random.randint(0,5,3)\n",
    "\n",
    "print(f\"This array \\n{array1} is a {array1.ndim} dimensional array, each dimension is of {array1.shape} shape and the array has a total number of {array1.size}  elements\")"
   ]
  },
  {
   "cell_type": "code",
   "execution_count": 75,
   "metadata": {},
   "outputs": [
    {
     "name": "stdout",
     "output_type": "stream",
     "text": [
      "This array \n",
      "[4 3 0] is a 1 dimensional array, each dimension is of (3,) shape and the array has a total number of 3  elements\n"
     ]
    }
   ],
   "source": [
    "array1 = np.random.choice(5, 3)\n",
    "\n",
    "print(f\"This array \\n{array1} is a {array1.ndim} dimensional array, each dimension is of {array1.shape} shape and the array has a total number of {array1.size}  elements\")"
   ]
  },
  {
   "cell_type": "code",
   "execution_count": 77,
   "metadata": {},
   "outputs": [
    {
     "data": {
      "text/plain": [
       "6"
      ]
     },
     "execution_count": 77,
     "metadata": {},
     "output_type": "execute_result"
    }
   ],
   "source": [
    "np.random.choice(10)"
   ]
  },
  {
   "cell_type": "markdown",
   "metadata": {},
   "source": [
    "`np.random.choice()` will result in a Type error as the function requires at least 1 positional argument."
   ]
  },
  {
   "cell_type": "markdown",
   "metadata": {},
   "source": [
    "You can supply more parameters to the function. \n",
    "By providing the `p` probabilites, a non-uniform random sample is generated. \n",
    "By providing a size parameter, more than one value is sampled.\n",
    "The number of probabilities should equal the size parameter and the probabilities must sum to 1.0, otherwise an error results.\n",
    "You can specify than the random sample is without replacement so that the same element cannot be chosen again."
   ]
  },
  {
   "cell_type": "code",
   "execution_count": 86,
   "metadata": {},
   "outputs": [
    {
     "data": {
      "text/plain": [
       "array([4, 4, 2, 4])"
      ]
     },
     "execution_count": 86,
     "metadata": {},
     "output_type": "execute_result"
    }
   ],
   "source": [
    "np.random.choice(5, 4, p=[0.2, 0.1, 0.3, 0.1, 0.3])"
   ]
  },
  {
   "cell_type": "code",
   "execution_count": 95,
   "metadata": {},
   "outputs": [
    {
     "data": {
      "text/plain": [
       "array(['a', 'b', 'b', 'd', 'c'], dtype='<U1')"
      ]
     },
     "execution_count": 95,
     "metadata": {},
     "output_type": "execute_result"
    }
   ],
   "source": [
    " np.random.choice(['a','b','c','d','e','f'], 5, p=[0.2, 0.15, 0.15, 0.3, 0.1, 0.1])"
   ]
  },
  {
   "cell_type": "code",
   "execution_count": 93,
   "metadata": {},
   "outputs": [
    {
     "data": {
      "text/plain": [
       "array(['e', 'a', 'd', 'f', 'c'], dtype='<U1')"
      ]
     },
     "execution_count": 93,
     "metadata": {},
     "output_type": "execute_result"
    }
   ],
   "source": [
    "np.random.choice(['a','b','c','d','e','f'], 5, p=[0.2, 0.15, 0.15, 0.3, 0.1, 0.1], replace = False)"
   ]
  },
  {
   "cell_type": "markdown",
   "metadata": {},
   "source": [
    "The python `random` module also has a `choice()` function which is used to randomly select items from a list.\n",
    "[random.choice](https://docs.python.org/3/library/random.html#functions-for-sequences) returns a random element from a sequence. "
   ]
  },
  {
   "cell_type": "code",
   "execution_count": 81,
   "metadata": {},
   "outputs": [
    {
     "data": {
      "text/plain": [
       "'win'"
      ]
     },
     "execution_count": 81,
     "metadata": {},
     "output_type": "execute_result"
    }
   ],
   "source": [
    "random.choice(['win', 'lose', 'draw']) "
   ]
  },
  {
   "cell_type": "code",
   "execution_count": 83,
   "metadata": {},
   "outputs": [
    {
     "data": {
      "text/plain": [
       "'win'"
      ]
     },
     "execution_count": 83,
     "metadata": {},
     "output_type": "execute_result"
    }
   ],
   "source": [
    "numpy.random.choice(['win', 'lose', 'draw']) "
   ]
  },
  {
   "cell_type": "code",
   "execution_count": 100,
   "metadata": {},
   "outputs": [
    {
     "data": {
      "text/plain": [
       "array([3, 2, 0])"
      ]
     },
     "execution_count": 100,
     "metadata": {},
     "output_type": "execute_result"
    }
   ],
   "source": []
  },
  {
   "cell_type": "markdown",
   "metadata": {},
   "source": [
    "<a id='task2.2'></a>\n",
    "## 2.1 Permutations functions\n",
    "\n",
    "[Back to top](#toc)\n",
    "\n",
    "Explain the use of the “Permutations” functions. \n",
    "\n",
    "There are two permutations functions in the numpy random sampling package. (numpy.random)\n",
    "\n",
    "- shuffle(x) to Modify a sequence in-place by shuffling its contents.\n",
    "- permutation(x) to Randomly permute a sequence, or return a permuted range.\n",
    "\n",
    "The numpy`shuffle` function shuffles a sequence in place so that the sequence provided to it is actually shuffled and not just a copy of the sequence."
   ]
  },
  {
   "cell_type": "markdown",
   "metadata": {},
   "source": [
    "### numpy.random.shuffle\n",
    "`numpy.random.shuffle(x)` is used to modify a sequence in-place by shuffling its contents.\n",
    "\n",
    "This function is used to shuffle an numpy array in-place. The contents of the numpy array is shuffled so that the contents are still the same but in a different order.\n",
    "\n",
    ">This function only shuffles the array along the first axis of a multi-dimensional array. The order of sub-arrays is changed but their contents remains the same.\n"
   ]
  },
  {
   "cell_type": "code",
   "execution_count": 2,
   "metadata": {},
   "outputs": [],
   "source": [
    "import numpy as np"
   ]
  },
  {
   "cell_type": "code",
   "execution_count": 14,
   "metadata": {},
   "outputs": [
    {
     "data": {
      "text/plain": [
       "array([ 0,  1,  2,  3,  4,  5,  6,  7,  8,  9, 10, 11, 12, 13, 14, 15, 16,\n",
       "       17, 18, 19])"
      ]
     },
     "execution_count": 14,
     "metadata": {},
     "output_type": "execute_result"
    },
    {
     "data": {
      "text/plain": [
       "array([12, 19, 13, 14,  5, 17,  4, 16,  7,  2,  6, 15,  0,  3,  8, 18, 10,\n",
       "        9, 11,  1])"
      ]
     },
     "execution_count": 14,
     "metadata": {},
     "output_type": "execute_result"
    }
   ],
   "source": [
    "arr = np.arange(20)  # the original array\n",
    "arr\n",
    "np.random.shuffle(arr) ## the shuffled array\n",
    "arr\n"
   ]
  },
  {
   "cell_type": "markdown",
   "metadata": {},
   "source": [
    ">This function only shuffles the array along the first axis of a multi-dimensional array. The order of sub-arrays is changed but their contents remains the same."
   ]
  },
  {
   "cell_type": "code",
   "execution_count": 22,
   "metadata": {},
   "outputs": [
    {
     "data": {
      "text/plain": [
       "array([[ 0,  1,  2,  3],\n",
       "       [ 4,  5,  6,  7],\n",
       "       [ 8,  9, 10, 11]])"
      ]
     },
     "execution_count": 22,
     "metadata": {},
     "output_type": "execute_result"
    },
    {
     "data": {
      "text/plain": [
       "2"
      ]
     },
     "execution_count": 22,
     "metadata": {},
     "output_type": "execute_result"
    },
    {
     "data": {
      "text/plain": [
       "(3, 4)"
      ]
     },
     "execution_count": 22,
     "metadata": {},
     "output_type": "execute_result"
    },
    {
     "data": {
      "text/plain": [
       "array([[ 8,  9, 10, 11],\n",
       "       [ 4,  5,  6,  7],\n",
       "       [ 0,  1,  2,  3]])"
      ]
     },
     "execution_count": 22,
     "metadata": {},
     "output_type": "execute_result"
    }
   ],
   "source": [
    "arr = np.arange(12).reshape((3, 4))  ## create a 3 by 4 two-dimensional array\n",
    "arr\n",
    "arr.ndim\n",
    "arr.shape\n",
    "np.random.shuffle(arr)\n",
    "arr"
   ]
  },
  {
   "cell_type": "code",
   "execution_count": null,
   "metadata": {},
   "outputs": [],
   "source": []
  },
  {
   "cell_type": "markdown",
   "metadata": {},
   "source": [
    "### numpy.random.permutation\n",
    "\n",
    "\n",
    "Randomly permute a sequence, or return a permuted range.\n",
    "\n",
    "If x is a multi-dimensional array, it is only shuffled along its first index.\n",
    "\n",
    "Parameters:\t\n",
    "x : int or array_like\n",
    "If x is an integer, randomly permute np.arange(x). If x is an array, make a copy and shuffle the elements randomly.\n",
    "Returns:\t\n",
    "out : ndarray\n",
    "\n",
    "\n"
   ]
  },
  {
   "cell_type": "code",
   "execution_count": null,
   "metadata": {},
   "outputs": [],
   "source": [
    "np.random.permutation(10)\n"
   ]
  },
  {
   "cell_type": "code",
   "execution_count": null,
   "metadata": {},
   "outputs": [],
   "source": [
    "np.random.permutation([1, 4, 9, 12, 15])"
   ]
  },
  {
   "cell_type": "code",
   "execution_count": null,
   "metadata": {},
   "outputs": [],
   "source": [
    "arr = np.arange(9).reshape((3, 3))\n",
    "np.random.permutation(arr)\n"
   ]
  },
  {
   "cell_type": "markdown",
   "metadata": {},
   "source": [
    "The python `random` package also has a function for shuffling a list of items in place.\n",
    "`random.shuffle`."
   ]
  },
  {
   "cell_type": "markdown",
   "metadata": {},
   "source": [
    "[Back to top](#toc)"
   ]
  },
  {
   "cell_type": "code",
   "execution_count": null,
   "metadata": {},
   "outputs": [],
   "source": []
  },
  {
   "cell_type": "code",
   "execution_count": null,
   "metadata": {},
   "outputs": [],
   "source": []
  },
  {
   "cell_type": "markdown",
   "metadata": {},
   "source": [
    "<a id='task3'></a>\n",
    "# 3. Explain the use and purpose of at least five “Distributions” functions.\n",
    "\n",
    "[Back to top](#toc)  \n",
    "\n",
    "(Show how random numbers can be drawn from different probability distributions. use some plots and statistics here to show the differences between the types of random numbers that would be generated from the different probability distributions.)\n",
    "\n",
    "All these functions just generate different random numbers according to different probabilities over different intervals.\n",
    "Pick a handful and show the differences between them. Need to have a programming knowledge of them."
   ]
  },
  {
   "cell_type": "markdown",
   "metadata": {},
   "source": [
    "What are Distributions. "
   ]
  },
  {
   "cell_type": "markdown",
   "metadata": {},
   "source": [
    "<img src=\"/Distributions.png\" width=\"400\" alt=\"NumPy Distributions\" />"
   ]
  },
  {
   "cell_type": "markdown",
   "metadata": {},
   "source": [
    "## Distributions. \n",
    "\n",
    "A probability distribution is a table or an equation that links each possible value that a random variable can assume with its probability of occurrence. [probability distribution definition](https://stattrek.com/probability/probability-distribution.aspx?tutorial=prob)\n",
    "\n",
    "Here I am just going through some  of my old notes from a statistics college course to refresh myself!\n",
    "Firstly what is a random variable.\n",
    "\n",
    "### What is a random variable?\n",
    "A random variable is a variable that assumes numerical values associated with the random outcome of an experiment where one (and only one) numerical value is assigned to each sample point. Random variables are either discrete or continuous.\n",
    "A random variable is discrete if its set of possible values is a collection of isolated points on the number line. It is continuous if its set of possible values is an entire interval on the number line.\n",
    "Discrete random variables almost always come from counting while continuous random variables mostly come from measurement.\n",
    "\n",
    "### What is a probability distribution?\n",
    "A probability distribution is a complete description of a discrete random variable consists of specifying all possible values it can have and the probability associated with each one.\n",
    "The probability distribution of a discrete random variable is displayed as a graph, table or mathematical formula that specifies the probability associated with each possible value the random variable can assume.\n",
    "A probability distribution for a continuous random variable x is specified by a mathematical function f(x) called a probability density function, a frequency function or a probability distribution.\n",
    "\n",
    "\n"
   ]
  },
  {
   "cell_type": "markdown",
   "metadata": {},
   "source": [
    "Here I will select a few that I have some familiarity to start with!\n",
    "\n",
    "## The Normal distribution\n",
    "\n",
    "### numpy.random.normal\n",
    "`numpy.random.normal` is used to draw samples from a normal distribution. A normal distribution is also called a Gaussian distribution. The probability density function of the normal distribution is known as the bell curve because it is shaped like a bell curve. \n",
    "\n",
    "The `numpy.random.normal` function takes three arguments, the first is for the mean of the distribution, the second is the standard deviation of the distribution and the last is the number of values. If you don't provide an argument you will just get back a single value with the mean taken to be 0 and the standard deviation being 1. \n",
    "The mean is often referred to as `mu` and the standard deviation as `sigma`. \n",
    "\n",
    "`numpy.random.randn` shown above is used to generate a sample or samples from the standard normal distribution which is related to the Distribution function `numpy.random.standard_normal`.\n",
    "`numpy.random.standard_normal` is used to draw samples from a standard Normal distribution which is a normal distribution with a mean equal to 0 and standard deviation equal to one.\n",
    "\n",
    ">\n",
    "`numpy.random.normal(loc=0.0, scale=1.0, size=None)` \n",
    "Draw random samples from a normal (Gaussian) distribution.\n",
    "\n",
    ">The probability density function of the normal distribution, first derived by De Moivre and 200 years later by both Gauss and Laplace independently, is often called the bell curve because of its characteristic shape (see the example below).\n",
    "\n",
    ">The normal distributions occurs often in nature. For example, it describes the commonly occurring distribution of samples influenced by a large number of tiny, random disturbances, each with its own unique distribution.\n",
    "\n"
   ]
  },
  {
   "cell_type": "code",
   "execution_count": 87,
   "metadata": {},
   "outputs": [
    {
     "data": {
      "image/png": "[encoded data removed]",
      "text/plain": [
       "<Figure size 432x288 with 1 Axes>"
      ]
     },
     "metadata": {
      "needs_background": "light"
     },
     "output_type": "display_data"
    }
   ],
   "source": [
    "# using the example from the documentation to start with\n",
    "\n",
    "mu, sigma = 0, 0.1 # mean and standard deviation\n",
    "x = np.random.normal(mu, sigma, 10000)\n",
    "#plt.hist(x)\n",
    "\n",
    "\n",
    "sns.distplot(x);  # using seaborn"
   ]
  },
  {
   "cell_type": "code",
   "execution_count": null,
   "metadata": {},
   "outputs": [],
   "source": []
  },
  {
   "cell_type": "markdown",
   "metadata": {},
   "source": [
    "Centred around the mean of 0 and "
   ]
  },
  {
   "cell_type": "code",
   "execution_count": 88,
   "metadata": {},
   "outputs": [
    {
     "data": {
      "image/png": "[encoded data removed]",
      "text/plain": [
       "<Figure size 432x288 with 1 Axes>"
      ]
     },
     "metadata": {
      "needs_background": "light"
     },
     "output_type": "display_data"
    }
   ],
   "source": [
    "# changing some of the parameters and seeing what happens\n",
    "mu, sigma = 10, 1 # mean and standard deviation\n",
    "x = np.random.normal(mu, sigma, 10000)\n",
    "sns.distplot(x);  # using seaborn\n",
    "\n"
   ]
  },
  {
   "cell_type": "markdown",
   "metadata": {},
   "source": [
    "numpy.random.normal()"
   ]
  },
  {
   "cell_type": "code",
   "execution_count": 89,
   "metadata": {},
   "outputs": [
    {
     "data": {
      "image/png": "[encoded data removed]",
      "text/plain": [
       "<Figure size 432x288 with 1 Axes>"
      ]
     },
     "metadata": {
      "needs_background": "light"
     },
     "output_type": "display_data"
    }
   ],
   "source": [
    "# changing some of the parameters again and seeing what happens\n",
    "mu, sigma = 100, 10 # mean and standard deviation\n",
    "x = np.random.normal(mu, sigma, 10000)\n",
    "sns.distplot(x);  # using seaborn\n",
    "\n"
   ]
  },
  {
   "cell_type": "code",
   "execution_count": 24,
   "metadata": {},
   "outputs": [
    {
     "data": {
      "text/plain": [
       "0.3978591755520567"
      ]
     },
     "execution_count": 24,
     "metadata": {},
     "output_type": "execute_result"
    }
   ],
   "source": [
    "import numpy as np\n",
    "\n",
    "np.random.normal()"
   ]
  },
  {
   "cell_type": "code",
   "execution_count": 26,
   "metadata": {},
   "outputs": [
    {
     "data": {
      "text/plain": [
       "-0.6582056438893239"
      ]
     },
     "execution_count": 26,
     "metadata": {},
     "output_type": "execute_result"
    }
   ],
   "source": [
    "np.random.standard_normal()"
   ]
  },
  {
   "cell_type": "markdown",
   "metadata": {},
   "source": [
    "## The Uniform distribution\n",
    "\n",
    "A uniform distribution, sometimes also known as a rectangular distribution, is a distribution that has constant probability.\n",
    "\n",
    "#### numpy.random.uniform function.\n",
    "Note that this is related to the `random.rand` function earlier.\n"
   ]
  },
  {
   "cell_type": "code",
   "execution_count": 90,
   "metadata": {},
   "outputs": [
    {
     "data": {
      "image/png": "[encoded data removed]",
      "text/plain": [
       "<Figure size 432x288 with 1 Axes>"
      ]
     },
     "metadata": {
      "needs_background": "light"
     },
     "output_type": "display_data"
    }
   ],
   "source": [
    "x = np.random.uniform(-1,0,1000) \n",
    "sns.distplot(x);  # using seaborn"
   ]
  },
  {
   "cell_type": "markdown",
   "metadata": {},
   "source": [
    "low is the lower bound of the interval, high is the upper bound of the interval. Note that the lower bound is included but the upper bound of 1 is not included.\n",
    "When you put the bigger number before the smaller number it seems to just take the bigger number as the upper bound and the smaller number as the lower bound. \n",
    "Try and put low before high. \n",
    "\n",
    "rand only gives you random uniform numbers between 0 and 1 whereas this uniform function will give you numbers in any range."
   ]
  },
  {
   "cell_type": "code",
   "execution_count": 14,
   "metadata": {},
   "outputs": [
    {
     "data": {
      "text/plain": [
       "array([9.66691265, 9.58871754, 9.58204105, 9.4034382 , 9.43035907,\n",
       "       9.93291606, 9.59968158, 9.81371179, 9.18397676, 9.65564904])"
      ]
     },
     "execution_count": 14,
     "metadata": {},
     "output_type": "execute_result"
    }
   ],
   "source": [
    "np.random.uniform(10,9,10) \n"
   ]
  },
  {
   "cell_type": "code",
   "execution_count": 91,
   "metadata": {},
   "outputs": [
    {
     "data": {
      "image/png": "[encoded data removed]",
      "text/plain": [
       "<Figure size 432x288 with 1 Axes>"
      ]
     },
     "metadata": {
      "needs_background": "light"
     },
     "output_type": "display_data"
    }
   ],
   "source": [
    "x = np.random.uniform(-100,100,10000) \n",
    "sns.distplot(x);  # using seaborn"
   ]
  },
  {
   "cell_type": "markdown",
   "metadata": {},
   "source": [
    "## The Binomial distribution.\n",
    "\n",
    "\n",
    "### numpy.random.binomial\n",
    "\n",
    "http://mathworld.wolfram.com/BinomialDistribution.html\n",
    "\n",
    "The `numpy.random.binomial` function is used to draw samples from a binomial distribution. \n",
    "\n",
    "\n",
    "One of the most important probability distributions for discrete random variables is the binomial distribution.\n",
    "\n",
    "The [binomial distribution](http://mathworld.wolfram.com/BinomialDistribution.html) gives the discrete probability distribution P_p(n|N) of obtaining exactly n successes out of N Bernoulli trials (where the result of each Bernoulli trial is true with probability p and false with probability q=1-p). \n",
    "\n",
    "\n",
    "\n",
    "\n",
    "\n",
    "\n",
    ">numpy.random.binomial(n, p, size=None)\n",
    "Draw samples from a binomial distribution.\n",
    "\n",
    ">Samples are drawn from a binomial distribution with specified parameters, n trials and p probability of success where n an integer >= 0 and p is in the interval [0,1]. (n may be input as a float, but it is truncated to an integer in use)\n",
    "\n",
    ">Parameters:\t\n",
    "n : int or array_like of ints\n",
    "Parameter of the distribution, >= 0. Floats are also accepted, but they will be truncated to integers.\n",
    "p : float or array_like of floats\n",
    "Parameter of the distribution, >= 0 and <=1.\n",
    "size : int or tuple of ints, optional\n",
    "Output shape. If the given shape is, e.g., (m, n, k), then m * n * k samples are drawn. If size is None (default), a single value is returned if n and p are both scalars. Otherwise, np.broadcast(n, p).size samples are drawn.\n",
    "Returns:\t\n",
    "out : ndarray or scalar\n",
    "Drawn samples from the parameterized binomial distribution, where each sample is equal to the number of successes over the n trials."
   ]
  },
  {
   "cell_type": "code",
   "execution_count": 96,
   "metadata": {},
   "outputs": [
    {
     "data": {
      "image/png": "[encoded data removed]",
      "text/plain": [
       "<Figure size 432x288 with 1 Axes>"
      ]
     },
     "metadata": {
      "needs_background": "light"
     },
     "output_type": "display_data"
    }
   ],
   "source": [
    "n, p = 100, .5  # number of trials, probability of each trial\n",
    "x = np.random.binomial(n, p, 10000)\n",
    "sns.distplot(x);  # using seaborn"
   ]
  },
  {
   "cell_type": "code",
   "execution_count": 19,
   "metadata": {},
   "outputs": [
    {
     "data": {
      "text/plain": [
       "(array([   8.,  112.,  409., 1129., 2025., 2508., 2051., 1186.,  460.,\n",
       "         112.]),\n",
       " array([ 0.,  1.,  2.,  3.,  4.,  5.,  6.,  7.,  8.,  9., 10.]),\n",
       " <a list of 10 Patch objects>)"
      ]
     },
     "execution_count": 19,
     "metadata": {},
     "output_type": "execute_result"
    },
    {
     "data": {
      "image/png": "[encoded data removed]",
      "text/plain": [
       "<Figure size 432x288 with 1 Axes>"
      ]
     },
     "metadata": {
      "needs_background": "light"
     },
     "output_type": "display_data"
    }
   ],
   "source": [
    "n, p = 10, .5  # number of trials, probability of each trial\n",
    "s = np.random.binomial(n, p, 10000)\n",
    "plt.hist(s)"
   ]
  },
  {
   "cell_type": "code",
   "execution_count": null,
   "metadata": {},
   "outputs": [],
   "source": []
  },
  {
   "cell_type": "markdown",
   "metadata": {},
   "source": [
    "<a id='task4'></a>\n",
    "# 4. Explain the use of seeds in generating pseudorandom numbers.\n",
    "[Back to top](#toc)\n",
    "I will show how to use a seed to generate a pseudorandom sequence of numbers that is reproducible.\n",
    "First of all explain what a **seed** is in this context. \n",
    "Show that setting a seed will produce the same sequence of random numbers each time.\n",
    "This means that the functions follow a very particular set of instructions to generate the so-called random numbers which is what **deterministic** means.\n",
    "\n",
    "I havent used seeds yet in looking at the functions above, but I will see if setting the seed will return the same value for functions that return similar output given the parameters. for example with the `numpy.random.normal` function and `numpy.random.standard_normal` when no parameters are passed. \n",
    "\n",
    "See the section https://docs.scipy.org/doc/numpy-1.16.0/reference/routines.random.html#random-generator\n",
    "\n",
    "\n",
    "\n",
    "Random Generator.\n",
    "- `RandomState([seed])`\n",
    "- `seed([seed])`\n",
    "-` get_state()`\n",
    "- `set_state(state)`\n",
    "\n",
    "\n",
    "`getstate` is used to capture the state of random at any time, returns a tuple representing the internal state of the generator. \n",
    "`setstate` sets the internal state of the generator from the tuple and is used if for any reason you want to manually reset the internal state of the \"Mersenne Twister\"\n",
    "\n",
    "The tuple returned from `getstate` can be passed to `setstate` method to duplicate the generation at that moment.\n",
    "\n",
    "\n",
    "### What exactly is a seed?\n",
    "\n",
    "A random **seed** is a number that is used to initialise a pseudorandom number generator. This number does not need to be random. By setting the seed, the original seed is ignored and numbers will be generated in a pseudorandom manner. If you reinitialise a random number generator with the same seed then the same sequence of numbers will be produced. \n",
    "\n",
    "According to [statisticshowto](https://www.statisticshowto.datasciencecentral.com/random-seed-definition/), a random seed specifies the start point when a computer generates a random number. The random seed can be any number but it usually comes from seconds on the computer system's clock which counts in seconds from January 1, 1970.  (known as Unix time). This ensures that the same random sequence won't be repeated unless you actually want it to. \n",
    "\n",
    "\n",
    "Computers generate random numbers in a *deterministic* way - that is by following a set of rules. Randomness can be imitated by specifying a set of rules to follow. The algorithms behind computer number generation are based on patterns which generate numbers that follow a particular probability distribution.\n",
    "\n",
    "https://pynative.com/python-random-seed/\n",
    ">Random number or data generated by Python’s random module is not truly random, it is pseudo-random(it is PRNG), i.e. deterministic. It produces the numbers from some value. This value is nothing but a seed value. i.e. The random module uses the seed value as a base to generate a random number.\n",
    "\n",
    ">Generally, the seed value is the previous number generated by the generator. However, When the first time you use the random generator, there is no previous value. So by-default current system time is used as a seed value.\n",
    "\n"
   ]
  },
  {
   "cell_type": "markdown",
   "metadata": {},
   "source": [
    "#### pseudo random number generator.\n",
    "\n",
    "There are many different ways to generate random numbers which are in fact only pseudorandom numbers as computers do not actually generate random numbers. Both `random` modules implements **pseudorandom** numbers for various distributions. \n",
    "Python uses the **Mersenne Twister** as the core generator. \n",
    "\n",
    "The Mersenne Twister is one of the most extensively tested random number generators in existence. According to [wikipedia](https://en.m.wikipedia.org/wiki/Mersenne_Twister), the Mersenne Twister is  a pseudorandom number generator (PRNG) and is by far the most widely used general-purpose PRNG whose name derives from the fact that its period length is chosen to be a Mersenne prime (a prime number that is one less than a power of two. That is, it is a prime number of the form Mn = 2n − 1 for some integer n.).\n",
    "\n",
    "\n",
    "\n",
    "\n",
    "\n",
    "\n",
    "\n",
    "[Back to top](#toc)\n",
    "There are various methods of generating random numbers, with replacement and without replacement. With replacement means the number drawn would be placed back in and could be selected again. \n",
    "No replacement means that once a number is chosen, it can no longer be chosen again in the same sample as it is not placed back in the pot. In this way there will be no duplicates.\n",
    "it cannot be selected again in the same sample. It is no longer available and this means there will be no possibility of duplicates.\n",
    "\n",
    "Python's random package and numpy.random are examples of pseudo random number generators. A true random number generator would involve hardware while pseudo random number generators involve software.\n",
    " \n",
    "Computers cant really generate random numbers, even humans have patterns in thinking of random numbers. Computers generate numbers that looks random, so that someone else wouldn't be able to predict the next number generated.\n",
    "We are really only looking at *pseudo* random numbers. If you do have a key piece of information - the **seed** - then you can predict the next random number. The seed is typically the time (to the microsecond) on the computer when the code was run. The seed is decided when you import the function into jupyter.\n",
    "\n",
    "\n",
    "Example of **pi** from the lecture. Pi is the ratio of the diameter of a circle to its circumference and it has a decimal expansion that never ends and never repeats. \n",
    "Therefore you will only ever see an approximation of pi becuase it has an unending expansion. \n",
    "The digits never repeat a pattern. While you might find pairs of digits, these pairs do not appear periodically. \n",
    "If you wanted to generate a random number between 1 and 10, you could go out to a point in the decimal expansion of pi and not tell anyone where you started, the position where you started from is the seed. If no-one knows where you start from , then no-one can predict where you go next. The seed is where you start at.\n",
    "\n",
    "For various applications you will want to set the seed, for example to test code etc if you want the same random numbers (pseudo-random) generated you need to set the seed.\n",
    "This tells python not to generate a random seed at the start (from the time to the microsecond on the machine) and instead provide it with a seed to start from to get the very same output another time.\n",
    "\n",
    "Pseudo random number generators can be seeded which makes them deterministic and the series of random values can be recreated and predicted. A seed is like a starting point to the random number generation process. The computer's system time is usually used for the seed and this is used in an algorithm to generate some (pseudo) random values. There are times however when you need to be able to generste exactly the same sequence of random numbers such as for testing or demonstrating/teaching etc. \n",
    "You can then provide a seed to the process. \n",
    "\n",
    "\n",
    "\n",
    "Pythons built-in `random` module implements pseudo-random numbers for various distributions. See [python docs/random library](https://docs.python.org/3/library/random.html). However this built-in`random` module only samples one value at a time and probably uses loops to generate sequences of random numbers.   \n",
    "`numpy.random` provides functions that can efficiently generate arrays of sample values from various probability distributions rather than one value at a time. It is much much faster and more efficient.\n",
    "\n",
    "\n"
   ]
  },
  {
   "cell_type": "markdown",
   "metadata": {},
   "source": [
    "\n",
    "### How are random numbers generated?\n",
    "\n",
    "According to [NumPy random module](https://numpy.org/devdocs/reference/random/index.html?highlight=random#module-numpy.random) \n",
    ">Numpy’s random number routines produce pseudo random numbers using combinations of a BitGenerator to create sequences and a Generator to use those sequences to sample from different statistical distributions.\n",
    "\n",
    "It goes on to describe how \n",
    "- **BitGenerators** are objects that generates random numbers which are typically unsigned integer words filled with sequences of either 32 or 64 random bits. \n",
    "- **Generators** objects then transform these sequences of random bits from the BitGenerator into sequences of numbers that follow a specific probability distribution within a specified interval.\n",
    "\n",
    "See [numpy docs on random sampling](https://numpy.org/devdocs/reference/random/index.html?highlight=random#random-sampling-numpy-random) on the changes since NumPy version 1.17.0. This ties in with the differences in the documentation I noticed between versions 1.16 and 1.17.\n",
    "\n",
    ">Since Numpy version 1.17.0 the Generator can be initialized with a number of different BitGenerators. It exposes many different probability distributions. See NEP 19 for context on the updated random Numpy number routines. The legacy RandomState random number routines are still available, but limited to a single BitGenerator.\n",
    "For convenience and backward compatibility, a single RandomState instance’s methods are imported into the numpy.random namespace, see Legacy Random Generation for the complete list.\n",
    "\n",
    "\n",
    "### Pseudorandom  numbers vs random numbers.\n",
    ">Pseudorandom  numbers are generated by an algorithm with deterministic behaviour based on the seed of the random number generator.\n",
    "\n",
    "\n",
    "Numbers generated by either the built-in random module or numpy.random package are not actually random at all but *pseudorandom* numbers. Computers cannot actually generate random numbers but they do generate sequences that look like random numbers. Computers generate numbers that looks random, so that someone else wouldn't be able to predict the next number generated without a key piece of information. This is the **seed**. If you know the seed then you can predict the next number to be generated in a sequence and therefore the numbers generated are not random as such. The seed is typically the time (to the microsecond) on the computer when the code was run. The seed is decided when you import the function into jupyter or python script.\n",
    "\n",
    "The lectured demonstrated the example of **pi** which is the ratio of the diameter of a circle to its circumference. Pi has a decimal expansion that never ends and never repeats. Therefore you only ever see an approximation of pi becuase it has an unending expansion. \n",
    "The digits in pi never repeat a pattern and while you might find pairs of digits, these pairs do not appear periodically. \n",
    "Therefore if you wanted to generate a random number between 1 and 10, you could go out to a point in the decimal expansion and not tell anyone where you started, the position where you started from is the seed. If no-one knows where you start from, then no-one can predict where you go next. The seed is where you start at. If someone knows where in the decimal expansion you started from , then they could predict the next number in the \"random\" sequence. \n",
    "\n",
    "For various applications, you may wish to set a seed so that the exact sequence of random numbers can be generated. For example when testing code or for teaching purposes where you want the output to be reproducible you can set the seed. This tells Python not to generate a random seed at the start (from the time to the microsecond on the machine) and instead you provide it with a seed to start from to get the very same output another time.\n",
    "\n",
    "In summary, random (pseudorandom) numbers are drawn from a probability distribution. The numbers generated depend on the *seed* used and are generated according to some deterministic algorithm from that seed. "
   ]
  },
  {
   "cell_type": "code",
   "execution_count": null,
   "metadata": {},
   "outputs": [],
   "source": []
  },
  {
   "cell_type": "code",
   "execution_count": null,
   "metadata": {},
   "outputs": [],
   "source": []
  },
  {
   "cell_type": "code",
   "execution_count": null,
   "metadata": {},
   "outputs": [],
   "source": []
  },
  {
   "cell_type": "code",
   "execution_count": null,
   "metadata": {},
   "outputs": [],
   "source": []
  },
  {
   "cell_type": "markdown",
   "metadata": {},
   "source": [
    "<a id='references'></a>\n",
    "## References\n",
    "- Python for Data Analysis - Chapter 4 NumPy Basics: Arrays and Vectorised Computation by Wes McKinney\n",
    "- [Python Data Science Handbook by Jake VanderPlas ](https://jakevdp.github.io/PythonDataScienceHandbook/) \n",
    "- [Jake VanderPlas Website](http://vanderplas.com)\n",
    "- [numpy quickstart tutorial](https://numpy.org/devdocs/user/quickstart.html)\n",
    "- [NumPy random module](https://numpy.org/devdocs/reference/random/index.html?highlight=random#module-numpy.random), \n",
    "- [python - random library](https://docs.python.org/3/library/random.html#module-random)\n",
    "- Section 4.6 of Python for Data Analysis by Wes McKinney\n",
    "- [GitHub Flavoured Markdown](https://github.github.com/gfm/)\n",
    "- [Jupyter Notebook documentation](https://jupyter-notebook.readthedocs.io/en/stable/notebook.html#basic-workflow)\n",
    "- [Jupyter Notebook Tips, Tricks, and Shortcuts](https://www.dataquest.io/blog/jupyter-notebook-tips-tricks-shortcuts/)\n",
    "- [python random docs](https://docs.python.org/3/library/random.html#module-random)\n",
    "- [A Concrete Introduction to Probability (using Python) by Peter Norvig](https://nbviewer.jupyter.org/url/norvig.com/ipython/Probability.ipynb) \n",
    "Note: I have not actually read through this in detail yet. It is linked in the python random module documentation.\n",
    "- [wolfram mathworld](http://mathworld.wolfram.com/topics/StatisticalDistributions.html)\n",
    "- [stattrek](https://stattrek.com)\n",
    "\n",
    "\n",
    "[Back to top](#toc)"
   ]
  },
  {
   "cell_type": "markdown",
   "metadata": {},
   "source": [
    "###  The numpy.random package documentation on docs.scipy.org\n",
    "\n",
    "I noticed that the documentation in the latest version 1.17 does not seem to be listing `numpy.random.rand()` function in the same way as the documentation for NumPy version 1.16 (or NumPy versions 1.15 and 1.14).\n",
    "\n",
    "[numpy-1.15.1/reference.routines.random](https://docs.scipy.org/doc/numpy-1.15.1/reference/routines.random.html) has `numpy.random.rand(d0,d1,...,dn)`\n",
    "The [numpy/reference/random](https://docs.scipy.org/doc/numpy/reference/random) has a random.sampling(numpy.random) section which has a [quick start guide](https://docs.scipy.org/doc/numpy/reference/random/index.html#quick-start) and it outlines some changes since the videos were made and refers to the **generator** as a replacement for Random.State.\n",
    "\n",
    "I'll have to go through the documentation and see what the changes are.\n",
    "\n",
    "- https://docs.scipy.org/doc/numpy/reference/random/generated/numpy.random.Generator.random.html#numpy.random.Generator.random\n",
    "\n",
    "Note that the documents under this url refer to `numpy.random.generator` but I think this is just the newer form.\n",
    "\n",
    "\n",
    "\n"
   ]
  },
  {
   "cell_type": "code",
   "execution_count": null,
   "metadata": {},
   "outputs": [],
   "source": []
  },
  {
   "cell_type": "code",
   "execution_count": null,
   "metadata": {},
   "outputs": [],
   "source": [
    "import random\n",
    "random.randrange(300,500)"
   ]
  },
  {
   "cell_type": "code",
   "execution_count": null,
   "metadata": {},
   "outputs": [],
   "source": []
  }
 ],
 "metadata": {
  "kernelspec": {
   "display_name": "Python 3",
   "language": "python",
   "name": "python3"
  },
  "language_info": {
   "codemirror_mode": {
    "name": "ipython",
    "version": 3
   },
   "file_extension": ".py",
   "mimetype": "text/x-python",
   "name": "python",
   "nbconvert_exporter": "python",
   "pygments_lexer": "ipython3",
   "version": "3.7.3"
  }
 },
 "nbformat": 4,
 "nbformat_minor": 2
}
