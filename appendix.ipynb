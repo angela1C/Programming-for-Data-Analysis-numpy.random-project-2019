{
 "cells": [
  {
   "cell_type": "markdown",
   "metadata": {},
   "source": [
    "Appendix\n",
    "\n",
    "Here I am just storing some things I am taking out of my assignment to reduce the size.\n",
    "I want to keep them as a reference point though."
   ]
  },
  {
   "cell_type": "markdown",
   "metadata": {},
   "source": [
    "\n",
    "[W3resource](https://www.w3resource.com/numpy/index.php) describes NumPy as the \n",
    "> fundamental package for scientific computing in Python. It is a Python library that provides a multidimensional array object, various derived objects (such as masked arrays and matrices), and an assortment of routines for fast operations on arrays, including mathematical, logical, shape manipulation, sorting, selecting, I/O, discrete Fourier transforms, basic linear algebra, basic statistical operations, random simulation and much more. \n",
    "\n",
    "NumPy's main data structure is the **ndarray** - a homogenuous multidimensional array object. NumPy has many mathematical functions and algorithms for doing very fast numerical operations on arrays. Batch operations avoid the need to use loops by working on entire arrays of data at a time using **vectorisation** but using similar syntax to working with scalars.\n",
    "An [array](https://en.wikipedia.org/wiki/Array_data_structure) is a data structure consisting of a collection of elements (values or variables), each identified by at least one array index or key. Python itself does not have an array data structure so the NumPy library allows for the creation and manipulatation of arrays of numbers. Although matrix operations are possible in Python, they are quite inefficient when compared to NumPy's capabilities on large multi-dimensional arrays of numbers and such matrix type operations are very commonly used when analysing data and for other computing purposes. "
   ]
  },
  {
   "cell_type": "markdown",
   "metadata": {},
   "source": [
    "<a id='Simplerandomdata'></a>\n",
    "### Simple random data functions\n",
    "- `rand(d0, d1, …, dn)`\tRandom values in a given shape.\n",
    "- `randn(d0, d1, …, dn)`\tReturn a sample (or samples) from the “standard normal” distribution.\n",
    "- `randint(low[, high, size, dtype])`\tReturn random integers from low (inclusive) to high (exclusive).\n",
    "- `random_integers(low[, high, size])`\tRandom integers of type np.int between low and high, inclusive.\n",
    "- `random_sample([size])`\tReturn random floats in the half-open interval `[0.0, 1.0)`.\n",
    "- `random([size])`\tReturn random floats in the half-open interval `[0.0, 1.0)`.\n",
    "- `ranf([size])`\tReturn random floats in the half-open interval `[0.0, 1.0)`.\n",
    "- `sample([size])`\tReturn random floats in the half-open interval `[0.0, 1.0)`.\n",
    "- `choice(a[, size, replace, p])`\tGenerates a random sample from a given 1-D array\n",
    "- `bytes(length)`\tReturn random bytes."
   ]
  },
  {
   "cell_type": "markdown",
   "metadata": {},
   "source": [
    "## Discrete Probability Distributions\n",
    "\n",
    "see https://machinelearningmastery.com/discrete-probability-distributions-for-machine-learning/\n",
    "\n",
    ">A discrete random variable is a random variable that can have one of a finite set of specific outcomes. The two types of discrete random variables most commonly used in machine learning are binary and categorical.\n",
    "\n",
    "- A **binary random variable** is a discrete random variable where the finite set of outcomes is in {0, 1}. \n",
    "- A **categorical random variable** is a discrete random variable where the finite set of outcomes is in {1, 2, …, K}, where K is the total number of unique outcomes.\n",
    "\n",
    "Each outcome or event for a discrete random variable has a probability.\n",
    "The probability mass function summarises a discrete probablity distribution which relates events for a discrete random variable with their probabilities of occurring.\n",
    "\n",
    "A Probability Mass Function (PMF) returns the probability of a given outcome.\n",
    "A Cumulative Distribution Function (CDF) returns the probability of a value less than or equal to a given outcome.\n",
    "A Percent-Point Function (PPF) returns a discrete value that is less than or equal to the given probability.\n",
    "\n",
    "The most common discrete probability distributions are the Bernoulli and Multinoulli distributions for binary and categorical discrete random variables respectively, and the Binomial and Multinomial distributions that generalize each to multiple independent trials.\n",
    "\n",
    "\n"
   ]
  },
  {
   "cell_type": "markdown",
   "metadata": {},
   "source": [
    "\n",
    "## The Bernoulli distribution\n",
    "\n",
    "A bit of background on the Bernoulli distribution which tis related to the Binomial Distribution\n",
    "\n",
    "https://en.wikipedia.org/wiki/Bernoulli_distribution\n",
    ">In probability theory and statistics, the Bernoulli distribution, named after Swiss mathematician Jacob Bernoulli\n",
    "is the discrete probability distribution of a random variable which takes the value 1 with probability \n",
    "$p$ and the value 0 with probability ${\\displaystyle q=1-p,}$ that is, the probability distribution of any single experiment that asks a yes–no question.\n",
    "A Bernoulli trial (or binomial trial) is a random experiment with exactly two possible outcomes, \"success\" and \"failure\", in which the probability of success is the same every time the experiment is conducted.\n",
    "\n",
    "The **Bernoulli distribution** is a special case of the binomial distribution where a single trial is conducted (n=1) and where the outcome is binary, that is either 0 or 1.\n",
    "\n",
    "$x in {0, 1}$\n",
    "A **Bernoulli trial** is an experiment whose outcome follows a Bernoulli distribution such as a single flip of a coin that may have a heads (0) or a tails (1) outcome.\n",
    "\n",
    ">A common example of a Bernoulli trial in machine learning might be a binary classification of a single example as the first class (0) or the second class (1).\n",
    "The distribution can be summarized by a single variable p that defines the probability of an outcome 1. Given this parameter, the probability for each event can be calculated as follows:\n",
    "\n",
    "$P(x=1) = p$\n",
    "$P(x=0) = 1 – p$\n",
    "In the case of flipping a fair coin, the value of p would be 0.5, giving a 50% probability of each outcome.\n",
    "\n",
    "A **Bernoulli process** is the repetition of multiple independent Bernoulli trials. It's outcomes follow a **Binomial** distribution. The Bernoulli distribution can be considered as a Binomial distribution with a single trial."
   ]
  },
  {
   "cell_type": "markdown",
   "metadata": {},
   "source": [
    "The binomial distribution is the probability of a success or failure outcome in an experiment that is repeated many times. A binomial experiment has only two (bi) possible outcomes such as heads or tails, true or false etc. One of these outcomes can be called a **success** and the other a **failure**. The probability of success (P) is the same on every trial\n",
    "A single coin flip is an example of an experiment with a binary outcome. \n",
    "\n",
    "A **binomial experiment** consists of a number $n$ of repeated identical **Bernoulli** trials \n",
    "- where there are only two possible outcomes, success or failure \n",
    "- the probability of success (p) is constant (the same in every trial)\n",
    "- the $n$ trials are independent - outcome of one trial does not affect the outcome of another trial.\n",
    "- The binomial random variable x is the number of $S$’s in n trials.\n",
    "\n",
    "The outcome of a binomial experiment is a **binomial random variable**.\n",
    "**Binomial probability** is the probability that a binomial random variable assumes a specific value. \n",
    "-b(x,n,P): Binomial probability  - the probability that an n-trial binomial experiment results in exactly x successes.\n",
    "**Binomial distribution** is the probability distribution of a binomial random variable.\n",
    "\n",
    "### The binomial distribution has the following properties:\n",
    "- The mean of the distribution is equal to $n*P$\n",
    "- The variance $\\sigma^2$ is $n*P*(1-p)$\n",
    "- the standard deviation $sqrt(n*P*(1-p))$\n",
    "\n",
    "\n",
    "***\n",
    "The [binomial distribution](http://mathworld.wolfram.com/BinomialDistribution.html) gives the discrete probability distribution $P_p(n|N)$ of obtaining exactly n successes out of N Bernoulli trials (where the result of each Bernoulli trial is true with probability $p$ and false with probability $q=1-p$).\n",
    "\n",
    "The binomial distribution is the probability distribution of a sequence of experiments where each experiment produces a binary outcome and where each of the outcomes is independent of all the others.\n",
    "\n",
    "$n$ is the number of times the experiment is run while $p$ is the probability of a specific outcome such as heads. \n",
    "The results from performing the same set of experiments, such as repeatedly flipping a coin a number of times and the number of heads observed across all the sets of experiments follows the binomial distribution."
   ]
  },
  {
   "cell_type": "markdown",
   "metadata": {},
   "source": [
    "***\n",
    "#### The Bernoulli distribution\n",
    "\n",
    "A Bernoulli trial (or binomial trial) is a random experiment with exactly two possible outcomes, \"success\" and \"failure\", in which the probability of success is the same every time the experiment is conducted.\n",
    "A **Bernoulli process** is the repetition of multiple independent Bernoulli trials. It's outcomes follow a **Binomial** distribution. The Bernoulli distribution can be considered as a Binomial distribution with a single trial (n=1).\n",
    "\n",
    "A Bernoulli distribution has only two possible outcomes, 1 (success) and 0 (failure), and a single trial, for example, a single coin toss. A random variable X which has a Bernoulli distribution can take value 1 with the probability of success, p, and the value 0 with the probability of failure, q or 1−p. The probabilities of success and failure need not be equally likely. \n",
    "\n",
    ">A common example of a Bernoulli trial in machine learning might be a binary classification of a single example as the first class (0) or the second class (1).\n",
    "The distribution can be summarized by a single variable p that defines the probability of an outcome 1. Given this parameter, the probability for each event can be calculated as follows:\n",
    "\n",
    "$P(x=1) = p$\n",
    "$P(x=0) = 1 – p$\n",
    "In the case of flipping a fair coin, the value of p would be 0.5, giving a 50% probability of each outcome."
   ]
  },
  {
   "cell_type": "markdown",
   "metadata": {},
   "source": [
    "***\n",
    "The [binomial distribution](http://mathworld.wolfram.com/BinomialDistribution.html) gives the discrete probability distribution $P_p(n|N)$ of obtaining exactly n successes out of N Bernoulli trials (where the result of each Bernoulli trial is true with probability $p$ and false with probability $q=1-p$).\n",
    "\n",
    "The binomial distribution is the probability distribution of a sequence of experiments where each experiment produces a binary outcome and where each of the outcomes is independent of all the others.\n",
    "\n",
    "$n$ is the number of times the experiment is run while $p$ is the probability of a specific outcome such as heads. \n",
    "The results from performing the same set of experiments, such as repeatedly flipping a coin a number of times and the number of heads observed across all the sets of experiments follows the binomial distribution.\n",
    "\n",
    "\n",
    "***\n",
    "Using `numpy.random.binomial`, samples are drawn from a binomial distribution with specified parameters, $n$ trials and $p$ probability of success where $n$ an integer >= 0 and $p$ is in the interval $[0,1]$. \n",
    "\n",
    "The function takes an integer for $n$ the number of trials and a float for the $p$ for the probability of success. $p$ must be between 0 and 1. You can also specify the number of samples to be drawn using the size parameter. The function returns an array of samples drawn from the binomial distribution based on the $n$ and $p$ and $size$ parameters given to the function.\n",
    "\n",
    ">Drawn samples from the parameterized binomial distribution, where each sample is equal to the number of successes over the n trials.\n",
    "\n"
   ]
  }
 ],
 "metadata": {
  "kernelspec": {
   "display_name": "Python 3",
   "language": "python",
   "name": "python3"
  },
  "language_info": {
   "codemirror_mode": {
    "name": "ipython",
    "version": 3
   },
   "file_extension": ".py",
   "mimetype": "text/x-python",
   "name": "python",
   "nbconvert_exporter": "python",
   "pygments_lexer": "ipython3",
   "version": "3.7.3"
  }
 },
 "nbformat": 4,
 "nbformat_minor": 2
}
