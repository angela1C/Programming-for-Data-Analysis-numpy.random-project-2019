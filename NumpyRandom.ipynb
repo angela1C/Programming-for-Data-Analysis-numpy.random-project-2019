{
 "cells": [
  {
   "cell_type": "markdown",
   "metadata": {},
   "source": [
    "# Programming for Data Analysis Assignment 2019\n",
    "\n",
    "The assignment concerns the `numpy.random` package in Python.\n",
    "Explain the use of the package including detailed explanations of at least five of the distributions provided for in the package.\n",
    "There are four distinct task to be carried out in the Jupyter Notebook.\n",
    "1. Explain the overall purpose of the package.\n",
    "2. Explain the use of the “Simple random data” and “Permutations” functions. \n",
    "3. Explain the use and purpose of at least five “Distributions” functions.\n",
    "4. Explain the use of seeds in generating pseudorandom numbers.\n",
    "***"
   ]
  },
  {
   "cell_type": "markdown",
   "metadata": {},
   "source": [
    "<a id='toc'></a>\n",
    "# Table of contents\n",
    "\n",
    "## Project Tasks\n",
    "\n",
    "1. [ Explain the overall purpose of the package](#task1)\n",
    "2. [Explain the use of the Simple random data and Permutations functions.](#task2)\n",
    "    - 2.1 [Simple random data functions](#task2.1)\n",
    "    - 2.2 [Permutations Functions](#task2.2)\n",
    "3. [Explain the use and purpose of at least five “Distributions” functions](#task3)\n",
    "4. [Explain the use of seeds in generating pseudorandom numbers](#task4)\n",
    "5. [References](#references)\n",
    "  \n",
    "***"
   ]
  },
  {
   "cell_type": "markdown",
   "metadata": {},
   "source": [
    "## Python and other software tools used in this project\n",
    "\n",
    "### How to download this repository\n",
    "Go to the URL for the repository on GitHub at https://github.com/angela1C/numpy.random.git.\n",
    "Click the green Clone or download button\n",
    "\n",
    "\n",
    "### Python 3\n",
    "\n",
    "### Jupyter notebook\n",
    "\n",
    "### NumPy package\n",
    "\n",
    "### Package and documentation versions.\n",
    "Version 1.16.2 is the version of NumPy that I am working with so the documentation I am referring to is the [NumPy Reference 1.16](https://numpy.org/doc/1.16/reference/index.html#numpy-reference) manual. This details functions, modules, and objects included in NumPy, describing what they are and what they do. It contains detailed reference documentation of the functions and classes contained in the NumPy package. \n",
    "\n",
    "***"
   ]
  },
  {
   "cell_type": "markdown",
   "metadata": {},
   "source": []
  },
  {
   "cell_type": "markdown",
   "metadata": {},
   "source": [
    "### Jupyter notebook settings\n",
    "In order to get the output of multiple python statements to print, instead of just the last statement in a cell, you can change the settings as per the [jupyter notebook tips, tricks and shortcuts blogpost by dataquest](https://www.dataquest.io/blog/jupyter-notebook-tips-tricks-shortcuts/)"
   ]
  },
  {
   "cell_type": "code",
   "execution_count": 3,
   "metadata": {},
   "outputs": [],
   "source": [
    "from IPython.core.interactiveshell import InteractiveShell\n",
    "InteractiveShell.ast_node_interactivity = \"all\"\n",
    "\n",
    "import numpy as np\n",
    "import pandas as pd\n",
    "import seaborn as sns\n",
    "import matplotlib.pyplot as plt"
   ]
  },
  {
   "cell_type": "code",
   "execution_count": 4,
   "metadata": {},
   "outputs": [
    {
     "data": {
      "text/plain": [
       "'1.16.2'"
      ]
     },
     "execution_count": 4,
     "metadata": {},
     "output_type": "execute_result"
    },
    {
     "data": {
      "text/plain": [
       "'0.24.2'"
      ]
     },
     "execution_count": 4,
     "metadata": {},
     "output_type": "execute_result"
    },
    {
     "data": {
      "text/plain": [
       "'0.9.0'"
      ]
     },
     "execution_count": 4,
     "metadata": {},
     "output_type": "execute_result"
    }
   ],
   "source": [
    "#np.version.version  # check what version of numpy and other packages I have installed.\n",
    "np.__version__  # '1.16.2'\n",
    "pd.__version__\n",
    "sns.__version__"
   ]
  },
  {
   "cell_type": "markdown",
   "metadata": {},
   "source": [
    "<a id='notes'></a>\n",
    "\n",
    "\n",
    "### some quick notes here - remove this later!\n",
    "- what is the stated aim of the package?\n",
    "- why would you want to generate random numbers?\n",
    "- pythons built-in `random` module can also generate random numbers so what is the difference.\n",
    "- how are random numbers generated using pseudo random number generator  \n",
    "- use plots to illustrate the difference between different probability distributions. \n",
    "\n",
    "The aim of the assignment is to be able to give a good overview of the numpy.random functions in your own words without rehashing the documentation. All of the functions return random value or values in some shape or form. \n",
    "\n",
    "I will go down through the simple random data functions and see how they differ from one another. A first glance at the functions in the documentation show that four of the functions return similar output. \n",
    "These are the following four functions which all return random floats in the half-open interval `[0.0,1.0)`\n",
    "\n",
    "- `random_sample([size])` returns random floats in the half-open interval `[0.0, 1.0)`  \n",
    "- `random([size])` also returns random floats in the half-open interval` [0.0, 1.0)`.\n",
    "- `ranf([size])` again returns random floats in the half-open interval `[0.0, 1.0)`.\n",
    "- `sample([size])` returns random floats in the half-open interval `[0.0, 1.0)`.\n",
    "\n",
    "I will look at these together and see how they differ. `random.randint` and `random.random_integer` also look quite similar. \n",
    "\n",
    "I first went through some of the functions for task 2 but having done that I am going to reduce some of the clutter there and integrate it somehow with task 3 related to distributions as they are very much related. Its just the way the documentation is laid out. Rather than going through the simple random data functions I will look at the simple random data functions for each of the distributions covered which seem to be just the uniform distribution and the normal and standard normal distributions.\n",
    "\n",
    "##### images\n",
    "it looks like I have to use html to resize images rather than markdown.\n",
    "`<img src=\"/Simple_random_data.png\" width=\"400\" alt=\"Simple random data\" />`\n",
    "\n",
    "Using markdown does not seem to allow resizing of the image.  \n",
    "\n",
    "`![Simple random data](/Simple_random_data.png \"title\")`\n",
    "\n",
    "The version of numpy that I have installed is numpy version 1.16.2. This can be checked using the `numpy.version.version` or `numpy.__version__`\n",
    "\n",
    "[Back to top](#toc)"
   ]
  },
  {
   "cell_type": "markdown",
   "metadata": {},
   "source": [
    "## Random numbers in Python"
   ]
  },
  {
   "cell_type": "markdown",
   "metadata": {},
   "source": [
    "<a id='task1'></a>\n",
    "# 1. Explain the overall purpose of the package numpy.random\n",
    "\n",
    "\n",
    "## NumPy's Random module\n",
    "\n",
    "**numpy.random** is a sub-package or module of the NumPy package that generates random numbers. [what is NumPy](https://docs.scipy.org/doc/numpy/user/whatisnumpy.html) in the **Scipy** documentation gives a good overview of what exactly the **NumPy** package itself is for.\n",
    "\n",
    "\n",
    "According to [wolfram mathworld](http://mathworld.wolfram.com/RandomNumber.html)a **random number** \n",
    ">is a number chosen as if by chance from some specified distribution such that selection of a large set of these numbers reproduces the underlying distribution. Almost always, such numbers are also required to be independent, so that there are no correlations between successive numbers. Computer-generated random numbers are sometimes called pseudorandom numbers, while the term \"random\" is reserved for the output of unpredictable physical processes. When used without qualification, the word \"random\" usually means \"random with a uniform distribution.\" Other distributions are of course possible.\n",
    "\n",
    "\n",
    "\n",
    "\n",
    "\n",
    "\n",
    "\n",
    "\n",
    "**NumPy**, short for Numerical Python, is one of the most important foundational packages for numerical computing in Python and many other packages that are used for data analytics and machine learning are built on NumPy. \n",
    "NumPy's main data structure is the **ndarray**. This is a homogenuous multidimensional array which is also known by the alias **array**. Python itself does not have an array data structure so NumPy allow for the creation and manipulatation of arrays of numbers. Python's own matrix operations are quite inefficient when compared to NumPy's capabilities on large multi-dimensional arrays of numbers and such matrix type operations are very commonly used when analysing data and for other computing purposes.\n",
    "\n",
    "A NumPy array resembles a table of elements that are all of the same type. The elements which are usually numbers are indexed by a tuple of positive integers. Axes refer to the dimensions of a NumPy array.\n",
    "The NumPy package has many mathematical functions and algorithms for doing very fast numerical operations on arrays.\n",
    "\n",
    "Batch operations avoid the need to use loops by working on entire arrays of data at a time using **vectorisation** but using similar syntax to working with scalars.\n",
    "\n",
    "NumPy can also be used to simulate data. While csv data is commonly imported into NumPy for analysis (or into a package such as pandas that uses NumPy), it is often useful to be able to simulate data to analyse before the real data may be collected or available. \n",
    "  \n",
    "A NumPy **ndarray** can be created using the Numpy `array` function which takes any sequence-like objects such as lists, nested lists etc but there are other NumPy functions that also create new arrays such as `zeros`, `ones`, `empty`, `arange`, `full` and `eye` among others as detailed in the [numpy quickstart tutorial](https://numpy.org/devdocs/user/quickstart.html). NumPy's random module also creates ndarray objects (or scalars).\n",
    "\n",
    "Some key points about any of NumPy's ndarray objects include:\n",
    "- The data in an *ndarray* must be homogeneous, that is all of it's data elements must of the same type.\n",
    "- Arrays have a *ndim* attribute for the number of axes or dimensions of the array\n",
    "- Arrays have a *shape* attribute which is a tuple that indicates the size of the array in each dimension.\n",
    "The length of the *shape* tupple is the number of axes that the array has. \n",
    "- Arrays have a *dtype* attribute which is an object that describes the data type of the array.\n",
    "- The `size` attribute is the total number of elements in the array.\n",
    "\n",
    "\n",
    "## NumPy's Random module \n",
    "Python has a built-in [random](https://docs.python.org/3/library/random.html) module that provides a number of tools for working with random numbers. However this `random` module only generates or samples one value at a time.  Loops or iteration are used for working with sequences of random numbers while on the other hand the `numpy.random` module provides functions that can efficiently generate arrays of sample values from various probability distributions rather than one value at a time. NumPy's random module is much much faster and more efficient than python's random module for this purpose particularly when working with larger arrays.\n",
    "NumPy's random module is used more for generating random series of data rather than the scalar values generated by the python random module whereas the random module is sufficient for other purposes??\n",
    "\n",
    "The `numpy.random` package uses NumPy's key data structure - the multi-dimensional `ndarray` arrays. Given an input array of elements, random functions will allow you to select a random sample of elements from the array or generate sequences.\n",
    "\n",
    "\n",
    "Both Python's random and NumPy random packages generate pseudorandom numbers rather than actual random numbers. \n",
    "Actual random numbers cannot be generated by software applications. Both `random` modules implements **pseudorandom** numbers for various distributions. \n",
    "Python uses the **Mersenne Twister** as the core generator. The Mersenne Twister is one of the most extensively tested random number generators in existence. According to [wikipedia](https://en.m.wikipedia.org/wiki/Mersenne_Twister), the Mersenne Twister is by far the most widely used general-purpose pseudorandom number generator PRNG whose name derives from the fact that its period length is chosen to be a Mersenne prime (a prime number that is one less than a power of two. That is, it is a prime number of the form Mn = 2n − 1 for some integer n.).\n",
    "\n",
    "\n"
   ]
  },
  {
   "cell_type": "markdown",
   "metadata": {},
   "source": [
    "### Generating random numbers  \n",
    "[Back to top](#toc)  \n",
    "  \n",
    "\n",
    "*Random* numbers generated by either the built-in python `random` module or the `numpy.random` package or any other computer software application are not actually random at all but **pseudo-random** numbers. While they may appear random they are actually predetermined. Python's random package and numpy.random are pseudo-random number generators.\n",
    "\n",
    "In general, any computer program only produce outputs based on inputs and according to a set of predetermined steps or rules so therefore it would not be possible for a computer to generate truly random numbers. Computer software only generate sequences that look like random numbers in that you could not predict the next number generated unless you had a \n",
    "key piece of information which is called the **seed**. If you know this **seed** then you can predict the next number to be generated in a sequence and therefore the numbers generated are not actually random as such. A true random number generator would involve **hardware** while a computer program can only generate psuedo-random numbers.\n",
    "\n",
    "The random numbers are generated are in a sequence according to some **deterministic algorithm** from an input called a **seed** and therefore do not actually contain any randomness at all. The random numbers output are based on predetermined rules. This means that the outputs can be repeated by following the same set of steps and given the same inputs.\n",
    "\n",
    "The **seed** used is typically the time (to the microsecond) on the computer when the code was run. To recreate the exact same sequence of random numbers, then you can just explicitly supply the seed as an input to the random number generator.\n",
    "Without supplying a seed yourself explicitly, the current system time in milliseconds is used as the seed\n",
    "\n",
    "The sequence of numbers generated may have properties of randomness and look random but there is an important distinction between random and pseudorandom numbers. Pseudorandom number generators should never be used for cryptographic purposes because the predictability could be used to break the encryption.\n",
    "\n",
    "See [Section 4](#task4) for more detail relating to task 4. **Explain the use of seeds in generating pseudorandom numbers.**\n",
    "  \n",
    "You may want to generate the exact same sequence of numbers for testing or reproducibility. It is easier to share code that can be exactly reproduced by someone else to get the exact same results.\n"
   ]
  },
  {
   "cell_type": "code",
   "execution_count": null,
   "metadata": {},
   "outputs": [],
   "source": []
  },
  {
   "cell_type": "markdown",
   "metadata": {},
   "source": [
    "## Why generate random numbers?\n",
    "\n",
    "[Back to top](#toc)  \n",
    "The numpy.random package is used to generate random numbers (or pseudo random numbers) so I guess the question first is why would you want to generate random numbers!\n",
    "\n",
    "Being able to randomly select elements has many uses in computer applications such as gaming. \n",
    "The ability to generate sets of numbers from a particular probability distribution is also very useful for simulating a dataset, maybe in the absence of an actual dataset or for demonstrating or learning statistical and analytical concepts. Statistics and probability involve the concept of randomness and uncertainty.\n",
    "\n",
    "Data Analytics and Machine learning projects frequently rely on random samples of a datasets for testing and evaluation purposes. Often a dataset is split into training and test set where the dataset is shuffled and a classifier is built with a randomly selected subset of the dataset and the classifier is then tested on the remaining subset of the data. \n",
    "This allows you to evaluate the accuracy of the classifier before applying it to new observations as otherwise you would not know if the classifier was any good or not.\n",
    "\n",
    "There are many computational and statistical methods that use random numbers and random sampling. \n",
    "\n",
    "I think that some clustering algorithms often use random starting point. will come back to this.\n",
    "[Back to top](#toc)"
   ]
  },
  {
   "cell_type": "markdown",
   "metadata": {},
   "source": [
    "<a id='task2'></a>\n",
    "# 2. Explain the use of the “Simple random data” and “Permutations” functions.\n",
    "[Back to top](#toc)\n",
    "\n",
    "See [Random Sampling using numpy.random](https://docs.scipy.org/doc/numpy-1.16.1/reference/routines.random.html#random-sampling-numpy-random) of the numpy documentation which for NumPy version 1.16 has 4 main sections, of which Simple random data is the second section.\n",
    "\n",
    "- Simple random data\n",
    "- Permutations\n",
    "- Distributions\n",
    "- Random Generator\n"
   ]
  },
  {
   "cell_type": "markdown",
   "metadata": {},
   "source": [
    "<a id='task2.1'></a>\n",
    "## 2.1 Simple random data functions\n",
    "[Back to top](#toc)"
   ]
  },
  {
   "cell_type": "markdown",
   "metadata": {},
   "source": [
    "\n",
    "<img src=\"/Simple_random_data.png\" width=\"400\" alt=\"Simple random data\" />\n"
   ]
  },
  {
   "cell_type": "code",
   "execution_count": null,
   "metadata": {},
   "outputs": [],
   "source": [
    "import numpy as np\n",
    "import numpy.random"
   ]
  },
  {
   "cell_type": "markdown",
   "metadata": {},
   "source": [
    "[Back to top](#toc)\n",
    "\n",
    "\n",
    "## Random Floating Numbers from the Uniform Distribution\n",
    "\n",
    "## 1. **The `numpy.random.rand` function**\n",
    "The `numpy.random.rand` function returns an array of floats or a single random value from a uniform distribution. \n",
    "\n",
    "\n",
    "The array of random values returned will be in a given shape depending on the dimensions provided as an argument to the function. A scalar value is returned if no size argument is provided.\n",
    "\n",
    "The shape is a tuple that shows the size of each dimension\n",
    "\n",
    "- The returned array will contain a sequence of random values in a given shape according to the parameters you supplied. \n",
    "-  The random values will be drawn from the **uniform distribution** over the interval of `[0,1)` This means that values can be any number from 0.0 up to 1 but not including 1. \n",
    "\n",
    "To use this function you can simply pass some integers as arguments. These integers relate to the dimensions of the outputted array. \n",
    "- If no argument is supplied then just a single float is returned. This is similar to the random function in the python random package.\n",
    "- If you do supply arguments, they should all be positive integers. \n",
    "- The number of elements returned will depend on the number of arguments you provide. If you supply just a single integer as an argument, then the array that is returned is a 1 one-dimensional array containing a scalar.\n",
    "\n",
    "You get an array so that every row has the same number of elements, every column has the same number of elements. There can be different number of rows as columns.\n",
    "\n",
    "In summary, `numpy.random.rand` returns an array of floating point values or a single random value.\n",
    "Without providing a size argument, it is probably similar to the python `random` function which generates a single random value in the range between 0 and 1. (The half-open interval `[0,1)`\n",
    "\n",
    "\n"
   ]
  },
  {
   "cell_type": "markdown",
   "metadata": {},
   "source": [
    "Instead of all the print statements below, I am going to try and write a small function to print the array attributes.\n",
    "If you repeat code often, you should automate it!"
   ]
  },
  {
   "cell_type": "code",
   "execution_count": null,
   "metadata": {},
   "outputs": [],
   "source": [
    "\n",
    "def arrayinfo(myarray):  # pass the array to the function to print the attributes\n",
    "    \"\"\"print the attributes of the numpy array passed to this function\"\"\"\n",
    "    \n",
    "    print(f\"This array is a {myarray.ndim} dimensional array, with a{myarray.shape} shape and the array has a total number of {myarray.size}  elements\")\n",
    "    return myarray\n",
    "\n",
    "\n",
    "\n"
   ]
  },
  {
   "cell_type": "code",
   "execution_count": null,
   "metadata": {},
   "outputs": [],
   "source": [
    "import numpy as np\n",
    "from numpy.random import rand\n",
    "rand(10)"
   ]
  },
  {
   "cell_type": "code",
   "execution_count": null,
   "metadata": {},
   "outputs": [],
   "source": [
    "x = np.random.rand(10)\n",
    "arrayinfo(x)"
   ]
  },
  {
   "cell_type": "markdown",
   "metadata": {},
   "source": [
    "It looks like you can import numpy.random.rand on its own. I'll have to rename my variables below."
   ]
  },
  {
   "cell_type": "code",
   "execution_count": null,
   "metadata": {},
   "outputs": [],
   "source": [
    "x = np.random.rand(1)  # a single array with 1 element\n",
    "\n",
    "arrayinfo(x)"
   ]
  },
  {
   "cell_type": "code",
   "execution_count": null,
   "metadata": {},
   "outputs": [],
   "source": [
    "from numpy.random import rand\n",
    "rand(10)"
   ]
  },
  {
   "cell_type": "code",
   "execution_count": null,
   "metadata": {},
   "outputs": [],
   "source": [
    "x = np.random.rand(3)  # a single array with 3 elements\n",
    "arrayinfo(x)"
   ]
  },
  {
   "cell_type": "code",
   "execution_count": null,
   "metadata": {},
   "outputs": [],
   "source": [
    "x =np.random.rand(3,2) ## array with 3 rows and 2 columns\n",
    "\n",
    "arrayinfo(x)"
   ]
  },
  {
   "cell_type": "markdown",
   "metadata": {},
   "source": [
    "Next we can create an array (the outer []) which contains  3 inner arrays where each of these 3 arrays have 2 elements.\n",
    "The number of elements is the 6 (3 times 2)"
   ]
  },
  {
   "cell_type": "code",
   "execution_count": null,
   "metadata": {},
   "outputs": [],
   "source": [
    "x =np.random.rand(1,2,3)\n",
    "\n",
    "arrayinfo(x)"
   ]
  },
  {
   "cell_type": "code",
   "execution_count": null,
   "metadata": {},
   "outputs": [],
   "source": [
    "x =np.random.rand(4,1,2)\n",
    "arrayinfo(x)"
   ]
  },
  {
   "cell_type": "code",
   "execution_count": null,
   "metadata": {},
   "outputs": [],
   "source": [
    "np.random.rand()  ## without any arguments, a scalar is returned\n",
    "\n"
   ]
  },
  {
   "cell_type": "markdown",
   "metadata": {},
   "source": [
    "##### comparing to the random module of python"
   ]
  },
  {
   "cell_type": "code",
   "execution_count": null,
   "metadata": {},
   "outputs": [],
   "source": [
    "import random\n",
    "\n",
    "for i in range(5):  ## use a loop to generate a sequence of random numbers\n",
    "    random_number = random.random()\n",
    "    print(random_number)"
   ]
  },
  {
   "cell_type": "code",
   "execution_count": null,
   "metadata": {},
   "outputs": [],
   "source": [
    "import random\n",
    "random.random()"
   ]
  },
  {
   "cell_type": "code",
   "execution_count": null,
   "metadata": {},
   "outputs": [],
   "source": []
  },
  {
   "cell_type": "code",
   "execution_count": null,
   "metadata": {},
   "outputs": [],
   "source": [
    "x = np.random.rand(2,2,2)  # a 3-dimensional array\n",
    "arrayinfo(x)"
   ]
  },
  {
   "cell_type": "code",
   "execution_count": null,
   "metadata": {},
   "outputs": [],
   "source": [
    "x = np.random.rand(2,4,3,5)  # a 4 dimensional object\n",
    "arrayinfo(x)"
   ]
  },
  {
   "cell_type": "markdown",
   "metadata": {},
   "source": [
    "\n",
    " `np.random.rand(2,4,3,5)` returns a 4 dimensional object. This is a 4-dimensional array where the first axis has 2 element, next axis has 4 , next has 3 and next has 5 so this would produce 2 * 4 * 3 * 5 random numbers. \n",
    "s."
   ]
  },
  {
   "cell_type": "markdown",
   "metadata": {},
   "source": [
    "## Random integers from the Discrete Uniform Distribution\n",
    "\n",
    "### 1. The **`numpy.random.randint`** function.  \n",
    "\n",
    "[Back to top](#toc)\n",
    "\n",
    "Next up is the [numpy.random.randint()](https://docs.scipy.org/doc/numpy-1.16.1/reference/generated/numpy.random.randint.html#numpy-random-randint) function which will return random integers from the discrete uniform distribution in the interval from low (inclusive) to high (exclusive). (`[low, high)`) \n",
    "\n",
    "`numpy.random.randint()` is used to generate an array of random integers. The function returns a numpy array. \n",
    "You must specify how many integers to be generated by providing a size parameter. You can also specify the range from which the random integers will be generated.\n",
    "\n",
    "The lower end and the upper end of the range from which the random integers are generated.\n",
    "\n",
    "There are four possible parameters you can give to this function but at least one is required. Size is the key word argument here which is used to specify how many random numbers should be generated\n",
    "When only one parameter is supplied, this value is taken to be upper end of the range (exclusive) and a single integer is generated from 0 up to the upper range minus 1 so `np.random.randint(10)` would result in a single integer that could be any integer from 0 up to 9. \n",
    "\n",
    "When a second value is supplied to the function, the first valuer is treated as the low range parameter and the second is treated as the high range parameter so `np.random.randint(5,10)` would output a single integer between 5 inclusive and 9.\n",
    "\n",
    "The first two arguments relate to the range of values that could be drawn where low is the lowest integer to draw from the distribution, high is the integer after the last possible integer that could be drawn. The next numeric parameter is for the size of the resulting array. This can be a single integer or a tuple of integers for higher dimensions. This will determine the shape and size of the output. If the given shape is, e.g., (m, n, k), then m * n * k samples are drawn.\n",
    "\n",
    "If an argument is provides for the size, then a  size-shaped array of random integers from the appropriate distribution will be returned.\n",
    "\n",
    "\n",
    "The last possible argument is an optional `dtype` parameter which determines the dtype of the integers in the resulting array. This is not always required as the default value is `np.int` \n",
    "\n",
    "The `numpy.random.random_integers` function is similar to `numpy.random.randint` but the `numpy.random.random_integers` function is now deprecated. `numpy.random.random_integers` had a closed interval [low, high] with 1 being the lowest value if high is omitted and was used to generate uniformly distributed discrete non-integers.\n",
    "\n",
    "\n",
    "\n",
    "### compared to random.randint() function in base python\n",
    "\n",
    "random integer values can be generated using the `randint()` function of the random package. \n",
    "`random.randint(a, b)` returns a random integer N such that a <= N <= b.\n",
    "`random.randint` takes two arguments, a and b where a is the start of the range and b is the end of the range for the values that are generated. The values are generated from a uniform distribution.\n"
   ]
  },
  {
   "cell_type": "markdown",
   "metadata": {},
   "source": []
  },
  {
   "cell_type": "code",
   "execution_count": null,
   "metadata": {},
   "outputs": [],
   "source": [
    "x = np.random.randint(10, size=(2,2))\n",
    "arrayinfo(x)"
   ]
  },
  {
   "cell_type": "code",
   "execution_count": null,
   "metadata": {},
   "outputs": [],
   "source": [
    "x = np.random.randint(5,10,3)\n",
    "arrayinfo(x)"
   ]
  },
  {
   "cell_type": "code",
   "execution_count": null,
   "metadata": {},
   "outputs": [],
   "source": [
    "x = np.random.randint(5,10,(3,2))\n",
    "arrayinfo(x)"
   ]
  },
  {
   "cell_type": "code",
   "execution_count": null,
   "metadata": {},
   "outputs": [],
   "source": [
    "x = np.random.randint(5,10,(2,3))\n",
    "arrayinfo(x)"
   ]
  },
  {
   "cell_type": "markdown",
   "metadata": {},
   "source": [
    "If the given shape is, e.g., (m, n, k), then m * n * k samples are drawn. So here there are 2 times 3 times 4 = 24 samples drawn."
   ]
  },
  {
   "cell_type": "code",
   "execution_count": null,
   "metadata": {},
   "outputs": [],
   "source": [
    "x = np.random.randint(5,10,(2,3,4))\n",
    "arrayinfo(x)"
   ]
  },
  {
   "cell_type": "code",
   "execution_count": null,
   "metadata": {},
   "outputs": [],
   "source": [
    "np.random.randint(5,10)\n",
    "np.random.randint(5,10,2)\n"
   ]
  },
  {
   "cell_type": "markdown",
   "metadata": {},
   "source": [
    "#### one-dimensional array"
   ]
  },
  {
   "cell_type": "code",
   "execution_count": null,
   "metadata": {},
   "outputs": [],
   "source": [
    "x = np.random.randint(5, size=10)\n",
    "np.random.randint(5,10,2)\n",
    "arrayinfo(x)"
   ]
  },
  {
   "cell_type": "code",
   "execution_count": null,
   "metadata": {},
   "outputs": [],
   "source": [
    "x = np.random.randint(5, size=10)\n",
    "arrayinfo(x)"
   ]
  },
  {
   "cell_type": "markdown",
   "metadata": {},
   "source": [
    "#### a two-dimensional array of random integers"
   ]
  },
  {
   "cell_type": "code",
   "execution_count": null,
   "metadata": {},
   "outputs": [],
   "source": [
    "x = np.random.randint(5, size=(2, 4)) # Generate a 2 x 4 array of integers between 0 and 4, inclusive:\n",
    "arrayinfo(x)"
   ]
  },
  {
   "cell_type": "code",
   "execution_count": null,
   "metadata": {},
   "outputs": [],
   "source": [
    "x = np.random.randint(5, size=(2, 3, 4)) # Generate a 3 dimensional array of integers\n",
    "arrayinfo(x)"
   ]
  },
  {
   "cell_type": "code",
   "execution_count": null,
   "metadata": {},
   "outputs": [],
   "source": [
    "x = np.random.randint(5, size=(2, 3, 4,5)) # Generate a 4 dimensional array of integers\n",
    "arrayinfo(x)"
   ]
  },
  {
   "cell_type": "code",
   "execution_count": null,
   "metadata": {},
   "outputs": [],
   "source": [
    "#np.random.random_integers(5)\n",
    "np.random.randint(1, 5 + 1)\n",
    "# DeprecationWarning: This function is deprecated. Please call randint(1, 5 + 1) instead"
   ]
  },
  {
   "cell_type": "markdown",
   "metadata": {},
   "source": [
    "`random_integers` was similar to randint, only for the closed interval [low, high], and 1 is the lowest value if high is omitted. In particular, this other one is the one to use to generate uniformly distributed discrete non-integers.\n",
    "This has now been deprecated. come back to this"
   ]
  },
  {
   "cell_type": "markdown",
   "metadata": {},
   "source": [
    "#### compared to python's random.randint\n",
    "\n",
    "Here I will write a loop to generate a sequence of random integers using the base python `random.randint` function.\n"
   ]
  },
  {
   "cell_type": "code",
   "execution_count": null,
   "metadata": {},
   "outputs": [],
   "source": [
    "import random  # import random module\n",
    "myseq =[]  # create a list to hold the sequence of random numbers\n",
    "for i in range(10):  ## use a loop to generate a sequence of random numbers\n",
    "    random_integer = random.randint(0,10) # lower bound a is 0, upper bound b is 10\n",
    "    myseq.append(random_integer) # append the new element of the sequence to the list\n",
    "print(myseq) # return the lis    \n",
    "print(*myseq, sep = \", \") # return the list without the brackets. "
   ]
  },
  {
   "cell_type": "code",
   "execution_count": null,
   "metadata": {},
   "outputs": [],
   "source": [
    "np.random.randint(10,size =10)"
   ]
  },
  {
   "cell_type": "markdown",
   "metadata": {},
   "source": [
    "## Random Floats from the Standard Normal Distribution\n",
    "\n",
    "### 1. The **`numpy.random.randn()`** function \n",
    "\n",
    "\n",
    "Note that `numpy.random.randn()` is related to `numpy.random.standard_normal` which is used to draw\n",
    "samples from a standard Normal distribution (mean=0, stdev=1). `numpy.random.randn()` is actually a comvenience function for `numpy.random.standard_normal`. It returns a single float or an ndarray of floats.\n",
    "\n",
    "`numpy.random.randn() ` is used to generate random value(s) from the standard normal distribution which has a mean of 0 and a standard deviation of 1. The standard normal distribution is also known as the Gaussian distribution. The number of values to generate can be specified using the size argument.\n",
    "Without an argumement this function will just return a single value (a float) randomly sampled from the distribution, otherwise it returns an ndarray.\n",
    "\n",
    "`numpy.random.standard_normal`  takes an optional size parameter which can be an integer or a tuple of integers. Otherwise a single value is returned. If a tuple of integers is provided then this determines the shape of the resulting array and the number of elements in the array. \n",
    "\n",
    "(Output shape. If the given shape is, e.g., (m, n, k), then m * n * k samples are drawn.)\n",
    "\n",
    "You can get random samples from N(\\mu, \\sigma^2) by scaling the values. This is done by multiplying the values by sigma (the standard deviation) and adding mu (the mean). \n",
    "\n",
    "sigma * np.random.randn(...) + mu.\n",
    "\n",
    "I will go into this more in the section about probability distributions.\n",
    "\n",
    "\n",
    ">`numpy.random.randn(d0, d1, ..., dn)`Return a sample (or samples) from the “standard normal” distribution.\n",
    "\n",
    ">This is a convenience function. If you want an interface that takes a tuple as the first argument, use numpy.random.standard_normal instead."
   ]
  },
  {
   "cell_type": "code",
   "execution_count": null,
   "metadata": {},
   "outputs": [],
   "source": [
    "np.random.randn(3,2) # a 3 by 2 array of samples from standard normal distribution. This will have 3 times 2 values\n"
   ]
  },
  {
   "cell_type": "code",
   "execution_count": null,
   "metadata": {},
   "outputs": [],
   "source": [
    "np.random.randn(10)"
   ]
  },
  {
   "cell_type": "code",
   "execution_count": null,
   "metadata": {},
   "outputs": [],
   "source": [
    "np.random.randn(10,5) # a 10 by 5 array with 50 values"
   ]
  },
  {
   "cell_type": "markdown",
   "metadata": {},
   "source": [
    "scaling using the example in the documentation"
   ]
  },
  {
   "cell_type": "code",
   "execution_count": null,
   "metadata": {},
   "outputs": [],
   "source": [
    "# Two-by-four array of samples from N(3, 6.25):\n",
    "\n",
    "2.5 * np.random.randn(2, 4) + 3"
   ]
  },
  {
   "cell_type": "code",
   "execution_count": null,
   "metadata": {},
   "outputs": [],
   "source": [
    "numpy.random.standard_normal()  ## "
   ]
  },
  {
   "cell_type": "code",
   "execution_count": null,
   "metadata": {},
   "outputs": [],
   "source": [
    "numpy.random.standard_normal(3)"
   ]
  },
  {
   "cell_type": "markdown",
   "metadata": {},
   "source": [
    "Unlike` numpy.random.randn()`, to get an array of random values rather than a single value, you need to provide a tuple."
   ]
  },
  {
   "cell_type": "code",
   "execution_count": null,
   "metadata": {},
   "outputs": [],
   "source": [
    "numpy.random.standard_normal((3,2))"
   ]
  },
  {
   "cell_type": "code",
   "execution_count": null,
   "metadata": {},
   "outputs": [],
   "source": []
  },
  {
   "cell_type": "markdown",
   "metadata": {},
   "source": [
    "The python `random` package has a `gauss()` function which is used to sample random floats from a gaussian distribution. Unlike the `numpy.random.randn()` or `numpy.numpy.random.standard_normal` you do need to supply the parameters here for the mean and the standard deviation of the distribution from which the random values will be drawn. "
   ]
  },
  {
   "cell_type": "code",
   "execution_count": null,
   "metadata": {},
   "outputs": [],
   "source": [
    "random.gauss(1,3)"
   ]
  },
  {
   "cell_type": "code",
   "execution_count": null,
   "metadata": {},
   "outputs": [],
   "source": [
    "random.gauss(0,1)"
   ]
  },
  {
   "cell_type": "code",
   "execution_count": null,
   "metadata": {},
   "outputs": [],
   "source": [
    "np.random.randn()"
   ]
  },
  {
   "cell_type": "code",
   "execution_count": null,
   "metadata": {},
   "outputs": [],
   "source": [
    "\n",
    "import random\n",
    "myseq =[]\n",
    "for i in range(10):  ## use a loop to generate a sequence of random numbers\n",
    "    random_gauss = random.gauss(0,1) # mean is 0, standard deviation is 10\n",
    "    myseq.append(random_gauss)\n",
    "print(*myseq, sep = \",\")"
   ]
  },
  {
   "cell_type": "markdown",
   "metadata": {},
   "source": [
    "## The `numpy.random.random_sample()` function and other similar functions:\n",
    "- `numpy.random.random()`  \n",
    "- `numpy.random.ranf()` and \n",
    "- `numpy.random.sample()`\n",
    "\n",
    "\n",
    "The `numpy.random.random_sample()`  function will return random floats in the half-open interval `[0.0, 1.0).` The results are from the “continuous uniform” distribution over the stated interval. \n",
    "\n",
    "You can specify a different half-open interval `[a,b)` where b > a, by multiplying the output of `random_sample` by (b-a) and adding a to the result\n",
    "\n",
    "\n",
    "This function takes an optional size parameter which can be an integer or a tuple of integers. This will determine the shape of the output. If no parameter is provided, the default is None and this results in a single value.\n",
    "\n",
    "The other three functions mentioned above seem to have similar inputs and outputs, so what is the difference??\n",
    "\n",
    "I will also look at the other three functions that seem to have similar output according to the documentation. The examples with each of these functions in the documentation actually all refer to the `np.random.random_sample()`!. I will look into this. Maybe some of these functions have been deprecated like the `random.random_integers` function although they are not generating such as error message.\n",
    "\n",
    "- `np.random.random_sample([size])` returns random floats in the half-open interval `[0.0, 1.0)`  \n",
    "- `np.random.random([size])` also returns random floats in the half-open interval` [0.0, 1.0)`.\n",
    "- `np.random.ranf([size])` again returns random floats in the half-open interval `[0.0, 1.0)`.\n",
    "- `np.random.sample([size])` returns random floats in the half-open interval `[0.0, 1.0)`.\n",
    "\n",
    "paraphrasing from the docs:\n",
    "`np.random.random_sample` takes an optional size parameter which can be an integer or a tuple of integers. The default size = None. Without passing a size parameter you will just get a single value, otherwise an array of floats of the shape size passed to the function. \n",
    "(If the given shape is, e.g., (m, n, k), then m * n * k samples are drawn). \n",
    "\n",
    "`np.random()` takes an optional size parameter which again can be a integer or a tuple of integers and returns an array of random floats of shape size. Without passing a size parameter, the default is again None and a single float is returned.\n",
    "Array of random floats of shape size (unless size=None, in which case a single float is returned).\n",
    "\n",
    "`np.random.ranf` and `np.random.sample` also seems to have the same behaviours, taking an optional size parameter which can be an integer or a tuple of integers\n"
   ]
  },
  {
   "cell_type": "code",
   "execution_count": null,
   "metadata": {},
   "outputs": [],
   "source": [
    "import numpy as np\n",
    "import numpy.random\n",
    "\n",
    "np.random.random_sample()# returns a single value in the half-open interval `[0.0,1.0)`\n",
    "np.random.random()\n",
    "np.random.ranf()\n",
    "np.random.sample()\n"
   ]
  },
  {
   "cell_type": "code",
   "execution_count": null,
   "metadata": {},
   "outputs": [],
   "source": [
    "type(np.random.random_sample())\n",
    "type(np.random.random())\n",
    "type(np.random.ranf())\n",
    "type(np.random.sample())"
   ]
  },
  {
   "cell_type": "code",
   "execution_count": null,
   "metadata": {},
   "outputs": [],
   "source": [
    "np.random.random_sample((5,)) # returns 5 values in the half open interval `[0.0,1.0]`\n",
    "np.random.random((5,))\n",
    "np.random.ranf((5,))\n",
    "np.random.sample((5,))"
   ]
  },
  {
   "cell_type": "code",
   "execution_count": null,
   "metadata": {},
   "outputs": [],
   "source": [
    "np.random.random_sample((5,2)) # returns a 5-by-2 array in the half open interval `[0.0,1.0]`\n",
    "np.random.random((5,2))\n",
    "np.random.ranf((5,2))\n",
    "np.random.sample((5,2))"
   ]
  },
  {
   "cell_type": "code",
   "execution_count": null,
   "metadata": {},
   "outputs": [],
   "source": [
    "4 * np.random.random_sample((3, 2)) - 4 # returns a 3-by-2 array of random numbers from [-4, 0). \n",
    "4 * np.random.random((3, 2)) - 4 # returns a 3-by-2 array of random numbers from [-4, 0). \n",
    "4 * np.random.ranf((3, 2)) - 4 # returns a 3-by-2 array of random numbers from [-4, 0). \n",
    "4 * np.random.sample((3, 2)) - 4 # returns a 3-by-2 array of random numbers from [-4, 0).\n"
   ]
  },
  {
   "cell_type": "code",
   "execution_count": null,
   "metadata": {},
   "outputs": [],
   "source": [
    "np.random.sample(2) # returns 2 values in the half open interval `[0.0,1.0]`"
   ]
  },
  {
   "cell_type": "markdown",
   "metadata": {},
   "source": [
    "## the numpy random.random function.\n",
    "This function returns random floats in the half-open interval `[0.0, 1.0)`. The results are from the “continuous uniform” distribution over the stated interval. This seems to be similar to the `numpy.random_sample()` function above so what is the difference?\n",
    "\n"
   ]
  },
  {
   "cell_type": "code",
   "execution_count": null,
   "metadata": {},
   "outputs": [],
   "source": []
  },
  {
   "cell_type": "markdown",
   "metadata": {},
   "source": [
    "## numpy.random.choice\n",
    "`numpy.random.choice(a, size=None, replace=True, p=None)`\n",
    "\n",
    "The `numpy.random.choice` function generates a random sample from the elements of a one-dimensional array. You can  provide the one-dimensional array as an argument or else an integer to create an array using the np.arange function. The sample returned may be a single value or an ndarray of values if you specified the size to the function. You can also specify if the sample should be drawn with or without replacement but it will default to replacement being true. You can also provide the probabilities associated with each of the elements of the input array, otherwise it will assume a uniform distribution over all the elements in the input array. \n",
    "\n",
    "The `numpy.random.choice` function can also be used on an array of elements other than integers. This is similar to the `choice` function in the python random module which randomly chooses items from a provided list.\n",
    "\n",
    "\n"
   ]
  },
  {
   "cell_type": "code",
   "execution_count": null,
   "metadata": {},
   "outputs": [],
   "source": [
    "array1 = np.random.randint(0,5,3)\n",
    "\n",
    "print(f\"This array \\n{array1} is a {array1.ndim} dimensional array, each dimension is of {array1.shape} shape and the array has a total number of {array1.size}  elements\")"
   ]
  },
  {
   "cell_type": "code",
   "execution_count": null,
   "metadata": {},
   "outputs": [],
   "source": [
    "array1 = np.random.choice(5, 3)\n",
    "\n",
    "print(f\"This array \\n{array1} is a {array1.ndim} dimensional array, each dimension is of {array1.shape} shape and the array has a total number of {array1.size}  elements\")"
   ]
  },
  {
   "cell_type": "code",
   "execution_count": null,
   "metadata": {},
   "outputs": [],
   "source": [
    "np.random.choice(10)"
   ]
  },
  {
   "cell_type": "markdown",
   "metadata": {},
   "source": [
    "`np.random.choice()` will result in a Type error as the function requires at least 1 positional argument."
   ]
  },
  {
   "cell_type": "markdown",
   "metadata": {},
   "source": [
    "You can supply more parameters to the function. \n",
    "By providing the `p` probabilites, a non-uniform random sample is generated. \n",
    "By providing a size parameter, more than one value is sampled.\n",
    "The number of probabilities should equal the size parameter and the probabilities must sum to 1.0, otherwise an error results.\n",
    "You can specify than the random sample is without replacement so that the same element cannot be chosen again."
   ]
  },
  {
   "cell_type": "code",
   "execution_count": null,
   "metadata": {},
   "outputs": [],
   "source": [
    "np.random.choice(5, 4, p=[0.2, 0.1, 0.3, 0.1, 0.3])"
   ]
  },
  {
   "cell_type": "code",
   "execution_count": null,
   "metadata": {},
   "outputs": [],
   "source": [
    "np.random.choice(['a','b','c','d','e','f'], 5, p=[0.2, 0.15, 0.15, 0.3, 0.1, 0.1])"
   ]
  },
  {
   "cell_type": "code",
   "execution_count": null,
   "metadata": {},
   "outputs": [],
   "source": [
    "np.random.choice(['a','b','c','d','e','f'], 5, p=[0.2, 0.15, 0.15, 0.3, 0.1, 0.1], replace = False)"
   ]
  },
  {
   "cell_type": "markdown",
   "metadata": {},
   "source": [
    "The python `random` module also has a `choice()` function which is used to randomly select items from a list.\n",
    "[random.choice](https://docs.python.org/3/library/random.html#functions-for-sequences) returns a random element from a sequence. "
   ]
  },
  {
   "cell_type": "code",
   "execution_count": null,
   "metadata": {},
   "outputs": [],
   "source": [
    "random.choice(['win', 'lose', 'draw']) "
   ]
  },
  {
   "cell_type": "code",
   "execution_count": null,
   "metadata": {},
   "outputs": [],
   "source": [
    "numpy.random.choice(['win', 'lose', 'draw']) "
   ]
  },
  {
   "cell_type": "code",
   "execution_count": null,
   "metadata": {},
   "outputs": [],
   "source": []
  },
  {
   "cell_type": "markdown",
   "metadata": {},
   "source": [
    "<a id='task2.2'></a>\n",
    "## 2.1 Permutations functions\n",
    "\n",
    "[Back to top](#toc)\n",
    "\n",
    "Explain the use of the “Permutations” functions. \n",
    "\n",
    "There are two permutations functions in the numpy random sampling package. (numpy.random)\n",
    "\n",
    "- shuffle(x) to Modify a sequence in-place by shuffling its contents.\n",
    "- permutation(x) to Randomly permute a sequence, or return a permuted range.\n",
    "\n",
    "The numpy`shuffle` function shuffles a sequence in place so that the sequence provided to it is actually shuffled and not just a copy of the sequence."
   ]
  },
  {
   "cell_type": "markdown",
   "metadata": {},
   "source": [
    "### numpy.random.shuffle\n",
    "`numpy.random.shuffle(x)` is used to modify a sequence in-place by shuffling its contents.\n",
    "\n",
    "This function is used to shuffle an numpy array in-place. The contents of the numpy array is shuffled so that the contents are still the same but in a different order.\n",
    "\n",
    ">This function only shuffles the array along the first axis of a multi-dimensional array. The order of sub-arrays is changed but their contents remains the same.\n"
   ]
  },
  {
   "cell_type": "code",
   "execution_count": null,
   "metadata": {},
   "outputs": [],
   "source": [
    "import numpy as np"
   ]
  },
  {
   "cell_type": "code",
   "execution_count": null,
   "metadata": {},
   "outputs": [],
   "source": [
    "arr = np.arange(20)  # the original array\n",
    "arr\n",
    "np.random.shuffle(arr) ## the shuffled array\n",
    "arr\n"
   ]
  },
  {
   "cell_type": "markdown",
   "metadata": {},
   "source": [
    ">This function only shuffles the array along the first axis of a multi-dimensional array. The order of sub-arrays is changed but their contents remains the same."
   ]
  },
  {
   "cell_type": "code",
   "execution_count": null,
   "metadata": {},
   "outputs": [],
   "source": [
    "arr = np.arange(12).reshape((3, 4))  ## create a 3 by 4 two-dimensional array\n",
    "arr\n",
    "arr.ndim\n",
    "arr.shape\n",
    "np.random.shuffle(arr)\n",
    "arr"
   ]
  },
  {
   "cell_type": "code",
   "execution_count": null,
   "metadata": {},
   "outputs": [],
   "source": []
  },
  {
   "cell_type": "markdown",
   "metadata": {},
   "source": [
    "### numpy.random.permutation\n",
    "\n",
    "\n",
    "Randomly permute a sequence, or return a permuted range.\n",
    "\n",
    "If x is a multi-dimensional array, it is only shuffled along its first index.\n",
    "\n",
    "Parameters:\t\n",
    "x : int or array_like\n",
    "If x is an integer, randomly permute np.arange(x). If x is an array, make a copy and shuffle the elements randomly.\n",
    "Returns:\t\n",
    "out : ndarray\n",
    "\n",
    "\n"
   ]
  },
  {
   "cell_type": "code",
   "execution_count": null,
   "metadata": {},
   "outputs": [],
   "source": [
    "np.random.permutation(10)\n"
   ]
  },
  {
   "cell_type": "code",
   "execution_count": null,
   "metadata": {},
   "outputs": [],
   "source": [
    "np.random.permutation([1, 4, 9, 12, 15])"
   ]
  },
  {
   "cell_type": "code",
   "execution_count": null,
   "metadata": {},
   "outputs": [],
   "source": [
    "arr = np.arange(9).reshape((3, 3))\n",
    "np.random.permutation(arr)\n"
   ]
  },
  {
   "cell_type": "markdown",
   "metadata": {},
   "source": [
    "The python `random` package also has a function for shuffling a list of items in place.\n",
    "`random.shuffle`."
   ]
  },
  {
   "cell_type": "markdown",
   "metadata": {},
   "source": [
    "[Back to top](#toc)"
   ]
  },
  {
   "cell_type": "code",
   "execution_count": null,
   "metadata": {},
   "outputs": [],
   "source": []
  },
  {
   "cell_type": "code",
   "execution_count": null,
   "metadata": {},
   "outputs": [],
   "source": []
  },
  {
   "cell_type": "markdown",
   "metadata": {},
   "source": [
    "<a id='task3'></a>\n",
    "# 3. Explain the use and purpose of at least five “Distributions” functions.\n",
    "\n",
    "[Back to top](#toc)  \n",
    "\n",
    "Random numbers can be drawn from different probability distributions. \n",
    "\n",
    "use some plots and statistics here to show the differences between the types of random numbers that would be generated from the different probability distributions.)\n",
    "\n",
    "All these functions just generate different random numbers according to different probabilities over different intervals.\n",
    "Pick a handful and show the differences between them. Need to have a programming knowledge of them.\n",
    "\n"
   ]
  },
  {
   "cell_type": "markdown",
   "metadata": {},
   "source": [
    "What are Distributions. "
   ]
  },
  {
   "cell_type": "markdown",
   "metadata": {},
   "source": [
    "<img src=\"/Distributions.png\" width=\"400\" alt=\"NumPy Distributions\" />"
   ]
  },
  {
   "cell_type": "markdown",
   "metadata": {},
   "source": [
    "## Numpy Random Distribution Functions. \n",
    "\n",
    "***\n",
    "Here I am just going through some  of my old notes from a statistics college course to refresh myself!\n",
    "Also referring to [Mathworld.wolfram.com](http://mathworld.wolfram.com), [statttrk.com](https://stattrek.com/statistics/dictionary.aspx?definition=random%20variable), [Wikipedia](https://en.wikipedia.org/wiki/Normal_distribution) and other sources.\n",
    "\n",
    "***\n",
    "\n",
    "**Probability** is a mathematical expression of uncertainty of the chance of a random variable taking on particular values.\n",
    "According to [wolfram mathworld](http://mathworld.wolfram.com/Probability.html), **probability**\n",
    ">is the branch of mathematics that studies the possible outcomes of given events together with the outcomes' relative likelihoods and distributions. In common usage, the word \"probability\" is used to mean the chance that a particular event (or set of events) will occur expressed on a linear scale from 0 (impossibility) to 1 (certainty), also expressed as a percentage between 0 and 100%. The analysis of events governed by probability is called statistics.\n",
    "\n",
    "A **random variable** is a variable that assumes numerical values associated with the random outcome of an experiment where one (and only one) numerical value is assigned to each sample point. A random variable is any quantity that is assumed to have a probability distribution.\n",
    "A random variable is **discrete** if its set of possible values is a collection of isolated points on the number line. It is **continuous** if its set of possible values is an entire interval on the number line.\n",
    "Discrete random variables almost always come from counting while continuous random variables mostly come from measurement.\n",
    "\n",
    "A **probability distribution** is a complete description of a random variable specifying all possible values it can have and the probability associated with each one.\n",
    "A probability distribution is a table or an equation that links each possible value that a random variable can assume with its probability of occurrence. [probability distribution definition](https://stattrek.com/probability/probability-distribution.aspx?tutorial=prob)\n",
    "\n",
    "The probability distribution of a discrete random variable is often known as a probability function or a probability mass function, it can be displayed as a graph, table or mathematical formula that specifies the probability associated with each possible value the random variable can assume.\n",
    "A probability distribution for a continuous random variable x is specified by a mathematical function f(x) called a probability density function, a frequency function or a probability distribution.\n",
    "\n",
    "**Random Numbers**  \n",
    "\n",
    "Random numbers can be drawn from different probability distributions. The NumPy Random module has many functions that can be used to generate random numbers from various probability distributions over different intervals. Below I will go through several of these numpy.random distribution functions and use plots and statistics to show the differences between the types of random numbers that would be generated from the different probability distributions.\n",
    "\n",
    "\n"
   ]
  },
  {
   "cell_type": "markdown",
   "metadata": {},
   "source": [
    "learning latex...\n",
    "$e^{i\\pi} + 1 = 0$\n",
    "$$e^x=\\sum_{i=0}^\\infty \\frac{1}{i!}x^i$$"
   ]
  },
  {
   "cell_type": "markdown",
   "metadata": {},
   "source": [
    "## Normal Distribution Function\n",
    "\n",
    "The [numpy.random.normal](https://numpy.org/doc/1.16/reference/generated/numpy.random.normal.html#numpy-random-normal) function is used to draw random samples from a normal (Gaussian) distribution. \n",
    "\n",
    ">The probability density function of the normal distribution, first derived by De Moivre and 200 years later by both Gauss and Laplace independently, is often called the bell curve because of its characteristic shape .\n",
    "\n",
    ">The normal distributions occurs often in nature. For example, it describes the commonly occurring distribution of samples influenced by a large number of tiny, random disturbances, each with its own unique distribution.\n",
    "\n",
    "\n",
    "[stattrek](https://stattrek.com/statistics/dictionary.aspx?definition=random%20variable) defines the normal distribution as a probability distribution that associates the normal random variable X with a cumulative probability.\n",
    "\n",
    "The normal distribution is also known as the Gaussian Distribution or the Bell Curve.\n",
    "\n",
    "According to \"The Art of Statistics\", The normal distribution can be expected to occur for phenomena that are driven by large numbers of small influences. \n",
    "When all the small influences are added up you get a normal distribution.\n",
    "\n",
    "[numpy.random.normal(loc=0.0, scale=1.0, size=None)](https://numpy.org/doc/1.16/reference/generated/numpy.random.normal.html#numpy-random-normal) depends on two factors, the mean and the standard deviation. Normal distributions resemble a symmetric bell-shaped curve when plotted.\n",
    "\n",
    "The mean of the distribution determines the location of the center of the graph. The standard deviation determines the height and shape or spread of the graph. When the standard deviation is large, the curve is short and wide and when the standard deviation is small, the curve is tall and narrow. \n",
    "\n",
    "A normal distribution has a bell-shaped density curve described by its mean μ and standard deviation σ. The density curve is symmetrical and centered about its mean. The spread is determined by the standard deviation. Data points near the mean occur more frequently than data points that are far from the mean. \n",
    "\n"
   ]
  },
  {
   "cell_type": "code",
   "execution_count": 5,
   "metadata": {},
   "outputs": [
    {
     "data": {
      "image/png": "[encoded data removed]",
      "text/plain": [
       "<Figure size 432x288 with 1 Axes>"
      ]
     },
     "metadata": {
      "needs_background": "light"
     },
     "output_type": "display_data"
    }
   ],
   "source": [
    "# using the example from the documentation to start with\n",
    "import numpy as np\n",
    "mu, sigma = 0, 0.1 # mean and standard deviation\n",
    "x = np.random.normal(mu, sigma, 10000)\n",
    "#plt.hist(x)\n",
    "\n",
    "\n",
    "sns.distplot(x);  # using seaborn"
   ]
  },
  {
   "cell_type": "code",
   "execution_count": null,
   "metadata": {},
   "outputs": [],
   "source": []
  },
  {
   "cell_type": "markdown",
   "metadata": {},
   "source": [
    "Centred around the mean of 0 and "
   ]
  },
  {
   "cell_type": "code",
   "execution_count": 6,
   "metadata": {},
   "outputs": [
    {
     "data": {
      "image/png": "[encoded data removed]",
      "text/plain": [
       "<Figure size 432x288 with 1 Axes>"
      ]
     },
     "metadata": {
      "needs_background": "light"
     },
     "output_type": "display_data"
    }
   ],
   "source": [
    "# changing some of the parameters and seeing what happens\n",
    "mu, sigma = 10, 1 # mean and standard deviation\n",
    "x = np.random.normal(mu, sigma, 10000)\n",
    "sns.distplot(x);  # using seaborn\n",
    "\n"
   ]
  },
  {
   "cell_type": "markdown",
   "metadata": {},
   "source": [
    "numpy.random.normal()"
   ]
  },
  {
   "cell_type": "code",
   "execution_count": 7,
   "metadata": {},
   "outputs": [
    {
     "data": {
      "image/png": "[encoded data removed]",
      "text/plain": [
       "<Figure size 432x288 with 1 Axes>"
      ]
     },
     "metadata": {
      "needs_background": "light"
     },
     "output_type": "display_data"
    }
   ],
   "source": [
    "# changing some of the parameters again and seeing what happens\n",
    "mu, sigma = 100, 10 # mean and standard deviation\n",
    "x = np.random.normal(mu, sigma, 10000)\n",
    "sns.distplot(x);  # using seaborn\n",
    "\n"
   ]
  },
  {
   "cell_type": "code",
   "execution_count": 8,
   "metadata": {},
   "outputs": [
    {
     "data": {
      "text/plain": [
       "0.583080301399359"
      ]
     },
     "execution_count": 8,
     "metadata": {},
     "output_type": "execute_result"
    }
   ],
   "source": [
    "import numpy as np\n",
    "\n",
    "np.random.normal()"
   ]
  },
  {
   "cell_type": "markdown",
   "metadata": {},
   "source": [
    "## The Standard Normal Distribution function\n",
    "The [standard normal distribution](https://stattrek.com/statistics/dictionary.aspx?definition=random%20variable) is a special case of the normal distribution. \n",
    ">It is the distribution that occurs when a normal random variable has a mean of zero and a standard deviation of one.  The normal random variable of a standard normal distribution is called a standard score or a z score. Every normal random variable X can be transformed into a z score\n",
    "\n",
    "The [numpy.random.standard_normal](https://numpy.org/doc/1.16/reference/generated/numpy.random.standard_normal.html#numpy-random-standard-normal) is used to draw samples from a standard Normal distribution with a mean of 0 and a standard deviation of 1.\n",
    "\n",
    "`numpy.random.standard_normal(size=None)`\n",
    "Draw samples from a standard Normal distribution (mean=0, stdev=1).\n",
    "\n",
    "Parameters:\n",
    "size : int or tuple of ints, optional\n",
    "Output shape. If the given shape is, e.g., (m, n, k), then m * n * k samples are drawn. Default is None, in which case a single value is returned.\n"
   ]
  },
  {
   "cell_type": "code",
   "execution_count": 14,
   "metadata": {},
   "outputs": [
    {
     "data": {
      "text/plain": [
       "array([ 0.74949295,  0.23686874,  1.02740991, ...,  0.84082985,\n",
       "        1.44502307, -0.27478106])"
      ]
     },
     "execution_count": 14,
     "metadata": {},
     "output_type": "execute_result"
    },
    {
     "data": {
      "text/plain": [
       "<matplotlib.axes._subplots.AxesSubplot at 0x1a1b7e30f0>"
      ]
     },
     "execution_count": 14,
     "metadata": {},
     "output_type": "execute_result"
    },
    {
     "data": {
      "image/png": "[encoded data removed]",
      "text/plain": [
       "<Figure size 432x288 with 1 Axes>"
      ]
     },
     "metadata": {
      "needs_background": "light"
     },
     "output_type": "display_data"
    }
   ],
   "source": [
    "# using the example from the documentation to start with\n",
    "s = np.random.standard_normal(8000)\n",
    "s\n",
    "\n",
    "sns.distplot(s)\n",
    "\n",
    "\n",
    "\n"
   ]
  },
  {
   "cell_type": "code",
   "execution_count": null,
   "metadata": {},
   "outputs": [],
   "source": []
  },
  {
   "cell_type": "code",
   "execution_count": 9,
   "metadata": {},
   "outputs": [
    {
     "data": {
      "text/plain": [
       "1.6587361578731612"
      ]
     },
     "execution_count": 9,
     "metadata": {},
     "output_type": "execute_result"
    }
   ],
   "source": [
    "np.random.standard_normal()"
   ]
  },
  {
   "cell_type": "markdown",
   "metadata": {},
   "source": [
    "## The Uniform distribution\n",
    "\n",
    "A uniform distribution, sometimes also known as a rectangular distribution, is a distribution that has constant probability.\n",
    "\n",
    "#### numpy.random.uniform function.\n",
    "Note that this is related to the `random.rand` function earlier.\n"
   ]
  },
  {
   "cell_type": "code",
   "execution_count": null,
   "metadata": {},
   "outputs": [],
   "source": [
    "x = np.random.uniform(-1,0,1000) \n",
    "sns.distplot(x);  # using seaborn"
   ]
  },
  {
   "cell_type": "markdown",
   "metadata": {},
   "source": [
    "low is the lower bound of the interval, high is the upper bound of the interval. Note that the lower bound is included but the upper bound of 1 is not included.\n",
    "When you put the bigger number before the smaller number it seems to just take the bigger number as the upper bound and the smaller number as the lower bound. \n",
    "Try and put low before high. \n",
    "\n",
    "rand only gives you random uniform numbers between 0 and 1 whereas this uniform function will give you numbers in any range."
   ]
  },
  {
   "cell_type": "code",
   "execution_count": null,
   "metadata": {},
   "outputs": [],
   "source": [
    "np.random.uniform(10,9,10) \n"
   ]
  },
  {
   "cell_type": "code",
   "execution_count": null,
   "metadata": {},
   "outputs": [],
   "source": [
    "x = np.random.uniform(-100,100,10000) \n",
    "sns.distplot(x);  # using seaborn"
   ]
  },
  {
   "cell_type": "markdown",
   "metadata": {},
   "source": [
    "## The Binomial distribution.\n",
    "\n",
    "\n",
    "### numpy.random.binomial\n",
    "\n",
    "http://mathworld.wolfram.com/BinomialDistribution.html\n",
    "\n",
    "The `numpy.random.binomial` function is used to draw samples from a binomial distribution. \n",
    "\n",
    "\n",
    "One of the most important probability distributions for discrete random variables is the binomial distribution.\n",
    "\n",
    "The [binomial distribution](http://mathworld.wolfram.com/BinomialDistribution.html) gives the discrete probability distribution P_p(n|N) of obtaining exactly n successes out of N Bernoulli trials (where the result of each Bernoulli trial is true with probability p and false with probability q=1-p). \n",
    "\n",
    "\n",
    "\n",
    "\n",
    "\n",
    "\n",
    ">numpy.random.binomial(n, p, size=None)\n",
    "Draw samples from a binomial distribution.\n",
    "\n",
    ">Samples are drawn from a binomial distribution with specified parameters, n trials and p probability of success where n an integer >= 0 and p is in the interval [0,1]. (n may be input as a float, but it is truncated to an integer in use)\n",
    "\n",
    ">Parameters:\t\n",
    "n : int or array_like of ints\n",
    "Parameter of the distribution, >= 0. Floats are also accepted, but they will be truncated to integers.\n",
    "p : float or array_like of floats\n",
    "Parameter of the distribution, >= 0 and <=1.\n",
    "size : int or tuple of ints, optional\n",
    "Output shape. If the given shape is, e.g., (m, n, k), then m * n * k samples are drawn. If size is None (default), a single value is returned if n and p are both scalars. Otherwise, np.broadcast(n, p).size samples are drawn.\n",
    "Returns:\t\n",
    "out : ndarray or scalar\n",
    "Drawn samples from the parameterized binomial distribution, where each sample is equal to the number of successes over the n trials."
   ]
  },
  {
   "cell_type": "code",
   "execution_count": null,
   "metadata": {},
   "outputs": [],
   "source": [
    "n, p = 100, .5  # number of trials, probability of each trial\n",
    "x = np.random.binomial(n, p, 10000)\n",
    "sns.distplot(x);  # using seaborn"
   ]
  },
  {
   "cell_type": "code",
   "execution_count": null,
   "metadata": {},
   "outputs": [],
   "source": [
    "n, p = 10, .5  # number of trials, probability of each trial\n",
    "s = np.random.binomial(n, p, 10000)\n",
    "plt.hist(s)"
   ]
  },
  {
   "cell_type": "code",
   "execution_count": null,
   "metadata": {},
   "outputs": [],
   "source": []
  },
  {
   "cell_type": "markdown",
   "metadata": {},
   "source": [
    "<a id='task4'></a>\n",
    "# 4. Explain the use of seeds in generating pseudorandom numbers.\n",
    "[Back to top](#toc)  \n",
    "\n",
    "See the section https://docs.scipy.org/doc/numpy-1.16.0/reference/routines.random.html#random-generator\n",
    "\n",
    "Random Generator.\n",
    "- `RandomState([seed])`\n",
    "- `seed([seed])`\n",
    "-` get_state()`  is used to capture the state of random at any time, returns a tuple representing the internal state of the generator.   \n",
    "- `set_state(state)`  sets the internal state of the generator from the tuple and is used if for any reason you want to manually reset the internal state of the \"Mersenne Twister\"\n",
    "\n",
    "The tuple returned from `getstate` can be passed to `setstate` method to duplicate the generation at that moment.\n"
   ]
  },
  {
   "cell_type": "markdown",
   "metadata": {},
   "source": [
    "<a id='task4'></a>\n",
    "# 4. Explain the use of seeds in generating pseudorandom numbers.\n",
    "[Back to top](#toc)  \n",
    "\n",
    "### Pseudo-random number generators (PRNG's) and seeds\n",
    "\n",
    "***\n",
    "A **seed** is a number that is used to initialise a pseudorandom number generator. By setting the seed, the original seed is ignored and numbers will be generated in a pseudorandom manner. If you reinitialise a random number generator with the same seed then the same sequence of numbers will be produced. \n",
    "\n",
    "According to [statisticshowto](https://www.statisticshowto.datasciencecentral.com/random-seed-definition/), a random seed specifies the start point when a computer generates a random number. The random seed can be any number but it usually comes from seconds on the computer system's clock which counts in seconds from January 1, 1970.  (known as Unix time). This ensures that the same random sequence won't be repeated unless you actually want it to. \n",
    "\n",
    "Computer programs generate random numbers in a *deterministic* way - that is they follow a very particular set of rules to generate the random numbers, which means therefore that the random numbers are not actually random at all!\n",
    "Randomness is instead being imitated. The algorithms behind computer number generation are based on patterns which generate numbers that follow particular **probability distributions**. Setting a seed will produce the same sequence of random numbers each time. \n",
    "\n",
    "https://pynative.com/python-random-seed/\n",
    ">Random number or data generated by Python’s random module is not truly random, it is pseudo-random(it is PRNG), i.e. deterministic. It produces the numbers from some value. This value is nothing but a seed value. i.e. The random module uses the seed value as a base to generate a random number.\n",
    "\n",
    ">Generally, the seed value is the previous number generated by the generator. However, When the first time you use the random generator, there is no previous value. So by-default current system time is used as a seed value.\n",
    " \n",
    "\n",
    "There are many different ways to generate pseudo-random numbers. Python uses the **Mersenne Twister** as the core generator. According to [wikipedia](https://en.m.wikipedia.org/wiki/Mersenne_Twister), the Mersenne Twister is  a pseudorandom number generator (PRNG) and is by far the most widely used general-purpose PRNG whose name derives from the fact that its period length is chosen to be a Mersenne prime (a prime number that is one less than a power of two. That is, it is a prime number of the form Mn = 2n − 1 for some integer n.).\n",
    "\n",
    "There are times when you may wish to recreate the exact same sequence of random numbers.  Pseudo random number generators can be **seeded** which makes them **deterministic** and the series of random values can therefore be exactly recreated. A seed is an input to the random number generator as the starting point of the process. The computer's system time is usually used for the seed and this is used in an algorithm to generate some (pseudo) random values. If you provide the seed as an input to the process this tells the program not to generate its own random seed at the start from the computer's clock (to the microsecond) but instead use the seed you provide\n",
    " \n",
    "\n",
    "In summary, random (pseudorandom) numbers are drawn from a probability distribution. The numbers generated depend on the *seed* used and are generated according to some deterministic algorithm from that seed. The numbers that are output depend on the algorithm and the input seed.\n",
    "\n"
   ]
  },
  {
   "cell_type": "markdown",
   "metadata": {},
   "source": []
  },
  {
   "cell_type": "markdown",
   "metadata": {},
   "source": [
    "## using numpy.random.seed function\n",
    "\n",
    "Numpy random seed function is used to create completely repeatable or reproducible results.\n",
    "The seed function works with other numpy random functions to create particular types of random numbers, such as numbers from various probability distributions. \n",
    "If a numpy random function is used together with a particular seed, then the very same set of random numbers can be generated again. \n",
    "\n",
    "The seed value is the input to the numpy random seed function. You **seed** or set the set of the prng. If you run the same function again you will get the same output. The code will produce the exact same output if the same seed is used with the same function, using the same parameters.\n",
    "\n",
    "To get the same random sample of elements from a array of numbers then you also use the numpy random seed function. \n",
    "\n",
    "Prngs are algorithms for producing numbers that appear random. The seed is the starting point for the algorithm. \n",
    "Different numbers used as the seed will produce a different set of pseudo random numbers from the same algorithm as they have a different starting point. If the starting point is the same and the steps in the algorithm are the same, then the outputs will be the same. \n",
    "Any integer can be used (see the documents for exact range) as the input seed. If a different seed is used, a different set of random numbers are generated but if the same number is used, the same sequence is generated. The same principle applies for randomly sampling from a set or array of numbers.\n",
    "If you don't explicitly set the seed, one will be set automatically for you using the system time.\n",
    "\n",
    "\n",
    "Any NumPy random function that is executed with the same seed will produce the exact same result and this will ensure reproducibility.\n",
    "\n",
    "\n",
    "***"
   ]
  },
  {
   "cell_type": "markdown",
   "metadata": {},
   "source": [
    "From the documentation:\n",
    "\n",
    "#### numpy.random.seed\n",
    "\n",
    "`numpy.random.seed(seed=None)`  # Seed the generator.\n",
    "\n",
    "This method is called when `RandomState` is initialized. It can be called again to re-seed the generator. \n",
    "\n",
    "Parameters: \n",
    "seed : int or 1-d array_like, optional\n",
    "Seed for RandomState. Must be convertible to 32 bit unsigned integers.\n",
    "\n",
    "#### numpy.random.RandomState\n",
    "\n",
    "class **numpy.random.RandomState(seed=None)** Container for the Mersenne Twister pseudo-random number generator.\n",
    "\n",
    "`RandomState` exposes a number of methods for generating random numbers drawn from a variety of probability distributions. In addition to the distribution-specific arguments, each method takes a keyword argument size that defaults to None. If size is None, then a single value is generated and returned. If size is an integer, then a 1-D array filled with generated values is returned. If size is a tuple, then an array with that shape is filled and returned.\n",
    "\n",
    "\n",
    "Parameters:\n",
    "seed : {None, int, array_like}, optional\n",
    "Random seed used to initialize the pseudo-random number generator. Can be any integer between 0 and `2**32 - 1` inclusive, an array (or other sequence) of such integers, or None (the default). If seed is None, then RandomState will try to read data from `/dev/urandom` (or the Windows analogue) if available or seed from the clock otherwise.\n"
   ]
  },
  {
   "cell_type": "code",
   "execution_count": 1,
   "metadata": {},
   "outputs": [],
   "source": [
    "#np.random.get_state()"
   ]
  },
  {
   "cell_type": "markdown",
   "metadata": {},
   "source": [
    "#### Here I will demonstrate using the numpy random functions, with and without setting the seed of the random number generator.\n",
    "\n",
    "When I use the `random.seed` method with any integer (in the accepatable range) then the same sequence of random numbers will be generated when this number is used to seed the generator again. It doesn't matter what number is used as the seed as long as the same number is used as a seed again when you want to generate the exact same sequence. If a different seed is used, then a different sequence of random numbers will be generated. The output of a random function will depend on the seed used and the algorithm the function uses. \n",
    "Without explicitly specifying a seed, a seed is generated from the system clock. If you don't specify a seed it would be extremely difficult to reprodce the same sequence again. As the default seed is set from the computer systems internal clock (to the millisecond) the seed will change every moment that you use a numpy random function.\n",
    "\n",
    "As the documentation mentions above, the `numpy.random.seed` method is called when `RandomState` is initialized. It can be called again to re-seed the generator.\n",
    "\n",
    "Using a seed with random sampling makes sense if you want reproducible outputs."
   ]
  },
  {
   "cell_type": "markdown",
   "metadata": {},
   "source": [
    "##### Generate random numbers with and without seeding the generator"
   ]
  },
  {
   "cell_type": "code",
   "execution_count": 31,
   "metadata": {},
   "outputs": [
    {
     "data": {
      "text/plain": [
       "0.6027633760716439"
      ]
     },
     "execution_count": 31,
     "metadata": {},
     "output_type": "execute_result"
    },
    {
     "data": {
      "text/plain": [
       "0.5448831829968969"
      ]
     },
     "execution_count": 31,
     "metadata": {},
     "output_type": "execute_result"
    }
   ],
   "source": [
    "\n",
    "np.random.rand() # generate a random float between 0 and 1 without using a seed\n",
    "np.random.rand() # # generate another random float between 0 and 1 without using a seed\n",
    "\n"
   ]
  },
  {
   "cell_type": "code",
   "execution_count": 35,
   "metadata": {},
   "outputs": [
    {
     "data": {
      "text/plain": [
       "0.6964691855978616"
      ]
     },
     "execution_count": 35,
     "metadata": {},
     "output_type": "execute_result"
    },
    {
     "data": {
      "text/plain": [
       "0.6964691855978616"
      ]
     },
     "execution_count": 35,
     "metadata": {},
     "output_type": "execute_result"
    }
   ],
   "source": [
    "np.random.seed(123)  # using a seed with any integer value between 0 and 2**32 -1\n",
    "np.random.rand() # generate a random float between 0 and 1 without using a seed\n",
    "np.random.seed(123) ## using same seed\n",
    "np.random.rand() # produces the same results"
   ]
  },
  {
   "cell_type": "code",
   "execution_count": 32,
   "metadata": {},
   "outputs": [
    {
     "data": {
      "text/plain": [
       "4294967295"
      ]
     },
     "execution_count": 32,
     "metadata": {},
     "output_type": "execute_result"
    }
   ],
   "source": [
    "2**32 - 1"
   ]
  },
  {
   "cell_type": "code",
   "execution_count": 37,
   "metadata": {},
   "outputs": [
    {
     "data": {
      "text/plain": [
       "array([27, 43, 89, 42, 28, 79, 60, 45, 37, 92])"
      ]
     },
     "execution_count": 37,
     "metadata": {},
     "output_type": "execute_result"
    }
   ],
   "source": [
    "np.random.seed(456)\n",
    "np.random.randint(0,100,10)"
   ]
  },
  {
   "cell_type": "code",
   "execution_count": 43,
   "metadata": {},
   "outputs": [
    {
     "data": {
      "text/plain": [
       "array([27, 43, 89, 42, 28, 79, 60, 45, 37, 92, 39, 81, 11, 77, 69, 98, 78,\n",
       "       84, 34, 66])"
      ]
     },
     "execution_count": 43,
     "metadata": {},
     "output_type": "execute_result"
    }
   ],
   "source": [
    "np.random.seed(456)\n",
    "myarray = np.random.randint(0,100,20)\n",
    "myarray"
   ]
  },
  {
   "cell_type": "markdown",
   "metadata": {},
   "source": [
    "##### Random sampling from an array with and without seeding the generator."
   ]
  },
  {
   "cell_type": "code",
   "execution_count": 44,
   "metadata": {},
   "outputs": [
    {
     "data": {
      "text/plain": [
       "array([92, 98, 28, 78])"
      ]
     },
     "execution_count": 44,
     "metadata": {},
     "output_type": "execute_result"
    },
    {
     "data": {
      "text/plain": [
       "array([92, 98, 28, 78])"
      ]
     },
     "execution_count": 44,
     "metadata": {},
     "output_type": "execute_result"
    }
   ],
   "source": [
    "np.random.seed(21)  # set the seed of the random number generator\n",
    "np.random.choice(myarray,4)  # random sample 4 elements from array using a seed\n",
    "np.random.seed(21)\n",
    "np.random.choice(myarray,4)"
   ]
  },
  {
   "cell_type": "code",
   "execution_count": 48,
   "metadata": {},
   "outputs": [
    {
     "data": {
      "text/plain": [
       "array(['a', 'd', 'b'], dtype='<U1')"
      ]
     },
     "execution_count": 48,
     "metadata": {},
     "output_type": "execute_result"
    },
    {
     "data": {
      "text/plain": [
       "array(['a', 'd', 'b'], dtype='<U1')"
      ]
     },
     "execution_count": 48,
     "metadata": {},
     "output_type": "execute_result"
    }
   ],
   "source": [
    "np.random.seed(12)\n",
    "np.random.choice(['a','b','c','d','e','f'], 3, p=[0.2, 0.15, 0.15, 0.3, 0.1, 0.1], replace = False)\n",
    "np.random.seed(12)\n",
    "np.random.choice(['a','b','c','d','e','f'], 3, p=[0.2, 0.15, 0.15, 0.3, 0.1, 0.1], replace = False)"
   ]
  },
  {
   "cell_type": "code",
   "execution_count": 51,
   "metadata": {},
   "outputs": [
    {
     "data": {
      "text/plain": [
       "array(['a', 'e', 'c'], dtype='<U1')"
      ]
     },
     "execution_count": 51,
     "metadata": {},
     "output_type": "execute_result"
    }
   ],
   "source": [
    "np.random.seed(12)\n",
    "np.random.choice(['s','a','u','c','e','m','n'], 3, p=[0.14, 0.28, 0.1, 0.16,0.14, 0.1, 0.08], replace = False)"
   ]
  },
  {
   "cell_type": "markdown",
   "metadata": {},
   "source": [
    "There are various methods of sampling random numbers.\n",
    "With replacement means the number drawn would be placed back in and could be selected again. \n",
    "No replacement means that once a number is chosen, it can no longer be chosen again in the same sample as it is not placed back in the pot. In this way there will be no duplicates.\n",
    "it cannot be selected again in the same sample. It is no longer available and this means there will be no possibility of duplicates.\n",
    "\n",
    "\n",
    "Pythons built-in `random` module implements pseudo-random numbers for various distributions. See [python docs/random library](https://docs.python.org/3/library/random.html). However this built-in`random` module only samples one value at a time and probably uses loops to generate sequences of random numbers.   \n",
    "`numpy.random` provides functions that can efficiently generate arrays of sample values from various probability distributions rather than one value at a time. It is much much faster and more efficient."
   ]
  },
  {
   "cell_type": "code",
   "execution_count": null,
   "metadata": {},
   "outputs": [],
   "source": []
  },
  {
   "cell_type": "code",
   "execution_count": null,
   "metadata": {},
   "outputs": [],
   "source": []
  },
  {
   "cell_type": "code",
   "execution_count": null,
   "metadata": {},
   "outputs": [],
   "source": []
  },
  {
   "cell_type": "code",
   "execution_count": null,
   "metadata": {},
   "outputs": [],
   "source": []
  },
  {
   "cell_type": "markdown",
   "metadata": {},
   "source": [
    "<a id='references'></a>\n",
    "## References\n",
    "- Python for Data Analysis - Chapter 4 NumPy Basics: Arrays and Vectorised Computation by Wes McKinney\n",
    "- [Python Data Science Handbook by Jake VanderPlas ](https://jakevdp.github.io/PythonDataScienceHandbook/) \n",
    "- [Jake VanderPlas Website](http://vanderplas.com)\n",
    "- [numpy quickstart tutorial](https://numpy.org/devdocs/user/quickstart.html)\n",
    "- [NumPy random module](https://numpy.org/devdocs/reference/random/index.html?highlight=random#module-numpy.random), \n",
    "- [python - random library](https://docs.python.org/3/library/random.html#module-random)\n",
    "- Section 4.6 of Python for Data Analysis by Wes McKinney\n",
    "- [GitHub Flavoured Markdown](https://github.github.com/gfm/)\n",
    "- [Jupyter Notebook documentation](https://jupyter-notebook.readthedocs.io/en/stable/notebook.html#basic-workflow)\n",
    "- [Jupyter Notebook Tips, Tricks, and Shortcuts](https://www.dataquest.io/blog/jupyter-notebook-tips-tricks-shortcuts/)\n",
    "- [python random docs](https://docs.python.org/3/library/random.html#module-random)\n",
    "- [A Concrete Introduction to Probability (using Python) by Peter Norvig](https://nbviewer.jupyter.org/url/norvig.com/ipython/Probability.ipynb) \n",
    "Note: I have not actually read through this in detail yet. It is linked in the python random module documentation.\n",
    "- [wolfram mathworld](http://mathworld.wolfram.com/topics/StatisticalDistributions.html)\n",
    "- [stattrek](https://stattrek.com)\n",
    "\n",
    "-[LaTeX equations in Jupyter](https://jupyter-notebook.readthedocs.io/en/stable/examples/Notebook/Working%20With%20Markdown%20Cells.html#LaTeX-equations)\n",
    "\n",
    "\n",
    "[Back to top](#toc)"
   ]
  },
  {
   "cell_type": "code",
   "execution_count": null,
   "metadata": {},
   "outputs": [],
   "source": [
    "import random\n",
    "random.randrange(300,500)"
   ]
  },
  {
   "cell_type": "code",
   "execution_count": null,
   "metadata": {},
   "outputs": [],
   "source": []
  }
 ],
 "metadata": {
  "kernelspec": {
   "display_name": "Python 3",
   "language": "python",
   "name": "python3"
  },
  "language_info": {
   "codemirror_mode": {
    "name": "ipython",
    "version": 3
   },
   "file_extension": ".py",
   "mimetype": "text/x-python",
   "name": "python",
   "nbconvert_exporter": "python",
   "pygments_lexer": "ipython3",
   "version": "3.7.3"
  }
 },
 "nbformat": 4,
 "nbformat_minor": 2
}
