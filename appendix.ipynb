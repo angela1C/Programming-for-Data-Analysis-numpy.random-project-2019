{
 "cells": [
  {
   "cell_type": "markdown",
   "metadata": {},
   "source": [
    "Appendix\n",
    "\n",
    "Here I am just storing some things I am taking out of my assignment to reduce the size.\n",
    "I want to keep them as a reference point though."
   ]
  },
  {
   "cell_type": "markdown",
   "metadata": {},
   "source": [
    "\n",
    "[W3resource](https://www.w3resource.com/numpy/index.php) describes NumPy as the \n",
    "> fundamental package for scientific computing in Python. It is a Python library that provides a multidimensional array object, various derived objects (such as masked arrays and matrices), and an assortment of routines for fast operations on arrays, including mathematical, logical, shape manipulation, sorting, selecting, I/O, discrete Fourier transforms, basic linear algebra, basic statistical operations, random simulation and much more. \n",
    "\n",
    "NumPy's main data structure is the **ndarray** - a homogenuous multidimensional array object. NumPy has many mathematical functions and algorithms for doing very fast numerical operations on arrays. Batch operations avoid the need to use loops by working on entire arrays of data at a time using **vectorisation** but using similar syntax to working with scalars.\n",
    "An [array](https://en.wikipedia.org/wiki/Array_data_structure) is a data structure consisting of a collection of elements (values or variables), each identified by at least one array index or key. Python itself does not have an array data structure so the NumPy library allows for the creation and manipulatation of arrays of numbers. Although matrix operations are possible in Python, they are quite inefficient when compared to NumPy's capabilities on large multi-dimensional arrays of numbers and such matrix type operations are very commonly used when analysing data and for other computing purposes. "
   ]
  },
  {
   "cell_type": "markdown",
   "metadata": {},
   "source": [
    "<a id='Simplerandomdata'></a>\n",
    "### Simple random data functions\n",
    "- `rand(d0, d1, …, dn)`\tRandom values in a given shape.\n",
    "- `randn(d0, d1, …, dn)`\tReturn a sample (or samples) from the “standard normal” distribution.\n",
    "- `randint(low[, high, size, dtype])`\tReturn random integers from low (inclusive) to high (exclusive).\n",
    "- `random_integers(low[, high, size])`\tRandom integers of type np.int between low and high, inclusive.\n",
    "- `random_sample([size])`\tReturn random floats in the half-open interval `[0.0, 1.0)`.\n",
    "- `random([size])`\tReturn random floats in the half-open interval `[0.0, 1.0)`.\n",
    "- `ranf([size])`\tReturn random floats in the half-open interval `[0.0, 1.0)`.\n",
    "- `sample([size])`\tReturn random floats in the half-open interval `[0.0, 1.0)`.\n",
    "- `choice(a[, size, replace, p])`\tGenerates a random sample from a given 1-D array\n",
    "- `bytes(length)`\tReturn random bytes."
   ]
  },
  {
   "cell_type": "markdown",
   "metadata": {},
   "source": []
  },
  {
   "cell_type": "markdown",
   "metadata": {},
   "source": []
  },
  {
   "cell_type": "markdown",
   "metadata": {},
   "source": []
  }
 ],
 "metadata": {
  "kernelspec": {
   "display_name": "Python 3",
   "language": "python",
   "name": "python3"
  },
  "language_info": {
   "codemirror_mode": {
    "name": "ipython",
    "version": 3
   },
   "file_extension": ".py",
   "mimetype": "text/x-python",
   "name": "python",
   "nbconvert_exporter": "python",
   "pygments_lexer": "ipython3",
   "version": "3.7.3"
  }
 },
 "nbformat": 4,
 "nbformat_minor": 2
}
